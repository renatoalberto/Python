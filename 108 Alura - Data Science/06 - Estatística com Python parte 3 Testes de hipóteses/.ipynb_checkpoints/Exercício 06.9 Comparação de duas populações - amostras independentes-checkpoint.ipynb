{
 "cells": [
  {
   "cell_type": "markdown",
   "id": "855f6b08",
   "metadata": {},
   "source": [
    "# Testando teorias"
   ]
  },
  {
   "cell_type": "markdown",
   "id": "6ecbe020",
   "metadata": {},
   "source": [
    "### <font color='blue'>Teste de Mann-Whitney</font>"
   ]
  },
  {
   "cell_type": "markdown",
   "id": "ede8c174",
   "metadata": {},
   "source": [
    "Um professor acredita que alunos que praticam exercícios físicos têm uma performance média escolar superior àquela obtida por alunos que não praticam. Para provar sua teoria, selecionou duas amostras aleatórias, uma com 9 alunos que não praticam exercícios físicos e outra com 10 alunos que cultivam o hábito de se exercitar. A tabela abaixo mostra as notas dos alunos no último ano:"
   ]
  },
  {
   "cell_type": "markdown",
   "id": "e6978afb",
   "metadata": {},
   "source": [
    "|Sem exercícios|Com exercícios|\n",
    "|---|---|\n",
    "|7|8|\n",
    "|6|7|\n",
    "|7|6|\n",
    "|8|6|\n",
    "|6|8|\n",
    "|8|6|\n",
    "|6|10|\n",
    "|9|6|\n",
    "|5|7|\n",
    "||8|"
   ]
  },
  {
   "cell_type": "markdown",
   "id": "61e97b9e",
   "metadata": {},
   "source": [
    "Teste a hipótese da média das notas dos alunos que praticam exercícios ser maior que a média das notas dos alunos que não praticam. Assinale a alternativa que apresenta o resultado do teste (estatística de teste u e decisão do teste). Considere um nível de significância de 10%."
   ]
  },
  {
   "cell_type": "code",
   "execution_count": 9,
   "id": "fc3bb7cc",
   "metadata": {},
   "outputs": [],
   "source": [
    "import pandas as pd\n",
    "from scipy.stats import mannwhitneyu"
   ]
  },
  {
   "cell_type": "code",
   "execution_count": 5,
   "id": "c180f6eb",
   "metadata": {},
   "outputs": [],
   "source": [
    "df_sem_exercicios = pd.Series([7, 6, 7, 8, 6, 8, 6, 9, 5])\n",
    "df_com_exercicios = pd.Series([8, 7, 6, 6, 8, 6, 10, 6, 7, 8])"
   ]
  },
  {
   "cell_type": "code",
   "execution_count": 7,
   "id": "c273b0ab",
   "metadata": {},
   "outputs": [
    {
     "name": "stdout",
     "output_type": "stream",
     "text": [
      "Média da notas sem exercícios - 6.888888888888889\n",
      "Média da notas som exercícios - 7.2\n"
     ]
    }
   ],
   "source": [
    "print(f'Média da notas sem exercícios - {df_sem_exercicios.mean()}')\n",
    "print(f'Média da notas som exercícios - {df_com_exercicios.mean()}')"
   ]
  },
  {
   "cell_type": "code",
   "execution_count": 8,
   "id": "cd027658",
   "metadata": {},
   "outputs": [],
   "source": [
    "significancia = 0.1\n",
    "confianca = 1 - significancia"
   ]
  },
  {
   "cell_type": "code",
   "execution_count": 12,
   "id": "3711dc8a",
   "metadata": {},
   "outputs": [
    {
     "name": "stdout",
     "output_type": "stream",
     "text": [
      "u       = 50.0\n",
      "p_value = 0.35118642828565927\n"
     ]
    }
   ],
   "source": [
    "u, p_value = mannwhitneyu(df_com_exercicios, df_sem_exercicios, alternative='greater')\n",
    "\n",
    "print(f'u       = {u}')\n",
    "print(f'p_value = {p_value}')"
   ]
  },
  {
   "cell_type": "markdown",
   "id": "c9caef1a",
   "metadata": {},
   "source": [
    "### <font color='red'>Critério do valor $p$</font>\n",
    "\n",
    "> ### Rejeitar $H_0$ se o valor $p\\leq\\alpha$"
   ]
  },
  {
   "cell_type": "code",
   "execution_count": 13,
   "id": "d067dfaa",
   "metadata": {},
   "outputs": [
    {
     "name": "stdout",
     "output_type": "stream",
     "text": [
      "p_value       - 0.35\n",
      "significancia - 0.1\n",
      "\n",
      "Não pode rejeitar H0\n"
     ]
    }
   ],
   "source": [
    "print(f'p_value       - {p_value.round(2)}')\n",
    "print(f'significancia - {significancia}', end='\\n\\n')\n",
    "\n",
    "if (p_value <= significancia):\n",
    "    print('Rejeitar H0')\n",
    "else:\n",
    "    print('Não pode rejeitar H0')  "
   ]
  }
 ],
 "metadata": {
  "kernelspec": {
   "display_name": "Python 3 (ipykernel)",
   "language": "python",
   "name": "python3"
  },
  "language_info": {
   "codemirror_mode": {
    "name": "ipython",
    "version": 3
   },
   "file_extension": ".py",
   "mimetype": "text/x-python",
   "name": "python",
   "nbconvert_exporter": "python",
   "pygments_lexer": "ipython3",
   "version": "3.9.7"
  }
 },
 "nbformat": 4,
 "nbformat_minor": 5
}
