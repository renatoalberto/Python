{
 "cells": [
  {
   "cell_type": "markdown",
   "id": "7ee3a006",
   "metadata": {},
   "source": [
    "# Testando uma nova linha de shampoos"
   ]
  },
  {
   "cell_type": "markdown",
   "id": "264912c3",
   "metadata": {},
   "source": [
    "### <font color='blue'>Testes para Duas Amostras</font>"
   ]
  },
  {
   "cell_type": "markdown",
   "id": "8efee69e",
   "metadata": {},
   "source": [
    "Um fabricante de cosméticos afirma que a adição de um novo composto químico em sua linha de shampoos consegue promover em mais de 2 centímetros o crescimento dos fios de cabelo em um período de 60 dias. Duas amostras de pessoas foram selecionadas e testadas, uma utilizando o shampoo novo (com o composto) e a outra com o shampoo antigo (sem o composto).\n",
    "\n",
    "Os resultados (crescimento dos fios de cabelo em centímetros) podem ser verificados na tabela abaixo:"
   ]
  },
  {
   "cell_type": "markdown",
   "id": "caf775ee",
   "metadata": {},
   "source": [
    "|Shampoo Novo|Shampoo Antigo|\n",
    "|---|---|\n",
    "|3,4|0,3|\n",
    "|4,9|1,2|\n",
    "|2,8|1,2|\n",
    "|5,5|1,7|\n",
    "|3,7|1,1|\n",
    "|2,5|0,6|\n",
    "|4,3|1,2|\n",
    "|4,6|1,5|\n",
    "|3,7|0,5|\n",
    "|3,4|0,7|"
   ]
  },
  {
   "cell_type": "code",
   "execution_count": 18,
   "id": "e1ec16bb",
   "metadata": {},
   "outputs": [],
   "source": [
    "import pandas as pd\n",
    "import numpy  as np"
   ]
  },
  {
   "cell_type": "markdown",
   "id": "f7755d61",
   "metadata": {},
   "source": [
    "### Dados do Problema"
   ]
  },
  {
   "cell_type": "code",
   "execution_count": 25,
   "id": "c6c9d791",
   "metadata": {},
   "outputs": [],
   "source": [
    "shampoo_Novo   = pd.Series([3.4, 4.9, 2.8, 5.5, 3.7, 2.5, 4.3, 4.6, 3.7, 3.4])\n",
    "shampoo_Antigo = pd.Series([0.3, 1.2, 1.2, 1.7, 1.1, 0.6, 1.2, 1.5, 0.5, 0.7])"
   ]
  },
  {
   "cell_type": "code",
   "execution_count": 26,
   "id": "c511ea0c",
   "metadata": {},
   "outputs": [],
   "source": [
    "n_shampoo_Novo   = len(shampoo_Novo)\n",
    "n_shampoo_Antigo = len(shampoo_Antigo)"
   ]
  },
  {
   "cell_type": "markdown",
   "id": "3f189d64",
   "metadata": {},
   "source": [
    "Quando utilizamos a tabela t de Student, em teste de duas amostras, os graus de liberdade são obtidos da seguinte forma: n1 + n2 - 2;"
   ]
  },
  {
   "cell_type": "code",
   "execution_count": 27,
   "id": "da1e5187",
   "metadata": {},
   "outputs": [],
   "source": [
    "graus_de_liberdade = n_shampoo_Novo + n_shampoo_Antigo - 2"
   ]
  },
  {
   "cell_type": "code",
   "execution_count": 28,
   "id": "9653b7ce",
   "metadata": {},
   "outputs": [],
   "source": [
    "significancia = 0.05\n",
    "confianca = 1 - significancia"
   ]
  },
  {
   "cell_type": "code",
   "execution_count": 29,
   "id": "d2cbc992",
   "metadata": {},
   "outputs": [],
   "source": [
    "desvio_padrao_amostra_shampoo_Novo   = shampoo_Novo.std()\n",
    "desvio_padrao_amostra_shampoo_Antigo = shampoo_Antigo.std()"
   ]
  },
  {
   "cell_type": "code",
   "execution_count": 30,
   "id": "275036e3",
   "metadata": {},
   "outputs": [],
   "source": [
    "media_amostra_shampoo_Novo   = shampoo_Novo.mean()\n",
    "media_amostra_shampoo_Antigo = shampoo_Antigo.mean()"
   ]
  },
  {
   "cell_type": "code",
   "execution_count": 31,
   "id": "ed7c3319",
   "metadata": {},
   "outputs": [],
   "source": [
    "# testando justamente essa igualdade, quero saber se shampoo novo cresce 2cm a mais que shampoo antigo.\n",
    "D_0 = 2     "
   ]
  },
  {
   "cell_type": "markdown",
   "id": "c22d98d9",
   "metadata": {},
   "source": [
    "### **Passo 1** - formulação das hipóteses $H_0$ e $H_1$\n",
    "\n",
    "#### <font color='red'>Lembre-se, a hipótese nula sempre contém a alegação de igualdade</font>"
   ]
  },
  {
   "cell_type": "markdown",
   "id": "490087f2",
   "metadata": {},
   "source": [
    "### $\\mu_1 \\Rightarrow$ Crescimento médio dos cabelos com o uso do shampoo novo\n",
    "### $\\mu_2 \\Rightarrow$ Crescimento médio dos cabelos com o uso do shampoo antigo\n",
    "\n",
    "### $\n",
    "\\begin{cases}\n",
    "H_0: \\mu_1 \\geq \\mu_2 + 2\\\\\n",
    "H_1: \\mu_1 < \\mu_2 + 2\n",
    "\\end{cases}\n",
    "$\n",
    "\n",
    "### ou\n",
    "\n",
    "### $\n",
    "\\begin{cases}\n",
    "H_0: \\mu_1 -\\mu_2 \\geq 2\\\\\n",
    "H_1: \\mu_1 -\\mu_2 < 2\n",
    "\\end{cases}\n",
    "$"
   ]
  },
  {
   "cell_type": "markdown",
   "id": "9bfc4d04",
   "metadata": {},
   "source": [
    "### **Passo 2** - escolha da distribuição amostral adequada\n",
    "<img src='https://caelum-online-public.s3.amazonaws.com/1229-estatistica-parte3/01/img003.png' width=70%>\n",
    "\n",
    "### <font color='red'>Observação importante</font>\n",
    "> Em testes que envolvam duas amostras com o emprego da tabela $t$ de Student, o número de graus de liberdade será sempre igual a $n_1 + n_2 - 2$"
   ]
  },
  {
   "cell_type": "markdown",
   "id": "5ef4cc21",
   "metadata": {},
   "source": [
    "### O tamanho da amostra é maior que 30?\n",
    "#### Resp.: Não\n",
    "\n",
    "### População se distribui como uma normal?\n",
    "#### Resp.: Sim\n",
    "\n",
    "### O desvio padrão populacional é conhecido?\n",
    "#### Resp.: Não"
   ]
  },
  {
   "cell_type": "markdown",
   "id": "90993440",
   "metadata": {},
   "source": [
    "### **Passo 3** - fixação da significância do teste ($\\alpha$)"
   ]
  },
  {
   "cell_type": "code",
   "execution_count": 32,
   "id": "201cbf27",
   "metadata": {},
   "outputs": [],
   "source": [
    "from scipy.stats import t as t_student"
   ]
  },
  {
   "cell_type": "code",
   "execution_count": 33,
   "id": "07656b16",
   "metadata": {},
   "outputs": [
    {
     "name": "stdout",
     "output_type": "stream",
     "text": [
      "Método t_student.ppf(0.95, 18)\n"
     ]
    },
    {
     "data": {
      "text/plain": [
       "1.7341"
      ]
     },
     "execution_count": 33,
     "metadata": {},
     "output_type": "execute_result"
    }
   ],
   "source": [
    "print(f'Método t_student.ppf({confianca}, {graus_de_liberdade})')\n",
    "t_alpha = t_student.ppf(confianca, graus_de_liberdade)\n",
    "t_alpha.round(4)"
   ]
  },
  {
   "cell_type": "markdown",
   "id": "fa848d34",
   "metadata": {},
   "source": [
    "### **Passo 4** - cálculo da estatística-teste e verificação desse valor com as áreas de aceitação e rejeição do teste\n",
    "\n",
    "# $$t = \\frac{(\\bar{x_1} - \\bar{x_2})-D_0}{\\sqrt{\\frac{s_1^2}{n_1} + \\frac{s_2^2}{n_2}}}$$"
   ]
  },
  {
   "cell_type": "code",
   "execution_count": 34,
   "id": "953f7e78",
   "metadata": {},
   "outputs": [
    {
     "data": {
      "text/plain": [
       "2.6646"
      ]
     },
     "execution_count": 34,
     "metadata": {},
     "output_type": "execute_result"
    }
   ],
   "source": [
    "numerador = ((media_amostra_shampoo_Novo - media_amostra_shampoo_Antigo) - D_0) \n",
    "denominador = np.sqrt((desvio_padrao_amostra_shampoo_Novo**2 / n_shampoo_Novo) + (desvio_padrao_amostra_shampoo_Antigo**2 / n_shampoo_Antigo))\n",
    "\n",
    "t = numerador / denominador\n",
    "t.round(4)"
   ]
  },
  {
   "cell_type": "markdown",
   "id": "a68359dd",
   "metadata": {},
   "source": [
    "### **Passo 5** - Aceitação ou rejeição da hipótese nula"
   ]
  },
  {
   "cell_type": "markdown",
   "id": "48a4b0af",
   "metadata": {},
   "source": [
    "<img src='https://caelum-online-public.s3.amazonaws.com/1229-estatistica-parte3/01/img014.png' width=90%>"
   ]
  },
  {
   "cell_type": "markdown",
   "id": "903dc99f",
   "metadata": {},
   "source": [
    "### <font color='red'>Critério do valor crítico</font>\n",
    "\n",
    "> ### Teste Unicaudal\n",
    "> ### Rejeitar $H_0$ se $t \\geq t_{\\alpha}$"
   ]
  },
  {
   "cell_type": "code",
   "execution_count": 23,
   "id": "a53e0acb",
   "metadata": {},
   "outputs": [
    {
     "name": "stdout",
     "output_type": "stream",
     "text": [
      "Rejeitar H0\n"
     ]
    }
   ],
   "source": [
    "if(t >= t_alpha):\n",
    "    print('Rejeitar H0')\n",
    "else:\n",
    "    print('Não pode rejeitar H0')"
   ]
  },
  {
   "cell_type": "markdown",
   "id": "11fccae7",
   "metadata": {},
   "source": [
    "### <font color='green'>Conclusão: Com um nível de confiança de 95% rejeitamos $H_0$, isto é, concluímos que o crescimento media do cabelo com o shampoo novo não é 2cm maior que o crescimento médio do cabelo com o shampoo antigo.</font>"
   ]
  }
 ],
 "metadata": {
  "kernelspec": {
   "display_name": "Python 3 (ipykernel)",
   "language": "python",
   "name": "python3"
  },
  "language_info": {
   "codemirror_mode": {
    "name": "ipython",
    "version": 3
   },
   "file_extension": ".py",
   "mimetype": "text/x-python",
   "name": "python",
   "nbconvert_exporter": "python",
   "pygments_lexer": "ipython3",
   "version": "3.9.7"
  }
 },
 "nbformat": 4,
 "nbformat_minor": 5
}
