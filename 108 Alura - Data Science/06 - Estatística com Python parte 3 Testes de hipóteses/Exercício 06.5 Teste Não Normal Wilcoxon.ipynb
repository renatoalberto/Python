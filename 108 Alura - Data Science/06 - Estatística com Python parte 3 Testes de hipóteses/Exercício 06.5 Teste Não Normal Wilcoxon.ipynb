{
 "cells": [
  {
   "cell_type": "markdown",
   "id": "eaf7dfed",
   "metadata": {},
   "source": [
    "# A importância dos cursos da Alura"
   ]
  },
  {
   "cell_type": "markdown",
   "id": "a5cc30a4",
   "metadata": {},
   "source": [
    "### <font color='blue'> Teste não paramétrico de Wilcoxon<font>"
   ]
  },
  {
   "cell_type": "markdown",
   "id": "28e76cc5",
   "metadata": {},
   "source": [
    "Desconfiado da eficiência dos cursos e materiais de estudo online da Alura, um professor resolveu realizar um teste com um grupo de 14 alunos de sua classe. Para isto, ele submeteu estes alunos a duas etapas distintas e logo depois de cada etapa, aplicou uma avaliação. Na etapa inicial, foram oferecidas aulas normais, sem a utilização do material de apoio da Alura. Na segunda etapa, foram também oferecidas aulas normais, mas com a utilização do material de apoio da Alura. As notas obtidas pelos alunos estão na tabela abaixo:"
   ]
  },
  {
   "cell_type": "markdown",
   "id": "222b63cf",
   "metadata": {},
   "source": [
    "|Aluno|Sem Alura|Com Alura|\n",
    "|---|---|---|\n",
    "|Aluno A|7|10|\n",
    "|Aluno B|8|10|\n",
    "|Aluno C|6|9|\n",
    "|Aluno D|6|9|\n",
    "|Aluno E|10|9|\n",
    "|Aluno F|4|7|\n",
    "|Aluno G|2|5|\n",
    "|Aluno H|5|8|\n",
    "|Aluno I|9|10|\n",
    "|Aluno J|2|6|\n",
    "|Aluno K|4|3|\n",
    "|Aluno L|9|7|\n",
    "|Aluno M|1|4|\n",
    "|Aluno N|10|8|"
   ]
  },
  {
   "cell_type": "markdown",
   "id": "71f11cd7",
   "metadata": {},
   "source": [
    "Assinale a alternativa que apresenta o resultado do teste, não paramétrico de Wilcoxon, aplicado pelo professor (estatística de teste T e decisão do teste). Considere um nível de significância de 10%."
   ]
  },
  {
   "cell_type": "code",
   "execution_count": 4,
   "id": "b39fd5d2",
   "metadata": {},
   "outputs": [],
   "source": [
    "from scipy.stats import wilcoxon\n",
    "import pandas as pd"
   ]
  },
  {
   "cell_type": "code",
   "execution_count": 13,
   "id": "05d4c7b2",
   "metadata": {},
   "outputs": [],
   "source": [
    "significancia = 0.1\n",
    "confianca = 1 - significancia"
   ]
  },
  {
   "cell_type": "code",
   "execution_count": 2,
   "id": "b53db8ba",
   "metadata": {},
   "outputs": [
    {
     "data": {
      "text/plain": [
       "{'Sem Alura': [5, 8, 6, 6, 10, 4, 2, 5, 9, 2, 4, 9, 1, 10],\n",
       " 'Com Alura': [10, 10, 9, 9, 9, 7, 5, 8, 10, 6, 3, 7, 4, 8]}"
      ]
     },
     "execution_count": 2,
     "metadata": {},
     "output_type": "execute_result"
    }
   ],
   "source": [
    "alunos = {\n",
    "    'Sem Alura' : [5, 8, 6, 6, 10, 4, 2, 5, 9, 2, 4, 9, 1, 10],\n",
    "    'Com Alura' : [10, 10, 9, 9, 9, 7, 5, 8, 10, 6, 3, 7, 4, 8]\n",
    "}\n",
    "\n",
    "alunos"
   ]
  },
  {
   "cell_type": "code",
   "execution_count": 8,
   "id": "35403d8f",
   "metadata": {},
   "outputs": [
    {
     "data": {
      "text/html": [
       "<div>\n",
       "<style scoped>\n",
       "    .dataframe tbody tr th:only-of-type {\n",
       "        vertical-align: middle;\n",
       "    }\n",
       "\n",
       "    .dataframe tbody tr th {\n",
       "        vertical-align: top;\n",
       "    }\n",
       "\n",
       "    .dataframe thead th {\n",
       "        text-align: right;\n",
       "    }\n",
       "</style>\n",
       "<table border=\"1\" class=\"dataframe\">\n",
       "  <thead>\n",
       "    <tr style=\"text-align: right;\">\n",
       "      <th></th>\n",
       "      <th>Sem Alura</th>\n",
       "      <th>Com Alura</th>\n",
       "    </tr>\n",
       "  </thead>\n",
       "  <tbody>\n",
       "    <tr>\n",
       "      <th>0</th>\n",
       "      <td>5</td>\n",
       "      <td>10</td>\n",
       "    </tr>\n",
       "    <tr>\n",
       "      <th>1</th>\n",
       "      <td>8</td>\n",
       "      <td>10</td>\n",
       "    </tr>\n",
       "    <tr>\n",
       "      <th>2</th>\n",
       "      <td>6</td>\n",
       "      <td>9</td>\n",
       "    </tr>\n",
       "    <tr>\n",
       "      <th>3</th>\n",
       "      <td>6</td>\n",
       "      <td>9</td>\n",
       "    </tr>\n",
       "    <tr>\n",
       "      <th>4</th>\n",
       "      <td>10</td>\n",
       "      <td>9</td>\n",
       "    </tr>\n",
       "    <tr>\n",
       "      <th>5</th>\n",
       "      <td>4</td>\n",
       "      <td>7</td>\n",
       "    </tr>\n",
       "    <tr>\n",
       "      <th>6</th>\n",
       "      <td>2</td>\n",
       "      <td>5</td>\n",
       "    </tr>\n",
       "    <tr>\n",
       "      <th>7</th>\n",
       "      <td>5</td>\n",
       "      <td>8</td>\n",
       "    </tr>\n",
       "    <tr>\n",
       "      <th>8</th>\n",
       "      <td>9</td>\n",
       "      <td>10</td>\n",
       "    </tr>\n",
       "    <tr>\n",
       "      <th>9</th>\n",
       "      <td>2</td>\n",
       "      <td>6</td>\n",
       "    </tr>\n",
       "    <tr>\n",
       "      <th>10</th>\n",
       "      <td>4</td>\n",
       "      <td>3</td>\n",
       "    </tr>\n",
       "    <tr>\n",
       "      <th>11</th>\n",
       "      <td>9</td>\n",
       "      <td>7</td>\n",
       "    </tr>\n",
       "    <tr>\n",
       "      <th>12</th>\n",
       "      <td>1</td>\n",
       "      <td>4</td>\n",
       "    </tr>\n",
       "    <tr>\n",
       "      <th>13</th>\n",
       "      <td>10</td>\n",
       "      <td>8</td>\n",
       "    </tr>\n",
       "  </tbody>\n",
       "</table>\n",
       "</div>"
      ],
      "text/plain": [
       "    Sem Alura  Com Alura\n",
       "0           5         10\n",
       "1           8         10\n",
       "2           6          9\n",
       "3           6          9\n",
       "4          10          9\n",
       "5           4          7\n",
       "6           2          5\n",
       "7           5          8\n",
       "8           9         10\n",
       "9           2          6\n",
       "10          4          3\n",
       "11          9          7\n",
       "12          1          4\n",
       "13         10          8"
      ]
     },
     "execution_count": 8,
     "metadata": {},
     "output_type": "execute_result"
    }
   ],
   "source": [
    "df_alunos = pd.DataFrame(alunos)\n",
    "\n",
    "df_alunos"
   ]
  },
  {
   "cell_type": "code",
   "execution_count": 12,
   "id": "3809910c",
   "metadata": {},
   "outputs": [
    {
     "name": "stdout",
     "output_type": "stream",
     "text": [
      "𝑇       - 14.0\n",
      "p_valor - 0.013427734375\n"
     ]
    }
   ],
   "source": [
    "# Retorno:\n",
    "#   * 𝑇  = menor das somas de postos de mesmo sinal\n",
    "#   * p_valor\n",
    "T, p_valor = wilcoxon(df_alunos['Sem Alura'], df_alunos['Com Alura'])\n",
    "\n",
    "print(f'𝑇       - {T}')\n",
    "print(f'p_valor - {p_valor}')"
   ]
  },
  {
   "cell_type": "code",
   "execution_count": 14,
   "id": "61957cad",
   "metadata": {},
   "outputs": [
    {
     "name": "stdout",
     "output_type": "stream",
     "text": [
      "p_valor       - 0.013427734375\n",
      "significancia - 0.1\n",
      "\n",
      "Rejeitar H0\n"
     ]
    }
   ],
   "source": [
    "print(f'p_valor       - {p_valor}')\n",
    "print(f'significancia - {significancia}', end='\\n\\n')\n",
    "\n",
    "if (p_valor <= significancia):\n",
    "    print('Rejeitar H0')\n",
    "else:\n",
    "    print('Não pode rejeitar H0')  "
   ]
  }
 ],
 "metadata": {
  "kernelspec": {
   "display_name": "Python 3 (ipykernel)",
   "language": "python",
   "name": "python3"
  },
  "language_info": {
   "codemirror_mode": {
    "name": "ipython",
    "version": 3
   },
   "file_extension": ".py",
   "mimetype": "text/x-python",
   "name": "python",
   "nbconvert_exporter": "python",
   "pygments_lexer": "ipython3",
   "version": "3.9.7"
  }
 },
 "nbformat": 4,
 "nbformat_minor": 5
}
