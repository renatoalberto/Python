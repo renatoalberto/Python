{
 "cells": [
  {
   "cell_type": "markdown",
   "metadata": {
    "colab_type": "text",
    "id": "WvMflodMjQKe"
   },
   "source": [
    "# <font color=green size=10>CURSO DE ESTATÍSTICA - PARTE 3</font>\n",
    "\n",
    "***\n",
    "\n",
    "## Trabalho sobre testes de hipóteses\n",
    "\n",
    "Utilizando os conhecimentos adquiridos em nosso treinamento realize o teste de hipóteses proposto abaixo.\n",
    "\n",
    "Siga o roteiro proposto e vá completando as células vazias. Procure pensar em mais testes interessantes que podem ser realizados com o nosso dataset."
   ]
  },
  {
   "cell_type": "markdown",
   "metadata": {
    "colab_type": "text",
    "id": "cVgsZ_E3jQKg"
   },
   "source": [
    "# <font color=green>DATASET DO PROJETO</font>\n",
    "***"
   ]
  },
  {
   "cell_type": "markdown",
   "metadata": {
    "colab_type": "text",
    "id": "iN1gIbaKjQKh"
   },
   "source": [
    "### Pesquisa Nacional por Amostra de Domicílios - 2015\n",
    "\n",
    "A <b>Pesquisa Nacional por Amostra de Domicílios - PNAD</b> investiga anualmente, de forma permanente, características gerais da população, de educação, trabalho, rendimento e habitação e outras, com periodicidade variável, de acordo com as necessidades de informação para o país, como as características sobre migração, fecundidade, nupcialidade, saúde, segurança alimentar, entre outros temas. O levantamento dessas estatísticas constitui, ao longo dos 49 anos de realização da pesquisa, um importante instrumento para formulação, validação e avaliação de políticas orientadas para o desenvolvimento socioeconômico e a melhoria das condições de vida no Brasil."
   ]
  },
  {
   "cell_type": "markdown",
   "metadata": {
    "colab_type": "text",
    "id": "U6V7br1RjQKi"
   },
   "source": [
    "### Fonte dos Dados\n",
    "\n",
    "https://ww2.ibge.gov.br/home/estatistica/populacao/trabalhoerendimento/pnad2015/microdados.shtm"
   ]
  },
  {
   "cell_type": "markdown",
   "metadata": {
    "colab_type": "text",
    "id": "r0Fe_qnzjQKj"
   },
   "source": [
    "### Variáveis utilizadas\n",
    "\n",
    "> ### Renda\n",
    "> ***\n",
    "\n",
    "Rendimento mensal do trabalho principal para pessoas de 10 anos ou mais de idade.\n",
    "\n",
    "> ### Idade\n",
    "> ***\n",
    "\n",
    "Idade do morador na data de referência em anos.\n",
    "\n",
    "> ### Altura (elaboração própria)\n",
    "> ***\n",
    "\n",
    "Altura do morador em metros.\n",
    "\n",
    "> ### UF\n",
    "> ***\n",
    "\n",
    "|Código|Descrição|\n",
    "|---|---|\n",
    "|11|Rondônia|\n",
    "|12|Acre|\n",
    "|13|Amazonas|\n",
    "|14|Roraima|\n",
    "|15|Pará|\n",
    "|16|Amapá|\n",
    "|17|Tocantins|\n",
    "|21|Maranhão|\n",
    "|22|Piauí|\n",
    "|23|Ceará|\n",
    "|24|Rio Grande do Norte|\n",
    "|25|Paraíba|\n",
    "|26|Pernambuco|\n",
    "|27|Alagoas|\n",
    "|28|Sergipe|\n",
    "|29|Bahia|\n",
    "|31|Minas Gerais|\n",
    "|32|Espírito Santo|\n",
    "|33|Rio de Janeiro|\n",
    "|35|São Paulo|\n",
    "|41|Paraná|\n",
    "|42|Santa Catarina|\n",
    "|43|Rio Grande do Sul|\n",
    "|50|Mato Grosso do Sul|\n",
    "|51|Mato Grosso|\n",
    "|52|Goiás|\n",
    "|53|Distrito Federal|\n",
    "\n",
    "> ### Sexo\t\n",
    "> ***\n",
    "\n",
    "|Código|Descrição|\n",
    "|---|---|\n",
    "|0|Masculino|\n",
    "|1|Feminino|\n",
    "\n",
    "> ### Anos de Estudo\n",
    "> ***\n",
    "\n",
    "|Código|Descrição|\n",
    "|---|---|\n",
    "|1|Sem instrução e menos de 1 ano|\n",
    "|2|1 ano|\n",
    "|3|2 anos|\n",
    "|4|3 anos|\n",
    "|5|4 anos|\n",
    "|6|5 anos|\n",
    "|7|6 anos|\n",
    "|8|7 anos|\n",
    "|9|8 anos|\n",
    "|10|9 anos|\n",
    "|11|10 anos|\n",
    "|12|11 anos|\n",
    "|13|12 anos|\n",
    "|14|13 anos|\n",
    "|15|14 anos|\n",
    "|16|15 anos ou mais|\n",
    "|17|Não determinados| \n",
    "||Não aplicável|\n",
    "\n",
    "> ### Cor\n",
    "> ***\n",
    "\n",
    "|Código|Descrição|\n",
    "|---|---|\n",
    "|0|Indígena|\n",
    "|2|Branca|\n",
    "|4|Preta|\n",
    "|6|Amarela|\n",
    "|8|Parda|\n",
    "|9|Sem declaração|"
   ]
  },
  {
   "cell_type": "markdown",
   "metadata": {
    "colab_type": "text",
    "id": "OK1IQH5cX7Gb"
   },
   "source": [
    "#### <font color='red'>Observação</font>\n",
    "***\n",
    "> Os seguintes tratamentos foram realizados nos dados originais:\n",
    "> 1. Foram eliminados os registros onde a <b>Renda</b> era inválida (999 999 999 999);\n",
    "> 2. Foram eliminados os registros onde a <b>Renda</b> era missing;\n",
    "> 3. Foram considerados somente os registros das <b>Pessoas de Referência</b> de cada domicílio (responsável pelo domicílio)."
   ]
  },
  {
   "cell_type": "markdown",
   "metadata": {
    "colab_type": "text",
    "id": "ZIqLOffNTg1Y"
   },
   "source": [
    "***\n",
    "***"
   ]
  },
  {
   "cell_type": "markdown",
   "metadata": {
    "colab_type": "text",
    "id": "8Rw70V6ojQKk"
   },
   "source": [
    "### Utilize a célula abaixo para importar as biblioteca que precisar para executar as tarefas\n",
    "#### <font color='red'>Sugestões: pandas, numpy, scipy, statsmodels</font>"
   ]
  },
  {
   "cell_type": "code",
   "execution_count": 27,
   "metadata": {
    "colab": {},
    "colab_type": "code",
    "id": "fcTgimHBybMz"
   },
   "outputs": [],
   "source": [
    "import numpy as np\n",
    "import pandas as pd\n",
    "from scipy.stats import norm"
   ]
  },
  {
   "cell_type": "markdown",
   "metadata": {
    "colab_type": "text",
    "id": "2a-gvBvCULwt"
   },
   "source": [
    "### Importe o dataset e armazene o conteúdo em uma DataFrame"
   ]
  },
  {
   "cell_type": "code",
   "execution_count": 4,
   "metadata": {
    "colab": {},
    "colab_type": "code",
    "id": "ufRZ7TLwjQKo"
   },
   "outputs": [],
   "source": [
    "df_dados = pd.read_csv('dados.csv', sep=',')"
   ]
  },
  {
   "cell_type": "markdown",
   "metadata": {
    "colab_type": "text",
    "id": "Oq3CKHCmTg1j"
   },
   "source": [
    "### Visualize o conteúdo do DataFrame"
   ]
  },
  {
   "cell_type": "code",
   "execution_count": 5,
   "metadata": {
    "colab": {},
    "colab_type": "code",
    "id": "GsC_WhLFjQKq",
    "scrolled": true
   },
   "outputs": [
    {
     "data": {
      "text/html": [
       "<div>\n",
       "<style scoped>\n",
       "    .dataframe tbody tr th:only-of-type {\n",
       "        vertical-align: middle;\n",
       "    }\n",
       "\n",
       "    .dataframe tbody tr th {\n",
       "        vertical-align: top;\n",
       "    }\n",
       "\n",
       "    .dataframe thead th {\n",
       "        text-align: right;\n",
       "    }\n",
       "</style>\n",
       "<table border=\"1\" class=\"dataframe\">\n",
       "  <thead>\n",
       "    <tr style=\"text-align: right;\">\n",
       "      <th></th>\n",
       "      <th>UF</th>\n",
       "      <th>Sexo</th>\n",
       "      <th>Idade</th>\n",
       "      <th>Cor</th>\n",
       "      <th>Anos de Estudo</th>\n",
       "      <th>Renda</th>\n",
       "      <th>Altura</th>\n",
       "    </tr>\n",
       "  </thead>\n",
       "  <tbody>\n",
       "    <tr>\n",
       "      <th>0</th>\n",
       "      <td>11</td>\n",
       "      <td>0</td>\n",
       "      <td>23</td>\n",
       "      <td>8</td>\n",
       "      <td>12</td>\n",
       "      <td>800</td>\n",
       "      <td>1.603808</td>\n",
       "    </tr>\n",
       "    <tr>\n",
       "      <th>1</th>\n",
       "      <td>11</td>\n",
       "      <td>1</td>\n",
       "      <td>23</td>\n",
       "      <td>2</td>\n",
       "      <td>12</td>\n",
       "      <td>1150</td>\n",
       "      <td>1.739790</td>\n",
       "    </tr>\n",
       "    <tr>\n",
       "      <th>2</th>\n",
       "      <td>11</td>\n",
       "      <td>1</td>\n",
       "      <td>35</td>\n",
       "      <td>8</td>\n",
       "      <td>15</td>\n",
       "      <td>880</td>\n",
       "      <td>1.760444</td>\n",
       "    </tr>\n",
       "    <tr>\n",
       "      <th>3</th>\n",
       "      <td>11</td>\n",
       "      <td>0</td>\n",
       "      <td>46</td>\n",
       "      <td>2</td>\n",
       "      <td>6</td>\n",
       "      <td>3500</td>\n",
       "      <td>1.783158</td>\n",
       "    </tr>\n",
       "    <tr>\n",
       "      <th>4</th>\n",
       "      <td>11</td>\n",
       "      <td>1</td>\n",
       "      <td>47</td>\n",
       "      <td>8</td>\n",
       "      <td>9</td>\n",
       "      <td>150</td>\n",
       "      <td>1.690631</td>\n",
       "    </tr>\n",
       "  </tbody>\n",
       "</table>\n",
       "</div>"
      ],
      "text/plain": [
       "   UF  Sexo  Idade  Cor  Anos de Estudo  Renda    Altura\n",
       "0  11     0     23    8              12    800  1.603808\n",
       "1  11     1     23    2              12   1150  1.739790\n",
       "2  11     1     35    8              15    880  1.760444\n",
       "3  11     0     46    2               6   3500  1.783158\n",
       "4  11     1     47    8               9    150  1.690631"
      ]
     },
     "execution_count": 5,
     "metadata": {},
     "output_type": "execute_result"
    }
   ],
   "source": [
    "df_dados.head()"
   ]
  },
  {
   "cell_type": "markdown",
   "metadata": {
    "colab_type": "text",
    "id": "lmAJLIu8pslb"
   },
   "source": [
    "## <font color='red'>Problema</font>"
   ]
  },
  {
   "cell_type": "markdown",
   "metadata": {
    "colab_type": "text",
    "id": "0zUUY8klpslc"
   },
   "source": [
    "Você é um pesquisador que estuda o mercado de trabalho brasileiro e resolve estudar as diferenças salariais dos trabalhadores dos estados do Rio de Janeiro e de São Paulo. Durante sua pesquisa você verifica que, aparentemente, os rendimentos dos trabalhadores no estado do Rio de Janeiro são mais baixos que os rendimentos dos trabalhadores no estado de São Paulo. Para confirmar esta conclusão realize um teste de hipótese de comparação de médias em cima de duas amostras de trabalhadores dos dois estados. Siga as seguintes etapas:\n",
    "\n",
    "- Selecione duas amostras de **500 trabalhadores** para cada um dos dois estados (variável UF) para realizar o teste. Utilize o **parâmetro random_state=101**.\n",
    "- Considere o **nível de significância de 5%**.\n",
    "- Teste a hipótese de que a **renda média dos trabalhadores do Rio de Janeiro é menor que a renda média dos trabalhadores de São Paulo**."
   ]
  },
  {
   "cell_type": "markdown",
   "metadata": {
    "colab_type": "text",
    "id": "WUknTBZgpslc"
   },
   "source": [
    "---"
   ]
  },
  {
   "cell_type": "markdown",
   "metadata": {
    "colab_type": "text",
    "id": "xzGuwM4xpslc"
   },
   "source": [
    "### Seleção das amostras\n",
    "\n",
    "> ### UF\n",
    "> ***\n",
    "\n",
    "|Código|Descrição|\n",
    "|---|---|\n",
    "|33|Rio de Janeiro|\n",
    "|35|São Paulo|"
   ]
  },
  {
   "cell_type": "code",
   "execution_count": 45,
   "metadata": {
    "colab": {},
    "colab_type": "code",
    "id": "nuNSrzfYpsld",
    "scrolled": true
   },
   "outputs": [],
   "source": [
    "df_rj = df_dados.query('UF == 33').sample(n = 500, random_state=101).Renda"
   ]
  },
  {
   "cell_type": "code",
   "execution_count": 46,
   "metadata": {
    "colab": {},
    "colab_type": "code",
    "id": "W-W9IOs1psle",
    "scrolled": true
   },
   "outputs": [],
   "source": [
    "df_sp = df_dados.query('UF == 35').sample(n = 500, random_state=101).Renda"
   ]
  },
  {
   "cell_type": "markdown",
   "metadata": {
    "colab_type": "text",
    "id": "FOFa-cHwpslg"
   },
   "source": [
    "### Dados do problema\n",
    "Obter média e desvio-padrão para as duas amostras"
   ]
  },
  {
   "cell_type": "code",
   "execution_count": 47,
   "metadata": {
    "colab": {},
    "colab_type": "code",
    "id": "BGyXCbompslh"
   },
   "outputs": [
    {
     "name": "stdout",
     "output_type": "stream",
     "text": [
      "Média da renda do estado do Rio de Janeiro - 2240.518\n"
     ]
    }
   ],
   "source": [
    "media_rj = df_rj.mean()\n",
    "print(f'Média da renda do estado do Rio de Janeiro - {media_rj}')"
   ]
  },
  {
   "cell_type": "code",
   "execution_count": 48,
   "metadata": {
    "colab": {},
    "colab_type": "code",
    "id": "RoxFOCA3pslk"
   },
   "outputs": [
    {
     "name": "stdout",
     "output_type": "stream",
     "text": [
      "Média da renda do estado de São Paulo - 2839.352\n"
     ]
    }
   ],
   "source": [
    "media_sp = df_sp.mean()\n",
    "print(f'Média da renda do estado de São Paulo - {media_sp}')"
   ]
  },
  {
   "cell_type": "code",
   "execution_count": 49,
   "metadata": {
    "colab": {},
    "colab_type": "code",
    "id": "Of8L6Hygpsll"
   },
   "outputs": [
    {
     "name": "stdout",
     "output_type": "stream",
     "text": [
      "Desvio padrão da renda do estado do Rio de Janeiro - 4643.836161867941\n"
     ]
    }
   ],
   "source": [
    "desvio_padrao_rj = df_rj.std()\n",
    "print(f'Desvio padrão da renda do estado do Rio de Janeiro - {desvio_padrao_rj}')"
   ]
  },
  {
   "cell_type": "code",
   "execution_count": 50,
   "metadata": {
    "colab": {},
    "colab_type": "code",
    "id": "-cSpXXTepsln"
   },
   "outputs": [
    {
     "name": "stdout",
     "output_type": "stream",
     "text": [
      "Desvio padrão da renda do estado de São Paulo - 3699.384225434127\n"
     ]
    }
   ],
   "source": [
    "desvio_padrao_sp = df_sp.std()\n",
    "print(f'Desvio padrão da renda do estado de São Paulo - {desvio_padrao_sp}')"
   ]
  },
  {
   "cell_type": "code",
   "execution_count": 51,
   "metadata": {},
   "outputs": [],
   "source": [
    "significancia = 0.05\n",
    "confianca = 1 - significancia\n",
    "n_sp = 500\n",
    "n_rj = 500\n",
    "\n",
    "# testando justamente essa igualdade, quero saber se renda entre os trabalhadores do estado de SP e RJ são iguais.\n",
    "D_0 = 0"
   ]
  },
  {
   "cell_type": "markdown",
   "metadata": {
    "colab_type": "text",
    "id": "Kyp6CNssrAmw"
   },
   "source": [
    "## Lembre-se..."
   ]
  },
  {
   "cell_type": "markdown",
   "metadata": {
    "colab_type": "text",
    "id": "xGGMFhzwrAmx"
   },
   "source": [
    "<img src='https://caelum-online-public.s3.amazonaws.com/1229-estatistica-parte3/01/img014.png' width=90%>"
   ]
  },
  {
   "cell_type": "markdown",
   "metadata": {
    "colab_type": "text",
    "id": "PGoWwWwjpslp"
   },
   "source": [
    "---"
   ]
  },
  {
   "cell_type": "markdown",
   "metadata": {
    "colab_type": "text",
    "id": "tO597Oxgpslp"
   },
   "source": [
    "### **Passo 1** - formulação das hipóteses $H_0$ e $H_1$\n",
    "\n",
    "#### <font color='red'>Lembre-se, a hipótese nula sempre contém a alegação de igualdade</font>"
   ]
  },
  {
   "cell_type": "markdown",
   "metadata": {
    "colab_type": "text",
    "id": "LysVU-7fpslr"
   },
   "source": [
    "### $\\mu_1 \\Rightarrow$ Média das rendas dos trabalhadores no estado de RJ\n",
    "### $\\mu_2 \\Rightarrow$ Média das rendas dos trabalhadores no estado do SP\n",
    "\n",
    "### $\n",
    "\\begin{cases}\n",
    "H_0: \\mu_1 \\geq \\mu_2\\\\\n",
    "H_1: \\mu_1 < \\mu_2\n",
    "\\end{cases}\n",
    "$\n",
    "\n",
    "### ou\n",
    "\n",
    "### $\n",
    "\\begin{cases}\n",
    "H_0: \\mu_1 -\\mu_2 \\geq 0\\\\\n",
    "H_1: \\mu_1 -\\mu_2 < 0\n",
    "\\end{cases}\n",
    "$\n",
    "\n",
    "<font color='red'>Teste unicaudal inferior.</font>"
   ]
  },
  {
   "cell_type": "markdown",
   "metadata": {
    "colab_type": "text",
    "id": "ENKqbCgQpslr"
   },
   "source": [
    "---"
   ]
  },
  {
   "cell_type": "markdown",
   "metadata": {
    "colab_type": "text",
    "id": "dBA05Y3Zpslr"
   },
   "source": [
    "### **Passo 2** - escolha da distribuição amostral adequada\n",
    "<img src='https://caelum-online-public.s3.amazonaws.com/1229-estatistica-parte3/01/img003.png' width=70%>"
   ]
  },
  {
   "cell_type": "markdown",
   "metadata": {
    "colab_type": "text",
    "id": "6_Q_Wtjlpsls"
   },
   "source": [
    "### O tamanho da amostra é maior que 30?\n",
    "#### Resp.: Sim\n",
    "\n",
    "### Podemos afirmar que a população se distribui aproximadamente como uma normal?\n",
    "#### Resp.: Não\n",
    "\n",
    "### O desvio padrão populacional é conhecido?\n",
    "#### Resp.: Não"
   ]
  },
  {
   "cell_type": "markdown",
   "metadata": {
    "colab_type": "text",
    "id": "T6sVzVjVpsls"
   },
   "source": [
    "---"
   ]
  },
  {
   "cell_type": "markdown",
   "metadata": {
    "colab_type": "text",
    "id": "SUN4yJqzpsls"
   },
   "source": [
    "### **Passo 3** - fixação da significância do teste ($\\alpha$)"
   ]
  },
  {
   "cell_type": "code",
   "execution_count": 52,
   "metadata": {
    "colab": {},
    "colab_type": "code",
    "id": "b3Y_CZmzpsls"
   },
   "outputs": [
    {
     "data": {
      "text/plain": [
       "0.05"
      ]
     },
     "execution_count": 52,
     "metadata": {},
     "output_type": "execute_result"
    }
   ],
   "source": [
    "probabilidade = significancia\n",
    "probabilidade"
   ]
  },
  {
   "cell_type": "code",
   "execution_count": 53,
   "metadata": {
    "colab": {},
    "colab_type": "code",
    "id": "qNse2bFRpslu"
   },
   "outputs": [
    {
     "data": {
      "text/plain": [
       "-1.64"
      ]
     },
     "execution_count": 53,
     "metadata": {},
     "output_type": "execute_result"
    }
   ],
   "source": [
    "z_alpha = norm.ppf(probabilidade)\n",
    "z_alpha.round(2)"
   ]
  },
  {
   "cell_type": "markdown",
   "metadata": {},
   "source": [
    "![Estatística-Teste](https://caelum-online-public.s3.amazonaws.com/1229-estatistica-parte3/01/img028.png)"
   ]
  },
  {
   "cell_type": "markdown",
   "metadata": {
    "colab_type": "text",
    "id": "xUhiEXRMpslv"
   },
   "source": [
    "---"
   ]
  },
  {
   "cell_type": "markdown",
   "metadata": {
    "colab_type": "text",
    "id": "iooB1aPHpslv"
   },
   "source": [
    "### **Passo 4** - cálculo da estatística-teste e verificação desse valor com as áreas de aceitação e rejeição do teste\n",
    "\n",
    "# $$z = \\frac{(\\bar{x_1} - \\bar{x_2})-D_0}{\\sqrt{\\frac{s_1^2}{n_1} + \\frac{s_2^2}{n_2}}}$$"
   ]
  },
  {
   "cell_type": "code",
   "execution_count": 56,
   "metadata": {
    "colab": {},
    "colab_type": "code",
    "id": "AL2i9JOTpslw"
   },
   "outputs": [
    {
     "data": {
      "text/plain": [
       "-2.2553"
      ]
     },
     "execution_count": 56,
     "metadata": {},
     "output_type": "execute_result"
    }
   ],
   "source": [
    "z = ((media_rj - media_sp) - D_0) \n",
    "\n",
    "numerador = ((media_rj - media_sp) - D_0) \n",
    "denominador = np.sqrt((desvio_padrao_rj**2 / n_rj) + (desvio_padrao_sp**2 / n_sp))\n",
    "\n",
    "z = numerador / denominador\n",
    "z.round(4)"
   ]
  },
  {
   "cell_type": "markdown",
   "metadata": {},
   "source": [
    "![Estatística-Teste](https://caelum-online-public.s3.amazonaws.com/1229-estatistica-parte3/01/img029.png)"
   ]
  },
  {
   "cell_type": "markdown",
   "metadata": {
    "colab_type": "text",
    "id": "4dn58Fc2pslx"
   },
   "source": [
    "---"
   ]
  },
  {
   "cell_type": "markdown",
   "metadata": {
    "colab_type": "text",
    "id": "P-7NL33-pslx"
   },
   "source": [
    "### **Passo 5** - Aceitação ou rejeição da hipótese nula\n",
    "<img src='https://caelum-online-public.s3.amazonaws.com/1229-estatistica-parte3/01/img014.png' width=90%>"
   ]
  },
  {
   "cell_type": "markdown",
   "metadata": {
    "colab_type": "text",
    "id": "QrObW-BXpsly"
   },
   "source": [
    "### <font color='red'>Critério do valor crítico</font>\n",
    "\n",
    "> ### Teste Unicaudal\n",
    "> ### Rejeitar $H_0$ se $z \\leq z_{\\alpha}$"
   ]
  },
  {
   "cell_type": "code",
   "execution_count": 57,
   "metadata": {
    "colab": {},
    "colab_type": "code",
    "id": "tkJSji7gpsly"
   },
   "outputs": [
    {
     "name": "stdout",
     "output_type": "stream",
     "text": [
      "𝑧  - -2.255318273608561\n",
      "𝑧𝛼  - -1.6448536269514729\n",
      "\n",
      "Rejeitar H0\n"
     ]
    }
   ],
   "source": [
    "print(f'𝑧  - {z}')\n",
    "print(f'𝑧𝛼  - {z_alpha}', end='\\n\\n')\n",
    "\n",
    "if(z <= z_alpha):\n",
    "    print('Rejeitar H0')\n",
    "else:\n",
    "    print('Não pode rejeitar H0')"
   ]
  },
  {
   "cell_type": "markdown",
   "metadata": {
    "colab_type": "text",
    "id": "cyuNEHfwpsl0"
   },
   "source": [
    "### <font color='red'>Critério do valor $p$</font>"
   ]
  },
  {
   "cell_type": "markdown",
   "metadata": {
    "colab_type": "text",
    "id": "UtWm-GiFPkyX"
   },
   "source": [
    "### Utilize DescrStatsW"
   ]
  },
  {
   "cell_type": "code",
   "execution_count": 82,
   "metadata": {
    "colab": {},
    "colab_type": "code",
    "id": "uW0uVFnFpsl1"
   },
   "outputs": [],
   "source": [
    "from statsmodels.stats.weightstats import DescrStatsW"
   ]
  },
  {
   "cell_type": "code",
   "execution_count": 83,
   "metadata": {
    "colab": {},
    "colab_type": "code",
    "id": "kP92TQqupsl1"
   },
   "outputs": [],
   "source": [
    "test_sp = DescrStatsW(df_sp)"
   ]
  },
  {
   "cell_type": "code",
   "execution_count": 84,
   "metadata": {
    "colab": {},
    "colab_type": "code",
    "id": "diOjg4G8psl2"
   },
   "outputs": [],
   "source": [
    "test_rj = DescrStatsW(df_rj)"
   ]
  },
  {
   "cell_type": "code",
   "execution_count": 85,
   "metadata": {
    "colab": {},
    "colab_type": "code",
    "id": "tweh7q_spsl5"
   },
   "outputs": [],
   "source": [
    "test = test_rj.get_compare(test_sp)"
   ]
  },
  {
   "cell_type": "code",
   "execution_count": 86,
   "metadata": {},
   "outputs": [
    {
     "name": "stdout",
     "output_type": "stream",
     "text": [
      "Estatística de teste (z) - -2.255318273608558\n",
      "Critério do valor 𝑝 (p_valor) - 0.012056679215693396\n"
     ]
    }
   ],
   "source": [
    "# larger - unicaudal superior\n",
    "# value = igual a zero - testando se a diferença entre os dois é igual a zero versus o contrário disso\n",
    "z, p_valor = test.ztest_ind(alternative='smaller', value=0)\n",
    "\n",
    "\n",
    "print(f'Estatística de teste (z) - {z}')\n",
    "print(f'Critério do valor 𝑝 (p_valor) - {p_valor}')"
   ]
  },
  {
   "cell_type": "code",
   "execution_count": 87,
   "metadata": {},
   "outputs": [
    {
     "name": "stdout",
     "output_type": "stream",
     "text": [
      "Critério do valor 𝑝 (p_valor) - 0.012056679215693396\n",
      "significancia                 - 0.05\n",
      "\n",
      "Rejeitar H0\n"
     ]
    }
   ],
   "source": [
    "print(f'Critério do valor 𝑝 (p_valor) - {p_valor}')\n",
    "print(f'significancia                 - {significancia}', end='\\n\\n')\n",
    "\n",
    "if(p_valor <= significancia):\n",
    "    print('Rejeitar H0')\n",
    "else:\n",
    "    print('Não pode rejeitar H0')"
   ]
  },
  {
   "cell_type": "markdown",
   "metadata": {
    "colab_type": "text",
    "id": "Syf0s5X2Pkye"
   },
   "source": [
    "### Utilize CompareMeans"
   ]
  },
  {
   "cell_type": "code",
   "execution_count": 88,
   "metadata": {
    "colab": {},
    "colab_type": "code",
    "id": "qRkrt2XZhL9v"
   },
   "outputs": [],
   "source": [
    "from statsmodels.stats.weightstats import CompareMeans"
   ]
  },
  {
   "cell_type": "code",
   "execution_count": 89,
   "metadata": {
    "colab": {},
    "colab_type": "code",
    "id": "tSbOZem9hLvs"
   },
   "outputs": [],
   "source": [
    "test = CompareMeans(test_rj, test_sp)"
   ]
  },
  {
   "cell_type": "code",
   "execution_count": 90,
   "metadata": {
    "colab": {},
    "colab_type": "code",
    "id": "E3NF1BzYpsl6"
   },
   "outputs": [
    {
     "name": "stdout",
     "output_type": "stream",
     "text": [
      "Estatística de teste (z) - -2.255318273608558\n",
      "Critério do valor 𝑝 (p_valor) - 0.012056679215693396\n"
     ]
    }
   ],
   "source": [
    "# larger - unicaudal superior\n",
    "# value = igual a zero - testando se a diferença entre os dois é igual a zero versus o contrário disso\n",
    "z, p_valor = test.ztest_ind(alternative='smaller', value=0)\n",
    "\n",
    "\n",
    "print(f'Estatística de teste (z) - {z}')\n",
    "print(f'Critério do valor 𝑝 (p_valor) - {p_valor}')"
   ]
  },
  {
   "cell_type": "code",
   "execution_count": 91,
   "metadata": {},
   "outputs": [
    {
     "name": "stdout",
     "output_type": "stream",
     "text": [
      "Critério do valor 𝑝 (p_valor) - 0.012056679215693396\n",
      "significancia                 - 0.05\n",
      "\n",
      "Rejeitar H0\n"
     ]
    }
   ],
   "source": [
    "print(f'Critério do valor 𝑝 (p_valor) - {p_valor}')\n",
    "print(f'significancia                 - {significancia}', end='\\n\\n')\n",
    "\n",
    "if(p_valor <= significancia):\n",
    "    print('Rejeitar H0')\n",
    "else:\n",
    "    print('Não pode rejeitar H0')"
   ]
  },
  {
   "cell_type": "markdown",
   "metadata": {
    "colab_type": "text",
    "id": "UnBVO1uDpslz"
   },
   "source": [
    "### <font color='green'>Conclusão: Com um nível de confiança de 95% rejeitamos  𝐻0 , isto é, concluímos que a média das rendas dos trabalhadores do estado do Rio de Janeiro é realmente menor que a média das rendas dos trabalhadores do estado de São Paulo. Confirmando a alegação de desigualdade de renda entre os estados.</font>"
   ]
  }
 ],
 "metadata": {
  "colab": {
   "name": "Teste_de_Hipótese.ipynb",
   "provenance": [],
   "toc_visible": true,
   "version": "0.3.2"
  },
  "kernelspec": {
   "display_name": "Python 3 (ipykernel)",
   "language": "python",
   "name": "python3"
  },
  "language_info": {
   "codemirror_mode": {
    "name": "ipython",
    "version": 3
   },
   "file_extension": ".py",
   "mimetype": "text/x-python",
   "name": "python",
   "nbconvert_exporter": "python",
   "pygments_lexer": "ipython3",
   "version": "3.9.7"
  }
 },
 "nbformat": 4,
 "nbformat_minor": 1
}
