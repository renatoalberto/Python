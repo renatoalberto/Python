{
 "cells": [
  {
   "cell_type": "markdown",
   "id": "fc7433cc",
   "metadata": {},
   "source": [
    "# Pesando embalagens"
   ]
  },
  {
   "cell_type": "markdown",
   "id": "d27cca33",
   "metadata": {},
   "source": [
    "### <font color='blue'>Teste Bicaudal</font>"
   ]
  },
  {
   "cell_type": "markdown",
   "id": "b3d5ba80",
   "metadata": {},
   "source": [
    "Um fabricante de farinha afirma que a quantidade média de farinha nas embalagens de seu principal produto é de 500 g. Um teste de pesagem em 30 embalagens amostradas ao acaso mostrou um peso médio igual à 485 g. Estudos anteriores afirmam que a <font color='green'>distribuição dos pesos segue uma normal</font> e que o desvio padrão populacional é igual a 20 g. Considerando um nível de significância igual a 5%, responda as seguintes questões:"
   ]
  },
  {
   "cell_type": "code",
   "execution_count": 1,
   "id": "9295a79a",
   "metadata": {},
   "outputs": [],
   "source": [
    "import numpy as np"
   ]
  },
  {
   "cell_type": "code",
   "execution_count": 2,
   "id": "9bf810b8",
   "metadata": {},
   "outputs": [],
   "source": [
    "media = 500\n",
    "n = 30\n",
    "media_amostra = 485\n",
    "desvio_padrao_populacao = 20\n",
    "significancia = 0.05\n",
    "confianca = 1 - significancia"
   ]
  },
  {
   "cell_type": "markdown",
   "id": "b38c8fd3",
   "metadata": {},
   "source": [
    "---"
   ]
  },
  {
   "cell_type": "markdown",
   "id": "98492633",
   "metadata": {},
   "source": [
    "### **Passo 1** - formulação das hipóteses $H_0$ e $H_1$\n",
    "\n",
    "#### <font color='red'>Lembre-se, a hipótese nula sempre contém a alegação de igualdade</font>"
   ]
  },
  {
   "cell_type": "markdown",
   "id": "2efdcad0",
   "metadata": {},
   "source": [
    "### $H_0: \\mu = 500$\n",
    "\n",
    "### $H_1: \\mu \\neq 500$"
   ]
  },
  {
   "cell_type": "markdown",
   "id": "7ef1c470",
   "metadata": {},
   "source": [
    "---"
   ]
  },
  {
   "cell_type": "markdown",
   "id": "2b7ed50f",
   "metadata": {},
   "source": [
    "### **Passo 2** - escolha da distribuição amostral adequada\n",
    "* <font color='red'>n</font>, que é o número de amostras\n",
    "* <font color='red'>σ</font>, que é o desvio padrão da população\n",
    "* <font color='red'>s</font>, que é o desvio padrão da amostra\n",
    "* <font color='red'>z</font>, que é a normal padrão \n",
    "<img src='https://caelum-online-public.s3.amazonaws.com/1229-estatistica-parte3/01/img003.png' width=70%>"
   ]
  },
  {
   "cell_type": "markdown",
   "id": "26802adf",
   "metadata": {},
   "source": [
    "### O tamanho da amostra é maior ou igual a 30?\n",
    "#### Resp.: Sim\n",
    "\n",
    "### O desvio padrão padrão populacional é conhecido?\n",
    "#### Resp.: Sim"
   ]
  },
  {
   "cell_type": "markdown",
   "id": "d0346c02",
   "metadata": {},
   "source": [
    "---"
   ]
  },
  {
   "cell_type": "markdown",
   "id": "bbe358f3",
   "metadata": {},
   "source": [
    "### **Passo 3** - fixação da significância do teste ($\\alpha$)"
   ]
  },
  {
   "cell_type": "markdown",
   "id": "c144ec3e",
   "metadata": {},
   "source": [
    "https://docs.scipy.org/doc/scipy/reference/generated/scipy.stats.norm.html"
   ]
  },
  {
   "cell_type": "code",
   "execution_count": 3,
   "id": "3fe3b932",
   "metadata": {},
   "outputs": [],
   "source": [
    "from scipy.stats import norm"
   ]
  },
  {
   "cell_type": "code",
   "execution_count": 4,
   "id": "74dcbc87",
   "metadata": {},
   "outputs": [
    {
     "data": {
      "text/plain": [
       "0.975"
      ]
     },
     "execution_count": 4,
     "metadata": {},
     "output_type": "execute_result"
    }
   ],
   "source": [
    "probabilidade = (0.5 + (confianca / 2))\n",
    "probabilidade"
   ]
  },
  {
   "cell_type": "markdown",
   "id": "861d20db",
   "metadata": {},
   "source": [
    "### Obtendo $z_{\\alpha/2}$"
   ]
  },
  {
   "cell_type": "code",
   "execution_count": 5,
   "id": "d2513b88",
   "metadata": {},
   "outputs": [
    {
     "data": {
      "text/plain": [
       "1.96"
      ]
     },
     "execution_count": 5,
     "metadata": {},
     "output_type": "execute_result"
    }
   ],
   "source": [
    "z_alpha_2 = norm.ppf(probabilidade)\n",
    "z_alpha_2.round(2)"
   ]
  },
  {
   "cell_type": "markdown",
   "id": "20cabea8",
   "metadata": {},
   "source": [
    "![Região de Aceitação](https://caelum-online-public.s3.amazonaws.com/1229-estatistica-parte3/01/img006.png)"
   ]
  },
  {
   "cell_type": "markdown",
   "id": "63e49b93",
   "metadata": {},
   "source": [
    "---"
   ]
  },
  {
   "cell_type": "markdown",
   "id": "1bd7692c",
   "metadata": {},
   "source": [
    "### **Passo 4** - cálculo da estatística-teste e verificação desse valor com as áreas de aceitação e rejeição do teste\n",
    "\n",
    "# $$z = \\frac{\\bar{x} - \\mu_0}{\\frac{s}{\\sqrt{n}}}$$"
   ]
  },
  {
   "cell_type": "code",
   "execution_count": 6,
   "id": "96efa7fd",
   "metadata": {},
   "outputs": [
    {
     "data": {
      "text/plain": [
       "-4.11"
      ]
     },
     "execution_count": 6,
     "metadata": {},
     "output_type": "execute_result"
    }
   ],
   "source": [
    "z = (media_amostra - media)  / (desvio_padrao_populacao / np.sqrt(n))\n",
    "z.round(2)"
   ]
  },
  {
   "cell_type": "markdown",
   "id": "5ed1e8f7",
   "metadata": {},
   "source": [
    "### **Passo 5** - Aceitação ou rejeição da hipótese nula"
   ]
  },
  {
   "cell_type": "markdown",
   "id": "b36b45bb",
   "metadata": {},
   "source": [
    "<img src='https://caelum-online-public.s3.amazonaws.com/1229-estatistica-parte3/01/img013.png' width=90%>"
   ]
  },
  {
   "cell_type": "markdown",
   "id": "387ca441",
   "metadata": {},
   "source": [
    "### <font color='red'>Critério do valor crítico</font>\n",
    "\n",
    "> ### Teste Bicaudal\n",
    "> ### Rejeitar $H_0$ se $z \\leq -z_{\\alpha / 2}$ ou se $z \\geq z_{\\alpha / 2}$"
   ]
  },
  {
   "cell_type": "code",
   "execution_count": 7,
   "id": "b4094462",
   "metadata": {},
   "outputs": [
    {
     "name": "stdout",
     "output_type": "stream",
     "text": [
      "z         - -4.1079\n",
      "z_alpha_2 - 1.96\n"
     ]
    }
   ],
   "source": [
    "print(f'z         - {z.round(4)}')\n",
    "print(f'z_alpha_2 - {z_alpha_2.round(4)}')"
   ]
  },
  {
   "cell_type": "code",
   "execution_count": 8,
   "id": "49ea95c5",
   "metadata": {},
   "outputs": [
    {
     "name": "stdout",
     "output_type": "stream",
     "text": [
      "Rejeitar H0\n"
     ]
    }
   ],
   "source": [
    "if z <= (- z_alpha_2):\n",
    "    print('Rejeitar H0')\n",
    "else:\n",
    "    print('Não pode rejeitar H0')  "
   ]
  },
  {
   "cell_type": "code",
   "execution_count": 9,
   "id": "2d7f3b98",
   "metadata": {},
   "outputs": [
    {
     "name": "stdout",
     "output_type": "stream",
     "text": [
      "Não pode rejeitar H0\n"
     ]
    }
   ],
   "source": [
    "if (z >= (z_alpha_2)):\n",
    "    print('Rejeitar H0')\n",
    "else:\n",
    "    print('Não pode rejeitar H0')  "
   ]
  },
  {
   "cell_type": "markdown",
   "id": "760d1923",
   "metadata": {},
   "source": [
    "#### <font color='green'>Ao nível de confiança de 95%, não podemos rejeitar a hipótese de que as embalagens de farinha contanham em média 500g.</font>"
   ]
  }
 ],
 "metadata": {
  "kernelspec": {
   "display_name": "Python 3 (ipykernel)",
   "language": "python",
   "name": "python3"
  },
  "language_info": {
   "codemirror_mode": {
    "name": "ipython",
    "version": 3
   },
   "file_extension": ".py",
   "mimetype": "text/x-python",
   "name": "python",
   "nbconvert_exporter": "python",
   "pygments_lexer": "ipython3",
   "version": "3.9.7"
  }
 },
 "nbformat": 4,
 "nbformat_minor": 5
}
