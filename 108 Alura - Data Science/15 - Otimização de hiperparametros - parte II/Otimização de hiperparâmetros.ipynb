{
 "cells": [
  {
   "attachments": {},
   "cell_type": "markdown",
   "metadata": {},
   "source": [
    "# Otimização de hiperparâmetros\n",
    "### Base de dados de carros vendidos\n",
    "Cada linha dos dados representa um veículo à venda em um site fictício de vendas de automóveis. A primeira coluna representa o preço de cada veículo; a segunda, se ele foi vendido ou não; a terceira, quantos anos esse modelo tem; e a última, a média de KM esse carro rodou por ano."
   ]
  },
  {
   "attachments": {},
   "cell_type": "markdown",
   "metadata": {},
   "source": [
    "Para instalação do graphviz clique [aqui](https://graphviz.org/download/)"
   ]
  },
  {
   "cell_type": "code",
   "execution_count": 1,
   "metadata": {},
   "outputs": [],
   "source": [
    "import pandas as pd\n",
    "import numpy as np\n",
    "\n",
    "from scipy.stats import randint\n",
    "\n",
    "from sklearn.model_selection import cross_validate\n",
    "from sklearn.model_selection import GroupKFold\n",
    "from sklearn.model_selection import KFold\n",
    "from sklearn.model_selection import GridSearchCV\n",
    "from sklearn.model_selection import RandomizedSearchCV\n",
    "from sklearn.model_selection import cross_val_score\n",
    "from sklearn.model_selection import StratifiedShuffleSplit\n",
    "from sklearn.model_selection import train_test_split\n",
    "\n",
    "from sklearn.preprocessing import StandardScaler\n",
    "\n",
    "from sklearn.dummy import DummyClassifier\n",
    "from sklearn.tree import DecisionTreeClassifier\n",
    "from sklearn.ensemble import RandomForestClassifier\n",
    "from sklearn.tree import export_graphviz\n",
    "from sklearn.svm import SVC\n",
    "\n",
    "import graphviz"
   ]
  },
  {
   "cell_type": "code",
   "execution_count": 2,
   "metadata": {},
   "outputs": [],
   "source": [
    "# Configuração do pandas para apresentar no máximo 15 linhas de um dataframe\n",
    "pd.set_option('display.max_rows',15)\n",
    "\n",
    "# Configuração do pandas para apresentar no máximo 15 colunas de um dataframe\n",
    "pd.set_option('display.max_columns',15)"
   ]
  },
  {
   "cell_type": "code",
   "execution_count": 3,
   "metadata": {},
   "outputs": [
    {
     "data": {
      "text/html": [
       "<div>\n",
       "<style scoped>\n",
       "    .dataframe tbody tr th:only-of-type {\n",
       "        vertical-align: middle;\n",
       "    }\n",
       "\n",
       "    .dataframe tbody tr th {\n",
       "        vertical-align: top;\n",
       "    }\n",
       "\n",
       "    .dataframe thead th {\n",
       "        text-align: right;\n",
       "    }\n",
       "</style>\n",
       "<table border=\"1\" class=\"dataframe\">\n",
       "  <thead>\n",
       "    <tr style=\"text-align: right;\">\n",
       "      <th></th>\n",
       "      <th>preco</th>\n",
       "      <th>vendido</th>\n",
       "      <th>idade_do_modelo</th>\n",
       "      <th>km_por_ano</th>\n",
       "    </tr>\n",
       "  </thead>\n",
       "  <tbody>\n",
       "    <tr>\n",
       "      <th>0</th>\n",
       "      <td>30941.02</td>\n",
       "      <td>1</td>\n",
       "      <td>18</td>\n",
       "      <td>35085.22134</td>\n",
       "    </tr>\n",
       "    <tr>\n",
       "      <th>1</th>\n",
       "      <td>40557.96</td>\n",
       "      <td>1</td>\n",
       "      <td>20</td>\n",
       "      <td>12622.05362</td>\n",
       "    </tr>\n",
       "    <tr>\n",
       "      <th>2</th>\n",
       "      <td>89627.50</td>\n",
       "      <td>0</td>\n",
       "      <td>12</td>\n",
       "      <td>11440.79806</td>\n",
       "    </tr>\n",
       "    <tr>\n",
       "      <th>3</th>\n",
       "      <td>95276.14</td>\n",
       "      <td>0</td>\n",
       "      <td>3</td>\n",
       "      <td>43167.32682</td>\n",
       "    </tr>\n",
       "    <tr>\n",
       "      <th>4</th>\n",
       "      <td>117384.68</td>\n",
       "      <td>1</td>\n",
       "      <td>4</td>\n",
       "      <td>12770.11290</td>\n",
       "    </tr>\n",
       "  </tbody>\n",
       "</table>\n",
       "</div>"
      ],
      "text/plain": [
       "       preco  vendido  idade_do_modelo   km_por_ano\n",
       "0   30941.02        1               18  35085.22134\n",
       "1   40557.96        1               20  12622.05362\n",
       "2   89627.50        0               12  11440.79806\n",
       "3   95276.14        0                3  43167.32682\n",
       "4  117384.68        1                4  12770.11290"
      ]
     },
     "execution_count": 3,
     "metadata": {},
     "output_type": "execute_result"
    }
   ],
   "source": [
    "uri = \"https://gist.githubusercontent.com/guilhermesilveira/e99a526b2e7ccc6c3b70f53db43a87d2/raw/1605fc74aa778066bf2e6695e24d53cf65f2f447/machine-learning-carros-simulacao.csv\"\n",
    "\n",
    "df_veiculos = pd.read_csv(uri, index_col='Unnamed: 0', header=0)\n",
    "\n",
    "df_veiculos.head()"
   ]
  },
  {
   "cell_type": "code",
   "execution_count": 4,
   "metadata": {},
   "outputs": [],
   "source": [
    "X = df_veiculos[['preco', 'idade_do_modelo', 'km_por_ano']]\n",
    "y = df_veiculos.vendido"
   ]
  },
  {
   "attachments": {},
   "cell_type": "markdown",
   "metadata": {},
   "source": [
    "### Avaliando uma taxa de acerto aceitável"
   ]
  },
  {
   "cell_type": "code",
   "execution_count": 5,
   "metadata": {},
   "outputs": [
    {
     "data": {
      "text/plain": [
       "1    58.0\n",
       "0    42.0\n",
       "Name: vendido, dtype: float64"
      ]
     },
     "execution_count": 5,
     "metadata": {},
     "output_type": "execute_result"
    }
   ],
   "source": [
    "df_veiculos.vendido.value_counts(normalize=True)*100 "
   ]
  },
  {
   "attachments": {},
   "cell_type": "markdown",
   "metadata": {},
   "source": [
    "Avaliação com Cross Validate e Dummyclassifier:</br>\n",
    "1- divide a base de dados de forma determinística, sem aleatoriedade;</br>\n",
    "2- modelo Dummyclassifier com estratégia 'stratifield' - chutar proporcionalmente.</br></br>\n",
    "<img src='https://scikit-learn.org/stable/_images/grid_search_cross_validation.png' alt=\"Como funciona o cross validate\" width=\"600\" height=\"350\"> </img>\n",
    "</br>"
   ]
  },
  {
   "cell_type": "code",
   "execution_count": 6,
   "metadata": {},
   "outputs": [
    {
     "data": {
      "text/plain": [
       "{'fit_time': array([0., 0., 0., 0., 0.]),\n",
       " 'score_time': array([0.01562166, 0.        , 0.        , 0.        , 0.        ]),\n",
       " 'test_score': array([0.4975, 0.4995, 0.5135, 0.501 , 0.5115])}"
      ]
     },
     "execution_count": 6,
     "metadata": {},
     "output_type": "execute_result"
    }
   ],
   "source": [
    "SEED = 158020\n",
    "np.random.seed(SEED)\n",
    "\n",
    "dummy_stratified = DummyClassifier(strategy='stratified')\n",
    "\n",
    "scores = cross_validate(dummy_stratified, X, y, cv=5)\n",
    "\n",
    "scores"
   ]
  },
  {
   "cell_type": "code",
   "execution_count": 7,
   "metadata": {},
   "outputs": [],
   "source": [
    "def calcula_intervao_confianca(scores):\n",
    "    media = scores.mean()\n",
    "    desvio_padrao = scores.std()\n",
    "    intervalo_confiança = ((media-2*desvio_padrao) * 100, (media+2*desvio_padrao) * 100) \n",
    "\n",
    "    print(f'A quantidade de splits é de {len(scores)} folds')\n",
    "    print(f'A média dos scores é de {media:.5f}')\n",
    "    print(f'O desvio padrão é de {desvio_padrao}')\n",
    "    print(f'O intervalo de confiança ficou entre {intervalo_confiança[0]:.2f}% e {intervalo_confiança[1]:.2f}%')"
   ]
  },
  {
   "cell_type": "code",
   "execution_count": 8,
   "metadata": {},
   "outputs": [
    {
     "name": "stdout",
     "output_type": "stream",
     "text": [
      "A quantidade de splits é de 5 folds\n",
      "A média dos scores é de 0.50460\n",
      "O desvio padrão é de 0.006575712889109417\n",
      "O intervalo de confiança ficou entre 49.14% e 51.78%\n"
     ]
    }
   ],
   "source": [
    "calcula_intervao_confianca(scores['test_score'])"
   ]
  },
  {
   "attachments": {},
   "cell_type": "markdown",
   "metadata": {},
   "source": [
    "Avaliação com Cross Validate e DecisionTreeClassifier:</br>"
   ]
  },
  {
   "cell_type": "code",
   "execution_count": 9,
   "metadata": {},
   "outputs": [
    {
     "data": {
      "text/plain": [
       "{'fit_time': array([0.01565766, 0.0155921 , 0.        , 0.01563907, 0.01561761]),\n",
       " 'score_time': array([0., 0., 0., 0., 0.]),\n",
       " 'test_score': array([0.756 , 0.7565, 0.7625, 0.7545, 0.7595])}"
      ]
     },
     "execution_count": 9,
     "metadata": {},
     "output_type": "execute_result"
    }
   ],
   "source": [
    "np.random.seed(SEED)\n",
    "\n",
    "tree_classifier = DecisionTreeClassifier(max_depth=2)\n",
    "\n",
    "scores = cross_validate(tree_classifier, X, y, cv=5)\n",
    "\n",
    "scores"
   ]
  },
  {
   "cell_type": "code",
   "execution_count": 10,
   "metadata": {},
   "outputs": [
    {
     "name": "stdout",
     "output_type": "stream",
     "text": [
      "A quantidade de splits é de 5 folds\n",
      "A média dos scores é de 0.75780\n",
      "O desvio padrão é de 0.0028565713714171354\n",
      "O intervalo de confiança ficou entre 75.21% e 76.35%\n"
     ]
    }
   ],
   "source": [
    "calcula_intervao_confianca(scores['test_score'])"
   ]
  },
  {
   "attachments": {},
   "cell_type": "markdown",
   "metadata": {},
   "source": [
    "Avaliação com GroupKFold e DecisionTreeClassifier:</br></br>\n",
    "É muito importante pensar qual tipo de teste e treino será utilizado, pois se escolhermos um tipo inapropriado, obteremos uma estimativa irreal de como esse estimador funcionará no mundo real.</br>\n",
    "Precisamos avaliar o modelo para novos carros, o GroupKfold permite fazer o cross validate sem embaralhamento, agrupando por atributo informado."
   ]
  },
  {
   "cell_type": "code",
   "execution_count": 11,
   "metadata": {},
   "outputs": [
    {
     "data": {
      "text/plain": [
       "[12, 13, 11, 14]\n",
       "Categories (23, int64): [2, 3, 4, 5, ..., 21, 22, 23, 24]"
      ]
     },
     "execution_count": 11,
     "metadata": {},
     "output_type": "execute_result"
    }
   ],
   "source": [
    "# Criando a coluna modelo_aleatório - somando um valor randomico entre 1 e 4 a coluna idade_do_modelo\n",
    "# Isso é, cada ano possui 4 modelos de veículo\n",
    "# Apesar do modelo_aleatorio ser um número, nesse caso é uma vaiável categórica\n",
    "df_veiculos_grupo = df_veiculos.copy()\n",
    "\n",
    "df_veiculos_grupo['modelo_aleatorio'] = np.random.randint(1, 5, size=df_veiculos_grupo.shape[0]) + df_veiculos_grupo.idade_do_modelo\n",
    "df_veiculos_grupo['modelo_aleatorio'] = df_veiculos_grupo['modelo_aleatorio'].astype(\"category\")\n",
    "\n",
    "# Exemplo dos 4 modelos para os carros com 10 anos\n",
    "df_veiculos_grupo.query('idade_do_modelo == 10')['modelo_aleatorio'].unique()"
   ]
  },
  {
   "cell_type": "code",
   "execution_count": 12,
   "metadata": {},
   "outputs": [
    {
     "data": {
      "text/html": [
       "<div>\n",
       "<style scoped>\n",
       "    .dataframe tbody tr th:only-of-type {\n",
       "        vertical-align: middle;\n",
       "    }\n",
       "\n",
       "    .dataframe tbody tr th {\n",
       "        vertical-align: top;\n",
       "    }\n",
       "\n",
       "    .dataframe thead th {\n",
       "        text-align: right;\n",
       "    }\n",
       "</style>\n",
       "<table border=\"1\" class=\"dataframe\">\n",
       "  <thead>\n",
       "    <tr style=\"text-align: right;\">\n",
       "      <th></th>\n",
       "      <th>preco</th>\n",
       "      <th>vendido</th>\n",
       "      <th>idade_do_modelo</th>\n",
       "      <th>km_por_ano</th>\n",
       "      <th>modelo_aleatorio</th>\n",
       "    </tr>\n",
       "  </thead>\n",
       "  <tbody>\n",
       "    <tr>\n",
       "      <th>0</th>\n",
       "      <td>30941.02</td>\n",
       "      <td>1</td>\n",
       "      <td>18</td>\n",
       "      <td>35085.22134</td>\n",
       "      <td>19</td>\n",
       "    </tr>\n",
       "    <tr>\n",
       "      <th>1</th>\n",
       "      <td>40557.96</td>\n",
       "      <td>1</td>\n",
       "      <td>20</td>\n",
       "      <td>12622.05362</td>\n",
       "      <td>24</td>\n",
       "    </tr>\n",
       "    <tr>\n",
       "      <th>2</th>\n",
       "      <td>89627.50</td>\n",
       "      <td>0</td>\n",
       "      <td>12</td>\n",
       "      <td>11440.79806</td>\n",
       "      <td>14</td>\n",
       "    </tr>\n",
       "  </tbody>\n",
       "</table>\n",
       "</div>"
      ],
      "text/plain": [
       "      preco  vendido  idade_do_modelo   km_por_ano modelo_aleatorio\n",
       "0  30941.02        1               18  35085.22134               19\n",
       "1  40557.96        1               20  12622.05362               24\n",
       "2  89627.50        0               12  11440.79806               14"
      ]
     },
     "execution_count": 12,
     "metadata": {},
     "output_type": "execute_result"
    }
   ],
   "source": [
    "df_veiculos_grupo.head(3)"
   ]
  },
  {
   "cell_type": "code",
   "execution_count": 13,
   "metadata": {},
   "outputs": [
    {
     "data": {
      "text/plain": [
       "{'fit_time': array([0.01563191, 0.01255941, 0.        , 0.01562572, 0.01562262]),\n",
       " 'score_time': array([0.        , 0.00208998, 0.        , 0.        , 0.        ]),\n",
       " 'test_score': array([0.75922233, 0.76068376, 0.74937469, 0.73880221, 0.78058445])}"
      ]
     },
     "execution_count": 13,
     "metadata": {},
     "output_type": "execute_result"
    }
   ],
   "source": [
    "cv = GroupKFold(n_splits=5)\n",
    "scores = cross_validate(tree_classifier, X, y, cv=cv, groups=df_veiculos_grupo['modelo_aleatorio'])\n",
    "\n",
    "scores"
   ]
  },
  {
   "cell_type": "code",
   "execution_count": 14,
   "metadata": {},
   "outputs": [
    {
     "name": "stdout",
     "output_type": "stream",
     "text": [
      "A quantidade de splits é de 5 folds\n",
      "A média dos scores é de 0.75773\n",
      "O desvio padrão é de 0.013866144370024005\n",
      "O intervalo de confiança ficou entre 73.00% e 78.55%\n"
     ]
    }
   ],
   "source": [
    "calcula_intervao_confianca(scores['test_score'])"
   ]
  },
  {
   "attachments": {},
   "cell_type": "markdown",
   "metadata": {},
   "source": [
    "Verificação GroupKFold com SVC"
   ]
  },
  {
   "cell_type": "code",
   "execution_count": 15,
   "metadata": {},
   "outputs": [],
   "source": [
    "scaler = StandardScaler()\n",
    "scaler.fit(X)\n",
    "\n",
    "X_scaler = scaler.transform(X)"
   ]
  },
  {
   "cell_type": "code",
   "execution_count": 16,
   "metadata": {},
   "outputs": [
    {
     "data": {
      "text/plain": [
       "{'fit_time': array([2.03163671, 1.87230611, 1.7031014 , 1.68754292, 1.78979158]),\n",
       " 'score_time': array([1.00002623, 0.84377313, 0.84374404, 0.84370613, 1.07812691]),\n",
       " 'test_score': array([0.75872383, 0.77526395, 0.75587794, 0.7705083 , 0.78008915])}"
      ]
     },
     "execution_count": 16,
     "metadata": {},
     "output_type": "execute_result"
    }
   ],
   "source": [
    "np.random.seed(SEED)\n",
    "svc = SVC()\n",
    "\n",
    "cv = GroupKFold(n_splits=5)\n",
    "scores = cross_validate(svc, X_scaler, y, cv=cv, groups=df_veiculos_grupo['modelo_aleatorio'])\n",
    "\n",
    "scores"
   ]
  },
  {
   "cell_type": "code",
   "execution_count": 17,
   "metadata": {},
   "outputs": [
    {
     "name": "stdout",
     "output_type": "stream",
     "text": [
      "A quantidade de splits é de 5 folds\n",
      "A média dos scores é de 0.76809\n",
      "O desvio padrão é de 0.009361121937234759\n",
      "O intervalo de confiança ficou entre 74.94% e 78.68%\n"
     ]
    }
   ],
   "source": [
    "calcula_intervao_confianca(scores['test_score'])"
   ]
  },
  {
   "attachments": {},
   "cell_type": "markdown",
   "metadata": {},
   "source": [
    "### Seguimos com da DecisionTreeClassifier"
   ]
  },
  {
   "cell_type": "code",
   "execution_count": 18,
   "metadata": {},
   "outputs": [
    {
     "data": {
      "text/html": [
       "<div>\n",
       "<style scoped>\n",
       "    .dataframe tbody tr th:only-of-type {\n",
       "        vertical-align: middle;\n",
       "    }\n",
       "\n",
       "    .dataframe tbody tr th {\n",
       "        vertical-align: top;\n",
       "    }\n",
       "\n",
       "    .dataframe thead th {\n",
       "        text-align: right;\n",
       "    }\n",
       "</style>\n",
       "<table border=\"1\" class=\"dataframe\">\n",
       "  <thead>\n",
       "    <tr style=\"text-align: right;\">\n",
       "      <th></th>\n",
       "      <th>Params</th>\n",
       "    </tr>\n",
       "  </thead>\n",
       "  <tbody>\n",
       "    <tr>\n",
       "      <th>ccp_alpha</th>\n",
       "      <td>0.0</td>\n",
       "    </tr>\n",
       "    <tr>\n",
       "      <th>class_weight</th>\n",
       "      <td>None</td>\n",
       "    </tr>\n",
       "    <tr>\n",
       "      <th>criterion</th>\n",
       "      <td>gini</td>\n",
       "    </tr>\n",
       "    <tr>\n",
       "      <th>max_depth</th>\n",
       "      <td>2</td>\n",
       "    </tr>\n",
       "    <tr>\n",
       "      <th>max_features</th>\n",
       "      <td>None</td>\n",
       "    </tr>\n",
       "    <tr>\n",
       "      <th>max_leaf_nodes</th>\n",
       "      <td>None</td>\n",
       "    </tr>\n",
       "    <tr>\n",
       "      <th>min_impurity_decrease</th>\n",
       "      <td>0.0</td>\n",
       "    </tr>\n",
       "    <tr>\n",
       "      <th>min_samples_leaf</th>\n",
       "      <td>1</td>\n",
       "    </tr>\n",
       "    <tr>\n",
       "      <th>min_samples_split</th>\n",
       "      <td>2</td>\n",
       "    </tr>\n",
       "    <tr>\n",
       "      <th>min_weight_fraction_leaf</th>\n",
       "      <td>0.0</td>\n",
       "    </tr>\n",
       "    <tr>\n",
       "      <th>random_state</th>\n",
       "      <td>None</td>\n",
       "    </tr>\n",
       "    <tr>\n",
       "      <th>splitter</th>\n",
       "      <td>best</td>\n",
       "    </tr>\n",
       "  </tbody>\n",
       "</table>\n",
       "</div>"
      ],
      "text/plain": [
       "                         Params\n",
       "ccp_alpha                   0.0\n",
       "class_weight               None\n",
       "criterion                  gini\n",
       "max_depth                     2\n",
       "max_features               None\n",
       "max_leaf_nodes             None\n",
       "min_impurity_decrease       0.0\n",
       "min_samples_leaf              1\n",
       "min_samples_split             2\n",
       "min_weight_fraction_leaf    0.0\n",
       "random_state               None\n",
       "splitter                   best"
      ]
     },
     "execution_count": 18,
     "metadata": {},
     "output_type": "execute_result"
    }
   ],
   "source": [
    "pd.DataFrame(tree_classifier.get_params(), index=['Params']).T"
   ]
  },
  {
   "attachments": {},
   "cell_type": "markdown",
   "metadata": {},
   "source": [
    "Visualização da árvore treinada</br></br>\n",
    "Agora que temos uma estimativa da acurácia, vamos treinar a árvore de decisão com toda a base de veículos"
   ]
  },
  {
   "cell_type": "code",
   "execution_count": 19,
   "metadata": {},
   "outputs": [
    {
     "data": {
      "text/html": [
       "<style>#sk-container-id-1 {color: black;background-color: white;}#sk-container-id-1 pre{padding: 0;}#sk-container-id-1 div.sk-toggleable {background-color: white;}#sk-container-id-1 label.sk-toggleable__label {cursor: pointer;display: block;width: 100%;margin-bottom: 0;padding: 0.3em;box-sizing: border-box;text-align: center;}#sk-container-id-1 label.sk-toggleable__label-arrow:before {content: \"▸\";float: left;margin-right: 0.25em;color: #696969;}#sk-container-id-1 label.sk-toggleable__label-arrow:hover:before {color: black;}#sk-container-id-1 div.sk-estimator:hover label.sk-toggleable__label-arrow:before {color: black;}#sk-container-id-1 div.sk-toggleable__content {max-height: 0;max-width: 0;overflow: hidden;text-align: left;background-color: #f0f8ff;}#sk-container-id-1 div.sk-toggleable__content pre {margin: 0.2em;color: black;border-radius: 0.25em;background-color: #f0f8ff;}#sk-container-id-1 input.sk-toggleable__control:checked~div.sk-toggleable__content {max-height: 200px;max-width: 100%;overflow: auto;}#sk-container-id-1 input.sk-toggleable__control:checked~label.sk-toggleable__label-arrow:before {content: \"▾\";}#sk-container-id-1 div.sk-estimator input.sk-toggleable__control:checked~label.sk-toggleable__label {background-color: #d4ebff;}#sk-container-id-1 div.sk-label input.sk-toggleable__control:checked~label.sk-toggleable__label {background-color: #d4ebff;}#sk-container-id-1 input.sk-hidden--visually {border: 0;clip: rect(1px 1px 1px 1px);clip: rect(1px, 1px, 1px, 1px);height: 1px;margin: -1px;overflow: hidden;padding: 0;position: absolute;width: 1px;}#sk-container-id-1 div.sk-estimator {font-family: monospace;background-color: #f0f8ff;border: 1px dotted black;border-radius: 0.25em;box-sizing: border-box;margin-bottom: 0.5em;}#sk-container-id-1 div.sk-estimator:hover {background-color: #d4ebff;}#sk-container-id-1 div.sk-parallel-item::after {content: \"\";width: 100%;border-bottom: 1px solid gray;flex-grow: 1;}#sk-container-id-1 div.sk-label:hover label.sk-toggleable__label {background-color: #d4ebff;}#sk-container-id-1 div.sk-serial::before {content: \"\";position: absolute;border-left: 1px solid gray;box-sizing: border-box;top: 0;bottom: 0;left: 50%;z-index: 0;}#sk-container-id-1 div.sk-serial {display: flex;flex-direction: column;align-items: center;background-color: white;padding-right: 0.2em;padding-left: 0.2em;position: relative;}#sk-container-id-1 div.sk-item {position: relative;z-index: 1;}#sk-container-id-1 div.sk-parallel {display: flex;align-items: stretch;justify-content: center;background-color: white;position: relative;}#sk-container-id-1 div.sk-item::before, #sk-container-id-1 div.sk-parallel-item::before {content: \"\";position: absolute;border-left: 1px solid gray;box-sizing: border-box;top: 0;bottom: 0;left: 50%;z-index: -1;}#sk-container-id-1 div.sk-parallel-item {display: flex;flex-direction: column;z-index: 1;position: relative;background-color: white;}#sk-container-id-1 div.sk-parallel-item:first-child::after {align-self: flex-end;width: 50%;}#sk-container-id-1 div.sk-parallel-item:last-child::after {align-self: flex-start;width: 50%;}#sk-container-id-1 div.sk-parallel-item:only-child::after {width: 0;}#sk-container-id-1 div.sk-dashed-wrapped {border: 1px dashed gray;margin: 0 0.4em 0.5em 0.4em;box-sizing: border-box;padding-bottom: 0.4em;background-color: white;}#sk-container-id-1 div.sk-label label {font-family: monospace;font-weight: bold;display: inline-block;line-height: 1.2em;}#sk-container-id-1 div.sk-label-container {text-align: center;}#sk-container-id-1 div.sk-container {/* jupyter's `normalize.less` sets `[hidden] { display: none; }` but bootstrap.min.css set `[hidden] { display: none !important; }` so we also need the `!important` here to be able to override the default hidden behavior on the sphinx rendered scikit-learn.org. See: https://github.com/scikit-learn/scikit-learn/issues/21755 */display: inline-block !important;position: relative;}#sk-container-id-1 div.sk-text-repr-fallback {display: none;}</style><div id=\"sk-container-id-1\" class=\"sk-top-container\"><div class=\"sk-text-repr-fallback\"><pre>DecisionTreeClassifier(max_depth=2)</pre><b>In a Jupyter environment, please rerun this cell to show the HTML representation or trust the notebook. <br />On GitHub, the HTML representation is unable to render, please try loading this page with nbviewer.org.</b></div><div class=\"sk-container\" hidden><div class=\"sk-item\"><div class=\"sk-estimator sk-toggleable\"><input class=\"sk-toggleable__control sk-hidden--visually\" id=\"sk-estimator-id-1\" type=\"checkbox\" checked><label for=\"sk-estimator-id-1\" class=\"sk-toggleable__label sk-toggleable__label-arrow\">DecisionTreeClassifier</label><div class=\"sk-toggleable__content\"><pre>DecisionTreeClassifier(max_depth=2)</pre></div></div></div></div></div>"
      ],
      "text/plain": [
       "DecisionTreeClassifier(max_depth=2)"
      ]
     },
     "execution_count": 19,
     "metadata": {},
     "output_type": "execute_result"
    }
   ],
   "source": [
    "tree_classifier.fit(X, y)"
   ]
  },
  {
   "cell_type": "code",
   "execution_count": 20,
   "metadata": {},
   "outputs": [
    {
     "data": {
      "image/svg+xml": "<?xml version=\"1.0\" encoding=\"UTF-8\" standalone=\"no\"?>\n<!DOCTYPE svg PUBLIC \"-//W3C//DTD SVG 1.1//EN\"\n \"http://www.w3.org/Graphics/SVG/1.1/DTD/svg11.dtd\">\n<!-- Generated by graphviz version 7.1.0 (20230121.1956)\n -->\n<!-- Title: Tree Pages: 1 -->\n<svg width=\"619pt\" height=\"314pt\"\n viewBox=\"0.00 0.00 619.00 314.00\" xmlns=\"http://www.w3.org/2000/svg\" xmlns:xlink=\"http://www.w3.org/1999/xlink\">\n<g id=\"graph0\" class=\"graph\" transform=\"scale(1 1) rotate(0) translate(4 310)\">\n<title>Tree</title>\n<polygon fill=\"white\" stroke=\"none\" points=\"-4,4 -4,-310 615,-310 615,4 -4,4\"/>\n<!-- 0 -->\n<g id=\"node1\" class=\"node\">\n<title>0</title>\n<path fill=\"#c8e4f8\" stroke=\"black\" d=\"M356.5,-306C356.5,-306 233.5,-306 233.5,-306 227.5,-306 221.5,-300 221.5,-294 221.5,-294 221.5,-235 221.5,-235 221.5,-229 227.5,-223 233.5,-223 233.5,-223 356.5,-223 356.5,-223 362.5,-223 368.5,-229 368.5,-235 368.5,-235 368.5,-294 368.5,-294 368.5,-300 362.5,-306 356.5,-306\"/>\n<text text-anchor=\"middle\" x=\"295\" y=\"-290.8\" font-family=\"Helvetica,sans-Serif\" font-size=\"14.00\">preco &lt;= 59982.246</text>\n<text text-anchor=\"middle\" x=\"295\" y=\"-275.8\" font-family=\"Helvetica,sans-Serif\" font-size=\"14.00\">gini = 0.487</text>\n<text text-anchor=\"middle\" x=\"295\" y=\"-260.8\" font-family=\"Helvetica,sans-Serif\" font-size=\"14.00\">samples = 10000</text>\n<text text-anchor=\"middle\" x=\"295\" y=\"-245.8\" font-family=\"Helvetica,sans-Serif\" font-size=\"14.00\">value = [4200, 5800]</text>\n<text text-anchor=\"middle\" x=\"295\" y=\"-230.8\" font-family=\"Helvetica,sans-Serif\" font-size=\"14.00\">class = sim</text>\n</g>\n<!-- 1 -->\n<g id=\"node2\" class=\"node\">\n<title>1</title>\n<path fill=\"#52a9e8\" stroke=\"black\" d=\"M263.5,-187C263.5,-187 140.5,-187 140.5,-187 134.5,-187 128.5,-181 128.5,-175 128.5,-175 128.5,-116 128.5,-116 128.5,-110 134.5,-104 140.5,-104 140.5,-104 263.5,-104 263.5,-104 269.5,-104 275.5,-110 275.5,-116 275.5,-116 275.5,-175 275.5,-175 275.5,-181 269.5,-187 263.5,-187\"/>\n<text text-anchor=\"middle\" x=\"202\" y=\"-171.8\" font-family=\"Helvetica,sans-Serif\" font-size=\"14.00\">preco &lt;= 40083.385</text>\n<text text-anchor=\"middle\" x=\"202\" y=\"-156.8\" font-family=\"Helvetica,sans-Serif\" font-size=\"14.00\">gini = 0.198</text>\n<text text-anchor=\"middle\" x=\"202\" y=\"-141.8\" font-family=\"Helvetica,sans-Serif\" font-size=\"14.00\">samples = 4347</text>\n<text text-anchor=\"middle\" x=\"202\" y=\"-126.8\" font-family=\"Helvetica,sans-Serif\" font-size=\"14.00\">value = [484, 3863]</text>\n<text text-anchor=\"middle\" x=\"202\" y=\"-111.8\" font-family=\"Helvetica,sans-Serif\" font-size=\"14.00\">class = sim</text>\n</g>\n<!-- 0&#45;&gt;1 -->\n<g id=\"edge1\" class=\"edge\">\n<title>0&#45;&gt;1</title>\n<path fill=\"none\" stroke=\"black\" d=\"M262.47,-222.58C255.64,-213.98 248.36,-204.82 241.3,-195.95\"/>\n<polygon fill=\"black\" stroke=\"black\" points=\"244.26,-194.04 235.29,-188.39 238.78,-198.39 244.26,-194.04\"/>\n<text text-anchor=\"middle\" x=\"231.51\" y=\"-208.34\" font-family=\"Helvetica,sans-Serif\" font-size=\"14.00\">True</text>\n</g>\n<!-- 4 -->\n<g id=\"node5\" class=\"node\">\n<title>4</title>\n<path fill=\"#f3c3a0\" stroke=\"black\" d=\"M472,-187C472,-187 306,-187 306,-187 300,-187 294,-181 294,-175 294,-175 294,-116 294,-116 294,-110 300,-104 306,-104 306,-104 472,-104 472,-104 478,-104 484,-110 484,-116 484,-116 484,-175 484,-175 484,-181 478,-187 472,-187\"/>\n<text text-anchor=\"middle\" x=\"389\" y=\"-171.8\" font-family=\"Helvetica,sans-Serif\" font-size=\"14.00\">km_por_ano &lt;= 24124.006</text>\n<text text-anchor=\"middle\" x=\"389\" y=\"-156.8\" font-family=\"Helvetica,sans-Serif\" font-size=\"14.00\">gini = 0.45</text>\n<text text-anchor=\"middle\" x=\"389\" y=\"-141.8\" font-family=\"Helvetica,sans-Serif\" font-size=\"14.00\">samples = 5653</text>\n<text text-anchor=\"middle\" x=\"389\" y=\"-126.8\" font-family=\"Helvetica,sans-Serif\" font-size=\"14.00\">value = [3716, 1937]</text>\n<text text-anchor=\"middle\" x=\"389\" y=\"-111.8\" font-family=\"Helvetica,sans-Serif\" font-size=\"14.00\">class = não</text>\n</g>\n<!-- 0&#45;&gt;4 -->\n<g id=\"edge4\" class=\"edge\">\n<title>0&#45;&gt;4</title>\n<path fill=\"none\" stroke=\"black\" d=\"M327.88,-222.58C334.79,-213.98 342.14,-204.82 349.27,-195.95\"/>\n<polygon fill=\"black\" stroke=\"black\" points=\"351.82,-198.37 355.35,-188.38 346.36,-193.98 351.82,-198.37\"/>\n<text text-anchor=\"middle\" x=\"359.01\" y=\"-208.35\" font-family=\"Helvetica,sans-Serif\" font-size=\"14.00\">False</text>\n</g>\n<!-- 2 -->\n<g id=\"node3\" class=\"node\">\n<title>2</title>\n<path fill=\"#399de5\" stroke=\"black\" d=\"M110,-68C110,-68 12,-68 12,-68 6,-68 0,-62 0,-56 0,-56 0,-12 0,-12 0,-6 6,0 12,0 12,0 110,0 110,0 116,0 122,-6 122,-12 122,-12 122,-56 122,-56 122,-62 116,-68 110,-68\"/>\n<text text-anchor=\"middle\" x=\"61\" y=\"-52.8\" font-family=\"Helvetica,sans-Serif\" font-size=\"14.00\">gini = 0.0</text>\n<text text-anchor=\"middle\" x=\"61\" y=\"-37.8\" font-family=\"Helvetica,sans-Serif\" font-size=\"14.00\">samples = 1935</text>\n<text text-anchor=\"middle\" x=\"61\" y=\"-22.8\" font-family=\"Helvetica,sans-Serif\" font-size=\"14.00\">value = [0, 1935]</text>\n<text text-anchor=\"middle\" x=\"61\" y=\"-7.8\" font-family=\"Helvetica,sans-Serif\" font-size=\"14.00\">class = sim</text>\n</g>\n<!-- 1&#45;&gt;2 -->\n<g id=\"edge2\" class=\"edge\">\n<title>1&#45;&gt;2</title>\n<path fill=\"none\" stroke=\"black\" d=\"M149.5,-103.73C137.52,-94.42 124.79,-84.54 112.84,-75.26\"/>\n<polygon fill=\"black\" stroke=\"black\" points=\"115.12,-72.6 105.07,-69.23 110.83,-78.13 115.12,-72.6\"/>\n</g>\n<!-- 3 -->\n<g id=\"node4\" class=\"node\">\n<title>3</title>\n<path fill=\"#6bb6ec\" stroke=\"black\" d=\"M266,-68C266,-68 152,-68 152,-68 146,-68 140,-62 140,-56 140,-56 140,-12 140,-12 140,-6 146,0 152,0 152,0 266,0 266,0 272,0 278,-6 278,-12 278,-12 278,-56 278,-56 278,-62 272,-68 266,-68\"/>\n<text text-anchor=\"middle\" x=\"209\" y=\"-52.8\" font-family=\"Helvetica,sans-Serif\" font-size=\"14.00\">gini = 0.321</text>\n<text text-anchor=\"middle\" x=\"209\" y=\"-37.8\" font-family=\"Helvetica,sans-Serif\" font-size=\"14.00\">samples = 2412</text>\n<text text-anchor=\"middle\" x=\"209\" y=\"-22.8\" font-family=\"Helvetica,sans-Serif\" font-size=\"14.00\">value = [484, 1928]</text>\n<text text-anchor=\"middle\" x=\"209\" y=\"-7.8\" font-family=\"Helvetica,sans-Serif\" font-size=\"14.00\">class = sim</text>\n</g>\n<!-- 1&#45;&gt;3 -->\n<g id=\"edge3\" class=\"edge\">\n<title>1&#45;&gt;3</title>\n<path fill=\"none\" stroke=\"black\" d=\"M204.61,-103.73C205.11,-95.88 205.64,-87.63 206.14,-79.67\"/>\n<polygon fill=\"black\" stroke=\"black\" points=\"209.63,-80.01 206.77,-69.81 202.64,-79.57 209.63,-80.01\"/>\n</g>\n<!-- 5 -->\n<g id=\"node6\" class=\"node\">\n<title>5</title>\n<path fill=\"#fcefe5\" stroke=\"black\" d=\"M443,-68C443,-68 321,-68 321,-68 315,-68 309,-62 309,-56 309,-56 309,-12 309,-12 309,-6 315,0 321,0 321,0 443,0 443,0 449,0 455,-6 455,-12 455,-12 455,-56 455,-56 455,-62 449,-68 443,-68\"/>\n<text text-anchor=\"middle\" x=\"382\" y=\"-52.8\" font-family=\"Helvetica,sans-Serif\" font-size=\"14.00\">gini = 0.498</text>\n<text text-anchor=\"middle\" x=\"382\" y=\"-37.8\" font-family=\"Helvetica,sans-Serif\" font-size=\"14.00\">samples = 3513</text>\n<text text-anchor=\"middle\" x=\"382\" y=\"-22.8\" font-family=\"Helvetica,sans-Serif\" font-size=\"14.00\">value = [1879, 1634]</text>\n<text text-anchor=\"middle\" x=\"382\" y=\"-7.8\" font-family=\"Helvetica,sans-Serif\" font-size=\"14.00\">class = não</text>\n</g>\n<!-- 4&#45;&gt;5 -->\n<g id=\"edge5\" class=\"edge\">\n<title>4&#45;&gt;5</title>\n<path fill=\"none\" stroke=\"black\" d=\"M386.39,-103.73C385.89,-95.88 385.36,-87.63 384.86,-79.67\"/>\n<polygon fill=\"black\" stroke=\"black\" points=\"388.36,-79.57 384.23,-69.81 381.37,-80.01 388.36,-79.57\"/>\n</g>\n<!-- 6 -->\n<g id=\"node7\" class=\"node\">\n<title>6</title>\n<path fill=\"#e9965a\" stroke=\"black\" d=\"M599,-68C599,-68 485,-68 485,-68 479,-68 473,-62 473,-56 473,-56 473,-12 473,-12 473,-6 479,0 485,0 485,0 599,0 599,0 605,0 611,-6 611,-12 611,-12 611,-56 611,-56 611,-62 605,-68 599,-68\"/>\n<text text-anchor=\"middle\" x=\"542\" y=\"-52.8\" font-family=\"Helvetica,sans-Serif\" font-size=\"14.00\">gini = 0.243</text>\n<text text-anchor=\"middle\" x=\"542\" y=\"-37.8\" font-family=\"Helvetica,sans-Serif\" font-size=\"14.00\">samples = 2140</text>\n<text text-anchor=\"middle\" x=\"542\" y=\"-22.8\" font-family=\"Helvetica,sans-Serif\" font-size=\"14.00\">value = [1837, 303]</text>\n<text text-anchor=\"middle\" x=\"542\" y=\"-7.8\" font-family=\"Helvetica,sans-Serif\" font-size=\"14.00\">class = não</text>\n</g>\n<!-- 4&#45;&gt;6 -->\n<g id=\"edge6\" class=\"edge\">\n<title>4&#45;&gt;6</title>\n<path fill=\"none\" stroke=\"black\" d=\"M445.97,-103.73C459.1,-94.33 473.05,-84.35 486.13,-74.99\"/>\n<polygon fill=\"black\" stroke=\"black\" points=\"488.15,-77.85 494.24,-69.18 484.07,-72.15 488.15,-77.85\"/>\n</g>\n</g>\n</svg>\n",
      "text/plain": [
       "<graphviz.sources.Source at 0x188880d0>"
      ]
     },
     "execution_count": 20,
     "metadata": {},
     "output_type": "execute_result"
    }
   ],
   "source": [
    "# out_file=None - sem arquivo de saída\n",
    "# filled=True - preecher os retângulos\n",
    "# rounded=True - redondos\n",
    "# class_names=[\"não\", \"sim\"] - nomes das classes não vendido, sim vendido\n",
    "# feature_names=features - nomes das colunas de X\n",
    "\n",
    "def visualizar_arvore(tree_classifier):\n",
    "    features = X.columns\n",
    "    dot_data = export_graphviz(tree_classifier, out_file=None, filled=True, rounded=True, class_names=[\"não\", \"sim\"], feature_names=features)\n",
    "\n",
    "    graph = graphviz.Source(dot_data)\n",
    "    return graph\n",
    "\n",
    "graph = visualizar_arvore(tree_classifier)\n",
    "graph"
   ]
  },
  {
   "attachments": {},
   "cell_type": "markdown",
   "metadata": {},
   "source": [
    "Como seria nossa árvore com profundidade 3"
   ]
  },
  {
   "cell_type": "code",
   "execution_count": 21,
   "metadata": {},
   "outputs": [
    {
     "name": "stdout",
     "output_type": "stream",
     "text": [
      "A quantidade de splits é de 5 folds\n",
      "A média dos scores é de 0.78690\n",
      "O desvio padrão é de 0.004532107677449854\n",
      "O intervalo de confiança ficou entre 77.78% e 79.60%\n"
     ]
    }
   ],
   "source": [
    "np.random.seed(SEED)\n",
    "\n",
    "tree_classifier = DecisionTreeClassifier(max_depth=3)\n",
    "\n",
    "scores = cross_validate(tree_classifier, X, y, cv=5)\n",
    "\n",
    "calcula_intervao_confianca(scores['test_score'])"
   ]
  },
  {
   "cell_type": "code",
   "execution_count": 22,
   "metadata": {},
   "outputs": [
    {
     "name": "stdout",
     "output_type": "stream",
     "text": [
      "A quantidade de splits é de 5 folds\n",
      "A média dos scores é de 0.78687\n",
      "O desvio padrão é de 0.00903734608101342\n",
      "O intervalo de confiança ficou entre 76.88% e 80.49%\n"
     ]
    }
   ],
   "source": [
    "cv = GroupKFold(n_splits=5)\n",
    "scores = cross_validate(tree_classifier, X, y, cv=cv, groups=df_veiculos_grupo['modelo_aleatorio'])\n",
    "\n",
    "calcula_intervao_confianca(scores['test_score'])"
   ]
  },
  {
   "cell_type": "code",
   "execution_count": 23,
   "metadata": {},
   "outputs": [
    {
     "data": {
      "image/svg+xml": "<?xml version=\"1.0\" encoding=\"UTF-8\" standalone=\"no\"?>\n<!DOCTYPE svg PUBLIC \"-//W3C//DTD SVG 1.1//EN\"\n \"http://www.w3.org/Graphics/SVG/1.1/DTD/svg11.dtd\">\n<!-- Generated by graphviz version 7.1.0 (20230121.1956)\n -->\n<!-- Title: Tree Pages: 1 -->\n<svg width=\"899pt\" height=\"433pt\"\n viewBox=\"0.00 0.00 899.00 433.00\" xmlns=\"http://www.w3.org/2000/svg\" xmlns:xlink=\"http://www.w3.org/1999/xlink\">\n<g id=\"graph0\" class=\"graph\" transform=\"scale(1 1) rotate(0) translate(4 429)\">\n<title>Tree</title>\n<polygon fill=\"white\" stroke=\"none\" points=\"-4,4 -4,-429 895,-429 895,4 -4,4\"/>\n<!-- 0 -->\n<g id=\"node1\" class=\"node\">\n<title>0</title>\n<path fill=\"#c8e4f8\" stroke=\"black\" d=\"M368.5,-425C368.5,-425 245.5,-425 245.5,-425 239.5,-425 233.5,-419 233.5,-413 233.5,-413 233.5,-354 233.5,-354 233.5,-348 239.5,-342 245.5,-342 245.5,-342 368.5,-342 368.5,-342 374.5,-342 380.5,-348 380.5,-354 380.5,-354 380.5,-413 380.5,-413 380.5,-419 374.5,-425 368.5,-425\"/>\n<text text-anchor=\"middle\" x=\"307\" y=\"-409.8\" font-family=\"Helvetica,sans-Serif\" font-size=\"14.00\">preco &lt;= 59982.246</text>\n<text text-anchor=\"middle\" x=\"307\" y=\"-394.8\" font-family=\"Helvetica,sans-Serif\" font-size=\"14.00\">gini = 0.487</text>\n<text text-anchor=\"middle\" x=\"307\" y=\"-379.8\" font-family=\"Helvetica,sans-Serif\" font-size=\"14.00\">samples = 10000</text>\n<text text-anchor=\"middle\" x=\"307\" y=\"-364.8\" font-family=\"Helvetica,sans-Serif\" font-size=\"14.00\">value = [4200, 5800]</text>\n<text text-anchor=\"middle\" x=\"307\" y=\"-349.8\" font-family=\"Helvetica,sans-Serif\" font-size=\"14.00\">class = sim</text>\n</g>\n<!-- 1 -->\n<g id=\"node2\" class=\"node\">\n<title>1</title>\n<path fill=\"#52a9e8\" stroke=\"black\" d=\"M275.5,-306C275.5,-306 152.5,-306 152.5,-306 146.5,-306 140.5,-300 140.5,-294 140.5,-294 140.5,-235 140.5,-235 140.5,-229 146.5,-223 152.5,-223 152.5,-223 275.5,-223 275.5,-223 281.5,-223 287.5,-229 287.5,-235 287.5,-235 287.5,-294 287.5,-294 287.5,-300 281.5,-306 275.5,-306\"/>\n<text text-anchor=\"middle\" x=\"214\" y=\"-290.8\" font-family=\"Helvetica,sans-Serif\" font-size=\"14.00\">preco &lt;= 40083.385</text>\n<text text-anchor=\"middle\" x=\"214\" y=\"-275.8\" font-family=\"Helvetica,sans-Serif\" font-size=\"14.00\">gini = 0.198</text>\n<text text-anchor=\"middle\" x=\"214\" y=\"-260.8\" font-family=\"Helvetica,sans-Serif\" font-size=\"14.00\">samples = 4347</text>\n<text text-anchor=\"middle\" x=\"214\" y=\"-245.8\" font-family=\"Helvetica,sans-Serif\" font-size=\"14.00\">value = [484, 3863]</text>\n<text text-anchor=\"middle\" x=\"214\" y=\"-230.8\" font-family=\"Helvetica,sans-Serif\" font-size=\"14.00\">class = sim</text>\n</g>\n<!-- 0&#45;&gt;1 -->\n<g id=\"edge1\" class=\"edge\">\n<title>0&#45;&gt;1</title>\n<path fill=\"none\" stroke=\"black\" d=\"M274.47,-341.58C267.64,-332.98 260.36,-323.82 253.3,-314.95\"/>\n<polygon fill=\"black\" stroke=\"black\" points=\"256.26,-313.04 247.29,-307.39 250.78,-317.39 256.26,-313.04\"/>\n<text text-anchor=\"middle\" x=\"243.51\" y=\"-327.34\" font-family=\"Helvetica,sans-Serif\" font-size=\"14.00\">True</text>\n</g>\n<!-- 6 -->\n<g id=\"node7\" class=\"node\">\n<title>6</title>\n<path fill=\"#f3c3a0\" stroke=\"black\" d=\"M538,-306C538,-306 372,-306 372,-306 366,-306 360,-300 360,-294 360,-294 360,-235 360,-235 360,-229 366,-223 372,-223 372,-223 538,-223 538,-223 544,-223 550,-229 550,-235 550,-235 550,-294 550,-294 550,-300 544,-306 538,-306\"/>\n<text text-anchor=\"middle\" x=\"455\" y=\"-290.8\" font-family=\"Helvetica,sans-Serif\" font-size=\"14.00\">km_por_ano &lt;= 24124.006</text>\n<text text-anchor=\"middle\" x=\"455\" y=\"-275.8\" font-family=\"Helvetica,sans-Serif\" font-size=\"14.00\">gini = 0.45</text>\n<text text-anchor=\"middle\" x=\"455\" y=\"-260.8\" font-family=\"Helvetica,sans-Serif\" font-size=\"14.00\">samples = 5653</text>\n<text text-anchor=\"middle\" x=\"455\" y=\"-245.8\" font-family=\"Helvetica,sans-Serif\" font-size=\"14.00\">value = [3716, 1937]</text>\n<text text-anchor=\"middle\" x=\"455\" y=\"-230.8\" font-family=\"Helvetica,sans-Serif\" font-size=\"14.00\">class = não</text>\n</g>\n<!-- 0&#45;&gt;6 -->\n<g id=\"edge6\" class=\"edge\">\n<title>0&#45;&gt;6</title>\n<path fill=\"none\" stroke=\"black\" d=\"M358.76,-341.58C370.25,-332.49 382.54,-322.79 394.35,-313.45\"/>\n<polygon fill=\"black\" stroke=\"black\" points=\"396.4,-316.28 402.08,-307.34 392.06,-310.79 396.4,-316.28\"/>\n<text text-anchor=\"middle\" x=\"400.36\" y=\"-327.53\" font-family=\"Helvetica,sans-Serif\" font-size=\"14.00\">False</text>\n</g>\n<!-- 2 -->\n<g id=\"node3\" class=\"node\">\n<title>2</title>\n<path fill=\"#399de5\" stroke=\"black\" d=\"M110,-179.5C110,-179.5 12,-179.5 12,-179.5 6,-179.5 0,-173.5 0,-167.5 0,-167.5 0,-123.5 0,-123.5 0,-117.5 6,-111.5 12,-111.5 12,-111.5 110,-111.5 110,-111.5 116,-111.5 122,-117.5 122,-123.5 122,-123.5 122,-167.5 122,-167.5 122,-173.5 116,-179.5 110,-179.5\"/>\n<text text-anchor=\"middle\" x=\"61\" y=\"-164.3\" font-family=\"Helvetica,sans-Serif\" font-size=\"14.00\">gini = 0.0</text>\n<text text-anchor=\"middle\" x=\"61\" y=\"-149.3\" font-family=\"Helvetica,sans-Serif\" font-size=\"14.00\">samples = 1935</text>\n<text text-anchor=\"middle\" x=\"61\" y=\"-134.3\" font-family=\"Helvetica,sans-Serif\" font-size=\"14.00\">value = [0, 1935]</text>\n<text text-anchor=\"middle\" x=\"61\" y=\"-119.3\" font-family=\"Helvetica,sans-Serif\" font-size=\"14.00\">class = sim</text>\n</g>\n<!-- 1&#45;&gt;2 -->\n<g id=\"edge2\" class=\"edge\">\n<title>1&#45;&gt;2</title>\n<path fill=\"none\" stroke=\"black\" d=\"M160.49,-222.58C145.22,-210.9 128.6,-198.19 113.39,-186.57\"/>\n<polygon fill=\"black\" stroke=\"black\" points=\"115.9,-184.07 105.83,-180.78 111.65,-189.64 115.9,-184.07\"/>\n</g>\n<!-- 3 -->\n<g id=\"node4\" class=\"node\">\n<title>3</title>\n<path fill=\"#6bb6ec\" stroke=\"black\" d=\"M275.5,-187C275.5,-187 152.5,-187 152.5,-187 146.5,-187 140.5,-181 140.5,-175 140.5,-175 140.5,-116 140.5,-116 140.5,-110 146.5,-104 152.5,-104 152.5,-104 275.5,-104 275.5,-104 281.5,-104 287.5,-110 287.5,-116 287.5,-116 287.5,-175 287.5,-175 287.5,-181 281.5,-187 275.5,-187\"/>\n<text text-anchor=\"middle\" x=\"214\" y=\"-171.8\" font-family=\"Helvetica,sans-Serif\" font-size=\"14.00\">preco &lt;= 41083.029</text>\n<text text-anchor=\"middle\" x=\"214\" y=\"-156.8\" font-family=\"Helvetica,sans-Serif\" font-size=\"14.00\">gini = 0.321</text>\n<text text-anchor=\"middle\" x=\"214\" y=\"-141.8\" font-family=\"Helvetica,sans-Serif\" font-size=\"14.00\">samples = 2412</text>\n<text text-anchor=\"middle\" x=\"214\" y=\"-126.8\" font-family=\"Helvetica,sans-Serif\" font-size=\"14.00\">value = [484, 1928]</text>\n<text text-anchor=\"middle\" x=\"214\" y=\"-111.8\" font-family=\"Helvetica,sans-Serif\" font-size=\"14.00\">class = sim</text>\n</g>\n<!-- 1&#45;&gt;3 -->\n<g id=\"edge3\" class=\"edge\">\n<title>1&#45;&gt;3</title>\n<path fill=\"none\" stroke=\"black\" d=\"M214,-222.58C214,-214.79 214,-206.53 214,-198.45\"/>\n<polygon fill=\"black\" stroke=\"black\" points=\"217.5,-198.71 214,-188.71 210.5,-198.71 217.5,-198.71\"/>\n</g>\n<!-- 4 -->\n<g id=\"node5\" class=\"node\">\n<title>4</title>\n<path fill=\"#95cbf1\" stroke=\"black\" d=\"M114.5,-68C114.5,-68 25.5,-68 25.5,-68 19.5,-68 13.5,-62 13.5,-56 13.5,-56 13.5,-12 13.5,-12 13.5,-6 19.5,0 25.5,0 25.5,0 114.5,0 114.5,0 120.5,0 126.5,-6 126.5,-12 126.5,-12 126.5,-56 126.5,-56 126.5,-62 120.5,-68 114.5,-68\"/>\n<text text-anchor=\"middle\" x=\"70\" y=\"-52.8\" font-family=\"Helvetica,sans-Serif\" font-size=\"14.00\">gini = 0.434</text>\n<text text-anchor=\"middle\" x=\"70\" y=\"-37.8\" font-family=\"Helvetica,sans-Serif\" font-size=\"14.00\">samples = 110</text>\n<text text-anchor=\"middle\" x=\"70\" y=\"-22.8\" font-family=\"Helvetica,sans-Serif\" font-size=\"14.00\">value = [35, 75]</text>\n<text text-anchor=\"middle\" x=\"70\" y=\"-7.8\" font-family=\"Helvetica,sans-Serif\" font-size=\"14.00\">class = sim</text>\n</g>\n<!-- 3&#45;&gt;4 -->\n<g id=\"edge4\" class=\"edge\">\n<title>3&#45;&gt;4</title>\n<path fill=\"none\" stroke=\"black\" d=\"M160.38,-103.73C148.15,-94.42 135.15,-84.54 122.95,-75.26\"/>\n<polygon fill=\"black\" stroke=\"black\" points=\"125.07,-72.48 115,-69.22 120.84,-78.05 125.07,-72.48\"/>\n</g>\n<!-- 5 -->\n<g id=\"node6\" class=\"node\">\n<title>5</title>\n<path fill=\"#69b5eb\" stroke=\"black\" d=\"M271,-68C271,-68 157,-68 157,-68 151,-68 145,-62 145,-56 145,-56 145,-12 145,-12 145,-6 151,0 157,0 157,0 271,0 271,0 277,0 283,-6 283,-12 283,-12 283,-56 283,-56 283,-62 277,-68 271,-68\"/>\n<text text-anchor=\"middle\" x=\"214\" y=\"-52.8\" font-family=\"Helvetica,sans-Serif\" font-size=\"14.00\">gini = 0.314</text>\n<text text-anchor=\"middle\" x=\"214\" y=\"-37.8\" font-family=\"Helvetica,sans-Serif\" font-size=\"14.00\">samples = 2302</text>\n<text text-anchor=\"middle\" x=\"214\" y=\"-22.8\" font-family=\"Helvetica,sans-Serif\" font-size=\"14.00\">value = [449, 1853]</text>\n<text text-anchor=\"middle\" x=\"214\" y=\"-7.8\" font-family=\"Helvetica,sans-Serif\" font-size=\"14.00\">class = sim</text>\n</g>\n<!-- 3&#45;&gt;5 -->\n<g id=\"edge5\" class=\"edge\">\n<title>3&#45;&gt;5</title>\n<path fill=\"none\" stroke=\"black\" d=\"M214,-103.73C214,-95.88 214,-87.63 214,-79.67\"/>\n<polygon fill=\"black\" stroke=\"black\" points=\"217.5,-79.81 214,-69.81 210.5,-79.81 217.5,-79.81\"/>\n</g>\n<!-- 7 -->\n<g id=\"node8\" class=\"node\">\n<title>7</title>\n<path fill=\"#fcefe5\" stroke=\"black\" d=\"M516,-187C516,-187 394,-187 394,-187 388,-187 382,-181 382,-175 382,-175 382,-116 382,-116 382,-110 388,-104 394,-104 394,-104 516,-104 516,-104 522,-104 528,-110 528,-116 528,-116 528,-175 528,-175 528,-181 522,-187 516,-187\"/>\n<text text-anchor=\"middle\" x=\"455\" y=\"-171.8\" font-family=\"Helvetica,sans-Serif\" font-size=\"14.00\">preco &lt;= 99974.41</text>\n<text text-anchor=\"middle\" x=\"455\" y=\"-156.8\" font-family=\"Helvetica,sans-Serif\" font-size=\"14.00\">gini = 0.498</text>\n<text text-anchor=\"middle\" x=\"455\" y=\"-141.8\" font-family=\"Helvetica,sans-Serif\" font-size=\"14.00\">samples = 3513</text>\n<text text-anchor=\"middle\" x=\"455\" y=\"-126.8\" font-family=\"Helvetica,sans-Serif\" font-size=\"14.00\">value = [1879, 1634]</text>\n<text text-anchor=\"middle\" x=\"455\" y=\"-111.8\" font-family=\"Helvetica,sans-Serif\" font-size=\"14.00\">class = não</text>\n</g>\n<!-- 6&#45;&gt;7 -->\n<g id=\"edge7\" class=\"edge\">\n<title>6&#45;&gt;7</title>\n<path fill=\"none\" stroke=\"black\" d=\"M455,-222.58C455,-214.79 455,-206.53 455,-198.45\"/>\n<polygon fill=\"black\" stroke=\"black\" points=\"458.5,-198.71 455,-188.71 451.5,-198.71 458.5,-198.71\"/>\n</g>\n<!-- 10 -->\n<g id=\"node11\" class=\"node\">\n<title>10</title>\n<path fill=\"#e9965a\" stroke=\"black\" d=\"M743.5,-187C743.5,-187 612.5,-187 612.5,-187 606.5,-187 600.5,-181 600.5,-175 600.5,-175 600.5,-116 600.5,-116 600.5,-110 606.5,-104 612.5,-104 612.5,-104 743.5,-104 743.5,-104 749.5,-104 755.5,-110 755.5,-116 755.5,-116 755.5,-175 755.5,-175 755.5,-181 749.5,-187 743.5,-187\"/>\n<text text-anchor=\"middle\" x=\"678\" y=\"-171.8\" font-family=\"Helvetica,sans-Serif\" font-size=\"14.00\">preco &lt;= 100076.957</text>\n<text text-anchor=\"middle\" x=\"678\" y=\"-156.8\" font-family=\"Helvetica,sans-Serif\" font-size=\"14.00\">gini = 0.243</text>\n<text text-anchor=\"middle\" x=\"678\" y=\"-141.8\" font-family=\"Helvetica,sans-Serif\" font-size=\"14.00\">samples = 2140</text>\n<text text-anchor=\"middle\" x=\"678\" y=\"-126.8\" font-family=\"Helvetica,sans-Serif\" font-size=\"14.00\">value = [1837, 303]</text>\n<text text-anchor=\"middle\" x=\"678\" y=\"-111.8\" font-family=\"Helvetica,sans-Serif\" font-size=\"14.00\">class = não</text>\n</g>\n<!-- 6&#45;&gt;10 -->\n<g id=\"edge10\" class=\"edge\">\n<title>6&#45;&gt;10</title>\n<path fill=\"none\" stroke=\"black\" d=\"M532.99,-222.58C551.41,-212.92 571.18,-202.55 590,-192.67\"/>\n<polygon fill=\"black\" stroke=\"black\" points=\"591.48,-195.85 598.71,-188.1 588.23,-189.65 591.48,-195.85\"/>\n</g>\n<!-- 8 -->\n<g id=\"node9\" class=\"node\">\n<title>8</title>\n<path fill=\"#f9e0ce\" stroke=\"black\" d=\"M435,-68C435,-68 313,-68 313,-68 307,-68 301,-62 301,-56 301,-56 301,-12 301,-12 301,-6 307,0 313,0 313,0 435,0 435,0 441,0 447,-6 447,-12 447,-12 447,-56 447,-56 447,-62 441,-68 435,-68\"/>\n<text text-anchor=\"middle\" x=\"374\" y=\"-52.8\" font-family=\"Helvetica,sans-Serif\" font-size=\"14.00\">gini = 0.49</text>\n<text text-anchor=\"middle\" x=\"374\" y=\"-37.8\" font-family=\"Helvetica,sans-Serif\" font-size=\"14.00\">samples = 2944</text>\n<text text-anchor=\"middle\" x=\"374\" y=\"-22.8\" font-family=\"Helvetica,sans-Serif\" font-size=\"14.00\">value = [1682, 1262]</text>\n<text text-anchor=\"middle\" x=\"374\" y=\"-7.8\" font-family=\"Helvetica,sans-Serif\" font-size=\"14.00\">class = não</text>\n</g>\n<!-- 7&#45;&gt;8 -->\n<g id=\"edge8\" class=\"edge\">\n<title>7&#45;&gt;8</title>\n<path fill=\"none\" stroke=\"black\" d=\"M424.84,-103.73C418.5,-95.15 411.79,-86.09 405.41,-77.46\"/>\n<polygon fill=\"black\" stroke=\"black\" points=\"408.29,-75.47 399.53,-69.52 402.67,-79.64 408.29,-75.47\"/>\n</g>\n<!-- 9 -->\n<g id=\"node10\" class=\"node\">\n<title>9</title>\n<path fill=\"#a2d1f3\" stroke=\"black\" d=\"M583,-68C583,-68 477,-68 477,-68 471,-68 465,-62 465,-56 465,-56 465,-12 465,-12 465,-6 471,0 477,0 477,0 583,0 583,0 589,0 595,-6 595,-12 595,-12 595,-56 595,-56 595,-62 589,-68 583,-68\"/>\n<text text-anchor=\"middle\" x=\"530\" y=\"-52.8\" font-family=\"Helvetica,sans-Serif\" font-size=\"14.00\">gini = 0.453</text>\n<text text-anchor=\"middle\" x=\"530\" y=\"-37.8\" font-family=\"Helvetica,sans-Serif\" font-size=\"14.00\">samples = 569</text>\n<text text-anchor=\"middle\" x=\"530\" y=\"-22.8\" font-family=\"Helvetica,sans-Serif\" font-size=\"14.00\">value = [197, 372]</text>\n<text text-anchor=\"middle\" x=\"530\" y=\"-7.8\" font-family=\"Helvetica,sans-Serif\" font-size=\"14.00\">class = sim</text>\n</g>\n<!-- 7&#45;&gt;9 -->\n<g id=\"edge9\" class=\"edge\">\n<title>7&#45;&gt;9</title>\n<path fill=\"none\" stroke=\"black\" d=\"M482.93,-103.73C488.74,-95.24 494.88,-86.28 500.73,-77.73\"/>\n<polygon fill=\"black\" stroke=\"black\" points=\"503.57,-79.78 506.34,-69.55 497.8,-75.82 503.57,-79.78\"/>\n</g>\n<!-- 11 -->\n<g id=\"node12\" class=\"node\">\n<title>11</title>\n<path fill=\"#e68742\" stroke=\"black\" d=\"M731,-68C731,-68 625,-68 625,-68 619,-68 613,-62 613,-56 613,-56 613,-12 613,-12 613,-6 619,0 625,0 625,0 731,0 731,0 737,0 743,-6 743,-12 743,-12 743,-56 743,-56 743,-62 737,-68 731,-68\"/>\n<text text-anchor=\"middle\" x=\"678\" y=\"-52.8\" font-family=\"Helvetica,sans-Serif\" font-size=\"14.00\">gini = 0.082</text>\n<text text-anchor=\"middle\" x=\"678\" y=\"-37.8\" font-family=\"Helvetica,sans-Serif\" font-size=\"14.00\">samples = 1809</text>\n<text text-anchor=\"middle\" x=\"678\" y=\"-22.8\" font-family=\"Helvetica,sans-Serif\" font-size=\"14.00\">value = [1732, 77]</text>\n<text text-anchor=\"middle\" x=\"678\" y=\"-7.8\" font-family=\"Helvetica,sans-Serif\" font-size=\"14.00\">class = não</text>\n</g>\n<!-- 10&#45;&gt;11 -->\n<g id=\"edge11\" class=\"edge\">\n<title>10&#45;&gt;11</title>\n<path fill=\"none\" stroke=\"black\" d=\"M678,-103.73C678,-95.88 678,-87.63 678,-79.67\"/>\n<polygon fill=\"black\" stroke=\"black\" points=\"681.5,-79.81 678,-69.81 674.5,-79.81 681.5,-79.81\"/>\n</g>\n<!-- 12 -->\n<g id=\"node13\" class=\"node\">\n<title>12</title>\n<path fill=\"#95cbf1\" stroke=\"black\" d=\"M879,-68C879,-68 773,-68 773,-68 767,-68 761,-62 761,-56 761,-56 761,-12 761,-12 761,-6 767,0 773,0 773,0 879,0 879,0 885,0 891,-6 891,-12 891,-12 891,-56 891,-56 891,-62 885,-68 879,-68\"/>\n<text text-anchor=\"middle\" x=\"826\" y=\"-52.8\" font-family=\"Helvetica,sans-Serif\" font-size=\"14.00\">gini = 0.433</text>\n<text text-anchor=\"middle\" x=\"826\" y=\"-37.8\" font-family=\"Helvetica,sans-Serif\" font-size=\"14.00\">samples = 331</text>\n<text text-anchor=\"middle\" x=\"826\" y=\"-22.8\" font-family=\"Helvetica,sans-Serif\" font-size=\"14.00\">value = [105, 226]</text>\n<text text-anchor=\"middle\" x=\"826\" y=\"-7.8\" font-family=\"Helvetica,sans-Serif\" font-size=\"14.00\">class = sim</text>\n</g>\n<!-- 10&#45;&gt;12 -->\n<g id=\"edge12\" class=\"edge\">\n<title>10&#45;&gt;12</title>\n<path fill=\"none\" stroke=\"black\" d=\"M733.11,-103.73C745.81,-94.33 759.3,-84.35 771.95,-74.99\"/>\n<polygon fill=\"black\" stroke=\"black\" points=\"773.82,-77.96 779.78,-69.2 769.65,-72.33 773.82,-77.96\"/>\n</g>\n</g>\n</svg>\n",
      "text/plain": [
       "<graphviz.sources.Source at 0x19d880d0>"
      ]
     },
     "execution_count": 23,
     "metadata": {},
     "output_type": "execute_result"
    }
   ],
   "source": [
    "tree_classifier.fit(X, y)\n",
    "\n",
    "graph = visualizar_arvore(tree_classifier)\n",
    "graph"
   ]
  },
  {
   "attachments": {},
   "cell_type": "markdown",
   "metadata": {},
   "source": [
    "### Explorando Espaço de Hiper Parâmetros com GreadSearchCV"
   ]
  },
  {
   "cell_type": "code",
   "execution_count": 24,
   "metadata": {},
   "outputs": [],
   "source": [
    "np.random.seed(SEED)\n",
    "\n",
    "# Hiper parâmetros da DecisionTreeClassifier (3 * 3 * 3 * 3 = 243 combinações)\n",
    "# max_deth - profundidade máxima\n",
    "# min_samples_split - O número mínimo de amostras necessárias para dividir um nó interno\n",
    "# min_samples_leaf - O número mínimo de amostras que devem estar em um nó folha.\n",
    "# criterion - A função para medir a qualidade de uma divisão. \n",
    "espaco_de_parametros = {\n",
    "    \"max_depth\": [3, 4, 5],\n",
    "    \"min_samples_split\": [32, 64, 128],\n",
    "    \"min_samples_leaf\": [32, 64, 128],\n",
    "    \"criterion\": ['gini', 'entropy', 'log_loss']\n",
    "}\n",
    "\n",
    "clf_gridcv  = GridSearchCV(DecisionTreeClassifier(), espaco_de_parametros, cv=GroupKFold(n_splits=10))\n",
    "\n",
    "clf_gridcv.fit(X, y, groups=df_veiculos_grupo['modelo_aleatorio'])\n",
    "\n",
    "df_resultados = pd.DataFrame(clf_gridcv.cv_results_)"
   ]
  },
  {
   "cell_type": "code",
   "execution_count": 25,
   "metadata": {},
   "outputs": [
    {
     "data": {
      "text/plain": [
       "{'criterion': 'gini',\n",
       " 'max_depth': 3,\n",
       " 'min_samples_leaf': 32,\n",
       " 'min_samples_split': 32}"
      ]
     },
     "execution_count": 25,
     "metadata": {},
     "output_type": "execute_result"
    }
   ],
   "source": [
    "# melhores parâmetros\n",
    "clf_gridcv.best_params_"
   ]
  },
  {
   "cell_type": "code",
   "execution_count": 26,
   "metadata": {},
   "outputs": [
    {
     "data": {
      "text/plain": [
       "78.69859849511785"
      ]
     },
     "execution_count": 26,
     "metadata": {},
     "output_type": "execute_result"
    }
   ],
   "source": [
    "# melhor score\n",
    "clf_gridcv.best_score_ * 100"
   ]
  },
  {
   "cell_type": "code",
   "execution_count": 27,
   "metadata": {},
   "outputs": [
    {
     "data": {
      "text/html": [
       "<style>#sk-container-id-2 {color: black;background-color: white;}#sk-container-id-2 pre{padding: 0;}#sk-container-id-2 div.sk-toggleable {background-color: white;}#sk-container-id-2 label.sk-toggleable__label {cursor: pointer;display: block;width: 100%;margin-bottom: 0;padding: 0.3em;box-sizing: border-box;text-align: center;}#sk-container-id-2 label.sk-toggleable__label-arrow:before {content: \"▸\";float: left;margin-right: 0.25em;color: #696969;}#sk-container-id-2 label.sk-toggleable__label-arrow:hover:before {color: black;}#sk-container-id-2 div.sk-estimator:hover label.sk-toggleable__label-arrow:before {color: black;}#sk-container-id-2 div.sk-toggleable__content {max-height: 0;max-width: 0;overflow: hidden;text-align: left;background-color: #f0f8ff;}#sk-container-id-2 div.sk-toggleable__content pre {margin: 0.2em;color: black;border-radius: 0.25em;background-color: #f0f8ff;}#sk-container-id-2 input.sk-toggleable__control:checked~div.sk-toggleable__content {max-height: 200px;max-width: 100%;overflow: auto;}#sk-container-id-2 input.sk-toggleable__control:checked~label.sk-toggleable__label-arrow:before {content: \"▾\";}#sk-container-id-2 div.sk-estimator input.sk-toggleable__control:checked~label.sk-toggleable__label {background-color: #d4ebff;}#sk-container-id-2 div.sk-label input.sk-toggleable__control:checked~label.sk-toggleable__label {background-color: #d4ebff;}#sk-container-id-2 input.sk-hidden--visually {border: 0;clip: rect(1px 1px 1px 1px);clip: rect(1px, 1px, 1px, 1px);height: 1px;margin: -1px;overflow: hidden;padding: 0;position: absolute;width: 1px;}#sk-container-id-2 div.sk-estimator {font-family: monospace;background-color: #f0f8ff;border: 1px dotted black;border-radius: 0.25em;box-sizing: border-box;margin-bottom: 0.5em;}#sk-container-id-2 div.sk-estimator:hover {background-color: #d4ebff;}#sk-container-id-2 div.sk-parallel-item::after {content: \"\";width: 100%;border-bottom: 1px solid gray;flex-grow: 1;}#sk-container-id-2 div.sk-label:hover label.sk-toggleable__label {background-color: #d4ebff;}#sk-container-id-2 div.sk-serial::before {content: \"\";position: absolute;border-left: 1px solid gray;box-sizing: border-box;top: 0;bottom: 0;left: 50%;z-index: 0;}#sk-container-id-2 div.sk-serial {display: flex;flex-direction: column;align-items: center;background-color: white;padding-right: 0.2em;padding-left: 0.2em;position: relative;}#sk-container-id-2 div.sk-item {position: relative;z-index: 1;}#sk-container-id-2 div.sk-parallel {display: flex;align-items: stretch;justify-content: center;background-color: white;position: relative;}#sk-container-id-2 div.sk-item::before, #sk-container-id-2 div.sk-parallel-item::before {content: \"\";position: absolute;border-left: 1px solid gray;box-sizing: border-box;top: 0;bottom: 0;left: 50%;z-index: -1;}#sk-container-id-2 div.sk-parallel-item {display: flex;flex-direction: column;z-index: 1;position: relative;background-color: white;}#sk-container-id-2 div.sk-parallel-item:first-child::after {align-self: flex-end;width: 50%;}#sk-container-id-2 div.sk-parallel-item:last-child::after {align-self: flex-start;width: 50%;}#sk-container-id-2 div.sk-parallel-item:only-child::after {width: 0;}#sk-container-id-2 div.sk-dashed-wrapped {border: 1px dashed gray;margin: 0 0.4em 0.5em 0.4em;box-sizing: border-box;padding-bottom: 0.4em;background-color: white;}#sk-container-id-2 div.sk-label label {font-family: monospace;font-weight: bold;display: inline-block;line-height: 1.2em;}#sk-container-id-2 div.sk-label-container {text-align: center;}#sk-container-id-2 div.sk-container {/* jupyter's `normalize.less` sets `[hidden] { display: none; }` but bootstrap.min.css set `[hidden] { display: none !important; }` so we also need the `!important` here to be able to override the default hidden behavior on the sphinx rendered scikit-learn.org. See: https://github.com/scikit-learn/scikit-learn/issues/21755 */display: inline-block !important;position: relative;}#sk-container-id-2 div.sk-text-repr-fallback {display: none;}</style><div id=\"sk-container-id-2\" class=\"sk-top-container\"><div class=\"sk-text-repr-fallback\"><pre>DecisionTreeClassifier(max_depth=3, min_samples_leaf=32, min_samples_split=32)</pre><b>In a Jupyter environment, please rerun this cell to show the HTML representation or trust the notebook. <br />On GitHub, the HTML representation is unable to render, please try loading this page with nbviewer.org.</b></div><div class=\"sk-container\" hidden><div class=\"sk-item\"><div class=\"sk-estimator sk-toggleable\"><input class=\"sk-toggleable__control sk-hidden--visually\" id=\"sk-estimator-id-2\" type=\"checkbox\" checked><label for=\"sk-estimator-id-2\" class=\"sk-toggleable__label sk-toggleable__label-arrow\">DecisionTreeClassifier</label><div class=\"sk-toggleable__content\"><pre>DecisionTreeClassifier(max_depth=3, min_samples_leaf=32, min_samples_split=32)</pre></div></div></div></div></div>"
      ],
      "text/plain": [
       "DecisionTreeClassifier(max_depth=3, min_samples_leaf=32, min_samples_split=32)"
      ]
     },
     "execution_count": 27,
     "metadata": {},
     "output_type": "execute_result"
    }
   ],
   "source": [
    "# melhor modelo\n",
    "clf_gridcv.best_estimator_"
   ]
  },
  {
   "cell_type": "code",
   "execution_count": 28,
   "metadata": {},
   "outputs": [
    {
     "data": {
      "text/html": [
       "<div>\n",
       "<style scoped>\n",
       "    .dataframe tbody tr th:only-of-type {\n",
       "        vertical-align: middle;\n",
       "    }\n",
       "\n",
       "    .dataframe tbody tr th {\n",
       "        vertical-align: top;\n",
       "    }\n",
       "\n",
       "    .dataframe thead th {\n",
       "        text-align: right;\n",
       "    }\n",
       "</style>\n",
       "<table border=\"1\" class=\"dataframe\">\n",
       "  <thead>\n",
       "    <tr style=\"text-align: right;\">\n",
       "      <th></th>\n",
       "      <th>mean_fit_time</th>\n",
       "      <th>std_fit_time</th>\n",
       "      <th>mean_score_time</th>\n",
       "      <th>std_score_time</th>\n",
       "      <th>param_criterion</th>\n",
       "      <th>param_max_depth</th>\n",
       "      <th>param_min_samples_leaf</th>\n",
       "      <th>...</th>\n",
       "      <th>split6_test_score</th>\n",
       "      <th>split7_test_score</th>\n",
       "      <th>split8_test_score</th>\n",
       "      <th>split9_test_score</th>\n",
       "      <th>mean_test_score</th>\n",
       "      <th>std_test_score</th>\n",
       "      <th>rank_test_score</th>\n",
       "    </tr>\n",
       "  </thead>\n",
       "  <tbody>\n",
       "    <tr>\n",
       "      <th>0</th>\n",
       "      <td>0.015625</td>\n",
       "      <td>0.000005</td>\n",
       "      <td>0.001563</td>\n",
       "      <td>0.004689</td>\n",
       "      <td>gini</td>\n",
       "      <td>3</td>\n",
       "      <td>32</td>\n",
       "      <td>...</td>\n",
       "      <td>0.773509</td>\n",
       "      <td>0.769784</td>\n",
       "      <td>0.761321</td>\n",
       "      <td>0.801005</td>\n",
       "      <td>0.786986</td>\n",
       "      <td>0.018282</td>\n",
       "      <td>1</td>\n",
       "    </tr>\n",
       "    <tr>\n",
       "      <th>1</th>\n",
       "      <td>0.010936</td>\n",
       "      <td>0.007160</td>\n",
       "      <td>0.001562</td>\n",
       "      <td>0.004687</td>\n",
       "      <td>gini</td>\n",
       "      <td>3</td>\n",
       "      <td>32</td>\n",
       "      <td>...</td>\n",
       "      <td>0.773509</td>\n",
       "      <td>0.769784</td>\n",
       "      <td>0.761321</td>\n",
       "      <td>0.801005</td>\n",
       "      <td>0.786986</td>\n",
       "      <td>0.018282</td>\n",
       "      <td>1</td>\n",
       "    </tr>\n",
       "    <tr>\n",
       "      <th>2</th>\n",
       "      <td>0.010942</td>\n",
       "      <td>0.007163</td>\n",
       "      <td>0.001563</td>\n",
       "      <td>0.004688</td>\n",
       "      <td>gini</td>\n",
       "      <td>3</td>\n",
       "      <td>32</td>\n",
       "      <td>...</td>\n",
       "      <td>0.773509</td>\n",
       "      <td>0.769784</td>\n",
       "      <td>0.761321</td>\n",
       "      <td>0.801005</td>\n",
       "      <td>0.786986</td>\n",
       "      <td>0.018282</td>\n",
       "      <td>1</td>\n",
       "    </tr>\n",
       "    <tr>\n",
       "      <th>3</th>\n",
       "      <td>0.009369</td>\n",
       "      <td>0.007650</td>\n",
       "      <td>0.004689</td>\n",
       "      <td>0.007162</td>\n",
       "      <td>gini</td>\n",
       "      <td>3</td>\n",
       "      <td>64</td>\n",
       "      <td>...</td>\n",
       "      <td>0.773509</td>\n",
       "      <td>0.769784</td>\n",
       "      <td>0.761321</td>\n",
       "      <td>0.801005</td>\n",
       "      <td>0.786986</td>\n",
       "      <td>0.018282</td>\n",
       "      <td>1</td>\n",
       "    </tr>\n",
       "    <tr>\n",
       "      <th>4</th>\n",
       "      <td>0.012498</td>\n",
       "      <td>0.006249</td>\n",
       "      <td>0.000000</td>\n",
       "      <td>0.000000</td>\n",
       "      <td>gini</td>\n",
       "      <td>3</td>\n",
       "      <td>64</td>\n",
       "      <td>...</td>\n",
       "      <td>0.773509</td>\n",
       "      <td>0.769784</td>\n",
       "      <td>0.761321</td>\n",
       "      <td>0.801005</td>\n",
       "      <td>0.786986</td>\n",
       "      <td>0.018282</td>\n",
       "      <td>1</td>\n",
       "    </tr>\n",
       "  </tbody>\n",
       "</table>\n",
       "<p>5 rows × 22 columns</p>\n",
       "</div>"
      ],
      "text/plain": [
       "   mean_fit_time  std_fit_time  mean_score_time  std_score_time  \\\n",
       "0       0.015625      0.000005         0.001563        0.004689   \n",
       "1       0.010936      0.007160         0.001562        0.004687   \n",
       "2       0.010942      0.007163         0.001563        0.004688   \n",
       "3       0.009369      0.007650         0.004689        0.007162   \n",
       "4       0.012498      0.006249         0.000000        0.000000   \n",
       "\n",
       "  param_criterion param_max_depth param_min_samples_leaf  ...  \\\n",
       "0            gini               3                     32  ...   \n",
       "1            gini               3                     32  ...   \n",
       "2            gini               3                     32  ...   \n",
       "3            gini               3                     64  ...   \n",
       "4            gini               3                     64  ...   \n",
       "\n",
       "  split6_test_score split7_test_score  split8_test_score  split9_test_score  \\\n",
       "0          0.773509          0.769784           0.761321           0.801005   \n",
       "1          0.773509          0.769784           0.761321           0.801005   \n",
       "2          0.773509          0.769784           0.761321           0.801005   \n",
       "3          0.773509          0.769784           0.761321           0.801005   \n",
       "4          0.773509          0.769784           0.761321           0.801005   \n",
       "\n",
       "   mean_test_score  std_test_score  rank_test_score  \n",
       "0         0.786986        0.018282                1  \n",
       "1         0.786986        0.018282                1  \n",
       "2         0.786986        0.018282                1  \n",
       "3         0.786986        0.018282                1  \n",
       "4         0.786986        0.018282                1  \n",
       "\n",
       "[5 rows x 22 columns]"
      ]
     },
     "execution_count": 28,
     "metadata": {},
     "output_type": "execute_result"
    }
   ],
   "source": [
    "df_resultados.head()"
   ]
  },
  {
   "attachments": {},
   "cell_type": "markdown",
   "metadata": {},
   "source": [
    "Após encontrar o melhor modelo é recomendado fazer um novo cross validation (nested cross validation), para evitar o uso de um modelo muito otimista."
   ]
  },
  {
   "cell_type": "code",
   "execution_count": 29,
   "metadata": {},
   "outputs": [],
   "source": [
    "# infelizmente o cross_val_score ainda não aceita o GroupKFold, erro qual o group informado\n",
    "# scores = cross_val_score(clf_gridcv, X, y, cv=GroupKFold(n_splits=10), groups=df_veiculos_grupo['modelo_aleatorio'])"
   ]
  },
  {
   "cell_type": "code",
   "execution_count": 30,
   "metadata": {},
   "outputs": [],
   "source": [
    "# Geramos um novo modelo de GridSeachCV utilizando o KFold com shuffle = True\n",
    "clf_gridcv  = GridSearchCV(DecisionTreeClassifier(), espaco_de_parametros, cv=KFold(n_splits=10, shuffle=True))\n",
    "\n",
    "clf_gridcv.fit(X, y)\n",
    "\n",
    "df_resultados = pd.DataFrame(clf_gridcv.cv_results_)"
   ]
  },
  {
   "cell_type": "code",
   "execution_count": 31,
   "metadata": {},
   "outputs": [],
   "source": [
    "scores = cross_val_score(clf_gridcv.best_estimator_, X, y, cv=KFold(n_splits=10))"
   ]
  },
  {
   "cell_type": "code",
   "execution_count": 32,
   "metadata": {},
   "outputs": [
    {
     "name": "stdout",
     "output_type": "stream",
     "text": [
      "A quantidade de splits é de 10 folds\n",
      "A média dos scores é de 0.78690\n",
      "O desvio padrão é de 0.01041585330157833\n",
      "O intervalo de confiança ficou entre 76.61% e 80.77%\n"
     ]
    }
   ],
   "source": [
    "calcula_intervao_confianca(scores)"
   ]
  },
  {
   "cell_type": "code",
   "execution_count": 33,
   "metadata": {},
   "outputs": [
    {
     "data": {
      "image/svg+xml": "<?xml version=\"1.0\" encoding=\"UTF-8\" standalone=\"no\"?>\n<!DOCTYPE svg PUBLIC \"-//W3C//DTD SVG 1.1//EN\"\n \"http://www.w3.org/Graphics/SVG/1.1/DTD/svg11.dtd\">\n<!-- Generated by graphviz version 7.1.0 (20230121.1956)\n -->\n<!-- Title: Tree Pages: 1 -->\n<svg width=\"899pt\" height=\"433pt\"\n viewBox=\"0.00 0.00 899.00 433.00\" xmlns=\"http://www.w3.org/2000/svg\" xmlns:xlink=\"http://www.w3.org/1999/xlink\">\n<g id=\"graph0\" class=\"graph\" transform=\"scale(1 1) rotate(0) translate(4 429)\">\n<title>Tree</title>\n<polygon fill=\"white\" stroke=\"none\" points=\"-4,4 -4,-429 895,-429 895,4 -4,4\"/>\n<!-- 0 -->\n<g id=\"node1\" class=\"node\">\n<title>0</title>\n<path fill=\"#c8e4f8\" stroke=\"black\" d=\"M368.5,-425C368.5,-425 245.5,-425 245.5,-425 239.5,-425 233.5,-419 233.5,-413 233.5,-413 233.5,-354 233.5,-354 233.5,-348 239.5,-342 245.5,-342 245.5,-342 368.5,-342 368.5,-342 374.5,-342 380.5,-348 380.5,-354 380.5,-354 380.5,-413 380.5,-413 380.5,-419 374.5,-425 368.5,-425\"/>\n<text text-anchor=\"middle\" x=\"307\" y=\"-409.8\" font-family=\"Helvetica,sans-Serif\" font-size=\"14.00\">preco &lt;= 59982.246</text>\n<text text-anchor=\"middle\" x=\"307\" y=\"-394.8\" font-family=\"Helvetica,sans-Serif\" font-size=\"14.00\">gini = 0.487</text>\n<text text-anchor=\"middle\" x=\"307\" y=\"-379.8\" font-family=\"Helvetica,sans-Serif\" font-size=\"14.00\">samples = 10000</text>\n<text text-anchor=\"middle\" x=\"307\" y=\"-364.8\" font-family=\"Helvetica,sans-Serif\" font-size=\"14.00\">value = [4200, 5800]</text>\n<text text-anchor=\"middle\" x=\"307\" y=\"-349.8\" font-family=\"Helvetica,sans-Serif\" font-size=\"14.00\">class = sim</text>\n</g>\n<!-- 1 -->\n<g id=\"node2\" class=\"node\">\n<title>1</title>\n<path fill=\"#52a9e8\" stroke=\"black\" d=\"M275.5,-306C275.5,-306 152.5,-306 152.5,-306 146.5,-306 140.5,-300 140.5,-294 140.5,-294 140.5,-235 140.5,-235 140.5,-229 146.5,-223 152.5,-223 152.5,-223 275.5,-223 275.5,-223 281.5,-223 287.5,-229 287.5,-235 287.5,-235 287.5,-294 287.5,-294 287.5,-300 281.5,-306 275.5,-306\"/>\n<text text-anchor=\"middle\" x=\"214\" y=\"-290.8\" font-family=\"Helvetica,sans-Serif\" font-size=\"14.00\">preco &lt;= 40083.385</text>\n<text text-anchor=\"middle\" x=\"214\" y=\"-275.8\" font-family=\"Helvetica,sans-Serif\" font-size=\"14.00\">gini = 0.198</text>\n<text text-anchor=\"middle\" x=\"214\" y=\"-260.8\" font-family=\"Helvetica,sans-Serif\" font-size=\"14.00\">samples = 4347</text>\n<text text-anchor=\"middle\" x=\"214\" y=\"-245.8\" font-family=\"Helvetica,sans-Serif\" font-size=\"14.00\">value = [484, 3863]</text>\n<text text-anchor=\"middle\" x=\"214\" y=\"-230.8\" font-family=\"Helvetica,sans-Serif\" font-size=\"14.00\">class = sim</text>\n</g>\n<!-- 0&#45;&gt;1 -->\n<g id=\"edge1\" class=\"edge\">\n<title>0&#45;&gt;1</title>\n<path fill=\"none\" stroke=\"black\" d=\"M274.47,-341.58C267.64,-332.98 260.36,-323.82 253.3,-314.95\"/>\n<polygon fill=\"black\" stroke=\"black\" points=\"256.26,-313.04 247.29,-307.39 250.78,-317.39 256.26,-313.04\"/>\n<text text-anchor=\"middle\" x=\"243.51\" y=\"-327.34\" font-family=\"Helvetica,sans-Serif\" font-size=\"14.00\">True</text>\n</g>\n<!-- 6 -->\n<g id=\"node7\" class=\"node\">\n<title>6</title>\n<path fill=\"#f3c3a0\" stroke=\"black\" d=\"M538,-306C538,-306 372,-306 372,-306 366,-306 360,-300 360,-294 360,-294 360,-235 360,-235 360,-229 366,-223 372,-223 372,-223 538,-223 538,-223 544,-223 550,-229 550,-235 550,-235 550,-294 550,-294 550,-300 544,-306 538,-306\"/>\n<text text-anchor=\"middle\" x=\"455\" y=\"-290.8\" font-family=\"Helvetica,sans-Serif\" font-size=\"14.00\">km_por_ano &lt;= 24124.006</text>\n<text text-anchor=\"middle\" x=\"455\" y=\"-275.8\" font-family=\"Helvetica,sans-Serif\" font-size=\"14.00\">gini = 0.45</text>\n<text text-anchor=\"middle\" x=\"455\" y=\"-260.8\" font-family=\"Helvetica,sans-Serif\" font-size=\"14.00\">samples = 5653</text>\n<text text-anchor=\"middle\" x=\"455\" y=\"-245.8\" font-family=\"Helvetica,sans-Serif\" font-size=\"14.00\">value = [3716, 1937]</text>\n<text text-anchor=\"middle\" x=\"455\" y=\"-230.8\" font-family=\"Helvetica,sans-Serif\" font-size=\"14.00\">class = não</text>\n</g>\n<!-- 0&#45;&gt;6 -->\n<g id=\"edge6\" class=\"edge\">\n<title>0&#45;&gt;6</title>\n<path fill=\"none\" stroke=\"black\" d=\"M358.76,-341.58C370.25,-332.49 382.54,-322.79 394.35,-313.45\"/>\n<polygon fill=\"black\" stroke=\"black\" points=\"396.4,-316.28 402.08,-307.34 392.06,-310.79 396.4,-316.28\"/>\n<text text-anchor=\"middle\" x=\"400.36\" y=\"-327.53\" font-family=\"Helvetica,sans-Serif\" font-size=\"14.00\">False</text>\n</g>\n<!-- 2 -->\n<g id=\"node3\" class=\"node\">\n<title>2</title>\n<path fill=\"#399de5\" stroke=\"black\" d=\"M110,-179.5C110,-179.5 12,-179.5 12,-179.5 6,-179.5 0,-173.5 0,-167.5 0,-167.5 0,-123.5 0,-123.5 0,-117.5 6,-111.5 12,-111.5 12,-111.5 110,-111.5 110,-111.5 116,-111.5 122,-117.5 122,-123.5 122,-123.5 122,-167.5 122,-167.5 122,-173.5 116,-179.5 110,-179.5\"/>\n<text text-anchor=\"middle\" x=\"61\" y=\"-164.3\" font-family=\"Helvetica,sans-Serif\" font-size=\"14.00\">gini = 0.0</text>\n<text text-anchor=\"middle\" x=\"61\" y=\"-149.3\" font-family=\"Helvetica,sans-Serif\" font-size=\"14.00\">samples = 1935</text>\n<text text-anchor=\"middle\" x=\"61\" y=\"-134.3\" font-family=\"Helvetica,sans-Serif\" font-size=\"14.00\">value = [0, 1935]</text>\n<text text-anchor=\"middle\" x=\"61\" y=\"-119.3\" font-family=\"Helvetica,sans-Serif\" font-size=\"14.00\">class = sim</text>\n</g>\n<!-- 1&#45;&gt;2 -->\n<g id=\"edge2\" class=\"edge\">\n<title>1&#45;&gt;2</title>\n<path fill=\"none\" stroke=\"black\" d=\"M160.49,-222.58C145.22,-210.9 128.6,-198.19 113.39,-186.57\"/>\n<polygon fill=\"black\" stroke=\"black\" points=\"115.9,-184.07 105.83,-180.78 111.65,-189.64 115.9,-184.07\"/>\n</g>\n<!-- 3 -->\n<g id=\"node4\" class=\"node\">\n<title>3</title>\n<path fill=\"#6bb6ec\" stroke=\"black\" d=\"M275.5,-187C275.5,-187 152.5,-187 152.5,-187 146.5,-187 140.5,-181 140.5,-175 140.5,-175 140.5,-116 140.5,-116 140.5,-110 146.5,-104 152.5,-104 152.5,-104 275.5,-104 275.5,-104 281.5,-104 287.5,-110 287.5,-116 287.5,-116 287.5,-175 287.5,-175 287.5,-181 281.5,-187 275.5,-187\"/>\n<text text-anchor=\"middle\" x=\"214\" y=\"-171.8\" font-family=\"Helvetica,sans-Serif\" font-size=\"14.00\">preco &lt;= 41083.029</text>\n<text text-anchor=\"middle\" x=\"214\" y=\"-156.8\" font-family=\"Helvetica,sans-Serif\" font-size=\"14.00\">gini = 0.321</text>\n<text text-anchor=\"middle\" x=\"214\" y=\"-141.8\" font-family=\"Helvetica,sans-Serif\" font-size=\"14.00\">samples = 2412</text>\n<text text-anchor=\"middle\" x=\"214\" y=\"-126.8\" font-family=\"Helvetica,sans-Serif\" font-size=\"14.00\">value = [484, 1928]</text>\n<text text-anchor=\"middle\" x=\"214\" y=\"-111.8\" font-family=\"Helvetica,sans-Serif\" font-size=\"14.00\">class = sim</text>\n</g>\n<!-- 1&#45;&gt;3 -->\n<g id=\"edge3\" class=\"edge\">\n<title>1&#45;&gt;3</title>\n<path fill=\"none\" stroke=\"black\" d=\"M214,-222.58C214,-214.79 214,-206.53 214,-198.45\"/>\n<polygon fill=\"black\" stroke=\"black\" points=\"217.5,-198.71 214,-188.71 210.5,-198.71 217.5,-198.71\"/>\n</g>\n<!-- 4 -->\n<g id=\"node5\" class=\"node\">\n<title>4</title>\n<path fill=\"#95cbf1\" stroke=\"black\" d=\"M114.5,-68C114.5,-68 25.5,-68 25.5,-68 19.5,-68 13.5,-62 13.5,-56 13.5,-56 13.5,-12 13.5,-12 13.5,-6 19.5,0 25.5,0 25.5,0 114.5,0 114.5,0 120.5,0 126.5,-6 126.5,-12 126.5,-12 126.5,-56 126.5,-56 126.5,-62 120.5,-68 114.5,-68\"/>\n<text text-anchor=\"middle\" x=\"70\" y=\"-52.8\" font-family=\"Helvetica,sans-Serif\" font-size=\"14.00\">gini = 0.434</text>\n<text text-anchor=\"middle\" x=\"70\" y=\"-37.8\" font-family=\"Helvetica,sans-Serif\" font-size=\"14.00\">samples = 110</text>\n<text text-anchor=\"middle\" x=\"70\" y=\"-22.8\" font-family=\"Helvetica,sans-Serif\" font-size=\"14.00\">value = [35, 75]</text>\n<text text-anchor=\"middle\" x=\"70\" y=\"-7.8\" font-family=\"Helvetica,sans-Serif\" font-size=\"14.00\">class = sim</text>\n</g>\n<!-- 3&#45;&gt;4 -->\n<g id=\"edge4\" class=\"edge\">\n<title>3&#45;&gt;4</title>\n<path fill=\"none\" stroke=\"black\" d=\"M160.38,-103.73C148.15,-94.42 135.15,-84.54 122.95,-75.26\"/>\n<polygon fill=\"black\" stroke=\"black\" points=\"125.07,-72.48 115,-69.22 120.84,-78.05 125.07,-72.48\"/>\n</g>\n<!-- 5 -->\n<g id=\"node6\" class=\"node\">\n<title>5</title>\n<path fill=\"#69b5eb\" stroke=\"black\" d=\"M271,-68C271,-68 157,-68 157,-68 151,-68 145,-62 145,-56 145,-56 145,-12 145,-12 145,-6 151,0 157,0 157,0 271,0 271,0 277,0 283,-6 283,-12 283,-12 283,-56 283,-56 283,-62 277,-68 271,-68\"/>\n<text text-anchor=\"middle\" x=\"214\" y=\"-52.8\" font-family=\"Helvetica,sans-Serif\" font-size=\"14.00\">gini = 0.314</text>\n<text text-anchor=\"middle\" x=\"214\" y=\"-37.8\" font-family=\"Helvetica,sans-Serif\" font-size=\"14.00\">samples = 2302</text>\n<text text-anchor=\"middle\" x=\"214\" y=\"-22.8\" font-family=\"Helvetica,sans-Serif\" font-size=\"14.00\">value = [449, 1853]</text>\n<text text-anchor=\"middle\" x=\"214\" y=\"-7.8\" font-family=\"Helvetica,sans-Serif\" font-size=\"14.00\">class = sim</text>\n</g>\n<!-- 3&#45;&gt;5 -->\n<g id=\"edge5\" class=\"edge\">\n<title>3&#45;&gt;5</title>\n<path fill=\"none\" stroke=\"black\" d=\"M214,-103.73C214,-95.88 214,-87.63 214,-79.67\"/>\n<polygon fill=\"black\" stroke=\"black\" points=\"217.5,-79.81 214,-69.81 210.5,-79.81 217.5,-79.81\"/>\n</g>\n<!-- 7 -->\n<g id=\"node8\" class=\"node\">\n<title>7</title>\n<path fill=\"#fcefe5\" stroke=\"black\" d=\"M516,-187C516,-187 394,-187 394,-187 388,-187 382,-181 382,-175 382,-175 382,-116 382,-116 382,-110 388,-104 394,-104 394,-104 516,-104 516,-104 522,-104 528,-110 528,-116 528,-116 528,-175 528,-175 528,-181 522,-187 516,-187\"/>\n<text text-anchor=\"middle\" x=\"455\" y=\"-171.8\" font-family=\"Helvetica,sans-Serif\" font-size=\"14.00\">preco &lt;= 99974.41</text>\n<text text-anchor=\"middle\" x=\"455\" y=\"-156.8\" font-family=\"Helvetica,sans-Serif\" font-size=\"14.00\">gini = 0.498</text>\n<text text-anchor=\"middle\" x=\"455\" y=\"-141.8\" font-family=\"Helvetica,sans-Serif\" font-size=\"14.00\">samples = 3513</text>\n<text text-anchor=\"middle\" x=\"455\" y=\"-126.8\" font-family=\"Helvetica,sans-Serif\" font-size=\"14.00\">value = [1879, 1634]</text>\n<text text-anchor=\"middle\" x=\"455\" y=\"-111.8\" font-family=\"Helvetica,sans-Serif\" font-size=\"14.00\">class = não</text>\n</g>\n<!-- 6&#45;&gt;7 -->\n<g id=\"edge7\" class=\"edge\">\n<title>6&#45;&gt;7</title>\n<path fill=\"none\" stroke=\"black\" d=\"M455,-222.58C455,-214.79 455,-206.53 455,-198.45\"/>\n<polygon fill=\"black\" stroke=\"black\" points=\"458.5,-198.71 455,-188.71 451.5,-198.71 458.5,-198.71\"/>\n</g>\n<!-- 10 -->\n<g id=\"node11\" class=\"node\">\n<title>10</title>\n<path fill=\"#e9965a\" stroke=\"black\" d=\"M743.5,-187C743.5,-187 612.5,-187 612.5,-187 606.5,-187 600.5,-181 600.5,-175 600.5,-175 600.5,-116 600.5,-116 600.5,-110 606.5,-104 612.5,-104 612.5,-104 743.5,-104 743.5,-104 749.5,-104 755.5,-110 755.5,-116 755.5,-116 755.5,-175 755.5,-175 755.5,-181 749.5,-187 743.5,-187\"/>\n<text text-anchor=\"middle\" x=\"678\" y=\"-171.8\" font-family=\"Helvetica,sans-Serif\" font-size=\"14.00\">preco &lt;= 100076.957</text>\n<text text-anchor=\"middle\" x=\"678\" y=\"-156.8\" font-family=\"Helvetica,sans-Serif\" font-size=\"14.00\">gini = 0.243</text>\n<text text-anchor=\"middle\" x=\"678\" y=\"-141.8\" font-family=\"Helvetica,sans-Serif\" font-size=\"14.00\">samples = 2140</text>\n<text text-anchor=\"middle\" x=\"678\" y=\"-126.8\" font-family=\"Helvetica,sans-Serif\" font-size=\"14.00\">value = [1837, 303]</text>\n<text text-anchor=\"middle\" x=\"678\" y=\"-111.8\" font-family=\"Helvetica,sans-Serif\" font-size=\"14.00\">class = não</text>\n</g>\n<!-- 6&#45;&gt;10 -->\n<g id=\"edge10\" class=\"edge\">\n<title>6&#45;&gt;10</title>\n<path fill=\"none\" stroke=\"black\" d=\"M532.99,-222.58C551.41,-212.92 571.18,-202.55 590,-192.67\"/>\n<polygon fill=\"black\" stroke=\"black\" points=\"591.48,-195.85 598.71,-188.1 588.23,-189.65 591.48,-195.85\"/>\n</g>\n<!-- 8 -->\n<g id=\"node9\" class=\"node\">\n<title>8</title>\n<path fill=\"#f9e0ce\" stroke=\"black\" d=\"M435,-68C435,-68 313,-68 313,-68 307,-68 301,-62 301,-56 301,-56 301,-12 301,-12 301,-6 307,0 313,0 313,0 435,0 435,0 441,0 447,-6 447,-12 447,-12 447,-56 447,-56 447,-62 441,-68 435,-68\"/>\n<text text-anchor=\"middle\" x=\"374\" y=\"-52.8\" font-family=\"Helvetica,sans-Serif\" font-size=\"14.00\">gini = 0.49</text>\n<text text-anchor=\"middle\" x=\"374\" y=\"-37.8\" font-family=\"Helvetica,sans-Serif\" font-size=\"14.00\">samples = 2944</text>\n<text text-anchor=\"middle\" x=\"374\" y=\"-22.8\" font-family=\"Helvetica,sans-Serif\" font-size=\"14.00\">value = [1682, 1262]</text>\n<text text-anchor=\"middle\" x=\"374\" y=\"-7.8\" font-family=\"Helvetica,sans-Serif\" font-size=\"14.00\">class = não</text>\n</g>\n<!-- 7&#45;&gt;8 -->\n<g id=\"edge8\" class=\"edge\">\n<title>7&#45;&gt;8</title>\n<path fill=\"none\" stroke=\"black\" d=\"M424.84,-103.73C418.5,-95.15 411.79,-86.09 405.41,-77.46\"/>\n<polygon fill=\"black\" stroke=\"black\" points=\"408.29,-75.47 399.53,-69.52 402.67,-79.64 408.29,-75.47\"/>\n</g>\n<!-- 9 -->\n<g id=\"node10\" class=\"node\">\n<title>9</title>\n<path fill=\"#a2d1f3\" stroke=\"black\" d=\"M583,-68C583,-68 477,-68 477,-68 471,-68 465,-62 465,-56 465,-56 465,-12 465,-12 465,-6 471,0 477,0 477,0 583,0 583,0 589,0 595,-6 595,-12 595,-12 595,-56 595,-56 595,-62 589,-68 583,-68\"/>\n<text text-anchor=\"middle\" x=\"530\" y=\"-52.8\" font-family=\"Helvetica,sans-Serif\" font-size=\"14.00\">gini = 0.453</text>\n<text text-anchor=\"middle\" x=\"530\" y=\"-37.8\" font-family=\"Helvetica,sans-Serif\" font-size=\"14.00\">samples = 569</text>\n<text text-anchor=\"middle\" x=\"530\" y=\"-22.8\" font-family=\"Helvetica,sans-Serif\" font-size=\"14.00\">value = [197, 372]</text>\n<text text-anchor=\"middle\" x=\"530\" y=\"-7.8\" font-family=\"Helvetica,sans-Serif\" font-size=\"14.00\">class = sim</text>\n</g>\n<!-- 7&#45;&gt;9 -->\n<g id=\"edge9\" class=\"edge\">\n<title>7&#45;&gt;9</title>\n<path fill=\"none\" stroke=\"black\" d=\"M482.93,-103.73C488.74,-95.24 494.88,-86.28 500.73,-77.73\"/>\n<polygon fill=\"black\" stroke=\"black\" points=\"503.57,-79.78 506.34,-69.55 497.8,-75.82 503.57,-79.78\"/>\n</g>\n<!-- 11 -->\n<g id=\"node12\" class=\"node\">\n<title>11</title>\n<path fill=\"#e68742\" stroke=\"black\" d=\"M731,-68C731,-68 625,-68 625,-68 619,-68 613,-62 613,-56 613,-56 613,-12 613,-12 613,-6 619,0 625,0 625,0 731,0 731,0 737,0 743,-6 743,-12 743,-12 743,-56 743,-56 743,-62 737,-68 731,-68\"/>\n<text text-anchor=\"middle\" x=\"678\" y=\"-52.8\" font-family=\"Helvetica,sans-Serif\" font-size=\"14.00\">gini = 0.082</text>\n<text text-anchor=\"middle\" x=\"678\" y=\"-37.8\" font-family=\"Helvetica,sans-Serif\" font-size=\"14.00\">samples = 1809</text>\n<text text-anchor=\"middle\" x=\"678\" y=\"-22.8\" font-family=\"Helvetica,sans-Serif\" font-size=\"14.00\">value = [1732, 77]</text>\n<text text-anchor=\"middle\" x=\"678\" y=\"-7.8\" font-family=\"Helvetica,sans-Serif\" font-size=\"14.00\">class = não</text>\n</g>\n<!-- 10&#45;&gt;11 -->\n<g id=\"edge11\" class=\"edge\">\n<title>10&#45;&gt;11</title>\n<path fill=\"none\" stroke=\"black\" d=\"M678,-103.73C678,-95.88 678,-87.63 678,-79.67\"/>\n<polygon fill=\"black\" stroke=\"black\" points=\"681.5,-79.81 678,-69.81 674.5,-79.81 681.5,-79.81\"/>\n</g>\n<!-- 12 -->\n<g id=\"node13\" class=\"node\">\n<title>12</title>\n<path fill=\"#95cbf1\" stroke=\"black\" d=\"M879,-68C879,-68 773,-68 773,-68 767,-68 761,-62 761,-56 761,-56 761,-12 761,-12 761,-6 767,0 773,0 773,0 879,0 879,0 885,0 891,-6 891,-12 891,-12 891,-56 891,-56 891,-62 885,-68 879,-68\"/>\n<text text-anchor=\"middle\" x=\"826\" y=\"-52.8\" font-family=\"Helvetica,sans-Serif\" font-size=\"14.00\">gini = 0.433</text>\n<text text-anchor=\"middle\" x=\"826\" y=\"-37.8\" font-family=\"Helvetica,sans-Serif\" font-size=\"14.00\">samples = 331</text>\n<text text-anchor=\"middle\" x=\"826\" y=\"-22.8\" font-family=\"Helvetica,sans-Serif\" font-size=\"14.00\">value = [105, 226]</text>\n<text text-anchor=\"middle\" x=\"826\" y=\"-7.8\" font-family=\"Helvetica,sans-Serif\" font-size=\"14.00\">class = sim</text>\n</g>\n<!-- 10&#45;&gt;12 -->\n<g id=\"edge12\" class=\"edge\">\n<title>10&#45;&gt;12</title>\n<path fill=\"none\" stroke=\"black\" d=\"M733.11,-103.73C745.81,-94.33 759.3,-84.35 771.95,-74.99\"/>\n<polygon fill=\"black\" stroke=\"black\" points=\"773.82,-77.96 779.78,-69.2 769.65,-72.33 773.82,-77.96\"/>\n</g>\n</g>\n</svg>\n",
      "text/plain": [
       "<graphviz.sources.Source at 0x183c00d0>"
      ]
     },
     "execution_count": 33,
     "metadata": {},
     "output_type": "execute_result"
    }
   ],
   "source": [
    "graph = visualizar_arvore(clf_gridcv.best_estimator_)\n",
    "graph"
   ]
  },
  {
   "attachments": {},
   "cell_type": "markdown",
   "metadata": {},
   "source": [
    "# Parte II"
   ]
  },
  {
   "attachments": {},
   "cell_type": "markdown",
   "metadata": {},
   "source": [
    "### Busca aleatória com RandomSearch"
   ]
  },
  {
   "cell_type": "code",
   "execution_count": 34,
   "metadata": {},
   "outputs": [
    {
     "data": {
      "text/plain": [
       "{'max_depth': [3, 4, 5],\n",
       " 'min_samples_split': [32, 64, 128],\n",
       " 'min_samples_leaf': [32, 64, 128],\n",
       " 'criterion': ['gini', 'entropy', 'log_loss']}"
      ]
     },
     "execution_count": 34,
     "metadata": {},
     "output_type": "execute_result"
    }
   ],
   "source": [
    "# lembrando do espaço de hiperparâmetros\n",
    "espaco_de_parametros"
   ]
  },
  {
   "cell_type": "code",
   "execution_count": 35,
   "metadata": {},
   "outputs": [],
   "source": [
    "clf_random_search_cv  = RandomizedSearchCV(DecisionTreeClassifier(), espaco_de_parametros, n_iter=16, cv=GroupKFold(n_splits=10), random_state=SEED)\n",
    "\n",
    "clf_random_search_cv.fit(X, y, groups=df_veiculos_grupo['modelo_aleatorio'])\n",
    "\n",
    "df_resultados = pd.DataFrame(clf_random_search_cv.cv_results_)"
   ]
  },
  {
   "cell_type": "code",
   "execution_count": 36,
   "metadata": {},
   "outputs": [
    {
     "data": {
      "text/plain": [
       "{'min_samples_split': 128,\n",
       " 'min_samples_leaf': 32,\n",
       " 'max_depth': 3,\n",
       " 'criterion': 'entropy'}"
      ]
     },
     "execution_count": 36,
     "metadata": {},
     "output_type": "execute_result"
    }
   ],
   "source": [
    "# melhores parâmetros\n",
    "clf_random_search_cv.best_params_"
   ]
  },
  {
   "cell_type": "code",
   "execution_count": 37,
   "metadata": {},
   "outputs": [
    {
     "data": {
      "text/plain": [
       "78.69859849511785"
      ]
     },
     "execution_count": 37,
     "metadata": {},
     "output_type": "execute_result"
    }
   ],
   "source": [
    "# melhor score\n",
    "clf_random_search_cv.best_score_ * 100"
   ]
  },
  {
   "cell_type": "code",
   "execution_count": 38,
   "metadata": {},
   "outputs": [
    {
     "data": {
      "text/html": [
       "<style>#sk-container-id-3 {color: black;background-color: white;}#sk-container-id-3 pre{padding: 0;}#sk-container-id-3 div.sk-toggleable {background-color: white;}#sk-container-id-3 label.sk-toggleable__label {cursor: pointer;display: block;width: 100%;margin-bottom: 0;padding: 0.3em;box-sizing: border-box;text-align: center;}#sk-container-id-3 label.sk-toggleable__label-arrow:before {content: \"▸\";float: left;margin-right: 0.25em;color: #696969;}#sk-container-id-3 label.sk-toggleable__label-arrow:hover:before {color: black;}#sk-container-id-3 div.sk-estimator:hover label.sk-toggleable__label-arrow:before {color: black;}#sk-container-id-3 div.sk-toggleable__content {max-height: 0;max-width: 0;overflow: hidden;text-align: left;background-color: #f0f8ff;}#sk-container-id-3 div.sk-toggleable__content pre {margin: 0.2em;color: black;border-radius: 0.25em;background-color: #f0f8ff;}#sk-container-id-3 input.sk-toggleable__control:checked~div.sk-toggleable__content {max-height: 200px;max-width: 100%;overflow: auto;}#sk-container-id-3 input.sk-toggleable__control:checked~label.sk-toggleable__label-arrow:before {content: \"▾\";}#sk-container-id-3 div.sk-estimator input.sk-toggleable__control:checked~label.sk-toggleable__label {background-color: #d4ebff;}#sk-container-id-3 div.sk-label input.sk-toggleable__control:checked~label.sk-toggleable__label {background-color: #d4ebff;}#sk-container-id-3 input.sk-hidden--visually {border: 0;clip: rect(1px 1px 1px 1px);clip: rect(1px, 1px, 1px, 1px);height: 1px;margin: -1px;overflow: hidden;padding: 0;position: absolute;width: 1px;}#sk-container-id-3 div.sk-estimator {font-family: monospace;background-color: #f0f8ff;border: 1px dotted black;border-radius: 0.25em;box-sizing: border-box;margin-bottom: 0.5em;}#sk-container-id-3 div.sk-estimator:hover {background-color: #d4ebff;}#sk-container-id-3 div.sk-parallel-item::after {content: \"\";width: 100%;border-bottom: 1px solid gray;flex-grow: 1;}#sk-container-id-3 div.sk-label:hover label.sk-toggleable__label {background-color: #d4ebff;}#sk-container-id-3 div.sk-serial::before {content: \"\";position: absolute;border-left: 1px solid gray;box-sizing: border-box;top: 0;bottom: 0;left: 50%;z-index: 0;}#sk-container-id-3 div.sk-serial {display: flex;flex-direction: column;align-items: center;background-color: white;padding-right: 0.2em;padding-left: 0.2em;position: relative;}#sk-container-id-3 div.sk-item {position: relative;z-index: 1;}#sk-container-id-3 div.sk-parallel {display: flex;align-items: stretch;justify-content: center;background-color: white;position: relative;}#sk-container-id-3 div.sk-item::before, #sk-container-id-3 div.sk-parallel-item::before {content: \"\";position: absolute;border-left: 1px solid gray;box-sizing: border-box;top: 0;bottom: 0;left: 50%;z-index: -1;}#sk-container-id-3 div.sk-parallel-item {display: flex;flex-direction: column;z-index: 1;position: relative;background-color: white;}#sk-container-id-3 div.sk-parallel-item:first-child::after {align-self: flex-end;width: 50%;}#sk-container-id-3 div.sk-parallel-item:last-child::after {align-self: flex-start;width: 50%;}#sk-container-id-3 div.sk-parallel-item:only-child::after {width: 0;}#sk-container-id-3 div.sk-dashed-wrapped {border: 1px dashed gray;margin: 0 0.4em 0.5em 0.4em;box-sizing: border-box;padding-bottom: 0.4em;background-color: white;}#sk-container-id-3 div.sk-label label {font-family: monospace;font-weight: bold;display: inline-block;line-height: 1.2em;}#sk-container-id-3 div.sk-label-container {text-align: center;}#sk-container-id-3 div.sk-container {/* jupyter's `normalize.less` sets `[hidden] { display: none; }` but bootstrap.min.css set `[hidden] { display: none !important; }` so we also need the `!important` here to be able to override the default hidden behavior on the sphinx rendered scikit-learn.org. See: https://github.com/scikit-learn/scikit-learn/issues/21755 */display: inline-block !important;position: relative;}#sk-container-id-3 div.sk-text-repr-fallback {display: none;}</style><div id=\"sk-container-id-3\" class=\"sk-top-container\"><div class=\"sk-text-repr-fallback\"><pre>DecisionTreeClassifier(criterion=&#x27;entropy&#x27;, max_depth=3, min_samples_leaf=32,\n",
       "                       min_samples_split=128)</pre><b>In a Jupyter environment, please rerun this cell to show the HTML representation or trust the notebook. <br />On GitHub, the HTML representation is unable to render, please try loading this page with nbviewer.org.</b></div><div class=\"sk-container\" hidden><div class=\"sk-item\"><div class=\"sk-estimator sk-toggleable\"><input class=\"sk-toggleable__control sk-hidden--visually\" id=\"sk-estimator-id-3\" type=\"checkbox\" checked><label for=\"sk-estimator-id-3\" class=\"sk-toggleable__label sk-toggleable__label-arrow\">DecisionTreeClassifier</label><div class=\"sk-toggleable__content\"><pre>DecisionTreeClassifier(criterion=&#x27;entropy&#x27;, max_depth=3, min_samples_leaf=32,\n",
       "                       min_samples_split=128)</pre></div></div></div></div></div>"
      ],
      "text/plain": [
       "DecisionTreeClassifier(criterion='entropy', max_depth=3, min_samples_leaf=32,\n",
       "                       min_samples_split=128)"
      ]
     },
     "execution_count": 38,
     "metadata": {},
     "output_type": "execute_result"
    }
   ],
   "source": [
    "# melhor modelo\n",
    "clf_random_search_cv.best_estimator_"
   ]
  },
  {
   "cell_type": "code",
   "execution_count": 39,
   "metadata": {},
   "outputs": [
    {
     "data": {
      "text/html": [
       "<div>\n",
       "<style scoped>\n",
       "    .dataframe tbody tr th:only-of-type {\n",
       "        vertical-align: middle;\n",
       "    }\n",
       "\n",
       "    .dataframe tbody tr th {\n",
       "        vertical-align: top;\n",
       "    }\n",
       "\n",
       "    .dataframe thead th {\n",
       "        text-align: right;\n",
       "    }\n",
       "</style>\n",
       "<table border=\"1\" class=\"dataframe\">\n",
       "  <thead>\n",
       "    <tr style=\"text-align: right;\">\n",
       "      <th></th>\n",
       "      <th>mean_fit_time</th>\n",
       "      <th>std_fit_time</th>\n",
       "      <th>mean_score_time</th>\n",
       "      <th>std_score_time</th>\n",
       "      <th>param_min_samples_split</th>\n",
       "      <th>param_min_samples_leaf</th>\n",
       "      <th>param_max_depth</th>\n",
       "      <th>...</th>\n",
       "      <th>split6_test_score</th>\n",
       "      <th>split7_test_score</th>\n",
       "      <th>split8_test_score</th>\n",
       "      <th>split9_test_score</th>\n",
       "      <th>mean_test_score</th>\n",
       "      <th>std_test_score</th>\n",
       "      <th>rank_test_score</th>\n",
       "    </tr>\n",
       "  </thead>\n",
       "  <tbody>\n",
       "    <tr>\n",
       "      <th>0</th>\n",
       "      <td>0.016787</td>\n",
       "      <td>0.003485</td>\n",
       "      <td>0.000309</td>\n",
       "      <td>0.000927</td>\n",
       "      <td>128</td>\n",
       "      <td>32</td>\n",
       "      <td>3</td>\n",
       "      <td>...</td>\n",
       "      <td>0.773509</td>\n",
       "      <td>0.769784</td>\n",
       "      <td>0.761321</td>\n",
       "      <td>0.801005</td>\n",
       "      <td>0.786986</td>\n",
       "      <td>0.018282</td>\n",
       "      <td>1</td>\n",
       "    </tr>\n",
       "    <tr>\n",
       "      <th>1</th>\n",
       "      <td>0.017187</td>\n",
       "      <td>0.004686</td>\n",
       "      <td>0.003127</td>\n",
       "      <td>0.006254</td>\n",
       "      <td>32</td>\n",
       "      <td>128</td>\n",
       "      <td>4</td>\n",
       "      <td>...</td>\n",
       "      <td>0.773509</td>\n",
       "      <td>0.769784</td>\n",
       "      <td>0.761321</td>\n",
       "      <td>0.801005</td>\n",
       "      <td>0.786986</td>\n",
       "      <td>0.018282</td>\n",
       "      <td>1</td>\n",
       "    </tr>\n",
       "    <tr>\n",
       "      <th>2</th>\n",
       "      <td>0.021873</td>\n",
       "      <td>0.007650</td>\n",
       "      <td>0.000000</td>\n",
       "      <td>0.000000</td>\n",
       "      <td>128</td>\n",
       "      <td>128</td>\n",
       "      <td>5</td>\n",
       "      <td>...</td>\n",
       "      <td>0.773509</td>\n",
       "      <td>0.769784</td>\n",
       "      <td>0.761321</td>\n",
       "      <td>0.801005</td>\n",
       "      <td>0.785491</td>\n",
       "      <td>0.016892</td>\n",
       "      <td>15</td>\n",
       "    </tr>\n",
       "    <tr>\n",
       "      <th>3</th>\n",
       "      <td>0.015625</td>\n",
       "      <td>0.000001</td>\n",
       "      <td>0.000000</td>\n",
       "      <td>0.000000</td>\n",
       "      <td>64</td>\n",
       "      <td>64</td>\n",
       "      <td>3</td>\n",
       "      <td>...</td>\n",
       "      <td>0.773509</td>\n",
       "      <td>0.769784</td>\n",
       "      <td>0.761321</td>\n",
       "      <td>0.801005</td>\n",
       "      <td>0.786986</td>\n",
       "      <td>0.018282</td>\n",
       "      <td>1</td>\n",
       "    </tr>\n",
       "    <tr>\n",
       "      <th>4</th>\n",
       "      <td>0.015628</td>\n",
       "      <td>0.000021</td>\n",
       "      <td>0.000000</td>\n",
       "      <td>0.000000</td>\n",
       "      <td>64</td>\n",
       "      <td>128</td>\n",
       "      <td>4</td>\n",
       "      <td>...</td>\n",
       "      <td>0.773509</td>\n",
       "      <td>0.769784</td>\n",
       "      <td>0.761321</td>\n",
       "      <td>0.801005</td>\n",
       "      <td>0.786986</td>\n",
       "      <td>0.018282</td>\n",
       "      <td>1</td>\n",
       "    </tr>\n",
       "  </tbody>\n",
       "</table>\n",
       "<p>5 rows × 22 columns</p>\n",
       "</div>"
      ],
      "text/plain": [
       "   mean_fit_time  std_fit_time  mean_score_time  std_score_time  \\\n",
       "0       0.016787      0.003485         0.000309        0.000927   \n",
       "1       0.017187      0.004686         0.003127        0.006254   \n",
       "2       0.021873      0.007650         0.000000        0.000000   \n",
       "3       0.015625      0.000001         0.000000        0.000000   \n",
       "4       0.015628      0.000021         0.000000        0.000000   \n",
       "\n",
       "  param_min_samples_split param_min_samples_leaf param_max_depth  ...  \\\n",
       "0                     128                     32               3  ...   \n",
       "1                      32                    128               4  ...   \n",
       "2                     128                    128               5  ...   \n",
       "3                      64                     64               3  ...   \n",
       "4                      64                    128               4  ...   \n",
       "\n",
       "  split6_test_score split7_test_score  split8_test_score  split9_test_score  \\\n",
       "0          0.773509          0.769784           0.761321           0.801005   \n",
       "1          0.773509          0.769784           0.761321           0.801005   \n",
       "2          0.773509          0.769784           0.761321           0.801005   \n",
       "3          0.773509          0.769784           0.761321           0.801005   \n",
       "4          0.773509          0.769784           0.761321           0.801005   \n",
       "\n",
       "   mean_test_score  std_test_score  rank_test_score  \n",
       "0         0.786986        0.018282                1  \n",
       "1         0.786986        0.018282                1  \n",
       "2         0.785491        0.016892               15  \n",
       "3         0.786986        0.018282                1  \n",
       "4         0.786986        0.018282                1  \n",
       "\n",
       "[5 rows x 22 columns]"
      ]
     },
     "execution_count": 39,
     "metadata": {},
     "output_type": "execute_result"
    }
   ],
   "source": [
    "df_resultados.head()"
   ]
  },
  {
   "attachments": {},
   "cell_type": "markdown",
   "metadata": {},
   "source": [
    "Após encontrar o melhor modelo é recomendado fazer um novo cross validation (nested cross validation), para evitar o uso de um modelo muito otimista."
   ]
  },
  {
   "cell_type": "code",
   "execution_count": 40,
   "metadata": {},
   "outputs": [
    {
     "name": "stdout",
     "output_type": "stream",
     "text": [
      "A quantidade de splits é de 10 folds\n",
      "A média dos scores é de 0.78690\n",
      "O desvio padrão é de 0.01041585330157833\n",
      "O intervalo de confiança ficou entre 76.61% e 80.77%\n"
     ]
    }
   ],
   "source": [
    "scores = cross_val_score(clf_random_search_cv.best_estimator_, X, y, cv=KFold(n_splits=10))\n",
    "calcula_intervao_confianca(scores)"
   ]
  },
  {
   "cell_type": "code",
   "execution_count": 41,
   "metadata": {},
   "outputs": [
    {
     "data": {
      "image/svg+xml": "<?xml version=\"1.0\" encoding=\"UTF-8\" standalone=\"no\"?>\n<!DOCTYPE svg PUBLIC \"-//W3C//DTD SVG 1.1//EN\"\n \"http://www.w3.org/Graphics/SVG/1.1/DTD/svg11.dtd\">\n<!-- Generated by graphviz version 7.1.0 (20230121.1956)\n -->\n<!-- Title: Tree Pages: 1 -->\n<svg width=\"899pt\" height=\"433pt\"\n viewBox=\"0.00 0.00 899.00 433.00\" xmlns=\"http://www.w3.org/2000/svg\" xmlns:xlink=\"http://www.w3.org/1999/xlink\">\n<g id=\"graph0\" class=\"graph\" transform=\"scale(1 1) rotate(0) translate(4 429)\">\n<title>Tree</title>\n<polygon fill=\"white\" stroke=\"none\" points=\"-4,4 -4,-429 895,-429 895,4 -4,4\"/>\n<!-- 0 -->\n<g id=\"node1\" class=\"node\">\n<title>0</title>\n<path fill=\"#c8e4f8\" stroke=\"black\" d=\"M368.5,-425C368.5,-425 245.5,-425 245.5,-425 239.5,-425 233.5,-419 233.5,-413 233.5,-413 233.5,-354 233.5,-354 233.5,-348 239.5,-342 245.5,-342 245.5,-342 368.5,-342 368.5,-342 374.5,-342 380.5,-348 380.5,-354 380.5,-354 380.5,-413 380.5,-413 380.5,-419 374.5,-425 368.5,-425\"/>\n<text text-anchor=\"middle\" x=\"307\" y=\"-409.8\" font-family=\"Helvetica,sans-Serif\" font-size=\"14.00\">preco &lt;= 59982.246</text>\n<text text-anchor=\"middle\" x=\"307\" y=\"-394.8\" font-family=\"Helvetica,sans-Serif\" font-size=\"14.00\">entropy = 0.981</text>\n<text text-anchor=\"middle\" x=\"307\" y=\"-379.8\" font-family=\"Helvetica,sans-Serif\" font-size=\"14.00\">samples = 10000</text>\n<text text-anchor=\"middle\" x=\"307\" y=\"-364.8\" font-family=\"Helvetica,sans-Serif\" font-size=\"14.00\">value = [4200, 5800]</text>\n<text text-anchor=\"middle\" x=\"307\" y=\"-349.8\" font-family=\"Helvetica,sans-Serif\" font-size=\"14.00\">class = sim</text>\n</g>\n<!-- 1 -->\n<g id=\"node2\" class=\"node\">\n<title>1</title>\n<path fill=\"#52a9e8\" stroke=\"black\" d=\"M275.5,-306C275.5,-306 152.5,-306 152.5,-306 146.5,-306 140.5,-300 140.5,-294 140.5,-294 140.5,-235 140.5,-235 140.5,-229 146.5,-223 152.5,-223 152.5,-223 275.5,-223 275.5,-223 281.5,-223 287.5,-229 287.5,-235 287.5,-235 287.5,-294 287.5,-294 287.5,-300 281.5,-306 275.5,-306\"/>\n<text text-anchor=\"middle\" x=\"214\" y=\"-290.8\" font-family=\"Helvetica,sans-Serif\" font-size=\"14.00\">preco &lt;= 40083.385</text>\n<text text-anchor=\"middle\" x=\"214\" y=\"-275.8\" font-family=\"Helvetica,sans-Serif\" font-size=\"14.00\">entropy = 0.504</text>\n<text text-anchor=\"middle\" x=\"214\" y=\"-260.8\" font-family=\"Helvetica,sans-Serif\" font-size=\"14.00\">samples = 4347</text>\n<text text-anchor=\"middle\" x=\"214\" y=\"-245.8\" font-family=\"Helvetica,sans-Serif\" font-size=\"14.00\">value = [484, 3863]</text>\n<text text-anchor=\"middle\" x=\"214\" y=\"-230.8\" font-family=\"Helvetica,sans-Serif\" font-size=\"14.00\">class = sim</text>\n</g>\n<!-- 0&#45;&gt;1 -->\n<g id=\"edge1\" class=\"edge\">\n<title>0&#45;&gt;1</title>\n<path fill=\"none\" stroke=\"black\" d=\"M274.47,-341.58C267.64,-332.98 260.36,-323.82 253.3,-314.95\"/>\n<polygon fill=\"black\" stroke=\"black\" points=\"256.26,-313.04 247.29,-307.39 250.78,-317.39 256.26,-313.04\"/>\n<text text-anchor=\"middle\" x=\"243.51\" y=\"-327.34\" font-family=\"Helvetica,sans-Serif\" font-size=\"14.00\">True</text>\n</g>\n<!-- 6 -->\n<g id=\"node7\" class=\"node\">\n<title>6</title>\n<path fill=\"#f3c3a0\" stroke=\"black\" d=\"M538,-306C538,-306 372,-306 372,-306 366,-306 360,-300 360,-294 360,-294 360,-235 360,-235 360,-229 366,-223 372,-223 372,-223 538,-223 538,-223 544,-223 550,-229 550,-235 550,-235 550,-294 550,-294 550,-300 544,-306 538,-306\"/>\n<text text-anchor=\"middle\" x=\"455\" y=\"-290.8\" font-family=\"Helvetica,sans-Serif\" font-size=\"14.00\">km_por_ano &lt;= 24124.006</text>\n<text text-anchor=\"middle\" x=\"455\" y=\"-275.8\" font-family=\"Helvetica,sans-Serif\" font-size=\"14.00\">entropy = 0.927</text>\n<text text-anchor=\"middle\" x=\"455\" y=\"-260.8\" font-family=\"Helvetica,sans-Serif\" font-size=\"14.00\">samples = 5653</text>\n<text text-anchor=\"middle\" x=\"455\" y=\"-245.8\" font-family=\"Helvetica,sans-Serif\" font-size=\"14.00\">value = [3716, 1937]</text>\n<text text-anchor=\"middle\" x=\"455\" y=\"-230.8\" font-family=\"Helvetica,sans-Serif\" font-size=\"14.00\">class = não</text>\n</g>\n<!-- 0&#45;&gt;6 -->\n<g id=\"edge6\" class=\"edge\">\n<title>0&#45;&gt;6</title>\n<path fill=\"none\" stroke=\"black\" d=\"M358.76,-341.58C370.25,-332.49 382.54,-322.79 394.35,-313.45\"/>\n<polygon fill=\"black\" stroke=\"black\" points=\"396.4,-316.28 402.08,-307.34 392.06,-310.79 396.4,-316.28\"/>\n<text text-anchor=\"middle\" x=\"400.36\" y=\"-327.53\" font-family=\"Helvetica,sans-Serif\" font-size=\"14.00\">False</text>\n</g>\n<!-- 2 -->\n<g id=\"node3\" class=\"node\">\n<title>2</title>\n<path fill=\"#399de5\" stroke=\"black\" d=\"M110,-179.5C110,-179.5 12,-179.5 12,-179.5 6,-179.5 0,-173.5 0,-167.5 0,-167.5 0,-123.5 0,-123.5 0,-117.5 6,-111.5 12,-111.5 12,-111.5 110,-111.5 110,-111.5 116,-111.5 122,-117.5 122,-123.5 122,-123.5 122,-167.5 122,-167.5 122,-173.5 116,-179.5 110,-179.5\"/>\n<text text-anchor=\"middle\" x=\"61\" y=\"-164.3\" font-family=\"Helvetica,sans-Serif\" font-size=\"14.00\">entropy = 0.0</text>\n<text text-anchor=\"middle\" x=\"61\" y=\"-149.3\" font-family=\"Helvetica,sans-Serif\" font-size=\"14.00\">samples = 1935</text>\n<text text-anchor=\"middle\" x=\"61\" y=\"-134.3\" font-family=\"Helvetica,sans-Serif\" font-size=\"14.00\">value = [0, 1935]</text>\n<text text-anchor=\"middle\" x=\"61\" y=\"-119.3\" font-family=\"Helvetica,sans-Serif\" font-size=\"14.00\">class = sim</text>\n</g>\n<!-- 1&#45;&gt;2 -->\n<g id=\"edge2\" class=\"edge\">\n<title>1&#45;&gt;2</title>\n<path fill=\"none\" stroke=\"black\" d=\"M160.49,-222.58C145.22,-210.9 128.6,-198.19 113.39,-186.57\"/>\n<polygon fill=\"black\" stroke=\"black\" points=\"115.9,-184.07 105.83,-180.78 111.65,-189.64 115.9,-184.07\"/>\n</g>\n<!-- 3 -->\n<g id=\"node4\" class=\"node\">\n<title>3</title>\n<path fill=\"#6bb6ec\" stroke=\"black\" d=\"M275.5,-187C275.5,-187 152.5,-187 152.5,-187 146.5,-187 140.5,-181 140.5,-175 140.5,-175 140.5,-116 140.5,-116 140.5,-110 146.5,-104 152.5,-104 152.5,-104 275.5,-104 275.5,-104 281.5,-104 287.5,-110 287.5,-116 287.5,-116 287.5,-175 287.5,-175 287.5,-181 281.5,-187 275.5,-187\"/>\n<text text-anchor=\"middle\" x=\"214\" y=\"-171.8\" font-family=\"Helvetica,sans-Serif\" font-size=\"14.00\">preco &lt;= 41083.029</text>\n<text text-anchor=\"middle\" x=\"214\" y=\"-156.8\" font-family=\"Helvetica,sans-Serif\" font-size=\"14.00\">entropy = 0.723</text>\n<text text-anchor=\"middle\" x=\"214\" y=\"-141.8\" font-family=\"Helvetica,sans-Serif\" font-size=\"14.00\">samples = 2412</text>\n<text text-anchor=\"middle\" x=\"214\" y=\"-126.8\" font-family=\"Helvetica,sans-Serif\" font-size=\"14.00\">value = [484, 1928]</text>\n<text text-anchor=\"middle\" x=\"214\" y=\"-111.8\" font-family=\"Helvetica,sans-Serif\" font-size=\"14.00\">class = sim</text>\n</g>\n<!-- 1&#45;&gt;3 -->\n<g id=\"edge3\" class=\"edge\">\n<title>1&#45;&gt;3</title>\n<path fill=\"none\" stroke=\"black\" d=\"M214,-222.58C214,-214.79 214,-206.53 214,-198.45\"/>\n<polygon fill=\"black\" stroke=\"black\" points=\"217.5,-198.71 214,-188.71 210.5,-198.71 217.5,-198.71\"/>\n</g>\n<!-- 4 -->\n<g id=\"node5\" class=\"node\">\n<title>4</title>\n<path fill=\"#95cbf1\" stroke=\"black\" d=\"M115,-68C115,-68 23,-68 23,-68 17,-68 11,-62 11,-56 11,-56 11,-12 11,-12 11,-6 17,0 23,0 23,0 115,0 115,0 121,0 127,-6 127,-12 127,-12 127,-56 127,-56 127,-62 121,-68 115,-68\"/>\n<text text-anchor=\"middle\" x=\"69\" y=\"-52.8\" font-family=\"Helvetica,sans-Serif\" font-size=\"14.00\">entropy = 0.902</text>\n<text text-anchor=\"middle\" x=\"69\" y=\"-37.8\" font-family=\"Helvetica,sans-Serif\" font-size=\"14.00\">samples = 110</text>\n<text text-anchor=\"middle\" x=\"69\" y=\"-22.8\" font-family=\"Helvetica,sans-Serif\" font-size=\"14.00\">value = [35, 75]</text>\n<text text-anchor=\"middle\" x=\"69\" y=\"-7.8\" font-family=\"Helvetica,sans-Serif\" font-size=\"14.00\">class = sim</text>\n</g>\n<!-- 3&#45;&gt;4 -->\n<g id=\"edge4\" class=\"edge\">\n<title>3&#45;&gt;4</title>\n<path fill=\"none\" stroke=\"black\" d=\"M160.01,-103.73C147.57,-94.33 134.35,-84.35 121.95,-74.99\"/>\n<polygon fill=\"black\" stroke=\"black\" points=\"124.39,-72.45 114.3,-69.21 120.17,-78.03 124.39,-72.45\"/>\n</g>\n<!-- 5 -->\n<g id=\"node6\" class=\"node\">\n<title>5</title>\n<path fill=\"#69b5eb\" stroke=\"black\" d=\"M271,-68C271,-68 157,-68 157,-68 151,-68 145,-62 145,-56 145,-56 145,-12 145,-12 145,-6 151,0 157,0 157,0 271,0 271,0 277,0 283,-6 283,-12 283,-12 283,-56 283,-56 283,-62 277,-68 271,-68\"/>\n<text text-anchor=\"middle\" x=\"214\" y=\"-52.8\" font-family=\"Helvetica,sans-Serif\" font-size=\"14.00\">entropy = 0.712</text>\n<text text-anchor=\"middle\" x=\"214\" y=\"-37.8\" font-family=\"Helvetica,sans-Serif\" font-size=\"14.00\">samples = 2302</text>\n<text text-anchor=\"middle\" x=\"214\" y=\"-22.8\" font-family=\"Helvetica,sans-Serif\" font-size=\"14.00\">value = [449, 1853]</text>\n<text text-anchor=\"middle\" x=\"214\" y=\"-7.8\" font-family=\"Helvetica,sans-Serif\" font-size=\"14.00\">class = sim</text>\n</g>\n<!-- 3&#45;&gt;5 -->\n<g id=\"edge5\" class=\"edge\">\n<title>3&#45;&gt;5</title>\n<path fill=\"none\" stroke=\"black\" d=\"M214,-103.73C214,-95.88 214,-87.63 214,-79.67\"/>\n<polygon fill=\"black\" stroke=\"black\" points=\"217.5,-79.81 214,-69.81 210.5,-79.81 217.5,-79.81\"/>\n</g>\n<!-- 7 -->\n<g id=\"node8\" class=\"node\">\n<title>7</title>\n<path fill=\"#fcefe5\" stroke=\"black\" d=\"M516,-187C516,-187 394,-187 394,-187 388,-187 382,-181 382,-175 382,-175 382,-116 382,-116 382,-110 388,-104 394,-104 394,-104 516,-104 516,-104 522,-104 528,-110 528,-116 528,-116 528,-175 528,-175 528,-181 522,-187 516,-187\"/>\n<text text-anchor=\"middle\" x=\"455\" y=\"-171.8\" font-family=\"Helvetica,sans-Serif\" font-size=\"14.00\">preco &lt;= 99974.41</text>\n<text text-anchor=\"middle\" x=\"455\" y=\"-156.8\" font-family=\"Helvetica,sans-Serif\" font-size=\"14.00\">entropy = 0.996</text>\n<text text-anchor=\"middle\" x=\"455\" y=\"-141.8\" font-family=\"Helvetica,sans-Serif\" font-size=\"14.00\">samples = 3513</text>\n<text text-anchor=\"middle\" x=\"455\" y=\"-126.8\" font-family=\"Helvetica,sans-Serif\" font-size=\"14.00\">value = [1879, 1634]</text>\n<text text-anchor=\"middle\" x=\"455\" y=\"-111.8\" font-family=\"Helvetica,sans-Serif\" font-size=\"14.00\">class = não</text>\n</g>\n<!-- 6&#45;&gt;7 -->\n<g id=\"edge7\" class=\"edge\">\n<title>6&#45;&gt;7</title>\n<path fill=\"none\" stroke=\"black\" d=\"M455,-222.58C455,-214.79 455,-206.53 455,-198.45\"/>\n<polygon fill=\"black\" stroke=\"black\" points=\"458.5,-198.71 455,-188.71 451.5,-198.71 458.5,-198.71\"/>\n</g>\n<!-- 10 -->\n<g id=\"node11\" class=\"node\">\n<title>10</title>\n<path fill=\"#e9965a\" stroke=\"black\" d=\"M743.5,-187C743.5,-187 612.5,-187 612.5,-187 606.5,-187 600.5,-181 600.5,-175 600.5,-175 600.5,-116 600.5,-116 600.5,-110 606.5,-104 612.5,-104 612.5,-104 743.5,-104 743.5,-104 749.5,-104 755.5,-110 755.5,-116 755.5,-116 755.5,-175 755.5,-175 755.5,-181 749.5,-187 743.5,-187\"/>\n<text text-anchor=\"middle\" x=\"678\" y=\"-171.8\" font-family=\"Helvetica,sans-Serif\" font-size=\"14.00\">preco &lt;= 100076.957</text>\n<text text-anchor=\"middle\" x=\"678\" y=\"-156.8\" font-family=\"Helvetica,sans-Serif\" font-size=\"14.00\">entropy = 0.588</text>\n<text text-anchor=\"middle\" x=\"678\" y=\"-141.8\" font-family=\"Helvetica,sans-Serif\" font-size=\"14.00\">samples = 2140</text>\n<text text-anchor=\"middle\" x=\"678\" y=\"-126.8\" font-family=\"Helvetica,sans-Serif\" font-size=\"14.00\">value = [1837, 303]</text>\n<text text-anchor=\"middle\" x=\"678\" y=\"-111.8\" font-family=\"Helvetica,sans-Serif\" font-size=\"14.00\">class = não</text>\n</g>\n<!-- 6&#45;&gt;10 -->\n<g id=\"edge10\" class=\"edge\">\n<title>6&#45;&gt;10</title>\n<path fill=\"none\" stroke=\"black\" d=\"M532.99,-222.58C551.41,-212.92 571.18,-202.55 590,-192.67\"/>\n<polygon fill=\"black\" stroke=\"black\" points=\"591.48,-195.85 598.71,-188.1 588.23,-189.65 591.48,-195.85\"/>\n</g>\n<!-- 8 -->\n<g id=\"node9\" class=\"node\">\n<title>8</title>\n<path fill=\"#f9e0ce\" stroke=\"black\" d=\"M435,-68C435,-68 313,-68 313,-68 307,-68 301,-62 301,-56 301,-56 301,-12 301,-12 301,-6 307,0 313,0 313,0 435,0 435,0 441,0 447,-6 447,-12 447,-12 447,-56 447,-56 447,-62 441,-68 435,-68\"/>\n<text text-anchor=\"middle\" x=\"374\" y=\"-52.8\" font-family=\"Helvetica,sans-Serif\" font-size=\"14.00\">entropy = 0.985</text>\n<text text-anchor=\"middle\" x=\"374\" y=\"-37.8\" font-family=\"Helvetica,sans-Serif\" font-size=\"14.00\">samples = 2944</text>\n<text text-anchor=\"middle\" x=\"374\" y=\"-22.8\" font-family=\"Helvetica,sans-Serif\" font-size=\"14.00\">value = [1682, 1262]</text>\n<text text-anchor=\"middle\" x=\"374\" y=\"-7.8\" font-family=\"Helvetica,sans-Serif\" font-size=\"14.00\">class = não</text>\n</g>\n<!-- 7&#45;&gt;8 -->\n<g id=\"edge8\" class=\"edge\">\n<title>7&#45;&gt;8</title>\n<path fill=\"none\" stroke=\"black\" d=\"M424.84,-103.73C418.5,-95.15 411.79,-86.09 405.41,-77.46\"/>\n<polygon fill=\"black\" stroke=\"black\" points=\"408.29,-75.47 399.53,-69.52 402.67,-79.64 408.29,-75.47\"/>\n</g>\n<!-- 9 -->\n<g id=\"node10\" class=\"node\">\n<title>9</title>\n<path fill=\"#a2d1f3\" stroke=\"black\" d=\"M583,-68C583,-68 477,-68 477,-68 471,-68 465,-62 465,-56 465,-56 465,-12 465,-12 465,-6 471,0 477,0 477,0 583,0 583,0 589,0 595,-6 595,-12 595,-12 595,-56 595,-56 595,-62 589,-68 583,-68\"/>\n<text text-anchor=\"middle\" x=\"530\" y=\"-52.8\" font-family=\"Helvetica,sans-Serif\" font-size=\"14.00\">entropy = 0.931</text>\n<text text-anchor=\"middle\" x=\"530\" y=\"-37.8\" font-family=\"Helvetica,sans-Serif\" font-size=\"14.00\">samples = 569</text>\n<text text-anchor=\"middle\" x=\"530\" y=\"-22.8\" font-family=\"Helvetica,sans-Serif\" font-size=\"14.00\">value = [197, 372]</text>\n<text text-anchor=\"middle\" x=\"530\" y=\"-7.8\" font-family=\"Helvetica,sans-Serif\" font-size=\"14.00\">class = sim</text>\n</g>\n<!-- 7&#45;&gt;9 -->\n<g id=\"edge9\" class=\"edge\">\n<title>7&#45;&gt;9</title>\n<path fill=\"none\" stroke=\"black\" d=\"M482.93,-103.73C488.74,-95.24 494.88,-86.28 500.73,-77.73\"/>\n<polygon fill=\"black\" stroke=\"black\" points=\"503.57,-79.78 506.34,-69.55 497.8,-75.82 503.57,-79.78\"/>\n</g>\n<!-- 11 -->\n<g id=\"node12\" class=\"node\">\n<title>11</title>\n<path fill=\"#e68742\" stroke=\"black\" d=\"M731,-68C731,-68 625,-68 625,-68 619,-68 613,-62 613,-56 613,-56 613,-12 613,-12 613,-6 619,0 625,0 625,0 731,0 731,0 737,0 743,-6 743,-12 743,-12 743,-56 743,-56 743,-62 737,-68 731,-68\"/>\n<text text-anchor=\"middle\" x=\"678\" y=\"-52.8\" font-family=\"Helvetica,sans-Serif\" font-size=\"14.00\">entropy = 0.254</text>\n<text text-anchor=\"middle\" x=\"678\" y=\"-37.8\" font-family=\"Helvetica,sans-Serif\" font-size=\"14.00\">samples = 1809</text>\n<text text-anchor=\"middle\" x=\"678\" y=\"-22.8\" font-family=\"Helvetica,sans-Serif\" font-size=\"14.00\">value = [1732, 77]</text>\n<text text-anchor=\"middle\" x=\"678\" y=\"-7.8\" font-family=\"Helvetica,sans-Serif\" font-size=\"14.00\">class = não</text>\n</g>\n<!-- 10&#45;&gt;11 -->\n<g id=\"edge11\" class=\"edge\">\n<title>10&#45;&gt;11</title>\n<path fill=\"none\" stroke=\"black\" d=\"M678,-103.73C678,-95.88 678,-87.63 678,-79.67\"/>\n<polygon fill=\"black\" stroke=\"black\" points=\"681.5,-79.81 678,-69.81 674.5,-79.81 681.5,-79.81\"/>\n</g>\n<!-- 12 -->\n<g id=\"node13\" class=\"node\">\n<title>12</title>\n<path fill=\"#95cbf1\" stroke=\"black\" d=\"M879,-68C879,-68 773,-68 773,-68 767,-68 761,-62 761,-56 761,-56 761,-12 761,-12 761,-6 767,0 773,0 773,0 879,0 879,0 885,0 891,-6 891,-12 891,-12 891,-56 891,-56 891,-62 885,-68 879,-68\"/>\n<text text-anchor=\"middle\" x=\"826\" y=\"-52.8\" font-family=\"Helvetica,sans-Serif\" font-size=\"14.00\">entropy = 0.901</text>\n<text text-anchor=\"middle\" x=\"826\" y=\"-37.8\" font-family=\"Helvetica,sans-Serif\" font-size=\"14.00\">samples = 331</text>\n<text text-anchor=\"middle\" x=\"826\" y=\"-22.8\" font-family=\"Helvetica,sans-Serif\" font-size=\"14.00\">value = [105, 226]</text>\n<text text-anchor=\"middle\" x=\"826\" y=\"-7.8\" font-family=\"Helvetica,sans-Serif\" font-size=\"14.00\">class = sim</text>\n</g>\n<!-- 10&#45;&gt;12 -->\n<g id=\"edge12\" class=\"edge\">\n<title>10&#45;&gt;12</title>\n<path fill=\"none\" stroke=\"black\" d=\"M733.11,-103.73C745.81,-94.33 759.3,-84.35 771.95,-74.99\"/>\n<polygon fill=\"black\" stroke=\"black\" points=\"773.82,-77.96 779.78,-69.2 769.65,-72.33 773.82,-77.96\"/>\n</g>\n</g>\n</svg>\n",
      "text/plain": [
       "<graphviz.sources.Source at 0x1888a4d0>"
      ]
     },
     "execution_count": 41,
     "metadata": {},
     "output_type": "execute_result"
    }
   ],
   "source": [
    "graph = visualizar_arvore(clf_random_search_cv.best_estimator_)\n",
    "graph"
   ]
  },
  {
   "attachments": {},
   "cell_type": "markdown",
   "metadata": {},
   "source": [
    "### Customizando o espaço de parâmetros"
   ]
  },
  {
   "cell_type": "code",
   "execution_count": 42,
   "metadata": {},
   "outputs": [],
   "source": [
    "# Hiper parâmetros da DecisionTreeClassifier (3 * 3 * 3 * 3 = 243 combinações)\n",
    "# max_deth - profundidade máxima\n",
    "# min_samples_split - O número mínimo de amostras necessárias para dividir um nó interno\n",
    "# min_samples_leaf - O número mínimo de amostras que devem estar em um nó folha.\n",
    "# criterion - A função para medir a qualidade de uma divisão. \n",
    "espaco_de_parametros = {\n",
    "    \"max_depth\": [3, 5, 10, 15, 20, 30, None],              # testando outras profundidades\n",
    "    \"min_samples_split\": randint(32, 128),                  # função que retorna valores inteiros aleatórios\n",
    "    \"min_samples_leaf\": randint(32, 128),\n",
    "    \"criterion\": ['gini', 'entropy', 'log_loss']\n",
    "}\n",
    "\n",
    "\n",
    "# Todas as combinação de parâmetros é calculada assim:\n",
    "# 7 * 96 * 96 * 3 = 193.536 combinações possíveis"
   ]
  },
  {
   "cell_type": "code",
   "execution_count": 43,
   "metadata": {},
   "outputs": [],
   "source": [
    "clf_random_search_cv  = RandomizedSearchCV(DecisionTreeClassifier(), espaco_de_parametros, n_iter=16, cv=GroupKFold(n_splits=10), random_state=SEED)\n",
    "\n",
    "clf_random_search_cv.fit(X, y, groups=df_veiculos_grupo['modelo_aleatorio'])\n",
    "\n",
    "df_resultados = pd.DataFrame(clf_random_search_cv.cv_results_)"
   ]
  },
  {
   "cell_type": "code",
   "execution_count": 44,
   "metadata": {},
   "outputs": [
    {
     "name": "stdout",
     "output_type": "stream",
     "text": [
      "A quantidade de splits é de 10 folds\n",
      "A média dos scores é de 0.78690\n",
      "O desvio padrão é de 0.01041585330157833\n",
      "O intervalo de confiança ficou entre 76.61% e 80.77%\n"
     ]
    }
   ],
   "source": [
    "scores = cross_val_score(clf_random_search_cv.best_estimator_, X, y, cv=KFold(n_splits=10))\n",
    "calcula_intervao_confianca(scores)"
   ]
  },
  {
   "attachments": {},
   "cell_type": "markdown",
   "metadata": {},
   "source": [
    "Imprimir os resultados do cross validate"
   ]
  },
  {
   "cell_type": "code",
   "execution_count": 45,
   "metadata": {},
   "outputs": [
    {
     "name": "stdout",
     "output_type": "stream",
     "text": [
      "Média 0.7870 - Desvio padrão 0.0183 - Parâmetros {'criterion': 'log_loss', 'max_depth': 3, 'min_samples_leaf': 73, 'min_samples_split': 76}\n",
      "Média 0.7870 - Desvio padrão 0.0183 - Parâmetros {'criterion': 'log_loss', 'max_depth': 3, 'min_samples_leaf': 62, 'min_samples_split': 44}\n",
      "Média 0.7864 - Desvio padrão 0.0192 - Parâmetros {'criterion': 'log_loss', 'max_depth': None, 'min_samples_leaf': 109, 'min_samples_split': 37}\n",
      "Média 0.7860 - Desvio padrão 0.0197 - Parâmetros {'criterion': 'gini', 'max_depth': None, 'min_samples_leaf': 105, 'min_samples_split': 99}\n",
      "Média 0.7860 - Desvio padrão 0.0178 - Parâmetros {'criterion': 'gini', 'max_depth': 5, 'min_samples_leaf': 102, 'min_samples_split': 82}\n",
      "Média 0.7858 - Desvio padrão 0.0192 - Parâmetros {'criterion': 'entropy', 'max_depth': 20, 'min_samples_leaf': 110, 'min_samples_split': 85}\n",
      "Média 0.7855 - Desvio padrão 0.0169 - Parâmetros {'criterion': 'gini', 'max_depth': 5, 'min_samples_leaf': 114, 'min_samples_split': 122}\n",
      "Média 0.7836 - Desvio padrão 0.0195 - Parâmetros {'criterion': 'entropy', 'max_depth': None, 'min_samples_leaf': 118, 'min_samples_split': 45}\n",
      "Média 0.7830 - Desvio padrão 0.0172 - Parâmetros {'criterion': 'log_loss', 'max_depth': 30, 'min_samples_leaf': 94, 'min_samples_split': 49}\n",
      "Média 0.7827 - Desvio padrão 0.0183 - Parâmetros {'criterion': 'gini', 'max_depth': 10, 'min_samples_leaf': 83, 'min_samples_split': 95}\n",
      "Média 0.7812 - Desvio padrão 0.0176 - Parâmetros {'criterion': 'log_loss', 'max_depth': 15, 'min_samples_leaf': 74, 'min_samples_split': 81}\n",
      "Média 0.7785 - Desvio padrão 0.0191 - Parâmetros {'criterion': 'gini', 'max_depth': 10, 'min_samples_leaf': 48, 'min_samples_split': 74}\n",
      "Média 0.7754 - Desvio padrão 0.0162 - Parâmetros {'criterion': 'entropy', 'max_depth': None, 'min_samples_leaf': 52, 'min_samples_split': 68}\n",
      "Média 0.7752 - Desvio padrão 0.0199 - Parâmetros {'criterion': 'gini', 'max_depth': 30, 'min_samples_leaf': 62, 'min_samples_split': 113}\n",
      "Média 0.7751 - Desvio padrão 0.0177 - Parâmetros {'criterion': 'entropy', 'max_depth': None, 'min_samples_leaf': 50, 'min_samples_split': 113}\n",
      "Média 0.7721 - Desvio padrão 0.0212 - Parâmetros {'criterion': 'entropy', 'max_depth': 15, 'min_samples_leaf': 46, 'min_samples_split': 68}\n"
     ]
    }
   ],
   "source": [
    "for indice, linha in df_resultados[['mean_test_score', 'std_test_score', 'params']].sort_values(\"mean_test_score\", ascending=False).iterrows():\n",
    "    print(f'Média {linha.mean_test_score:.4f} - Desvio padrão {linha.std_test_score:.4f} - Parâmetros {linha.params}')"
   ]
  },
  {
   "attachments": {},
   "cell_type": "markdown",
   "metadata": {},
   "source": [
    "### Comparando GridSearchCV com o RandomizedSearchCV\n",
    "Com o GridSearchCV teremos certeza de qual o modelo terá a melhor acurácia, mas com o RandomizedSearchCV teremos controle sobre o custo de processamento e tempo.</br>\n",
    "Agora vamos utilizar o RandomFlorestClassifier"
   ]
  },
  {
   "cell_type": "code",
   "execution_count": 46,
   "metadata": {},
   "outputs": [],
   "source": [
    "# Hiper parâmetros da DecisionTreeClassifier (3 * 3 * 3 * 3 = 243 combinações)\n",
    "# max_deth - profundidade máxima\n",
    "# min_samples_split - O número mínimo de amostras necessárias para dividir um nó interno\n",
    "# min_samples_leaf - O número mínimo de amostras que devem estar em um nó folha.\n",
    "# criterion - A função para medir a qualidade de uma divisão. \n",
    "# n_estimators - Número de arvores de decisão que serão criadas\n",
    "# bootstrap - o treinamento do modelo será feito com parte dos dados, evita overfitting\n",
    "espaco_de_parametros = {\n",
    "    \"max_depth\": [3, 5, 10],                     \n",
    "    \"min_samples_split\": [32, 64, 128],          \n",
    "    \"min_samples_leaf\": [32, 64, 128],\n",
    "    \"criterion\": ['gini', 'entropy', 'log_loss'],\n",
    "    \"n_estimators\": [10, 100],\n",
    "    \"bootstrap\": [True, False]\n",
    "}\n",
    "\n",
    "\n",
    "# Todas as combinação de parâmetros é calculada assim:\n",
    "# 3 * 3 * 3 * 3 * 2 * 2 = 324 combinações possíveis"
   ]
  },
  {
   "attachments": {},
   "cell_type": "markdown",
   "metadata": {},
   "source": [
    "RandomForestClassifier com  GridSearchCV</br>\n",
    "obs- a execução da próxima celula demora em média 30 minutos"
   ]
  },
  {
   "cell_type": "code",
   "execution_count": 47,
   "metadata": {},
   "outputs": [],
   "source": [
    "clf_gridcv  = GridSearchCV(RandomForestClassifier(), espaco_de_parametros, cv=KFold(n_splits=10, shuffle=True))\n",
    "\n",
    "clf_gridcv.fit(X, y)\n",
    "\n",
    "df_resultados = pd.DataFrame(clf_gridcv.cv_results_)"
   ]
  },
  {
   "cell_type": "code",
   "execution_count": 48,
   "metadata": {},
   "outputs": [
    {
     "name": "stdout",
     "output_type": "stream",
     "text": [
      "Média 0.7846 - Desvio padrão 0.0130 - Parâmetros {'bootstrap': False, 'criterion': 'log_loss', 'max_depth': 10, 'min_samples_leaf': 32, 'min_samples_split': 128, 'n_estimators': 100}\n",
      "Média 0.7843 - Desvio padrão 0.0083 - Parâmetros {'bootstrap': True, 'criterion': 'entropy', 'max_depth': 10, 'min_samples_leaf': 32, 'min_samples_split': 128, 'n_estimators': 100}\n",
      "Média 0.7840 - Desvio padrão 0.0118 - Parâmetros {'bootstrap': False, 'criterion': 'entropy', 'max_depth': 10, 'min_samples_leaf': 32, 'min_samples_split': 128, 'n_estimators': 100}\n",
      "Média 0.7837 - Desvio padrão 0.0141 - Parâmetros {'bootstrap': False, 'criterion': 'entropy', 'max_depth': 10, 'min_samples_leaf': 64, 'min_samples_split': 128, 'n_estimators': 100}\n",
      "Média 0.7836 - Desvio padrão 0.0125 - Parâmetros {'bootstrap': False, 'criterion': 'gini', 'max_depth': 10, 'min_samples_leaf': 64, 'min_samples_split': 64, 'n_estimators': 100}\n",
      "Média 0.7836 - Desvio padrão 0.0107 - Parâmetros {'bootstrap': True, 'criterion': 'gini', 'max_depth': 10, 'min_samples_leaf': 32, 'min_samples_split': 128, 'n_estimators': 100}\n",
      "Média 0.7834 - Desvio padrão 0.0109 - Parâmetros {'bootstrap': True, 'criterion': 'log_loss', 'max_depth': 10, 'min_samples_leaf': 32, 'min_samples_split': 32, 'n_estimators': 100}\n",
      "Média 0.7834 - Desvio padrão 0.0135 - Parâmetros {'bootstrap': False, 'criterion': 'log_loss', 'max_depth': 10, 'min_samples_leaf': 64, 'min_samples_split': 128, 'n_estimators': 100}\n",
      "Média 0.7833 - Desvio padrão 0.0114 - Parâmetros {'bootstrap': False, 'criterion': 'log_loss', 'max_depth': 10, 'min_samples_leaf': 32, 'min_samples_split': 32, 'n_estimators': 100}\n",
      "Média 0.7833 - Desvio padrão 0.0119 - Parâmetros {'bootstrap': False, 'criterion': 'entropy', 'max_depth': 10, 'min_samples_leaf': 64, 'min_samples_split': 32, 'n_estimators': 100}\n",
      "Média 0.7833 - Desvio padrão 0.0116 - Parâmetros {'bootstrap': True, 'criterion': 'entropy', 'max_depth': 10, 'min_samples_leaf': 32, 'min_samples_split': 64, 'n_estimators': 100}\n",
      "Média 0.7831 - Desvio padrão 0.0125 - Parâmetros {'bootstrap': False, 'criterion': 'log_loss', 'max_depth': 10, 'min_samples_leaf': 64, 'min_samples_split': 64, 'n_estimators': 100}\n",
      "Média 0.7831 - Desvio padrão 0.0092 - Parâmetros {'bootstrap': True, 'criterion': 'log_loss', 'max_depth': 10, 'min_samples_leaf': 32, 'min_samples_split': 64, 'n_estimators': 100}\n",
      "Média 0.7830 - Desvio padrão 0.0122 - Parâmetros {'bootstrap': False, 'criterion': 'gini', 'max_depth': 10, 'min_samples_leaf': 32, 'min_samples_split': 128, 'n_estimators': 100}\n",
      "Média 0.7829 - Desvio padrão 0.0129 - Parâmetros {'bootstrap': False, 'criterion': 'entropy', 'max_depth': 10, 'min_samples_leaf': 32, 'min_samples_split': 64, 'n_estimators': 100}\n",
      "Média 0.7828 - Desvio padrão 0.0115 - Parâmetros {'bootstrap': True, 'criterion': 'log_loss', 'max_depth': 10, 'min_samples_leaf': 32, 'min_samples_split': 128, 'n_estimators': 100}\n",
      "Média 0.7828 - Desvio padrão 0.0122 - Parâmetros {'bootstrap': False, 'criterion': 'entropy', 'max_depth': 10, 'min_samples_leaf': 64, 'min_samples_split': 64, 'n_estimators': 100}\n",
      "Média 0.7826 - Desvio padrão 0.0107 - Parâmetros {'bootstrap': True, 'criterion': 'entropy', 'max_depth': 10, 'min_samples_leaf': 32, 'min_samples_split': 32, 'n_estimators': 100}\n",
      "Média 0.7826 - Desvio padrão 0.0117 - Parâmetros {'bootstrap': False, 'criterion': 'log_loss', 'max_depth': 10, 'min_samples_leaf': 64, 'min_samples_split': 32, 'n_estimators': 100}\n",
      "Média 0.7825 - Desvio padrão 0.0126 - Parâmetros {'bootstrap': False, 'criterion': 'gini', 'max_depth': 10, 'min_samples_leaf': 32, 'min_samples_split': 32, 'n_estimators': 100}\n",
      "Média 0.7824 - Desvio padrão 0.0121 - Parâmetros {'bootstrap': True, 'criterion': 'gini', 'max_depth': 10, 'min_samples_leaf': 32, 'min_samples_split': 64, 'n_estimators': 100}\n",
      "Média 0.7824 - Desvio padrão 0.0119 - Parâmetros {'bootstrap': False, 'criterion': 'gini', 'max_depth': 10, 'min_samples_leaf': 64, 'min_samples_split': 32, 'n_estimators': 100}\n",
      "Média 0.7822 - Desvio padrão 0.0124 - Parâmetros {'bootstrap': False, 'criterion': 'log_loss', 'max_depth': 10, 'min_samples_leaf': 32, 'min_samples_split': 64, 'n_estimators': 100}\n",
      "Média 0.7822 - Desvio padrão 0.0128 - Parâmetros {'bootstrap': False, 'criterion': 'log_loss', 'max_depth': 10, 'min_samples_leaf': 32, 'min_samples_split': 32, 'n_estimators': 10}\n",
      "Média 0.7821 - Desvio padrão 0.0149 - Parâmetros {'bootstrap': False, 'criterion': 'entropy', 'max_depth': 10, 'min_samples_leaf': 32, 'min_samples_split': 64, 'n_estimators': 10}\n",
      "Média 0.7821 - Desvio padrão 0.0109 - Parâmetros {'bootstrap': False, 'criterion': 'entropy', 'max_depth': 10, 'min_samples_leaf': 32, 'min_samples_split': 32, 'n_estimators': 100}\n",
      "Média 0.7820 - Desvio padrão 0.0115 - Parâmetros {'bootstrap': False, 'criterion': 'log_loss', 'max_depth': 10, 'min_samples_leaf': 32, 'min_samples_split': 128, 'n_estimators': 10}\n",
      "Média 0.7815 - Desvio padrão 0.0131 - Parâmetros {'bootstrap': False, 'criterion': 'entropy', 'max_depth': 10, 'min_samples_leaf': 64, 'min_samples_split': 32, 'n_estimators': 10}\n",
      "Média 0.7815 - Desvio padrão 0.0120 - Parâmetros {'bootstrap': False, 'criterion': 'log_loss', 'max_depth': 10, 'min_samples_leaf': 64, 'min_samples_split': 32, 'n_estimators': 10}\n",
      "Média 0.7814 - Desvio padrão 0.0116 - Parâmetros {'bootstrap': False, 'criterion': 'gini', 'max_depth': 10, 'min_samples_leaf': 32, 'min_samples_split': 64, 'n_estimators': 100}\n",
      "Média 0.7814 - Desvio padrão 0.0134 - Parâmetros {'bootstrap': False, 'criterion': 'gini', 'max_depth': 10, 'min_samples_leaf': 64, 'min_samples_split': 128, 'n_estimators': 100}\n",
      "Média 0.7812 - Desvio padrão 0.0134 - Parâmetros {'bootstrap': False, 'criterion': 'gini', 'max_depth': 10, 'min_samples_leaf': 64, 'min_samples_split': 128, 'n_estimators': 10}\n",
      "Média 0.7811 - Desvio padrão 0.0119 - Parâmetros {'bootstrap': True, 'criterion': 'entropy', 'max_depth': 5, 'min_samples_leaf': 32, 'min_samples_split': 64, 'n_estimators': 10}\n",
      "Média 0.7811 - Desvio padrão 0.0136 - Parâmetros {'bootstrap': True, 'criterion': 'entropy', 'max_depth': 10, 'min_samples_leaf': 32, 'min_samples_split': 32, 'n_estimators': 10}\n",
      "Média 0.7811 - Desvio padrão 0.0114 - Parâmetros {'bootstrap': True, 'criterion': 'gini', 'max_depth': 10, 'min_samples_leaf': 32, 'min_samples_split': 32, 'n_estimators': 100}\n",
      "Média 0.7808 - Desvio padrão 0.0145 - Parâmetros {'bootstrap': True, 'criterion': 'gini', 'max_depth': 10, 'min_samples_leaf': 32, 'min_samples_split': 128, 'n_estimators': 10}\n",
      "Média 0.7807 - Desvio padrão 0.0144 - Parâmetros {'bootstrap': False, 'criterion': 'entropy', 'max_depth': 10, 'min_samples_leaf': 32, 'min_samples_split': 128, 'n_estimators': 10}\n",
      "Média 0.7805 - Desvio padrão 0.0130 - Parâmetros {'bootstrap': False, 'criterion': 'log_loss', 'max_depth': 10, 'min_samples_leaf': 64, 'min_samples_split': 128, 'n_estimators': 10}\n",
      "Média 0.7805 - Desvio padrão 0.0126 - Parâmetros {'bootstrap': False, 'criterion': 'gini', 'max_depth': 10, 'min_samples_leaf': 32, 'min_samples_split': 128, 'n_estimators': 10}\n",
      "Média 0.7803 - Desvio padrão 0.0133 - Parâmetros {'bootstrap': True, 'criterion': 'gini', 'max_depth': 5, 'min_samples_leaf': 32, 'min_samples_split': 64, 'n_estimators': 10}\n",
      "Média 0.7803 - Desvio padrão 0.0121 - Parâmetros {'bootstrap': True, 'criterion': 'entropy', 'max_depth': 10, 'min_samples_leaf': 64, 'min_samples_split': 64, 'n_estimators': 100}\n",
      "Média 0.7799 - Desvio padrão 0.0101 - Parâmetros {'bootstrap': False, 'criterion': 'gini', 'max_depth': 10, 'min_samples_leaf': 128, 'min_samples_split': 64, 'n_estimators': 10}\n",
      "Média 0.7798 - Desvio padrão 0.0110 - Parâmetros {'bootstrap': False, 'criterion': 'gini', 'max_depth': 10, 'min_samples_leaf': 128, 'min_samples_split': 64, 'n_estimators': 100}\n",
      "Média 0.7798 - Desvio padrão 0.0141 - Parâmetros {'bootstrap': True, 'criterion': 'gini', 'max_depth': 10, 'min_samples_leaf': 64, 'min_samples_split': 128, 'n_estimators': 10}\n",
      "Média 0.7798 - Desvio padrão 0.0139 - Parâmetros {'bootstrap': False, 'criterion': 'gini', 'max_depth': 10, 'min_samples_leaf': 64, 'min_samples_split': 64, 'n_estimators': 10}\n",
      "Média 0.7797 - Desvio padrão 0.0143 - Parâmetros {'bootstrap': False, 'criterion': 'entropy', 'max_depth': 10, 'min_samples_leaf': 32, 'min_samples_split': 32, 'n_estimators': 10}\n",
      "Média 0.7797 - Desvio padrão 0.0140 - Parâmetros {'bootstrap': False, 'criterion': 'gini', 'max_depth': 10, 'min_samples_leaf': 32, 'min_samples_split': 32, 'n_estimators': 10}\n",
      "Média 0.7796 - Desvio padrão 0.0121 - Parâmetros {'bootstrap': True, 'criterion': 'entropy', 'max_depth': 10, 'min_samples_leaf': 64, 'min_samples_split': 64, 'n_estimators': 10}\n",
      "Média 0.7795 - Desvio padrão 0.0128 - Parâmetros {'bootstrap': False, 'criterion': 'gini', 'max_depth': 10, 'min_samples_leaf': 128, 'min_samples_split': 128, 'n_estimators': 10}\n",
      "Média 0.7795 - Desvio padrão 0.0155 - Parâmetros {'bootstrap': False, 'criterion': 'entropy', 'max_depth': 5, 'min_samples_leaf': 64, 'min_samples_split': 128, 'n_estimators': 10}\n",
      "Média 0.7794 - Desvio padrão 0.0162 - Parâmetros {'bootstrap': False, 'criterion': 'gini', 'max_depth': 10, 'min_samples_leaf': 64, 'min_samples_split': 32, 'n_estimators': 10}\n",
      "Média 0.7792 - Desvio padrão 0.0119 - Parâmetros {'bootstrap': False, 'criterion': 'gini', 'max_depth': 10, 'min_samples_leaf': 32, 'min_samples_split': 64, 'n_estimators': 10}\n",
      "Média 0.7791 - Desvio padrão 0.0132 - Parâmetros {'bootstrap': True, 'criterion': 'gini', 'max_depth': 10, 'min_samples_leaf': 32, 'min_samples_split': 64, 'n_estimators': 10}\n",
      "Média 0.7791 - Desvio padrão 0.0144 - Parâmetros {'bootstrap': True, 'criterion': 'log_loss', 'max_depth': 10, 'min_samples_leaf': 64, 'min_samples_split': 128, 'n_estimators': 10}\n",
      "Média 0.7791 - Desvio padrão 0.0106 - Parâmetros {'bootstrap': True, 'criterion': 'gini', 'max_depth': 10, 'min_samples_leaf': 64, 'min_samples_split': 32, 'n_estimators': 100}\n",
      "Média 0.7789 - Desvio padrão 0.0110 - Parâmetros {'bootstrap': False, 'criterion': 'entropy', 'max_depth': 10, 'min_samples_leaf': 128, 'min_samples_split': 128, 'n_estimators': 100}\n",
      "Média 0.7788 - Desvio padrão 0.0113 - Parâmetros {'bootstrap': True, 'criterion': 'entropy', 'max_depth': 10, 'min_samples_leaf': 64, 'min_samples_split': 32, 'n_estimators': 100}\n",
      "Média 0.7788 - Desvio padrão 0.0133 - Parâmetros {'bootstrap': True, 'criterion': 'entropy', 'max_depth': 10, 'min_samples_leaf': 32, 'min_samples_split': 128, 'n_estimators': 10}\n",
      "Média 0.7786 - Desvio padrão 0.0106 - Parâmetros {'bootstrap': True, 'criterion': 'entropy', 'max_depth': 5, 'min_samples_leaf': 64, 'min_samples_split': 32, 'n_estimators': 10}\n",
      "Média 0.7784 - Desvio padrão 0.0135 - Parâmetros {'bootstrap': False, 'criterion': 'entropy', 'max_depth': 10, 'min_samples_leaf': 64, 'min_samples_split': 64, 'n_estimators': 10}\n",
      "Média 0.7784 - Desvio padrão 0.0112 - Parâmetros {'bootstrap': False, 'criterion': 'log_loss', 'max_depth': 10, 'min_samples_leaf': 128, 'min_samples_split': 128, 'n_estimators': 100}\n",
      "Média 0.7784 - Desvio padrão 0.0136 - Parâmetros {'bootstrap': False, 'criterion': 'log_loss', 'max_depth': 10, 'min_samples_leaf': 128, 'min_samples_split': 64, 'n_estimators': 100}\n",
      "Média 0.7784 - Desvio padrão 0.0124 - Parâmetros {'bootstrap': True, 'criterion': 'log_loss', 'max_depth': 10, 'min_samples_leaf': 32, 'min_samples_split': 128, 'n_estimators': 10}\n",
      "Média 0.7783 - Desvio padrão 0.0110 - Parâmetros {'bootstrap': False, 'criterion': 'entropy', 'max_depth': 10, 'min_samples_leaf': 128, 'min_samples_split': 64, 'n_estimators': 100}\n",
      "Média 0.7783 - Desvio padrão 0.0136 - Parâmetros {'bootstrap': True, 'criterion': 'gini', 'max_depth': 5, 'min_samples_leaf': 32, 'min_samples_split': 128, 'n_estimators': 10}\n",
      "Média 0.7782 - Desvio padrão 0.0133 - Parâmetros {'bootstrap': True, 'criterion': 'log_loss', 'max_depth': 10, 'min_samples_leaf': 32, 'min_samples_split': 32, 'n_estimators': 10}\n",
      "Média 0.7782 - Desvio padrão 0.0115 - Parâmetros {'bootstrap': True, 'criterion': 'entropy', 'max_depth': 10, 'min_samples_leaf': 64, 'min_samples_split': 128, 'n_estimators': 100}\n",
      "Média 0.7781 - Desvio padrão 0.0151 - Parâmetros {'bootstrap': False, 'criterion': 'entropy', 'max_depth': 10, 'min_samples_leaf': 64, 'min_samples_split': 128, 'n_estimators': 10}\n",
      "Média 0.7781 - Desvio padrão 0.0122 - Parâmetros {'bootstrap': True, 'criterion': 'gini', 'max_depth': 10, 'min_samples_leaf': 64, 'min_samples_split': 128, 'n_estimators': 100}\n",
      "Média 0.7780 - Desvio padrão 0.0133 - Parâmetros {'bootstrap': True, 'criterion': 'gini', 'max_depth': 5, 'min_samples_leaf': 64, 'min_samples_split': 128, 'n_estimators': 10}\n",
      "Média 0.7780 - Desvio padrão 0.0116 - Parâmetros {'bootstrap': True, 'criterion': 'log_loss', 'max_depth': 10, 'min_samples_leaf': 64, 'min_samples_split': 128, 'n_estimators': 100}\n",
      "Média 0.7780 - Desvio padrão 0.0120 - Parâmetros {'bootstrap': True, 'criterion': 'log_loss', 'max_depth': 10, 'min_samples_leaf': 64, 'min_samples_split': 32, 'n_estimators': 10}\n",
      "Média 0.7779 - Desvio padrão 0.0117 - Parâmetros {'bootstrap': True, 'criterion': 'gini', 'max_depth': 10, 'min_samples_leaf': 64, 'min_samples_split': 64, 'n_estimators': 100}\n",
      "Média 0.7777 - Desvio padrão 0.0119 - Parâmetros {'bootstrap': False, 'criterion': 'log_loss', 'max_depth': 5, 'min_samples_leaf': 32, 'min_samples_split': 64, 'n_estimators': 10}\n",
      "Média 0.7777 - Desvio padrão 0.0122 - Parâmetros {'bootstrap': False, 'criterion': 'gini', 'max_depth': 10, 'min_samples_leaf': 128, 'min_samples_split': 128, 'n_estimators': 100}\n",
      "Média 0.7777 - Desvio padrão 0.0148 - Parâmetros {'bootstrap': False, 'criterion': 'log_loss', 'max_depth': 10, 'min_samples_leaf': 128, 'min_samples_split': 32, 'n_estimators': 10}\n",
      "Média 0.7777 - Desvio padrão 0.0124 - Parâmetros {'bootstrap': True, 'criterion': 'log_loss', 'max_depth': 10, 'min_samples_leaf': 64, 'min_samples_split': 32, 'n_estimators': 100}\n",
      "Média 0.7776 - Desvio padrão 0.0119 - Parâmetros {'bootstrap': False, 'criterion': 'log_loss', 'max_depth': 5, 'min_samples_leaf': 32, 'min_samples_split': 32, 'n_estimators': 100}\n",
      "Média 0.7775 - Desvio padrão 0.0127 - Parâmetros {'bootstrap': True, 'criterion': 'log_loss', 'max_depth': 5, 'min_samples_leaf': 32, 'min_samples_split': 64, 'n_estimators': 10}\n",
      "Média 0.7775 - Desvio padrão 0.0123 - Parâmetros {'bootstrap': False, 'criterion': 'log_loss', 'max_depth': 10, 'min_samples_leaf': 32, 'min_samples_split': 64, 'n_estimators': 10}\n",
      "Média 0.7773 - Desvio padrão 0.0105 - Parâmetros {'bootstrap': False, 'criterion': 'log_loss', 'max_depth': 10, 'min_samples_leaf': 128, 'min_samples_split': 32, 'n_estimators': 100}\n",
      "Média 0.7772 - Desvio padrão 0.0126 - Parâmetros {'bootstrap': True, 'criterion': 'entropy', 'max_depth': 5, 'min_samples_leaf': 64, 'min_samples_split': 32, 'n_estimators': 100}\n",
      "Média 0.7772 - Desvio padrão 0.0112 - Parâmetros {'bootstrap': True, 'criterion': 'gini', 'max_depth': 10, 'min_samples_leaf': 32, 'min_samples_split': 32, 'n_estimators': 10}\n",
      "Média 0.7771 - Desvio padrão 0.0097 - Parâmetros {'bootstrap': True, 'criterion': 'log_loss', 'max_depth': 10, 'min_samples_leaf': 32, 'min_samples_split': 64, 'n_estimators': 10}\n",
      "Média 0.7771 - Desvio padrão 0.0119 - Parâmetros {'bootstrap': False, 'criterion': 'entropy', 'max_depth': 5, 'min_samples_leaf': 32, 'min_samples_split': 128, 'n_estimators': 100}\n",
      "Média 0.7770 - Desvio padrão 0.0133 - Parâmetros {'bootstrap': True, 'criterion': 'gini', 'max_depth': 10, 'min_samples_leaf': 64, 'min_samples_split': 64, 'n_estimators': 10}\n",
      "Média 0.7770 - Desvio padrão 0.0123 - Parâmetros {'bootstrap': False, 'criterion': 'entropy', 'max_depth': 5, 'min_samples_leaf': 128, 'min_samples_split': 64, 'n_estimators': 10}\n",
      "Média 0.7770 - Desvio padrão 0.0140 - Parâmetros {'bootstrap': False, 'criterion': 'entropy', 'max_depth': 5, 'min_samples_leaf': 64, 'min_samples_split': 64, 'n_estimators': 10}\n",
      "Média 0.7769 - Desvio padrão 0.0145 - Parâmetros {'bootstrap': False, 'criterion': 'log_loss', 'max_depth': 5, 'min_samples_leaf': 64, 'min_samples_split': 128, 'n_estimators': 10}\n",
      "Média 0.7769 - Desvio padrão 0.0145 - Parâmetros {'bootstrap': True, 'criterion': 'log_loss', 'max_depth': 10, 'min_samples_leaf': 64, 'min_samples_split': 64, 'n_estimators': 100}\n",
      "Média 0.7768 - Desvio padrão 0.0123 - Parâmetros {'bootstrap': False, 'criterion': 'entropy', 'max_depth': 5, 'min_samples_leaf': 32, 'min_samples_split': 64, 'n_estimators': 100}\n",
      "Média 0.7768 - Desvio padrão 0.0162 - Parâmetros {'bootstrap': False, 'criterion': 'entropy', 'max_depth': 5, 'min_samples_leaf': 128, 'min_samples_split': 32, 'n_estimators': 10}\n",
      "Média 0.7768 - Desvio padrão 0.0101 - Parâmetros {'bootstrap': False, 'criterion': 'entropy', 'max_depth': 10, 'min_samples_leaf': 128, 'min_samples_split': 32, 'n_estimators': 10}\n",
      "Média 0.7767 - Desvio padrão 0.0127 - Parâmetros {'bootstrap': False, 'criterion': 'log_loss', 'max_depth': 5, 'min_samples_leaf': 64, 'min_samples_split': 64, 'n_estimators': 10}\n",
      "Média 0.7767 - Desvio padrão 0.0100 - Parâmetros {'bootstrap': False, 'criterion': 'entropy', 'max_depth': 10, 'min_samples_leaf': 128, 'min_samples_split': 64, 'n_estimators': 10}\n",
      "Média 0.7767 - Desvio padrão 0.0138 - Parâmetros {'bootstrap': False, 'criterion': 'log_loss', 'max_depth': 10, 'min_samples_leaf': 128, 'min_samples_split': 128, 'n_estimators': 10}\n",
      "Média 0.7766 - Desvio padrão 0.0124 - Parâmetros {'bootstrap': False, 'criterion': 'log_loss', 'max_depth': 10, 'min_samples_leaf': 64, 'min_samples_split': 64, 'n_estimators': 10}\n",
      "Média 0.7766 - Desvio padrão 0.0116 - Parâmetros {'bootstrap': False, 'criterion': 'entropy', 'max_depth': 10, 'min_samples_leaf': 128, 'min_samples_split': 32, 'n_estimators': 100}\n",
      "Média 0.7766 - Desvio padrão 0.0111 - Parâmetros {'bootstrap': True, 'criterion': 'entropy', 'max_depth': 10, 'min_samples_leaf': 32, 'min_samples_split': 64, 'n_estimators': 10}\n",
      "Média 0.7765 - Desvio padrão 0.0124 - Parâmetros {'bootstrap': True, 'criterion': 'gini', 'max_depth': 5, 'min_samples_leaf': 64, 'min_samples_split': 64, 'n_estimators': 100}\n",
      "Média 0.7765 - Desvio padrão 0.0116 - Parâmetros {'bootstrap': True, 'criterion': 'log_loss', 'max_depth': 5, 'min_samples_leaf': 64, 'min_samples_split': 128, 'n_estimators': 100}\n",
      "Média 0.7764 - Desvio padrão 0.0128 - Parâmetros {'bootstrap': False, 'criterion': 'log_loss', 'max_depth': 5, 'min_samples_leaf': 64, 'min_samples_split': 32, 'n_estimators': 100}\n",
      "Média 0.7764 - Desvio padrão 0.0126 - Parâmetros {'bootstrap': True, 'criterion': 'log_loss', 'max_depth': 10, 'min_samples_leaf': 128, 'min_samples_split': 128, 'n_estimators': 10}\n",
      "Média 0.7763 - Desvio padrão 0.0149 - Parâmetros {'bootstrap': True, 'criterion': 'log_loss', 'max_depth': 10, 'min_samples_leaf': 64, 'min_samples_split': 64, 'n_estimators': 10}\n",
      "Média 0.7763 - Desvio padrão 0.0122 - Parâmetros {'bootstrap': False, 'criterion': 'gini', 'max_depth': 5, 'min_samples_leaf': 32, 'min_samples_split': 64, 'n_estimators': 100}\n",
      "Média 0.7763 - Desvio padrão 0.0144 - Parâmetros {'bootstrap': False, 'criterion': 'gini', 'max_depth': 5, 'min_samples_leaf': 32, 'min_samples_split': 128, 'n_estimators': 10}\n",
      "Média 0.7763 - Desvio padrão 0.0118 - Parâmetros {'bootstrap': False, 'criterion': 'log_loss', 'max_depth': 5, 'min_samples_leaf': 64, 'min_samples_split': 64, 'n_estimators': 100}\n",
      "Média 0.7762 - Desvio padrão 0.0114 - Parâmetros {'bootstrap': False, 'criterion': 'gini', 'max_depth': 5, 'min_samples_leaf': 64, 'min_samples_split': 32, 'n_estimators': 10}\n",
      "Média 0.7762 - Desvio padrão 0.0152 - Parâmetros {'bootstrap': False, 'criterion': 'entropy', 'max_depth': 5, 'min_samples_leaf': 32, 'min_samples_split': 64, 'n_estimators': 10}\n",
      "Média 0.7762 - Desvio padrão 0.0104 - Parâmetros {'bootstrap': True, 'criterion': 'entropy', 'max_depth': 5, 'min_samples_leaf': 64, 'min_samples_split': 64, 'n_estimators': 100}\n",
      "Média 0.7762 - Desvio padrão 0.0135 - Parâmetros {'bootstrap': True, 'criterion': 'gini', 'max_depth': 5, 'min_samples_leaf': 32, 'min_samples_split': 128, 'n_estimators': 100}\n",
      "Média 0.7761 - Desvio padrão 0.0140 - Parâmetros {'bootstrap': False, 'criterion': 'gini', 'max_depth': 5, 'min_samples_leaf': 32, 'min_samples_split': 32, 'n_estimators': 100}\n",
      "Média 0.7761 - Desvio padrão 0.0112 - Parâmetros {'bootstrap': False, 'criterion': 'entropy', 'max_depth': 5, 'min_samples_leaf': 128, 'min_samples_split': 128, 'n_estimators': 100}\n",
      "Média 0.7761 - Desvio padrão 0.0194 - Parâmetros {'bootstrap': False, 'criterion': 'gini', 'max_depth': 5, 'min_samples_leaf': 64, 'min_samples_split': 128, 'n_estimators': 10}\n",
      "Média 0.7761 - Desvio padrão 0.0126 - Parâmetros {'bootstrap': True, 'criterion': 'gini', 'max_depth': 5, 'min_samples_leaf': 32, 'min_samples_split': 64, 'n_estimators': 100}\n",
      "Média 0.7761 - Desvio padrão 0.0113 - Parâmetros {'bootstrap': False, 'criterion': 'log_loss', 'max_depth': 5, 'min_samples_leaf': 128, 'min_samples_split': 128, 'n_estimators': 10}\n",
      "Média 0.7761 - Desvio padrão 0.0124 - Parâmetros {'bootstrap': False, 'criterion': 'gini', 'max_depth': 10, 'min_samples_leaf': 128, 'min_samples_split': 32, 'n_estimators': 100}\n",
      "Média 0.7761 - Desvio padrão 0.0133 - Parâmetros {'bootstrap': False, 'criterion': 'log_loss', 'max_depth': 10, 'min_samples_leaf': 128, 'min_samples_split': 64, 'n_estimators': 10}\n",
      "Média 0.7760 - Desvio padrão 0.0127 - Parâmetros {'bootstrap': False, 'criterion': 'log_loss', 'max_depth': 5, 'min_samples_leaf': 32, 'min_samples_split': 64, 'n_estimators': 100}\n",
      "Média 0.7760 - Desvio padrão 0.0116 - Parâmetros {'bootstrap': False, 'criterion': 'log_loss', 'max_depth': 5, 'min_samples_leaf': 64, 'min_samples_split': 128, 'n_estimators': 100}\n",
      "Média 0.7759 - Desvio padrão 0.0137 - Parâmetros {'bootstrap': True, 'criterion': 'log_loss', 'max_depth': 10, 'min_samples_leaf': 128, 'min_samples_split': 32, 'n_estimators': 10}\n",
      "Média 0.7759 - Desvio padrão 0.0123 - Parâmetros {'bootstrap': True, 'criterion': 'log_loss', 'max_depth': 5, 'min_samples_leaf': 32, 'min_samples_split': 32, 'n_estimators': 100}\n",
      "Média 0.7759 - Desvio padrão 0.0115 - Parâmetros {'bootstrap': True, 'criterion': 'gini', 'max_depth': 5, 'min_samples_leaf': 64, 'min_samples_split': 128, 'n_estimators': 100}\n",
      "Média 0.7759 - Desvio padrão 0.0133 - Parâmetros {'bootstrap': True, 'criterion': 'entropy', 'max_depth': 5, 'min_samples_leaf': 64, 'min_samples_split': 128, 'n_estimators': 10}\n",
      "Média 0.7759 - Desvio padrão 0.0117 - Parâmetros {'bootstrap': True, 'criterion': 'log_loss', 'max_depth': 5, 'min_samples_leaf': 64, 'min_samples_split': 64, 'n_estimators': 100}\n",
      "Média 0.7758 - Desvio padrão 0.0111 - Parâmetros {'bootstrap': False, 'criterion': 'gini', 'max_depth': 10, 'min_samples_leaf': 128, 'min_samples_split': 32, 'n_estimators': 10}\n",
      "Média 0.7758 - Desvio padrão 0.0124 - Parâmetros {'bootstrap': False, 'criterion': 'gini', 'max_depth': 5, 'min_samples_leaf': 64, 'min_samples_split': 64, 'n_estimators': 100}\n",
      "Média 0.7758 - Desvio padrão 0.0111 - Parâmetros {'bootstrap': True, 'criterion': 'log_loss', 'max_depth': 5, 'min_samples_leaf': 64, 'min_samples_split': 32, 'n_estimators': 10}\n",
      "Média 0.7758 - Desvio padrão 0.0111 - Parâmetros {'bootstrap': True, 'criterion': 'entropy', 'max_depth': 5, 'min_samples_leaf': 32, 'min_samples_split': 128, 'n_estimators': 100}\n",
      "Média 0.7758 - Desvio padrão 0.0125 - Parâmetros {'bootstrap': True, 'criterion': 'log_loss', 'max_depth': 5, 'min_samples_leaf': 32, 'min_samples_split': 64, 'n_estimators': 100}\n",
      "Média 0.7757 - Desvio padrão 0.0133 - Parâmetros {'bootstrap': False, 'criterion': 'log_loss', 'max_depth': 5, 'min_samples_leaf': 32, 'min_samples_split': 128, 'n_estimators': 100}\n",
      "Média 0.7757 - Desvio padrão 0.0100 - Parâmetros {'bootstrap': False, 'criterion': 'entropy', 'max_depth': 5, 'min_samples_leaf': 64, 'min_samples_split': 32, 'n_estimators': 100}\n",
      "Média 0.7757 - Desvio padrão 0.0124 - Parâmetros {'bootstrap': False, 'criterion': 'entropy', 'max_depth': 5, 'min_samples_leaf': 128, 'min_samples_split': 64, 'n_estimators': 100}\n",
      "Média 0.7757 - Desvio padrão 0.0118 - Parâmetros {'bootstrap': False, 'criterion': 'gini', 'max_depth': 5, 'min_samples_leaf': 128, 'min_samples_split': 64, 'n_estimators': 100}\n",
      "Média 0.7757 - Desvio padrão 0.0140 - Parâmetros {'bootstrap': True, 'criterion': 'gini', 'max_depth': 5, 'min_samples_leaf': 128, 'min_samples_split': 64, 'n_estimators': 10}\n",
      "Média 0.7756 - Desvio padrão 0.0114 - Parâmetros {'bootstrap': False, 'criterion': 'entropy', 'max_depth': 5, 'min_samples_leaf': 32, 'min_samples_split': 32, 'n_estimators': 100}\n",
      "Média 0.7756 - Desvio padrão 0.0118 - Parâmetros {'bootstrap': True, 'criterion': 'log_loss', 'max_depth': 10, 'min_samples_leaf': 128, 'min_samples_split': 64, 'n_estimators': 100}\n",
      "Média 0.7756 - Desvio padrão 0.0126 - Parâmetros {'bootstrap': True, 'criterion': 'entropy', 'max_depth': 5, 'min_samples_leaf': 32, 'min_samples_split': 64, 'n_estimators': 100}\n",
      "Média 0.7756 - Desvio padrão 0.0126 - Parâmetros {'bootstrap': False, 'criterion': 'entropy', 'max_depth': 5, 'min_samples_leaf': 64, 'min_samples_split': 64, 'n_estimators': 100}\n",
      "Média 0.7756 - Desvio padrão 0.0117 - Parâmetros {'bootstrap': False, 'criterion': 'gini', 'max_depth': 5, 'min_samples_leaf': 64, 'min_samples_split': 128, 'n_estimators': 100}\n",
      "Média 0.7756 - Desvio padrão 0.0115 - Parâmetros {'bootstrap': True, 'criterion': 'entropy', 'max_depth': 5, 'min_samples_leaf': 64, 'min_samples_split': 128, 'n_estimators': 100}\n",
      "Média 0.7756 - Desvio padrão 0.0121 - Parâmetros {'bootstrap': True, 'criterion': 'gini', 'max_depth': 3, 'min_samples_leaf': 32, 'min_samples_split': 128, 'n_estimators': 100}\n",
      "Média 0.7755 - Desvio padrão 0.0168 - Parâmetros {'bootstrap': False, 'criterion': 'gini', 'max_depth': 5, 'min_samples_leaf': 128, 'min_samples_split': 128, 'n_estimators': 10}\n",
      "Média 0.7755 - Desvio padrão 0.0129 - Parâmetros {'bootstrap': False, 'criterion': 'gini', 'max_depth': 5, 'min_samples_leaf': 64, 'min_samples_split': 32, 'n_estimators': 100}\n",
      "Média 0.7755 - Desvio padrão 0.0127 - Parâmetros {'bootstrap': False, 'criterion': 'gini', 'max_depth': 5, 'min_samples_leaf': 128, 'min_samples_split': 32, 'n_estimators': 10}\n",
      "Média 0.7755 - Desvio padrão 0.0182 - Parâmetros {'bootstrap': True, 'criterion': 'gini', 'max_depth': 5, 'min_samples_leaf': 64, 'min_samples_split': 32, 'n_estimators': 10}\n",
      "Média 0.7754 - Desvio padrão 0.0140 - Parâmetros {'bootstrap': False, 'criterion': 'entropy', 'max_depth': 5, 'min_samples_leaf': 32, 'min_samples_split': 128, 'n_estimators': 10}\n",
      "Média 0.7754 - Desvio padrão 0.0117 - Parâmetros {'bootstrap': True, 'criterion': 'gini', 'max_depth': 5, 'min_samples_leaf': 64, 'min_samples_split': 32, 'n_estimators': 100}\n",
      "Média 0.7754 - Desvio padrão 0.0119 - Parâmetros {'bootstrap': True, 'criterion': 'entropy', 'max_depth': 3, 'min_samples_leaf': 32, 'min_samples_split': 128, 'n_estimators': 100}\n",
      "Média 0.7754 - Desvio padrão 0.0119 - Parâmetros {'bootstrap': False, 'criterion': 'entropy', 'max_depth': 5, 'min_samples_leaf': 64, 'min_samples_split': 128, 'n_estimators': 100}\n",
      "Média 0.7754 - Desvio padrão 0.0118 - Parâmetros {'bootstrap': True, 'criterion': 'log_loss', 'max_depth': 5, 'min_samples_leaf': 32, 'min_samples_split': 128, 'n_estimators': 100}\n",
      "Média 0.7754 - Desvio padrão 0.0117 - Parâmetros {'bootstrap': False, 'criterion': 'entropy', 'max_depth': 3, 'min_samples_leaf': 128, 'min_samples_split': 128, 'n_estimators': 100}\n",
      "Média 0.7753 - Desvio padrão 0.0115 - Parâmetros {'bootstrap': True, 'criterion': 'log_loss', 'max_depth': 5, 'min_samples_leaf': 64, 'min_samples_split': 32, 'n_estimators': 100}\n",
      "Média 0.7753 - Desvio padrão 0.0137 - Parâmetros {'bootstrap': False, 'criterion': 'entropy', 'max_depth': 5, 'min_samples_leaf': 32, 'min_samples_split': 32, 'n_estimators': 10}\n",
      "Média 0.7753 - Desvio padrão 0.0125 - Parâmetros {'bootstrap': True, 'criterion': 'entropy', 'max_depth': 10, 'min_samples_leaf': 128, 'min_samples_split': 64, 'n_estimators': 100}\n",
      "Média 0.7753 - Desvio padrão 0.0113 - Parâmetros {'bootstrap': False, 'criterion': 'log_loss', 'max_depth': 5, 'min_samples_leaf': 128, 'min_samples_split': 128, 'n_estimators': 100}\n",
      "Média 0.7753 - Desvio padrão 0.0120 - Parâmetros {'bootstrap': False, 'criterion': 'gini', 'max_depth': 5, 'min_samples_leaf': 128, 'min_samples_split': 32, 'n_estimators': 100}\n",
      "Média 0.7753 - Desvio padrão 0.0119 - Parâmetros {'bootstrap': True, 'criterion': 'entropy', 'max_depth': 3, 'min_samples_leaf': 128, 'min_samples_split': 32, 'n_estimators': 100}\n",
      "Média 0.7753 - Desvio padrão 0.0116 - Parâmetros {'bootstrap': False, 'criterion': 'gini', 'max_depth': 3, 'min_samples_leaf': 64, 'min_samples_split': 64, 'n_estimators': 100}\n",
      "Média 0.7752 - Desvio padrão 0.0124 - Parâmetros {'bootstrap': True, 'criterion': 'gini', 'max_depth': 3, 'min_samples_leaf': 64, 'min_samples_split': 64, 'n_estimators': 10}\n",
      "Média 0.7752 - Desvio padrão 0.0115 - Parâmetros {'bootstrap': True, 'criterion': 'log_loss', 'max_depth': 5, 'min_samples_leaf': 128, 'min_samples_split': 64, 'n_estimators': 100}\n",
      "Média 0.7752 - Desvio padrão 0.0111 - Parâmetros {'bootstrap': False, 'criterion': 'gini', 'max_depth': 5, 'min_samples_leaf': 128, 'min_samples_split': 128, 'n_estimators': 100}\n",
      "Média 0.7752 - Desvio padrão 0.0118 - Parâmetros {'bootstrap': False, 'criterion': 'log_loss', 'max_depth': 3, 'min_samples_leaf': 128, 'min_samples_split': 32, 'n_estimators': 100}\n",
      "Média 0.7752 - Desvio padrão 0.0117 - Parâmetros {'bootstrap': True, 'criterion': 'entropy', 'max_depth': 3, 'min_samples_leaf': 64, 'min_samples_split': 64, 'n_estimators': 100}\n",
      "Média 0.7752 - Desvio padrão 0.0117 - Parâmetros {'bootstrap': False, 'criterion': 'entropy', 'max_depth': 3, 'min_samples_leaf': 32, 'min_samples_split': 64, 'n_estimators': 100}\n",
      "Média 0.7752 - Desvio padrão 0.0136 - Parâmetros {'bootstrap': True, 'criterion': 'entropy', 'max_depth': 10, 'min_samples_leaf': 128, 'min_samples_split': 32, 'n_estimators': 10}\n",
      "Média 0.7752 - Desvio padrão 0.0112 - Parâmetros {'bootstrap': True, 'criterion': 'log_loss', 'max_depth': 5, 'min_samples_leaf': 128, 'min_samples_split': 32, 'n_estimators': 100}\n",
      "Média 0.7751 - Desvio padrão 0.0160 - Parâmetros {'bootstrap': True, 'criterion': 'gini', 'max_depth': 10, 'min_samples_leaf': 128, 'min_samples_split': 32, 'n_estimators': 10}\n",
      "Média 0.7751 - Desvio padrão 0.0117 - Parâmetros {'bootstrap': False, 'criterion': 'log_loss', 'max_depth': 3, 'min_samples_leaf': 128, 'min_samples_split': 64, 'n_estimators': 100}\n",
      "Média 0.7751 - Desvio padrão 0.0118 - Parâmetros {'bootstrap': True, 'criterion': 'gini', 'max_depth': 5, 'min_samples_leaf': 128, 'min_samples_split': 64, 'n_estimators': 100}\n",
      "Média 0.7751 - Desvio padrão 0.0116 - Parâmetros {'bootstrap': False, 'criterion': 'log_loss', 'max_depth': 3, 'min_samples_leaf': 64, 'min_samples_split': 64, 'n_estimators': 100}\n",
      "Média 0.7751 - Desvio padrão 0.0116 - Parâmetros {'bootstrap': False, 'criterion': 'log_loss', 'max_depth': 3, 'min_samples_leaf': 64, 'min_samples_split': 32, 'n_estimators': 100}\n",
      "Média 0.7751 - Desvio padrão 0.0118 - Parâmetros {'bootstrap': False, 'criterion': 'gini', 'max_depth': 3, 'min_samples_leaf': 32, 'min_samples_split': 64, 'n_estimators': 100}\n",
      "Média 0.7751 - Desvio padrão 0.0118 - Parâmetros {'bootstrap': False, 'criterion': 'gini', 'max_depth': 3, 'min_samples_leaf': 32, 'min_samples_split': 32, 'n_estimators': 100}\n",
      "Média 0.7751 - Desvio padrão 0.0116 - Parâmetros {'bootstrap': False, 'criterion': 'entropy', 'max_depth': 5, 'min_samples_leaf': 128, 'min_samples_split': 32, 'n_estimators': 100}\n",
      "Média 0.7751 - Desvio padrão 0.0116 - Parâmetros {'bootstrap': False, 'criterion': 'entropy', 'max_depth': 3, 'min_samples_leaf': 128, 'min_samples_split': 32, 'n_estimators': 100}\n",
      "Média 0.7751 - Desvio padrão 0.0122 - Parâmetros {'bootstrap': True, 'criterion': 'gini', 'max_depth': 10, 'min_samples_leaf': 128, 'min_samples_split': 128, 'n_estimators': 100}\n",
      "Média 0.7750 - Desvio padrão 0.0120 - Parâmetros {'bootstrap': True, 'criterion': 'log_loss', 'max_depth': 5, 'min_samples_leaf': 128, 'min_samples_split': 128, 'n_estimators': 100}\n",
      "Média 0.7750 - Desvio padrão 0.0199 - Parâmetros {'bootstrap': True, 'criterion': 'entropy', 'max_depth': 5, 'min_samples_leaf': 32, 'min_samples_split': 32, 'n_estimators': 10}\n",
      "Média 0.7750 - Desvio padrão 0.0116 - Parâmetros {'bootstrap': False, 'criterion': 'log_loss', 'max_depth': 3, 'min_samples_leaf': 32, 'min_samples_split': 64, 'n_estimators': 100}\n",
      "Média 0.7750 - Desvio padrão 0.0146 - Parâmetros {'bootstrap': False, 'criterion': 'log_loss', 'max_depth': 5, 'min_samples_leaf': 128, 'min_samples_split': 32, 'n_estimators': 10}\n",
      "Média 0.7750 - Desvio padrão 0.0118 - Parâmetros {'bootstrap': False, 'criterion': 'log_loss', 'max_depth': 3, 'min_samples_leaf': 32, 'min_samples_split': 32, 'n_estimators': 100}\n",
      "Média 0.7750 - Desvio padrão 0.0116 - Parâmetros {'bootstrap': True, 'criterion': 'gini', 'max_depth': 3, 'min_samples_leaf': 64, 'min_samples_split': 64, 'n_estimators': 100}\n",
      "Média 0.7750 - Desvio padrão 0.0116 - Parâmetros {'bootstrap': True, 'criterion': 'gini', 'max_depth': 3, 'min_samples_leaf': 128, 'min_samples_split': 64, 'n_estimators': 100}\n",
      "Média 0.7749 - Desvio padrão 0.0132 - Parâmetros {'bootstrap': True, 'criterion': 'entropy', 'max_depth': 3, 'min_samples_leaf': 32, 'min_samples_split': 32, 'n_estimators': 100}\n",
      "Média 0.7749 - Desvio padrão 0.0116 - Parâmetros {'bootstrap': True, 'criterion': 'gini', 'max_depth': 3, 'min_samples_leaf': 64, 'min_samples_split': 32, 'n_estimators': 100}\n",
      "Média 0.7749 - Desvio padrão 0.0119 - Parâmetros {'bootstrap': False, 'criterion': 'log_loss', 'max_depth': 3, 'min_samples_leaf': 32, 'min_samples_split': 128, 'n_estimators': 100}\n",
      "Média 0.7749 - Desvio padrão 0.0117 - Parâmetros {'bootstrap': True, 'criterion': 'gini', 'max_depth': 5, 'min_samples_leaf': 128, 'min_samples_split': 32, 'n_estimators': 100}\n",
      "Média 0.7749 - Desvio padrão 0.0107 - Parâmetros {'bootstrap': True, 'criterion': 'gini', 'max_depth': 10, 'min_samples_leaf': 128, 'min_samples_split': 128, 'n_estimators': 10}\n",
      "Média 0.7748 - Desvio padrão 0.0120 - Parâmetros {'bootstrap': True, 'criterion': 'gini', 'max_depth': 3, 'min_samples_leaf': 64, 'min_samples_split': 128, 'n_estimators': 100}\n",
      "Média 0.7748 - Desvio padrão 0.0121 - Parâmetros {'bootstrap': True, 'criterion': 'log_loss', 'max_depth': 3, 'min_samples_leaf': 128, 'min_samples_split': 128, 'n_estimators': 100}\n",
      "Média 0.7748 - Desvio padrão 0.0133 - Parâmetros {'bootstrap': False, 'criterion': 'gini', 'max_depth': 5, 'min_samples_leaf': 32, 'min_samples_split': 64, 'n_estimators': 10}\n",
      "Média 0.7748 - Desvio padrão 0.0105 - Parâmetros {'bootstrap': True, 'criterion': 'gini', 'max_depth': 10, 'min_samples_leaf': 128, 'min_samples_split': 64, 'n_estimators': 100}\n",
      "Média 0.7748 - Desvio padrão 0.0118 - Parâmetros {'bootstrap': False, 'criterion': 'log_loss', 'max_depth': 3, 'min_samples_leaf': 64, 'min_samples_split': 128, 'n_estimators': 100}\n",
      "Média 0.7748 - Desvio padrão 0.0117 - Parâmetros {'bootstrap': False, 'criterion': 'log_loss', 'max_depth': 5, 'min_samples_leaf': 128, 'min_samples_split': 32, 'n_estimators': 100}\n",
      "Média 0.7748 - Desvio padrão 0.0133 - Parâmetros {'bootstrap': False, 'criterion': 'entropy', 'max_depth': 5, 'min_samples_leaf': 128, 'min_samples_split': 128, 'n_estimators': 10}\n",
      "Média 0.7748 - Desvio padrão 0.0118 - Parâmetros {'bootstrap': True, 'criterion': 'gini', 'max_depth': 5, 'min_samples_leaf': 32, 'min_samples_split': 32, 'n_estimators': 100}\n",
      "Média 0.7748 - Desvio padrão 0.0121 - Parâmetros {'bootstrap': False, 'criterion': 'gini', 'max_depth': 5, 'min_samples_leaf': 32, 'min_samples_split': 128, 'n_estimators': 100}\n",
      "Média 0.7748 - Desvio padrão 0.0115 - Parâmetros {'bootstrap': False, 'criterion': 'log_loss', 'max_depth': 5, 'min_samples_leaf': 128, 'min_samples_split': 64, 'n_estimators': 100}\n",
      "Média 0.7747 - Desvio padrão 0.0124 - Parâmetros {'bootstrap': True, 'criterion': 'log_loss', 'max_depth': 5, 'min_samples_leaf': 32, 'min_samples_split': 32, 'n_estimators': 10}\n",
      "Média 0.7747 - Desvio padrão 0.0117 - Parâmetros {'bootstrap': True, 'criterion': 'entropy', 'max_depth': 5, 'min_samples_leaf': 128, 'min_samples_split': 64, 'n_estimators': 100}\n",
      "Média 0.7747 - Desvio padrão 0.0116 - Parâmetros {'bootstrap': True, 'criterion': 'gini', 'max_depth': 5, 'min_samples_leaf': 128, 'min_samples_split': 128, 'n_estimators': 100}\n",
      "Média 0.7747 - Desvio padrão 0.0124 - Parâmetros {'bootstrap': False, 'criterion': 'entropy', 'max_depth': 3, 'min_samples_leaf': 64, 'min_samples_split': 128, 'n_estimators': 100}\n",
      "Média 0.7747 - Desvio padrão 0.0121 - Parâmetros {'bootstrap': True, 'criterion': 'entropy', 'max_depth': 3, 'min_samples_leaf': 64, 'min_samples_split': 128, 'n_estimators': 100}\n",
      "Média 0.7747 - Desvio padrão 0.0122 - Parâmetros {'bootstrap': True, 'criterion': 'entropy', 'max_depth': 5, 'min_samples_leaf': 128, 'min_samples_split': 128, 'n_estimators': 100}\n",
      "Média 0.7747 - Desvio padrão 0.0124 - Parâmetros {'bootstrap': True, 'criterion': 'log_loss', 'max_depth': 3, 'min_samples_leaf': 128, 'min_samples_split': 64, 'n_estimators': 100}\n",
      "Média 0.7746 - Desvio padrão 0.0125 - Parâmetros {'bootstrap': True, 'criterion': 'entropy', 'max_depth': 3, 'min_samples_leaf': 128, 'min_samples_split': 128, 'n_estimators': 100}\n",
      "Média 0.7746 - Desvio padrão 0.0120 - Parâmetros {'bootstrap': False, 'criterion': 'gini', 'max_depth': 3, 'min_samples_leaf': 128, 'min_samples_split': 64, 'n_estimators': 100}\n",
      "Média 0.7746 - Desvio padrão 0.0139 - Parâmetros {'bootstrap': True, 'criterion': 'gini', 'max_depth': 10, 'min_samples_leaf': 64, 'min_samples_split': 32, 'n_estimators': 10}\n",
      "Média 0.7745 - Desvio padrão 0.0119 - Parâmetros {'bootstrap': False, 'criterion': 'entropy', 'max_depth': 3, 'min_samples_leaf': 64, 'min_samples_split': 64, 'n_estimators': 100}\n",
      "Média 0.7745 - Desvio padrão 0.0100 - Parâmetros {'bootstrap': True, 'criterion': 'gini', 'max_depth': 10, 'min_samples_leaf': 128, 'min_samples_split': 32, 'n_estimators': 100}\n",
      "Média 0.7745 - Desvio padrão 0.0137 - Parâmetros {'bootstrap': True, 'criterion': 'gini', 'max_depth': 10, 'min_samples_leaf': 128, 'min_samples_split': 64, 'n_estimators': 10}\n",
      "Média 0.7745 - Desvio padrão 0.0157 - Parâmetros {'bootstrap': False, 'criterion': 'log_loss', 'max_depth': 5, 'min_samples_leaf': 64, 'min_samples_split': 32, 'n_estimators': 10}\n",
      "Média 0.7745 - Desvio padrão 0.0124 - Parâmetros {'bootstrap': False, 'criterion': 'entropy', 'max_depth': 10, 'min_samples_leaf': 128, 'min_samples_split': 128, 'n_estimators': 10}\n",
      "Média 0.7745 - Desvio padrão 0.0126 - Parâmetros {'bootstrap': True, 'criterion': 'log_loss', 'max_depth': 10, 'min_samples_leaf': 128, 'min_samples_split': 32, 'n_estimators': 100}\n",
      "Média 0.7745 - Desvio padrão 0.0127 - Parâmetros {'bootstrap': False, 'criterion': 'log_loss', 'max_depth': 5, 'min_samples_leaf': 128, 'min_samples_split': 64, 'n_estimators': 10}\n",
      "Média 0.7744 - Desvio padrão 0.0115 - Parâmetros {'bootstrap': True, 'criterion': 'entropy', 'max_depth': 5, 'min_samples_leaf': 32, 'min_samples_split': 32, 'n_estimators': 100}\n",
      "Média 0.7744 - Desvio padrão 0.0114 - Parâmetros {'bootstrap': True, 'criterion': 'entropy', 'max_depth': 5, 'min_samples_leaf': 128, 'min_samples_split': 32, 'n_estimators': 100}\n",
      "Média 0.7744 - Desvio padrão 0.0113 - Parâmetros {'bootstrap': True, 'criterion': 'log_loss', 'max_depth': 10, 'min_samples_leaf': 128, 'min_samples_split': 128, 'n_estimators': 100}\n",
      "Média 0.7743 - Desvio padrão 0.0115 - Parâmetros {'bootstrap': False, 'criterion': 'entropy', 'max_depth': 3, 'min_samples_leaf': 32, 'min_samples_split': 128, 'n_estimators': 100}\n",
      "Média 0.7743 - Desvio padrão 0.0120 - Parâmetros {'bootstrap': False, 'criterion': 'gini', 'max_depth': 3, 'min_samples_leaf': 128, 'min_samples_split': 128, 'n_estimators': 100}\n",
      "Média 0.7743 - Desvio padrão 0.0154 - Parâmetros {'bootstrap': False, 'criterion': 'gini', 'max_depth': 5, 'min_samples_leaf': 128, 'min_samples_split': 64, 'n_estimators': 10}\n",
      "Média 0.7743 - Desvio padrão 0.0124 - Parâmetros {'bootstrap': True, 'criterion': 'gini', 'max_depth': 3, 'min_samples_leaf': 32, 'min_samples_split': 32, 'n_estimators': 100}\n",
      "Média 0.7742 - Desvio padrão 0.0165 - Parâmetros {'bootstrap': False, 'criterion': 'gini', 'max_depth': 5, 'min_samples_leaf': 32, 'min_samples_split': 32, 'n_estimators': 10}\n",
      "Média 0.7741 - Desvio padrão 0.0120 - Parâmetros {'bootstrap': True, 'criterion': 'entropy', 'max_depth': 10, 'min_samples_leaf': 128, 'min_samples_split': 32, 'n_estimators': 100}\n",
      "Média 0.7741 - Desvio padrão 0.0154 - Parâmetros {'bootstrap': True, 'criterion': 'log_loss', 'max_depth': 5, 'min_samples_leaf': 128, 'min_samples_split': 64, 'n_estimators': 10}\n",
      "Média 0.7740 - Desvio padrão 0.0157 - Parâmetros {'bootstrap': True, 'criterion': 'gini', 'max_depth': 5, 'min_samples_leaf': 128, 'min_samples_split': 32, 'n_estimators': 10}\n",
      "Média 0.7739 - Desvio padrão 0.0131 - Parâmetros {'bootstrap': True, 'criterion': 'log_loss', 'max_depth': 3, 'min_samples_leaf': 32, 'min_samples_split': 32, 'n_estimators': 100}\n",
      "Média 0.7739 - Desvio padrão 0.0128 - Parâmetros {'bootstrap': False, 'criterion': 'entropy', 'max_depth': 3, 'min_samples_leaf': 64, 'min_samples_split': 32, 'n_estimators': 100}\n",
      "Média 0.7738 - Desvio padrão 0.0091 - Parâmetros {'bootstrap': False, 'criterion': 'gini', 'max_depth': 3, 'min_samples_leaf': 32, 'min_samples_split': 128, 'n_estimators': 100}\n",
      "Média 0.7738 - Desvio padrão 0.0172 - Parâmetros {'bootstrap': True, 'criterion': 'log_loss', 'max_depth': 5, 'min_samples_leaf': 128, 'min_samples_split': 128, 'n_estimators': 10}\n",
      "Média 0.7738 - Desvio padrão 0.0122 - Parâmetros {'bootstrap': True, 'criterion': 'entropy', 'max_depth': 10, 'min_samples_leaf': 128, 'min_samples_split': 128, 'n_estimators': 100}\n",
      "Média 0.7737 - Desvio padrão 0.0087 - Parâmetros {'bootstrap': True, 'criterion': 'entropy', 'max_depth': 5, 'min_samples_leaf': 128, 'min_samples_split': 128, 'n_estimators': 10}\n",
      "Média 0.7737 - Desvio padrão 0.0139 - Parâmetros {'bootstrap': False, 'criterion': 'gini', 'max_depth': 5, 'min_samples_leaf': 64, 'min_samples_split': 64, 'n_estimators': 10}\n",
      "Média 0.7736 - Desvio padrão 0.0098 - Parâmetros {'bootstrap': True, 'criterion': 'entropy', 'max_depth': 10, 'min_samples_leaf': 64, 'min_samples_split': 32, 'n_estimators': 10}\n",
      "Média 0.7736 - Desvio padrão 0.0123 - Parâmetros {'bootstrap': False, 'criterion': 'log_loss', 'max_depth': 3, 'min_samples_leaf': 128, 'min_samples_split': 128, 'n_estimators': 100}\n",
      "Média 0.7735 - Desvio padrão 0.0141 - Parâmetros {'bootstrap': False, 'criterion': 'entropy', 'max_depth': 3, 'min_samples_leaf': 128, 'min_samples_split': 64, 'n_estimators': 100}\n",
      "Média 0.7734 - Desvio padrão 0.0139 - Parâmetros {'bootstrap': False, 'criterion': 'gini', 'max_depth': 3, 'min_samples_leaf': 64, 'min_samples_split': 128, 'n_estimators': 10}\n",
      "Média 0.7733 - Desvio padrão 0.0128 - Parâmetros {'bootstrap': False, 'criterion': 'gini', 'max_depth': 3, 'min_samples_leaf': 64, 'min_samples_split': 128, 'n_estimators': 100}\n",
      "Média 0.7733 - Desvio padrão 0.0138 - Parâmetros {'bootstrap': True, 'criterion': 'gini', 'max_depth': 3, 'min_samples_leaf': 32, 'min_samples_split': 64, 'n_estimators': 10}\n",
      "Média 0.7733 - Desvio padrão 0.0136 - Parâmetros {'bootstrap': True, 'criterion': 'gini', 'max_depth': 3, 'min_samples_leaf': 128, 'min_samples_split': 128, 'n_estimators': 100}\n",
      "Média 0.7732 - Desvio padrão 0.0117 - Parâmetros {'bootstrap': True, 'criterion': 'log_loss', 'max_depth': 3, 'min_samples_leaf': 32, 'min_samples_split': 64, 'n_estimators': 100}\n",
      "Média 0.7732 - Desvio padrão 0.0108 - Parâmetros {'bootstrap': True, 'criterion': 'gini', 'max_depth': 3, 'min_samples_leaf': 32, 'min_samples_split': 64, 'n_estimators': 100}\n",
      "Média 0.7732 - Desvio padrão 0.0148 - Parâmetros {'bootstrap': True, 'criterion': 'gini', 'max_depth': 5, 'min_samples_leaf': 128, 'min_samples_split': 128, 'n_estimators': 10}\n",
      "Média 0.7731 - Desvio padrão 0.0136 - Parâmetros {'bootstrap': True, 'criterion': 'entropy', 'max_depth': 5, 'min_samples_leaf': 128, 'min_samples_split': 64, 'n_estimators': 10}\n",
      "Média 0.7731 - Desvio padrão 0.0104 - Parâmetros {'bootstrap': False, 'criterion': 'log_loss', 'max_depth': 5, 'min_samples_leaf': 32, 'min_samples_split': 128, 'n_estimators': 10}\n",
      "Média 0.7731 - Desvio padrão 0.0096 - Parâmetros {'bootstrap': True, 'criterion': 'log_loss', 'max_depth': 3, 'min_samples_leaf': 64, 'min_samples_split': 64, 'n_estimators': 100}\n",
      "Média 0.7730 - Desvio padrão 0.0110 - Parâmetros {'bootstrap': True, 'criterion': 'log_loss', 'max_depth': 3, 'min_samples_leaf': 32, 'min_samples_split': 128, 'n_estimators': 100}\n",
      "Média 0.7730 - Desvio padrão 0.0121 - Parâmetros {'bootstrap': True, 'criterion': 'log_loss', 'max_depth': 3, 'min_samples_leaf': 64, 'min_samples_split': 32, 'n_estimators': 100}\n",
      "Média 0.7729 - Desvio padrão 0.0089 - Parâmetros {'bootstrap': True, 'criterion': 'entropy', 'max_depth': 3, 'min_samples_leaf': 128, 'min_samples_split': 64, 'n_estimators': 100}\n",
      "Média 0.7729 - Desvio padrão 0.0158 - Parâmetros {'bootstrap': True, 'criterion': 'entropy', 'max_depth': 5, 'min_samples_leaf': 32, 'min_samples_split': 128, 'n_estimators': 10}\n",
      "Média 0.7729 - Desvio padrão 0.0150 - Parâmetros {'bootstrap': True, 'criterion': 'entropy', 'max_depth': 5, 'min_samples_leaf': 64, 'min_samples_split': 64, 'n_estimators': 10}\n",
      "Média 0.7728 - Desvio padrão 0.0131 - Parâmetros {'bootstrap': True, 'criterion': 'gini', 'max_depth': 5, 'min_samples_leaf': 64, 'min_samples_split': 64, 'n_estimators': 10}\n",
      "Média 0.7727 - Desvio padrão 0.0150 - Parâmetros {'bootstrap': True, 'criterion': 'log_loss', 'max_depth': 5, 'min_samples_leaf': 64, 'min_samples_split': 64, 'n_estimators': 10}\n",
      "Média 0.7727 - Desvio padrão 0.0169 - Parâmetros {'bootstrap': True, 'criterion': 'entropy', 'max_depth': 3, 'min_samples_leaf': 32, 'min_samples_split': 64, 'n_estimators': 100}\n",
      "Média 0.7726 - Desvio padrão 0.0181 - Parâmetros {'bootstrap': False, 'criterion': 'log_loss', 'max_depth': 5, 'min_samples_leaf': 32, 'min_samples_split': 32, 'n_estimators': 10}\n",
      "Média 0.7725 - Desvio padrão 0.0150 - Parâmetros {'bootstrap': True, 'criterion': 'entropy', 'max_depth': 3, 'min_samples_leaf': 64, 'min_samples_split': 32, 'n_estimators': 100}\n",
      "Média 0.7723 - Desvio padrão 0.0133 - Parâmetros {'bootstrap': True, 'criterion': 'log_loss', 'max_depth': 3, 'min_samples_leaf': 64, 'min_samples_split': 128, 'n_estimators': 100}\n",
      "Média 0.7723 - Desvio padrão 0.0148 - Parâmetros {'bootstrap': True, 'criterion': 'entropy', 'max_depth': 10, 'min_samples_leaf': 64, 'min_samples_split': 128, 'n_estimators': 10}\n",
      "Média 0.7721 - Desvio padrão 0.0123 - Parâmetros {'bootstrap': True, 'criterion': 'entropy', 'max_depth': 10, 'min_samples_leaf': 128, 'min_samples_split': 64, 'n_estimators': 10}\n",
      "Média 0.7716 - Desvio padrão 0.0086 - Parâmetros {'bootstrap': False, 'criterion': 'entropy', 'max_depth': 3, 'min_samples_leaf': 32, 'min_samples_split': 32, 'n_estimators': 100}\n",
      "Média 0.7715 - Desvio padrão 0.0155 - Parâmetros {'bootstrap': False, 'criterion': 'log_loss', 'max_depth': 3, 'min_samples_leaf': 64, 'min_samples_split': 128, 'n_estimators': 10}\n",
      "Média 0.7715 - Desvio padrão 0.0086 - Parâmetros {'bootstrap': True, 'criterion': 'gini', 'max_depth': 5, 'min_samples_leaf': 32, 'min_samples_split': 32, 'n_estimators': 10}\n",
      "Média 0.7714 - Desvio padrão 0.0137 - Parâmetros {'bootstrap': True, 'criterion': 'gini', 'max_depth': 3, 'min_samples_leaf': 64, 'min_samples_split': 32, 'n_estimators': 10}\n",
      "Média 0.7713 - Desvio padrão 0.0229 - Parâmetros {'bootstrap': True, 'criterion': 'log_loss', 'max_depth': 3, 'min_samples_leaf': 32, 'min_samples_split': 32, 'n_estimators': 10}\n",
      "Média 0.7713 - Desvio padrão 0.0159 - Parâmetros {'bootstrap': False, 'criterion': 'gini', 'max_depth': 3, 'min_samples_leaf': 64, 'min_samples_split': 32, 'n_estimators': 100}\n",
      "Média 0.7711 - Desvio padrão 0.0119 - Parâmetros {'bootstrap': True, 'criterion': 'log_loss', 'max_depth': 10, 'min_samples_leaf': 128, 'min_samples_split': 64, 'n_estimators': 10}\n",
      "Média 0.7711 - Desvio padrão 0.0122 - Parâmetros {'bootstrap': True, 'criterion': 'log_loss', 'max_depth': 3, 'min_samples_leaf': 64, 'min_samples_split': 128, 'n_estimators': 10}\n",
      "Média 0.7710 - Desvio padrão 0.0124 - Parâmetros {'bootstrap': True, 'criterion': 'gini', 'max_depth': 3, 'min_samples_leaf': 32, 'min_samples_split': 32, 'n_estimators': 10}\n",
      "Média 0.7708 - Desvio padrão 0.0153 - Parâmetros {'bootstrap': True, 'criterion': 'entropy', 'max_depth': 5, 'min_samples_leaf': 128, 'min_samples_split': 32, 'n_estimators': 10}\n",
      "Média 0.7705 - Desvio padrão 0.0180 - Parâmetros {'bootstrap': False, 'criterion': 'entropy', 'max_depth': 5, 'min_samples_leaf': 64, 'min_samples_split': 32, 'n_estimators': 10}\n",
      "Média 0.7705 - Desvio padrão 0.0189 - Parâmetros {'bootstrap': False, 'criterion': 'log_loss', 'max_depth': 3, 'min_samples_leaf': 128, 'min_samples_split': 32, 'n_estimators': 10}\n",
      "Média 0.7704 - Desvio padrão 0.0156 - Parâmetros {'bootstrap': True, 'criterion': 'entropy', 'max_depth': 3, 'min_samples_leaf': 32, 'min_samples_split': 128, 'n_estimators': 10}\n",
      "Média 0.7699 - Desvio padrão 0.0116 - Parâmetros {'bootstrap': True, 'criterion': 'log_loss', 'max_depth': 5, 'min_samples_leaf': 128, 'min_samples_split': 32, 'n_estimators': 10}\n",
      "Média 0.7699 - Desvio padrão 0.0169 - Parâmetros {'bootstrap': False, 'criterion': 'gini', 'max_depth': 3, 'min_samples_leaf': 128, 'min_samples_split': 32, 'n_estimators': 10}\n",
      "Média 0.7698 - Desvio padrão 0.0103 - Parâmetros {'bootstrap': False, 'criterion': 'gini', 'max_depth': 3, 'min_samples_leaf': 32, 'min_samples_split': 32, 'n_estimators': 10}\n",
      "Média 0.7697 - Desvio padrão 0.0185 - Parâmetros {'bootstrap': True, 'criterion': 'entropy', 'max_depth': 3, 'min_samples_leaf': 32, 'min_samples_split': 32, 'n_estimators': 10}\n",
      "Média 0.7697 - Desvio padrão 0.0165 - Parâmetros {'bootstrap': True, 'criterion': 'log_loss', 'max_depth': 3, 'min_samples_leaf': 128, 'min_samples_split': 32, 'n_estimators': 100}\n",
      "Média 0.7695 - Desvio padrão 0.0186 - Parâmetros {'bootstrap': False, 'criterion': 'gini', 'max_depth': 3, 'min_samples_leaf': 128, 'min_samples_split': 32, 'n_estimators': 100}\n",
      "Média 0.7694 - Desvio padrão 0.0083 - Parâmetros {'bootstrap': True, 'criterion': 'log_loss', 'max_depth': 5, 'min_samples_leaf': 64, 'min_samples_split': 128, 'n_estimators': 10}\n",
      "Média 0.7691 - Desvio padrão 0.0226 - Parâmetros {'bootstrap': False, 'criterion': 'log_loss', 'max_depth': 3, 'min_samples_leaf': 64, 'min_samples_split': 32, 'n_estimators': 10}\n",
      "Média 0.7691 - Desvio padrão 0.0139 - Parâmetros {'bootstrap': True, 'criterion': 'log_loss', 'max_depth': 3, 'min_samples_leaf': 32, 'min_samples_split': 128, 'n_estimators': 10}\n",
      "Média 0.7690 - Desvio padrão 0.0206 - Parâmetros {'bootstrap': True, 'criterion': 'entropy', 'max_depth': 3, 'min_samples_leaf': 128, 'min_samples_split': 128, 'n_estimators': 10}\n",
      "Média 0.7689 - Desvio padrão 0.0203 - Parâmetros {'bootstrap': True, 'criterion': 'log_loss', 'max_depth': 5, 'min_samples_leaf': 32, 'min_samples_split': 128, 'n_estimators': 10}\n",
      "Média 0.7687 - Desvio padrão 0.0156 - Parâmetros {'bootstrap': True, 'criterion': 'gini', 'max_depth': 3, 'min_samples_leaf': 128, 'min_samples_split': 32, 'n_estimators': 100}\n",
      "Média 0.7683 - Desvio padrão 0.0193 - Parâmetros {'bootstrap': False, 'criterion': 'log_loss', 'max_depth': 3, 'min_samples_leaf': 32, 'min_samples_split': 64, 'n_estimators': 10}\n",
      "Média 0.7682 - Desvio padrão 0.0155 - Parâmetros {'bootstrap': True, 'criterion': 'gini', 'max_depth': 3, 'min_samples_leaf': 64, 'min_samples_split': 128, 'n_estimators': 10}\n",
      "Média 0.7682 - Desvio padrão 0.0213 - Parâmetros {'bootstrap': False, 'criterion': 'log_loss', 'max_depth': 3, 'min_samples_leaf': 32, 'min_samples_split': 128, 'n_estimators': 10}\n",
      "Média 0.7681 - Desvio padrão 0.0157 - Parâmetros {'bootstrap': True, 'criterion': 'entropy', 'max_depth': 3, 'min_samples_leaf': 64, 'min_samples_split': 32, 'n_estimators': 10}\n",
      "Média 0.7677 - Desvio padrão 0.0177 - Parâmetros {'bootstrap': False, 'criterion': 'entropy', 'max_depth': 3, 'min_samples_leaf': 64, 'min_samples_split': 64, 'n_estimators': 10}\n",
      "Média 0.7677 - Desvio padrão 0.0132 - Parâmetros {'bootstrap': True, 'criterion': 'entropy', 'max_depth': 10, 'min_samples_leaf': 128, 'min_samples_split': 128, 'n_estimators': 10}\n",
      "Média 0.7669 - Desvio padrão 0.0213 - Parâmetros {'bootstrap': True, 'criterion': 'entropy', 'max_depth': 3, 'min_samples_leaf': 32, 'min_samples_split': 64, 'n_estimators': 10}\n",
      "Média 0.7666 - Desvio padrão 0.0112 - Parâmetros {'bootstrap': True, 'criterion': 'log_loss', 'max_depth': 3, 'min_samples_leaf': 128, 'min_samples_split': 32, 'n_estimators': 10}\n",
      "Média 0.7664 - Desvio padrão 0.0176 - Parâmetros {'bootstrap': True, 'criterion': 'gini', 'max_depth': 3, 'min_samples_leaf': 128, 'min_samples_split': 64, 'n_estimators': 10}\n",
      "Média 0.7662 - Desvio padrão 0.0195 - Parâmetros {'bootstrap': False, 'criterion': 'entropy', 'max_depth': 3, 'min_samples_leaf': 128, 'min_samples_split': 64, 'n_estimators': 10}\n",
      "Média 0.7658 - Desvio padrão 0.0211 - Parâmetros {'bootstrap': False, 'criterion': 'gini', 'max_depth': 3, 'min_samples_leaf': 128, 'min_samples_split': 64, 'n_estimators': 10}\n",
      "Média 0.7656 - Desvio padrão 0.0172 - Parâmetros {'bootstrap': False, 'criterion': 'entropy', 'max_depth': 3, 'min_samples_leaf': 32, 'min_samples_split': 64, 'n_estimators': 10}\n",
      "Média 0.7656 - Desvio padrão 0.0158 - Parâmetros {'bootstrap': False, 'criterion': 'entropy', 'max_depth': 3, 'min_samples_leaf': 32, 'min_samples_split': 128, 'n_estimators': 10}\n",
      "Média 0.7655 - Desvio padrão 0.0222 - Parâmetros {'bootstrap': False, 'criterion': 'entropy', 'max_depth': 3, 'min_samples_leaf': 64, 'min_samples_split': 128, 'n_estimators': 10}\n",
      "Média 0.7654 - Desvio padrão 0.0123 - Parâmetros {'bootstrap': True, 'criterion': 'log_loss', 'max_depth': 3, 'min_samples_leaf': 64, 'min_samples_split': 32, 'n_estimators': 10}\n",
      "Média 0.7654 - Desvio padrão 0.0165 - Parâmetros {'bootstrap': True, 'criterion': 'log_loss', 'max_depth': 3, 'min_samples_leaf': 64, 'min_samples_split': 64, 'n_estimators': 10}\n",
      "Média 0.7653 - Desvio padrão 0.0260 - Parâmetros {'bootstrap': False, 'criterion': 'entropy', 'max_depth': 3, 'min_samples_leaf': 128, 'min_samples_split': 128, 'n_estimators': 10}\n",
      "Média 0.7651 - Desvio padrão 0.0202 - Parâmetros {'bootstrap': False, 'criterion': 'entropy', 'max_depth': 3, 'min_samples_leaf': 128, 'min_samples_split': 32, 'n_estimators': 10}\n",
      "Média 0.7649 - Desvio padrão 0.0133 - Parâmetros {'bootstrap': False, 'criterion': 'log_loss', 'max_depth': 3, 'min_samples_leaf': 128, 'min_samples_split': 128, 'n_estimators': 10}\n",
      "Média 0.7644 - Desvio padrão 0.0160 - Parâmetros {'bootstrap': False, 'criterion': 'gini', 'max_depth': 3, 'min_samples_leaf': 128, 'min_samples_split': 128, 'n_estimators': 10}\n",
      "Média 0.7639 - Desvio padrão 0.0177 - Parâmetros {'bootstrap': False, 'criterion': 'log_loss', 'max_depth': 3, 'min_samples_leaf': 64, 'min_samples_split': 64, 'n_estimators': 10}\n",
      "Média 0.7638 - Desvio padrão 0.0233 - Parâmetros {'bootstrap': True, 'criterion': 'gini', 'max_depth': 3, 'min_samples_leaf': 128, 'min_samples_split': 128, 'n_estimators': 10}\n",
      "Média 0.7629 - Desvio padrão 0.0198 - Parâmetros {'bootstrap': False, 'criterion': 'gini', 'max_depth': 3, 'min_samples_leaf': 64, 'min_samples_split': 64, 'n_estimators': 10}\n",
      "Média 0.7628 - Desvio padrão 0.0187 - Parâmetros {'bootstrap': False, 'criterion': 'entropy', 'max_depth': 3, 'min_samples_leaf': 64, 'min_samples_split': 32, 'n_estimators': 10}\n",
      "Média 0.7623 - Desvio padrão 0.0169 - Parâmetros {'bootstrap': True, 'criterion': 'log_loss', 'max_depth': 3, 'min_samples_leaf': 128, 'min_samples_split': 128, 'n_estimators': 10}\n",
      "Média 0.7611 - Desvio padrão 0.0216 - Parâmetros {'bootstrap': False, 'criterion': 'entropy', 'max_depth': 3, 'min_samples_leaf': 32, 'min_samples_split': 32, 'n_estimators': 10}\n",
      "Média 0.7610 - Desvio padrão 0.0191 - Parâmetros {'bootstrap': True, 'criterion': 'entropy', 'max_depth': 3, 'min_samples_leaf': 128, 'min_samples_split': 32, 'n_estimators': 10}\n",
      "Média 0.7607 - Desvio padrão 0.0217 - Parâmetros {'bootstrap': False, 'criterion': 'gini', 'max_depth': 3, 'min_samples_leaf': 32, 'min_samples_split': 128, 'n_estimators': 10}\n",
      "Média 0.7604 - Desvio padrão 0.0142 - Parâmetros {'bootstrap': True, 'criterion': 'gini', 'max_depth': 3, 'min_samples_leaf': 128, 'min_samples_split': 32, 'n_estimators': 10}\n",
      "Média 0.7603 - Desvio padrão 0.0162 - Parâmetros {'bootstrap': False, 'criterion': 'gini', 'max_depth': 3, 'min_samples_leaf': 32, 'min_samples_split': 64, 'n_estimators': 10}\n",
      "Média 0.7597 - Desvio padrão 0.0170 - Parâmetros {'bootstrap': False, 'criterion': 'log_loss', 'max_depth': 3, 'min_samples_leaf': 32, 'min_samples_split': 32, 'n_estimators': 10}\n",
      "Média 0.7594 - Desvio padrão 0.0172 - Parâmetros {'bootstrap': True, 'criterion': 'entropy', 'max_depth': 3, 'min_samples_leaf': 64, 'min_samples_split': 128, 'n_estimators': 10}\n",
      "Média 0.7586 - Desvio padrão 0.0137 - Parâmetros {'bootstrap': True, 'criterion': 'entropy', 'max_depth': 3, 'min_samples_leaf': 64, 'min_samples_split': 64, 'n_estimators': 10}\n",
      "Média 0.7575 - Desvio padrão 0.0198 - Parâmetros {'bootstrap': False, 'criterion': 'gini', 'max_depth': 3, 'min_samples_leaf': 64, 'min_samples_split': 32, 'n_estimators': 10}\n",
      "Média 0.7570 - Desvio padrão 0.0189 - Parâmetros {'bootstrap': True, 'criterion': 'log_loss', 'max_depth': 3, 'min_samples_leaf': 128, 'min_samples_split': 64, 'n_estimators': 10}\n",
      "Média 0.7569 - Desvio padrão 0.0276 - Parâmetros {'bootstrap': True, 'criterion': 'gini', 'max_depth': 3, 'min_samples_leaf': 32, 'min_samples_split': 128, 'n_estimators': 10}\n",
      "Média 0.7558 - Desvio padrão 0.0151 - Parâmetros {'bootstrap': True, 'criterion': 'entropy', 'max_depth': 3, 'min_samples_leaf': 128, 'min_samples_split': 64, 'n_estimators': 10}\n",
      "Média 0.7542 - Desvio padrão 0.0212 - Parâmetros {'bootstrap': True, 'criterion': 'log_loss', 'max_depth': 3, 'min_samples_leaf': 32, 'min_samples_split': 64, 'n_estimators': 10}\n",
      "Média 0.7520 - Desvio padrão 0.0127 - Parâmetros {'bootstrap': False, 'criterion': 'log_loss', 'max_depth': 3, 'min_samples_leaf': 128, 'min_samples_split': 64, 'n_estimators': 10}\n"
     ]
    }
   ],
   "source": [
    "for indice, linha in df_resultados[['mean_test_score', 'std_test_score', 'params']].sort_values(\"mean_test_score\", ascending=False).iterrows():\n",
    "    print(f'Média {linha.mean_test_score:.4f} - Desvio padrão {linha.std_test_score:.4f} - Parâmetros {linha.params}')"
   ]
  },
  {
   "cell_type": "code",
   "execution_count": 49,
   "metadata": {},
   "outputs": [
    {
     "name": "stdout",
     "output_type": "stream",
     "text": [
      "A quantidade de splits é de 10 folds\n",
      "A média dos scores é de 0.78210\n",
      "O desvio padrão é de 0.012809761902549175\n",
      "O intervalo de confiança ficou entre 75.65% e 80.77%\n"
     ]
    }
   ],
   "source": [
    "scores = cross_val_score(clf_gridcv.best_estimator_, X, y, cv=KFold(n_splits=10, shuffle=True))\n",
    "\n",
    "calcula_intervao_confianca(scores)"
   ]
  },
  {
   "attachments": {},
   "cell_type": "markdown",
   "metadata": {},
   "source": [
    "RandomForestClassifier com  RandomizedSearchCV"
   ]
  },
  {
   "cell_type": "code",
   "execution_count": 50,
   "metadata": {},
   "outputs": [],
   "source": [
    "clf_random_search_cv  = RandomizedSearchCV(RandomForestClassifier(), espaco_de_parametros, n_iter= 60, cv=KFold(n_splits=10, shuffle=True))\n",
    "\n",
    "clf_random_search_cv.fit(X, y)\n",
    "\n",
    "df_resultados = pd.DataFrame(clf_random_search_cv.cv_results_)"
   ]
  },
  {
   "cell_type": "code",
   "execution_count": 51,
   "metadata": {},
   "outputs": [
    {
     "name": "stdout",
     "output_type": "stream",
     "text": [
      "Média 0.7820 - Desvio padrão 0.0174 - Parâmetros {'n_estimators': 100, 'min_samples_split': 128, 'min_samples_leaf': 32, 'max_depth': 10, 'criterion': 'gini', 'bootstrap': True}\n",
      "Média 0.7812 - Desvio padrão 0.0160 - Parâmetros {'n_estimators': 100, 'min_samples_split': 64, 'min_samples_leaf': 32, 'max_depth': 10, 'criterion': 'log_loss', 'bootstrap': False}\n",
      "Média 0.7811 - Desvio padrão 0.0198 - Parâmetros {'n_estimators': 10, 'min_samples_split': 128, 'min_samples_leaf': 32, 'max_depth': 10, 'criterion': 'gini', 'bootstrap': True}\n",
      "Média 0.7811 - Desvio padrão 0.0170 - Parâmetros {'n_estimators': 100, 'min_samples_split': 64, 'min_samples_leaf': 32, 'max_depth': 10, 'criterion': 'entropy', 'bootstrap': True}\n",
      "Média 0.7811 - Desvio padrão 0.0176 - Parâmetros {'n_estimators': 100, 'min_samples_split': 64, 'min_samples_leaf': 32, 'max_depth': 10, 'criterion': 'gini', 'bootstrap': True}\n",
      "Média 0.7802 - Desvio padrão 0.0166 - Parâmetros {'n_estimators': 100, 'min_samples_split': 32, 'min_samples_leaf': 32, 'max_depth': 10, 'criterion': 'entropy', 'bootstrap': False}\n",
      "Média 0.7802 - Desvio padrão 0.0174 - Parâmetros {'n_estimators': 10, 'min_samples_split': 32, 'min_samples_leaf': 64, 'max_depth': 10, 'criterion': 'gini', 'bootstrap': False}\n",
      "Média 0.7797 - Desvio padrão 0.0185 - Parâmetros {'n_estimators': 10, 'min_samples_split': 128, 'min_samples_leaf': 64, 'max_depth': 5, 'criterion': 'entropy', 'bootstrap': False}\n",
      "Média 0.7790 - Desvio padrão 0.0166 - Parâmetros {'n_estimators': 10, 'min_samples_split': 128, 'min_samples_leaf': 32, 'max_depth': 10, 'criterion': 'gini', 'bootstrap': False}\n",
      "Média 0.7790 - Desvio padrão 0.0179 - Parâmetros {'n_estimators': 10, 'min_samples_split': 128, 'min_samples_leaf': 32, 'max_depth': 10, 'criterion': 'entropy', 'bootstrap': False}\n",
      "Média 0.7781 - Desvio padrão 0.0153 - Parâmetros {'n_estimators': 10, 'min_samples_split': 128, 'min_samples_leaf': 32, 'max_depth': 5, 'criterion': 'log_loss', 'bootstrap': False}\n",
      "Média 0.7780 - Desvio padrão 0.0201 - Parâmetros {'n_estimators': 10, 'min_samples_split': 128, 'min_samples_leaf': 64, 'max_depth': 10, 'criterion': 'gini', 'bootstrap': False}\n",
      "Média 0.7778 - Desvio padrão 0.0156 - Parâmetros {'n_estimators': 100, 'min_samples_split': 64, 'min_samples_leaf': 128, 'max_depth': 10, 'criterion': 'gini', 'bootstrap': False}\n",
      "Média 0.7777 - Desvio padrão 0.0172 - Parâmetros {'n_estimators': 10, 'min_samples_split': 32, 'min_samples_leaf': 32, 'max_depth': 10, 'criterion': 'log_loss', 'bootstrap': False}\n",
      "Média 0.7774 - Desvio padrão 0.0188 - Parâmetros {'n_estimators': 10, 'min_samples_split': 32, 'min_samples_leaf': 64, 'max_depth': 5, 'criterion': 'gini', 'bootstrap': False}\n",
      "Média 0.7774 - Desvio padrão 0.0167 - Parâmetros {'n_estimators': 10, 'min_samples_split': 32, 'min_samples_leaf': 64, 'max_depth': 10, 'criterion': 'entropy', 'bootstrap': False}\n",
      "Média 0.7772 - Desvio padrão 0.0176 - Parâmetros {'n_estimators': 10, 'min_samples_split': 32, 'min_samples_leaf': 32, 'max_depth': 10, 'criterion': 'entropy', 'bootstrap': True}\n",
      "Média 0.7769 - Desvio padrão 0.0177 - Parâmetros {'n_estimators': 100, 'min_samples_split': 64, 'min_samples_leaf': 32, 'max_depth': 5, 'criterion': 'gini', 'bootstrap': False}\n",
      "Média 0.7769 - Desvio padrão 0.0138 - Parâmetros {'n_estimators': 10, 'min_samples_split': 64, 'min_samples_leaf': 128, 'max_depth': 10, 'criterion': 'entropy', 'bootstrap': False}\n",
      "Média 0.7768 - Desvio padrão 0.0177 - Parâmetros {'n_estimators': 100, 'min_samples_split': 64, 'min_samples_leaf': 32, 'max_depth': 5, 'criterion': 'entropy', 'bootstrap': False}\n",
      "Média 0.7765 - Desvio padrão 0.0164 - Parâmetros {'n_estimators': 10, 'min_samples_split': 128, 'min_samples_leaf': 128, 'max_depth': 10, 'criterion': 'entropy', 'bootstrap': False}\n",
      "Média 0.7759 - Desvio padrão 0.0163 - Parâmetros {'n_estimators': 100, 'min_samples_split': 64, 'min_samples_leaf': 32, 'max_depth': 5, 'criterion': 'log_loss', 'bootstrap': True}\n",
      "Média 0.7759 - Desvio padrão 0.0177 - Parâmetros {'n_estimators': 10, 'min_samples_split': 128, 'min_samples_leaf': 64, 'max_depth': 10, 'criterion': 'log_loss', 'bootstrap': True}\n",
      "Média 0.7756 - Desvio padrão 0.0167 - Parâmetros {'n_estimators': 100, 'min_samples_split': 128, 'min_samples_leaf': 64, 'max_depth': 3, 'criterion': 'entropy', 'bootstrap': True}\n",
      "Média 0.7755 - Desvio padrão 0.0168 - Parâmetros {'n_estimators': 100, 'min_samples_split': 32, 'min_samples_leaf': 128, 'max_depth': 3, 'criterion': 'entropy', 'bootstrap': False}\n",
      "Média 0.7755 - Desvio padrão 0.0161 - Parâmetros {'n_estimators': 100, 'min_samples_split': 32, 'min_samples_leaf': 64, 'max_depth': 5, 'criterion': 'gini', 'bootstrap': False}\n",
      "Média 0.7755 - Desvio padrão 0.0164 - Parâmetros {'n_estimators': 100, 'min_samples_split': 32, 'min_samples_leaf': 32, 'max_depth': 5, 'criterion': 'entropy', 'bootstrap': True}\n",
      "Média 0.7754 - Desvio padrão 0.0166 - Parâmetros {'n_estimators': 100, 'min_samples_split': 64, 'min_samples_leaf': 32, 'max_depth': 5, 'criterion': 'gini', 'bootstrap': True}\n",
      "Média 0.7754 - Desvio padrão 0.0167 - Parâmetros {'n_estimators': 100, 'min_samples_split': 128, 'min_samples_leaf': 64, 'max_depth': 3, 'criterion': 'log_loss', 'bootstrap': False}\n",
      "Média 0.7753 - Desvio padrão 0.0161 - Parâmetros {'n_estimators': 100, 'min_samples_split': 128, 'min_samples_leaf': 128, 'max_depth': 5, 'criterion': 'gini', 'bootstrap': False}\n",
      "Média 0.7753 - Desvio padrão 0.0167 - Parâmetros {'n_estimators': 100, 'min_samples_split': 32, 'min_samples_leaf': 128, 'max_depth': 3, 'criterion': 'log_loss', 'bootstrap': False}\n",
      "Média 0.7753 - Desvio padrão 0.0158 - Parâmetros {'n_estimators': 100, 'min_samples_split': 128, 'min_samples_leaf': 128, 'max_depth': 5, 'criterion': 'log_loss', 'bootstrap': False}\n",
      "Média 0.7753 - Desvio padrão 0.0165 - Parâmetros {'n_estimators': 100, 'min_samples_split': 128, 'min_samples_leaf': 64, 'max_depth': 5, 'criterion': 'entropy', 'bootstrap': False}\n",
      "Média 0.7751 - Desvio padrão 0.0158 - Parâmetros {'n_estimators': 10, 'min_samples_split': 128, 'min_samples_leaf': 32, 'max_depth': 5, 'criterion': 'gini', 'bootstrap': False}\n",
      "Média 0.7749 - Desvio padrão 0.0175 - Parâmetros {'n_estimators': 10, 'min_samples_split': 128, 'min_samples_leaf': 128, 'max_depth': 5, 'criterion': 'entropy', 'bootstrap': False}\n",
      "Média 0.7749 - Desvio padrão 0.0164 - Parâmetros {'n_estimators': 100, 'min_samples_split': 64, 'min_samples_leaf': 64, 'max_depth': 3, 'criterion': 'log_loss', 'bootstrap': True}\n",
      "Média 0.7749 - Desvio padrão 0.0166 - Parâmetros {'n_estimators': 100, 'min_samples_split': 64, 'min_samples_leaf': 128, 'max_depth': 3, 'criterion': 'entropy', 'bootstrap': False}\n",
      "Média 0.7749 - Desvio padrão 0.0150 - Parâmetros {'n_estimators': 10, 'min_samples_split': 64, 'min_samples_leaf': 32, 'max_depth': 5, 'criterion': 'gini', 'bootstrap': False}\n",
      "Média 0.7748 - Desvio padrão 0.0164 - Parâmetros {'n_estimators': 100, 'min_samples_split': 128, 'min_samples_leaf': 32, 'max_depth': 3, 'criterion': 'entropy', 'bootstrap': True}\n",
      "Média 0.7747 - Desvio padrão 0.0189 - Parâmetros {'n_estimators': 10, 'min_samples_split': 128, 'min_samples_leaf': 32, 'max_depth': 5, 'criterion': 'entropy', 'bootstrap': False}\n",
      "Média 0.7744 - Desvio padrão 0.0160 - Parâmetros {'n_estimators': 100, 'min_samples_split': 128, 'min_samples_leaf': 128, 'max_depth': 10, 'criterion': 'log_loss', 'bootstrap': True}\n",
      "Média 0.7743 - Desvio padrão 0.0163 - Parâmetros {'n_estimators': 100, 'min_samples_split': 64, 'min_samples_leaf': 128, 'max_depth': 5, 'criterion': 'log_loss', 'bootstrap': False}\n",
      "Média 0.7743 - Desvio padrão 0.0170 - Parâmetros {'n_estimators': 100, 'min_samples_split': 32, 'min_samples_leaf': 128, 'max_depth': 5, 'criterion': 'entropy', 'bootstrap': False}\n",
      "Média 0.7736 - Desvio padrão 0.0151 - Parâmetros {'n_estimators': 10, 'min_samples_split': 128, 'min_samples_leaf': 64, 'max_depth': 5, 'criterion': 'log_loss', 'bootstrap': True}\n",
      "Média 0.7733 - Desvio padrão 0.0148 - Parâmetros {'n_estimators': 10, 'min_samples_split': 64, 'min_samples_leaf': 64, 'max_depth': 5, 'criterion': 'log_loss', 'bootstrap': True}\n",
      "Média 0.7730 - Desvio padrão 0.0165 - Parâmetros {'n_estimators': 100, 'min_samples_split': 64, 'min_samples_leaf': 128, 'max_depth': 3, 'criterion': 'entropy', 'bootstrap': True}\n",
      "Média 0.7729 - Desvio padrão 0.0182 - Parâmetros {'n_estimators': 10, 'min_samples_split': 32, 'min_samples_leaf': 128, 'max_depth': 5, 'criterion': 'entropy', 'bootstrap': True}\n",
      "Média 0.7728 - Desvio padrão 0.0178 - Parâmetros {'n_estimators': 10, 'min_samples_split': 32, 'min_samples_leaf': 64, 'max_depth': 10, 'criterion': 'entropy', 'bootstrap': True}\n",
      "Média 0.7718 - Desvio padrão 0.0173 - Parâmetros {'n_estimators': 10, 'min_samples_split': 64, 'min_samples_leaf': 128, 'max_depth': 10, 'criterion': 'entropy', 'bootstrap': True}\n",
      "Média 0.7715 - Desvio padrão 0.0159 - Parâmetros {'n_estimators': 100, 'min_samples_split': 64, 'min_samples_leaf': 32, 'max_depth': 3, 'criterion': 'log_loss', 'bootstrap': True}\n",
      "Média 0.7714 - Desvio padrão 0.0197 - Parâmetros {'n_estimators': 10, 'min_samples_split': 128, 'min_samples_leaf': 64, 'max_depth': 3, 'criterion': 'gini', 'bootstrap': False}\n",
      "Média 0.7707 - Desvio padrão 0.0200 - Parâmetros {'n_estimators': 100, 'min_samples_split': 64, 'min_samples_leaf': 32, 'max_depth': 3, 'criterion': 'gini', 'bootstrap': True}\n",
      "Média 0.7697 - Desvio padrão 0.0169 - Parâmetros {'n_estimators': 10, 'min_samples_split': 32, 'min_samples_leaf': 128, 'max_depth': 10, 'criterion': 'log_loss', 'bootstrap': False}\n",
      "Média 0.7620 - Desvio padrão 0.0237 - Parâmetros {'n_estimators': 10, 'min_samples_split': 128, 'min_samples_leaf': 64, 'max_depth': 3, 'criterion': 'log_loss', 'bootstrap': False}\n",
      "Média 0.7619 - Desvio padrão 0.0240 - Parâmetros {'n_estimators': 10, 'min_samples_split': 32, 'min_samples_leaf': 64, 'max_depth': 3, 'criterion': 'log_loss', 'bootstrap': False}\n",
      "Média 0.7613 - Desvio padrão 0.0229 - Parâmetros {'n_estimators': 10, 'min_samples_split': 64, 'min_samples_leaf': 32, 'max_depth': 3, 'criterion': 'log_loss', 'bootstrap': False}\n",
      "Média 0.7595 - Desvio padrão 0.0231 - Parâmetros {'n_estimators': 10, 'min_samples_split': 128, 'min_samples_leaf': 32, 'max_depth': 3, 'criterion': 'log_loss', 'bootstrap': True}\n",
      "Média 0.7594 - Desvio padrão 0.0196 - Parâmetros {'n_estimators': 10, 'min_samples_split': 64, 'min_samples_leaf': 64, 'max_depth': 3, 'criterion': 'entropy', 'bootstrap': True}\n",
      "Média 0.7560 - Desvio padrão 0.0241 - Parâmetros {'n_estimators': 10, 'min_samples_split': 64, 'min_samples_leaf': 64, 'max_depth': 3, 'criterion': 'gini', 'bootstrap': True}\n",
      "Média 0.7471 - Desvio padrão 0.0238 - Parâmetros {'n_estimators': 10, 'min_samples_split': 32, 'min_samples_leaf': 32, 'max_depth': 3, 'criterion': 'log_loss', 'bootstrap': True}\n"
     ]
    }
   ],
   "source": [
    "for indice, linha in df_resultados[['mean_test_score', 'std_test_score', 'params']].sort_values(\"mean_test_score\", ascending=False).iterrows():\n",
    "    print(f'Média {linha.mean_test_score:.4f} - Desvio padrão {linha.std_test_score:.4f} - Parâmetros {linha.params}')"
   ]
  },
  {
   "cell_type": "code",
   "execution_count": 52,
   "metadata": {},
   "outputs": [
    {
     "name": "stdout",
     "output_type": "stream",
     "text": [
      "A quantidade de splits é de 10 folds\n",
      "A média dos scores é de 0.78210\n",
      "O desvio padrão é de 0.010261091559868285\n",
      "O intervalo de confiança ficou entre 76.16% e 80.26%\n"
     ]
    }
   ],
   "source": [
    "scores = cross_val_score(clf_random_search_cv.best_estimator_, X, y, cv=KFold(n_splits=10, shuffle=True))\n",
    "\n",
    "calcula_intervao_confianca(scores)"
   ]
  },
  {
   "attachments": {},
   "cell_type": "markdown",
   "metadata": {},
   "source": [
    "### Utilizando outra técnica de divisão dos dados\n",
    "Caso não seja possível rodar utilizando a técnica kfold, existem outras técnicas além da train_test_split, como a StratifiedShuffleSplit que vai aleatorizar e dividir os dados de forma stratificada."
   ]
  },
  {
   "cell_type": "code",
   "execution_count": 53,
   "metadata": {},
   "outputs": [
    {
     "name": "stdout",
     "output_type": "stream",
     "text": [
      "(8000, 3)\n",
      "(2000, 3)\n",
      "(8000,)\n",
      "(2000,)\n"
     ]
    }
   ],
   "source": [
    "# divisão dos dados em 60% treino, 20% teste e 20% validação\n",
    "np.random.seed(SEED)\n",
    "\n",
    "X_train, X_validacao, y_train, y_validacao = train_test_split(X, y, test_size=0.2, shuffle=True, stratify=y)\n",
    "\n",
    "print(X_train.shape)\n",
    "print(X_validacao.shape)\n",
    "print(y_train.shape)\n",
    "print(y_validacao.shape)\n"
   ]
  },
  {
   "cell_type": "code",
   "execution_count": 54,
   "metadata": {},
   "outputs": [
    {
     "data": {
      "text/plain": [
       "0.25"
      ]
     },
     "execution_count": 54,
     "metadata": {},
     "output_type": "execute_result"
    }
   ],
   "source": [
    "# Cálculo do test_size para encontrar 20% dos dados completos dentro dos dados de treino.\n",
    "2000 / 8000"
   ]
  },
  {
   "cell_type": "code",
   "execution_count": 55,
   "metadata": {},
   "outputs": [],
   "source": [
    "clf_random_search_cv  = RandomizedSearchCV(RandomForestClassifier(), espaco_de_parametros, n_iter= 5, cv=StratifiedShuffleSplit(n_splits=1, test_size=0.25, random_state=SEED))\n",
    "\n",
    "clf_random_search_cv.fit(X_train, y_train)\n",
    "\n",
    "df_resultados = pd.DataFrame(clf_random_search_cv.cv_results_)"
   ]
  },
  {
   "cell_type": "code",
   "execution_count": 56,
   "metadata": {},
   "outputs": [
    {
     "name": "stdout",
     "output_type": "stream",
     "text": [
      "Média 0.7755 - Desvio padrão 0.0000 - Parâmetros {'n_estimators': 100, 'min_samples_split': 64, 'min_samples_leaf': 32, 'max_depth': 10, 'criterion': 'gini', 'bootstrap': False}\n",
      "Média 0.7745 - Desvio padrão 0.0000 - Parâmetros {'n_estimators': 10, 'min_samples_split': 64, 'min_samples_leaf': 64, 'max_depth': 10, 'criterion': 'log_loss', 'bootstrap': False}\n",
      "Média 0.7700 - Desvio padrão 0.0000 - Parâmetros {'n_estimators': 100, 'min_samples_split': 32, 'min_samples_leaf': 32, 'max_depth': 3, 'criterion': 'log_loss', 'bootstrap': False}\n",
      "Média 0.7675 - Desvio padrão 0.0000 - Parâmetros {'n_estimators': 10, 'min_samples_split': 32, 'min_samples_leaf': 64, 'max_depth': 3, 'criterion': 'entropy', 'bootstrap': False}\n",
      "Média 0.7665 - Desvio padrão 0.0000 - Parâmetros {'n_estimators': 100, 'min_samples_split': 64, 'min_samples_leaf': 128, 'max_depth': 10, 'criterion': 'entropy', 'bootstrap': False}\n"
     ]
    }
   ],
   "source": [
    "for indice, linha in df_resultados[['mean_test_score', 'std_test_score', 'params']].sort_values(\"mean_test_score\", ascending=False).iterrows():\n",
    "    print(f'Média {linha.mean_test_score:.4f} - Desvio padrão {linha.std_test_score:.4f} - Parâmetros {linha.params}')"
   ]
  },
  {
   "cell_type": "code",
   "execution_count": 57,
   "metadata": {},
   "outputs": [
    {
     "name": "stdout",
     "output_type": "stream",
     "text": [
      "A quantidade de splits é de 1 folds\n",
      "A média dos scores é de 0.74800\n",
      "O desvio padrão é de 0.0\n",
      "O intervalo de confiança ficou entre 74.80% e 74.80%\n"
     ]
    }
   ],
   "source": [
    "scores = cross_val_score(clf_random_search_cv.best_estimator_, X_validacao, y_validacao, cv=StratifiedShuffleSplit(n_splits=1, test_size=0.25, random_state=SEED))\n",
    "\n",
    "calcula_intervao_confianca(scores)"
   ]
  }
 ],
 "metadata": {
  "kernelspec": {
   "display_name": "alura_ml_230214",
   "language": "python",
   "name": "python3"
  },
  "language_info": {
   "codemirror_mode": {
    "name": "ipython",
    "version": 3
   },
   "file_extension": ".py",
   "mimetype": "text/x-python",
   "name": "python",
   "nbconvert_exporter": "python",
   "pygments_lexer": "ipython3",
   "version": "3.11.1"
  },
  "orig_nbformat": 4,
  "vscode": {
   "interpreter": {
    "hash": "ff76d082099cf27926698e596f017e27cc437f7b6d412c438d70ac4d3d1aa45d"
   }
  }
 },
 "nbformat": 4,
 "nbformat_minor": 2
}
