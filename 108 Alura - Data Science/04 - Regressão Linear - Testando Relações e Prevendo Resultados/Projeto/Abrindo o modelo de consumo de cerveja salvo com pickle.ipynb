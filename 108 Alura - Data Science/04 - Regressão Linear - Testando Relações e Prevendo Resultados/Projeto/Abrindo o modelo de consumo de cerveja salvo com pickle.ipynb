{
 "cells": [
  {
   "cell_type": "code",
   "execution_count": 1,
   "id": "24c7d02d",
   "metadata": {},
   "outputs": [],
   "source": [
    "import pickle\n",
    "\n",
    "modelo = open('modelo_consumo_cerveja','rb')\n",
    "lm_new = pickle.load(modelo)\n",
    "modelo.close()"
   ]
  },
  {
   "cell_type": "code",
   "execution_count": 2,
   "id": "5f6462a5",
   "metadata": {},
   "outputs": [
    {
     "name": "stdout",
     "output_type": "stream",
     "text": [
      "Consumo previsto de cerveja é de 26094.9 litros.\n"
     ]
    }
   ],
   "source": [
    "temp_max = 30.5\n",
    "chuva    = 12.2\n",
    "fds      = 0\n",
    "\n",
    "entrada  = [[temp_max, chuva, fds]]\n",
    "print(f'Consumo previsto de cerveja é de {lm_new.predict(entrada).round(2)[0]} litros.')"
   ]
  }
 ],
 "metadata": {
  "kernelspec": {
   "display_name": "Python 3 (ipykernel)",
   "language": "python",
   "name": "python3"
  },
  "language_info": {
   "codemirror_mode": {
    "name": "ipython",
    "version": 3
   },
   "file_extension": ".py",
   "mimetype": "text/x-python",
   "name": "python",
   "nbconvert_exporter": "python",
   "pygments_lexer": "ipython3",
   "version": "3.9.7"
  }
 },
 "nbformat": 4,
 "nbformat_minor": 5
}
