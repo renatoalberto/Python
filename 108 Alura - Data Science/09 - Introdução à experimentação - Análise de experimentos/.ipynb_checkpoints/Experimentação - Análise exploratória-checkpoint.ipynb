{
 "cells": [
  {
   "cell_type": "markdown",
   "id": "71ca398a",
   "metadata": {},
   "source": [
    "# Planejar é preciso"
   ]
  },
  {
   "cell_type": "markdown",
   "id": "4503e57b",
   "metadata": {},
   "source": [
    "<img src=\"Foto_da_Bel.png\" width =\"150\" height=150 align=\"left\">\n",
    "</br></br>\n",
    "Bel decidiu realizar um experimento para entender melhor a sua receita de cupcakes (o sistema a ser analisado), e agora precisamos refletir sobre como tal experimento será conduzido.\n",
    "</img>"
   ]
  },
  {
   "cell_type": "markdown",
   "id": "a763c691",
   "metadata": {},
   "source": [
    "Existem três passos essenciais no planejamento de um experimento:\n",
    "* O primeiro deles é ter um <b>objetivo claro</b>: que questão desejamos responder ao realizar um experimento? A Bel, por exemplo, quer entender como a variação da quantidade de farinha e chocolate afeta a produção de cupcakes. Isso significa que ela não quer saber a influência da quantidade de ovos, ou o impacto da variação dos ingredientes na massa final da receita.</br></br>\n",
    "* O segundo passo de qualquer planejamento é entender <b>quais serão as variáveis manipuladas</b>. No caso da Bel, as variáveis manipuladas são a farinha e o chocolate. Os outros elementos, como quantidade de ovos, manteiga e temperatura do forno, devem permanecer obrigatoriamente constantes, de modo que os resultados obtidos não sejam influenciados por sua variação.</br></br>\n",
    "* <b>A resposta</b> é aquilo que desejamos analisar por meio das estatísticas, que nesse caso é o número de cupcakes produzidos. Ter esses conceitos bem definidos também nos ajuda a não perder tempo e dinheiro medindo coisas desnecessárias."
   ]
  },
  {
   "cell_type": "markdown",
   "id": "00de6db5",
   "metadata": {},
   "source": [
    "### definindo as faixas de variações"
   ]
  },
  {
   "cell_type": "markdown",
   "id": "5b0780a1",
   "metadata": {},
   "source": [
    "Para fazermos essa restrição, vamos definir limites inferiores e superiores, e é a partir deles que coletaremos os dados experimentais. Com o conhecimento que temos atualmente, podemos fazer algumas suposições gerais sobre quais serão esses valores, a começar pelo limite inferior. Provavelmente esse limite inferior serão maiores que ZERO, pois, segundo a nossa receita, é impossível fazer um cupcake de chocolate sem farinha ou chocolate.</br></br>\n",
    "\n",
    "<img src=\"Fornadas.png\" width =\"200\" height=200 align=\"left\">\n",
    "</br></br>\n",
    "Já em relação ao limite ao superior, temos que respeitar a capacidade da cozinha da Bel - afinal, não utilizaremos uma tonelada de farinha ou meia tonelada de chocolate. Para nos ajudar a restringir esses intervalos, a Bel nos informou que gostaria de assar fornadas de até 50 cupcakes.\n",
    "</img>"
   ]
  },
  {
   "cell_type": "markdown",
   "id": "d27e5d1f",
   "metadata": {},
   "source": [
    "Para descobrirmos as quantidades aproximadas necessárias para produzirmos esse resultado, realizaremos uma pesquisa em revistas de culinária e livros de receitas. A esse tipo de pesquisa dá-se o nome de <b>revisão bibliográfica</b>, e ela é extremamente importante no desenvolvimento e realização de qualquer experimento. Com essa revisão, seremos capazes de entender o que outras pessoas fizeram, e inclusive evitaremos cometer os mesmos erros que elas possam ter cometido.</br></br>\n",
    "\n",
    "Após essa revisão bibliográfica, chegamos à conclusão de que, para o cenário da Bel, os melhores limites inferiores e superiores são os da tabela abaixo:"
   ]
  },
  {
   "cell_type": "markdown",
   "id": "0eb945e3",
   "metadata": {},
   "source": [
    "<img src=\"Limites.png\" width=300 align=\"center\"></img>"
   ]
  },
  {
   "cell_type": "markdown",
   "id": "2335f12d",
   "metadata": {},
   "source": [
    "O problema desse processo é que existem infinitos pontos dentro dessa área, chamada de \"área de experimentação\". Será necessária uma nova abordagem. Vamos interpretar esses infinitos ensaios como uma população, que representa todos os ensaios possíveis de serem realizados. De dentro dessa população, retiraremos amostras finitas para inferirmos sobre as características da população."
   ]
  },
  {
   "cell_type": "markdown",
   "id": "3375becb",
   "metadata": {},
   "source": [
    "#### Precisamos portanto:\n",
    "1. Atender os objetis do experimento;\n",
    "2. Representativo da região de estudo;\n",
    "3. Menor número possível de ensaios."
   ]
  },
  {
   "cell_type": "markdown",
   "id": "eab0170a",
   "metadata": {},
   "source": [
    "#### Estratégias de escolha:\n",
    "Uma forma seria realizarmos o experimento variando em conjunto ambas as variáveis manipuláveis, para isso, escolheremos os pontos de forma aleatória, a escolha dos pontos precisa ser representativa de toda a área experimental, ou seja, que os pontos representem toda a região de estudo, evitando privilegiar apenas alguns setores.\n",
    "\n",
    "![variação em conjunto ambas as variáveis](https://caelum-online-public.s3.amazonaws.com/1228+-+planejamento+de+experimentos/exercicios/Transcri%C3%A7%C3%A3o/Imagens/planocart2.png)\n",
    "\n",
    "Outra abordagem seria o <font color='green'><b>Planejamento Fatorial</b></font>. Essa abordagem consiste em analisar os pontos nos vértices da área experimental. Agindo assim, o conjunto de pontos representará todas as possíveis combinações entre o limite inferior e superior das variáveis manipuláveis.\n",
    "\n",
    "![planejamento fatorial](https://caelum-online-public.s3.amazonaws.com/1228+-+planejamento+de+experimentos/exercicios/Transcri%C3%A7%C3%A3o/Imagens/fatorial.png)\n",
    "\n",
    "Para o caso da Bel, deve estar claro que a linha central que guiou a escolha do planejamento fatorial foi o fato de a coleta de dados ser custosa. Portanto, o planejamento fatorial surge com uma abordagem interessante para se obter informações sobre um sistema em estudo, usando para isso uma pequena quantidade de ensaios."
   ]
  }
 ],
 "metadata": {
  "kernelspec": {
   "display_name": "Python 3 (ipykernel)",
   "language": "python",
   "name": "python3"
  },
  "language_info": {
   "codemirror_mode": {
    "name": "ipython",
    "version": 3
   },
   "file_extension": ".py",
   "mimetype": "text/x-python",
   "name": "python",
   "nbconvert_exporter": "python",
   "pygments_lexer": "ipython3",
   "version": "3.9.7"
  }
 },
 "nbformat": 4,
 "nbformat_minor": 5
}
