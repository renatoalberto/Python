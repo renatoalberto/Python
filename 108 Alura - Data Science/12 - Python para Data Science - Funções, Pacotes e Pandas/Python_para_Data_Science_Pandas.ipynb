{
  "cells": [
    {
      "cell_type": "markdown",
      "metadata": {
        "colab_type": "text",
        "id": "W4bTJkJED0-t"
      },
      "source": [
        "# <font color=green> PYTHON PARA DATA SCIENCE - PANDAS\n",
        "---"
      ]
    },
    {
      "cell_type": "markdown",
      "metadata": {
        "colab_type": "text",
        "id": "GOEcCc62D0-x"
      },
      "source": [
        "# <font color=green> 1. INTRODUÇÃO AO PYTHON\n",
        "---"
      ]
    },
    {
      "cell_type": "markdown",
      "metadata": {
        "colab_type": "text",
        "id": "oGvoOJ-XD0-y"
      },
      "source": [
        "# 1.1 Introdução"
      ]
    },
    {
      "cell_type": "markdown",
      "metadata": {
        "colab_type": "text",
        "id": "fam3BM0aD0-z"
      },
      "source": [
        "> Python é uma linguagem de programação de alto nível com suporte a múltiplos paradigmas de programação. É um projeto *open source* e desde seu surgimento, em 1991, vem se tornando uma das linguagens de programação interpretadas mais populares. \n",
        ">\n",
        "> Nos últimos anos Python desenvolveu uma comunidade ativa de processamento científico e análise de dados e vem se destacando como uma das linguagens mais relevantes quando o assundo é ciência de dados e machine learning, tanto no ambiente acadêmico como também no mercado."
      ]
    },
    {
      "cell_type": "markdown",
      "metadata": {
        "colab_type": "text",
        "id": "6kH5DY-vD0-1"
      },
      "source": [
        "# 1.2 Instalação e ambiente de desenvolvimento"
      ]
    },
    {
      "cell_type": "markdown",
      "metadata": {
        "colab_type": "text",
        "id": "BTpm79I2D0-2"
      },
      "source": [
        "### Instalação Local\n",
        "\n",
        "### https://www.python.org/downloads/\n",
        "### ou\n",
        "### https://www.anaconda.com/distribution/"
      ]
    },
    {
      "cell_type": "markdown",
      "metadata": {
        "colab_type": "text",
        "id": "AuPS_XwRD0-3"
      },
      "source": [
        "### Google Colaboratory\n",
        "\n",
        "### https://colab.research.google.com"
      ]
    },
    {
      "cell_type": "markdown",
      "metadata": {
        "colab_type": "text",
        "id": "4rUYsPrXD0-4"
      },
      "source": [
        "### Verificando versão"
      ]
    },
    {
      "cell_type": "code",
      "execution_count": 46,
      "metadata": {
        "colab": {},
        "colab_type": "code",
        "id": "PgTCVRB2D0-5"
      },
      "outputs": [
        {
          "name": "stdout",
          "output_type": "stream",
          "text": [
            "Python 3.11.1\n"
          ]
        }
      ],
      "source": [
        "!python -V"
      ]
    },
    {
      "cell_type": "markdown",
      "metadata": {
        "colab_type": "text",
        "id": "lTtI6so4D0-9"
      },
      "source": [
        "# 1.3 Trabalhando com dados"
      ]
    },
    {
      "cell_type": "code",
      "execution_count": 47,
      "metadata": {
        "colab": {},
        "colab_type": "code",
        "id": "E_n4FUUWD0-9"
      },
      "outputs": [],
      "source": [
        "import pandas as pd"
      ]
    },
    {
      "cell_type": "code",
      "execution_count": 48,
      "metadata": {},
      "outputs": [],
      "source": [
        "# Configuração do pandas para apresentar no máximo 15 linhas de um dataframe\n",
        "pd.set_option('display.max_rows',15)\n",
        "\n",
        "# Configuração do pandas para apresentar no máximo 15 colunas de um dataframe\n",
        "pd.set_option('display.max_columns',15)"
      ]
    },
    {
      "cell_type": "code",
      "execution_count": 49,
      "metadata": {
        "colab": {},
        "colab_type": "code",
        "id": "Kq-JdRHFD0-_"
      },
      "outputs": [],
      "source": [
        "dataset = pd.read_csv('dados/db.csv', sep=';', encoding='utf8')"
      ]
    },
    {
      "cell_type": "code",
      "execution_count": 50,
      "metadata": {
        "colab": {},
        "colab_type": "code",
        "id": "mOV1rCA6D0_A",
        "scrolled": true
      },
      "outputs": [
        {
          "data": {
            "text/html": [
              "<div>\n",
              "<style scoped>\n",
              "    .dataframe tbody tr th:only-of-type {\n",
              "        vertical-align: middle;\n",
              "    }\n",
              "\n",
              "    .dataframe tbody tr th {\n",
              "        vertical-align: top;\n",
              "    }\n",
              "\n",
              "    .dataframe thead th {\n",
              "        text-align: right;\n",
              "    }\n",
              "</style>\n",
              "<table border=\"1\" class=\"dataframe\">\n",
              "  <thead>\n",
              "    <tr style=\"text-align: right;\">\n",
              "      <th></th>\n",
              "      <th>Nome</th>\n",
              "      <th>Motor</th>\n",
              "      <th>Ano</th>\n",
              "      <th>Quilometragem</th>\n",
              "      <th>Zero_km</th>\n",
              "      <th>Acessórios</th>\n",
              "      <th>Valor</th>\n",
              "    </tr>\n",
              "  </thead>\n",
              "  <tbody>\n",
              "    <tr>\n",
              "      <th>0</th>\n",
              "      <td>Jetta Variant</td>\n",
              "      <td>Motor 4.0 Turbo</td>\n",
              "      <td>2003</td>\n",
              "      <td>44410.0</td>\n",
              "      <td>False</td>\n",
              "      <td>['Rodas de liga', 'Travas elétricas', 'Piloto ...</td>\n",
              "      <td>88078.64</td>\n",
              "    </tr>\n",
              "    <tr>\n",
              "      <th>1</th>\n",
              "      <td>Passat</td>\n",
              "      <td>Motor Diesel</td>\n",
              "      <td>1991</td>\n",
              "      <td>5712.0</td>\n",
              "      <td>False</td>\n",
              "      <td>['Central multimídia', 'Teto panorâmico', 'Fre...</td>\n",
              "      <td>106161.94</td>\n",
              "    </tr>\n",
              "    <tr>\n",
              "      <th>2</th>\n",
              "      <td>Crossfox</td>\n",
              "      <td>Motor Diesel V8</td>\n",
              "      <td>1990</td>\n",
              "      <td>37123.0</td>\n",
              "      <td>False</td>\n",
              "      <td>['Piloto automático', 'Controle de estabilidad...</td>\n",
              "      <td>72832.16</td>\n",
              "    </tr>\n",
              "    <tr>\n",
              "      <th>3</th>\n",
              "      <td>DS5</td>\n",
              "      <td>Motor 2.4 Turbo</td>\n",
              "      <td>2019</td>\n",
              "      <td>NaN</td>\n",
              "      <td>True</td>\n",
              "      <td>['Travas elétricas', '4 X 4', 'Vidros elétrico...</td>\n",
              "      <td>124549.07</td>\n",
              "    </tr>\n",
              "    <tr>\n",
              "      <th>4</th>\n",
              "      <td>Aston Martin DB4</td>\n",
              "      <td>Motor 2.4 Turbo</td>\n",
              "      <td>2006</td>\n",
              "      <td>25757.0</td>\n",
              "      <td>False</td>\n",
              "      <td>['Rodas de liga', '4 X 4', 'Central multimídia...</td>\n",
              "      <td>92612.10</td>\n",
              "    </tr>\n",
              "    <tr>\n",
              "      <th>...</th>\n",
              "      <td>...</td>\n",
              "      <td>...</td>\n",
              "      <td>...</td>\n",
              "      <td>...</td>\n",
              "      <td>...</td>\n",
              "      <td>...</td>\n",
              "      <td>...</td>\n",
              "    </tr>\n",
              "    <tr>\n",
              "      <th>253</th>\n",
              "      <td>Phantom 2013</td>\n",
              "      <td>Motor V8</td>\n",
              "      <td>2014</td>\n",
              "      <td>27505.0</td>\n",
              "      <td>False</td>\n",
              "      <td>['Controle de estabilidade', 'Piloto automátic...</td>\n",
              "      <td>51759.58</td>\n",
              "    </tr>\n",
              "    <tr>\n",
              "      <th>254</th>\n",
              "      <td>Cadillac Ciel concept</td>\n",
              "      <td>Motor V8</td>\n",
              "      <td>1991</td>\n",
              "      <td>29981.0</td>\n",
              "      <td>False</td>\n",
              "      <td>['Bancos de couro', 'Painel digital', 'Sensor ...</td>\n",
              "      <td>51667.06</td>\n",
              "    </tr>\n",
              "    <tr>\n",
              "      <th>255</th>\n",
              "      <td>Classe GLK</td>\n",
              "      <td>Motor 5.0 V8 Bi-Turbo</td>\n",
              "      <td>2002</td>\n",
              "      <td>52637.0</td>\n",
              "      <td>False</td>\n",
              "      <td>['Rodas de liga', 'Controle de tração', 'Câmbi...</td>\n",
              "      <td>68934.03</td>\n",
              "    </tr>\n",
              "    <tr>\n",
              "      <th>256</th>\n",
              "      <td>Aston Martin DB5</td>\n",
              "      <td>Motor Diesel</td>\n",
              "      <td>1996</td>\n",
              "      <td>7685.0</td>\n",
              "      <td>False</td>\n",
              "      <td>['Ar condicionado', '4 X 4', 'Câmbio automátic...</td>\n",
              "      <td>122110.90</td>\n",
              "    </tr>\n",
              "    <tr>\n",
              "      <th>257</th>\n",
              "      <td>Macan</td>\n",
              "      <td>Motor Diesel V6</td>\n",
              "      <td>1992</td>\n",
              "      <td>50188.0</td>\n",
              "      <td>False</td>\n",
              "      <td>['Central multimídia', 'Teto panorâmico', 'Vid...</td>\n",
              "      <td>90381.47</td>\n",
              "    </tr>\n",
              "  </tbody>\n",
              "</table>\n",
              "<p>258 rows × 7 columns</p>\n",
              "</div>"
            ],
            "text/plain": [
              "                      Nome                  Motor   Ano  Quilometragem  \\\n",
              "0            Jetta Variant        Motor 4.0 Turbo  2003        44410.0   \n",
              "1                   Passat           Motor Diesel  1991         5712.0   \n",
              "2                 Crossfox        Motor Diesel V8  1990        37123.0   \n",
              "3                      DS5        Motor 2.4 Turbo  2019            NaN   \n",
              "4         Aston Martin DB4        Motor 2.4 Turbo  2006        25757.0   \n",
              "..                     ...                    ...   ...            ...   \n",
              "253           Phantom 2013               Motor V8  2014        27505.0   \n",
              "254  Cadillac Ciel concept               Motor V8  1991        29981.0   \n",
              "255             Classe GLK  Motor 5.0 V8 Bi-Turbo  2002        52637.0   \n",
              "256       Aston Martin DB5           Motor Diesel  1996         7685.0   \n",
              "257                  Macan        Motor Diesel V6  1992        50188.0   \n",
              "\n",
              "     Zero_km                                         Acessórios      Valor  \n",
              "0      False  ['Rodas de liga', 'Travas elétricas', 'Piloto ...   88078.64  \n",
              "1      False  ['Central multimídia', 'Teto panorâmico', 'Fre...  106161.94  \n",
              "2      False  ['Piloto automático', 'Controle de estabilidad...   72832.16  \n",
              "3       True  ['Travas elétricas', '4 X 4', 'Vidros elétrico...  124549.07  \n",
              "4      False  ['Rodas de liga', '4 X 4', 'Central multimídia...   92612.10  \n",
              "..       ...                                                ...        ...  \n",
              "253    False  ['Controle de estabilidade', 'Piloto automátic...   51759.58  \n",
              "254    False  ['Bancos de couro', 'Painel digital', 'Sensor ...   51667.06  \n",
              "255    False  ['Rodas de liga', 'Controle de tração', 'Câmbi...   68934.03  \n",
              "256    False  ['Ar condicionado', '4 X 4', 'Câmbio automátic...  122110.90  \n",
              "257    False  ['Central multimídia', 'Teto panorâmico', 'Vid...   90381.47  \n",
              "\n",
              "[258 rows x 7 columns]"
            ]
          },
          "execution_count": 50,
          "metadata": {},
          "output_type": "execute_result"
        }
      ],
      "source": [
        "dataset"
      ]
    },
    {
      "cell_type": "code",
      "execution_count": 51,
      "metadata": {
        "colab": {},
        "colab_type": "code",
        "id": "5D739PzJD0_B"
      },
      "outputs": [
        {
          "data": {
            "text/html": [
              "<div>\n",
              "<style scoped>\n",
              "    .dataframe tbody tr th:only-of-type {\n",
              "        vertical-align: middle;\n",
              "    }\n",
              "\n",
              "    .dataframe tbody tr th {\n",
              "        vertical-align: top;\n",
              "    }\n",
              "\n",
              "    .dataframe thead th {\n",
              "        text-align: right;\n",
              "    }\n",
              "</style>\n",
              "<table border=\"1\" class=\"dataframe\">\n",
              "  <thead>\n",
              "    <tr style=\"text-align: right;\">\n",
              "      <th></th>\n",
              "      <th>Quilometragem</th>\n",
              "      <th>Valor</th>\n",
              "    </tr>\n",
              "  </thead>\n",
              "  <tbody>\n",
              "    <tr>\n",
              "      <th>count</th>\n",
              "      <td>197.000000</td>\n",
              "      <td>258.000000</td>\n",
              "    </tr>\n",
              "    <tr>\n",
              "      <th>mean</th>\n",
              "      <td>58278.421320</td>\n",
              "      <td>98960.513101</td>\n",
              "    </tr>\n",
              "    <tr>\n",
              "      <th>std</th>\n",
              "      <td>35836.733259</td>\n",
              "      <td>29811.932305</td>\n",
              "    </tr>\n",
              "    <tr>\n",
              "      <th>min</th>\n",
              "      <td>107.000000</td>\n",
              "      <td>50742.100000</td>\n",
              "    </tr>\n",
              "    <tr>\n",
              "      <th>25%</th>\n",
              "      <td>27505.000000</td>\n",
              "      <td>70743.512500</td>\n",
              "    </tr>\n",
              "    <tr>\n",
              "      <th>50%</th>\n",
              "      <td>55083.000000</td>\n",
              "      <td>97724.380000</td>\n",
              "    </tr>\n",
              "    <tr>\n",
              "      <th>75%</th>\n",
              "      <td>90495.000000</td>\n",
              "      <td>124633.302500</td>\n",
              "    </tr>\n",
              "    <tr>\n",
              "      <th>max</th>\n",
              "      <td>119945.000000</td>\n",
              "      <td>149489.920000</td>\n",
              "    </tr>\n",
              "  </tbody>\n",
              "</table>\n",
              "</div>"
            ],
            "text/plain": [
              "       Quilometragem          Valor\n",
              "count     197.000000     258.000000\n",
              "mean    58278.421320   98960.513101\n",
              "std     35836.733259   29811.932305\n",
              "min       107.000000   50742.100000\n",
              "25%     27505.000000   70743.512500\n",
              "50%     55083.000000   97724.380000\n",
              "75%     90495.000000  124633.302500\n",
              "max    119945.000000  149489.920000"
            ]
          },
          "execution_count": 51,
          "metadata": {},
          "output_type": "execute_result"
        }
      ],
      "source": [
        "dataset[['Quilometragem', 'Valor']].describe()"
      ]
    },
    {
      "cell_type": "code",
      "execution_count": 52,
      "metadata": {
        "colab": {},
        "colab_type": "code",
        "id": "r_qUf16LD0_D"
      },
      "outputs": [
        {
          "data": {
            "text/plain": [
              "Nome              object\n",
              "Motor             object\n",
              "Ano                int64\n",
              "Quilometragem    float64\n",
              "Zero_km             bool\n",
              "Acessórios        object\n",
              "Valor            float64\n",
              "dtype: object"
            ]
          },
          "execution_count": 52,
          "metadata": {},
          "output_type": "execute_result"
        }
      ],
      "source": [
        "dataset.dtypes"
      ]
    },
    {
      "cell_type": "code",
      "execution_count": 53,
      "metadata": {
        "colab": {},
        "colab_type": "code",
        "id": "0R-_7PH5D0_E"
      },
      "outputs": [
        {
          "name": "stdout",
          "output_type": "stream",
          "text": [
            "<class 'pandas.core.frame.DataFrame'>\n",
            "RangeIndex: 258 entries, 0 to 257\n",
            "Data columns (total 7 columns):\n",
            " #   Column         Non-Null Count  Dtype  \n",
            "---  ------         --------------  -----  \n",
            " 0   Nome           258 non-null    object \n",
            " 1   Motor          258 non-null    object \n",
            " 2   Ano            258 non-null    int64  \n",
            " 3   Quilometragem  197 non-null    float64\n",
            " 4   Zero_km        258 non-null    bool   \n",
            " 5   Acessórios     258 non-null    object \n",
            " 6   Valor          258 non-null    float64\n",
            "dtypes: bool(1), float64(2), int64(1), object(3)\n",
            "memory usage: 12.5+ KB\n"
          ]
        }
      ],
      "source": [
        "dataset.info()"
      ]
    },
    {
      "cell_type": "markdown",
      "metadata": {
        "colab_type": "text",
        "id": "htjoBLwiD0_F"
      },
      "source": [
        "# <font color=green> 2. TRABALHANDO COM TUPLAS\n",
        "---"
      ]
    },
    {
      "attachments": {},
      "cell_type": "markdown",
      "metadata": {
        "colab_type": "text",
        "id": "MZH5_QnYD0_G"
      },
      "source": [
        "# 2.1 Criando tuplas\n",
        "\n",
        "Tuplas são sequências <u>imutáveis</u> que são utilizadas para armazenar coleções de itens, geralmente heterogêneos. Podem ser construídas de várias formas:\n",
        "```\n",
        "- Utilizando um par de parênteses: ( )\n",
        "- Utilizando uma vírgula à direita: x,\n",
        "- Utilizando um par de parênteses com itens separados por vírgulas: ( x, y, z )\n",
        "- Utilizando: tuple() ou tuple(iterador)\n",
        "```"
      ]
    },
    {
      "cell_type": "code",
      "execution_count": 54,
      "metadata": {
        "colab": {},
        "colab_type": "code",
        "id": "xzcs9fzeD0_G"
      },
      "outputs": [
        {
          "data": {
            "text/plain": [
              "()"
            ]
          },
          "execution_count": 54,
          "metadata": {},
          "output_type": "execute_result"
        }
      ],
      "source": [
        "()"
      ]
    },
    {
      "cell_type": "code",
      "execution_count": 55,
      "metadata": {
        "colab": {},
        "colab_type": "code",
        "id": "qJq7a2qTD0_I"
      },
      "outputs": [
        {
          "data": {
            "text/plain": [
              "(1, 2, 3)"
            ]
          },
          "execution_count": 55,
          "metadata": {},
          "output_type": "execute_result"
        }
      ],
      "source": [
        "1, 2, 3"
      ]
    },
    {
      "cell_type": "code",
      "execution_count": 56,
      "metadata": {
        "colab": {},
        "colab_type": "code",
        "id": "sg7LdvptD0_J"
      },
      "outputs": [
        {
          "data": {
            "text/plain": [
              "('Passat', 153000)"
            ]
          },
          "execution_count": 56,
          "metadata": {},
          "output_type": "execute_result"
        }
      ],
      "source": [
        "nome = 'Passat'\n",
        "valor = 153000\n",
        "\n",
        "carro = (nome, valor)\n",
        "\n",
        "carro"
      ]
    },
    {
      "cell_type": "code",
      "execution_count": 57,
      "metadata": {
        "colab": {},
        "colab_type": "code",
        "id": "XSSMebXjD0_K"
      },
      "outputs": [
        {
          "data": {
            "text/plain": [
              "('Jetta Variant', 'Passat', 'Crossfox', 'DS5')"
            ]
          },
          "execution_count": 57,
          "metadata": {},
          "output_type": "execute_result"
        }
      ],
      "source": [
        "nomes_carros = tuple(['Jetta Variant', 'Passat', 'Crossfox', 'DS5'])\n",
        "nomes_carros"
      ]
    },
    {
      "cell_type": "code",
      "execution_count": 58,
      "metadata": {
        "colab": {},
        "colab_type": "code",
        "id": "dpkdzrzRD0_M"
      },
      "outputs": [
        {
          "name": "stdout",
          "output_type": "stream",
          "text": [
            "<class 'tuple'>\n",
            "<class 'tuple'>\n"
          ]
        }
      ],
      "source": [
        "print(type(nomes_carros))\n",
        "print(type(carro))"
      ]
    },
    {
      "cell_type": "markdown",
      "metadata": {
        "colab_type": "text",
        "id": "iKUY2DOUD0_N"
      },
      "source": [
        "# 2.2 Seleções em tuplas"
      ]
    },
    {
      "cell_type": "code",
      "execution_count": 63,
      "metadata": {
        "colab": {},
        "colab_type": "code",
        "id": "K_Dc12xBD0_U"
      },
      "outputs": [
        {
          "data": {
            "text/plain": [
              "('Jetta Variant', 'Passat', 'Crossfox', 'DS5')"
            ]
          },
          "execution_count": 63,
          "metadata": {},
          "output_type": "execute_result"
        }
      ],
      "source": [
        "nomes_carros"
      ]
    },
    {
      "cell_type": "code",
      "execution_count": 59,
      "metadata": {
        "colab": {},
        "colab_type": "code",
        "id": "hBEeAM7_D0_N"
      },
      "outputs": [
        {
          "data": {
            "text/plain": [
              "'Jetta Variant'"
            ]
          },
          "execution_count": 59,
          "metadata": {},
          "output_type": "execute_result"
        }
      ],
      "source": [
        "nomes_carros[0]"
      ]
    },
    {
      "cell_type": "code",
      "execution_count": 60,
      "metadata": {
        "colab": {},
        "colab_type": "code",
        "id": "-mx_1E_tD0_P"
      },
      "outputs": [
        {
          "data": {
            "text/plain": [
              "'Passat'"
            ]
          },
          "execution_count": 60,
          "metadata": {},
          "output_type": "execute_result"
        }
      ],
      "source": [
        "nomes_carros[1]"
      ]
    },
    {
      "cell_type": "code",
      "execution_count": 61,
      "metadata": {
        "colab": {},
        "colab_type": "code",
        "id": "LMhyqnFID0_Q"
      },
      "outputs": [
        {
          "data": {
            "text/plain": [
              "'DS5'"
            ]
          },
          "execution_count": 61,
          "metadata": {},
          "output_type": "execute_result"
        }
      ],
      "source": [
        "nomes_carros[-1]"
      ]
    },
    {
      "cell_type": "code",
      "execution_count": 62,
      "metadata": {
        "colab": {},
        "colab_type": "code",
        "id": "6btHff4BD0_T"
      },
      "outputs": [
        {
          "data": {
            "text/plain": [
              "('Passat', 'Crossfox')"
            ]
          },
          "execution_count": 62,
          "metadata": {},
          "output_type": "execute_result"
        }
      ],
      "source": [
        "nomes_carros[1:3]"
      ]
    },
    {
      "cell_type": "code",
      "execution_count": 64,
      "metadata": {
        "colab": {},
        "colab_type": "code",
        "id": "zvrWYkkeD0_W"
      },
      "outputs": [
        {
          "data": {
            "text/plain": [
              "('Jetta Variant', 'Passat', 'Crossfox', 'DS5', ('Fusca', 'Gol', 'C4'))"
            ]
          },
          "execution_count": 64,
          "metadata": {},
          "output_type": "execute_result"
        }
      ],
      "source": [
        "nomes_carros = ('Jetta Variant', 'Passat', 'Crossfox', 'DS5', ('Fusca', 'Gol', 'C4'))\n",
        "nomes_carros"
      ]
    },
    {
      "cell_type": "code",
      "execution_count": 67,
      "metadata": {
        "colab": {},
        "colab_type": "code",
        "id": "Dw7tbM2ED0_Z"
      },
      "outputs": [
        {
          "data": {
            "text/plain": [
              "('Fusca', 'Gol', 'C4')"
            ]
          },
          "execution_count": 67,
          "metadata": {},
          "output_type": "execute_result"
        }
      ],
      "source": [
        "nomes_carros[-1]"
      ]
    },
    {
      "cell_type": "code",
      "execution_count": 68,
      "metadata": {
        "colab": {},
        "colab_type": "code",
        "id": "SAMD3BtXD0_b"
      },
      "outputs": [
        {
          "data": {
            "text/plain": [
              "'Gol'"
            ]
          },
          "execution_count": 68,
          "metadata": {},
          "output_type": "execute_result"
        }
      ],
      "source": [
        "nomes_carros[-1][1]"
      ]
    },
    {
      "cell_type": "markdown",
      "metadata": {
        "colab_type": "text",
        "id": "KLMxh4-0D0_c"
      },
      "source": [
        "# 2.3 Iterando em tuplas"
      ]
    },
    {
      "cell_type": "code",
      "execution_count": 69,
      "metadata": {
        "colab": {},
        "colab_type": "code",
        "id": "K53elKsYD0_c"
      },
      "outputs": [
        {
          "data": {
            "text/plain": [
              "('Jetta Variant', 'Passat', 'Crossfox', 'DS5')"
            ]
          },
          "execution_count": 69,
          "metadata": {},
          "output_type": "execute_result"
        }
      ],
      "source": [
        "nomes_carros = ('Jetta Variant', 'Passat', 'Crossfox', 'DS5')\n",
        "nomes_carros"
      ]
    },
    {
      "cell_type": "code",
      "execution_count": 71,
      "metadata": {
        "colab": {},
        "colab_type": "code",
        "id": "igZhZ5zdD0_d"
      },
      "outputs": [
        {
          "name": "stdout",
          "output_type": "stream",
          "text": [
            "Jetta Variant\n",
            "Passat\n",
            "Crossfox\n",
            "DS5\n"
          ]
        }
      ],
      "source": [
        "for carro in nomes_carros:\n",
        "    print(carro)"
      ]
    },
    {
      "cell_type": "markdown",
      "metadata": {
        "colab_type": "text",
        "id": "AOBjxBk8D0_f"
      },
      "source": [
        "### Desempacotamento de tuplas"
      ]
    },
    {
      "cell_type": "code",
      "execution_count": 73,
      "metadata": {
        "colab": {},
        "colab_type": "code",
        "id": "UoEFnumhD0_f"
      },
      "outputs": [
        {
          "data": {
            "text/plain": [
              "('Jetta Variant', 'Passat', 'Crossfox', 'DS5')"
            ]
          },
          "execution_count": 73,
          "metadata": {},
          "output_type": "execute_result"
        }
      ],
      "source": [
        "nomes_carros"
      ]
    },
    {
      "cell_type": "code",
      "execution_count": 74,
      "metadata": {
        "colab": {},
        "colab_type": "code",
        "id": "AaCLcNYTD0_g"
      },
      "outputs": [],
      "source": [
        "carro_1, carro_2, carro_3, carro_4 = nomes_carros"
      ]
    },
    {
      "cell_type": "code",
      "execution_count": 75,
      "metadata": {
        "colab": {},
        "colab_type": "code",
        "id": "TA71S9egD0_h"
      },
      "outputs": [
        {
          "data": {
            "text/plain": [
              "'Jetta Variant'"
            ]
          },
          "execution_count": 75,
          "metadata": {},
          "output_type": "execute_result"
        }
      ],
      "source": [
        "carro_1"
      ]
    },
    {
      "cell_type": "code",
      "execution_count": 76,
      "metadata": {
        "colab": {},
        "colab_type": "code",
        "id": "CHoJ034MD0_i"
      },
      "outputs": [
        {
          "data": {
            "text/plain": [
              "'Passat'"
            ]
          },
          "execution_count": 76,
          "metadata": {},
          "output_type": "execute_result"
        }
      ],
      "source": [
        "carro_2"
      ]
    },
    {
      "cell_type": "code",
      "execution_count": 77,
      "metadata": {},
      "outputs": [
        {
          "data": {
            "text/plain": [
              "'Crossfox'"
            ]
          },
          "execution_count": 77,
          "metadata": {},
          "output_type": "execute_result"
        }
      ],
      "source": [
        "carro_3"
      ]
    },
    {
      "cell_type": "code",
      "execution_count": 78,
      "metadata": {
        "colab": {},
        "colab_type": "code",
        "id": "oxJrOuCSD0_j"
      },
      "outputs": [
        {
          "data": {
            "text/plain": [
              "'DS5'"
            ]
          },
          "execution_count": 78,
          "metadata": {},
          "output_type": "execute_result"
        }
      ],
      "source": [
        "carro_4"
      ]
    },
    {
      "cell_type": "code",
      "execution_count": 79,
      "metadata": {
        "colab": {},
        "colab_type": "code",
        "id": "BbR9sB4BD0_k"
      },
      "outputs": [],
      "source": [
        "_, carro_2, _, carro_4 = nomes_carros"
      ]
    },
    {
      "cell_type": "code",
      "execution_count": 81,
      "metadata": {
        "colab": {},
        "colab_type": "code",
        "id": "aZvokrjPD0_m"
      },
      "outputs": [
        {
          "data": {
            "text/plain": [
              "'Passat'"
            ]
          },
          "execution_count": 81,
          "metadata": {},
          "output_type": "execute_result"
        }
      ],
      "source": [
        "carro_2"
      ]
    },
    {
      "cell_type": "code",
      "execution_count": 82,
      "metadata": {
        "colab": {},
        "colab_type": "code",
        "id": "wZXDbVg0D0_o"
      },
      "outputs": [
        {
          "data": {
            "text/plain": [
              "'DS5'"
            ]
          },
          "execution_count": 82,
          "metadata": {},
          "output_type": "execute_result"
        }
      ],
      "source": [
        "carro_4"
      ]
    },
    {
      "cell_type": "code",
      "execution_count": 83,
      "metadata": {
        "colab": {},
        "colab_type": "code",
        "id": "aWgDMBXiD0_p"
      },
      "outputs": [],
      "source": [
        "_, carro_2, *_ = nomes_carros"
      ]
    },
    {
      "cell_type": "code",
      "execution_count": 84,
      "metadata": {
        "colab": {},
        "colab_type": "code",
        "id": "OdpgNh-ND0_q"
      },
      "outputs": [
        {
          "data": {
            "text/plain": [
              "'Passat'"
            ]
          },
          "execution_count": 84,
          "metadata": {},
          "output_type": "execute_result"
        }
      ],
      "source": [
        "carro_2"
      ]
    },
    {
      "cell_type": "markdown",
      "metadata": {
        "colab_type": "text",
        "id": "u85Aou8WD0_s"
      },
      "source": [
        "## *zip()*\n",
        "\n",
        "https://docs.python.org/3.6/library/functions.html#zip"
      ]
    },
    {
      "cell_type": "code",
      "execution_count": 85,
      "metadata": {
        "colab": {},
        "colab_type": "code",
        "id": "PaC2oXGED0_t"
      },
      "outputs": [
        {
          "data": {
            "text/plain": [
              "['Jetta Variant', 'Passat', 'Crossfox', 'DS5']"
            ]
          },
          "execution_count": 85,
          "metadata": {},
          "output_type": "execute_result"
        }
      ],
      "source": [
        "carros = ['Jetta Variant', 'Passat', 'Crossfox', 'DS5']\n",
        "carros"
      ]
    },
    {
      "cell_type": "code",
      "execution_count": 86,
      "metadata": {
        "colab": {},
        "colab_type": "code",
        "id": "_02O1VnHD0_u"
      },
      "outputs": [
        {
          "data": {
            "text/plain": [
              "[88078.64, 106161.94, 72832.16, 124549.07]"
            ]
          },
          "execution_count": 86,
          "metadata": {},
          "output_type": "execute_result"
        }
      ],
      "source": [
        "valores = [88078.64, 106161.94, 72832.16, 124549.07]\n",
        "valores"
      ]
    },
    {
      "cell_type": "code",
      "execution_count": 87,
      "metadata": {
        "colab": {},
        "colab_type": "code",
        "id": "roQK5nYRD0_v"
      },
      "outputs": [
        {
          "data": {
            "text/plain": [
              "<zip at 0x133f8640>"
            ]
          },
          "execution_count": 87,
          "metadata": {},
          "output_type": "execute_result"
        }
      ],
      "source": [
        "zip(carros, valores)"
      ]
    },
    {
      "cell_type": "code",
      "execution_count": 88,
      "metadata": {
        "colab": {},
        "colab_type": "code",
        "id": "_WRxIRHrD0_w"
      },
      "outputs": [
        {
          "data": {
            "text/plain": [
              "[('Jetta Variant', 88078.64),\n",
              " ('Passat', 106161.94),\n",
              " ('Crossfox', 72832.16),\n",
              " ('DS5', 124549.07)]"
            ]
          },
          "execution_count": 88,
          "metadata": {},
          "output_type": "execute_result"
        }
      ],
      "source": [
        "list(zip(carros, valores))"
      ]
    },
    {
      "cell_type": "code",
      "execution_count": 91,
      "metadata": {
        "colab": {},
        "colab_type": "code",
        "id": "2zIuhIILD0_x"
      },
      "outputs": [
        {
          "name": "stdout",
          "output_type": "stream",
          "text": [
            "O carro Jetta Variant custa 88078.64\n",
            "O carro Passat custa 106161.94\n",
            "O carro Crossfox custa 72832.16\n",
            "O carro DS5 custa 124549.07\n"
          ]
        }
      ],
      "source": [
        "for carro, valor in zip(carros, valores):\n",
        "    print(f'O carro {carro} custa {valor}')"
      ]
    },
    {
      "cell_type": "code",
      "execution_count": 94,
      "metadata": {
        "colab": {},
        "colab_type": "code",
        "id": "ZJaL62IpD0_y"
      },
      "outputs": [
        {
          "name": "stdout",
          "output_type": "stream",
          "text": [
            "O carro Passat custa 106161.94\n",
            "O carro DS5 custa 124549.07\n"
          ]
        }
      ],
      "source": [
        "for carro, valor in zip(carros, valores):\n",
        "    if valor > 100000:\n",
        "        print(f'O carro {carro} custa {valor}')"
      ]
    },
    {
      "cell_type": "markdown",
      "metadata": {
        "colab_type": "text",
        "id": "xo76nR8rD0_0"
      },
      "source": [
        "# <font color=green> 3. TRABALHANDO COM DICIONÁRIOS\n",
        "---"
      ]
    },
    {
      "cell_type": "markdown",
      "metadata": {
        "colab_type": "text",
        "id": "wfWzOuztD0_0"
      },
      "source": [
        "# 3.1 Criando dicionários\n",
        "\n",
        "Listas são coleções sequenciais, isto é, os itens destas sequências estão ordenados e utilizam índices (números inteiros) para acessar os valores.\n",
        "\n",
        "Os dicionários são coleções um pouco diferentes. São estruturas de dados que representam um tipo de mapeamento. Mapeamentos são coleções de associações entre pares de valores onde o primeiro elemento do par é conhecido como chave (*key*) e o segundo como valor (*value*).\n",
        "\n",
        "```\n",
        "dicionario = {key_1: value_1, key_2: value_2, ..., key_n: value_n}\n",
        "```\n",
        "\n",
        "https://docs.python.org/3.6/library/stdtypes.html#typesmapping"
      ]
    },
    {
      "cell_type": "code",
      "execution_count": 95,
      "metadata": {
        "colab": {},
        "colab_type": "code",
        "id": "YIFVkWT6D0_1"
      },
      "outputs": [
        {
          "data": {
            "text/plain": [
              "['Jetta Variant', 'Passat', 'Crossfox']"
            ]
          },
          "execution_count": 95,
          "metadata": {},
          "output_type": "execute_result"
        }
      ],
      "source": [
        "carros = ['Jetta Variant', 'Passat', 'Crossfox']\n",
        "carros"
      ]
    },
    {
      "cell_type": "code",
      "execution_count": 96,
      "metadata": {
        "colab": {},
        "colab_type": "code",
        "id": "2LHiBn3-D0_2"
      },
      "outputs": [
        {
          "data": {
            "text/plain": [
              "[88078.64, 106161.94, 72832.16]"
            ]
          },
          "execution_count": 96,
          "metadata": {},
          "output_type": "execute_result"
        }
      ],
      "source": [
        "valores = [88078.64, 106161.94, 72832.16]\n",
        "valores"
      ]
    },
    {
      "cell_type": "code",
      "execution_count": 97,
      "metadata": {
        "colab": {},
        "colab_type": "code",
        "id": "SuPcV9v6D0_0"
      },
      "outputs": [
        {
          "data": {
            "text/plain": [
              "1"
            ]
          },
          "execution_count": 97,
          "metadata": {},
          "output_type": "execute_result"
        }
      ],
      "source": [
        "carros.index('Passat')"
      ]
    },
    {
      "cell_type": "code",
      "execution_count": 98,
      "metadata": {
        "colab": {},
        "colab_type": "code",
        "id": "YxLAx_sqD0_4"
      },
      "outputs": [
        {
          "data": {
            "text/plain": [
              "106161.94"
            ]
          },
          "execution_count": 98,
          "metadata": {},
          "output_type": "execute_result"
        }
      ],
      "source": [
        "valores[carros.index('Passat')]"
      ]
    },
    {
      "cell_type": "code",
      "execution_count": 99,
      "metadata": {
        "colab": {},
        "colab_type": "code",
        "id": "WITNWExID0_7"
      },
      "outputs": [
        {
          "data": {
            "text/plain": [
              "{'Jetta Variant': 88078.64, 'Passat': 106161.94, 'Crossfox': 72832.16}"
            ]
          },
          "execution_count": 99,
          "metadata": {},
          "output_type": "execute_result"
        }
      ],
      "source": [
        "dados = {'Jetta Variant': 88078.64, 'Passat': 106161.94, 'Crossfox': 72832.16}\n",
        "dados"
      ]
    },
    {
      "cell_type": "code",
      "execution_count": 100,
      "metadata": {
        "colab": {},
        "colab_type": "code",
        "id": "bHNqoDbTD0_8"
      },
      "outputs": [
        {
          "data": {
            "text/plain": [
              "dict"
            ]
          },
          "execution_count": 100,
          "metadata": {},
          "output_type": "execute_result"
        }
      ],
      "source": [
        "type(dados)"
      ]
    },
    {
      "cell_type": "markdown",
      "metadata": {
        "colab_type": "text",
        "id": "PQg-MLkGD0_-"
      },
      "source": [
        "### Criando dicionários com *zip()*"
      ]
    },
    {
      "cell_type": "code",
      "execution_count": 101,
      "metadata": {
        "colab": {},
        "colab_type": "code",
        "id": "iB4Q_gbND0__"
      },
      "outputs": [
        {
          "data": {
            "text/plain": [
              "[('Jetta Variant', 88078.64), ('Passat', 106161.94), ('Crossfox', 72832.16)]"
            ]
          },
          "execution_count": 101,
          "metadata": {},
          "output_type": "execute_result"
        }
      ],
      "source": [
        "list(zip(carros, valores))"
      ]
    },
    {
      "cell_type": "code",
      "execution_count": 102,
      "metadata": {
        "colab": {},
        "colab_type": "code",
        "id": "mIgZqdKKD1AA"
      },
      "outputs": [
        {
          "data": {
            "text/plain": [
              "{'Jetta Variant': 88078.64, 'Passat': 106161.94, 'Crossfox': 72832.16}"
            ]
          },
          "execution_count": 102,
          "metadata": {},
          "output_type": "execute_result"
        }
      ],
      "source": [
        "dados = dict(zip(carros, valores))\n",
        "dados"
      ]
    },
    {
      "cell_type": "markdown",
      "metadata": {
        "colab_type": "text",
        "id": "KYeRqavFD1AD"
      },
      "source": [
        "# 3.2 Operações com dicionários"
      ]
    },
    {
      "cell_type": "markdown",
      "metadata": {
        "colab_type": "text",
        "id": "KzmWbEltD1AD"
      },
      "source": [
        "## *dict[ key ]*\n",
        "\n",
        "Retorna o valor correspondente à chave (*key*) no dicionário."
      ]
    },
    {
      "cell_type": "code",
      "execution_count": 105,
      "metadata": {
        "colab": {},
        "colab_type": "code",
        "id": "hFFDz6wKD1AD"
      },
      "outputs": [
        {
          "data": {
            "text/plain": [
              "{'Jetta Variant': 88078.64, 'Passat': 106161.94, 'Crossfox': 72832.16}"
            ]
          },
          "metadata": {},
          "output_type": "display_data"
        },
        {
          "data": {
            "text/plain": [
              "106161.94"
            ]
          },
          "metadata": {},
          "output_type": "display_data"
        }
      ],
      "source": [
        "display(dados)\n",
        "display(dados['Passat'])"
      ]
    },
    {
      "cell_type": "markdown",
      "metadata": {
        "colab_type": "text",
        "id": "SWlE6VTBD1AE"
      },
      "source": [
        "## *key in dict*\n",
        "\n",
        "Retorna **True** se a chave (*key*) for encontrada no dicionário."
      ]
    },
    {
      "cell_type": "code",
      "execution_count": 106,
      "metadata": {
        "colab": {},
        "colab_type": "code",
        "id": "Iy88SxBtD1AE"
      },
      "outputs": [
        {
          "data": {
            "text/plain": [
              "True"
            ]
          },
          "execution_count": 106,
          "metadata": {},
          "output_type": "execute_result"
        }
      ],
      "source": [
        "'Passat' in dados"
      ]
    },
    {
      "cell_type": "code",
      "execution_count": 107,
      "metadata": {
        "colab": {},
        "colab_type": "code",
        "id": "Oma56NkAD1AF"
      },
      "outputs": [
        {
          "data": {
            "text/plain": [
              "False"
            ]
          },
          "execution_count": 107,
          "metadata": {},
          "output_type": "execute_result"
        }
      ],
      "source": [
        "'Fusca' in dados"
      ]
    },
    {
      "cell_type": "code",
      "execution_count": 108,
      "metadata": {
        "colab": {},
        "colab_type": "code",
        "id": "yS2U-_8gD1AG"
      },
      "outputs": [
        {
          "data": {
            "text/plain": [
              "True"
            ]
          },
          "execution_count": 108,
          "metadata": {},
          "output_type": "execute_result"
        }
      ],
      "source": [
        "'Fusca' not in dados"
      ]
    },
    {
      "cell_type": "markdown",
      "metadata": {
        "colab_type": "text",
        "id": "oWbWyDd0D1AI"
      },
      "source": [
        "## *len(dict)*\n",
        "\n",
        "Retorna o número de itens do dicionário."
      ]
    },
    {
      "cell_type": "code",
      "execution_count": 109,
      "metadata": {
        "colab": {},
        "colab_type": "code",
        "id": "k08YkCc1D1AJ"
      },
      "outputs": [
        {
          "data": {
            "text/plain": [
              "3"
            ]
          },
          "execution_count": 109,
          "metadata": {},
          "output_type": "execute_result"
        }
      ],
      "source": [
        "len(dados)"
      ]
    },
    {
      "cell_type": "markdown",
      "metadata": {
        "colab_type": "text",
        "id": "yYNqIHJBD1AK"
      },
      "source": [
        "## *dict[ key ] = value*\n",
        "\n",
        "Inclui um item ao dicionário."
      ]
    },
    {
      "cell_type": "code",
      "execution_count": 110,
      "metadata": {
        "colab": {},
        "colab_type": "code",
        "id": "5jj3i52bD1AK"
      },
      "outputs": [],
      "source": [
        "dados['DS5'] = 124549.07"
      ]
    },
    {
      "cell_type": "code",
      "execution_count": 111,
      "metadata": {
        "colab": {},
        "colab_type": "code",
        "id": "y6rso5hLD1AL"
      },
      "outputs": [
        {
          "data": {
            "text/plain": [
              "{'Jetta Variant': 88078.64,\n",
              " 'Passat': 106161.94,\n",
              " 'Crossfox': 72832.16,\n",
              " 'DS5': 124549.07}"
            ]
          },
          "execution_count": 111,
          "metadata": {},
          "output_type": "execute_result"
        }
      ],
      "source": [
        "dados"
      ]
    },
    {
      "cell_type": "markdown",
      "metadata": {
        "colab_type": "text",
        "id": "_z0JySuqD1AL"
      },
      "source": [
        "## *del dict[ key ]*\n",
        "\n",
        "Remove o item de chave (*key*) do dicionário."
      ]
    },
    {
      "cell_type": "code",
      "execution_count": 112,
      "metadata": {
        "colab": {},
        "colab_type": "code",
        "id": "PPfh6sfID1AM"
      },
      "outputs": [],
      "source": [
        "del dados['DS5']"
      ]
    },
    {
      "cell_type": "code",
      "execution_count": 113,
      "metadata": {
        "colab": {},
        "colab_type": "code",
        "id": "BtjGpXtGD1AN"
      },
      "outputs": [
        {
          "data": {
            "text/plain": [
              "{'Jetta Variant': 88078.64, 'Passat': 106161.94, 'Crossfox': 72832.16}"
            ]
          },
          "execution_count": 113,
          "metadata": {},
          "output_type": "execute_result"
        }
      ],
      "source": [
        "dados"
      ]
    },
    {
      "cell_type": "markdown",
      "metadata": {
        "colab_type": "text",
        "id": "FodJVx5sD1AP"
      },
      "source": [
        "# 3.3 Métodos de dicionários"
      ]
    },
    {
      "cell_type": "markdown",
      "metadata": {
        "colab_type": "text",
        "id": "7pqdPOkYD1AP"
      },
      "source": [
        "## *dict.update()*\n",
        "\n",
        "Atualiza o dicionário."
      ]
    },
    {
      "cell_type": "code",
      "execution_count": 114,
      "metadata": {
        "colab": {},
        "colab_type": "code",
        "id": "DUySYxKQD1AQ"
      },
      "outputs": [
        {
          "data": {
            "text/plain": [
              "{'Jetta Variant': 88078.64, 'Passat': 106161.94, 'Crossfox': 72832.16}"
            ]
          },
          "execution_count": 114,
          "metadata": {},
          "output_type": "execute_result"
        }
      ],
      "source": [
        "dados"
      ]
    },
    {
      "cell_type": "code",
      "execution_count": 115,
      "metadata": {
        "colab": {},
        "colab_type": "code",
        "id": "DLsqp71cD1AR"
      },
      "outputs": [
        {
          "data": {
            "text/plain": [
              "{'Jetta Variant': 88078.64,\n",
              " 'Passat': 106161.94,\n",
              " 'Crossfox': 72832.16,\n",
              " 'DS5': 124549.07}"
            ]
          },
          "execution_count": 115,
          "metadata": {},
          "output_type": "execute_result"
        }
      ],
      "source": [
        "dados.update({'DS5': 124549.07})\n",
        "dados"
      ]
    },
    {
      "cell_type": "code",
      "execution_count": 116,
      "metadata": {},
      "outputs": [
        {
          "data": {
            "text/plain": [
              "{'Jetta Variant': 88078.64,\n",
              " 'Passat': 106161.94,\n",
              " 'Crossfox': 72832.16,\n",
              " 'DS5': 124549.77,\n",
              " 'Fusca': 18000}"
            ]
          },
          "execution_count": 116,
          "metadata": {},
          "output_type": "execute_result"
        }
      ],
      "source": [
        "dados.update({'DS5': 124549.77, 'Fusca': 18000})\n",
        "dados"
      ]
    },
    {
      "cell_type": "markdown",
      "metadata": {
        "colab_type": "text",
        "id": "JLs5c0DeD1AR"
      },
      "source": [
        "## *dict.copy()*\n",
        "\n",
        "Cria uma cópia do dicionário."
      ]
    },
    {
      "cell_type": "code",
      "execution_count": 117,
      "metadata": {
        "colab": {},
        "colab_type": "code",
        "id": "X9F7OB3eD1AS"
      },
      "outputs": [],
      "source": [
        "# shallow copy - cópia rasa, uma referência de memória para o mesmo dado\n",
        "dados_copy = dados  "
      ]
    },
    {
      "cell_type": "code",
      "execution_count": 118,
      "metadata": {
        "colab": {},
        "colab_type": "code",
        "id": "v0rL0bveD1AS"
      },
      "outputs": [],
      "source": [
        "# deep copy - cópia profunda, duplica o dados, alteração em um deles não afeta o outro\n",
        "dados_copy = dados.copy()"
      ]
    },
    {
      "cell_type": "code",
      "execution_count": 119,
      "metadata": {
        "colab": {},
        "colab_type": "code",
        "id": "M-abRGGrD1AT"
      },
      "outputs": [],
      "source": [
        "dados_copy['Honda Civic Touring'] = 147000"
      ]
    },
    {
      "cell_type": "code",
      "execution_count": 120,
      "metadata": {
        "colab": {},
        "colab_type": "code",
        "id": "ETBD0TkND1AU"
      },
      "outputs": [
        {
          "name": "stdout",
          "output_type": "stream",
          "text": [
            "dados - {'Jetta Variant': 88078.64, 'Passat': 106161.94, 'Crossfox': 72832.16, 'DS5': 124549.77, 'Fusca': 18000}\n",
            "dados_copy - {'Jetta Variant': 88078.64, 'Passat': 106161.94, 'Crossfox': 72832.16, 'DS5': 124549.77, 'Fusca': 18000, 'Honda Civic Touring': 147000}\n"
          ]
        }
      ],
      "source": [
        "print(f'dados - {dados}')\n",
        "print(f'dados_copy - {dados_copy}')"
      ]
    },
    {
      "cell_type": "markdown",
      "metadata": {
        "colab_type": "text",
        "id": "mNODkmHCD1AV"
      },
      "source": [
        "## *dict.pop(key[, default ])*\n",
        "\n",
        "Se a chave for encontrada no dicionário, o item é removido e seu valor é retornado. Caso contrário, o valor especificado como *default* é retornado. Se o valor *default* não for fornecido e a chave não for encontrada no dicionário um erro será gerado."
      ]
    },
    {
      "cell_type": "code",
      "execution_count": 121,
      "metadata": {
        "colab": {},
        "colab_type": "code",
        "id": "_4QEPwScD1AW"
      },
      "outputs": [
        {
          "data": {
            "text/plain": [
              "{'Jetta Variant': 88078.64,\n",
              " 'Passat': 106161.94,\n",
              " 'Crossfox': 72832.16,\n",
              " 'DS5': 124549.77,\n",
              " 'Fusca': 18000}"
            ]
          },
          "execution_count": 121,
          "metadata": {},
          "output_type": "execute_result"
        }
      ],
      "source": [
        "dados"
      ]
    },
    {
      "cell_type": "code",
      "execution_count": 122,
      "metadata": {
        "colab": {},
        "colab_type": "code",
        "id": "Hjh0MuymD1AX"
      },
      "outputs": [
        {
          "data": {
            "text/plain": [
              "18000"
            ]
          },
          "execution_count": 122,
          "metadata": {},
          "output_type": "execute_result"
        }
      ],
      "source": [
        "dados.pop('Fusca')"
      ]
    },
    {
      "cell_type": "code",
      "execution_count": 123,
      "metadata": {
        "colab": {},
        "colab_type": "code",
        "id": "f51rKjkuD1AX"
      },
      "outputs": [
        {
          "data": {
            "text/plain": [
              "{'Jetta Variant': 88078.64,\n",
              " 'Passat': 106161.94,\n",
              " 'Crossfox': 72832.16,\n",
              " 'DS5': 124549.77}"
            ]
          },
          "execution_count": 123,
          "metadata": {},
          "output_type": "execute_result"
        }
      ],
      "source": [
        "dados"
      ]
    },
    {
      "cell_type": "code",
      "execution_count": 124,
      "metadata": {
        "colab": {},
        "colab_type": "code",
        "id": "Ah4sZ7axD1AZ"
      },
      "outputs": [
        {
          "ename": "KeyError",
          "evalue": "'Fusca'",
          "output_type": "error",
          "traceback": [
            "\u001b[1;31m---------------------------------------------------------------------------\u001b[0m",
            "\u001b[1;31mKeyError\u001b[0m                                  Traceback (most recent call last)",
            "Cell \u001b[1;32mIn[124], line 1\u001b[0m\n\u001b[1;32m----> 1\u001b[0m dados\u001b[39m.\u001b[39;49mpop(\u001b[39m'\u001b[39;49m\u001b[39mFusca\u001b[39;49m\u001b[39m'\u001b[39;49m)\n",
            "\u001b[1;31mKeyError\u001b[0m: 'Fusca'"
          ]
        }
      ],
      "source": [
        "# Caso não encontre retorna um erro\n",
        "# dados.pop('Fusca')"
      ]
    },
    {
      "cell_type": "code",
      "execution_count": 126,
      "metadata": {
        "colab": {},
        "colab_type": "code",
        "id": "SJATRY8RD1Aa"
      },
      "outputs": [
        {
          "data": {
            "text/plain": [
              "'Carro não ncontrado'"
            ]
          },
          "execution_count": 126,
          "metadata": {},
          "output_type": "execute_result"
        }
      ],
      "source": [
        "# Com tratamento de chave não encontrada\n",
        "dados.pop('Fusca', 'Carro não ncontrado')"
      ]
    },
    {
      "cell_type": "code",
      "execution_count": 127,
      "metadata": {
        "colab": {},
        "colab_type": "code",
        "id": "V36wHdzmD1Ab"
      },
      "outputs": [
        {
          "data": {
            "text/plain": [
              "124549.77"
            ]
          },
          "execution_count": 127,
          "metadata": {},
          "output_type": "execute_result"
        }
      ],
      "source": [
        "# Com tratamento de chave não encontrada\n",
        "dados.pop('DS5', 'Carro não ncontrado')"
      ]
    },
    {
      "cell_type": "code",
      "execution_count": 128,
      "metadata": {
        "colab": {},
        "colab_type": "code",
        "id": "LJ0lQIrdD1Ac"
      },
      "outputs": [
        {
          "data": {
            "text/plain": [
              "{'Jetta Variant': 88078.64, 'Passat': 106161.94, 'Crossfox': 72832.16}"
            ]
          },
          "execution_count": 128,
          "metadata": {},
          "output_type": "execute_result"
        }
      ],
      "source": [
        "dados"
      ]
    },
    {
      "cell_type": "markdown",
      "metadata": {
        "colab_type": "text",
        "id": "Q5J0R7d3D1Ag"
      },
      "source": [
        "## *dict.clear()*\n",
        "\n",
        "Remove todos os itens do dicionário."
      ]
    },
    {
      "cell_type": "code",
      "execution_count": 129,
      "metadata": {
        "colab": {},
        "colab_type": "code",
        "id": "AvkP_8mND1Ag"
      },
      "outputs": [],
      "source": [
        "dados_copy.clear()"
      ]
    },
    {
      "cell_type": "code",
      "execution_count": 130,
      "metadata": {
        "colab": {},
        "colab_type": "code",
        "id": "S69pMYboD1Ah"
      },
      "outputs": [
        {
          "data": {
            "text/plain": [
              "{}"
            ]
          },
          "execution_count": 130,
          "metadata": {},
          "output_type": "execute_result"
        }
      ],
      "source": [
        "dados_copy"
      ]
    },
    {
      "cell_type": "markdown",
      "metadata": {
        "colab_type": "text",
        "id": "QhoSRfPsD1Ai"
      },
      "source": [
        "# 3.4 Iterando em dicionários"
      ]
    },
    {
      "cell_type": "markdown",
      "metadata": {
        "colab_type": "text",
        "id": "E-agaqakD1Ai"
      },
      "source": [
        "## *dict.keys()*\n",
        "\n",
        "Retorna uma lista contendo as chaves (*keys*) do dicionário."
      ]
    },
    {
      "cell_type": "code",
      "execution_count": 131,
      "metadata": {
        "colab": {},
        "colab_type": "code",
        "id": "qFADEYmBD1Aj"
      },
      "outputs": [
        {
          "data": {
            "text/plain": [
              "{'Jetta Variant': 88078.64,\n",
              " 'Passat': 106161.94,\n",
              " 'Crossfox': 72832.16,\n",
              " 'DS5': 124549.07,\n",
              " 'Fusca': 18000}"
            ]
          },
          "execution_count": 131,
          "metadata": {},
          "output_type": "execute_result"
        }
      ],
      "source": [
        "dados = {'Jetta Variant': 88078.64, 'Passat': 106161.94, 'Crossfox': 72832.16, 'DS5': 124549.07, 'Fusca': 18000}\n",
        "dados"
      ]
    },
    {
      "cell_type": "code",
      "execution_count": 133,
      "metadata": {},
      "outputs": [
        {
          "data": {
            "text/plain": [
              "dict_keys(['Jetta Variant', 'Passat', 'Crossfox', 'DS5', 'Fusca'])"
            ]
          },
          "execution_count": 133,
          "metadata": {},
          "output_type": "execute_result"
        }
      ],
      "source": [
        "dados.keys()"
      ]
    },
    {
      "cell_type": "code",
      "execution_count": 136,
      "metadata": {},
      "outputs": [
        {
          "name": "stdout",
          "output_type": "stream",
          "text": [
            "Jetta Variant 88078.64\n",
            "Passat 106161.94\n",
            "Crossfox 72832.16\n",
            "DS5 124549.07\n",
            "Fusca 18000\n"
          ]
        }
      ],
      "source": [
        "for carro in dados.keys():\n",
        "    print(carro, dados[carro])"
      ]
    },
    {
      "cell_type": "markdown",
      "metadata": {
        "colab_type": "text",
        "id": "qFj6Cc7dD1Ak"
      },
      "source": [
        "## *dict.values()*\n",
        "\n",
        "Retorna uma lista com todos os valores (*values*) do dicionário."
      ]
    },
    {
      "cell_type": "code",
      "execution_count": 137,
      "metadata": {
        "colab": {},
        "colab_type": "code",
        "id": "nfpLxrQVD1Al"
      },
      "outputs": [
        {
          "data": {
            "text/plain": [
              "dict_values([88078.64, 106161.94, 72832.16, 124549.07, 18000])"
            ]
          },
          "execution_count": 137,
          "metadata": {},
          "output_type": "execute_result"
        }
      ],
      "source": [
        "dados.values()"
      ]
    },
    {
      "cell_type": "markdown",
      "metadata": {
        "colab_type": "text",
        "id": "-NGRwX0AD1Al"
      },
      "source": [
        "## *dict.items()*\n",
        "\n",
        "Retorna uma lista contendo uma tupla para cada par chave-valor (*key-value*) do dicionário."
      ]
    },
    {
      "cell_type": "code",
      "execution_count": 138,
      "metadata": {
        "colab": {},
        "colab_type": "code",
        "id": "Q2I9_6YvD1Am"
      },
      "outputs": [
        {
          "data": {
            "text/plain": [
              "dict_items([('Jetta Variant', 88078.64), ('Passat', 106161.94), ('Crossfox', 72832.16), ('DS5', 124549.07), ('Fusca', 18000)])"
            ]
          },
          "execution_count": 138,
          "metadata": {},
          "output_type": "execute_result"
        }
      ],
      "source": [
        "dados.items()"
      ]
    },
    {
      "cell_type": "code",
      "execution_count": 139,
      "metadata": {
        "colab": {},
        "colab_type": "code",
        "id": "0j41ZqgQD1Am"
      },
      "outputs": [
        {
          "name": "stdout",
          "output_type": "stream",
          "text": [
            "O Jetta Variant custa 88078.64.\n",
            "O Passat custa 106161.94.\n",
            "O Crossfox custa 72832.16.\n",
            "O DS5 custa 124549.07.\n",
            "O Fusca custa 18000.\n"
          ]
        }
      ],
      "source": [
        "for carro, valor in dados.items():\n",
        "    print(f'O {carro} custa {valor}.')"
      ]
    },
    {
      "cell_type": "code",
      "execution_count": 141,
      "metadata": {
        "colab": {},
        "colab_type": "code",
        "id": "OVY9rIwFD1An"
      },
      "outputs": [
        {
          "name": "stdout",
          "output_type": "stream",
          "text": [
            "O Passat custa 106161.94.\n",
            "O DS5 custa 124549.07.\n"
          ]
        }
      ],
      "source": [
        "for carro, valor in dados.items():\n",
        "    if valor > 100000:\n",
        "        print(f'O {carro} custa {valor}.')"
      ]
    },
    {
      "cell_type": "markdown",
      "metadata": {
        "colab_type": "text",
        "id": "-q3AlSg3D1Aq"
      },
      "source": [
        "# <font color=green> 4. FUNÇÕES E PACOTES\n",
        "---\n",
        "    \n",
        "Funções são unidades de código reutilizáveis que realizam uma tarefa específica, podem receber alguma entrada e também podem retornar alguma resultado."
      ]
    },
    {
      "cell_type": "markdown",
      "metadata": {
        "colab_type": "text",
        "id": "5CfEcU58D1Aq"
      },
      "source": [
        "# 4.1 Built-in function\n",
        "\n",
        "A linguagem Python possui várias funções integradas que estão sempre acessíveis. Algumas já utilizamos em nosso treinamento: type(), print(), zip(), len(), set() etc.\n",
        "\n",
        "https://docs.python.org/3.6/library/functions.html"
      ]
    },
    {
      "cell_type": "code",
      "execution_count": 142,
      "metadata": {
        "colab": {},
        "colab_type": "code",
        "id": "DP7cmY7xD1Aq"
      },
      "outputs": [
        {
          "data": {
            "text/plain": [
              "{'Jetta Variant': 88078.64, 'Passat': 106161.94, 'Crossfox': 72832.16}"
            ]
          },
          "execution_count": 142,
          "metadata": {},
          "output_type": "execute_result"
        }
      ],
      "source": [
        "dados = {'Jetta Variant': 88078.64, 'Passat': 106161.94, 'Crossfox': 72832.16}\n",
        "dados"
      ]
    },
    {
      "attachments": {},
      "cell_type": "markdown",
      "metadata": {},
      "source": [
        "Soma dos valores de todos os carros:"
      ]
    },
    {
      "cell_type": "code",
      "execution_count": 145,
      "metadata": {
        "colab": {},
        "colab_type": "code",
        "id": "5zAcGSCbD1Ar"
      },
      "outputs": [
        {
          "data": {
            "text/plain": [
              "267072.74"
            ]
          },
          "execution_count": 145,
          "metadata": {},
          "output_type": "execute_result"
        }
      ],
      "source": [
        "# método longo\n",
        "valores = 0\n",
        "\n",
        "for valor in dados.values():\n",
        "    valores += valor\n",
        "\n",
        "valores"
      ]
    },
    {
      "cell_type": "code",
      "execution_count": 147,
      "metadata": {
        "colab": {},
        "colab_type": "code",
        "id": "zG9_jU_1D1At"
      },
      "outputs": [
        {
          "data": {
            "text/plain": [
              "267072.74"
            ]
          },
          "execution_count": 147,
          "metadata": {},
          "output_type": "execute_result"
        }
      ],
      "source": [
        "# método utilizando a built-in function sum()\n",
        "sum(dados.values())"
      ]
    },
    {
      "attachments": {},
      "cell_type": "markdown",
      "metadata": {},
      "source": [
        "Help sobre uma função built-in"
      ]
    },
    {
      "cell_type": "code",
      "execution_count": 148,
      "metadata": {
        "colab": {},
        "colab_type": "code",
        "id": "jn0O3uXZD1Au"
      },
      "outputs": [
        {
          "name": "stdout",
          "output_type": "stream",
          "text": [
            "Help on built-in function sum in module builtins:\n",
            "\n",
            "sum(iterable, /, start=0)\n",
            "    Return the sum of a 'start' value (default: 0) plus an iterable of numbers\n",
            "    \n",
            "    When the iterable is empty, return the start value.\n",
            "    This function is intended specifically for use with numeric values and may\n",
            "    reject non-numeric types.\n",
            "\n"
          ]
        }
      ],
      "source": [
        "help(sum)"
      ]
    },
    {
      "cell_type": "code",
      "execution_count": 149,
      "metadata": {
        "colab": {},
        "colab_type": "code",
        "id": "lnUjKVnoD1Aw"
      },
      "outputs": [
        {
          "name": "stdout",
          "output_type": "stream",
          "text": [
            "\u001b[1;31mSignature:\u001b[0m \u001b[0msum\u001b[0m\u001b[1;33m(\u001b[0m\u001b[0miterable\u001b[0m\u001b[1;33m,\u001b[0m \u001b[1;33m/\u001b[0m\u001b[1;33m,\u001b[0m \u001b[0mstart\u001b[0m\u001b[1;33m=\u001b[0m\u001b[1;36m0\u001b[0m\u001b[1;33m)\u001b[0m\u001b[1;33m\u001b[0m\u001b[1;33m\u001b[0m\u001b[0m\n",
            "\u001b[1;31mDocstring:\u001b[0m\n",
            "Return the sum of a 'start' value (default: 0) plus an iterable of numbers\n",
            "\n",
            "When the iterable is empty, return the start value.\n",
            "This function is intended specifically for use with numeric values and may\n",
            "reject non-numeric types.\n",
            "\u001b[1;31mType:\u001b[0m      builtin_function_or_method"
          ]
        }
      ],
      "source": [
        "sum?"
      ]
    },
    {
      "cell_type": "markdown",
      "metadata": {
        "colab_type": "text",
        "id": "6w62Sl5ZD1A0"
      },
      "source": [
        "# 4.2 Definindo funções sem e com parâmetros"
      ]
    },
    {
      "cell_type": "markdown",
      "metadata": {
        "colab_type": "text",
        "id": "OADZiBP2D1A0"
      },
      "source": [
        "### Funções sem parâmetros\n",
        "\n",
        "#### Formato padrão\n",
        "\n",
        "```\n",
        "def <nome>():\n",
        "    <instruções>\n",
        "```"
      ]
    },
    {
      "cell_type": "code",
      "execution_count": 150,
      "metadata": {
        "colab": {},
        "colab_type": "code",
        "id": "uCkplEpQD1A0"
      },
      "outputs": [],
      "source": [
        "def media():\n",
        "    valor = (1 + 2 + 3) / 3\n",
        "    print(valor)"
      ]
    },
    {
      "cell_type": "code",
      "execution_count": 151,
      "metadata": {
        "colab": {},
        "colab_type": "code",
        "id": "fOCEGq5VD1A1"
      },
      "outputs": [
        {
          "name": "stdout",
          "output_type": "stream",
          "text": [
            "2.0\n"
          ]
        }
      ],
      "source": [
        "media()"
      ]
    },
    {
      "cell_type": "markdown",
      "metadata": {
        "colab_type": "text",
        "id": "PwSlYSVAD1A2"
      },
      "source": [
        "### Funções com parâmetros\n",
        "\n",
        "#### Formato padrão\n",
        "\n",
        "```\n",
        "def <nome>(<param_1>, <param_2>, ..., <param_n>):\n",
        "    <instruções>\n",
        "```"
      ]
    },
    {
      "cell_type": "code",
      "execution_count": 158,
      "metadata": {
        "colab": {},
        "colab_type": "code",
        "id": "A3YnBUduD1A3"
      },
      "outputs": [],
      "source": [
        "def media(num_1, num_2, num_3):\n",
        "    valor = (num_1 + num_2 + num_3) / 3\n",
        "    print(valor)"
      ]
    },
    {
      "cell_type": "code",
      "execution_count": 159,
      "metadata": {
        "colab": {},
        "colab_type": "code",
        "id": "rGUZbRERD1A3"
      },
      "outputs": [
        {
          "name": "stdout",
          "output_type": "stream",
          "text": [
            "2.0\n"
          ]
        }
      ],
      "source": [
        "media(1, 2, 3)"
      ]
    },
    {
      "cell_type": "code",
      "execution_count": 160,
      "metadata": {
        "colab": {},
        "colab_type": "code",
        "id": "B9WDlRE7D1A5"
      },
      "outputs": [
        {
          "name": "stdout",
          "output_type": "stream",
          "text": [
            "45.0\n"
          ]
        }
      ],
      "source": [
        "media(23, 45, 67)"
      ]
    },
    {
      "cell_type": "code",
      "execution_count": 165,
      "metadata": {
        "colab": {},
        "colab_type": "code",
        "id": "1HAy8OK_D1A6"
      },
      "outputs": [],
      "source": [
        "def media(lista_num: list):\n",
        "    valor = sum(lista_num) / len(lista_num)\n",
        "    print(valor)"
      ]
    },
    {
      "cell_type": "code",
      "execution_count": 166,
      "metadata": {
        "colab": {},
        "colab_type": "code",
        "id": "_CDa4oOfD1A6"
      },
      "outputs": [
        {
          "name": "stdout",
          "output_type": "stream",
          "text": [
            "2.0\n"
          ]
        }
      ],
      "source": [
        "media([1, 2, 3])"
      ]
    },
    {
      "cell_type": "code",
      "execution_count": 167,
      "metadata": {
        "colab": {},
        "colab_type": "code",
        "id": "xH-mxqYAD1A8"
      },
      "outputs": [
        {
          "name": "stdout",
          "output_type": "stream",
          "text": [
            "5.0\n"
          ]
        }
      ],
      "source": [
        "media([1, 2, 3, 4, 5, 6, 7, 8, 9])"
      ]
    },
    {
      "cell_type": "code",
      "execution_count": 178,
      "metadata": {},
      "outputs": [
        {
          "name": "stdout",
          "output_type": "stream",
          "text": [
            "2500.0\n",
            "4250.0\n",
            "3250.0\n",
            "7000.0\n",
            "3100.0\n"
          ]
        }
      ],
      "source": [
        "dados_exercicio = {\n",
        "    'Crossfox': {'km': 35000, 'ano': 2005}, \n",
        "    'DS5': {'km': 17000, 'ano': 2015}, \n",
        "    'Fusca': {'km': 130000, 'ano': 1979}, \n",
        "    'Jetta': {'km': 56000, 'ano': 2011}, \n",
        "    'Passat': {'km': 62000, 'ano': 1999}\n",
        "}\n",
        "\n",
        "def km_media(dataset, ano_atual):\n",
        "    for carro in dataset.keys():\n",
        "        result = dataset[carro]['km'] / (ano_atual - dataset[carro]['ano'])\n",
        "        print(result)\n",
        "\n",
        "km_media(dados_exercicio, 2019)"
      ]
    },
    {
      "cell_type": "markdown",
      "metadata": {
        "colab_type": "text",
        "id": "8zNYrmFbD1A9"
      },
      "source": [
        "# 4.3 Definindo funções que retornam valores"
      ]
    },
    {
      "cell_type": "markdown",
      "metadata": {
        "colab_type": "text",
        "id": "J44K-dMOD1A9"
      },
      "source": [
        "### Funções que retornam um valor\n",
        "\n",
        "#### Formato padrão\n",
        "\n",
        "```\n",
        "def <nome>(<param_1>, <param_2>, ..., <param_n>):\n",
        "    <instruções>\n",
        "    return <resultado>\n",
        "```"
      ]
    },
    {
      "cell_type": "code",
      "execution_count": 179,
      "metadata": {
        "colab": {},
        "colab_type": "code",
        "id": "-UG42RQJD1A9"
      },
      "outputs": [],
      "source": [
        "def media(lista_num: list):\n",
        "    valor = sum(lista_num) / len(lista_num)\n",
        "    return valor"
      ]
    },
    {
      "cell_type": "code",
      "execution_count": 180,
      "metadata": {
        "colab": {},
        "colab_type": "code",
        "id": "VJwdvoT5D1A-"
      },
      "outputs": [
        {
          "data": {
            "text/plain": [
              "5.0"
            ]
          },
          "execution_count": 180,
          "metadata": {},
          "output_type": "execute_result"
        }
      ],
      "source": [
        "valor_media = media([1, 2, 3, 4, 5, 6, 7, 8, 9])\n",
        "valor_media"
      ]
    },
    {
      "cell_type": "markdown",
      "metadata": {
        "colab_type": "text",
        "id": "MQaK8GV5D1BA"
      },
      "source": [
        "### Funções que retornam mais de um valor\n",
        "\n",
        "#### Formato padrão\n",
        "\n",
        "```\n",
        "def <nome>(<param_1>, <param_2>, ..., <param_n>):\n",
        "    <instruções>\n",
        "    return (<resultado_1>, <resultado_2>, ..., <resultado_n>)\n",
        "```"
      ]
    },
    {
      "cell_type": "code",
      "execution_count": 198,
      "metadata": {
        "colab": {},
        "colab_type": "code",
        "id": "AgAeJkpND1A-"
      },
      "outputs": [],
      "source": [
        "def media(lista_num: list):\n",
        "    valor = sum(lista_num) / len(lista_num)\n",
        "    return valor, len(lista_num)"
      ]
    },
    {
      "cell_type": "code",
      "execution_count": 199,
      "metadata": {},
      "outputs": [
        {
          "data": {
            "text/plain": [
              "(5.0, 9)"
            ]
          },
          "execution_count": 199,
          "metadata": {},
          "output_type": "execute_result"
        }
      ],
      "source": [
        "media([1, 2, 3, 4, 5, 6, 7, 8, 9])"
      ]
    },
    {
      "cell_type": "code",
      "execution_count": 200,
      "metadata": {
        "colab": {},
        "colab_type": "code",
        "id": "_r616TevD1A_"
      },
      "outputs": [
        {
          "name": "stdout",
          "output_type": "stream",
          "text": [
            "Quantidade de elementos - 9 e média 5.0\n"
          ]
        }
      ],
      "source": [
        "valor_media, quantidade_elementos = media([1, 2, 3, 4, 5, 6, 7, 8, 9])\n",
        "print(f'Quantidade de elementos - {quantidade_elementos} e média {valor_media}')"
      ]
    },
    {
      "cell_type": "code",
      "execution_count": 194,
      "metadata": {},
      "outputs": [
        {
          "data": {
            "text/plain": [
              "{'Crossfox': {'km': 35000, 'ano': 2005, 'km_media': 2500.0},\n",
              " 'DS5': {'km': 17000, 'ano': 2015, 'km_media': 4250.0},\n",
              " 'Fusca': {'km': 130000, 'ano': 1979, 'km_media': 3250.0},\n",
              " 'Jetta': {'km': 56000, 'ano': 2011, 'km_media': 7000.0},\n",
              " 'Passat': {'km': 62000, 'ano': 1999, 'km_media': 3100.0}}"
            ]
          },
          "execution_count": 194,
          "metadata": {},
          "output_type": "execute_result"
        }
      ],
      "source": [
        "dados_exercicio = {\n",
        "    'Crossfox': {'km': 35000, 'ano': 2005}, \n",
        "    'DS5': {'km': 17000, 'ano': 2015}, \n",
        "    'Fusca': {'km': 130000, 'ano': 1979}, \n",
        "    'Jetta': {'km': 56000, 'ano': 2011}, \n",
        "    'Passat': {'km': 62000, 'ano': 1999}\n",
        "}\n",
        "\n",
        "def km_media(dataset, ano_atual):\n",
        "    result = {}\n",
        "    for item in dataset.items():\n",
        "        media = item[1]['km'] / (ano_atual - item[1]['ano'])\n",
        "        item[1]['km_media'] = media\n",
        "        result.update({item[0]: item[1]})\n",
        "    return result\n",
        "\n",
        "km_media(dados_exercicio, 2019)"
      ]
    },
    {
      "cell_type": "markdown",
      "metadata": {
        "colab_type": "text",
        "id": "uQ5lNnKrD1BD"
      },
      "source": [
        "# <font color=green> 5. PANDAS BÁSICO\n",
        "---\n",
        "\n",
        "**versão: 0.25.2**\n",
        "  \n",
        "Pandas é uma ferramenta de manipulação de dados de alto nível, construída com base no pacote Numpy. O pacote pandas possui estruturas de dados bastante interessantes para manipulação de dados e por isso é muito utilizado por cientistas de dados.\n",
        "\n",
        "\n",
        "## Estruturas de Dados\n",
        "\n",
        "### Series\n",
        "\n",
        "Series são arrays unidimensionais rotulados capazes de armazenar qualquer tipo de dado. Os rótulos das linhas são chamados de **index**. A forma básica de criação de uma Series é a seguinte:\n",
        "\n",
        "\n",
        "```\n",
        "    s = pd.Series(dados, index = index)\n",
        "```\n",
        "\n",
        "O argumento *dados* pode ser um dicionário, uma lista, um array Numpy ou uma constante.\n",
        "\n",
        "### DataFrames\n",
        "\n",
        "DataFrame é uma estrutura de dados tabular bidimensional com rótulos nas linha e colunas. Como a Series, os DataFrames são capazes de armazenar qualquer tipo de dados.\n",
        "\n",
        "\n",
        "```\n",
        "    df = pd.DataFrame(dados, index = index, columns = columns)\n",
        "```\n",
        "\n",
        "O argumento *dados* pode ser um dicionário, uma lista, um array Numpy, uma Series e outro DataFrame.\n",
        "\n",
        "**Documentação:** https://pandas.pydata.org/pandas-docs/version/0.25/"
      ]
    },
    {
      "cell_type": "markdown",
      "metadata": {
        "colab_type": "text",
        "id": "2qa7RC03D1BD"
      },
      "source": [
        "# 5.1 Estruturas de dados"
      ]
    },
    {
      "cell_type": "code",
      "execution_count": 201,
      "metadata": {
        "colab": {},
        "colab_type": "code",
        "id": "4QyFDeS4D1BD"
      },
      "outputs": [],
      "source": [
        "import pandas as pd"
      ]
    },
    {
      "cell_type": "markdown",
      "metadata": {
        "colab_type": "text",
        "id": "kIey8_OcD1BF"
      },
      "source": [
        "### Criando uma Series a partir de uma lista"
      ]
    },
    {
      "cell_type": "code",
      "execution_count": 202,
      "metadata": {
        "colab": {},
        "colab_type": "code",
        "id": "yEZR6DWiD1BF"
      },
      "outputs": [
        {
          "data": {
            "text/plain": [
              "['Jetta Variante', 'Passat', 'Crossfox']"
            ]
          },
          "execution_count": 202,
          "metadata": {},
          "output_type": "execute_result"
        }
      ],
      "source": [
        "carros = ['Jetta Variante', 'Passat', 'Crossfox']\n",
        "carros"
      ]
    },
    {
      "cell_type": "code",
      "execution_count": 204,
      "metadata": {
        "colab": {},
        "colab_type": "code",
        "id": "rLudWKZ_D1BF"
      },
      "outputs": [
        {
          "data": {
            "text/plain": [
              "0    Jetta Variante\n",
              "1            Passat\n",
              "2          Crossfox\n",
              "dtype: object"
            ]
          },
          "execution_count": 204,
          "metadata": {},
          "output_type": "execute_result"
        }
      ],
      "source": [
        "pd.Series(carros)"
      ]
    },
    {
      "cell_type": "markdown",
      "metadata": {
        "colab_type": "text",
        "id": "VYVIKd1-D1BG"
      },
      "source": [
        "### Criando um DataFrame a partir de uma lista de dicionários"
      ]
    },
    {
      "cell_type": "code",
      "execution_count": 210,
      "metadata": {
        "colab": {},
        "colab_type": "code",
        "id": "QFNS9PckD1BG"
      },
      "outputs": [
        {
          "data": {
            "text/plain": [
              "[{'Nome': 'Jetta Variant',\n",
              "  'Motor': 'Motor 4.0 Turbo',\n",
              "  'Ano': 2003,\n",
              "  'Quilometragem': 44410.0,\n",
              "  'Zero_km': False,\n",
              "  'Valor': 88078.64},\n",
              " {'Nome': 'Passat',\n",
              "  'Motor': 'Motor Diesel',\n",
              "  'Ano': 1991,\n",
              "  'Quilometragem': 5712.0,\n",
              "  'Zero_km': False,\n",
              "  'Valor': 106161.94},\n",
              " {'Nome': 'Crossfox',\n",
              "  'Motor': 'Motor Diesel V8',\n",
              "  'Ano': 1990,\n",
              "  'Quilometragem': 37123.0,\n",
              "  'Zero_km': False,\n",
              "  'Valor': 72832.16}]"
            ]
          },
          "execution_count": 210,
          "metadata": {},
          "output_type": "execute_result"
        }
      ],
      "source": [
        "dados = [\n",
        "    {'Nome': 'Jetta Variant', 'Motor': 'Motor 4.0 Turbo', 'Ano': 2003, 'Quilometragem': 44410.0, 'Zero_km': False, 'Valor': 88078.64},\n",
        "    {'Nome': 'Passat', 'Motor': 'Motor Diesel', 'Ano': 1991, 'Quilometragem': 5712.0, 'Zero_km': False, 'Valor': 106161.94},\n",
        "    {'Nome': 'Crossfox', 'Motor': 'Motor Diesel V8', 'Ano': 1990, 'Quilometragem': 37123.0, 'Zero_km': False, 'Valor': 72832.16}\n",
        "]\n",
        "\n",
        "dados"
      ]
    },
    {
      "cell_type": "code",
      "execution_count": 212,
      "metadata": {
        "colab": {},
        "colab_type": "code",
        "id": "WDQb9AnKD1BH"
      },
      "outputs": [
        {
          "data": {
            "text/html": [
              "<div>\n",
              "<style scoped>\n",
              "    .dataframe tbody tr th:only-of-type {\n",
              "        vertical-align: middle;\n",
              "    }\n",
              "\n",
              "    .dataframe tbody tr th {\n",
              "        vertical-align: top;\n",
              "    }\n",
              "\n",
              "    .dataframe thead th {\n",
              "        text-align: right;\n",
              "    }\n",
              "</style>\n",
              "<table border=\"1\" class=\"dataframe\">\n",
              "  <thead>\n",
              "    <tr style=\"text-align: right;\">\n",
              "      <th></th>\n",
              "      <th>Nome</th>\n",
              "      <th>Motor</th>\n",
              "      <th>Ano</th>\n",
              "      <th>Quilometragem</th>\n",
              "      <th>Zero_km</th>\n",
              "      <th>Valor</th>\n",
              "    </tr>\n",
              "  </thead>\n",
              "  <tbody>\n",
              "    <tr>\n",
              "      <th>0</th>\n",
              "      <td>Jetta Variant</td>\n",
              "      <td>Motor 4.0 Turbo</td>\n",
              "      <td>2003</td>\n",
              "      <td>44410.0</td>\n",
              "      <td>False</td>\n",
              "      <td>88078.64</td>\n",
              "    </tr>\n",
              "    <tr>\n",
              "      <th>1</th>\n",
              "      <td>Passat</td>\n",
              "      <td>Motor Diesel</td>\n",
              "      <td>1991</td>\n",
              "      <td>5712.0</td>\n",
              "      <td>False</td>\n",
              "      <td>106161.94</td>\n",
              "    </tr>\n",
              "    <tr>\n",
              "      <th>2</th>\n",
              "      <td>Crossfox</td>\n",
              "      <td>Motor Diesel V8</td>\n",
              "      <td>1990</td>\n",
              "      <td>37123.0</td>\n",
              "      <td>False</td>\n",
              "      <td>72832.16</td>\n",
              "    </tr>\n",
              "  </tbody>\n",
              "</table>\n",
              "</div>"
            ],
            "text/plain": [
              "            Nome            Motor   Ano  Quilometragem  Zero_km      Valor\n",
              "0  Jetta Variant  Motor 4.0 Turbo  2003        44410.0    False   88078.64\n",
              "1         Passat     Motor Diesel  1991         5712.0    False  106161.94\n",
              "2       Crossfox  Motor Diesel V8  1990        37123.0    False   72832.16"
            ]
          },
          "execution_count": 212,
          "metadata": {},
          "output_type": "execute_result"
        }
      ],
      "source": [
        "df = pd.DataFrame(dados)\n",
        "df"
      ]
    },
    {
      "cell_type": "code",
      "execution_count": 213,
      "metadata": {
        "colab": {},
        "colab_type": "code",
        "id": "-2-jGvmGD1BI"
      },
      "outputs": [
        {
          "data": {
            "text/html": [
              "<div>\n",
              "<style scoped>\n",
              "    .dataframe tbody tr th:only-of-type {\n",
              "        vertical-align: middle;\n",
              "    }\n",
              "\n",
              "    .dataframe tbody tr th {\n",
              "        vertical-align: top;\n",
              "    }\n",
              "\n",
              "    .dataframe thead th {\n",
              "        text-align: right;\n",
              "    }\n",
              "</style>\n",
              "<table border=\"1\" class=\"dataframe\">\n",
              "  <thead>\n",
              "    <tr style=\"text-align: right;\">\n",
              "      <th></th>\n",
              "      <th>Nome</th>\n",
              "      <th>Ano</th>\n",
              "      <th>Valor</th>\n",
              "    </tr>\n",
              "  </thead>\n",
              "  <tbody>\n",
              "    <tr>\n",
              "      <th>0</th>\n",
              "      <td>Jetta Variant</td>\n",
              "      <td>2003</td>\n",
              "      <td>88078.64</td>\n",
              "    </tr>\n",
              "    <tr>\n",
              "      <th>1</th>\n",
              "      <td>Passat</td>\n",
              "      <td>1991</td>\n",
              "      <td>106161.94</td>\n",
              "    </tr>\n",
              "    <tr>\n",
              "      <th>2</th>\n",
              "      <td>Crossfox</td>\n",
              "      <td>1990</td>\n",
              "      <td>72832.16</td>\n",
              "    </tr>\n",
              "  </tbody>\n",
              "</table>\n",
              "</div>"
            ],
            "text/plain": [
              "            Nome   Ano      Valor\n",
              "0  Jetta Variant  2003   88078.64\n",
              "1         Passat  1991  106161.94\n",
              "2       Crossfox  1990   72832.16"
            ]
          },
          "execution_count": 213,
          "metadata": {},
          "output_type": "execute_result"
        }
      ],
      "source": [
        "df[['Nome', 'Ano', 'Valor']]"
      ]
    },
    {
      "cell_type": "markdown",
      "metadata": {
        "colab_type": "text",
        "id": "pJK2tQgYD1BK"
      },
      "source": [
        "### Criando um DataFrame a partir de um dicionário"
      ]
    },
    {
      "cell_type": "code",
      "execution_count": 215,
      "metadata": {
        "colab": {},
        "colab_type": "code",
        "id": "WKNQwKucD1BK"
      },
      "outputs": [
        {
          "data": {
            "text/plain": [
              "{'Nome': ['Jetta Variant', 'Passat', 'Crossfox'],\n",
              " 'Motor': ['Motor 4.0 Turbo', 'Motor Diesel', 'Motor Diesel V8'],\n",
              " 'Ano': [2003, 1991, 1990],\n",
              " 'Quilometragem': [44410.0, 5712.0, 37123.0],\n",
              " 'Zero_km': [False, False, False],\n",
              " 'Valor': [88078.64, 106161.94, 72832.16]}"
            ]
          },
          "execution_count": 215,
          "metadata": {},
          "output_type": "execute_result"
        }
      ],
      "source": [
        "dados = {\n",
        "    'Nome': ['Jetta Variant', 'Passat', 'Crossfox'], \n",
        "    'Motor': ['Motor 4.0 Turbo', 'Motor Diesel', 'Motor Diesel V8'],\n",
        "    'Ano': [2003, 1991, 1990],\n",
        "    'Quilometragem': [44410.0, 5712.0, 37123.0],\n",
        "    'Zero_km': [False, False, False],\n",
        "    'Valor': [88078.64, 106161.94, 72832.16]\n",
        "}\n",
        "\n",
        "dados"
      ]
    },
    {
      "cell_type": "code",
      "execution_count": 216,
      "metadata": {
        "colab": {},
        "colab_type": "code",
        "id": "lKnuZfzcD1BK"
      },
      "outputs": [
        {
          "data": {
            "text/html": [
              "<div>\n",
              "<style scoped>\n",
              "    .dataframe tbody tr th:only-of-type {\n",
              "        vertical-align: middle;\n",
              "    }\n",
              "\n",
              "    .dataframe tbody tr th {\n",
              "        vertical-align: top;\n",
              "    }\n",
              "\n",
              "    .dataframe thead th {\n",
              "        text-align: right;\n",
              "    }\n",
              "</style>\n",
              "<table border=\"1\" class=\"dataframe\">\n",
              "  <thead>\n",
              "    <tr style=\"text-align: right;\">\n",
              "      <th></th>\n",
              "      <th>Nome</th>\n",
              "      <th>Motor</th>\n",
              "      <th>Ano</th>\n",
              "      <th>Quilometragem</th>\n",
              "      <th>Zero_km</th>\n",
              "      <th>Valor</th>\n",
              "    </tr>\n",
              "  </thead>\n",
              "  <tbody>\n",
              "    <tr>\n",
              "      <th>0</th>\n",
              "      <td>Jetta Variant</td>\n",
              "      <td>Motor 4.0 Turbo</td>\n",
              "      <td>2003</td>\n",
              "      <td>44410.0</td>\n",
              "      <td>False</td>\n",
              "      <td>88078.64</td>\n",
              "    </tr>\n",
              "    <tr>\n",
              "      <th>1</th>\n",
              "      <td>Passat</td>\n",
              "      <td>Motor Diesel</td>\n",
              "      <td>1991</td>\n",
              "      <td>5712.0</td>\n",
              "      <td>False</td>\n",
              "      <td>106161.94</td>\n",
              "    </tr>\n",
              "    <tr>\n",
              "      <th>2</th>\n",
              "      <td>Crossfox</td>\n",
              "      <td>Motor Diesel V8</td>\n",
              "      <td>1990</td>\n",
              "      <td>37123.0</td>\n",
              "      <td>False</td>\n",
              "      <td>72832.16</td>\n",
              "    </tr>\n",
              "  </tbody>\n",
              "</table>\n",
              "</div>"
            ],
            "text/plain": [
              "            Nome            Motor   Ano  Quilometragem  Zero_km      Valor\n",
              "0  Jetta Variant  Motor 4.0 Turbo  2003        44410.0    False   88078.64\n",
              "1         Passat     Motor Diesel  1991         5712.0    False  106161.94\n",
              "2       Crossfox  Motor Diesel V8  1990        37123.0    False   72832.16"
            ]
          },
          "execution_count": 216,
          "metadata": {},
          "output_type": "execute_result"
        }
      ],
      "source": [
        "df = pd.DataFrame(dados)\n",
        "df"
      ]
    },
    {
      "cell_type": "markdown",
      "metadata": {
        "colab_type": "text",
        "id": "fCCXs0reD1BL"
      },
      "source": [
        "### Criando um DataFrame a partir de uma arquivo externo"
      ]
    },
    {
      "cell_type": "code",
      "execution_count": 222,
      "metadata": {
        "colab": {},
        "colab_type": "code",
        "id": "78PRHGeZD1BL"
      },
      "outputs": [],
      "source": [
        "# index_col = 0 significa que o índice será a coluna Nome\n",
        "df_externo = pd.read_csv('dados/db.csv', sep=';', index_col=0)"
      ]
    },
    {
      "cell_type": "code",
      "execution_count": 223,
      "metadata": {
        "colab": {},
        "colab_type": "code",
        "id": "1o1YlnVPD1BM",
        "scrolled": true
      },
      "outputs": [
        {
          "data": {
            "text/html": [
              "<div>\n",
              "<style scoped>\n",
              "    .dataframe tbody tr th:only-of-type {\n",
              "        vertical-align: middle;\n",
              "    }\n",
              "\n",
              "    .dataframe tbody tr th {\n",
              "        vertical-align: top;\n",
              "    }\n",
              "\n",
              "    .dataframe thead th {\n",
              "        text-align: right;\n",
              "    }\n",
              "</style>\n",
              "<table border=\"1\" class=\"dataframe\">\n",
              "  <thead>\n",
              "    <tr style=\"text-align: right;\">\n",
              "      <th></th>\n",
              "      <th>Motor</th>\n",
              "      <th>Ano</th>\n",
              "      <th>Quilometragem</th>\n",
              "      <th>Zero_km</th>\n",
              "      <th>Acessórios</th>\n",
              "      <th>Valor</th>\n",
              "    </tr>\n",
              "    <tr>\n",
              "      <th>Nome</th>\n",
              "      <th></th>\n",
              "      <th></th>\n",
              "      <th></th>\n",
              "      <th></th>\n",
              "      <th></th>\n",
              "      <th></th>\n",
              "    </tr>\n",
              "  </thead>\n",
              "  <tbody>\n",
              "    <tr>\n",
              "      <th>Jetta Variant</th>\n",
              "      <td>Motor 4.0 Turbo</td>\n",
              "      <td>2003</td>\n",
              "      <td>44410.0</td>\n",
              "      <td>False</td>\n",
              "      <td>['Rodas de liga', 'Travas elétricas', 'Piloto ...</td>\n",
              "      <td>88078.64</td>\n",
              "    </tr>\n",
              "    <tr>\n",
              "      <th>Passat</th>\n",
              "      <td>Motor Diesel</td>\n",
              "      <td>1991</td>\n",
              "      <td>5712.0</td>\n",
              "      <td>False</td>\n",
              "      <td>['Central multimídia', 'Teto panorâmico', 'Fre...</td>\n",
              "      <td>106161.94</td>\n",
              "    </tr>\n",
              "    <tr>\n",
              "      <th>Crossfox</th>\n",
              "      <td>Motor Diesel V8</td>\n",
              "      <td>1990</td>\n",
              "      <td>37123.0</td>\n",
              "      <td>False</td>\n",
              "      <td>['Piloto automático', 'Controle de estabilidad...</td>\n",
              "      <td>72832.16</td>\n",
              "    </tr>\n",
              "    <tr>\n",
              "      <th>DS5</th>\n",
              "      <td>Motor 2.4 Turbo</td>\n",
              "      <td>2019</td>\n",
              "      <td>NaN</td>\n",
              "      <td>True</td>\n",
              "      <td>['Travas elétricas', '4 X 4', 'Vidros elétrico...</td>\n",
              "      <td>124549.07</td>\n",
              "    </tr>\n",
              "    <tr>\n",
              "      <th>Aston Martin DB4</th>\n",
              "      <td>Motor 2.4 Turbo</td>\n",
              "      <td>2006</td>\n",
              "      <td>25757.0</td>\n",
              "      <td>False</td>\n",
              "      <td>['Rodas de liga', '4 X 4', 'Central multimídia...</td>\n",
              "      <td>92612.10</td>\n",
              "    </tr>\n",
              "  </tbody>\n",
              "</table>\n",
              "</div>"
            ],
            "text/plain": [
              "                            Motor   Ano  Quilometragem  Zero_km  \\\n",
              "Nome                                                              \n",
              "Jetta Variant     Motor 4.0 Turbo  2003        44410.0    False   \n",
              "Passat               Motor Diesel  1991         5712.0    False   \n",
              "Crossfox          Motor Diesel V8  1990        37123.0    False   \n",
              "DS5               Motor 2.4 Turbo  2019            NaN     True   \n",
              "Aston Martin DB4  Motor 2.4 Turbo  2006        25757.0    False   \n",
              "\n",
              "                                                         Acessórios      Valor  \n",
              "Nome                                                                            \n",
              "Jetta Variant     ['Rodas de liga', 'Travas elétricas', 'Piloto ...   88078.64  \n",
              "Passat            ['Central multimídia', 'Teto panorâmico', 'Fre...  106161.94  \n",
              "Crossfox          ['Piloto automático', 'Controle de estabilidad...   72832.16  \n",
              "DS5               ['Travas elétricas', '4 X 4', 'Vidros elétrico...  124549.07  \n",
              "Aston Martin DB4  ['Rodas de liga', '4 X 4', 'Central multimídia...   92612.10  "
            ]
          },
          "execution_count": 223,
          "metadata": {},
          "output_type": "execute_result"
        }
      ],
      "source": [
        "df_externo.head()"
      ]
    },
    {
      "cell_type": "markdown",
      "metadata": {
        "colab_type": "text",
        "id": "y5V-1AK-D1BN"
      },
      "source": [
        "# 5.2 Seleções com DataFrames"
      ]
    },
    {
      "cell_type": "markdown",
      "metadata": {
        "colab_type": "text",
        "id": "wZjqlHe9D1BN"
      },
      "source": [
        "### Selecionando colunas"
      ]
    },
    {
      "cell_type": "code",
      "execution_count": 225,
      "metadata": {
        "colab": {},
        "colab_type": "code",
        "id": "gM3LbtzlD1BN",
        "scrolled": true
      },
      "outputs": [
        {
          "data": {
            "text/plain": [
              "Nome\n",
              "Jetta Variant        88078.64\n",
              "Passat              106161.94\n",
              "Crossfox             72832.16\n",
              "DS5                 124549.07\n",
              "Aston Martin DB4     92612.10\n",
              "Name: Valor, dtype: float64"
            ]
          },
          "execution_count": 225,
          "metadata": {},
          "output_type": "execute_result"
        }
      ],
      "source": [
        "df_externo['Valor'].head()"
      ]
    },
    {
      "cell_type": "code",
      "execution_count": 226,
      "metadata": {
        "colab": {},
        "colab_type": "code",
        "id": "R2FWgCM_D1BO"
      },
      "outputs": [
        {
          "data": {
            "text/plain": [
              "pandas.core.series.Series"
            ]
          },
          "execution_count": 226,
          "metadata": {},
          "output_type": "execute_result"
        }
      ],
      "source": [
        "type(df_externo['Valor'])"
      ]
    },
    {
      "cell_type": "code",
      "execution_count": 228,
      "metadata": {
        "colab": {},
        "colab_type": "code",
        "id": "zxlyC3B8D1BP"
      },
      "outputs": [
        {
          "data": {
            "text/html": [
              "<div>\n",
              "<style scoped>\n",
              "    .dataframe tbody tr th:only-of-type {\n",
              "        vertical-align: middle;\n",
              "    }\n",
              "\n",
              "    .dataframe tbody tr th {\n",
              "        vertical-align: top;\n",
              "    }\n",
              "\n",
              "    .dataframe thead th {\n",
              "        text-align: right;\n",
              "    }\n",
              "</style>\n",
              "<table border=\"1\" class=\"dataframe\">\n",
              "  <thead>\n",
              "    <tr style=\"text-align: right;\">\n",
              "      <th></th>\n",
              "      <th>Valor</th>\n",
              "    </tr>\n",
              "    <tr>\n",
              "      <th>Nome</th>\n",
              "      <th></th>\n",
              "    </tr>\n",
              "  </thead>\n",
              "  <tbody>\n",
              "    <tr>\n",
              "      <th>Jetta Variant</th>\n",
              "      <td>88078.64</td>\n",
              "    </tr>\n",
              "    <tr>\n",
              "      <th>Passat</th>\n",
              "      <td>106161.94</td>\n",
              "    </tr>\n",
              "    <tr>\n",
              "      <th>Crossfox</th>\n",
              "      <td>72832.16</td>\n",
              "    </tr>\n",
              "    <tr>\n",
              "      <th>DS5</th>\n",
              "      <td>124549.07</td>\n",
              "    </tr>\n",
              "    <tr>\n",
              "      <th>Aston Martin DB4</th>\n",
              "      <td>92612.10</td>\n",
              "    </tr>\n",
              "  </tbody>\n",
              "</table>\n",
              "</div>"
            ],
            "text/plain": [
              "                      Valor\n",
              "Nome                       \n",
              "Jetta Variant      88078.64\n",
              "Passat            106161.94\n",
              "Crossfox           72832.16\n",
              "DS5               124549.07\n",
              "Aston Martin DB4   92612.10"
            ]
          },
          "execution_count": 228,
          "metadata": {},
          "output_type": "execute_result"
        }
      ],
      "source": [
        "df_externo[['Valor']].head()"
      ]
    },
    {
      "cell_type": "code",
      "execution_count": 227,
      "metadata": {
        "colab": {},
        "colab_type": "code",
        "id": "lCCumsxsD1BP",
        "scrolled": true
      },
      "outputs": [
        {
          "data": {
            "text/plain": [
              "pandas.core.frame.DataFrame"
            ]
          },
          "execution_count": 227,
          "metadata": {},
          "output_type": "execute_result"
        }
      ],
      "source": [
        "type(df_externo[['Valor']])"
      ]
    },
    {
      "cell_type": "markdown",
      "metadata": {
        "colab_type": "text",
        "id": "7RPXPm1XD1BQ"
      },
      "source": [
        "### Selecionando linhas - [ i : j ] \n",
        "\n",
        "<font color=red>**Observação:**</font> A indexação tem origem no zero e nos fatiamentos (*slices*) a linha com índice i é **incluída** e a linha com índice j **não é incluída** no resultado."
      ]
    },
    {
      "cell_type": "code",
      "execution_count": 229,
      "metadata": {
        "colab": {},
        "colab_type": "code",
        "id": "PdDUwPw3D1BQ"
      },
      "outputs": [
        {
          "data": {
            "text/html": [
              "<div>\n",
              "<style scoped>\n",
              "    .dataframe tbody tr th:only-of-type {\n",
              "        vertical-align: middle;\n",
              "    }\n",
              "\n",
              "    .dataframe tbody tr th {\n",
              "        vertical-align: top;\n",
              "    }\n",
              "\n",
              "    .dataframe thead th {\n",
              "        text-align: right;\n",
              "    }\n",
              "</style>\n",
              "<table border=\"1\" class=\"dataframe\">\n",
              "  <thead>\n",
              "    <tr style=\"text-align: right;\">\n",
              "      <th></th>\n",
              "      <th>Motor</th>\n",
              "      <th>Ano</th>\n",
              "      <th>Quilometragem</th>\n",
              "      <th>Zero_km</th>\n",
              "      <th>Acessórios</th>\n",
              "      <th>Valor</th>\n",
              "    </tr>\n",
              "    <tr>\n",
              "      <th>Nome</th>\n",
              "      <th></th>\n",
              "      <th></th>\n",
              "      <th></th>\n",
              "      <th></th>\n",
              "      <th></th>\n",
              "      <th></th>\n",
              "    </tr>\n",
              "  </thead>\n",
              "  <tbody>\n",
              "    <tr>\n",
              "      <th>Jetta Variant</th>\n",
              "      <td>Motor 4.0 Turbo</td>\n",
              "      <td>2003</td>\n",
              "      <td>44410.0</td>\n",
              "      <td>False</td>\n",
              "      <td>['Rodas de liga', 'Travas elétricas', 'Piloto ...</td>\n",
              "      <td>88078.64</td>\n",
              "    </tr>\n",
              "    <tr>\n",
              "      <th>Passat</th>\n",
              "      <td>Motor Diesel</td>\n",
              "      <td>1991</td>\n",
              "      <td>5712.0</td>\n",
              "      <td>False</td>\n",
              "      <td>['Central multimídia', 'Teto panorâmico', 'Fre...</td>\n",
              "      <td>106161.94</td>\n",
              "    </tr>\n",
              "    <tr>\n",
              "      <th>Crossfox</th>\n",
              "      <td>Motor Diesel V8</td>\n",
              "      <td>1990</td>\n",
              "      <td>37123.0</td>\n",
              "      <td>False</td>\n",
              "      <td>['Piloto automático', 'Controle de estabilidad...</td>\n",
              "      <td>72832.16</td>\n",
              "    </tr>\n",
              "  </tbody>\n",
              "</table>\n",
              "</div>"
            ],
            "text/plain": [
              "                         Motor   Ano  Quilometragem  Zero_km  \\\n",
              "Nome                                                           \n",
              "Jetta Variant  Motor 4.0 Turbo  2003        44410.0    False   \n",
              "Passat            Motor Diesel  1991         5712.0    False   \n",
              "Crossfox       Motor Diesel V8  1990        37123.0    False   \n",
              "\n",
              "                                                      Acessórios      Valor  \n",
              "Nome                                                                         \n",
              "Jetta Variant  ['Rodas de liga', 'Travas elétricas', 'Piloto ...   88078.64  \n",
              "Passat         ['Central multimídia', 'Teto panorâmico', 'Fre...  106161.94  \n",
              "Crossfox       ['Piloto automático', 'Controle de estabilidad...   72832.16  "
            ]
          },
          "execution_count": 229,
          "metadata": {},
          "output_type": "execute_result"
        }
      ],
      "source": [
        "df_externo[0:3]"
      ]
    },
    {
      "cell_type": "markdown",
      "metadata": {
        "colab_type": "text",
        "id": "G3DMSk97D1BR"
      },
      "source": [
        "### Utilizando .loc para seleções\n",
        "\n",
        "<font color=red>**Observação:**</font> Seleciona um grupo de linhas e colunas segundo os rótulos ou uma matriz booleana."
      ]
    },
    {
      "cell_type": "code",
      "execution_count": 230,
      "metadata": {
        "colab": {},
        "colab_type": "code",
        "id": "Ftg-hNOoD1BR"
      },
      "outputs": [
        {
          "data": {
            "text/plain": [
              "Motor                                                 Motor Diesel\n",
              "Ano                                                           1991\n",
              "Quilometragem                                               5712.0\n",
              "Zero_km                                                      False\n",
              "Acessórios       ['Central multimídia', 'Teto panorâmico', 'Fre...\n",
              "Valor                                                    106161.94\n",
              "Name: Passat, dtype: object"
            ]
          },
          "execution_count": 230,
          "metadata": {},
          "output_type": "execute_result"
        }
      ],
      "source": [
        "df_externo.loc['Passat']"
      ]
    },
    {
      "cell_type": "code",
      "execution_count": 231,
      "metadata": {
        "colab": {},
        "colab_type": "code",
        "id": "xdxkDrHvD1BS"
      },
      "outputs": [
        {
          "data": {
            "text/html": [
              "<div>\n",
              "<style scoped>\n",
              "    .dataframe tbody tr th:only-of-type {\n",
              "        vertical-align: middle;\n",
              "    }\n",
              "\n",
              "    .dataframe tbody tr th {\n",
              "        vertical-align: top;\n",
              "    }\n",
              "\n",
              "    .dataframe thead th {\n",
              "        text-align: right;\n",
              "    }\n",
              "</style>\n",
              "<table border=\"1\" class=\"dataframe\">\n",
              "  <thead>\n",
              "    <tr style=\"text-align: right;\">\n",
              "      <th></th>\n",
              "      <th>Motor</th>\n",
              "      <th>Ano</th>\n",
              "      <th>Quilometragem</th>\n",
              "      <th>Zero_km</th>\n",
              "      <th>Acessórios</th>\n",
              "      <th>Valor</th>\n",
              "    </tr>\n",
              "    <tr>\n",
              "      <th>Nome</th>\n",
              "      <th></th>\n",
              "      <th></th>\n",
              "      <th></th>\n",
              "      <th></th>\n",
              "      <th></th>\n",
              "      <th></th>\n",
              "    </tr>\n",
              "  </thead>\n",
              "  <tbody>\n",
              "    <tr>\n",
              "      <th>Passat</th>\n",
              "      <td>Motor Diesel</td>\n",
              "      <td>1991</td>\n",
              "      <td>5712.0</td>\n",
              "      <td>False</td>\n",
              "      <td>['Central multimídia', 'Teto panorâmico', 'Fre...</td>\n",
              "      <td>106161.94</td>\n",
              "    </tr>\n",
              "    <tr>\n",
              "      <th>DS5</th>\n",
              "      <td>Motor 2.4 Turbo</td>\n",
              "      <td>2019</td>\n",
              "      <td>NaN</td>\n",
              "      <td>True</td>\n",
              "      <td>['Travas elétricas', '4 X 4', 'Vidros elétrico...</td>\n",
              "      <td>124549.07</td>\n",
              "    </tr>\n",
              "  </tbody>\n",
              "</table>\n",
              "</div>"
            ],
            "text/plain": [
              "                  Motor   Ano  Quilometragem  Zero_km  \\\n",
              "Nome                                                    \n",
              "Passat     Motor Diesel  1991         5712.0    False   \n",
              "DS5     Motor 2.4 Turbo  2019            NaN     True   \n",
              "\n",
              "                                               Acessórios      Valor  \n",
              "Nome                                                                  \n",
              "Passat  ['Central multimídia', 'Teto panorâmico', 'Fre...  106161.94  \n",
              "DS5     ['Travas elétricas', '4 X 4', 'Vidros elétrico...  124549.07  "
            ]
          },
          "execution_count": 231,
          "metadata": {},
          "output_type": "execute_result"
        }
      ],
      "source": [
        "df_externo.loc[['Passat', 'DS5']]"
      ]
    },
    {
      "cell_type": "code",
      "execution_count": 233,
      "metadata": {
        "colab": {},
        "colab_type": "code",
        "id": "pMN3U1KjD1BS"
      },
      "outputs": [
        {
          "data": {
            "text/html": [
              "<div>\n",
              "<style scoped>\n",
              "    .dataframe tbody tr th:only-of-type {\n",
              "        vertical-align: middle;\n",
              "    }\n",
              "\n",
              "    .dataframe tbody tr th {\n",
              "        vertical-align: top;\n",
              "    }\n",
              "\n",
              "    .dataframe thead th {\n",
              "        text-align: right;\n",
              "    }\n",
              "</style>\n",
              "<table border=\"1\" class=\"dataframe\">\n",
              "  <thead>\n",
              "    <tr style=\"text-align: right;\">\n",
              "      <th></th>\n",
              "      <th>Motor</th>\n",
              "      <th>Valor</th>\n",
              "    </tr>\n",
              "    <tr>\n",
              "      <th>Nome</th>\n",
              "      <th></th>\n",
              "      <th></th>\n",
              "    </tr>\n",
              "  </thead>\n",
              "  <tbody>\n",
              "    <tr>\n",
              "      <th>Passat</th>\n",
              "      <td>Motor Diesel</td>\n",
              "      <td>106161.94</td>\n",
              "    </tr>\n",
              "    <tr>\n",
              "      <th>DS5</th>\n",
              "      <td>Motor 2.4 Turbo</td>\n",
              "      <td>124549.07</td>\n",
              "    </tr>\n",
              "  </tbody>\n",
              "</table>\n",
              "</div>"
            ],
            "text/plain": [
              "                  Motor      Valor\n",
              "Nome                              \n",
              "Passat     Motor Diesel  106161.94\n",
              "DS5     Motor 2.4 Turbo  124549.07"
            ]
          },
          "execution_count": 233,
          "metadata": {},
          "output_type": "execute_result"
        }
      ],
      "source": [
        "df_externo.loc[['Passat', 'DS5'], ['Motor', 'Valor']]"
      ]
    },
    {
      "cell_type": "code",
      "execution_count": 236,
      "metadata": {
        "colab": {},
        "colab_type": "code",
        "id": "oOEO72uZD1BT",
        "scrolled": true
      },
      "outputs": [
        {
          "data": {
            "text/html": [
              "<div>\n",
              "<style scoped>\n",
              "    .dataframe tbody tr th:only-of-type {\n",
              "        vertical-align: middle;\n",
              "    }\n",
              "\n",
              "    .dataframe tbody tr th {\n",
              "        vertical-align: top;\n",
              "    }\n",
              "\n",
              "    .dataframe thead th {\n",
              "        text-align: right;\n",
              "    }\n",
              "</style>\n",
              "<table border=\"1\" class=\"dataframe\">\n",
              "  <thead>\n",
              "    <tr style=\"text-align: right;\">\n",
              "      <th></th>\n",
              "      <th>Motor</th>\n",
              "      <th>Valor</th>\n",
              "    </tr>\n",
              "    <tr>\n",
              "      <th>Nome</th>\n",
              "      <th></th>\n",
              "      <th></th>\n",
              "    </tr>\n",
              "  </thead>\n",
              "  <tbody>\n",
              "    <tr>\n",
              "      <th>Jetta Variant</th>\n",
              "      <td>Motor 4.0 Turbo</td>\n",
              "      <td>88078.64</td>\n",
              "    </tr>\n",
              "    <tr>\n",
              "      <th>Passat</th>\n",
              "      <td>Motor Diesel</td>\n",
              "      <td>106161.94</td>\n",
              "    </tr>\n",
              "    <tr>\n",
              "      <th>Crossfox</th>\n",
              "      <td>Motor Diesel V8</td>\n",
              "      <td>72832.16</td>\n",
              "    </tr>\n",
              "    <tr>\n",
              "      <th>DS5</th>\n",
              "      <td>Motor 2.4 Turbo</td>\n",
              "      <td>124549.07</td>\n",
              "    </tr>\n",
              "    <tr>\n",
              "      <th>Aston Martin DB4</th>\n",
              "      <td>Motor 2.4 Turbo</td>\n",
              "      <td>92612.10</td>\n",
              "    </tr>\n",
              "  </tbody>\n",
              "</table>\n",
              "</div>"
            ],
            "text/plain": [
              "                            Motor      Valor\n",
              "Nome                                        \n",
              "Jetta Variant     Motor 4.0 Turbo   88078.64\n",
              "Passat               Motor Diesel  106161.94\n",
              "Crossfox          Motor Diesel V8   72832.16\n",
              "DS5               Motor 2.4 Turbo  124549.07\n",
              "Aston Martin DB4  Motor 2.4 Turbo   92612.10"
            ]
          },
          "execution_count": 236,
          "metadata": {},
          "output_type": "execute_result"
        }
      ],
      "source": [
        "df_externo.loc[:, ['Motor', 'Valor']].head()"
      ]
    },
    {
      "cell_type": "markdown",
      "metadata": {
        "colab_type": "text",
        "id": "SYKEe3vCD1BT"
      },
      "source": [
        "### Utilizando .iloc para seleções\n",
        "\n",
        "<font color=red>**Observação:**</font> Seleciona com base nos índices, ou seja, se baseia na posição das informações."
      ]
    },
    {
      "cell_type": "code",
      "execution_count": 237,
      "metadata": {
        "colab": {},
        "colab_type": "code",
        "id": "U4Bru90bD1BT"
      },
      "outputs": [
        {
          "data": {
            "text/plain": [
              "Motor                                              Motor 4.0 Turbo\n",
              "Ano                                                           2003\n",
              "Quilometragem                                              44410.0\n",
              "Zero_km                                                      False\n",
              "Acessórios       ['Rodas de liga', 'Travas elétricas', 'Piloto ...\n",
              "Valor                                                     88078.64\n",
              "Name: Jetta Variant, dtype: object"
            ]
          },
          "execution_count": 237,
          "metadata": {},
          "output_type": "execute_result"
        }
      ],
      "source": [
        "df_externo.iloc[0]"
      ]
    },
    {
      "cell_type": "code",
      "execution_count": 238,
      "metadata": {
        "colab": {},
        "colab_type": "code",
        "id": "iLKUyrzND1BU"
      },
      "outputs": [
        {
          "data": {
            "text/html": [
              "<div>\n",
              "<style scoped>\n",
              "    .dataframe tbody tr th:only-of-type {\n",
              "        vertical-align: middle;\n",
              "    }\n",
              "\n",
              "    .dataframe tbody tr th {\n",
              "        vertical-align: top;\n",
              "    }\n",
              "\n",
              "    .dataframe thead th {\n",
              "        text-align: right;\n",
              "    }\n",
              "</style>\n",
              "<table border=\"1\" class=\"dataframe\">\n",
              "  <thead>\n",
              "    <tr style=\"text-align: right;\">\n",
              "      <th></th>\n",
              "      <th>Motor</th>\n",
              "      <th>Ano</th>\n",
              "      <th>Quilometragem</th>\n",
              "      <th>Zero_km</th>\n",
              "      <th>Acessórios</th>\n",
              "      <th>Valor</th>\n",
              "    </tr>\n",
              "    <tr>\n",
              "      <th>Nome</th>\n",
              "      <th></th>\n",
              "      <th></th>\n",
              "      <th></th>\n",
              "      <th></th>\n",
              "      <th></th>\n",
              "      <th></th>\n",
              "    </tr>\n",
              "  </thead>\n",
              "  <tbody>\n",
              "    <tr>\n",
              "      <th>Jetta Variant</th>\n",
              "      <td>Motor 4.0 Turbo</td>\n",
              "      <td>2003</td>\n",
              "      <td>44410.0</td>\n",
              "      <td>False</td>\n",
              "      <td>['Rodas de liga', 'Travas elétricas', 'Piloto ...</td>\n",
              "      <td>88078.64</td>\n",
              "    </tr>\n",
              "  </tbody>\n",
              "</table>\n",
              "</div>"
            ],
            "text/plain": [
              "                         Motor   Ano  Quilometragem  Zero_km  \\\n",
              "Nome                                                           \n",
              "Jetta Variant  Motor 4.0 Turbo  2003        44410.0    False   \n",
              "\n",
              "                                                      Acessórios     Valor  \n",
              "Nome                                                                        \n",
              "Jetta Variant  ['Rodas de liga', 'Travas elétricas', 'Piloto ...  88078.64  "
            ]
          },
          "execution_count": 238,
          "metadata": {},
          "output_type": "execute_result"
        }
      ],
      "source": [
        "df_externo.iloc[[0]]"
      ]
    },
    {
      "cell_type": "code",
      "execution_count": 239,
      "metadata": {
        "colab": {},
        "colab_type": "code",
        "id": "KGZpixYUD1BU"
      },
      "outputs": [
        {
          "data": {
            "text/html": [
              "<div>\n",
              "<style scoped>\n",
              "    .dataframe tbody tr th:only-of-type {\n",
              "        vertical-align: middle;\n",
              "    }\n",
              "\n",
              "    .dataframe tbody tr th {\n",
              "        vertical-align: top;\n",
              "    }\n",
              "\n",
              "    .dataframe thead th {\n",
              "        text-align: right;\n",
              "    }\n",
              "</style>\n",
              "<table border=\"1\" class=\"dataframe\">\n",
              "  <thead>\n",
              "    <tr style=\"text-align: right;\">\n",
              "      <th></th>\n",
              "      <th>Motor</th>\n",
              "      <th>Ano</th>\n",
              "      <th>Quilometragem</th>\n",
              "      <th>Zero_km</th>\n",
              "      <th>Acessórios</th>\n",
              "      <th>Valor</th>\n",
              "    </tr>\n",
              "    <tr>\n",
              "      <th>Nome</th>\n",
              "      <th></th>\n",
              "      <th></th>\n",
              "      <th></th>\n",
              "      <th></th>\n",
              "      <th></th>\n",
              "      <th></th>\n",
              "    </tr>\n",
              "  </thead>\n",
              "  <tbody>\n",
              "    <tr>\n",
              "      <th>Passat</th>\n",
              "      <td>Motor Diesel</td>\n",
              "      <td>1991</td>\n",
              "      <td>5712.0</td>\n",
              "      <td>False</td>\n",
              "      <td>['Central multimídia', 'Teto panorâmico', 'Fre...</td>\n",
              "      <td>106161.94</td>\n",
              "    </tr>\n",
              "    <tr>\n",
              "      <th>Crossfox</th>\n",
              "      <td>Motor Diesel V8</td>\n",
              "      <td>1990</td>\n",
              "      <td>37123.0</td>\n",
              "      <td>False</td>\n",
              "      <td>['Piloto automático', 'Controle de estabilidad...</td>\n",
              "      <td>72832.16</td>\n",
              "    </tr>\n",
              "    <tr>\n",
              "      <th>DS5</th>\n",
              "      <td>Motor 2.4 Turbo</td>\n",
              "      <td>2019</td>\n",
              "      <td>NaN</td>\n",
              "      <td>True</td>\n",
              "      <td>['Travas elétricas', '4 X 4', 'Vidros elétrico...</td>\n",
              "      <td>124549.07</td>\n",
              "    </tr>\n",
              "  </tbody>\n",
              "</table>\n",
              "</div>"
            ],
            "text/plain": [
              "                    Motor   Ano  Quilometragem  Zero_km  \\\n",
              "Nome                                                      \n",
              "Passat       Motor Diesel  1991         5712.0    False   \n",
              "Crossfox  Motor Diesel V8  1990        37123.0    False   \n",
              "DS5       Motor 2.4 Turbo  2019            NaN     True   \n",
              "\n",
              "                                                 Acessórios      Valor  \n",
              "Nome                                                                    \n",
              "Passat    ['Central multimídia', 'Teto panorâmico', 'Fre...  106161.94  \n",
              "Crossfox  ['Piloto automático', 'Controle de estabilidad...   72832.16  \n",
              "DS5       ['Travas elétricas', '4 X 4', 'Vidros elétrico...  124549.07  "
            ]
          },
          "execution_count": 239,
          "metadata": {},
          "output_type": "execute_result"
        }
      ],
      "source": [
        "df_externo.iloc[1:4]"
      ]
    },
    {
      "cell_type": "code",
      "execution_count": 243,
      "metadata": {
        "colab": {},
        "colab_type": "code",
        "id": "GxdqIz4LD1BV"
      },
      "outputs": [
        {
          "data": {
            "text/html": [
              "<div>\n",
              "<style scoped>\n",
              "    .dataframe tbody tr th:only-of-type {\n",
              "        vertical-align: middle;\n",
              "    }\n",
              "\n",
              "    .dataframe tbody tr th {\n",
              "        vertical-align: top;\n",
              "    }\n",
              "\n",
              "    .dataframe thead th {\n",
              "        text-align: right;\n",
              "    }\n",
              "</style>\n",
              "<table border=\"1\" class=\"dataframe\">\n",
              "  <thead>\n",
              "    <tr style=\"text-align: right;\">\n",
              "      <th></th>\n",
              "      <th>Motor</th>\n",
              "      <th>Valor</th>\n",
              "    </tr>\n",
              "    <tr>\n",
              "      <th>Nome</th>\n",
              "      <th></th>\n",
              "      <th></th>\n",
              "    </tr>\n",
              "  </thead>\n",
              "  <tbody>\n",
              "    <tr>\n",
              "      <th>Jetta Variant</th>\n",
              "      <td>Motor 4.0 Turbo</td>\n",
              "      <td>88078.64</td>\n",
              "    </tr>\n",
              "    <tr>\n",
              "      <th>Passat</th>\n",
              "      <td>Motor Diesel</td>\n",
              "      <td>106161.94</td>\n",
              "    </tr>\n",
              "    <tr>\n",
              "      <th>Crossfox</th>\n",
              "      <td>Motor Diesel V8</td>\n",
              "      <td>72832.16</td>\n",
              "    </tr>\n",
              "    <tr>\n",
              "      <th>DS5</th>\n",
              "      <td>Motor 2.4 Turbo</td>\n",
              "      <td>124549.07</td>\n",
              "    </tr>\n",
              "    <tr>\n",
              "      <th>Aston Martin DB4</th>\n",
              "      <td>Motor 2.4 Turbo</td>\n",
              "      <td>92612.10</td>\n",
              "    </tr>\n",
              "  </tbody>\n",
              "</table>\n",
              "</div>"
            ],
            "text/plain": [
              "                            Motor      Valor\n",
              "Nome                                        \n",
              "Jetta Variant     Motor 4.0 Turbo   88078.64\n",
              "Passat               Motor Diesel  106161.94\n",
              "Crossfox          Motor Diesel V8   72832.16\n",
              "DS5               Motor 2.4 Turbo  124549.07\n",
              "Aston Martin DB4  Motor 2.4 Turbo   92612.10"
            ]
          },
          "execution_count": 243,
          "metadata": {},
          "output_type": "execute_result"
        }
      ],
      "source": [
        "df_externo.iloc[0: 5, [0, 5]]"
      ]
    },
    {
      "cell_type": "code",
      "execution_count": 244,
      "metadata": {
        "colab": {},
        "colab_type": "code",
        "id": "AVIhs7uLD1BW",
        "scrolled": true
      },
      "outputs": [
        {
          "data": {
            "text/html": [
              "<div>\n",
              "<style scoped>\n",
              "    .dataframe tbody tr th:only-of-type {\n",
              "        vertical-align: middle;\n",
              "    }\n",
              "\n",
              "    .dataframe tbody tr th {\n",
              "        vertical-align: top;\n",
              "    }\n",
              "\n",
              "    .dataframe thead th {\n",
              "        text-align: right;\n",
              "    }\n",
              "</style>\n",
              "<table border=\"1\" class=\"dataframe\">\n",
              "  <thead>\n",
              "    <tr style=\"text-align: right;\">\n",
              "      <th></th>\n",
              "      <th>Motor</th>\n",
              "      <th>Valor</th>\n",
              "    </tr>\n",
              "    <tr>\n",
              "      <th>Nome</th>\n",
              "      <th></th>\n",
              "      <th></th>\n",
              "    </tr>\n",
              "  </thead>\n",
              "  <tbody>\n",
              "    <tr>\n",
              "      <th>Passat</th>\n",
              "      <td>Motor Diesel</td>\n",
              "      <td>106161.94</td>\n",
              "    </tr>\n",
              "    <tr>\n",
              "      <th>Palio Weekend</th>\n",
              "      <td>Motor 1.8 16v</td>\n",
              "      <td>97497.73</td>\n",
              "    </tr>\n",
              "    <tr>\n",
              "      <th>Optima</th>\n",
              "      <td>Motor 1.8 16v</td>\n",
              "      <td>86641.34</td>\n",
              "    </tr>\n",
              "  </tbody>\n",
              "</table>\n",
              "</div>"
            ],
            "text/plain": [
              "                       Motor      Valor\n",
              "Nome                                   \n",
              "Passat          Motor Diesel  106161.94\n",
              "Palio Weekend  Motor 1.8 16v   97497.73\n",
              "Optima         Motor 1.8 16v   86641.34"
            ]
          },
          "execution_count": 244,
          "metadata": {},
          "output_type": "execute_result"
        }
      ],
      "source": [
        "df_externo.iloc[[1, 5, 42], [0, 5]]"
      ]
    },
    {
      "cell_type": "code",
      "execution_count": 246,
      "metadata": {},
      "outputs": [
        {
          "data": {
            "text/html": [
              "<div>\n",
              "<style scoped>\n",
              "    .dataframe tbody tr th:only-of-type {\n",
              "        vertical-align: middle;\n",
              "    }\n",
              "\n",
              "    .dataframe tbody tr th {\n",
              "        vertical-align: top;\n",
              "    }\n",
              "\n",
              "    .dataframe thead th {\n",
              "        text-align: right;\n",
              "    }\n",
              "</style>\n",
              "<table border=\"1\" class=\"dataframe\">\n",
              "  <thead>\n",
              "    <tr style=\"text-align: right;\">\n",
              "      <th></th>\n",
              "      <th>Motor</th>\n",
              "      <th>Valor</th>\n",
              "    </tr>\n",
              "    <tr>\n",
              "      <th>Nome</th>\n",
              "      <th></th>\n",
              "      <th></th>\n",
              "    </tr>\n",
              "  </thead>\n",
              "  <tbody>\n",
              "    <tr>\n",
              "      <th>Jetta Variant</th>\n",
              "      <td>Motor 4.0 Turbo</td>\n",
              "      <td>88078.64</td>\n",
              "    </tr>\n",
              "    <tr>\n",
              "      <th>Passat</th>\n",
              "      <td>Motor Diesel</td>\n",
              "      <td>106161.94</td>\n",
              "    </tr>\n",
              "    <tr>\n",
              "      <th>Crossfox</th>\n",
              "      <td>Motor Diesel V8</td>\n",
              "      <td>72832.16</td>\n",
              "    </tr>\n",
              "    <tr>\n",
              "      <th>DS5</th>\n",
              "      <td>Motor 2.4 Turbo</td>\n",
              "      <td>124549.07</td>\n",
              "    </tr>\n",
              "    <tr>\n",
              "      <th>Aston Martin DB4</th>\n",
              "      <td>Motor 2.4 Turbo</td>\n",
              "      <td>92612.10</td>\n",
              "    </tr>\n",
              "  </tbody>\n",
              "</table>\n",
              "</div>"
            ],
            "text/plain": [
              "                            Motor      Valor\n",
              "Nome                                        \n",
              "Jetta Variant     Motor 4.0 Turbo   88078.64\n",
              "Passat               Motor Diesel  106161.94\n",
              "Crossfox          Motor Diesel V8   72832.16\n",
              "DS5               Motor 2.4 Turbo  124549.07\n",
              "Aston Martin DB4  Motor 2.4 Turbo   92612.10"
            ]
          },
          "execution_count": 246,
          "metadata": {},
          "output_type": "execute_result"
        }
      ],
      "source": [
        "df_externo.iloc[:, [0, 5]].head()"
      ]
    },
    {
      "cell_type": "markdown",
      "metadata": {
        "colab_type": "text",
        "id": "eAbwq1oLD1BW"
      },
      "source": [
        "# 5.3 Queries com DataFrames"
      ]
    },
    {
      "cell_type": "code",
      "execution_count": 247,
      "metadata": {
        "colab": {},
        "colab_type": "code",
        "id": "AOZTWzehD1BW",
        "scrolled": true
      },
      "outputs": [
        {
          "data": {
            "text/html": [
              "<div>\n",
              "<style scoped>\n",
              "    .dataframe tbody tr th:only-of-type {\n",
              "        vertical-align: middle;\n",
              "    }\n",
              "\n",
              "    .dataframe tbody tr th {\n",
              "        vertical-align: top;\n",
              "    }\n",
              "\n",
              "    .dataframe thead th {\n",
              "        text-align: right;\n",
              "    }\n",
              "</style>\n",
              "<table border=\"1\" class=\"dataframe\">\n",
              "  <thead>\n",
              "    <tr style=\"text-align: right;\">\n",
              "      <th></th>\n",
              "      <th>Motor</th>\n",
              "      <th>Ano</th>\n",
              "      <th>Quilometragem</th>\n",
              "      <th>Zero_km</th>\n",
              "      <th>Acessórios</th>\n",
              "      <th>Valor</th>\n",
              "    </tr>\n",
              "    <tr>\n",
              "      <th>Nome</th>\n",
              "      <th></th>\n",
              "      <th></th>\n",
              "      <th></th>\n",
              "      <th></th>\n",
              "      <th></th>\n",
              "      <th></th>\n",
              "    </tr>\n",
              "  </thead>\n",
              "  <tbody>\n",
              "    <tr>\n",
              "      <th>Jetta Variant</th>\n",
              "      <td>Motor 4.0 Turbo</td>\n",
              "      <td>2003</td>\n",
              "      <td>44410.0</td>\n",
              "      <td>False</td>\n",
              "      <td>['Rodas de liga', 'Travas elétricas', 'Piloto ...</td>\n",
              "      <td>88078.64</td>\n",
              "    </tr>\n",
              "    <tr>\n",
              "      <th>Passat</th>\n",
              "      <td>Motor Diesel</td>\n",
              "      <td>1991</td>\n",
              "      <td>5712.0</td>\n",
              "      <td>False</td>\n",
              "      <td>['Central multimídia', 'Teto panorâmico', 'Fre...</td>\n",
              "      <td>106161.94</td>\n",
              "    </tr>\n",
              "    <tr>\n",
              "      <th>Crossfox</th>\n",
              "      <td>Motor Diesel V8</td>\n",
              "      <td>1990</td>\n",
              "      <td>37123.0</td>\n",
              "      <td>False</td>\n",
              "      <td>['Piloto automático', 'Controle de estabilidad...</td>\n",
              "      <td>72832.16</td>\n",
              "    </tr>\n",
              "    <tr>\n",
              "      <th>DS5</th>\n",
              "      <td>Motor 2.4 Turbo</td>\n",
              "      <td>2019</td>\n",
              "      <td>NaN</td>\n",
              "      <td>True</td>\n",
              "      <td>['Travas elétricas', '4 X 4', 'Vidros elétrico...</td>\n",
              "      <td>124549.07</td>\n",
              "    </tr>\n",
              "    <tr>\n",
              "      <th>Aston Martin DB4</th>\n",
              "      <td>Motor 2.4 Turbo</td>\n",
              "      <td>2006</td>\n",
              "      <td>25757.0</td>\n",
              "      <td>False</td>\n",
              "      <td>['Rodas de liga', '4 X 4', 'Central multimídia...</td>\n",
              "      <td>92612.10</td>\n",
              "    </tr>\n",
              "  </tbody>\n",
              "</table>\n",
              "</div>"
            ],
            "text/plain": [
              "                            Motor   Ano  Quilometragem  Zero_km  \\\n",
              "Nome                                                              \n",
              "Jetta Variant     Motor 4.0 Turbo  2003        44410.0    False   \n",
              "Passat               Motor Diesel  1991         5712.0    False   \n",
              "Crossfox          Motor Diesel V8  1990        37123.0    False   \n",
              "DS5               Motor 2.4 Turbo  2019            NaN     True   \n",
              "Aston Martin DB4  Motor 2.4 Turbo  2006        25757.0    False   \n",
              "\n",
              "                                                         Acessórios      Valor  \n",
              "Nome                                                                            \n",
              "Jetta Variant     ['Rodas de liga', 'Travas elétricas', 'Piloto ...   88078.64  \n",
              "Passat            ['Central multimídia', 'Teto panorâmico', 'Fre...  106161.94  \n",
              "Crossfox          ['Piloto automático', 'Controle de estabilidad...   72832.16  \n",
              "DS5               ['Travas elétricas', '4 X 4', 'Vidros elétrico...  124549.07  \n",
              "Aston Martin DB4  ['Rodas de liga', '4 X 4', 'Central multimídia...   92612.10  "
            ]
          },
          "execution_count": 247,
          "metadata": {},
          "output_type": "execute_result"
        }
      ],
      "source": [
        "df_externo.head()"
      ]
    },
    {
      "cell_type": "code",
      "execution_count": 248,
      "metadata": {
        "colab": {},
        "colab_type": "code",
        "id": "rO5T4h94D1BX",
        "scrolled": true
      },
      "outputs": [
        {
          "data": {
            "text/plain": [
              "Nome\n",
              "Jetta Variant                  Motor 4.0 Turbo\n",
              "Passat                            Motor Diesel\n",
              "Crossfox                       Motor Diesel V8\n",
              "DS5                            Motor 2.4 Turbo\n",
              "Aston Martin DB4               Motor 2.4 Turbo\n",
              "                                 ...          \n",
              "Phantom 2013                          Motor V8\n",
              "Cadillac Ciel concept                 Motor V8\n",
              "Classe GLK               Motor 5.0 V8 Bi-Turbo\n",
              "Aston Martin DB5                  Motor Diesel\n",
              "Macan                          Motor Diesel V6\n",
              "Name: Motor, Length: 258, dtype: object"
            ]
          },
          "execution_count": 248,
          "metadata": {},
          "output_type": "execute_result"
        }
      ],
      "source": [
        "df_externo.Motor"
      ]
    },
    {
      "cell_type": "code",
      "execution_count": 249,
      "metadata": {
        "colab": {},
        "colab_type": "code",
        "id": "STZ-l8oaD1BX"
      },
      "outputs": [
        {
          "data": {
            "text/plain": [
              "Nome\n",
              "Jetta Variant            False\n",
              "Passat                    True\n",
              "Crossfox                 False\n",
              "DS5                      False\n",
              "Aston Martin DB4         False\n",
              "                         ...  \n",
              "Phantom 2013             False\n",
              "Cadillac Ciel concept    False\n",
              "Classe GLK               False\n",
              "Aston Martin DB5          True\n",
              "Macan                    False\n",
              "Name: Motor, Length: 258, dtype: bool"
            ]
          },
          "execution_count": 249,
          "metadata": {},
          "output_type": "execute_result"
        }
      ],
      "source": [
        "df_externo.Motor == 'Motor Diesel'"
      ]
    },
    {
      "cell_type": "code",
      "execution_count": 253,
      "metadata": {
        "colab": {},
        "colab_type": "code",
        "id": "OZC8NAn6D1BX"
      },
      "outputs": [
        {
          "data": {
            "text/plain": [
              "pandas.core.series.Series"
            ]
          },
          "execution_count": 253,
          "metadata": {},
          "output_type": "execute_result"
        }
      ],
      "source": [
        "array_bool = df_externo.Motor == 'Motor Diesel'\n",
        "type(array_bool)"
      ]
    },
    {
      "cell_type": "code",
      "execution_count": 254,
      "metadata": {
        "colab": {},
        "colab_type": "code",
        "id": "OzXC2M40D1BY",
        "scrolled": true
      },
      "outputs": [
        {
          "data": {
            "text/html": [
              "<div>\n",
              "<style scoped>\n",
              "    .dataframe tbody tr th:only-of-type {\n",
              "        vertical-align: middle;\n",
              "    }\n",
              "\n",
              "    .dataframe tbody tr th {\n",
              "        vertical-align: top;\n",
              "    }\n",
              "\n",
              "    .dataframe thead th {\n",
              "        text-align: right;\n",
              "    }\n",
              "</style>\n",
              "<table border=\"1\" class=\"dataframe\">\n",
              "  <thead>\n",
              "    <tr style=\"text-align: right;\">\n",
              "      <th></th>\n",
              "      <th>Motor</th>\n",
              "      <th>Ano</th>\n",
              "      <th>Quilometragem</th>\n",
              "      <th>Zero_km</th>\n",
              "      <th>Acessórios</th>\n",
              "      <th>Valor</th>\n",
              "    </tr>\n",
              "    <tr>\n",
              "      <th>Nome</th>\n",
              "      <th></th>\n",
              "      <th></th>\n",
              "      <th></th>\n",
              "      <th></th>\n",
              "      <th></th>\n",
              "      <th></th>\n",
              "    </tr>\n",
              "  </thead>\n",
              "  <tbody>\n",
              "    <tr>\n",
              "      <th>Passat</th>\n",
              "      <td>Motor Diesel</td>\n",
              "      <td>1991</td>\n",
              "      <td>5712.0</td>\n",
              "      <td>False</td>\n",
              "      <td>['Central multimídia', 'Teto panorâmico', 'Fre...</td>\n",
              "      <td>106161.94</td>\n",
              "    </tr>\n",
              "    <tr>\n",
              "      <th>Effa Hafei Picape Baú</th>\n",
              "      <td>Motor Diesel</td>\n",
              "      <td>1991</td>\n",
              "      <td>102959.0</td>\n",
              "      <td>False</td>\n",
              "      <td>['Controle de estabilidade', 'Painel digital',...</td>\n",
              "      <td>125684.65</td>\n",
              "    </tr>\n",
              "    <tr>\n",
              "      <th>Sorento</th>\n",
              "      <td>Motor Diesel</td>\n",
              "      <td>2019</td>\n",
              "      <td>NaN</td>\n",
              "      <td>True</td>\n",
              "      <td>['Sensor de chuva', 'Câmera de estacionamento'...</td>\n",
              "      <td>81399.35</td>\n",
              "    </tr>\n",
              "    <tr>\n",
              "      <th>New Fiesta Hatch</th>\n",
              "      <td>Motor Diesel</td>\n",
              "      <td>2017</td>\n",
              "      <td>118895.0</td>\n",
              "      <td>False</td>\n",
              "      <td>['Sensor de estacionamento', 'Travas elétricas...</td>\n",
              "      <td>66007.16</td>\n",
              "    </tr>\n",
              "    <tr>\n",
              "      <th>Kangoo Express</th>\n",
              "      <td>Motor Diesel</td>\n",
              "      <td>2007</td>\n",
              "      <td>29132.0</td>\n",
              "      <td>False</td>\n",
              "      <td>['Bancos de couro', 'Câmbio automático', 'Pilo...</td>\n",
              "      <td>146716.91</td>\n",
              "    </tr>\n",
              "    <tr>\n",
              "      <th>...</th>\n",
              "      <td>...</td>\n",
              "      <td>...</td>\n",
              "      <td>...</td>\n",
              "      <td>...</td>\n",
              "      <td>...</td>\n",
              "      <td>...</td>\n",
              "    </tr>\n",
              "    <tr>\n",
              "      <th>Dodge Dakota</th>\n",
              "      <td>Motor Diesel</td>\n",
              "      <td>1993</td>\n",
              "      <td>71544.0</td>\n",
              "      <td>False</td>\n",
              "      <td>['Controle de tração', 'Sensor de estacionamen...</td>\n",
              "      <td>141083.35</td>\n",
              "    </tr>\n",
              "    <tr>\n",
              "      <th>i30 CW</th>\n",
              "      <td>Motor Diesel</td>\n",
              "      <td>2015</td>\n",
              "      <td>8497.0</td>\n",
              "      <td>False</td>\n",
              "      <td>['Sensor de chuva', 'Vidros elétricos', 'Contr...</td>\n",
              "      <td>73311.75</td>\n",
              "    </tr>\n",
              "    <tr>\n",
              "      <th>Série 7 Sedã</th>\n",
              "      <td>Motor Diesel</td>\n",
              "      <td>2019</td>\n",
              "      <td>NaN</td>\n",
              "      <td>True</td>\n",
              "      <td>['Vidros elétricos', 'Travas elétricas', 'Roda...</td>\n",
              "      <td>67539.79</td>\n",
              "    </tr>\n",
              "    <tr>\n",
              "      <th>V60</th>\n",
              "      <td>Motor Diesel</td>\n",
              "      <td>2004</td>\n",
              "      <td>91840.0</td>\n",
              "      <td>False</td>\n",
              "      <td>['Rodas de liga', 'Sensor crepuscular', 'Ar co...</td>\n",
              "      <td>114728.74</td>\n",
              "    </tr>\n",
              "    <tr>\n",
              "      <th>Aston Martin DB5</th>\n",
              "      <td>Motor Diesel</td>\n",
              "      <td>1996</td>\n",
              "      <td>7685.0</td>\n",
              "      <td>False</td>\n",
              "      <td>['Ar condicionado', '4 X 4', 'Câmbio automátic...</td>\n",
              "      <td>122110.90</td>\n",
              "    </tr>\n",
              "  </tbody>\n",
              "</table>\n",
              "<p>26 rows × 6 columns</p>\n",
              "</div>"
            ],
            "text/plain": [
              "                              Motor   Ano  Quilometragem  Zero_km  \\\n",
              "Nome                                                                \n",
              "Passat                 Motor Diesel  1991         5712.0    False   \n",
              "Effa Hafei Picape Baú  Motor Diesel  1991       102959.0    False   \n",
              "Sorento                Motor Diesel  2019            NaN     True   \n",
              "New Fiesta Hatch       Motor Diesel  2017       118895.0    False   \n",
              "Kangoo Express         Motor Diesel  2007        29132.0    False   \n",
              "...                             ...   ...            ...      ...   \n",
              "Dodge Dakota           Motor Diesel  1993        71544.0    False   \n",
              "i30 CW                 Motor Diesel  2015         8497.0    False   \n",
              "Série 7 Sedã           Motor Diesel  2019            NaN     True   \n",
              "V60                    Motor Diesel  2004        91840.0    False   \n",
              "Aston Martin DB5       Motor Diesel  1996         7685.0    False   \n",
              "\n",
              "                                                              Acessórios  \\\n",
              "Nome                                                                       \n",
              "Passat                 ['Central multimídia', 'Teto panorâmico', 'Fre...   \n",
              "Effa Hafei Picape Baú  ['Controle de estabilidade', 'Painel digital',...   \n",
              "Sorento                ['Sensor de chuva', 'Câmera de estacionamento'...   \n",
              "New Fiesta Hatch       ['Sensor de estacionamento', 'Travas elétricas...   \n",
              "Kangoo Express         ['Bancos de couro', 'Câmbio automático', 'Pilo...   \n",
              "...                                                                  ...   \n",
              "Dodge Dakota           ['Controle de tração', 'Sensor de estacionamen...   \n",
              "i30 CW                 ['Sensor de chuva', 'Vidros elétricos', 'Contr...   \n",
              "Série 7 Sedã           ['Vidros elétricos', 'Travas elétricas', 'Roda...   \n",
              "V60                    ['Rodas de liga', 'Sensor crepuscular', 'Ar co...   \n",
              "Aston Martin DB5       ['Ar condicionado', '4 X 4', 'Câmbio automátic...   \n",
              "\n",
              "                           Valor  \n",
              "Nome                              \n",
              "Passat                 106161.94  \n",
              "Effa Hafei Picape Baú  125684.65  \n",
              "Sorento                 81399.35  \n",
              "New Fiesta Hatch        66007.16  \n",
              "Kangoo Express         146716.91  \n",
              "...                          ...  \n",
              "Dodge Dakota           141083.35  \n",
              "i30 CW                  73311.75  \n",
              "Série 7 Sedã            67539.79  \n",
              "V60                    114728.74  \n",
              "Aston Martin DB5       122110.90  \n",
              "\n",
              "[26 rows x 6 columns]"
            ]
          },
          "execution_count": 254,
          "metadata": {},
          "output_type": "execute_result"
        }
      ],
      "source": [
        "df_externo[array_bool]"
      ]
    },
    {
      "cell_type": "code",
      "execution_count": 257,
      "metadata": {},
      "outputs": [
        {
          "data": {
            "text/plain": [
              "Nome\n",
              "Jetta Variant            False\n",
              "Passat                   False\n",
              "Crossfox                 False\n",
              "DS5                      False\n",
              "Aston Martin DB4         False\n",
              "                         ...  \n",
              "Phantom 2013             False\n",
              "Cadillac Ciel concept    False\n",
              "Classe GLK               False\n",
              "Aston Martin DB5         False\n",
              "Macan                    False\n",
              "Length: 258, dtype: bool"
            ]
          },
          "execution_count": 257,
          "metadata": {},
          "output_type": "execute_result"
        }
      ],
      "source": [
        "# and usa-se &\n",
        "# or usa-se |\n",
        "(df_externo.Motor == 'Motor Diesel') & (df_externo.Zero_km == True)"
      ]
    },
    {
      "cell_type": "code",
      "execution_count": 256,
      "metadata": {},
      "outputs": [
        {
          "data": {
            "text/html": [
              "<div>\n",
              "<style scoped>\n",
              "    .dataframe tbody tr th:only-of-type {\n",
              "        vertical-align: middle;\n",
              "    }\n",
              "\n",
              "    .dataframe tbody tr th {\n",
              "        vertical-align: top;\n",
              "    }\n",
              "\n",
              "    .dataframe thead th {\n",
              "        text-align: right;\n",
              "    }\n",
              "</style>\n",
              "<table border=\"1\" class=\"dataframe\">\n",
              "  <thead>\n",
              "    <tr style=\"text-align: right;\">\n",
              "      <th></th>\n",
              "      <th>Motor</th>\n",
              "      <th>Ano</th>\n",
              "      <th>Quilometragem</th>\n",
              "      <th>Zero_km</th>\n",
              "      <th>Acessórios</th>\n",
              "      <th>Valor</th>\n",
              "    </tr>\n",
              "    <tr>\n",
              "      <th>Nome</th>\n",
              "      <th></th>\n",
              "      <th></th>\n",
              "      <th></th>\n",
              "      <th></th>\n",
              "      <th></th>\n",
              "      <th></th>\n",
              "    </tr>\n",
              "  </thead>\n",
              "  <tbody>\n",
              "    <tr>\n",
              "      <th>Sorento</th>\n",
              "      <td>Motor Diesel</td>\n",
              "      <td>2019</td>\n",
              "      <td>NaN</td>\n",
              "      <td>True</td>\n",
              "      <td>['Sensor de chuva', 'Câmera de estacionamento'...</td>\n",
              "      <td>81399.35</td>\n",
              "    </tr>\n",
              "    <tr>\n",
              "      <th>Cielo Hatch</th>\n",
              "      <td>Motor Diesel</td>\n",
              "      <td>2019</td>\n",
              "      <td>NaN</td>\n",
              "      <td>True</td>\n",
              "      <td>['Painel digital', 'Central multimídia', 'Câme...</td>\n",
              "      <td>145197.70</td>\n",
              "    </tr>\n",
              "    <tr>\n",
              "      <th>Camry</th>\n",
              "      <td>Motor Diesel</td>\n",
              "      <td>2019</td>\n",
              "      <td>NaN</td>\n",
              "      <td>True</td>\n",
              "      <td>['Travas elétricas', 'Rodas de liga', 'Sensor ...</td>\n",
              "      <td>138597.27</td>\n",
              "    </tr>\n",
              "    <tr>\n",
              "      <th>Aston Martin Virage</th>\n",
              "      <td>Motor Diesel</td>\n",
              "      <td>2019</td>\n",
              "      <td>NaN</td>\n",
              "      <td>True</td>\n",
              "      <td>['Travas elétricas', 'Controle de tração', 'Câ...</td>\n",
              "      <td>97290.18</td>\n",
              "    </tr>\n",
              "    <tr>\n",
              "      <th>Série 7 Sedã</th>\n",
              "      <td>Motor Diesel</td>\n",
              "      <td>2019</td>\n",
              "      <td>NaN</td>\n",
              "      <td>True</td>\n",
              "      <td>['Vidros elétricos', 'Travas elétricas', 'Roda...</td>\n",
              "      <td>67539.79</td>\n",
              "    </tr>\n",
              "  </tbody>\n",
              "</table>\n",
              "</div>"
            ],
            "text/plain": [
              "                            Motor   Ano  Quilometragem  Zero_km  \\\n",
              "Nome                                                              \n",
              "Sorento              Motor Diesel  2019            NaN     True   \n",
              "Cielo Hatch          Motor Diesel  2019            NaN     True   \n",
              "Camry                Motor Diesel  2019            NaN     True   \n",
              "Aston Martin Virage  Motor Diesel  2019            NaN     True   \n",
              "Série 7 Sedã         Motor Diesel  2019            NaN     True   \n",
              "\n",
              "                                                            Acessórios  \\\n",
              "Nome                                                                     \n",
              "Sorento              ['Sensor de chuva', 'Câmera de estacionamento'...   \n",
              "Cielo Hatch          ['Painel digital', 'Central multimídia', 'Câme...   \n",
              "Camry                ['Travas elétricas', 'Rodas de liga', 'Sensor ...   \n",
              "Aston Martin Virage  ['Travas elétricas', 'Controle de tração', 'Câ...   \n",
              "Série 7 Sedã         ['Vidros elétricos', 'Travas elétricas', 'Roda...   \n",
              "\n",
              "                         Valor  \n",
              "Nome                            \n",
              "Sorento               81399.35  \n",
              "Cielo Hatch          145197.70  \n",
              "Camry                138597.27  \n",
              "Aston Martin Virage   97290.18  \n",
              "Série 7 Sedã          67539.79  "
            ]
          },
          "execution_count": 256,
          "metadata": {},
          "output_type": "execute_result"
        }
      ],
      "source": [
        "df_externo[(df_externo.Motor == 'Motor Diesel') & (df_externo.Zero_km == True)]"
      ]
    },
    {
      "attachments": {},
      "cell_type": "markdown",
      "metadata": {
        "colab_type": "text",
        "id": "_XKXcWO-D1BY"
      },
      "source": [
        "### Utilizando o método query\n",
        "\n",
        " O método query() aceita as duas formas de utilização dos operadores lógicos. No caso do operador lógico OU, temos o or e o caractere |. Para o operador lógico E, temos o and e o caractere &."
      ]
    },
    {
      "cell_type": "code",
      "execution_count": 260,
      "metadata": {
        "colab": {},
        "colab_type": "code",
        "id": "AB9JirSoD1BY"
      },
      "outputs": [
        {
          "data": {
            "text/html": [
              "<div>\n",
              "<style scoped>\n",
              "    .dataframe tbody tr th:only-of-type {\n",
              "        vertical-align: middle;\n",
              "    }\n",
              "\n",
              "    .dataframe tbody tr th {\n",
              "        vertical-align: top;\n",
              "    }\n",
              "\n",
              "    .dataframe thead th {\n",
              "        text-align: right;\n",
              "    }\n",
              "</style>\n",
              "<table border=\"1\" class=\"dataframe\">\n",
              "  <thead>\n",
              "    <tr style=\"text-align: right;\">\n",
              "      <th></th>\n",
              "      <th>Motor</th>\n",
              "      <th>Ano</th>\n",
              "      <th>Quilometragem</th>\n",
              "      <th>Zero_km</th>\n",
              "      <th>Acessórios</th>\n",
              "      <th>Valor</th>\n",
              "    </tr>\n",
              "    <tr>\n",
              "      <th>Nome</th>\n",
              "      <th></th>\n",
              "      <th></th>\n",
              "      <th></th>\n",
              "      <th></th>\n",
              "      <th></th>\n",
              "      <th></th>\n",
              "    </tr>\n",
              "  </thead>\n",
              "  <tbody>\n",
              "    <tr>\n",
              "      <th>Sorento</th>\n",
              "      <td>Motor Diesel</td>\n",
              "      <td>2019</td>\n",
              "      <td>NaN</td>\n",
              "      <td>True</td>\n",
              "      <td>['Sensor de chuva', 'Câmera de estacionamento'...</td>\n",
              "      <td>81399.35</td>\n",
              "    </tr>\n",
              "    <tr>\n",
              "      <th>Cielo Hatch</th>\n",
              "      <td>Motor Diesel</td>\n",
              "      <td>2019</td>\n",
              "      <td>NaN</td>\n",
              "      <td>True</td>\n",
              "      <td>['Painel digital', 'Central multimídia', 'Câme...</td>\n",
              "      <td>145197.70</td>\n",
              "    </tr>\n",
              "    <tr>\n",
              "      <th>Camry</th>\n",
              "      <td>Motor Diesel</td>\n",
              "      <td>2019</td>\n",
              "      <td>NaN</td>\n",
              "      <td>True</td>\n",
              "      <td>['Travas elétricas', 'Rodas de liga', 'Sensor ...</td>\n",
              "      <td>138597.27</td>\n",
              "    </tr>\n",
              "    <tr>\n",
              "      <th>Aston Martin Virage</th>\n",
              "      <td>Motor Diesel</td>\n",
              "      <td>2019</td>\n",
              "      <td>NaN</td>\n",
              "      <td>True</td>\n",
              "      <td>['Travas elétricas', 'Controle de tração', 'Câ...</td>\n",
              "      <td>97290.18</td>\n",
              "    </tr>\n",
              "    <tr>\n",
              "      <th>Série 7 Sedã</th>\n",
              "      <td>Motor Diesel</td>\n",
              "      <td>2019</td>\n",
              "      <td>NaN</td>\n",
              "      <td>True</td>\n",
              "      <td>['Vidros elétricos', 'Travas elétricas', 'Roda...</td>\n",
              "      <td>67539.79</td>\n",
              "    </tr>\n",
              "  </tbody>\n",
              "</table>\n",
              "</div>"
            ],
            "text/plain": [
              "                            Motor   Ano  Quilometragem  Zero_km  \\\n",
              "Nome                                                              \n",
              "Sorento              Motor Diesel  2019            NaN     True   \n",
              "Cielo Hatch          Motor Diesel  2019            NaN     True   \n",
              "Camry                Motor Diesel  2019            NaN     True   \n",
              "Aston Martin Virage  Motor Diesel  2019            NaN     True   \n",
              "Série 7 Sedã         Motor Diesel  2019            NaN     True   \n",
              "\n",
              "                                                            Acessórios  \\\n",
              "Nome                                                                     \n",
              "Sorento              ['Sensor de chuva', 'Câmera de estacionamento'...   \n",
              "Cielo Hatch          ['Painel digital', 'Central multimídia', 'Câme...   \n",
              "Camry                ['Travas elétricas', 'Rodas de liga', 'Sensor ...   \n",
              "Aston Martin Virage  ['Travas elétricas', 'Controle de tração', 'Câ...   \n",
              "Série 7 Sedã         ['Vidros elétricos', 'Travas elétricas', 'Roda...   \n",
              "\n",
              "                         Valor  \n",
              "Nome                            \n",
              "Sorento               81399.35  \n",
              "Cielo Hatch          145197.70  \n",
              "Camry                138597.27  \n",
              "Aston Martin Virage   97290.18  \n",
              "Série 7 Sedã          67539.79  "
            ]
          },
          "execution_count": 260,
          "metadata": {},
          "output_type": "execute_result"
        }
      ],
      "source": [
        "df_externo.query('Motor == \"Motor Diesel\" and Zero_km == True')"
      ]
    },
    {
      "cell_type": "markdown",
      "metadata": {
        "colab_type": "text",
        "id": "ciJ4dw_FD1BZ"
      },
      "source": [
        "# 5.4 Iterando com DataFrames"
      ]
    },
    {
      "cell_type": "code",
      "execution_count": 261,
      "metadata": {
        "colab": {},
        "colab_type": "code",
        "id": "TKAB-g5KD1BZ"
      },
      "outputs": [
        {
          "data": {
            "text/html": [
              "<div>\n",
              "<style scoped>\n",
              "    .dataframe tbody tr th:only-of-type {\n",
              "        vertical-align: middle;\n",
              "    }\n",
              "\n",
              "    .dataframe tbody tr th {\n",
              "        vertical-align: top;\n",
              "    }\n",
              "\n",
              "    .dataframe thead th {\n",
              "        text-align: right;\n",
              "    }\n",
              "</style>\n",
              "<table border=\"1\" class=\"dataframe\">\n",
              "  <thead>\n",
              "    <tr style=\"text-align: right;\">\n",
              "      <th></th>\n",
              "      <th>Motor</th>\n",
              "      <th>Ano</th>\n",
              "      <th>Quilometragem</th>\n",
              "      <th>Zero_km</th>\n",
              "      <th>Acessórios</th>\n",
              "      <th>Valor</th>\n",
              "    </tr>\n",
              "    <tr>\n",
              "      <th>Nome</th>\n",
              "      <th></th>\n",
              "      <th></th>\n",
              "      <th></th>\n",
              "      <th></th>\n",
              "      <th></th>\n",
              "      <th></th>\n",
              "    </tr>\n",
              "  </thead>\n",
              "  <tbody>\n",
              "    <tr>\n",
              "      <th>Jetta Variant</th>\n",
              "      <td>Motor 4.0 Turbo</td>\n",
              "      <td>2003</td>\n",
              "      <td>44410.0</td>\n",
              "      <td>False</td>\n",
              "      <td>['Rodas de liga', 'Travas elétricas', 'Piloto ...</td>\n",
              "      <td>88078.64</td>\n",
              "    </tr>\n",
              "    <tr>\n",
              "      <th>Passat</th>\n",
              "      <td>Motor Diesel</td>\n",
              "      <td>1991</td>\n",
              "      <td>5712.0</td>\n",
              "      <td>False</td>\n",
              "      <td>['Central multimídia', 'Teto panorâmico', 'Fre...</td>\n",
              "      <td>106161.94</td>\n",
              "    </tr>\n",
              "    <tr>\n",
              "      <th>Crossfox</th>\n",
              "      <td>Motor Diesel V8</td>\n",
              "      <td>1990</td>\n",
              "      <td>37123.0</td>\n",
              "      <td>False</td>\n",
              "      <td>['Piloto automático', 'Controle de estabilidad...</td>\n",
              "      <td>72832.16</td>\n",
              "    </tr>\n",
              "    <tr>\n",
              "      <th>DS5</th>\n",
              "      <td>Motor 2.4 Turbo</td>\n",
              "      <td>2019</td>\n",
              "      <td>NaN</td>\n",
              "      <td>True</td>\n",
              "      <td>['Travas elétricas', '4 X 4', 'Vidros elétrico...</td>\n",
              "      <td>124549.07</td>\n",
              "    </tr>\n",
              "    <tr>\n",
              "      <th>Aston Martin DB4</th>\n",
              "      <td>Motor 2.4 Turbo</td>\n",
              "      <td>2006</td>\n",
              "      <td>25757.0</td>\n",
              "      <td>False</td>\n",
              "      <td>['Rodas de liga', '4 X 4', 'Central multimídia...</td>\n",
              "      <td>92612.10</td>\n",
              "    </tr>\n",
              "  </tbody>\n",
              "</table>\n",
              "</div>"
            ],
            "text/plain": [
              "                            Motor   Ano  Quilometragem  Zero_km  \\\n",
              "Nome                                                              \n",
              "Jetta Variant     Motor 4.0 Turbo  2003        44410.0    False   \n",
              "Passat               Motor Diesel  1991         5712.0    False   \n",
              "Crossfox          Motor Diesel V8  1990        37123.0    False   \n",
              "DS5               Motor 2.4 Turbo  2019            NaN     True   \n",
              "Aston Martin DB4  Motor 2.4 Turbo  2006        25757.0    False   \n",
              "\n",
              "                                                         Acessórios      Valor  \n",
              "Nome                                                                            \n",
              "Jetta Variant     ['Rodas de liga', 'Travas elétricas', 'Piloto ...   88078.64  \n",
              "Passat            ['Central multimídia', 'Teto panorâmico', 'Fre...  106161.94  \n",
              "Crossfox          ['Piloto automático', 'Controle de estabilidad...   72832.16  \n",
              "DS5               ['Travas elétricas', '4 X 4', 'Vidros elétrico...  124549.07  \n",
              "Aston Martin DB4  ['Rodas de liga', '4 X 4', 'Central multimídia...   92612.10  "
            ]
          },
          "execution_count": 261,
          "metadata": {},
          "output_type": "execute_result"
        }
      ],
      "source": [
        "df_externo.head()"
      ]
    },
    {
      "cell_type": "code",
      "execution_count": 262,
      "metadata": {
        "colab": {},
        "colab_type": "code",
        "id": "eFTNtPRWD1Ba"
      },
      "outputs": [
        {
          "name": "stdout",
          "output_type": "stream",
          "text": [
            "Motor\n",
            "Ano\n",
            "Quilometragem\n",
            "Zero_km\n",
            "Acessórios\n",
            "Valor\n"
          ]
        }
      ],
      "source": [
        "for item in df_externo:\n",
        "    print(item)"
      ]
    },
    {
      "cell_type": "code",
      "execution_count": 264,
      "metadata": {},
      "outputs": [
        {
          "name": "stdout",
          "output_type": "stream",
          "text": [
            "indice Jetta Variant - valores Motor                                              Motor 4.0 Turbo\n",
            "Ano                                                           2003\n",
            "Quilometragem                                              44410.0\n",
            "Zero_km                                                      False\n",
            "Acessórios       ['Rodas de liga', 'Travas elétricas', 'Piloto ...\n",
            "Valor                                                     88078.64\n",
            "Name: Jetta Variant, dtype: object\n",
            "indice Passat - valores Motor                                                 Motor Diesel\n",
            "Ano                                                           1991\n",
            "Quilometragem                                               5712.0\n",
            "Zero_km                                                      False\n",
            "Acessórios       ['Central multimídia', 'Teto panorâmico', 'Fre...\n",
            "Valor                                                    106161.94\n",
            "Name: Passat, dtype: object\n",
            "indice Crossfox - valores Motor                                              Motor Diesel V8\n",
            "Ano                                                           1990\n",
            "Quilometragem                                              37123.0\n",
            "Zero_km                                                      False\n",
            "Acessórios       ['Piloto automático', 'Controle de estabilidad...\n",
            "Valor                                                     72832.16\n",
            "Name: Crossfox, dtype: object\n",
            "indice DS5 - valores Motor                                              Motor 2.4 Turbo\n",
            "Ano                                                           2019\n",
            "Quilometragem                                                  NaN\n",
            "Zero_km                                                       True\n",
            "Acessórios       ['Travas elétricas', '4 X 4', 'Vidros elétrico...\n",
            "Valor                                                    124549.07\n",
            "Name: DS5, dtype: object\n",
            "indice Aston Martin DB4 - valores Motor                                              Motor 2.4 Turbo\n",
            "Ano                                                           2006\n",
            "Quilometragem                                              25757.0\n",
            "Zero_km                                                      False\n",
            "Acessórios       ['Rodas de liga', '4 X 4', 'Central multimídia...\n",
            "Valor                                                      92612.1\n",
            "Name: Aston Martin DB4, dtype: object\n",
            "indice Palio Weekend - valores Motor                                                Motor 1.8 16v\n",
            "Ano                                                           2012\n",
            "Quilometragem                                              10728.0\n",
            "Zero_km                                                      False\n",
            "Acessórios       ['Sensor de estacionamento', 'Teto panorâmico'...\n",
            "Valor                                                     97497.73\n",
            "Name: Palio Weekend, dtype: object\n",
            "indice A5 - valores Motor                                              Motor 4.0 Turbo\n",
            "Ano                                                           2019\n",
            "Quilometragem                                                  NaN\n",
            "Zero_km                                                       True\n",
            "Acessórios       ['Câmbio automático', 'Câmera de estacionament...\n",
            "Valor                                                      56445.2\n",
            "Name: A5, dtype: object\n",
            "indice Série 3 Cabrio - valores Motor                                                 Motor 1.0 8v\n",
            "Ano                                                           2009\n",
            "Quilometragem                                              77599.0\n",
            "Zero_km                                                      False\n",
            "Acessórios       ['Controle de estabilidade', 'Sensor crepuscul...\n",
            "Valor                                                    112310.44\n",
            "Name: Série 3 Cabrio, dtype: object\n",
            "indice Dodge Jorney - valores Motor                                                Motor 3.0 32v\n",
            "Ano                                                           2010\n",
            "Quilometragem                                              99197.0\n",
            "Zero_km                                                      False\n",
            "Acessórios       ['Vidros elétricos', 'Piloto automático', 'Tet...\n",
            "Valor                                                    120716.27\n",
            "Name: Dodge Jorney, dtype: object\n",
            "indice Carens - valores Motor                                        Motor 5.0 V8 Bi-Turbo\n",
            "Ano                                                           2011\n",
            "Quilometragem                                              37978.0\n",
            "Zero_km                                                      False\n",
            "Acessórios       ['Ar condicionado', 'Painel digital', 'Central...\n",
            "Valor                                                     76566.49\n",
            "Name: Carens, dtype: object\n",
            "indice Ford Edge - valores Motor                                              Motor Diesel V6\n",
            "Ano                                                           2002\n",
            "Quilometragem                                              12859.0\n",
            "Zero_km                                                      False\n",
            "Acessórios       ['Sensor crepuscular', 'Rodas de liga', 'Teto ...\n",
            "Valor                                                     71647.59\n",
            "Name: Ford Edge, dtype: object\n",
            "indice Courier - valores Motor                                              Motor Diesel V8\n",
            "Ano                                                           2007\n",
            "Quilometragem                                               8052.0\n",
            "Zero_km                                                      False\n",
            "Acessórios       ['Central multimídia', '4 X 4', 'Piloto automá...\n",
            "Valor                                                     73919.53\n",
            "Name: Courier, dtype: object\n",
            "indice S-18 - valores Motor                                                     Motor V6\n",
            "Ano                                                           2001\n",
            "Quilometragem                                              89773.0\n",
            "Zero_km                                                      False\n",
            "Acessórios       ['Bancos de couro', 'Sensor de chuva', 'Rodas ...\n",
            "Valor                                                    112732.99\n",
            "Name: S-18, dtype: object\n",
            "indice J5 - valores Motor                                                     Motor V6\n",
            "Ano                                                           2019\n",
            "Quilometragem                                                  NaN\n",
            "Zero_km                                                       True\n",
            "Acessórios       ['Sensor crepuscular', 'Painel digital', 'Roda...\n",
            "Valor                                                     53183.38\n",
            "Name: J5, dtype: object\n",
            "indice F-Type Coupé - valores Motor                                        Motor 5.0 V8 Bi-Turbo\n",
            "Ano                                                           2009\n",
            "Quilometragem                                              41457.0\n",
            "Zero_km                                                      False\n",
            "Acessórios       ['Piloto automático', 'Sensor crepuscular', 'S...\n",
            "Valor                                                    127488.42\n",
            "Name: F-Type Coupé, dtype: object\n",
            "indice RAM - valores Motor                                              Motor Diesel V8\n",
            "Ano                                                           2016\n",
            "Quilometragem                                             115607.0\n",
            "Zero_km                                                      False\n",
            "Acessórios       ['Sensor crepuscular', 'Câmbio automático', 'S...\n",
            "Valor                                                      59910.4\n",
            "Name: RAM, dtype: object\n",
            "indice Série 1 - valores Motor                                                Motor 3.0 32v\n",
            "Ano                                                           2012\n",
            "Quilometragem                                              46449.0\n",
            "Zero_km                                                      False\n",
            "Acessórios       ['Teto panorâmico', 'Câmera de estacionamento'...\n",
            "Valor                                                     61118.59\n",
            "Name: Série 1, dtype: object\n",
            "indice A3 - valores Motor                                                 Motor 1.0 8v\n",
            "Ano                                                           2019\n",
            "Quilometragem                                                  NaN\n",
            "Zero_km                                                       True\n",
            "Acessórios       ['4 X 4', 'Piloto automático', 'Central multim...\n",
            "Valor                                                     88552.39\n",
            "Name: A3, dtype: object\n",
            "indice XC90 - valores Motor                                                 Motor 1.0 8v\n",
            "Ano                                                           2016\n",
            "Quilometragem                                              37086.0\n",
            "Zero_km                                                      False\n",
            "Acessórios       ['Travas elétricas', 'Vidros elétricos', 'Teto...\n",
            "Valor                                                     62696.69\n",
            "Name: XC90, dtype: object\n",
            "indice RS 3 Sportback - valores Motor                                                Motor 3.0 32v\n",
            "Ano                                                           2017\n",
            "Quilometragem                                              15173.0\n",
            "Zero_km                                                      False\n",
            "Acessórios       ['4 X 4', 'Piloto automático', 'Central multim...\n",
            "Valor                                                     101726.3\n",
            "Name: RS 3 Sportback, dtype: object\n",
            "indice Pajero Sport - valores Motor                                                 Motor 1.0 8v\n",
            "Ano                                                           2002\n",
            "Quilometragem                                             101193.0\n",
            "Zero_km                                                      False\n",
            "Acessórios       ['Sensor de estacionamento', 'Piloto automátic...\n",
            "Valor                                                    106147.38\n",
            "Name: Pajero Sport, dtype: object\n",
            "indice Série 1 M - valores Motor                                                     Motor V8\n",
            "Ano                                                           2019\n",
            "Quilometragem                                                  NaN\n",
            "Zero_km                                                       True\n",
            "Acessórios       ['Controle de estabilidade', 'Central multimíd...\n",
            "Valor                                                      94564.4\n",
            "Name: Série 1 M, dtype: object\n",
            "indice Lamborghini Obvious - valores Motor                                              Motor Diesel V6\n",
            "Ano                                                           1994\n",
            "Quilometragem                                              98079.0\n",
            "Zero_km                                                      False\n",
            "Acessórios       ['Rodas de liga', 'Câmbio automático', 'Travas...\n",
            "Valor                                                    133529.84\n",
            "Name: Lamborghini Obvious, dtype: object\n",
            "indice Effa Hafei Picape Baú - valores Motor                                                 Motor Diesel\n",
            "Ano                                                           1991\n",
            "Quilometragem                                             102959.0\n",
            "Zero_km                                                      False\n",
            "Acessórios       ['Controle de estabilidade', 'Painel digital',...\n",
            "Valor                                                    125684.65\n",
            "Name: Effa Hafei Picape Baú, dtype: object\n",
            "indice Lamborghini Murciélago - valores Motor                                        Motor 5.0 V8 Bi-Turbo\n",
            "Ano                                                           2019\n",
            "Quilometragem                                                  NaN\n",
            "Zero_km                                                       True\n",
            "Acessórios       ['Freios ABS', 'Câmbio automático', 'Ar condic...\n",
            "Valor                                                    121596.21\n",
            "Name: Lamborghini Murciélago, dtype: object\n",
            "indice Up! - valores Motor                                              Motor Diesel V6\n",
            "Ano                                                           2019\n",
            "Quilometragem                                                  NaN\n",
            "Zero_km                                                       True\n",
            "Acessórios       ['Sensor de estacionamento', 'Vidros elétricos...\n",
            "Valor                                                      71367.1\n",
            "Name: Up!, dtype: object\n",
            "indice Fiesta Rocam Sedan - valores Motor                                              Motor 4.0 Turbo\n",
            "Ano                                                           2016\n",
            "Quilometragem                                               5795.0\n",
            "Zero_km                                                      False\n",
            "Acessórios       ['Ar condicionado', 'Bancos de couro', 'Câmbio...\n",
            "Valor                                                     95347.75\n",
            "Name: Fiesta Rocam Sedan, dtype: object\n",
            "indice Sandero Stepway - valores Motor                                                Motor 3.0 32v\n",
            "Ano                                                           2019\n",
            "Quilometragem                                                  NaN\n",
            "Zero_km                                                       True\n",
            "Acessórios       ['Freios ABS', 'Ar condicionado', 'Teto panorâ...\n",
            "Valor                                                    105432.84\n",
            "Name: Sandero Stepway, dtype: object\n",
            "indice Cayman S - valores Motor                                                Motor 3.0 32v\n",
            "Ano                                                           2002\n",
            "Quilometragem                                              58848.0\n",
            "Zero_km                                                      False\n",
            "Acessórios       ['Câmbio automático', 'Sensor de estacionament...\n",
            "Valor                                                     57045.27\n",
            "Name: Cayman S, dtype: object\n",
            "indice V40 - valores Motor                                              Motor 4.0 Turbo\n",
            "Ano                                                           1991\n",
            "Quilometragem                                              94381.0\n",
            "Zero_km                                                      False\n",
            "Acessórios       ['Câmera de estacionamento', 'Sensor de estaci...\n",
            "Valor                                                     120432.7\n",
            "Name: V40, dtype: object\n",
            "indice Classe SLS AMG - valores Motor                                                 Motor 1.0 8v\n",
            "Ano                                                           1997\n",
            "Quilometragem                                              30163.0\n",
            "Zero_km                                                      False\n",
            "Acessórios       ['Sensor de estacionamento', 'Controle de esta...\n",
            "Valor                                                      70707.2\n",
            "Name: Classe SLS AMG, dtype: object\n",
            "indice Gol G4 - valores Motor                                                Motor 2.0 16v\n",
            "Ano                                                           1995\n",
            "Quilometragem                                              53332.0\n",
            "Zero_km                                                      False\n",
            "Acessórios       ['Sensor crepuscular', '4 X 4', 'Vidros elétri...\n",
            "Valor                                                     69105.18\n",
            "Name: Gol G4, dtype: object\n",
            "indice Linea - valores Motor                                                 Motor 1.0 8v\n",
            "Ano                                                           2018\n",
            "Quilometragem                                              17720.0\n",
            "Zero_km                                                      False\n",
            "Acessórios       ['Piloto automático', 'Painel digital', 'Vidro...\n",
            "Valor                                                     59358.69\n",
            "Name: Linea, dtype: object\n",
            "indice Ford F100 - valores Motor                                                Motor 2.0 16v\n",
            "Ano                                                           1991\n",
            "Quilometragem                                              33808.0\n",
            "Zero_km                                                      False\n",
            "Acessórios       ['Controle de tração', 'Sensor crepuscular', '...\n",
            "Valor                                                      65955.4\n",
            "Name: Ford F100, dtype: object\n",
            "indice J2 - valores Motor                                                     Motor V8\n",
            "Ano                                                           2014\n",
            "Quilometragem                                              90684.0\n",
            "Zero_km                                                      False\n",
            "Acessórios       ['Teto panorâmico', 'Sensor de estacionamento'...\n",
            "Valor                                                     60017.03\n",
            "Name: J2, dtype: object\n",
            "indice Aston Martin DBS - valores Motor                                                     Motor V8\n",
            "Ano                                                           1995\n",
            "Quilometragem                                              43975.0\n",
            "Zero_km                                                      False\n",
            "Acessórios       ['Teto panorâmico', 'Piloto automático', 'Ar c...\n",
            "Valor                                                    118909.52\n",
            "Name: Aston Martin DBS, dtype: object\n",
            "indice Pajero TR4 - valores Motor                                              Motor 2.4 Turbo\n",
            "Ano                                                           2019\n",
            "Quilometragem                                                  NaN\n",
            "Zero_km                                                       True\n",
            "Acessórios       ['Controle de tração', 'Bancos de couro', 'Câm...\n",
            "Valor                                                     51606.59\n",
            "Name: Pajero TR4, dtype: object\n",
            "indice Polo Sedan - valores Motor                                                     Motor V6\n",
            "Ano                                                           2019\n",
            "Quilometragem                                                  NaN\n",
            "Zero_km                                                       True\n",
            "Acessórios       ['Sensor de chuva', 'Sensor crepuscular', 'Ar ...\n",
            "Valor                                                    123281.87\n",
            "Name: Polo Sedan, dtype: object\n",
            "indice California - valores Motor                                                 Motor 1.0 8v\n",
            "Ano                                                           2009\n",
            "Quilometragem                                               5526.0\n",
            "Zero_km                                                      False\n",
            "Acessórios       ['Rodas de liga', 'Ar condicionado', 'Câmera d...\n",
            "Valor                                                     69770.18\n",
            "Name: California, dtype: object\n",
            "indice S60 - valores Motor                                              Motor 2.4 Turbo\n",
            "Ano                                                           2019\n",
            "Quilometragem                                                  NaN\n",
            "Zero_km                                                       True\n",
            "Acessórios       ['Teto panorâmico', 'Freios ABS', '4 X 4', 'Ar...\n",
            "Valor                                                    102609.54\n",
            "Name: S60, dtype: object\n",
            "indice Tucson - valores Motor                                                Motor 2.0 16v\n",
            "Ano                                                           2013\n",
            "Quilometragem                                              93415.0\n",
            "Zero_km                                                      False\n",
            "Acessórios       ['Vidros elétricos', 'Sensor crepuscular', 'Fr...\n",
            "Valor                                                     67997.19\n",
            "Name: Tucson, dtype: object\n",
            "indice HB20 - valores Motor                                                     Motor V6\n",
            "Ano                                                           2003\n",
            "Quilometragem                                              40762.0\n",
            "Zero_km                                                      False\n",
            "Acessórios       ['Sensor de chuva', 'Travas elétricas', 'Contr...\n",
            "Valor                                                    135235.29\n",
            "Name: HB20, dtype: object\n",
            "indice Optima - valores Motor                                                Motor 1.8 16v\n",
            "Ano                                                           2019\n",
            "Quilometragem                                                  NaN\n",
            "Zero_km                                                       True\n",
            "Acessórios       ['Central multimídia', 'Ar condicionado', 'Tet...\n",
            "Valor                                                     86641.34\n",
            "Name: Optima, dtype: object\n",
            "indice Logan - valores Motor                                              Motor 4.0 Turbo\n",
            "Ano                                                           2002\n",
            "Quilometragem                                              86302.0\n",
            "Zero_km                                                      False\n",
            "Acessórios       ['Câmera de estacionamento', 'Vidros elétricos...\n",
            "Valor                                                    136818.39\n",
            "Name: Logan, dtype: object\n",
            "indice Range Rover Vogue - valores Motor                                                 Motor 1.0 8v\n",
            "Ano                                                           2019\n",
            "Quilometragem                                                  NaN\n",
            "Zero_km                                                       True\n",
            "Acessórios       ['4 X 4', 'Vidros elétricos', 'Rodas de liga',...\n",
            "Valor                                                    117626.73\n",
            "Name: Range Rover Vogue, dtype: object\n",
            "indice Sonata - valores Motor                                        Motor 5.0 V8 Bi-Turbo\n",
            "Ano                                                           2002\n",
            "Quilometragem                                               9755.0\n",
            "Zero_km                                                      False\n",
            "Acessórios       ['Piloto automático', 'Ar condicionado', 'Vidr...\n",
            "Valor                                                      56208.7\n",
            "Name: Sonata, dtype: object\n",
            "indice Ford New Fiesta Sedan - valores Motor                                                Motor 3.0 32v\n",
            "Ano                                                           2004\n",
            "Quilometragem                                              69945.0\n",
            "Zero_km                                                      False\n",
            "Acessórios       ['Teto panorâmico', 'Painel digital', 'Ar cond...\n",
            "Valor                                                     84222.65\n",
            "Name: Ford New Fiesta Sedan, dtype: object\n",
            "indice Série 5 Gran Turismo - valores Motor                                              Motor 4.0 Turbo\n",
            "Ano                                                           2001\n",
            "Quilometragem                                               2395.0\n",
            "Zero_km                                                      False\n",
            "Acessórios       ['Controle de tração', 'Piloto automático', 'A...\n",
            "Valor                                                     90781.65\n",
            "Name: Série 5 Gran Turismo, dtype: object\n",
            "indice CR-V - valores Motor                                              Motor Diesel V8\n",
            "Ano                                                           2019\n",
            "Quilometragem                                                  NaN\n",
            "Zero_km                                                       True\n",
            "Acessórios       ['Câmbio automático', 'Central multimídia', 'V...\n",
            "Valor                                                      64701.1\n",
            "Name: CR-V, dtype: object\n",
            "indice Ford EcoSport - valores Motor                                                 Motor 1.0 8v\n",
            "Ano                                                           2003\n",
            "Quilometragem                                              80349.0\n",
            "Zero_km                                                      False\n",
            "Acessórios       ['Vidros elétricos', 'Piloto automático', 'Pai...\n",
            "Valor                                                    126350.49\n",
            "Name: Ford EcoSport, dtype: object\n",
            "indice Versa - valores Motor                                                Motor 3.0 32v\n",
            "Ano                                                           2009\n",
            "Quilometragem                                              85554.0\n",
            "Zero_km                                                      False\n",
            "Acessórios       ['Bancos de couro', 'Ar condicionado', 'Rodas ...\n",
            "Valor                                                    148152.89\n",
            "Name: Versa, dtype: object\n",
            "indice Classe E - valores Motor                                                 Motor 1.0 8v\n",
            "Ano                                                           2006\n",
            "Quilometragem                                              50496.0\n",
            "Zero_km                                                      False\n",
            "Acessórios       ['Freios ABS', 'Sensor de estacionamento', 'Ce...\n",
            "Valor                                                    132298.83\n",
            "Name: Classe E, dtype: object\n",
            "indice Carnival - valores Motor                                                     Motor V8\n",
            "Ano                                                           2000\n",
            "Quilometragem                                              67716.0\n",
            "Zero_km                                                      False\n",
            "Acessórios       ['Travas elétricas', 'Câmbio automático', 'Câm...\n",
            "Valor                                                    137627.63\n",
            "Name: Carnival, dtype: object\n",
            "indice Aston Martin V8 Vantage Roadster - valores Motor                                              Motor 2.4 Turbo\n",
            "Ano                                                           2006\n",
            "Quilometragem                                              93947.0\n",
            "Zero_km                                                      False\n",
            "Acessórios       ['Câmbio automático', 'Câmera de estacionament...\n",
            "Valor                                                     80422.71\n",
            "Name: Aston Martin V8 Vantage Roadster, dtype: object\n",
            "indice Hoggar - valores Motor                                        Motor 5.0 V8 Bi-Turbo\n",
            "Ano                                                           2010\n",
            "Quilometragem                                              35345.0\n",
            "Zero_km                                                      False\n",
            "Acessórios       ['Controle de estabilidade', 'Bancos de couro'...\n",
            "Valor                                                     56373.99\n",
            "Name: Hoggar, dtype: object\n",
            "indice A1 - valores Motor                                        Motor 5.0 V8 Bi-Turbo\n",
            "Ano                                                           1994\n",
            "Quilometragem                                              81007.0\n",
            "Zero_km                                                      False\n",
            "Acessórios       ['Painel digital', 'Câmbio automático', 'Câmer...\n",
            "Valor                                                     70846.03\n",
            "Name: A1, dtype: object\n",
            "indice Aston Martin DB7 Vantage - valores Motor                                                     Motor V6\n",
            "Ano                                                           2007\n",
            "Quilometragem                                             119513.0\n",
            "Zero_km                                                      False\n",
            "Acessórios       ['Sensor crepuscular', 'Piloto automático', 'T...\n",
            "Valor                                                    128694.23\n",
            "Name: Aston Martin DB7 Vantage, dtype: object\n",
            "indice CLA - valores Motor                                                 Motor 1.0 8v\n",
            "Ano                                                           2019\n",
            "Quilometragem                                                  NaN\n",
            "Zero_km                                                       True\n",
            "Acessórios       ['Central multimídia', 'Sensor de chuva', 'Con...\n",
            "Valor                                                    133329.19\n",
            "Name: CLA, dtype: object\n",
            "indice Accord - valores Motor                                                     Motor V8\n",
            "Ano                                                           2019\n",
            "Quilometragem                                                  NaN\n",
            "Zero_km                                                       True\n",
            "Acessórios       ['Sensor de estacionamento', 'Ar condicionado'...\n",
            "Valor                                                    131961.43\n",
            "Name: Accord, dtype: object\n",
            "indice EXTRA 103EX - valores Motor                                                Motor 2.0 16v\n",
            "Ano                                                           2019\n",
            "Quilometragem                                                  NaN\n",
            "Zero_km                                                       True\n",
            "Acessórios       ['Sensor de estacionamento', 'Central multimíd...\n",
            "Valor                                                    112033.27\n",
            "Name: EXTRA 103EX, dtype: object\n",
            "indice Sorento - valores Motor                                                 Motor Diesel\n",
            "Ano                                                           2019\n",
            "Quilometragem                                                  NaN\n",
            "Zero_km                                                       True\n",
            "Acessórios       ['Sensor de chuva', 'Câmera de estacionamento'...\n",
            "Valor                                                     81399.35\n",
            "Name: Sorento, dtype: object\n",
            "indice Tiggo - valores Motor                                                Motor 3.0 32v\n",
            "Ano                                                           2019\n",
            "Quilometragem                                                  NaN\n",
            "Zero_km                                                       True\n",
            "Acessórios       ['Câmera de estacionamento', 'Freios ABS', 'Pi...\n",
            "Valor                                                      97163.1\n",
            "Name: Tiggo, dtype: object\n",
            "indice New Fiesta Hatch - valores Motor                                                 Motor Diesel\n",
            "Ano                                                           2017\n",
            "Quilometragem                                             118895.0\n",
            "Zero_km                                                      False\n",
            "Acessórios       ['Sensor de estacionamento', 'Travas elétricas...\n",
            "Valor                                                     66007.16\n",
            "Name: New Fiesta Hatch, dtype: object\n",
            "indice Jeep Renegade - valores Motor                                        Motor 5.0 V8 Bi-Turbo\n",
            "Ano                                                           2011\n",
            "Quilometragem                                              48509.0\n",
            "Zero_km                                                      False\n",
            "Acessórios       ['Vidros elétricos', 'Teto panorâmico', 'Banco...\n",
            "Valor                                                    128776.22\n",
            "Name: Jeep Renegade, dtype: object\n",
            "indice Lamborghini Ankonian - valores Motor                                                Motor 2.0 16v\n",
            "Ano                                                           2001\n",
            "Quilometragem                                             100912.0\n",
            "Zero_km                                                      False\n",
            "Acessórios       ['Bancos de couro', 'Câmera de estacionamento'...\n",
            "Valor                                                    142623.02\n",
            "Name: Lamborghini Ankonian, dtype: object\n",
            "indice Space Cross - valores Motor                                        Motor 5.0 V8 Bi-Turbo\n",
            "Ano                                                           1996\n",
            "Quilometragem                                              95649.0\n",
            "Zero_km                                                      False\n",
            "Acessórios       ['Teto panorâmico', 'Vidros elétricos', 'Senso...\n",
            "Valor                                                    136930.13\n",
            "Name: Space Cross, dtype: object\n",
            "indice Touareg - valores Motor                                                     Motor V8\n",
            "Ano                                                           2019\n",
            "Quilometragem                                                  NaN\n",
            "Zero_km                                                       True\n",
            "Acessórios       ['Controle de estabilidade', 'Piloto automátic...\n",
            "Valor                                                     66526.61\n",
            "Name: Touareg, dtype: object\n",
            "indice Classe M - valores Motor                                                 Motor 1.0 8v\n",
            "Ano                                                           1994\n",
            "Quilometragem                                              90495.0\n",
            "Zero_km                                                      False\n",
            "Acessórios       ['Central multimídia', 'Bancos de couro', 'Rod...\n",
            "Valor                                                    114154.87\n",
            "Name: Classe M, dtype: object\n",
            "indice Lancer Evolution X - valores Motor                                              Motor Diesel V6\n",
            "Ano                                                           2019\n",
            "Quilometragem                                                  NaN\n",
            "Zero_km                                                       True\n",
            "Acessórios       ['Vidros elétricos', 'Câmbio automático', 'Con...\n",
            "Valor                                                    142392.75\n",
            "Name: Lancer Evolution X, dtype: object\n",
            "indice Kangoo Express - valores Motor                                                 Motor Diesel\n",
            "Ano                                                           2007\n",
            "Quilometragem                                              29132.0\n",
            "Zero_km                                                      False\n",
            "Acessórios       ['Bancos de couro', 'Câmbio automático', 'Pilo...\n",
            "Valor                                                    146716.91\n",
            "Name: Kangoo Express, dtype: object\n",
            "indice SW4 - valores Motor                                              Motor Diesel V6\n",
            "Ano                                                           1994\n",
            "Quilometragem                                              23802.0\n",
            "Zero_km                                                      False\n",
            "Acessórios       ['Sensor de chuva', 'Bancos de couro', 'Contro...\n",
            "Valor                                                    122485.68\n",
            "Name: SW4, dtype: object\n",
            "indice Cadillac ELR - valores Motor                                                 Motor 1.0 8v\n",
            "Ano                                                           2007\n",
            "Quilometragem                                              84992.0\n",
            "Zero_km                                                      False\n",
            "Acessórios       ['Sensor crepuscular', 'Travas elétricas', 'Te...\n",
            "Valor                                                     97951.03\n",
            "Name: Cadillac ELR, dtype: object\n",
            "indice Doblò - valores Motor                                                Motor 1.8 16v\n",
            "Ano                                                           1997\n",
            "Quilometragem                                              54395.0\n",
            "Zero_km                                                      False\n",
            "Acessórios       ['Câmera de estacionamento', 'Teto panorâmico'...\n",
            "Valor                                                     78283.49\n",
            "Name: Doblò, dtype: object\n",
            "indice Lamborghini Egoista - valores Motor                                                Motor 3.0 32v\n",
            "Ano                                                           2006\n",
            "Quilometragem                                              26731.0\n",
            "Zero_km                                                      False\n",
            "Acessórios       ['Rodas de liga', 'Controle de tração', 'Centr...\n",
            "Valor                                                     83434.04\n",
            "Name: Lamborghini Egoista, dtype: object\n",
            "indice Fit - valores Motor                                                 Motor Diesel\n",
            "Ano                                                           2013\n",
            "Quilometragem                                              44329.0\n",
            "Zero_km                                                      False\n",
            "Acessórios       ['Freios ABS', 'Câmera de estacionamento', 'Câ...\n",
            "Valor                                                     77836.23\n",
            "Name: Fit, dtype: object\n",
            "indice C5 - valores Motor                                                Motor 2.0 16v\n",
            "Ano                                                           1994\n",
            "Quilometragem                                             118236.0\n",
            "Zero_km                                                      False\n",
            "Acessórios       ['Painel digital', 'Teto panorâmico', 'Piloto ...\n",
            "Valor                                                     60813.92\n",
            "Name: C5, dtype: object\n",
            "indice Celer Hatch - valores Motor                                                     Motor V8\n",
            "Ano                                                           2008\n",
            "Quilometragem                                             113808.0\n",
            "Zero_km                                                      False\n",
            "Acessórios       ['Controle de estabilidade', 'Câmbio automátic...\n",
            "Valor                                                     91353.86\n",
            "Name: Celer Hatch, dtype: object\n",
            "indice HB20S - valores Motor                                                     Motor V8\n",
            "Ano                                                           2008\n",
            "Quilometragem                                                610.0\n",
            "Zero_km                                                      False\n",
            "Acessórios       ['Teto panorâmico', 'Rodas de liga', 'Travas e...\n",
            "Valor                                                    116281.21\n",
            "Name: HB20S, dtype: object\n",
            "indice Cielo Hatch - valores Motor                                                 Motor Diesel\n",
            "Ano                                                           2019\n",
            "Quilometragem                                                  NaN\n",
            "Zero_km                                                       True\n",
            "Acessórios       ['Painel digital', 'Central multimídia', 'Câme...\n",
            "Valor                                                     145197.7\n",
            "Name: Cielo Hatch, dtype: object\n",
            "indice Livina - valores Motor                                                Motor 2.0 16v\n",
            "Ano                                                           2019\n",
            "Quilometragem                                                  NaN\n",
            "Zero_km                                                       True\n",
            "Acessórios       ['Sensor crepuscular', 'Câmera de estacionamen...\n",
            "Valor                                                      50742.1\n",
            "Name: Livina, dtype: object\n",
            "indice Ducato - valores Motor                                        Motor 5.0 V8 Bi-Turbo\n",
            "Ano                                                           1999\n",
            "Quilometragem                                              12887.0\n",
            "Zero_km                                                      False\n",
            "Acessórios       ['Sensor de chuva', 'Painel digital', 'Sensor ...\n",
            "Valor                                                     73033.53\n",
            "Name: Ducato, dtype: object\n",
            "indice March - valores Motor                                                     Motor V6\n",
            "Ano                                                           2007\n",
            "Quilometragem                                              79607.0\n",
            "Zero_km                                                      False\n",
            "Acessórios       ['Bancos de couro', 'Piloto automático', 'Sens...\n",
            "Valor                                                     54332.87\n",
            "Name: March, dtype: object\n",
            "indice Cadillac XTS sedan - valores Motor                                              Motor Diesel V6\n",
            "Ano                                                           1993\n",
            "Quilometragem                                              90924.0\n",
            "Zero_km                                                      False\n",
            "Acessórios       ['Ar condicionado', 'Câmbio automático', 'Sens...\n",
            "Valor                                                     52207.45\n",
            "Name: Cadillac XTS sedan, dtype: object\n",
            "indice Lamborghini Centenario - valores Motor                                                     Motor V6\n",
            "Ano                                                           1995\n",
            "Quilometragem                                              42733.0\n",
            "Zero_km                                                      False\n",
            "Acessórios       ['Central multimídia', 'Vidros elétricos', 'Se...\n",
            "Valor                                                      63578.5\n",
            "Name: Lamborghini Centenario, dtype: object\n",
            "indice Hilux - valores Motor                                        Motor 5.0 V8 Bi-Turbo\n",
            "Ano                                                           2019\n",
            "Quilometragem                                                  NaN\n",
            "Zero_km                                                       True\n",
            "Acessórios       ['4 X 4', 'Piloto automático', 'Teto panorâmic...\n",
            "Valor                                                     64507.72\n",
            "Name: Hilux, dtype: object\n",
            "indice Grand Siena - valores Motor                                              Motor Diesel V8\n",
            "Ano                                                           2019\n",
            "Quilometragem                                                  NaN\n",
            "Zero_km                                                       True\n",
            "Acessórios       ['Bancos de couro', 'Painel digital', 'Sensor ...\n",
            "Valor                                                    115075.59\n",
            "Name: Grand Siena, dtype: object\n",
            "indice Symbol - valores Motor                                                 Motor Diesel\n",
            "Ano                                                           2016\n",
            "Quilometragem                                             117714.0\n",
            "Zero_km                                                      False\n",
            "Acessórios       ['4 X 4', 'Piloto automático', 'Sensor crepusc...\n",
            "Valor                                                     133030.6\n",
            "Name: Symbol, dtype: object\n",
            "indice Aston Martin V12 GT Zagato - valores Motor                                              Motor 4.0 Turbo\n",
            "Ano                                                           2011\n",
            "Quilometragem                                             113885.0\n",
            "Zero_km                                                      False\n",
            "Acessórios       ['Central multimídia', 'Piloto automático', 'S...\n",
            "Valor                                                    141591.86\n",
            "Name: Aston Martin V12 GT Zagato, dtype: object\n",
            "indice Fusion - valores Motor                                                Motor 1.8 16v\n",
            "Ano                                                           2019\n",
            "Quilometragem                                                  NaN\n",
            "Zero_km                                                       True\n",
            "Acessórios       ['Controle de tração', 'Câmbio automático', 'F...\n",
            "Valor                                                    100380.28\n",
            "Name: Fusion, dtype: object\n",
            "indice A4 Sedan - valores Motor                                                 Motor Diesel\n",
            "Ano                                                           2002\n",
            "Quilometragem                                              30511.0\n",
            "Zero_km                                                      False\n",
            "Acessórios       ['Câmera de estacionamento', '4 X 4', 'Travas ...\n",
            "Valor                                                     96369.04\n",
            "Name: A4 Sedan, dtype: object\n",
            "indice Xsara Picasso - valores Motor                                                Motor 2.0 16v\n",
            "Ano                                                           2013\n",
            "Quilometragem                                              74867.0\n",
            "Zero_km                                                      False\n",
            "Acessórios       ['Sensor de chuva', 'Teto panorâmico', 'Centra...\n",
            "Valor                                                    142603.84\n",
            "Name: Xsara Picasso, dtype: object\n",
            "indice 207 SW - valores Motor                                                Motor 3.0 32v\n",
            "Ano                                                           2017\n",
            "Quilometragem                                             119760.0\n",
            "Zero_km                                                      False\n",
            "Acessórios       ['Controle de estabilidade', 'Travas elétricas...\n",
            "Valor                                                    117709.67\n",
            "Name: 207 SW, dtype: object\n",
            "indice Star - valores Motor                                                     Motor V6\n",
            "Ano                                                           2016\n",
            "Quilometragem                                               8356.0\n",
            "Zero_km                                                      False\n",
            "Acessórios       ['Câmera de estacionamento', '4 X 4', 'Central...\n",
            "Valor                                                    102241.54\n",
            "Name: Star, dtype: object\n",
            "indice Doblò Cargo - valores Motor                                                Motor 3.0 32v\n",
            "Ano                                                           2008\n",
            "Quilometragem                                              64247.0\n",
            "Zero_km                                                      False\n",
            "Acessórios       ['Freios ABS', 'Teto panorâmico', 'Vidros elét...\n",
            "Valor                                                     96065.38\n",
            "Name: Doblò Cargo, dtype: object\n",
            "indice Cadillac CTS - valores Motor                                                Motor 1.8 16v\n",
            "Ano                                                           2018\n",
            "Quilometragem                                              88661.0\n",
            "Zero_km                                                      False\n",
            "Acessórios       ['Travas elétricas', 'Sensor de chuva', 'Freio...\n",
            "Valor                                                     53894.61\n",
            "Name: Cadillac CTS, dtype: object\n",
            "indice Cayenne - valores Motor                                                 Motor 1.0 8v\n",
            "Ano                                                           2003\n",
            "Quilometragem                                               4539.0\n",
            "Zero_km                                                      False\n",
            "Acessórios       ['Controle de tração', 'Piloto automático', 'T...\n",
            "Valor                                                    123911.78\n",
            "Name: Cayenne, dtype: object\n",
            "indice Fox - valores Motor                                              Motor 4.0 Turbo\n",
            "Ano                                                           2003\n",
            "Quilometragem                                             110116.0\n",
            "Zero_km                                                      False\n",
            "Acessórios       ['Piloto automático', 'Câmbio automático', 'Tr...\n",
            "Valor                                                    101996.35\n",
            "Name: Fox, dtype: object\n",
            "indice Tiida Hatch - valores Motor                                              Motor Diesel V6\n",
            "Ano                                                           2004\n",
            "Quilometragem                                              33215.0\n",
            "Zero_km                                                      False\n",
            "Acessórios       ['Teto panorâmico', 'Travas elétricas', 'Senso...\n",
            "Valor                                                     83431.66\n",
            "Name: Tiida Hatch, dtype: object\n",
            "indice Dodge Charger - valores Motor                                              Motor 2.4 Turbo\n",
            "Ano                                                           2010\n",
            "Quilometragem                                              92001.0\n",
            "Zero_km                                                      False\n",
            "Acessórios       ['Vidros elétricos', 'Sensor crepuscular', 'Co...\n",
            "Valor                                                    122975.63\n",
            "Name: Dodge Charger, dtype: object\n",
            "indice Face - valores Motor                                                     Motor V8\n",
            "Ano                                                           2019\n",
            "Quilometragem                                                  NaN\n",
            "Zero_km                                                       True\n",
            "Acessórios       ['Controle de estabilidade', 'Vidros elétricos...\n",
            "Valor                                                     93227.73\n",
            "Name: Face, dtype: object\n",
            "indice Prius - valores Motor                                                Motor 3.0 32v\n",
            "Ano                                                           2006\n",
            "Quilometragem                                              81708.0\n",
            "Zero_km                                                      False\n",
            "Acessórios       ['Rodas de liga', 'Bancos de couro', 'Painel d...\n",
            "Valor                                                     58762.65\n",
            "Name: Prius, dtype: object\n",
            "indice Idea - valores Motor                                                     Motor V6\n",
            "Ano                                                           2001\n",
            "Quilometragem                                              70641.0\n",
            "Zero_km                                                      False\n",
            "Acessórios       ['Central multimídia', 'Piloto automático', 'T...\n",
            "Valor                                                    139549.67\n",
            "Name: Idea, dtype: object\n",
            "indice A8 - valores Motor                                                Motor 2.0 16v\n",
            "Ano                                                           2019\n",
            "Quilometragem                                                  NaN\n",
            "Zero_km                                                       True\n",
            "Acessórios       ['Painel digital', 'Teto panorâmico', 'Piloto ...\n",
            "Valor                                                    122016.42\n",
            "Name: A8, dtype: object\n",
            "indice Série 1 Cabrio - valores Motor                                                Motor 3.0 32v\n",
            "Ano                                                           2015\n",
            "Quilometragem                                              91277.0\n",
            "Zero_km                                                      False\n",
            "Acessórios       ['Vidros elétricos', 'Travas elétricas', 'Cont...\n",
            "Valor                                                     72731.98\n",
            "Name: Série 1 Cabrio, dtype: object\n",
            "indice Edge - valores Motor                                                     Motor V6\n",
            "Ano                                                           2018\n",
            "Quilometragem                                              26544.0\n",
            "Zero_km                                                      False\n",
            "Acessórios       ['Freios ABS', 'Controle de tração', 'Sensor c...\n",
            "Valor                                                     88416.54\n",
            "Name: Edge, dtype: object\n",
            "indice Cadillac ATS sedan - valores Motor                                                Motor 1.8 16v\n",
            "Ano                                                           2017\n",
            "Quilometragem                                              52596.0\n",
            "Zero_km                                                      False\n",
            "Acessórios       ['Painel digital', 'Vidros elétricos', 'Teto p...\n",
            "Valor                                                     73873.42\n",
            "Name: Cadillac ATS sedan, dtype: object\n",
            "indice Lamborghini Asterion LPI 910-4 - valores Motor                                        Motor 5.0 V8 Bi-Turbo\n",
            "Ano                                                           1992\n",
            "Quilometragem                                              47503.0\n",
            "Zero_km                                                      False\n",
            "Acessórios       ['Ar condicionado', 'Painel digital', 'Control...\n",
            "Valor                                                     70709.34\n",
            "Name: Lamborghini Asterion LPI 910-4, dtype: object\n",
            "indice Frontier - valores Motor                                                     Motor V8\n",
            "Ano                                                           2001\n",
            "Quilometragem                                              89056.0\n",
            "Zero_km                                                      False\n",
            "Acessórios       ['Câmbio automático', 'Rodas de liga', 'Sensor...\n",
            "Valor                                                     115306.5\n",
            "Name: Frontier, dtype: object\n",
            "indice Série 3 Sedã - valores Motor                                                Motor 3.0 32v\n",
            "Ano                                                           1993\n",
            "Quilometragem                                              28834.0\n",
            "Zero_km                                                      False\n",
            "Acessórios       ['Controle de tração', 'Controle de estabilida...\n",
            "Valor                                                     55924.63\n",
            "Name: Série 3 Sedã, dtype: object\n",
            "indice Lamborghini LM002 - valores Motor                                                Motor 1.8 16v\n",
            "Ano                                                           1995\n",
            "Quilometragem                                             110564.0\n",
            "Zero_km                                                      False\n",
            "Acessórios       ['Bancos de couro', 'Freios ABS', 'Central mul...\n",
            "Valor                                                     85052.26\n",
            "Name: Lamborghini LM002, dtype: object\n",
            "indice Cadillac XLR - valores Motor                                              Motor Diesel V8\n",
            "Ano                                                           2003\n",
            "Quilometragem                                              56638.0\n",
            "Zero_km                                                      False\n",
            "Acessórios       ['Sensor crepuscular', 'Teto panorâmico', 'Sen...\n",
            "Valor                                                     56646.34\n",
            "Name: Cadillac XLR, dtype: object\n",
            "indice A4 Avant - valores Motor                                                 Motor Diesel\n",
            "Ano                                                           2014\n",
            "Quilometragem                                              17357.0\n",
            "Zero_km                                                      False\n",
            "Acessórios       ['Teto panorâmico', '4 X 4', 'Bancos de couro'...\n",
            "Valor                                                    138946.88\n",
            "Name: A4 Avant, dtype: object\n",
            "indice EcoSport - valores Motor                                              Motor 4.0 Turbo\n",
            "Ano                                                           2008\n",
            "Quilometragem                                              74015.0\n",
            "Zero_km                                                      False\n",
            "Acessórios       ['Piloto automático', 'Sensor de estacionament...\n",
            "Valor                                                    108256.72\n",
            "Name: EcoSport, dtype: object\n",
            "indice J3 - valores Motor                                                Motor 1.8 16v\n",
            "Ano                                                           2013\n",
            "Quilometragem                                              15196.0\n",
            "Zero_km                                                      False\n",
            "Acessórios       ['Controle de estabilidade', '4 X 4', 'Câmera ...\n",
            "Valor                                                      58979.3\n",
            "Name: J3, dtype: object\n",
            "indice Q3 - valores Motor                                                Motor 3.0 32v\n",
            "Ano                                                           2019\n",
            "Quilometragem                                                  NaN\n",
            "Zero_km                                                       True\n",
            "Acessórios       ['Controle de estabilidade', 'Bancos de couro'...\n",
            "Valor                                                    114727.68\n",
            "Name: Q3, dtype: object\n",
            "indice Aston Martin V8 Vantage - valores Motor                                                     Motor V8\n",
            "Ano                                                           2017\n",
            "Quilometragem                                              10821.0\n",
            "Zero_km                                                      False\n",
            "Acessórios       ['Teto panorâmico', 'Controle de tração', 'Pai...\n",
            "Valor                                                    139661.48\n",
            "Name: Aston Martin V8 Vantage, dtype: object\n",
            "indice Z4 Roadster - valores Motor                                                Motor 3.0 32v\n",
            "Ano                                                           2019\n",
            "Quilometragem                                                  NaN\n",
            "Zero_km                                                       True\n",
            "Acessórios       ['Central multimídia', 'Câmbio automático', 'T...\n",
            "Valor                                                     80382.24\n",
            "Name: Z4 Roadster, dtype: object\n",
            "indice Lamborghini Ferruccio - valores Motor                                                Motor 3.0 32v\n",
            "Ano                                                           2019\n",
            "Quilometragem                                                  NaN\n",
            "Zero_km                                                       True\n",
            "Acessórios       ['Vidros elétricos', 'Piloto automático', 'Tet...\n",
            "Valor                                                    149157.17\n",
            "Name: Lamborghini Ferruccio, dtype: object\n",
            "indice Ford Ka+ - valores Motor                                                Motor 1.8 16v\n",
            "Ano                                                           2006\n",
            "Quilometragem                                               9595.0\n",
            "Zero_km                                                      False\n",
            "Acessórios       ['Sensor crepuscular', 'Piloto automático', 'C...\n",
            "Valor                                                     87830.41\n",
            "Name: Ford Ka+, dtype: object\n",
            "indice Silver Shadow - valores Motor                                                 Motor Diesel\n",
            "Ano                                                           2015\n",
            "Quilometragem                                              99052.0\n",
            "Zero_km                                                      False\n",
            "Acessórios       ['4 X 4', 'Central multimídia', 'Ar condiciona...\n",
            "Valor                                                    143568.22\n",
            "Name: Silver Shadow, dtype: object\n",
            "indice Classe C 63 AMG Touring - valores Motor                                              Motor Diesel V8\n",
            "Ano                                                           2007\n",
            "Quilometragem                                              52389.0\n",
            "Zero_km                                                      False\n",
            "Acessórios       ['Central multimídia', 'Piloto automático', 'F...\n",
            "Valor                                                    138171.85\n",
            "Name: Classe C 63 AMG Touring, dtype: object\n",
            "indice Discovery 4 - valores Motor                                              Motor 4.0 Turbo\n",
            "Ano                                                           2005\n",
            "Quilometragem                                             119945.0\n",
            "Zero_km                                                      False\n",
            "Acessórios       ['Freios ABS', 'Rodas de liga', 'Sensor de chu...\n",
            "Valor                                                    115784.95\n",
            "Name: Discovery 4, dtype: object\n",
            "indice Veloster - valores Motor                                              Motor Diesel V8\n",
            "Ano                                                           2017\n",
            "Quilometragem                                              96005.0\n",
            "Zero_km                                                      False\n",
            "Acessórios       ['Ar condicionado', 'Central multimídia', 'Ban...\n",
            "Valor                                                    146508.99\n",
            "Name: Veloster, dtype: object\n",
            "indice Classe C - valores Motor                                              Motor Diesel V6\n",
            "Ano                                                           1998\n",
            "Quilometragem                                              31639.0\n",
            "Zero_km                                                      False\n",
            "Acessórios       ['Freios ABS', 'Sensor de chuva', 'Central mul...\n",
            "Valor                                                    137670.23\n",
            "Name: Classe C, dtype: object\n",
            "indice Camry - valores Motor                                                 Motor Diesel\n",
            "Ano                                                           2019\n",
            "Quilometragem                                                  NaN\n",
            "Zero_km                                                       True\n",
            "Acessórios       ['Travas elétricas', 'Rodas de liga', 'Sensor ...\n",
            "Valor                                                    138597.27\n",
            "Name: Camry, dtype: object\n",
            "indice C5 Tourer - valores Motor                                              Motor Diesel V6\n",
            "Ano                                                           1999\n",
            "Quilometragem                                              80187.0\n",
            "Zero_km                                                      False\n",
            "Acessórios       ['Rodas de liga', 'Sensor de chuva', 'Painel d...\n",
            "Valor                                                    147627.81\n",
            "Name: C5 Tourer, dtype: object\n",
            "indice R8 GT - valores Motor                                              Motor 4.0 Turbo\n",
            "Ano                                                           2019\n",
            "Quilometragem                                                  NaN\n",
            "Zero_km                                                       True\n",
            "Acessórios       ['Rodas de liga', 'Câmbio automático', 'Sensor...\n",
            "Valor                                                     62999.02\n",
            "Name: R8 GT, dtype: object\n",
            "indice Bongo - valores Motor                                              Motor Diesel V8\n",
            "Ano                                                           2009\n",
            "Quilometragem                                              58212.0\n",
            "Zero_km                                                      False\n",
            "Acessórios       ['Vidros elétricos', 'Teto panorâmico', 'Paine...\n",
            "Valor                                                     91242.44\n",
            "Name: Bongo, dtype: object\n",
            "indice ASX - valores Motor                                              Motor Diesel V8\n",
            "Ano                                                           2003\n",
            "Quilometragem                                              61672.0\n",
            "Zero_km                                                      False\n",
            "Acessórios       ['Ar condicionado', 'Sensor crepuscular', 'Rod...\n",
            "Valor                                                    149489.92\n",
            "Name: ASX, dtype: object\n",
            "indice Cadillac SRX - valores Motor                                        Motor 5.0 V8 Bi-Turbo\n",
            "Ano                                                           1994\n",
            "Quilometragem                                              32017.0\n",
            "Zero_km                                                      False\n",
            "Acessórios       ['Painel digital', 'Piloto automático', 'Contr...\n",
            "Valor                                                     63529.95\n",
            "Name: Cadillac SRX, dtype: object\n",
            "indice Classe CL - valores Motor                                                     Motor V8\n",
            "Ano                                                           2019\n",
            "Quilometragem                                                  NaN\n",
            "Zero_km                                                       True\n",
            "Acessórios       ['Central multimídia', 'Câmbio automático', '4...\n",
            "Valor                                                     58525.41\n",
            "Name: Classe CL, dtype: object\n",
            "indice 500 Abarth - valores Motor                                                     Motor V6\n",
            "Ano                                                           1994\n",
            "Quilometragem                                              56944.0\n",
            "Zero_km                                                      False\n",
            "Acessórios       ['4 X 4', 'Teto panorâmico', 'Controle de traç...\n",
            "Valor                                                     90345.05\n",
            "Name: 500 Abarth, dtype: object\n",
            "indice Aston Martin Cygnet - valores Motor                                        Motor 5.0 V8 Bi-Turbo\n",
            "Ano                                                           2019\n",
            "Quilometragem                                                  NaN\n",
            "Zero_km                                                       True\n",
            "Acessórios       ['Painel digital', 'Ar condicionado', 'Sensor ...\n",
            "Valor                                                    147770.87\n",
            "Name: Aston Martin Cygnet, dtype: object\n",
            "indice Cadillac STS - valores Motor                                              Motor 4.0 Turbo\n",
            "Ano                                                           2015\n",
            "Quilometragem                                              86519.0\n",
            "Zero_km                                                      False\n",
            "Acessórios       ['Painel digital', 'Bancos de couro', 'Sensor ...\n",
            "Valor                                                    106617.71\n",
            "Name: Cadillac STS, dtype: object\n",
            "indice Aston Martin DB9 - valores Motor                                                Motor 1.8 16v\n",
            "Ano                                                           1996\n",
            "Quilometragem                                               4821.0\n",
            "Zero_km                                                      False\n",
            "Acessórios       ['Ar condicionado', 'Vidros elétricos', '4 X 4...\n",
            "Valor                                                    104929.88\n",
            "Name: Aston Martin DB9, dtype: object\n",
            "indice NX 200t - valores Motor                                              Motor 2.4 Turbo\n",
            "Ano                                                           1997\n",
            "Quilometragem                                             101025.0\n",
            "Zero_km                                                      False\n",
            "Acessórios       ['Controle de estabilidade', 'Painel digital',...\n",
            "Valor                                                    100712.45\n",
            "Name: NX 200t, dtype: object\n",
            "indice Aston Martin One-77 - valores Motor                                                     Motor V6\n",
            "Ano                                                           1993\n",
            "Quilometragem                                              30705.0\n",
            "Zero_km                                                      False\n",
            "Acessórios       ['Sensor de estacionamento', 'Rodas de liga', ...\n",
            "Valor                                                    141982.93\n",
            "Name: Aston Martin One-77, dtype: object\n",
            "indice Lamborghini Veneno - valores Motor                                                Motor 3.0 32v\n",
            "Ano                                                           2019\n",
            "Quilometragem                                                  NaN\n",
            "Zero_km                                                       True\n",
            "Acessórios       ['4 X 4', 'Sensor de estacionamento', 'Câmbio ...\n",
            "Valor                                                    104038.79\n",
            "Name: Lamborghini Veneno, dtype: object\n",
            "indice Sentra - valores Motor                                                Motor 2.0 16v\n",
            "Ano                                                           1992\n",
            "Quilometragem                                              32555.0\n",
            "Zero_km                                                      False\n",
            "Acessórios       ['Piloto automático', 'Sensor crepuscular', 'T...\n",
            "Valor                                                     88501.54\n",
            "Name: Sentra, dtype: object\n",
            "indice Jumper - valores Motor                                              Motor 2.4 Turbo\n",
            "Ano                                                           1995\n",
            "Quilometragem                                             103389.0\n",
            "Zero_km                                                      False\n",
            "Acessórios       ['Ar condicionado', 'Rodas de liga', 'Câmbio a...\n",
            "Valor                                                     79782.02\n",
            "Name: Jumper, dtype: object\n",
            "indice i30 - valores Motor                                                Motor 1.8 16v\n",
            "Ano                                                           2019\n",
            "Quilometragem                                                  NaN\n",
            "Zero_km                                                       True\n",
            "Acessórios       ['Câmbio automático', 'Controle de estabilidad...\n",
            "Valor                                                      86224.1\n",
            "Name: i30, dtype: object\n",
            "indice X6 - valores Motor                                              Motor Diesel V6\n",
            "Ano                                                           1990\n",
            "Quilometragem                                              55289.0\n",
            "Zero_km                                                      False\n",
            "Acessórios       ['Câmera de estacionamento', 'Travas elétricas...\n",
            "Valor                                                    103596.18\n",
            "Name: X6, dtype: object\n",
            "indice Voyage - valores Motor                                        Motor 5.0 V8 Bi-Turbo\n",
            "Ano                                                           2019\n",
            "Quilometragem                                                  NaN\n",
            "Zero_km                                                       True\n",
            "Acessórios       ['Ar condicionado', 'Sensor de estacionamento'...\n",
            "Valor                                                    148996.47\n",
            "Name: Voyage, dtype: object\n",
            "indice Phantom I Phantom II - valores Motor                                                Motor 1.8 16v\n",
            "Ano                                                           2019\n",
            "Quilometragem                                                  NaN\n",
            "Zero_km                                                       True\n",
            "Acessórios       ['Piloto automático', 'Freios ABS', 'Painel di...\n",
            "Valor                                                     60948.01\n",
            "Name: Phantom I Phantom II, dtype: object\n",
            "indice Passat Variant - valores Motor                                                 Motor 1.0 8v\n",
            "Ano                                                           1991\n",
            "Quilometragem                                             115930.0\n",
            "Zero_km                                                      False\n",
            "Acessórios       ['Freios ABS', 'Rodas de liga', 'Piloto automá...\n",
            "Valor                                                     69535.44\n",
            "Name: Passat Variant, dtype: object\n",
            "indice Clio - valores Motor                                                 Motor Diesel\n",
            "Ano                                                           1990\n",
            "Quilometragem                                              66437.0\n",
            "Zero_km                                                      False\n",
            "Acessórios       ['4 X 4', 'Câmbio automático', 'Freios ABS', '...\n",
            "Valor                                                    111130.33\n",
            "Name: Clio, dtype: object\n",
            "indice Classe G - valores Motor                                              Motor Diesel V6\n",
            "Ano                                                           2012\n",
            "Quilometragem                                              96800.0\n",
            "Zero_km                                                      False\n",
            "Acessórios       ['Controle de estabilidade', 'Central multimíd...\n",
            "Valor                                                     65847.69\n",
            "Name: Classe G, dtype: object\n",
            "indice Silver Ghost - valores Motor                                                Motor 1.8 16v\n",
            "Ano                                                           2007\n",
            "Quilometragem                                              14237.0\n",
            "Zero_km                                                      False\n",
            "Acessórios       ['Travas elétricas', 'Painel digital', 'Câmera...\n",
            "Valor                                                     78096.06\n",
            "Name: Silver Ghost, dtype: object\n",
            "indice Série 3 M3 Coupé - valores Motor                                                 Motor Diesel\n",
            "Ano                                                           2013\n",
            "Quilometragem                                              19896.0\n",
            "Zero_km                                                      False\n",
            "Acessórios       ['Bancos de couro', 'Sensor de chuva', 'Ar con...\n",
            "Valor                                                     69219.89\n",
            "Name: Série 3 M3 Coupé, dtype: object\n",
            "indice Gallardo LP 560 – 4 - valores Motor                                                 Motor Diesel\n",
            "Ano                                                           2000\n",
            "Quilometragem                                             113045.0\n",
            "Zero_km                                                      False\n",
            "Acessórios       ['Freios ABS', 'Teto panorâmico', 'Central mul...\n",
            "Valor                                                    144118.91\n",
            "Name: Gallardo LP 560 – 4, dtype: object\n",
            "indice Freelander 2 - valores Motor                                              Motor Diesel V6\n",
            "Ano                                                           2002\n",
            "Quilometragem                                             114942.0\n",
            "Zero_km                                                      False\n",
            "Acessórios       ['4 X 4', 'Câmera de estacionamento', 'Sensor ...\n",
            "Valor                                                     77397.05\n",
            "Name: Freelander 2, dtype: object\n",
            "indice Grand Cherokee - valores Motor                                        Motor 5.0 V8 Bi-Turbo\n",
            "Ano                                                           1996\n",
            "Quilometragem                                               3173.0\n",
            "Zero_km                                                      False\n",
            "Acessórios       ['Câmbio automático', 'Travas elétricas', 'Sen...\n",
            "Valor                                                     68974.25\n",
            "Name: Grand Cherokee, dtype: object\n",
            "indice Aston Martin DBR9 - valores Motor                                              Motor 4.0 Turbo\n",
            "Ano                                                           1996\n",
            "Quilometragem                                              83611.0\n",
            "Zero_km                                                      False\n",
            "Acessórios       ['Controle de estabilidade', 'Sensor de estaci...\n",
            "Valor                                                     125231.3\n",
            "Name: Aston Martin DBR9, dtype: object\n",
            "indice Soul - valores Motor                                        Motor 5.0 V8 Bi-Turbo\n",
            "Ano                                                           2015\n",
            "Quilometragem                                              25356.0\n",
            "Zero_km                                                      False\n",
            "Acessórios       ['Sensor crepuscular', 'Piloto automático', 'S...\n",
            "Valor                                                     85501.12\n",
            "Name: Soul, dtype: object\n",
            "indice Cadillac BLS - valores Motor                                                     Motor V8\n",
            "Ano                                                           1993\n",
            "Quilometragem                                              88634.0\n",
            "Zero_km                                                      False\n",
            "Acessórios       ['Teto panorâmico', 'Controle de estabilidade'...\n",
            "Valor                                                    137116.21\n",
            "Name: Cadillac BLS, dtype: object\n",
            "indice RX 350 - valores Motor                                                     Motor V6\n",
            "Ano                                                           2013\n",
            "Quilometragem                                               2314.0\n",
            "Zero_km                                                      False\n",
            "Acessórios       ['Piloto automático', 'Sensor crepuscular', 'A...\n",
            "Valor                                                    138823.81\n",
            "Name: RX 350, dtype: object\n",
            "indice Cayman - valores Motor                                                Motor 3.0 32v\n",
            "Ano                                                           2013\n",
            "Quilometragem                                               2627.0\n",
            "Zero_km                                                      False\n",
            "Acessórios       ['Central multimídia', 'Painel digital', 'Sens...\n",
            "Valor                                                    117961.95\n",
            "Name: Cayman, dtype: object\n",
            "indice Chana Utility - valores Motor                                                 Motor Diesel\n",
            "Ano                                                           2009\n",
            "Quilometragem                                              52034.0\n",
            "Zero_km                                                      False\n",
            "Acessórios       ['Ar condicionado', 'Sensor de estacionamento'...\n",
            "Valor                                                    132662.32\n",
            "Name: Chana Utility, dtype: object\n",
            "indice 308 CC - valores Motor                                              Motor 4.0 Turbo\n",
            "Ano                                                           2019\n",
            "Quilometragem                                                  NaN\n",
            "Zero_km                                                       True\n",
            "Acessórios       ['Câmera de estacionamento', 'Bancos de couro'...\n",
            "Valor                                                    146405.79\n",
            "Name: 308 CC, dtype: object\n",
            "indice L200 Triton - valores Motor                                              Motor Diesel V8\n",
            "Ano                                                           2019\n",
            "Quilometragem                                                  NaN\n",
            "Zero_km                                                       True\n",
            "Acessórios       ['Vidros elétricos', 'Ar condicionado', 'Paine...\n",
            "Valor                                                     81999.21\n",
            "Name: L200 Triton, dtype: object\n",
            "indice Jetta - valores Motor                                        Motor 5.0 V8 Bi-Turbo\n",
            "Ano                                                           2002\n",
            "Quilometragem                                              79577.0\n",
            "Zero_km                                                      False\n",
            "Acessórios       ['Central multimídia', 'Vidros elétricos', 'Câ...\n",
            "Valor                                                     140934.6\n",
            "Name: Jetta, dtype: object\n",
            "indice C4 Lounge - valores Motor                                                     Motor V8\n",
            "Ano                                                           1997\n",
            "Quilometragem                                             108201.0\n",
            "Zero_km                                                      False\n",
            "Acessórios       ['Central multimídia', 'Controle de tração', '...\n",
            "Valor                                                     82366.81\n",
            "Name: C4 Lounge, dtype: object\n",
            "indice C4 Pallas - valores Motor                                                 Motor 1.0 8v\n",
            "Ano                                                           1998\n",
            "Quilometragem                                              76453.0\n",
            "Zero_km                                                      False\n",
            "Acessórios       ['4 X 4', 'Freios ABS', 'Sensor de chuva', 'Ro...\n",
            "Valor                                                     70424.11\n",
            "Name: C4 Pallas, dtype: object\n",
            "indice Equus - valores Motor                                                Motor 3.0 32v\n",
            "Ano                                                           2004\n",
            "Quilometragem                                              57683.0\n",
            "Zero_km                                                      False\n",
            "Acessórios       ['Travas elétricas', 'Rodas de liga', '4 X 4',...\n",
            "Valor                                                     53620.31\n",
            "Name: Equus, dtype: object\n",
            "indice Classe GL - valores Motor                                                Motor 3.0 32v\n",
            "Ano                                                           1996\n",
            "Quilometragem                                              96610.0\n",
            "Zero_km                                                      False\n",
            "Acessórios       ['Freios ABS', 'Câmera de estacionamento', 'Tr...\n",
            "Valor                                                     73389.18\n",
            "Name: Classe GL, dtype: object\n",
            "indice Range Rover Evoque - valores Motor                                                Motor 2.0 16v\n",
            "Ano                                                           2015\n",
            "Quilometragem                                             109001.0\n",
            "Zero_km                                                      False\n",
            "Acessórios       ['Rodas de liga', 'Teto panorâmico', 'Sensor d...\n",
            "Valor                                                    111618.12\n",
            "Name: Range Rover Evoque, dtype: object\n",
            "indice Cherokee - valores Motor                                              Motor 4.0 Turbo\n",
            "Ano                                                           2016\n",
            "Quilometragem                                              26212.0\n",
            "Zero_km                                                      False\n",
            "Acessórios       ['Painel digital', 'Travas elétricas', 'Rodas ...\n",
            "Valor                                                    112187.37\n",
            "Name: Cherokee, dtype: object\n",
            "indice Punto - valores Motor                                              Motor 4.0 Turbo\n",
            "Ano                                                           2005\n",
            "Quilometragem                                              45971.0\n",
            "Zero_km                                                      False\n",
            "Acessórios       ['Central multimídia', 'Câmbio automático', 'P...\n",
            "Valor                                                    120812.57\n",
            "Name: Punto, dtype: object\n",
            "indice Grand Tour - valores Motor                                                Motor 3.0 32v\n",
            "Ano                                                           1999\n",
            "Quilometragem                                              49182.0\n",
            "Zero_km                                                      False\n",
            "Acessórios       ['Rodas de liga', 'Travas elétricas', 'Bancos ...\n",
            "Valor                                                    116031.04\n",
            "Name: Grand Tour, dtype: object\n",
            "indice Fluence - valores Motor                                              Motor Diesel V6\n",
            "Ano                                                           1995\n",
            "Quilometragem                                              49907.0\n",
            "Zero_km                                                      False\n",
            "Acessórios       ['Sensor crepuscular', 'Teto panorâmico', 'Câm...\n",
            "Valor                                                    125398.11\n",
            "Name: Fluence, dtype: object\n",
            "indice Effa Hafei Picape Cabine Simples - valores Motor                                                 Motor 1.0 8v\n",
            "Ano                                                           1993\n",
            "Quilometragem                                              38620.0\n",
            "Zero_km                                                      False\n",
            "Acessórios       ['Piloto automático', 'Ar condicionado', 'Cent...\n",
            "Valor                                                     76101.47\n",
            "Name: Effa Hafei Picape Cabine Simples, dtype: object\n",
            "indice Durango - valores Motor                                                Motor 2.0 16v\n",
            "Ano                                                           2004\n",
            "Quilometragem                                              60996.0\n",
            "Zero_km                                                      False\n",
            "Acessórios       ['Bancos de couro', 'Painel digital', 'Câmbio ...\n",
            "Valor                                                     75263.24\n",
            "Name: Durango, dtype: object\n",
            "indice Boxster - valores Motor                                              Motor Diesel V8\n",
            "Ano                                                           2013\n",
            "Quilometragem                                              73914.0\n",
            "Zero_km                                                      False\n",
            "Acessórios       ['Teto panorâmico', 'Sensor crepuscular', 'Ban...\n",
            "Valor                                                    147387.76\n",
            "Name: Boxster, dtype: object\n",
            "indice TT Roadster - valores Motor                                                 Motor Diesel\n",
            "Ano                                                           1998\n",
            "Quilometragem                                             107392.0\n",
            "Zero_km                                                      False\n",
            "Acessórios       ['Ar condicionado', 'Sensor de estacionamento'...\n",
            "Valor                                                      85311.4\n",
            "Name: TT Roadster, dtype: object\n",
            "indice Lamborghini Jalpa - valores Motor                                                Motor 1.8 16v\n",
            "Ano                                                           2018\n",
            "Quilometragem                                               9146.0\n",
            "Zero_km                                                      False\n",
            "Acessórios       ['Piloto automático', 'Freios ABS', 'Sensor de...\n",
            "Valor                                                     54388.11\n",
            "Name: Lamborghini Jalpa, dtype: object\n",
            "indice Classe SLK - valores Motor                                              Motor 4.0 Turbo\n",
            "Ano                                                           2019\n",
            "Quilometragem                                                  NaN\n",
            "Zero_km                                                       True\n",
            "Acessórios       ['4 X 4', 'Sensor de estacionamento', 'Control...\n",
            "Valor                                                    124156.65\n",
            "Name: Classe SLK, dtype: object\n",
            "indice Golf - valores Motor                                                 Motor 1.0 8v\n",
            "Ano                                                           2018\n",
            "Quilometragem                                              17924.0\n",
            "Zero_km                                                      False\n",
            "Acessórios       ['Rodas de liga', 'Controle de tração', 'Senso...\n",
            "Valor                                                    146203.34\n",
            "Name: Golf, dtype: object\n",
            "indice C3 Picasso - valores Motor                                                Motor 3.0 32v\n",
            "Ano                                                           2019\n",
            "Quilometragem                                                  NaN\n",
            "Zero_km                                                       True\n",
            "Acessórios       ['Teto panorâmico', 'Sensor crepuscular', 'Sen...\n",
            "Valor                                                     56453.94\n",
            "Name: C3 Picasso, dtype: object\n",
            "indice V50 - valores Motor                                                Motor 2.0 16v\n",
            "Ano                                                           1990\n",
            "Quilometragem                                             116949.0\n",
            "Zero_km                                                      False\n",
            "Acessórios       ['Teto panorâmico', 'Câmera de estacionamento'...\n",
            "Valor                                                     68873.79\n",
            "Name: V50, dtype: object\n",
            "indice Picanto - valores Motor                                              Motor 4.0 Turbo\n",
            "Ano                                                           2009\n",
            "Quilometragem                                              20476.0\n",
            "Zero_km                                                      False\n",
            "Acessórios       ['Painel digital', 'Controle de estabilidade',...\n",
            "Valor                                                     91667.61\n",
            "Name: Picanto, dtype: object\n",
            "indice Cadenza - valores Motor                                              Motor Diesel V6\n",
            "Ano                                                           1990\n",
            "Quilometragem                                              52804.0\n",
            "Zero_km                                                      False\n",
            "Acessórios       ['Sensor crepuscular', 'Controle de estabilida...\n",
            "Valor                                                     93776.52\n",
            "Name: Cadenza, dtype: object\n",
            "indice Etios Sedã - valores Motor                                        Motor 5.0 V8 Bi-Turbo\n",
            "Ano                                                           2006\n",
            "Quilometragem                                               8849.0\n",
            "Zero_km                                                      False\n",
            "Acessórios       ['Ar condicionado', 'Vidros elétricos', 'Senso...\n",
            "Valor                                                     66433.82\n",
            "Name: Etios Sedã, dtype: object\n",
            "indice Alsvin - valores Motor                                              Motor Diesel V8\n",
            "Ano                                                           2002\n",
            "Quilometragem                                              91724.0\n",
            "Zero_km                                                      False\n",
            "Acessórios       ['Central multimídia', 'Controle de estabilida...\n",
            "Valor                                                    109059.27\n",
            "Name: Alsvin, dtype: object\n",
            "indice Cadillac ATS - valores Motor                                              Motor Diesel V6\n",
            "Ano                                                           1991\n",
            "Quilometragem                                              32056.0\n",
            "Zero_km                                                      False\n",
            "Acessórios       ['Piloto automático', 'Rodas de liga', '4 X 4'...\n",
            "Valor                                                    122069.97\n",
            "Name: Cadillac ATS, dtype: object\n",
            "indice Série 3 M3 Sedã - valores Motor                                              Motor Diesel V6\n",
            "Ano                                                           1992\n",
            "Quilometragem                                              74886.0\n",
            "Zero_km                                                      False\n",
            "Acessórios       ['Painel digital', 'Freios ABS', 'Ar condicion...\n",
            "Valor                                                    113090.32\n",
            "Name: Série 3 M3 Sedã, dtype: object\n",
            "indice Classe S - valores Motor                                                Motor 3.0 32v\n",
            "Ano                                                           2019\n",
            "Quilometragem                                                  NaN\n",
            "Zero_km                                                       True\n",
            "Acessórios       ['Controle de tração', 'Teto panorâmico', 'Câm...\n",
            "Valor                                                      89401.1\n",
            "Name: Classe S, dtype: object\n",
            "indice T6 - valores Motor                                                Motor 3.0 32v\n",
            "Ano                                                           2019\n",
            "Quilometragem                                                  NaN\n",
            "Zero_km                                                       True\n",
            "Acessórios       ['Sensor de chuva', 'Câmera de estacionamento'...\n",
            "Valor                                                     56842.79\n",
            "Name: T6, dtype: object\n",
            "indice Aston Martin DB7 - valores Motor                                              Motor Diesel V8\n",
            "Ano                                                           2005\n",
            "Quilometragem                                              52189.0\n",
            "Zero_km                                                      False\n",
            "Acessórios       ['Travas elétricas', 'Painel digital', 'Sensor...\n",
            "Valor                                                    146676.71\n",
            "Name: Aston Martin DB7, dtype: object\n",
            "indice 207 Sedan - valores Motor                                              Motor 4.0 Turbo\n",
            "Ano                                                           2010\n",
            "Quilometragem                                              83559.0\n",
            "Zero_km                                                      False\n",
            "Acessórios       ['Controle de tração', 'Central multimídia', '...\n",
            "Valor                                                     89511.96\n",
            "Name: 207 Sedan, dtype: object\n",
            "indice Aston Martin Virage - valores Motor                                                 Motor Diesel\n",
            "Ano                                                           2019\n",
            "Quilometragem                                                  NaN\n",
            "Zero_km                                                       True\n",
            "Acessórios       ['Travas elétricas', 'Controle de tração', 'Câ...\n",
            "Valor                                                     97290.18\n",
            "Name: Aston Martin Virage, dtype: object\n",
            "indice Azera - valores Motor                                                Motor 1.8 16v\n",
            "Ano                                                           2016\n",
            "Quilometragem                                              20328.0\n",
            "Zero_km                                                      False\n",
            "Acessórios       ['Bancos de couro', 'Controle de tração', 'Ar ...\n",
            "Valor                                                    120673.56\n",
            "Name: Azera, dtype: object\n",
            "indice Vantage Volante - valores Motor                                              Motor Diesel V8\n",
            "Ano                                                           2019\n",
            "Quilometragem                                                  NaN\n",
            "Zero_km                                                       True\n",
            "Acessórios       ['Freios ABS', 'Controle de tração', 'Central ...\n",
            "Valor                                                    114434.94\n",
            "Name: Vantage Volante, dtype: object\n",
            "indice Siena EL - valores Motor                                                     Motor V8\n",
            "Ano                                                           2010\n",
            "Quilometragem                                              75577.0\n",
            "Zero_km                                                      False\n",
            "Acessórios       ['Freios ABS', 'Sensor crepuscular', 'Controle...\n",
            "Valor                                                    139546.69\n",
            "Name: Siena EL, dtype: object\n",
            "indice Palio Adventure - valores Motor                                              Motor Diesel V8\n",
            "Ano                                                           1994\n",
            "Quilometragem                                              33659.0\n",
            "Zero_km                                                      False\n",
            "Acessórios       ['Teto panorâmico', 'Central multimídia', 'Pil...\n",
            "Valor                                                     95078.16\n",
            "Name: Palio Adventure, dtype: object\n",
            "indice HB20X - valores Motor                                                     Motor V8\n",
            "Ano                                                           2001\n",
            "Quilometragem                                             104341.0\n",
            "Zero_km                                                      False\n",
            "Acessórios       ['Sensor crepuscular', 'Teto panorâmico', 'Pai...\n",
            "Valor                                                     68091.77\n",
            "Name: HB20X, dtype: object\n",
            "indice HR - valores Motor                                        Motor 5.0 V8 Bi-Turbo\n",
            "Ano                                                           2014\n",
            "Quilometragem                                              25510.0\n",
            "Zero_km                                                      False\n",
            "Acessórios       ['Controle de tração', 'Câmbio automático', '4...\n",
            "Valor                                                     61496.97\n",
            "Name: HR, dtype: object\n",
            "indice Cadillac STS V-Series - valores Motor                                                Motor 2.0 16v\n",
            "Ano                                                           1996\n",
            "Quilometragem                                              18965.0\n",
            "Zero_km                                                      False\n",
            "Acessórios       ['Vidros elétricos', 'Piloto automático', 'Câm...\n",
            "Valor                                                     139669.3\n",
            "Name: Cadillac STS V-Series, dtype: object\n",
            "indice Série 1 Coupé - valores Motor                                                 Motor 1.0 8v\n",
            "Ano                                                           1993\n",
            "Quilometragem                                              87161.0\n",
            "Zero_km                                                      False\n",
            "Acessórios       ['Controle de estabilidade', 'Teto panorâmico'...\n",
            "Valor                                                     80661.39\n",
            "Name: Série 1 Coupé, dtype: object\n",
            "indice SpaceFox - valores Motor                                                     Motor V8\n",
            "Ano                                                           1993\n",
            "Quilometragem                                               6652.0\n",
            "Zero_km                                                      False\n",
            "Acessórios       ['Sensor crepuscular', '4 X 4', 'Painel digita...\n",
            "Valor                                                     61783.65\n",
            "Name: SpaceFox, dtype: object\n",
            "indice C30 - valores Motor                                                 Motor 1.0 8v\n",
            "Ano                                                           2001\n",
            "Quilometragem                                              55738.0\n",
            "Zero_km                                                      False\n",
            "Acessórios       ['Teto panorâmico', 'Freios ABS', 'Sensor crep...\n",
            "Valor                                                     52805.91\n",
            "Name: C30, dtype: object\n",
            "indice J3 Turin - valores Motor                                                     Motor V6\n",
            "Ano                                                           2019\n",
            "Quilometragem                                                  NaN\n",
            "Zero_km                                                       True\n",
            "Acessórios       ['Sensor crepuscular', 'Câmera de estacionamen...\n",
            "Valor                                                    127024.75\n",
            "Name: J3 Turin, dtype: object\n",
            "indice Classe B - valores Motor                                              Motor Diesel V8\n",
            "Ano                                                           2019\n",
            "Quilometragem                                                  NaN\n",
            "Zero_km                                                       True\n",
            "Acessórios       ['4 X 4', 'Bancos de couro', 'Sensor crepuscul...\n",
            "Valor                                                     135543.0\n",
            "Name: Classe B, dtype: object\n",
            "indice Parati - valores Motor                                              Motor Diesel V8\n",
            "Ano                                                           2019\n",
            "Quilometragem                                                  NaN\n",
            "Zero_km                                                       True\n",
            "Acessórios       ['Sensor de estacionamento', 'Piloto automátic...\n",
            "Valor                                                    121708.73\n",
            "Name: Parati, dtype: object\n",
            "indice Cadillac CTS V-Series - valores Motor                                              Motor 4.0 Turbo\n",
            "Ano                                                           2007\n",
            "Quilometragem                                              64320.0\n",
            "Zero_km                                                      False\n",
            "Acessórios       ['Piloto automático', 'Ar condicionado', 'Cent...\n",
            "Valor                                                    107342.68\n",
            "Name: Cadillac CTS V-Series, dtype: object\n",
            "indice Sedan - valores Motor                                                     Motor V8\n",
            "Ano                                                           2019\n",
            "Quilometragem                                                  NaN\n",
            "Zero_km                                                       True\n",
            "Acessórios       ['Bancos de couro', 'Central multimídia', 'Fre...\n",
            "Valor                                                      57888.1\n",
            "Name: Sedan, dtype: object\n",
            "indice Classe CLS 63 AMG - valores Motor                                              Motor Diesel V6\n",
            "Ano                                                           2016\n",
            "Quilometragem                                              68678.0\n",
            "Zero_km                                                      False\n",
            "Acessórios       ['Freios ABS', 'Vidros elétricos', 'Câmbio aut...\n",
            "Valor                                                    118161.48\n",
            "Name: Classe CLS 63 AMG, dtype: object\n",
            "indice Aircross - valores Motor                                                 Motor 1.0 8v\n",
            "Ano                                                           2014\n",
            "Quilometragem                                              71697.0\n",
            "Zero_km                                                      False\n",
            "Acessórios       ['Controle de tração', 'Piloto automático', 'C...\n",
            "Valor                                                    142499.06\n",
            "Name: Aircross, dtype: object\n",
            "indice Aston Martin V12 Vantage - valores Motor                                                     Motor V8\n",
            "Ano                                                           2019\n",
            "Quilometragem                                                  NaN\n",
            "Zero_km                                                       True\n",
            "Acessórios       ['Bancos de couro', 'Central multimídia', 'Con...\n",
            "Valor                                                    128396.11\n",
            "Name: Aston Martin V12 Vantage, dtype: object\n",
            "indice Sandero - valores Motor                                                 Motor Diesel\n",
            "Ano                                                           2015\n",
            "Quilometragem                                              34783.0\n",
            "Zero_km                                                      False\n",
            "Acessórios       ['Piloto automático', 'Teto panorâmico', 'Câmb...\n",
            "Valor                                                    112350.61\n",
            "Name: Sandero, dtype: object\n",
            "indice New Fiesta - valores Motor                                        Motor 5.0 V8 Bi-Turbo\n",
            "Ano                                                           2015\n",
            "Quilometragem                                              33772.0\n",
            "Zero_km                                                      False\n",
            "Acessórios       ['Controle de tração', 'Travas elétricas', '4 ...\n",
            "Valor                                                    124661.38\n",
            "Name: New Fiesta, dtype: object\n",
            "indice XKR - valores Motor                                                 Motor Diesel\n",
            "Ano                                                           1996\n",
            "Quilometragem                                              85127.0\n",
            "Zero_km                                                      False\n",
            "Acessórios       ['Controle de tração', 'Ar condicionado', 'Tra...\n",
            "Valor                                                     54263.16\n",
            "Name: XKR, dtype: object\n",
            "indice X5 - valores Motor                                                 Motor Diesel\n",
            "Ano                                                           2002\n",
            "Quilometragem                                              13606.0\n",
            "Zero_km                                                      False\n",
            "Acessórios       ['Controle de tração', 'Piloto automático', 'T...\n",
            "Valor                                                     62041.32\n",
            "Name: X5, dtype: object\n",
            "indice Cadillac DTS - valores Motor                                                Motor 1.8 16v\n",
            "Ano                                                           2005\n",
            "Quilometragem                                              35647.0\n",
            "Zero_km                                                      False\n",
            "Acessórios       ['Central multimídia', 'Rodas de liga', 'Câmbi...\n",
            "Valor                                                    129296.11\n",
            "Name: Cadillac DTS, dtype: object\n",
            "indice Pajero Dakar - valores Motor                                              Motor 4.0 Turbo\n",
            "Ano                                                           1995\n",
            "Quilometragem                                              95128.0\n",
            "Zero_km                                                      False\n",
            "Acessórios       ['Piloto automático', 'Sensor de chuva', 'Cont...\n",
            "Valor                                                     60998.33\n",
            "Name: Pajero Dakar, dtype: object\n",
            "indice Classe A - valores Motor                                                 Motor 1.0 8v\n",
            "Ano                                                           1999\n",
            "Quilometragem                                              14046.0\n",
            "Zero_km                                                      False\n",
            "Acessórios       ['Controle de tração', 'Central multimídia', '...\n",
            "Valor                                                      58008.5\n",
            "Name: Classe A, dtype: object\n",
            "indice Ford Focus Fastback - valores Motor                                              Motor 4.0 Turbo\n",
            "Ano                                                           2005\n",
            "Quilometragem                                              41194.0\n",
            "Zero_km                                                      False\n",
            "Acessórios       ['Bancos de couro', 'Câmera de estacionamento'...\n",
            "Valor                                                     82304.19\n",
            "Name: Ford Focus Fastback, dtype: object\n",
            "indice Partner - valores Motor                                              Motor 2.4 Turbo\n",
            "Ano                                                           2019\n",
            "Quilometragem                                                  NaN\n",
            "Zero_km                                                       True\n",
            "Acessórios       ['Central multimídia', 'Controle de tração', '...\n",
            "Valor                                                    114531.74\n",
            "Name: Partner, dtype: object\n",
            "indice R8 - valores Motor                                                     Motor V6\n",
            "Ano                                                           1997\n",
            "Quilometragem                                              96100.0\n",
            "Zero_km                                                      False\n",
            "Acessórios       ['4 X 4', 'Controle de estabilidade', 'Câmera ...\n",
            "Valor                                                    128565.61\n",
            "Name: R8, dtype: object\n",
            "indice Aston Martin DBS Volante - valores Motor                                              Motor 4.0 Turbo\n",
            "Ano                                                           1990\n",
            "Quilometragem                                             103900.0\n",
            "Zero_km                                                      False\n",
            "Acessórios       ['Central multimídia', 'Controle de estabilida...\n",
            "Valor                                                    126488.26\n",
            "Name: Aston Martin DBS Volante, dtype: object\n",
            "indice Mohave - valores Motor                                              Motor Diesel V6\n",
            "Ano                                                           2001\n",
            "Quilometragem                                              43814.0\n",
            "Zero_km                                                      False\n",
            "Acessórios       ['Travas elétricas', 'Central multimídia', 'Pa...\n",
            "Valor                                                    119074.55\n",
            "Name: Mohave, dtype: object\n",
            "indice Fusca - valores Motor                                                Motor 3.0 32v\n",
            "Ano                                                           2013\n",
            "Quilometragem                                              24638.0\n",
            "Zero_km                                                      False\n",
            "Acessórios       ['Câmbio automático', 'Teto panorâmico', 'Sens...\n",
            "Valor                                                    130238.04\n",
            "Name: Fusca, dtype: object\n",
            "indice Chana Family - valores Motor                                                     Motor V8\n",
            "Ano                                                           2019\n",
            "Quilometragem                                                  NaN\n",
            "Zero_km                                                       True\n",
            "Acessórios       ['Piloto automático', 'Teto panorâmico', 'Sens...\n",
            "Valor                                                    115760.17\n",
            "Name: Chana Family, dtype: object\n",
            "indice XC40 - valores Motor                                              Motor 2.4 Turbo\n",
            "Ano                                                           2017\n",
            "Quilometragem                                             110966.0\n",
            "Zero_km                                                      False\n",
            "Acessórios       ['Sensor de chuva', 'Central multimídia', 'Vid...\n",
            "Valor                                                     121248.0\n",
            "Name: XC40, dtype: object\n",
            "indice Phantom I Jonckheere Aerodynamic Coupe - valores Motor                                                Motor 1.8 16v\n",
            "Ano                                                           2011\n",
            "Quilometragem                                              15987.0\n",
            "Zero_km                                                      False\n",
            "Acessórios       ['Sensor crepuscular', 'Travas elétricas', 'Pi...\n",
            "Valor                                                     98156.35\n",
            "Name: Phantom I Jonckheere Aerodynamic Coupe, dtype: object\n",
            "indice Boxer - valores Motor                                                     Motor V6\n",
            "Ano                                                           2005\n",
            "Quilometragem                                              53369.0\n",
            "Zero_km                                                      False\n",
            "Acessórios       ['Travas elétricas', 'Piloto automático', 'Vid...\n",
            "Valor                                                     112146.8\n",
            "Name: Boxer, dtype: object\n",
            "indice Chana Cargo - valores Motor                                                Motor 2.0 16v\n",
            "Ano                                                           2007\n",
            "Quilometragem                                              10077.0\n",
            "Zero_km                                                      False\n",
            "Acessórios       ['Teto panorâmico', '4 X 4', 'Central multimíd...\n",
            "Valor                                                    102729.63\n",
            "Name: Chana Cargo, dtype: object\n",
            "indice Dodge Dakota - valores Motor                                                 Motor Diesel\n",
            "Ano                                                           1993\n",
            "Quilometragem                                              71544.0\n",
            "Zero_km                                                      False\n",
            "Acessórios       ['Controle de tração', 'Sensor de estacionamen...\n",
            "Valor                                                    141083.35\n",
            "Name: Dodge Dakota, dtype: object\n",
            "indice X1 - valores Motor                                              Motor Diesel V8\n",
            "Ano                                                           1991\n",
            "Quilometragem                                                107.0\n",
            "Zero_km                                                      False\n",
            "Acessórios       ['4 X 4', 'Teto panorâmico', 'Ar condicionado'...\n",
            "Valor                                                    102968.76\n",
            "Name: X1, dtype: object\n",
            "indice GLA - valores Motor                                                 Motor 1.0 8v\n",
            "Ano                                                           1991\n",
            "Quilometragem                                               8394.0\n",
            "Zero_km                                                      False\n",
            "Acessórios       ['Sensor de chuva', 'Câmera de estacionamento'...\n",
            "Valor                                                     76310.01\n",
            "Name: GLA, dtype: object\n",
            "indice Range Rover Sport - valores Motor                                                 Motor 1.0 8v\n",
            "Ano                                                           1997\n",
            "Quilometragem                                              41498.0\n",
            "Zero_km                                                      False\n",
            "Acessórios       ['Sensor de estacionamento', 'Câmera de estaci...\n",
            "Valor                                                    120481.74\n",
            "Name: Range Rover Sport, dtype: object\n",
            "indice DS3 - valores Motor                                                Motor 1.8 16v\n",
            "Ano                                                           2000\n",
            "Quilometragem                                             116002.0\n",
            "Zero_km                                                      False\n",
            "Acessórios       ['Controle de estabilidade', 'Ar condicionado'...\n",
            "Valor                                                     54559.18\n",
            "Name: DS3, dtype: object\n",
            "indice Veracruz - valores Motor                                              Motor Diesel V8\n",
            "Ano                                                           2007\n",
            "Quilometragem                                             100858.0\n",
            "Zero_km                                                      False\n",
            "Acessórios       ['Controle de estabilidade', 'Câmera de estaci...\n",
            "Valor                                                     92957.64\n",
            "Name: Veracruz, dtype: object\n",
            "indice Cadillac CTS coupe, sedan, and wagon - valores Motor                                                     Motor V8\n",
            "Ano                                                           2006\n",
            "Quilometragem                                              67475.0\n",
            "Zero_km                                                      False\n",
            "Acessórios       ['Sensor de chuva', 'Sensor de estacionamento'...\n",
            "Valor                                                    127810.06\n",
            "Name: Cadillac CTS coupe, sedan, and wagon, dtype: object\n",
            "indice i30 CW - valores Motor                                                 Motor Diesel\n",
            "Ano                                                           2015\n",
            "Quilometragem                                               8497.0\n",
            "Zero_km                                                      False\n",
            "Acessórios       ['Sensor de chuva', 'Vidros elétricos', 'Contr...\n",
            "Valor                                                     73311.75\n",
            "Name: i30 CW, dtype: object\n",
            "indice Phantom III - valores Motor                                              Motor Diesel V6\n",
            "Ano                                                           2008\n",
            "Quilometragem                                               4420.0\n",
            "Zero_km                                                      False\n",
            "Acessórios       ['Vidros elétricos', 'Bancos de couro', 'Pilot...\n",
            "Valor                                                     65138.03\n",
            "Name: Phantom III, dtype: object\n",
            "indice A3 Sedan - valores Motor                                                     Motor V6\n",
            "Ano                                                           2019\n",
            "Quilometragem                                                  NaN\n",
            "Zero_km                                                       True\n",
            "Acessórios       ['Ar condicionado', 'Sensor de chuva', 'Travas...\n",
            "Valor                                                     90141.47\n",
            "Name: A3 Sedan, dtype: object\n",
            "indice Aston Martin DB9 Volante - valores Motor                                                Motor 2.0 16v\n",
            "Ano                                                           1996\n",
            "Quilometragem                                              58537.0\n",
            "Zero_km                                                      False\n",
            "Acessórios       ['Central multimídia', 'Bancos de couro', 'Câm...\n",
            "Valor                                                     71160.36\n",
            "Name: Aston Martin DB9 Volante, dtype: object\n",
            "indice Série 7 Sedã - valores Motor                                                 Motor Diesel\n",
            "Ano                                                           2019\n",
            "Quilometragem                                                  NaN\n",
            "Zero_km                                                       True\n",
            "Acessórios       ['Vidros elétricos', 'Travas elétricas', 'Roda...\n",
            "Valor                                                     67539.79\n",
            "Name: Série 7 Sedã, dtype: object\n",
            "indice Lamborghini Reventón - valores Motor                                              Motor 4.0 Turbo\n",
            "Ano                                                           2019\n",
            "Quilometragem                                                  NaN\n",
            "Zero_km                                                       True\n",
            "Acessórios       ['Controle de tração', 'Ar condicionado', 'Cen...\n",
            "Valor                                                     67664.86\n",
            "Name: Lamborghini Reventón, dtype: object\n",
            "indice Grand Livina - valores Motor                                                Motor 2.0 16v\n",
            "Ano                                                           2014\n",
            "Quilometragem                                             112016.0\n",
            "Zero_km                                                      False\n",
            "Acessórios       ['Controle de tração', 'Teto panorâmico', 'Vid...\n",
            "Valor                                                     68652.16\n",
            "Name: Grand Livina, dtype: object\n",
            "indice V60 - valores Motor                                                 Motor Diesel\n",
            "Ano                                                           2004\n",
            "Quilometragem                                              91840.0\n",
            "Zero_km                                                      False\n",
            "Acessórios       ['Rodas de liga', 'Sensor crepuscular', 'Ar co...\n",
            "Valor                                                    114728.74\n",
            "Name: V60, dtype: object\n",
            "indice Effa Hafei Picape Cabine Dupla - valores Motor                                                     Motor V6\n",
            "Ano                                                           2008\n",
            "Quilometragem                                             112787.0\n",
            "Zero_km                                                      False\n",
            "Acessórios       ['Sensor crepuscular', 'Controle de tração', '...\n",
            "Valor                                                    141645.08\n",
            "Name: Effa Hafei Picape Cabine Dupla, dtype: object\n",
            "indice Benni Mini - valores Motor                                                     Motor V8\n",
            "Ano                                                           2019\n",
            "Quilometragem                                                  NaN\n",
            "Zero_km                                                       True\n",
            "Acessórios       ['Sensor crepuscular', 'Câmbio automático', 'C...\n",
            "Valor                                                    126247.84\n",
            "Name: Benni Mini, dtype: object\n",
            "indice Uno - valores Motor                                              Motor Diesel V6\n",
            "Ano                                                           2019\n",
            "Quilometragem                                                  NaN\n",
            "Zero_km                                                       True\n",
            "Acessórios       ['Central multimídia', 'Sensor crepuscular', '...\n",
            "Valor                                                    128852.21\n",
            "Name: Uno, dtype: object\n",
            "indice L200 Savana - valores Motor                                                Motor 2.0 16v\n",
            "Ano                                                           2012\n",
            "Quilometragem                                               9293.0\n",
            "Zero_km                                                      False\n",
            "Acessórios       ['Sensor de chuva', 'Vidros elétricos', 'Paine...\n",
            "Valor                                                    132384.76\n",
            "Name: L200 Savana, dtype: object\n",
            "indice Santa Fe - valores Motor                                                Motor 3.0 32v\n",
            "Ano                                                           2019\n",
            "Quilometragem                                                  NaN\n",
            "Zero_km                                                       True\n",
            "Acessórios       ['Travas elétricas', 'Ar condicionado', '4 X 4...\n",
            "Valor                                                    129415.33\n",
            "Name: Santa Fe, dtype: object\n",
            "indice RS5 - valores Motor                                                     Motor V6\n",
            "Ano                                                           1996\n",
            "Quilometragem                                              55083.0\n",
            "Zero_km                                                      False\n",
            "Acessórios       ['Painel digital', 'Câmbio automático', 'Vidro...\n",
            "Valor                                                     89536.82\n",
            "Name: RS5, dtype: object\n",
            "indice Cerato - valores Motor                                                     Motor V6\n",
            "Ano                                                           2011\n",
            "Quilometragem                                              48796.0\n",
            "Zero_km                                                      False\n",
            "Acessórios       ['Sensor de estacionamento', 'Câmera de estaci...\n",
            "Valor                                                      87975.3\n",
            "Name: Cerato, dtype: object\n",
            "indice XC60 - valores Motor                                              Motor 4.0 Turbo\n",
            "Ano                                                           2019\n",
            "Quilometragem                                                  NaN\n",
            "Zero_km                                                       True\n",
            "Acessórios       ['Painel digital', 'Piloto automático', 'Centr...\n",
            "Valor                                                     77675.79\n",
            "Name: XC60, dtype: object\n",
            "indice LS 460L - valores Motor                                              Motor Diesel V8\n",
            "Ano                                                           2010\n",
            "Quilometragem                                              89685.0\n",
            "Zero_km                                                      False\n",
            "Acessórios       ['Rodas de liga', 'Freios ABS', 'Controle de t...\n",
            "Valor                                                     58881.67\n",
            "Name: LS 460L, dtype: object\n",
            "indice Lamborghini Sesto Elemento - valores Motor                                                     Motor V8\n",
            "Ano                                                           2007\n",
            "Quilometragem                                              85384.0\n",
            "Zero_km                                                      False\n",
            "Acessórios       ['Sensor crepuscular', 'Freios ABS', 'Ar condi...\n",
            "Valor                                                     55081.99\n",
            "Name: Lamborghini Sesto Elemento, dtype: object\n",
            "indice Lamborghini Huracán - valores Motor                                                     Motor V8\n",
            "Ano                                                           1994\n",
            "Quilometragem                                              98108.0\n",
            "Zero_km                                                      False\n",
            "Acessórios       ['Sensor de chuva', 'Sensor de estacionamento'...\n",
            "Valor                                                    118826.44\n",
            "Name: Lamborghini Huracán, dtype: object\n",
            "indice A7 - valores Motor                                                 Motor 1.0 8v\n",
            "Ano                                                           2007\n",
            "Quilometragem                                              71280.0\n",
            "Zero_km                                                      False\n",
            "Acessórios       ['Sensor de chuva', 'Vidros elétricos', 'Senso...\n",
            "Valor                                                    137627.62\n",
            "Name: A7, dtype: object\n",
            "indice Phantom 2013 - valores Motor                                                     Motor V8\n",
            "Ano                                                           2014\n",
            "Quilometragem                                              27505.0\n",
            "Zero_km                                                      False\n",
            "Acessórios       ['Controle de estabilidade', 'Piloto automátic...\n",
            "Valor                                                     51759.58\n",
            "Name: Phantom 2013, dtype: object\n",
            "indice Cadillac Ciel concept - valores Motor                                                     Motor V8\n",
            "Ano                                                           1991\n",
            "Quilometragem                                              29981.0\n",
            "Zero_km                                                      False\n",
            "Acessórios       ['Bancos de couro', 'Painel digital', 'Sensor ...\n",
            "Valor                                                     51667.06\n",
            "Name: Cadillac Ciel concept, dtype: object\n",
            "indice Classe GLK - valores Motor                                        Motor 5.0 V8 Bi-Turbo\n",
            "Ano                                                           2002\n",
            "Quilometragem                                              52637.0\n",
            "Zero_km                                                      False\n",
            "Acessórios       ['Rodas de liga', 'Controle de tração', 'Câmbi...\n",
            "Valor                                                     68934.03\n",
            "Name: Classe GLK, dtype: object\n",
            "indice Aston Martin DB5 - valores Motor                                                 Motor Diesel\n",
            "Ano                                                           1996\n",
            "Quilometragem                                               7685.0\n",
            "Zero_km                                                      False\n",
            "Acessórios       ['Ar condicionado', '4 X 4', 'Câmbio automátic...\n",
            "Valor                                                     122110.9\n",
            "Name: Aston Martin DB5, dtype: object\n",
            "indice Macan - valores Motor                                              Motor Diesel V6\n",
            "Ano                                                           1992\n",
            "Quilometragem                                              50188.0\n",
            "Zero_km                                                      False\n",
            "Acessórios       ['Central multimídia', 'Teto panorâmico', 'Vid...\n",
            "Valor                                                     90381.47\n",
            "Name: Macan, dtype: object\n"
          ]
        }
      ],
      "source": [
        "for index, item in df_externo.iterrows():\n",
        "    print(f'indice {index} - valores {item}')"
      ]
    },
    {
      "cell_type": "code",
      "execution_count": 265,
      "metadata": {},
      "outputs": [],
      "source": [
        "for index, item in df_externo.iterrows():\n",
        "    if (2019 - item['Ano'] != 0):\n",
        "        df_externo.loc[index, 'km_media'] = item['Quilometragem'] / (2019 - item['Ano'])\n",
        "    else:\n",
        "        df_externo.loc[index, 'km_media'] = item['Quilometragem']"
      ]
    },
    {
      "cell_type": "code",
      "execution_count": 266,
      "metadata": {},
      "outputs": [
        {
          "data": {
            "text/html": [
              "<div>\n",
              "<style scoped>\n",
              "    .dataframe tbody tr th:only-of-type {\n",
              "        vertical-align: middle;\n",
              "    }\n",
              "\n",
              "    .dataframe tbody tr th {\n",
              "        vertical-align: top;\n",
              "    }\n",
              "\n",
              "    .dataframe thead th {\n",
              "        text-align: right;\n",
              "    }\n",
              "</style>\n",
              "<table border=\"1\" class=\"dataframe\">\n",
              "  <thead>\n",
              "    <tr style=\"text-align: right;\">\n",
              "      <th></th>\n",
              "      <th>Motor</th>\n",
              "      <th>Ano</th>\n",
              "      <th>Quilometragem</th>\n",
              "      <th>Zero_km</th>\n",
              "      <th>Acessórios</th>\n",
              "      <th>Valor</th>\n",
              "      <th>km_media</th>\n",
              "    </tr>\n",
              "    <tr>\n",
              "      <th>Nome</th>\n",
              "      <th></th>\n",
              "      <th></th>\n",
              "      <th></th>\n",
              "      <th></th>\n",
              "      <th></th>\n",
              "      <th></th>\n",
              "      <th></th>\n",
              "    </tr>\n",
              "  </thead>\n",
              "  <tbody>\n",
              "    <tr>\n",
              "      <th>Jetta Variant</th>\n",
              "      <td>Motor 4.0 Turbo</td>\n",
              "      <td>2003</td>\n",
              "      <td>44410.0</td>\n",
              "      <td>False</td>\n",
              "      <td>['Rodas de liga', 'Travas elétricas', 'Piloto ...</td>\n",
              "      <td>88078.64</td>\n",
              "      <td>2775.625000</td>\n",
              "    </tr>\n",
              "    <tr>\n",
              "      <th>Passat</th>\n",
              "      <td>Motor Diesel</td>\n",
              "      <td>1991</td>\n",
              "      <td>5712.0</td>\n",
              "      <td>False</td>\n",
              "      <td>['Central multimídia', 'Teto panorâmico', 'Fre...</td>\n",
              "      <td>106161.94</td>\n",
              "      <td>204.000000</td>\n",
              "    </tr>\n",
              "    <tr>\n",
              "      <th>Crossfox</th>\n",
              "      <td>Motor Diesel V8</td>\n",
              "      <td>1990</td>\n",
              "      <td>37123.0</td>\n",
              "      <td>False</td>\n",
              "      <td>['Piloto automático', 'Controle de estabilidad...</td>\n",
              "      <td>72832.16</td>\n",
              "      <td>1280.103448</td>\n",
              "    </tr>\n",
              "    <tr>\n",
              "      <th>DS5</th>\n",
              "      <td>Motor 2.4 Turbo</td>\n",
              "      <td>2019</td>\n",
              "      <td>NaN</td>\n",
              "      <td>True</td>\n",
              "      <td>['Travas elétricas', '4 X 4', 'Vidros elétrico...</td>\n",
              "      <td>124549.07</td>\n",
              "      <td>NaN</td>\n",
              "    </tr>\n",
              "    <tr>\n",
              "      <th>Aston Martin DB4</th>\n",
              "      <td>Motor 2.4 Turbo</td>\n",
              "      <td>2006</td>\n",
              "      <td>25757.0</td>\n",
              "      <td>False</td>\n",
              "      <td>['Rodas de liga', '4 X 4', 'Central multimídia...</td>\n",
              "      <td>92612.10</td>\n",
              "      <td>1981.307692</td>\n",
              "    </tr>\n",
              "  </tbody>\n",
              "</table>\n",
              "</div>"
            ],
            "text/plain": [
              "                            Motor   Ano  Quilometragem  Zero_km  \\\n",
              "Nome                                                              \n",
              "Jetta Variant     Motor 4.0 Turbo  2003        44410.0    False   \n",
              "Passat               Motor Diesel  1991         5712.0    False   \n",
              "Crossfox          Motor Diesel V8  1990        37123.0    False   \n",
              "DS5               Motor 2.4 Turbo  2019            NaN     True   \n",
              "Aston Martin DB4  Motor 2.4 Turbo  2006        25757.0    False   \n",
              "\n",
              "                                                         Acessórios  \\\n",
              "Nome                                                                  \n",
              "Jetta Variant     ['Rodas de liga', 'Travas elétricas', 'Piloto ...   \n",
              "Passat            ['Central multimídia', 'Teto panorâmico', 'Fre...   \n",
              "Crossfox          ['Piloto automático', 'Controle de estabilidad...   \n",
              "DS5               ['Travas elétricas', '4 X 4', 'Vidros elétrico...   \n",
              "Aston Martin DB4  ['Rodas de liga', '4 X 4', 'Central multimídia...   \n",
              "\n",
              "                      Valor     km_media  \n",
              "Nome                                      \n",
              "Jetta Variant      88078.64  2775.625000  \n",
              "Passat            106161.94   204.000000  \n",
              "Crossfox           72832.16  1280.103448  \n",
              "DS5               124549.07          NaN  \n",
              "Aston Martin DB4   92612.10  1981.307692  "
            ]
          },
          "execution_count": 266,
          "metadata": {},
          "output_type": "execute_result"
        }
      ],
      "source": [
        "df_externo.head()"
      ]
    },
    {
      "cell_type": "markdown",
      "metadata": {
        "colab_type": "text",
        "id": "HnUzHFQPD1Ba"
      },
      "source": [
        "# 5.5 Tratamento de dados"
      ]
    },
    {
      "cell_type": "code",
      "execution_count": 267,
      "metadata": {
        "colab": {},
        "colab_type": "code",
        "id": "FRxBWoBGD1Ba"
      },
      "outputs": [
        {
          "data": {
            "text/html": [
              "<div>\n",
              "<style scoped>\n",
              "    .dataframe tbody tr th:only-of-type {\n",
              "        vertical-align: middle;\n",
              "    }\n",
              "\n",
              "    .dataframe tbody tr th {\n",
              "        vertical-align: top;\n",
              "    }\n",
              "\n",
              "    .dataframe thead th {\n",
              "        text-align: right;\n",
              "    }\n",
              "</style>\n",
              "<table border=\"1\" class=\"dataframe\">\n",
              "  <thead>\n",
              "    <tr style=\"text-align: right;\">\n",
              "      <th></th>\n",
              "      <th>Motor</th>\n",
              "      <th>Ano</th>\n",
              "      <th>Quilometragem</th>\n",
              "      <th>Zero_km</th>\n",
              "      <th>Acessórios</th>\n",
              "      <th>Valor</th>\n",
              "      <th>km_media</th>\n",
              "    </tr>\n",
              "    <tr>\n",
              "      <th>Nome</th>\n",
              "      <th></th>\n",
              "      <th></th>\n",
              "      <th></th>\n",
              "      <th></th>\n",
              "      <th></th>\n",
              "      <th></th>\n",
              "      <th></th>\n",
              "    </tr>\n",
              "  </thead>\n",
              "  <tbody>\n",
              "    <tr>\n",
              "      <th>Jetta Variant</th>\n",
              "      <td>Motor 4.0 Turbo</td>\n",
              "      <td>2003</td>\n",
              "      <td>44410.0</td>\n",
              "      <td>False</td>\n",
              "      <td>['Rodas de liga', 'Travas elétricas', 'Piloto ...</td>\n",
              "      <td>88078.64</td>\n",
              "      <td>2775.625000</td>\n",
              "    </tr>\n",
              "    <tr>\n",
              "      <th>Passat</th>\n",
              "      <td>Motor Diesel</td>\n",
              "      <td>1991</td>\n",
              "      <td>5712.0</td>\n",
              "      <td>False</td>\n",
              "      <td>['Central multimídia', 'Teto panorâmico', 'Fre...</td>\n",
              "      <td>106161.94</td>\n",
              "      <td>204.000000</td>\n",
              "    </tr>\n",
              "    <tr>\n",
              "      <th>Crossfox</th>\n",
              "      <td>Motor Diesel V8</td>\n",
              "      <td>1990</td>\n",
              "      <td>37123.0</td>\n",
              "      <td>False</td>\n",
              "      <td>['Piloto automático', 'Controle de estabilidad...</td>\n",
              "      <td>72832.16</td>\n",
              "      <td>1280.103448</td>\n",
              "    </tr>\n",
              "    <tr>\n",
              "      <th>DS5</th>\n",
              "      <td>Motor 2.4 Turbo</td>\n",
              "      <td>2019</td>\n",
              "      <td>NaN</td>\n",
              "      <td>True</td>\n",
              "      <td>['Travas elétricas', '4 X 4', 'Vidros elétrico...</td>\n",
              "      <td>124549.07</td>\n",
              "      <td>NaN</td>\n",
              "    </tr>\n",
              "    <tr>\n",
              "      <th>Aston Martin DB4</th>\n",
              "      <td>Motor 2.4 Turbo</td>\n",
              "      <td>2006</td>\n",
              "      <td>25757.0</td>\n",
              "      <td>False</td>\n",
              "      <td>['Rodas de liga', '4 X 4', 'Central multimídia...</td>\n",
              "      <td>92612.10</td>\n",
              "      <td>1981.307692</td>\n",
              "    </tr>\n",
              "  </tbody>\n",
              "</table>\n",
              "</div>"
            ],
            "text/plain": [
              "                            Motor   Ano  Quilometragem  Zero_km  \\\n",
              "Nome                                                              \n",
              "Jetta Variant     Motor 4.0 Turbo  2003        44410.0    False   \n",
              "Passat               Motor Diesel  1991         5712.0    False   \n",
              "Crossfox          Motor Diesel V8  1990        37123.0    False   \n",
              "DS5               Motor 2.4 Turbo  2019            NaN     True   \n",
              "Aston Martin DB4  Motor 2.4 Turbo  2006        25757.0    False   \n",
              "\n",
              "                                                         Acessórios  \\\n",
              "Nome                                                                  \n",
              "Jetta Variant     ['Rodas de liga', 'Travas elétricas', 'Piloto ...   \n",
              "Passat            ['Central multimídia', 'Teto panorâmico', 'Fre...   \n",
              "Crossfox          ['Piloto automático', 'Controle de estabilidad...   \n",
              "DS5               ['Travas elétricas', '4 X 4', 'Vidros elétrico...   \n",
              "Aston Martin DB4  ['Rodas de liga', '4 X 4', 'Central multimídia...   \n",
              "\n",
              "                      Valor     km_media  \n",
              "Nome                                      \n",
              "Jetta Variant      88078.64  2775.625000  \n",
              "Passat            106161.94   204.000000  \n",
              "Crossfox           72832.16  1280.103448  \n",
              "DS5               124549.07          NaN  \n",
              "Aston Martin DB4   92612.10  1981.307692  "
            ]
          },
          "execution_count": 267,
          "metadata": {},
          "output_type": "execute_result"
        }
      ],
      "source": [
        "df_externo.head()"
      ]
    },
    {
      "cell_type": "code",
      "execution_count": 268,
      "metadata": {
        "colab": {},
        "colab_type": "code",
        "id": "HHSwH0ZaD1Bc"
      },
      "outputs": [
        {
          "name": "stdout",
          "output_type": "stream",
          "text": [
            "<class 'pandas.core.frame.DataFrame'>\n",
            "Index: 258 entries, Jetta Variant to Macan\n",
            "Data columns (total 7 columns):\n",
            " #   Column         Non-Null Count  Dtype  \n",
            "---  ------         --------------  -----  \n",
            " 0   Motor          258 non-null    object \n",
            " 1   Ano            258 non-null    int64  \n",
            " 2   Quilometragem  197 non-null    float64\n",
            " 3   Zero_km        258 non-null    bool   \n",
            " 4   Acessórios     258 non-null    object \n",
            " 5   Valor          258 non-null    float64\n",
            " 6   km_media       197 non-null    float64\n",
            "dtypes: bool(1), float64(3), int64(1), object(2)\n",
            "memory usage: 22.5+ KB\n"
          ]
        }
      ],
      "source": [
        "df_externo.info()"
      ]
    },
    {
      "cell_type": "code",
      "execution_count": 269,
      "metadata": {
        "colab": {},
        "colab_type": "code",
        "id": "G27pxgZ5D1Bd",
        "scrolled": true
      },
      "outputs": [
        {
          "data": {
            "text/plain": [
              "Nome\n",
              "Jetta Variant            False\n",
              "Passat                   False\n",
              "Crossfox                 False\n",
              "DS5                       True\n",
              "Aston Martin DB4         False\n",
              "                         ...  \n",
              "Phantom 2013             False\n",
              "Cadillac Ciel concept    False\n",
              "Classe GLK               False\n",
              "Aston Martin DB5         False\n",
              "Macan                    False\n",
              "Name: Quilometragem, Length: 258, dtype: bool"
            ]
          },
          "execution_count": 269,
          "metadata": {},
          "output_type": "execute_result"
        }
      ],
      "source": [
        "df_externo.Quilometragem.isna()"
      ]
    },
    {
      "cell_type": "code",
      "execution_count": 270,
      "metadata": {
        "colab": {},
        "colab_type": "code",
        "id": "DhlRbxy2D1Bd",
        "scrolled": true
      },
      "outputs": [
        {
          "data": {
            "text/html": [
              "<div>\n",
              "<style scoped>\n",
              "    .dataframe tbody tr th:only-of-type {\n",
              "        vertical-align: middle;\n",
              "    }\n",
              "\n",
              "    .dataframe tbody tr th {\n",
              "        vertical-align: top;\n",
              "    }\n",
              "\n",
              "    .dataframe thead th {\n",
              "        text-align: right;\n",
              "    }\n",
              "</style>\n",
              "<table border=\"1\" class=\"dataframe\">\n",
              "  <thead>\n",
              "    <tr style=\"text-align: right;\">\n",
              "      <th></th>\n",
              "      <th>Motor</th>\n",
              "      <th>Ano</th>\n",
              "      <th>Quilometragem</th>\n",
              "      <th>Zero_km</th>\n",
              "      <th>Acessórios</th>\n",
              "      <th>Valor</th>\n",
              "      <th>km_media</th>\n",
              "    </tr>\n",
              "    <tr>\n",
              "      <th>Nome</th>\n",
              "      <th></th>\n",
              "      <th></th>\n",
              "      <th></th>\n",
              "      <th></th>\n",
              "      <th></th>\n",
              "      <th></th>\n",
              "      <th></th>\n",
              "    </tr>\n",
              "  </thead>\n",
              "  <tbody>\n",
              "    <tr>\n",
              "      <th>DS5</th>\n",
              "      <td>Motor 2.4 Turbo</td>\n",
              "      <td>2019</td>\n",
              "      <td>NaN</td>\n",
              "      <td>True</td>\n",
              "      <td>['Travas elétricas', '4 X 4', 'Vidros elétrico...</td>\n",
              "      <td>124549.07</td>\n",
              "      <td>NaN</td>\n",
              "    </tr>\n",
              "    <tr>\n",
              "      <th>A5</th>\n",
              "      <td>Motor 4.0 Turbo</td>\n",
              "      <td>2019</td>\n",
              "      <td>NaN</td>\n",
              "      <td>True</td>\n",
              "      <td>['Câmbio automático', 'Câmera de estacionament...</td>\n",
              "      <td>56445.20</td>\n",
              "      <td>NaN</td>\n",
              "    </tr>\n",
              "    <tr>\n",
              "      <th>J5</th>\n",
              "      <td>Motor V6</td>\n",
              "      <td>2019</td>\n",
              "      <td>NaN</td>\n",
              "      <td>True</td>\n",
              "      <td>['Sensor crepuscular', 'Painel digital', 'Roda...</td>\n",
              "      <td>53183.38</td>\n",
              "      <td>NaN</td>\n",
              "    </tr>\n",
              "    <tr>\n",
              "      <th>A3</th>\n",
              "      <td>Motor 1.0 8v</td>\n",
              "      <td>2019</td>\n",
              "      <td>NaN</td>\n",
              "      <td>True</td>\n",
              "      <td>['4 X 4', 'Piloto automático', 'Central multim...</td>\n",
              "      <td>88552.39</td>\n",
              "      <td>NaN</td>\n",
              "    </tr>\n",
              "    <tr>\n",
              "      <th>Série 1 M</th>\n",
              "      <td>Motor V8</td>\n",
              "      <td>2019</td>\n",
              "      <td>NaN</td>\n",
              "      <td>True</td>\n",
              "      <td>['Controle de estabilidade', 'Central multimíd...</td>\n",
              "      <td>94564.40</td>\n",
              "      <td>NaN</td>\n",
              "    </tr>\n",
              "    <tr>\n",
              "      <th>...</th>\n",
              "      <td>...</td>\n",
              "      <td>...</td>\n",
              "      <td>...</td>\n",
              "      <td>...</td>\n",
              "      <td>...</td>\n",
              "      <td>...</td>\n",
              "      <td>...</td>\n",
              "    </tr>\n",
              "    <tr>\n",
              "      <th>Lamborghini Reventón</th>\n",
              "      <td>Motor 4.0 Turbo</td>\n",
              "      <td>2019</td>\n",
              "      <td>NaN</td>\n",
              "      <td>True</td>\n",
              "      <td>['Controle de tração', 'Ar condicionado', 'Cen...</td>\n",
              "      <td>67664.86</td>\n",
              "      <td>NaN</td>\n",
              "    </tr>\n",
              "    <tr>\n",
              "      <th>Benni Mini</th>\n",
              "      <td>Motor V8</td>\n",
              "      <td>2019</td>\n",
              "      <td>NaN</td>\n",
              "      <td>True</td>\n",
              "      <td>['Sensor crepuscular', 'Câmbio automático', 'C...</td>\n",
              "      <td>126247.84</td>\n",
              "      <td>NaN</td>\n",
              "    </tr>\n",
              "    <tr>\n",
              "      <th>Uno</th>\n",
              "      <td>Motor Diesel V6</td>\n",
              "      <td>2019</td>\n",
              "      <td>NaN</td>\n",
              "      <td>True</td>\n",
              "      <td>['Central multimídia', 'Sensor crepuscular', '...</td>\n",
              "      <td>128852.21</td>\n",
              "      <td>NaN</td>\n",
              "    </tr>\n",
              "    <tr>\n",
              "      <th>Santa Fe</th>\n",
              "      <td>Motor 3.0 32v</td>\n",
              "      <td>2019</td>\n",
              "      <td>NaN</td>\n",
              "      <td>True</td>\n",
              "      <td>['Travas elétricas', 'Ar condicionado', '4 X 4...</td>\n",
              "      <td>129415.33</td>\n",
              "      <td>NaN</td>\n",
              "    </tr>\n",
              "    <tr>\n",
              "      <th>XC60</th>\n",
              "      <td>Motor 4.0 Turbo</td>\n",
              "      <td>2019</td>\n",
              "      <td>NaN</td>\n",
              "      <td>True</td>\n",
              "      <td>['Painel digital', 'Piloto automático', 'Centr...</td>\n",
              "      <td>77675.79</td>\n",
              "      <td>NaN</td>\n",
              "    </tr>\n",
              "  </tbody>\n",
              "</table>\n",
              "<p>61 rows × 7 columns</p>\n",
              "</div>"
            ],
            "text/plain": [
              "                                Motor   Ano  Quilometragem  Zero_km  \\\n",
              "Nome                                                                  \n",
              "DS5                   Motor 2.4 Turbo  2019            NaN     True   \n",
              "A5                    Motor 4.0 Turbo  2019            NaN     True   \n",
              "J5                           Motor V6  2019            NaN     True   \n",
              "A3                       Motor 1.0 8v  2019            NaN     True   \n",
              "Série 1 M                    Motor V8  2019            NaN     True   \n",
              "...                               ...   ...            ...      ...   \n",
              "Lamborghini Reventón  Motor 4.0 Turbo  2019            NaN     True   \n",
              "Benni Mini                   Motor V8  2019            NaN     True   \n",
              "Uno                   Motor Diesel V6  2019            NaN     True   \n",
              "Santa Fe                Motor 3.0 32v  2019            NaN     True   \n",
              "XC60                  Motor 4.0 Turbo  2019            NaN     True   \n",
              "\n",
              "                                                             Acessórios  \\\n",
              "Nome                                                                      \n",
              "DS5                   ['Travas elétricas', '4 X 4', 'Vidros elétrico...   \n",
              "A5                    ['Câmbio automático', 'Câmera de estacionament...   \n",
              "J5                    ['Sensor crepuscular', 'Painel digital', 'Roda...   \n",
              "A3                    ['4 X 4', 'Piloto automático', 'Central multim...   \n",
              "Série 1 M             ['Controle de estabilidade', 'Central multimíd...   \n",
              "...                                                                 ...   \n",
              "Lamborghini Reventón  ['Controle de tração', 'Ar condicionado', 'Cen...   \n",
              "Benni Mini            ['Sensor crepuscular', 'Câmbio automático', 'C...   \n",
              "Uno                   ['Central multimídia', 'Sensor crepuscular', '...   \n",
              "Santa Fe              ['Travas elétricas', 'Ar condicionado', '4 X 4...   \n",
              "XC60                  ['Painel digital', 'Piloto automático', 'Centr...   \n",
              "\n",
              "                          Valor  km_media  \n",
              "Nome                                       \n",
              "DS5                   124549.07       NaN  \n",
              "A5                     56445.20       NaN  \n",
              "J5                     53183.38       NaN  \n",
              "A3                     88552.39       NaN  \n",
              "Série 1 M              94564.40       NaN  \n",
              "...                         ...       ...  \n",
              "Lamborghini Reventón   67664.86       NaN  \n",
              "Benni Mini            126247.84       NaN  \n",
              "Uno                   128852.21       NaN  \n",
              "Santa Fe              129415.33       NaN  \n",
              "XC60                   77675.79       NaN  \n",
              "\n",
              "[61 rows x 7 columns]"
            ]
          },
          "execution_count": 270,
          "metadata": {},
          "output_type": "execute_result"
        }
      ],
      "source": [
        "df_externo[df_externo.Quilometragem.isna()]"
      ]
    },
    {
      "attachments": {},
      "cell_type": "markdown",
      "metadata": {},
      "source": [
        "Abordagem preenchendo com zeros os valores NaN"
      ]
    },
    {
      "cell_type": "code",
      "execution_count": 271,
      "metadata": {
        "colab": {},
        "colab_type": "code",
        "id": "OL04QU5RD1Be"
      },
      "outputs": [],
      "source": [
        "df_externo.fillna(0, inplace=True)"
      ]
    },
    {
      "cell_type": "code",
      "execution_count": 272,
      "metadata": {
        "colab": {},
        "colab_type": "code",
        "id": "fTH2JkGDD1Bf",
        "scrolled": true
      },
      "outputs": [
        {
          "name": "stdout",
          "output_type": "stream",
          "text": [
            "<class 'pandas.core.frame.DataFrame'>\n",
            "Index: 258 entries, Jetta Variant to Macan\n",
            "Data columns (total 7 columns):\n",
            " #   Column         Non-Null Count  Dtype  \n",
            "---  ------         --------------  -----  \n",
            " 0   Motor          258 non-null    object \n",
            " 1   Ano            258 non-null    int64  \n",
            " 2   Quilometragem  258 non-null    float64\n",
            " 3   Zero_km        258 non-null    bool   \n",
            " 4   Acessórios     258 non-null    object \n",
            " 5   Valor          258 non-null    float64\n",
            " 6   km_media       258 non-null    float64\n",
            "dtypes: bool(1), float64(3), int64(1), object(2)\n",
            "memory usage: 22.5+ KB\n"
          ]
        }
      ],
      "source": [
        "df_externo.info()"
      ]
    },
    {
      "cell_type": "code",
      "execution_count": 274,
      "metadata": {
        "colab": {},
        "colab_type": "code",
        "id": "lure2GvpD1Bg"
      },
      "outputs": [
        {
          "data": {
            "text/html": [
              "<div>\n",
              "<style scoped>\n",
              "    .dataframe tbody tr th:only-of-type {\n",
              "        vertical-align: middle;\n",
              "    }\n",
              "\n",
              "    .dataframe tbody tr th {\n",
              "        vertical-align: top;\n",
              "    }\n",
              "\n",
              "    .dataframe thead th {\n",
              "        text-align: right;\n",
              "    }\n",
              "</style>\n",
              "<table border=\"1\" class=\"dataframe\">\n",
              "  <thead>\n",
              "    <tr style=\"text-align: right;\">\n",
              "      <th></th>\n",
              "      <th>Motor</th>\n",
              "      <th>Ano</th>\n",
              "      <th>Quilometragem</th>\n",
              "      <th>Zero_km</th>\n",
              "      <th>Acessórios</th>\n",
              "      <th>Valor</th>\n",
              "      <th>km_media</th>\n",
              "    </tr>\n",
              "    <tr>\n",
              "      <th>Nome</th>\n",
              "      <th></th>\n",
              "      <th></th>\n",
              "      <th></th>\n",
              "      <th></th>\n",
              "      <th></th>\n",
              "      <th></th>\n",
              "      <th></th>\n",
              "    </tr>\n",
              "  </thead>\n",
              "  <tbody>\n",
              "    <tr>\n",
              "      <th>DS5</th>\n",
              "      <td>Motor 2.4 Turbo</td>\n",
              "      <td>2019</td>\n",
              "      <td>0.0</td>\n",
              "      <td>True</td>\n",
              "      <td>['Travas elétricas', '4 X 4', 'Vidros elétrico...</td>\n",
              "      <td>124549.07</td>\n",
              "      <td>0.0</td>\n",
              "    </tr>\n",
              "    <tr>\n",
              "      <th>A5</th>\n",
              "      <td>Motor 4.0 Turbo</td>\n",
              "      <td>2019</td>\n",
              "      <td>0.0</td>\n",
              "      <td>True</td>\n",
              "      <td>['Câmbio automático', 'Câmera de estacionament...</td>\n",
              "      <td>56445.20</td>\n",
              "      <td>0.0</td>\n",
              "    </tr>\n",
              "    <tr>\n",
              "      <th>J5</th>\n",
              "      <td>Motor V6</td>\n",
              "      <td>2019</td>\n",
              "      <td>0.0</td>\n",
              "      <td>True</td>\n",
              "      <td>['Sensor crepuscular', 'Painel digital', 'Roda...</td>\n",
              "      <td>53183.38</td>\n",
              "      <td>0.0</td>\n",
              "    </tr>\n",
              "    <tr>\n",
              "      <th>A3</th>\n",
              "      <td>Motor 1.0 8v</td>\n",
              "      <td>2019</td>\n",
              "      <td>0.0</td>\n",
              "      <td>True</td>\n",
              "      <td>['4 X 4', 'Piloto automático', 'Central multim...</td>\n",
              "      <td>88552.39</td>\n",
              "      <td>0.0</td>\n",
              "    </tr>\n",
              "    <tr>\n",
              "      <th>Série 1 M</th>\n",
              "      <td>Motor V8</td>\n",
              "      <td>2019</td>\n",
              "      <td>0.0</td>\n",
              "      <td>True</td>\n",
              "      <td>['Controle de estabilidade', 'Central multimíd...</td>\n",
              "      <td>94564.40</td>\n",
              "      <td>0.0</td>\n",
              "    </tr>\n",
              "    <tr>\n",
              "      <th>...</th>\n",
              "      <td>...</td>\n",
              "      <td>...</td>\n",
              "      <td>...</td>\n",
              "      <td>...</td>\n",
              "      <td>...</td>\n",
              "      <td>...</td>\n",
              "      <td>...</td>\n",
              "    </tr>\n",
              "    <tr>\n",
              "      <th>Lamborghini Reventón</th>\n",
              "      <td>Motor 4.0 Turbo</td>\n",
              "      <td>2019</td>\n",
              "      <td>0.0</td>\n",
              "      <td>True</td>\n",
              "      <td>['Controle de tração', 'Ar condicionado', 'Cen...</td>\n",
              "      <td>67664.86</td>\n",
              "      <td>0.0</td>\n",
              "    </tr>\n",
              "    <tr>\n",
              "      <th>Benni Mini</th>\n",
              "      <td>Motor V8</td>\n",
              "      <td>2019</td>\n",
              "      <td>0.0</td>\n",
              "      <td>True</td>\n",
              "      <td>['Sensor crepuscular', 'Câmbio automático', 'C...</td>\n",
              "      <td>126247.84</td>\n",
              "      <td>0.0</td>\n",
              "    </tr>\n",
              "    <tr>\n",
              "      <th>Uno</th>\n",
              "      <td>Motor Diesel V6</td>\n",
              "      <td>2019</td>\n",
              "      <td>0.0</td>\n",
              "      <td>True</td>\n",
              "      <td>['Central multimídia', 'Sensor crepuscular', '...</td>\n",
              "      <td>128852.21</td>\n",
              "      <td>0.0</td>\n",
              "    </tr>\n",
              "    <tr>\n",
              "      <th>Santa Fe</th>\n",
              "      <td>Motor 3.0 32v</td>\n",
              "      <td>2019</td>\n",
              "      <td>0.0</td>\n",
              "      <td>True</td>\n",
              "      <td>['Travas elétricas', 'Ar condicionado', '4 X 4...</td>\n",
              "      <td>129415.33</td>\n",
              "      <td>0.0</td>\n",
              "    </tr>\n",
              "    <tr>\n",
              "      <th>XC60</th>\n",
              "      <td>Motor 4.0 Turbo</td>\n",
              "      <td>2019</td>\n",
              "      <td>0.0</td>\n",
              "      <td>True</td>\n",
              "      <td>['Painel digital', 'Piloto automático', 'Centr...</td>\n",
              "      <td>77675.79</td>\n",
              "      <td>0.0</td>\n",
              "    </tr>\n",
              "  </tbody>\n",
              "</table>\n",
              "<p>61 rows × 7 columns</p>\n",
              "</div>"
            ],
            "text/plain": [
              "                                Motor   Ano  Quilometragem  Zero_km  \\\n",
              "Nome                                                                  \n",
              "DS5                   Motor 2.4 Turbo  2019            0.0     True   \n",
              "A5                    Motor 4.0 Turbo  2019            0.0     True   \n",
              "J5                           Motor V6  2019            0.0     True   \n",
              "A3                       Motor 1.0 8v  2019            0.0     True   \n",
              "Série 1 M                    Motor V8  2019            0.0     True   \n",
              "...                               ...   ...            ...      ...   \n",
              "Lamborghini Reventón  Motor 4.0 Turbo  2019            0.0     True   \n",
              "Benni Mini                   Motor V8  2019            0.0     True   \n",
              "Uno                   Motor Diesel V6  2019            0.0     True   \n",
              "Santa Fe                Motor 3.0 32v  2019            0.0     True   \n",
              "XC60                  Motor 4.0 Turbo  2019            0.0     True   \n",
              "\n",
              "                                                             Acessórios  \\\n",
              "Nome                                                                      \n",
              "DS5                   ['Travas elétricas', '4 X 4', 'Vidros elétrico...   \n",
              "A5                    ['Câmbio automático', 'Câmera de estacionament...   \n",
              "J5                    ['Sensor crepuscular', 'Painel digital', 'Roda...   \n",
              "A3                    ['4 X 4', 'Piloto automático', 'Central multim...   \n",
              "Série 1 M             ['Controle de estabilidade', 'Central multimíd...   \n",
              "...                                                                 ...   \n",
              "Lamborghini Reventón  ['Controle de tração', 'Ar condicionado', 'Cen...   \n",
              "Benni Mini            ['Sensor crepuscular', 'Câmbio automático', 'C...   \n",
              "Uno                   ['Central multimídia', 'Sensor crepuscular', '...   \n",
              "Santa Fe              ['Travas elétricas', 'Ar condicionado', '4 X 4...   \n",
              "XC60                  ['Painel digital', 'Piloto automático', 'Centr...   \n",
              "\n",
              "                          Valor  km_media  \n",
              "Nome                                       \n",
              "DS5                   124549.07       0.0  \n",
              "A5                     56445.20       0.0  \n",
              "J5                     53183.38       0.0  \n",
              "A3                     88552.39       0.0  \n",
              "Série 1 M              94564.40       0.0  \n",
              "...                         ...       ...  \n",
              "Lamborghini Reventón   67664.86       0.0  \n",
              "Benni Mini            126247.84       0.0  \n",
              "Uno                   128852.21       0.0  \n",
              "Santa Fe              129415.33       0.0  \n",
              "XC60                   77675.79       0.0  \n",
              "\n",
              "[61 rows x 7 columns]"
            ]
          },
          "execution_count": 274,
          "metadata": {},
          "output_type": "execute_result"
        }
      ],
      "source": [
        "# Visualizando onde estava null\n",
        "df_externo[df_externo.Zero_km == True]"
      ]
    },
    {
      "cell_type": "code",
      "execution_count": 275,
      "metadata": {
        "colab": {},
        "colab_type": "code",
        "id": "4-ZvhXjvD1Bj"
      },
      "outputs": [],
      "source": [
        "df_externo = pd.read_csv('dados/db.csv', sep=';')"
      ]
    },
    {
      "cell_type": "code",
      "execution_count": 276,
      "metadata": {
        "colab": {},
        "colab_type": "code",
        "id": "MQUw7i1OD1Bk",
        "scrolled": true
      },
      "outputs": [
        {
          "data": {
            "text/html": [
              "<div>\n",
              "<style scoped>\n",
              "    .dataframe tbody tr th:only-of-type {\n",
              "        vertical-align: middle;\n",
              "    }\n",
              "\n",
              "    .dataframe tbody tr th {\n",
              "        vertical-align: top;\n",
              "    }\n",
              "\n",
              "    .dataframe thead th {\n",
              "        text-align: right;\n",
              "    }\n",
              "</style>\n",
              "<table border=\"1\" class=\"dataframe\">\n",
              "  <thead>\n",
              "    <tr style=\"text-align: right;\">\n",
              "      <th></th>\n",
              "      <th>Nome</th>\n",
              "      <th>Motor</th>\n",
              "      <th>Ano</th>\n",
              "      <th>Quilometragem</th>\n",
              "      <th>Zero_km</th>\n",
              "      <th>Acessórios</th>\n",
              "      <th>Valor</th>\n",
              "    </tr>\n",
              "  </thead>\n",
              "  <tbody>\n",
              "    <tr>\n",
              "      <th>0</th>\n",
              "      <td>Jetta Variant</td>\n",
              "      <td>Motor 4.0 Turbo</td>\n",
              "      <td>2003</td>\n",
              "      <td>44410.0</td>\n",
              "      <td>False</td>\n",
              "      <td>['Rodas de liga', 'Travas elétricas', 'Piloto ...</td>\n",
              "      <td>88078.64</td>\n",
              "    </tr>\n",
              "    <tr>\n",
              "      <th>1</th>\n",
              "      <td>Passat</td>\n",
              "      <td>Motor Diesel</td>\n",
              "      <td>1991</td>\n",
              "      <td>5712.0</td>\n",
              "      <td>False</td>\n",
              "      <td>['Central multimídia', 'Teto panorâmico', 'Fre...</td>\n",
              "      <td>106161.94</td>\n",
              "    </tr>\n",
              "    <tr>\n",
              "      <th>2</th>\n",
              "      <td>Crossfox</td>\n",
              "      <td>Motor Diesel V8</td>\n",
              "      <td>1990</td>\n",
              "      <td>37123.0</td>\n",
              "      <td>False</td>\n",
              "      <td>['Piloto automático', 'Controle de estabilidad...</td>\n",
              "      <td>72832.16</td>\n",
              "    </tr>\n",
              "    <tr>\n",
              "      <th>3</th>\n",
              "      <td>DS5</td>\n",
              "      <td>Motor 2.4 Turbo</td>\n",
              "      <td>2019</td>\n",
              "      <td>NaN</td>\n",
              "      <td>True</td>\n",
              "      <td>['Travas elétricas', '4 X 4', 'Vidros elétrico...</td>\n",
              "      <td>124549.07</td>\n",
              "    </tr>\n",
              "    <tr>\n",
              "      <th>4</th>\n",
              "      <td>Aston Martin DB4</td>\n",
              "      <td>Motor 2.4 Turbo</td>\n",
              "      <td>2006</td>\n",
              "      <td>25757.0</td>\n",
              "      <td>False</td>\n",
              "      <td>['Rodas de liga', '4 X 4', 'Central multimídia...</td>\n",
              "      <td>92612.10</td>\n",
              "    </tr>\n",
              "  </tbody>\n",
              "</table>\n",
              "</div>"
            ],
            "text/plain": [
              "               Nome            Motor   Ano  Quilometragem  Zero_km  \\\n",
              "0     Jetta Variant  Motor 4.0 Turbo  2003        44410.0    False   \n",
              "1            Passat     Motor Diesel  1991         5712.0    False   \n",
              "2          Crossfox  Motor Diesel V8  1990        37123.0    False   \n",
              "3               DS5  Motor 2.4 Turbo  2019            NaN     True   \n",
              "4  Aston Martin DB4  Motor 2.4 Turbo  2006        25757.0    False   \n",
              "\n",
              "                                          Acessórios      Valor  \n",
              "0  ['Rodas de liga', 'Travas elétricas', 'Piloto ...   88078.64  \n",
              "1  ['Central multimídia', 'Teto panorâmico', 'Fre...  106161.94  \n",
              "2  ['Piloto automático', 'Controle de estabilidad...   72832.16  \n",
              "3  ['Travas elétricas', '4 X 4', 'Vidros elétrico...  124549.07  \n",
              "4  ['Rodas de liga', '4 X 4', 'Central multimídia...   92612.10  "
            ]
          },
          "execution_count": 276,
          "metadata": {},
          "output_type": "execute_result"
        }
      ],
      "source": [
        "df_externo.head()"
      ]
    },
    {
      "cell_type": "code",
      "execution_count": 281,
      "metadata": {
        "colab": {},
        "colab_type": "code",
        "id": "U4Cse7miD1Bl"
      },
      "outputs": [
        {
          "name": "stdout",
          "output_type": "stream",
          "text": [
            "<class 'pandas.core.frame.DataFrame'>\n",
            "RangeIndex: 258 entries, 0 to 257\n",
            "Data columns (total 7 columns):\n",
            " #   Column         Non-Null Count  Dtype  \n",
            "---  ------         --------------  -----  \n",
            " 0   Nome           258 non-null    object \n",
            " 1   Motor          258 non-null    object \n",
            " 2   Ano            258 non-null    int64  \n",
            " 3   Quilometragem  197 non-null    float64\n",
            " 4   Zero_km        258 non-null    bool   \n",
            " 5   Acessórios     258 non-null    object \n",
            " 6   Valor          258 non-null    float64\n",
            "dtypes: bool(1), float64(2), int64(1), object(3)\n",
            "memory usage: 12.5+ KB\n"
          ]
        }
      ],
      "source": [
        "df_externo.info()"
      ]
    },
    {
      "attachments": {},
      "cell_type": "markdown",
      "metadata": {},
      "source": [
        "Abordagem excluindo registros"
      ]
    },
    {
      "cell_type": "code",
      "execution_count": 282,
      "metadata": {
        "colab": {},
        "colab_type": "code",
        "id": "8L4wum05D1Bl",
        "scrolled": true
      },
      "outputs": [],
      "source": [
        "df_externo.dropna(subset = ['Quilometragem'], inplace=True)"
      ]
    },
    {
      "cell_type": "code",
      "execution_count": 283,
      "metadata": {
        "colab": {},
        "colab_type": "code",
        "id": "8iLOc-U3D1Bm"
      },
      "outputs": [
        {
          "name": "stdout",
          "output_type": "stream",
          "text": [
            "<class 'pandas.core.frame.DataFrame'>\n",
            "Int64Index: 197 entries, 0 to 257\n",
            "Data columns (total 7 columns):\n",
            " #   Column         Non-Null Count  Dtype  \n",
            "---  ------         --------------  -----  \n",
            " 0   Nome           197 non-null    object \n",
            " 1   Motor          197 non-null    object \n",
            " 2   Ano            197 non-null    int64  \n",
            " 3   Quilometragem  197 non-null    float64\n",
            " 4   Zero_km        197 non-null    bool   \n",
            " 5   Acessórios     197 non-null    object \n",
            " 6   Valor          197 non-null    float64\n",
            "dtypes: bool(1), float64(2), int64(1), object(3)\n",
            "memory usage: 11.0+ KB\n"
          ]
        }
      ],
      "source": [
        "df_externo.info()"
      ]
    }
  ],
  "metadata": {
    "colab": {
      "name": "Python para Data Science - Pandas.ipynb",
      "provenance": []
    },
    "kernelspec": {
      "display_name": "alura_ml_200122",
      "language": "python",
      "name": "python3"
    },
    "language_info": {
      "codemirror_mode": {
        "name": "ipython",
        "version": 3
      },
      "file_extension": ".py",
      "mimetype": "text/x-python",
      "name": "python",
      "nbconvert_exporter": "python",
      "pygments_lexer": "ipython3",
      "version": "3.11.1 (tags/v3.11.1:a7a450f, Dec  6 2022, 19:58:39) [MSC v.1934 64 bit (AMD64)]"
    },
    "vscode": {
      "interpreter": {
        "hash": "f49138fe769091acb5753a70d24fa891289974037716dff28f65d56d7de72cc1"
      }
    }
  },
  "nbformat": 4,
  "nbformat_minor": 0
}
