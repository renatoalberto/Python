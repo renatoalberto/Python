{
 "cells": [
  {
   "cell_type": "markdown",
   "id": "50a71e28",
   "metadata": {},
   "source": [
    "# Aula 01.3\n",
    "\n",
    "### Limpando os dados e visualizando uma distribuição"
   ]
  },
  {
   "cell_type": "markdown",
   "id": "7c3e7012",
   "metadata": {},
   "source": [
    "No projeto deste curso, utilizaremos dois conjuntos de dados diferentes:\n",
    "\n",
    "* [MovieLens](https://grouplens.org/datasets/movielens/100k/) - do instituto de pesquisa Grouplens, que agrupa avaliações de filmes\n",
    "* [TMDB 5000](https://www.kaggle.com/tmdb/tmdb-movie-metadata/version/2?select=tmdb_5000_movies.csv) - disponível no site da comunidade Kaggle, que contém informações como faturamento, orçamento, ano de lançamento, país de origem, entre outras"
   ]
  },
  {
   "cell_type": "code",
   "execution_count": 1,
   "id": "e93bf4be",
   "metadata": {},
   "outputs": [],
   "source": [
    "import pandas as pd\n",
    "import numpy as np\n",
    "import matplotlib.pyplot as plt\n",
    "import seaborn as sns"
   ]
  },
  {
   "cell_type": "markdown",
   "id": "dcfb32d4",
   "metadata": {},
   "source": [
    "### Leitura do arquivo TMDB 5000\n",
    "\n",
    "* budget - o orçamento, quanto foi gasto na produção do filme,\n",
    "* genres - gêneros,\n",
    "* homepage - a página do filme na internet,\n",
    "* id - um número identificador,\n",
    "* keywords - as palavras-chave associadas ao filme,\n",
    "* original_language - língua original,\n",
    "* original_title - título original,\n",
    "* overview - uma descrição básica do filme,\n",
    "* popularity - uma espécie de \"nota\" de popularidade calculada pelo próprio TMDB,\n",
    "* production_companies - as empresas envolvidas na produção,\n",
    "* production_contries - os países em que o filme foi produzido,\n",
    "* release_date - data de lançamento,\n",
    "* renevue - faturamento,\n",
    "* runtime - o tempo de duração (em minutos),\n",
    "* spoken_languages - as línguas faladas no filme,\n",
    "* status - se o filme foi lançado ou não,\n",
    "* tagline - uma rápida chamada do filme (como encontramos em propagandas),\n",
    "* title - título,\n",
    "* vote_average - uma nota média do filme,\n",
    "* vote_count - que mostra o número de notas atribuídas ao filme."
   ]
  },
  {
   "cell_type": "code",
   "execution_count": 2,
   "id": "0e83ccef",
   "metadata": {},
   "outputs": [
    {
     "data": {
      "text/html": [
       "<div>\n",
       "<style scoped>\n",
       "    .dataframe tbody tr th:only-of-type {\n",
       "        vertical-align: middle;\n",
       "    }\n",
       "\n",
       "    .dataframe tbody tr th {\n",
       "        vertical-align: top;\n",
       "    }\n",
       "\n",
       "    .dataframe thead th {\n",
       "        text-align: right;\n",
       "    }\n",
       "</style>\n",
       "<table border=\"1\" class=\"dataframe\">\n",
       "  <thead>\n",
       "    <tr style=\"text-align: right;\">\n",
       "      <th></th>\n",
       "      <th>budget</th>\n",
       "      <th>genres</th>\n",
       "      <th>homepage</th>\n",
       "      <th>id</th>\n",
       "      <th>keywords</th>\n",
       "      <th>original_language</th>\n",
       "      <th>original_title</th>\n",
       "      <th>overview</th>\n",
       "      <th>popularity</th>\n",
       "      <th>production_companies</th>\n",
       "      <th>production_countries</th>\n",
       "      <th>release_date</th>\n",
       "      <th>revenue</th>\n",
       "      <th>runtime</th>\n",
       "      <th>spoken_languages</th>\n",
       "      <th>status</th>\n",
       "      <th>tagline</th>\n",
       "      <th>title</th>\n",
       "      <th>vote_average</th>\n",
       "      <th>vote_count</th>\n",
       "    </tr>\n",
       "  </thead>\n",
       "  <tbody>\n",
       "    <tr>\n",
       "      <th>0</th>\n",
       "      <td>237000000</td>\n",
       "      <td>[{\"id\": 28, \"name\": \"Action\"}, {\"id\": 12, \"nam...</td>\n",
       "      <td>http://www.avatarmovie.com/</td>\n",
       "      <td>19995</td>\n",
       "      <td>[{\"id\": 1463, \"name\": \"culture clash\"}, {\"id\":...</td>\n",
       "      <td>en</td>\n",
       "      <td>Avatar</td>\n",
       "      <td>In the 22nd century, a paraplegic Marine is di...</td>\n",
       "      <td>150.437577</td>\n",
       "      <td>[{\"name\": \"Ingenious Film Partners\", \"id\": 289...</td>\n",
       "      <td>[{\"iso_3166_1\": \"US\", \"name\": \"United States o...</td>\n",
       "      <td>2009-12-10</td>\n",
       "      <td>2787965087</td>\n",
       "      <td>162.0</td>\n",
       "      <td>[{\"iso_639_1\": \"en\", \"name\": \"English\"}, {\"iso...</td>\n",
       "      <td>Released</td>\n",
       "      <td>Enter the World of Pandora.</td>\n",
       "      <td>Avatar</td>\n",
       "      <td>7.2</td>\n",
       "      <td>11800</td>\n",
       "    </tr>\n",
       "    <tr>\n",
       "      <th>1</th>\n",
       "      <td>300000000</td>\n",
       "      <td>[{\"id\": 12, \"name\": \"Adventure\"}, {\"id\": 14, \"...</td>\n",
       "      <td>http://disney.go.com/disneypictures/pirates/</td>\n",
       "      <td>285</td>\n",
       "      <td>[{\"id\": 270, \"name\": \"ocean\"}, {\"id\": 726, \"na...</td>\n",
       "      <td>en</td>\n",
       "      <td>Pirates of the Caribbean: At World's End</td>\n",
       "      <td>Captain Barbossa, long believed to be dead, ha...</td>\n",
       "      <td>139.082615</td>\n",
       "      <td>[{\"name\": \"Walt Disney Pictures\", \"id\": 2}, {\"...</td>\n",
       "      <td>[{\"iso_3166_1\": \"US\", \"name\": \"United States o...</td>\n",
       "      <td>2007-05-19</td>\n",
       "      <td>961000000</td>\n",
       "      <td>169.0</td>\n",
       "      <td>[{\"iso_639_1\": \"en\", \"name\": \"English\"}]</td>\n",
       "      <td>Released</td>\n",
       "      <td>At the end of the world, the adventure begins.</td>\n",
       "      <td>Pirates of the Caribbean: At World's End</td>\n",
       "      <td>6.9</td>\n",
       "      <td>4500</td>\n",
       "    </tr>\n",
       "    <tr>\n",
       "      <th>2</th>\n",
       "      <td>245000000</td>\n",
       "      <td>[{\"id\": 28, \"name\": \"Action\"}, {\"id\": 12, \"nam...</td>\n",
       "      <td>http://www.sonypictures.com/movies/spectre/</td>\n",
       "      <td>206647</td>\n",
       "      <td>[{\"id\": 470, \"name\": \"spy\"}, {\"id\": 818, \"name...</td>\n",
       "      <td>en</td>\n",
       "      <td>Spectre</td>\n",
       "      <td>A cryptic message from Bond’s past sends him o...</td>\n",
       "      <td>107.376788</td>\n",
       "      <td>[{\"name\": \"Columbia Pictures\", \"id\": 5}, {\"nam...</td>\n",
       "      <td>[{\"iso_3166_1\": \"GB\", \"name\": \"United Kingdom\"...</td>\n",
       "      <td>2015-10-26</td>\n",
       "      <td>880674609</td>\n",
       "      <td>148.0</td>\n",
       "      <td>[{\"iso_639_1\": \"fr\", \"name\": \"Fran\\u00e7ais\"},...</td>\n",
       "      <td>Released</td>\n",
       "      <td>A Plan No One Escapes</td>\n",
       "      <td>Spectre</td>\n",
       "      <td>6.3</td>\n",
       "      <td>4466</td>\n",
       "    </tr>\n",
       "    <tr>\n",
       "      <th>3</th>\n",
       "      <td>250000000</td>\n",
       "      <td>[{\"id\": 28, \"name\": \"Action\"}, {\"id\": 80, \"nam...</td>\n",
       "      <td>http://www.thedarkknightrises.com/</td>\n",
       "      <td>49026</td>\n",
       "      <td>[{\"id\": 849, \"name\": \"dc comics\"}, {\"id\": 853,...</td>\n",
       "      <td>en</td>\n",
       "      <td>The Dark Knight Rises</td>\n",
       "      <td>Following the death of District Attorney Harve...</td>\n",
       "      <td>112.312950</td>\n",
       "      <td>[{\"name\": \"Legendary Pictures\", \"id\": 923}, {\"...</td>\n",
       "      <td>[{\"iso_3166_1\": \"US\", \"name\": \"United States o...</td>\n",
       "      <td>2012-07-16</td>\n",
       "      <td>1084939099</td>\n",
       "      <td>165.0</td>\n",
       "      <td>[{\"iso_639_1\": \"en\", \"name\": \"English\"}]</td>\n",
       "      <td>Released</td>\n",
       "      <td>The Legend Ends</td>\n",
       "      <td>The Dark Knight Rises</td>\n",
       "      <td>7.6</td>\n",
       "      <td>9106</td>\n",
       "    </tr>\n",
       "    <tr>\n",
       "      <th>4</th>\n",
       "      <td>260000000</td>\n",
       "      <td>[{\"id\": 28, \"name\": \"Action\"}, {\"id\": 12, \"nam...</td>\n",
       "      <td>http://movies.disney.com/john-carter</td>\n",
       "      <td>49529</td>\n",
       "      <td>[{\"id\": 818, \"name\": \"based on novel\"}, {\"id\":...</td>\n",
       "      <td>en</td>\n",
       "      <td>John Carter</td>\n",
       "      <td>John Carter is a war-weary, former military ca...</td>\n",
       "      <td>43.926995</td>\n",
       "      <td>[{\"name\": \"Walt Disney Pictures\", \"id\": 2}]</td>\n",
       "      <td>[{\"iso_3166_1\": \"US\", \"name\": \"United States o...</td>\n",
       "      <td>2012-03-07</td>\n",
       "      <td>284139100</td>\n",
       "      <td>132.0</td>\n",
       "      <td>[{\"iso_639_1\": \"en\", \"name\": \"English\"}]</td>\n",
       "      <td>Released</td>\n",
       "      <td>Lost in our world, found in another.</td>\n",
       "      <td>John Carter</td>\n",
       "      <td>6.1</td>\n",
       "      <td>2124</td>\n",
       "    </tr>\n",
       "  </tbody>\n",
       "</table>\n",
       "</div>"
      ],
      "text/plain": [
       "      budget                                             genres  \\\n",
       "0  237000000  [{\"id\": 28, \"name\": \"Action\"}, {\"id\": 12, \"nam...   \n",
       "1  300000000  [{\"id\": 12, \"name\": \"Adventure\"}, {\"id\": 14, \"...   \n",
       "2  245000000  [{\"id\": 28, \"name\": \"Action\"}, {\"id\": 12, \"nam...   \n",
       "3  250000000  [{\"id\": 28, \"name\": \"Action\"}, {\"id\": 80, \"nam...   \n",
       "4  260000000  [{\"id\": 28, \"name\": \"Action\"}, {\"id\": 12, \"nam...   \n",
       "\n",
       "                                       homepage      id  \\\n",
       "0                   http://www.avatarmovie.com/   19995   \n",
       "1  http://disney.go.com/disneypictures/pirates/     285   \n",
       "2   http://www.sonypictures.com/movies/spectre/  206647   \n",
       "3            http://www.thedarkknightrises.com/   49026   \n",
       "4          http://movies.disney.com/john-carter   49529   \n",
       "\n",
       "                                            keywords original_language  \\\n",
       "0  [{\"id\": 1463, \"name\": \"culture clash\"}, {\"id\":...                en   \n",
       "1  [{\"id\": 270, \"name\": \"ocean\"}, {\"id\": 726, \"na...                en   \n",
       "2  [{\"id\": 470, \"name\": \"spy\"}, {\"id\": 818, \"name...                en   \n",
       "3  [{\"id\": 849, \"name\": \"dc comics\"}, {\"id\": 853,...                en   \n",
       "4  [{\"id\": 818, \"name\": \"based on novel\"}, {\"id\":...                en   \n",
       "\n",
       "                             original_title  \\\n",
       "0                                    Avatar   \n",
       "1  Pirates of the Caribbean: At World's End   \n",
       "2                                   Spectre   \n",
       "3                     The Dark Knight Rises   \n",
       "4                               John Carter   \n",
       "\n",
       "                                            overview  popularity  \\\n",
       "0  In the 22nd century, a paraplegic Marine is di...  150.437577   \n",
       "1  Captain Barbossa, long believed to be dead, ha...  139.082615   \n",
       "2  A cryptic message from Bond’s past sends him o...  107.376788   \n",
       "3  Following the death of District Attorney Harve...  112.312950   \n",
       "4  John Carter is a war-weary, former military ca...   43.926995   \n",
       "\n",
       "                                production_companies  \\\n",
       "0  [{\"name\": \"Ingenious Film Partners\", \"id\": 289...   \n",
       "1  [{\"name\": \"Walt Disney Pictures\", \"id\": 2}, {\"...   \n",
       "2  [{\"name\": \"Columbia Pictures\", \"id\": 5}, {\"nam...   \n",
       "3  [{\"name\": \"Legendary Pictures\", \"id\": 923}, {\"...   \n",
       "4        [{\"name\": \"Walt Disney Pictures\", \"id\": 2}]   \n",
       "\n",
       "                                production_countries release_date     revenue  \\\n",
       "0  [{\"iso_3166_1\": \"US\", \"name\": \"United States o...   2009-12-10  2787965087   \n",
       "1  [{\"iso_3166_1\": \"US\", \"name\": \"United States o...   2007-05-19   961000000   \n",
       "2  [{\"iso_3166_1\": \"GB\", \"name\": \"United Kingdom\"...   2015-10-26   880674609   \n",
       "3  [{\"iso_3166_1\": \"US\", \"name\": \"United States o...   2012-07-16  1084939099   \n",
       "4  [{\"iso_3166_1\": \"US\", \"name\": \"United States o...   2012-03-07   284139100   \n",
       "\n",
       "   runtime                                   spoken_languages    status  \\\n",
       "0    162.0  [{\"iso_639_1\": \"en\", \"name\": \"English\"}, {\"iso...  Released   \n",
       "1    169.0           [{\"iso_639_1\": \"en\", \"name\": \"English\"}]  Released   \n",
       "2    148.0  [{\"iso_639_1\": \"fr\", \"name\": \"Fran\\u00e7ais\"},...  Released   \n",
       "3    165.0           [{\"iso_639_1\": \"en\", \"name\": \"English\"}]  Released   \n",
       "4    132.0           [{\"iso_639_1\": \"en\", \"name\": \"English\"}]  Released   \n",
       "\n",
       "                                          tagline  \\\n",
       "0                     Enter the World of Pandora.   \n",
       "1  At the end of the world, the adventure begins.   \n",
       "2                           A Plan No One Escapes   \n",
       "3                                 The Legend Ends   \n",
       "4            Lost in our world, found in another.   \n",
       "\n",
       "                                      title  vote_average  vote_count  \n",
       "0                                    Avatar           7.2       11800  \n",
       "1  Pirates of the Caribbean: At World's End           6.9        4500  \n",
       "2                                   Spectre           6.3        4466  \n",
       "3                     The Dark Knight Rises           7.6        9106  \n",
       "4                               John Carter           6.1        2124  "
      ]
     },
     "execution_count": 2,
     "metadata": {},
     "output_type": "execute_result"
    }
   ],
   "source": [
    "df_tmdb = pd.read_csv('tmdb_5000_movies.csv')\n",
    "\n",
    "df_tmdb.head()"
   ]
  },
  {
   "cell_type": "code",
   "execution_count": 3,
   "id": "deea9c95",
   "metadata": {},
   "outputs": [
    {
     "data": {
      "text/html": [
       "<div>\n",
       "<style scoped>\n",
       "    .dataframe tbody tr th:only-of-type {\n",
       "        vertical-align: middle;\n",
       "    }\n",
       "\n",
       "    .dataframe tbody tr th {\n",
       "        vertical-align: top;\n",
       "    }\n",
       "\n",
       "    .dataframe thead th {\n",
       "        text-align: right;\n",
       "    }\n",
       "</style>\n",
       "<table border=\"1\" class=\"dataframe\">\n",
       "  <thead>\n",
       "    <tr style=\"text-align: right;\">\n",
       "      <th></th>\n",
       "      <th>budget</th>\n",
       "      <th>id</th>\n",
       "      <th>popularity</th>\n",
       "      <th>revenue</th>\n",
       "      <th>runtime</th>\n",
       "      <th>vote_average</th>\n",
       "      <th>vote_count</th>\n",
       "    </tr>\n",
       "  </thead>\n",
       "  <tbody>\n",
       "    <tr>\n",
       "      <th>count</th>\n",
       "      <td>4.803000e+03</td>\n",
       "      <td>4803.000000</td>\n",
       "      <td>4803.000000</td>\n",
       "      <td>4.803000e+03</td>\n",
       "      <td>4801.000000</td>\n",
       "      <td>4803.000000</td>\n",
       "      <td>4803.000000</td>\n",
       "    </tr>\n",
       "    <tr>\n",
       "      <th>mean</th>\n",
       "      <td>2.904504e+07</td>\n",
       "      <td>57165.484281</td>\n",
       "      <td>21.492301</td>\n",
       "      <td>8.226064e+07</td>\n",
       "      <td>106.875859</td>\n",
       "      <td>6.092172</td>\n",
       "      <td>690.217989</td>\n",
       "    </tr>\n",
       "    <tr>\n",
       "      <th>std</th>\n",
       "      <td>4.072239e+07</td>\n",
       "      <td>88694.614033</td>\n",
       "      <td>31.816650</td>\n",
       "      <td>1.628571e+08</td>\n",
       "      <td>22.611935</td>\n",
       "      <td>1.194612</td>\n",
       "      <td>1234.585891</td>\n",
       "    </tr>\n",
       "    <tr>\n",
       "      <th>min</th>\n",
       "      <td>0.000000e+00</td>\n",
       "      <td>5.000000</td>\n",
       "      <td>0.000000</td>\n",
       "      <td>0.000000e+00</td>\n",
       "      <td>0.000000</td>\n",
       "      <td>0.000000</td>\n",
       "      <td>0.000000</td>\n",
       "    </tr>\n",
       "    <tr>\n",
       "      <th>25%</th>\n",
       "      <td>7.900000e+05</td>\n",
       "      <td>9014.500000</td>\n",
       "      <td>4.668070</td>\n",
       "      <td>0.000000e+00</td>\n",
       "      <td>94.000000</td>\n",
       "      <td>5.600000</td>\n",
       "      <td>54.000000</td>\n",
       "    </tr>\n",
       "    <tr>\n",
       "      <th>50%</th>\n",
       "      <td>1.500000e+07</td>\n",
       "      <td>14629.000000</td>\n",
       "      <td>12.921594</td>\n",
       "      <td>1.917000e+07</td>\n",
       "      <td>103.000000</td>\n",
       "      <td>6.200000</td>\n",
       "      <td>235.000000</td>\n",
       "    </tr>\n",
       "    <tr>\n",
       "      <th>75%</th>\n",
       "      <td>4.000000e+07</td>\n",
       "      <td>58610.500000</td>\n",
       "      <td>28.313505</td>\n",
       "      <td>9.291719e+07</td>\n",
       "      <td>118.000000</td>\n",
       "      <td>6.800000</td>\n",
       "      <td>737.000000</td>\n",
       "    </tr>\n",
       "    <tr>\n",
       "      <th>max</th>\n",
       "      <td>3.800000e+08</td>\n",
       "      <td>459488.000000</td>\n",
       "      <td>875.581305</td>\n",
       "      <td>2.787965e+09</td>\n",
       "      <td>338.000000</td>\n",
       "      <td>10.000000</td>\n",
       "      <td>13752.000000</td>\n",
       "    </tr>\n",
       "  </tbody>\n",
       "</table>\n",
       "</div>"
      ],
      "text/plain": [
       "             budget             id   popularity       revenue      runtime  \\\n",
       "count  4.803000e+03    4803.000000  4803.000000  4.803000e+03  4801.000000   \n",
       "mean   2.904504e+07   57165.484281    21.492301  8.226064e+07   106.875859   \n",
       "std    4.072239e+07   88694.614033    31.816650  1.628571e+08    22.611935   \n",
       "min    0.000000e+00       5.000000     0.000000  0.000000e+00     0.000000   \n",
       "25%    7.900000e+05    9014.500000     4.668070  0.000000e+00    94.000000   \n",
       "50%    1.500000e+07   14629.000000    12.921594  1.917000e+07   103.000000   \n",
       "75%    4.000000e+07   58610.500000    28.313505  9.291719e+07   118.000000   \n",
       "max    3.800000e+08  459488.000000   875.581305  2.787965e+09   338.000000   \n",
       "\n",
       "       vote_average    vote_count  \n",
       "count   4803.000000   4803.000000  \n",
       "mean       6.092172    690.217989  \n",
       "std        1.194612   1234.585891  \n",
       "min        0.000000      0.000000  \n",
       "25%        5.600000     54.000000  \n",
       "50%        6.200000    235.000000  \n",
       "75%        6.800000    737.000000  \n",
       "max       10.000000  13752.000000  "
      ]
     },
     "execution_count": 3,
     "metadata": {},
     "output_type": "execute_result"
    }
   ],
   "source": [
    "df_tmdb.describe()"
   ]
  },
  {
   "cell_type": "code",
   "execution_count": 4,
   "id": "e1c41697",
   "metadata": {},
   "outputs": [
    {
     "data": {
      "text/plain": [
       "Text(0.5, 1.0, 'Distribuição da média de votos no TMDB 5000')"
      ]
     },
     "execution_count": 4,
     "metadata": {},
     "output_type": "execute_result"
    },
    {
     "data": {
      "image/png": "[encoded data removed]",
      "text/plain": [
       "<Figure size 432x288 with 1 Axes>"
      ]
     },
     "metadata": {
      "needs_background": "light"
     },
     "output_type": "display_data"
    }
   ],
   "source": [
    "# Apresentação do histograma \n",
    "ax = sns.histplot(df_tmdb['vote_average'], kde=True)\n",
    "\n",
    "ax.set(xlabel='Nota Média', ylabel='Quantidade')\n",
    "ax.set_title('Distribuição da média de votos no TMDB 5000')"
   ]
  },
  {
   "cell_type": "code",
   "execution_count": 5,
   "id": "89691b0f",
   "metadata": {},
   "outputs": [
    {
     "data": {
      "text/plain": [
       "Text(0.5, 1.0, 'Distribuição da média de votos no TMDB 5000')"
      ]
     },
     "execution_count": 5,
     "metadata": {},
     "output_type": "execute_result"
    },
    {
     "data": {
      "image/png": "[encoded data removed]",
      "text/plain": [
       "<Figure size 432x288 with 1 Axes>"
      ]
     },
     "metadata": {
      "needs_background": "light"
     },
     "output_type": "display_data"
    }
   ],
   "source": [
    "# Apresentação do box-plot \n",
    "ax = sns.boxplot(data=df_tmdb['vote_average'], orient='h')\n",
    "\n",
    "ax.set(xlabel='Nota Média')\n",
    "ax.set_title('Distribuição da média de votos no TMDB 5000')"
   ]
  },
  {
   "cell_type": "markdown",
   "id": "5f46f5bb",
   "metadata": {},
   "source": [
    "### Uma quantidade razoável de filmes possuem média 0 e 10. Isso parece estranho, pois qualquer nota diferente de 0 ou 10, respectivamente, seria suficiente para mudar essas médias. Vamos verificar o que está acontecendo com nossos dados."
   ]
  },
  {
   "cell_type": "code",
   "execution_count": 6,
   "id": "60e1b649",
   "metadata": {},
   "outputs": [
    {
     "data": {
      "text/html": [
       "<div>\n",
       "<style scoped>\n",
       "    .dataframe tbody tr th:only-of-type {\n",
       "        vertical-align: middle;\n",
       "    }\n",
       "\n",
       "    .dataframe tbody tr th {\n",
       "        vertical-align: top;\n",
       "    }\n",
       "\n",
       "    .dataframe thead th {\n",
       "        text-align: right;\n",
       "    }\n",
       "</style>\n",
       "<table border=\"1\" class=\"dataframe\">\n",
       "  <thead>\n",
       "    <tr style=\"text-align: right;\">\n",
       "      <th></th>\n",
       "      <th>budget</th>\n",
       "      <th>genres</th>\n",
       "      <th>homepage</th>\n",
       "      <th>id</th>\n",
       "      <th>keywords</th>\n",
       "      <th>original_language</th>\n",
       "      <th>original_title</th>\n",
       "      <th>overview</th>\n",
       "      <th>popularity</th>\n",
       "      <th>production_companies</th>\n",
       "      <th>production_countries</th>\n",
       "      <th>release_date</th>\n",
       "      <th>revenue</th>\n",
       "      <th>runtime</th>\n",
       "      <th>spoken_languages</th>\n",
       "      <th>status</th>\n",
       "      <th>tagline</th>\n",
       "      <th>title</th>\n",
       "      <th>vote_average</th>\n",
       "      <th>vote_count</th>\n",
       "    </tr>\n",
       "  </thead>\n",
       "  <tbody>\n",
       "    <tr>\n",
       "      <th>1464</th>\n",
       "      <td>0</td>\n",
       "      <td>[{\"id\": 18, \"name\": \"Drama\"}, {\"id\": 80, \"name...</td>\n",
       "      <td>NaN</td>\n",
       "      <td>310706</td>\n",
       "      <td>[]</td>\n",
       "      <td>en</td>\n",
       "      <td>Black Water Transit</td>\n",
       "      <td>In this action thriller set in post-Katrina Ne...</td>\n",
       "      <td>0.126738</td>\n",
       "      <td>[{\"name\": \"Capitol Films\", \"id\": 826}]</td>\n",
       "      <td>[{\"iso_3166_1\": \"US\", \"name\": \"United States o...</td>\n",
       "      <td>2009-05-13</td>\n",
       "      <td>0</td>\n",
       "      <td>100.0</td>\n",
       "      <td>[{\"iso_639_1\": \"en\", \"name\": \"English\"}]</td>\n",
       "      <td>Released</td>\n",
       "      <td>NaN</td>\n",
       "      <td>Black Water Transit</td>\n",
       "      <td>0.0</td>\n",
       "      <td>0</td>\n",
       "    </tr>\n",
       "    <tr>\n",
       "      <th>3519</th>\n",
       "      <td>0</td>\n",
       "      <td>[{\"id\": 35, \"name\": \"Comedy\"}]</td>\n",
       "      <td>NaN</td>\n",
       "      <td>89861</td>\n",
       "      <td>[{\"id\": 131, \"name\": \"italy\"}, {\"id\": 8250, \"n...</td>\n",
       "      <td>en</td>\n",
       "      <td>Stiff Upper Lips</td>\n",
       "      <td>Stiff Upper Lips is a broad parody of British ...</td>\n",
       "      <td>0.356495</td>\n",
       "      <td>[]</td>\n",
       "      <td>[{\"iso_3166_1\": \"GB\", \"name\": \"United Kingdom\"...</td>\n",
       "      <td>1998-06-12</td>\n",
       "      <td>0</td>\n",
       "      <td>99.0</td>\n",
       "      <td>[{\"iso_639_1\": \"en\", \"name\": \"English\"}]</td>\n",
       "      <td>Released</td>\n",
       "      <td>NaN</td>\n",
       "      <td>Stiff Upper Lips</td>\n",
       "      <td>10.0</td>\n",
       "      <td>1</td>\n",
       "    </tr>\n",
       "    <tr>\n",
       "      <th>3669</th>\n",
       "      <td>0</td>\n",
       "      <td>[{\"id\": 35, \"name\": \"Comedy\"}, {\"id\": 18, \"nam...</td>\n",
       "      <td>http://www.romeothemovie.com/</td>\n",
       "      <td>113406</td>\n",
       "      <td>[]</td>\n",
       "      <td>en</td>\n",
       "      <td>Should've Been Romeo</td>\n",
       "      <td>A self-centered, middle-aged pitchman for a po...</td>\n",
       "      <td>0.407030</td>\n",
       "      <td>[{\"name\": \"Phillybrook Films\", \"id\": 65147}]</td>\n",
       "      <td>[{\"iso_3166_1\": \"US\", \"name\": \"United States o...</td>\n",
       "      <td>2012-04-28</td>\n",
       "      <td>0</td>\n",
       "      <td>0.0</td>\n",
       "      <td>[{\"iso_639_1\": \"en\", \"name\": \"English\"}]</td>\n",
       "      <td>Released</td>\n",
       "      <td>Even Shakespeare didn't see this one coming.</td>\n",
       "      <td>Should've Been Romeo</td>\n",
       "      <td>0.0</td>\n",
       "      <td>0</td>\n",
       "    </tr>\n",
       "    <tr>\n",
       "      <th>3670</th>\n",
       "      <td>0</td>\n",
       "      <td>[{\"id\": 10751, \"name\": \"Family\"}]</td>\n",
       "      <td>NaN</td>\n",
       "      <td>447027</td>\n",
       "      <td>[]</td>\n",
       "      <td>en</td>\n",
       "      <td>Running Forever</td>\n",
       "      <td>After being estranged since her mother's death...</td>\n",
       "      <td>0.028756</td>\n",
       "      <td>[{\"name\": \"New Kingdom Pictures\", \"id\": 41671}]</td>\n",
       "      <td>[{\"iso_3166_1\": \"US\", \"name\": \"United States o...</td>\n",
       "      <td>2015-10-27</td>\n",
       "      <td>0</td>\n",
       "      <td>88.0</td>\n",
       "      <td>[]</td>\n",
       "      <td>Released</td>\n",
       "      <td>NaN</td>\n",
       "      <td>Running Forever</td>\n",
       "      <td>0.0</td>\n",
       "      <td>0</td>\n",
       "    </tr>\n",
       "    <tr>\n",
       "      <th>3852</th>\n",
       "      <td>0</td>\n",
       "      <td>[{\"id\": 18, \"name\": \"Drama\"}]</td>\n",
       "      <td>NaN</td>\n",
       "      <td>395766</td>\n",
       "      <td>[{\"id\": 11162, \"name\": \"miniseries\"}]</td>\n",
       "      <td>en</td>\n",
       "      <td>The Secret</td>\n",
       "      <td>The Secret is the story of a real-life double ...</td>\n",
       "      <td>0.042346</td>\n",
       "      <td>[]</td>\n",
       "      <td>[]</td>\n",
       "      <td>2016-04-29</td>\n",
       "      <td>0</td>\n",
       "      <td>200.0</td>\n",
       "      <td>[]</td>\n",
       "      <td>Released</td>\n",
       "      <td>NaN</td>\n",
       "      <td>The Secret</td>\n",
       "      <td>0.0</td>\n",
       "      <td>0</td>\n",
       "    </tr>\n",
       "    <tr>\n",
       "      <th>...</th>\n",
       "      <td>...</td>\n",
       "      <td>...</td>\n",
       "      <td>...</td>\n",
       "      <td>...</td>\n",
       "      <td>...</td>\n",
       "      <td>...</td>\n",
       "      <td>...</td>\n",
       "      <td>...</td>\n",
       "      <td>...</td>\n",
       "      <td>...</td>\n",
       "      <td>...</td>\n",
       "      <td>...</td>\n",
       "      <td>...</td>\n",
       "      <td>...</td>\n",
       "      <td>...</td>\n",
       "      <td>...</td>\n",
       "      <td>...</td>\n",
       "      <td>...</td>\n",
       "      <td>...</td>\n",
       "      <td>...</td>\n",
       "    </tr>\n",
       "    <tr>\n",
       "      <th>4769</th>\n",
       "      <td>0</td>\n",
       "      <td>[{\"id\": 28, \"name\": \"Action\"}, {\"id\": 37, \"nam...</td>\n",
       "      <td>NaN</td>\n",
       "      <td>69382</td>\n",
       "      <td>[]</td>\n",
       "      <td>en</td>\n",
       "      <td>The Legend of God's Gun</td>\n",
       "      <td>A gun-slinging preacher returns to the debauch...</td>\n",
       "      <td>0.003582</td>\n",
       "      <td>[]</td>\n",
       "      <td>[]</td>\n",
       "      <td>2007-07-08</td>\n",
       "      <td>0</td>\n",
       "      <td>78.0</td>\n",
       "      <td>[]</td>\n",
       "      <td>Released</td>\n",
       "      <td>NaN</td>\n",
       "      <td>The Legend of God's Gun</td>\n",
       "      <td>0.0</td>\n",
       "      <td>0</td>\n",
       "    </tr>\n",
       "    <tr>\n",
       "      <th>4771</th>\n",
       "      <td>0</td>\n",
       "      <td>[{\"id\": 27, \"name\": \"Horror\"}]</td>\n",
       "      <td>NaN</td>\n",
       "      <td>220490</td>\n",
       "      <td>[]</td>\n",
       "      <td>en</td>\n",
       "      <td>Her Cry: La Llorona Investigation</td>\n",
       "      <td>Crew of \"Paranormal Legends\" went to film thei...</td>\n",
       "      <td>0.056459</td>\n",
       "      <td>[]</td>\n",
       "      <td>[]</td>\n",
       "      <td>2013-04-19</td>\n",
       "      <td>0</td>\n",
       "      <td>89.0</td>\n",
       "      <td>[]</td>\n",
       "      <td>Released</td>\n",
       "      <td>NaN</td>\n",
       "      <td>Her Cry: La Llorona Investigation</td>\n",
       "      <td>0.0</td>\n",
       "      <td>0</td>\n",
       "    </tr>\n",
       "    <tr>\n",
       "      <th>4780</th>\n",
       "      <td>0</td>\n",
       "      <td>[{\"id\": 53, \"name\": \"Thriller\"}, {\"id\": 80, \"n...</td>\n",
       "      <td>NaN</td>\n",
       "      <td>366967</td>\n",
       "      <td>[]</td>\n",
       "      <td>en</td>\n",
       "      <td>Dutch Kills</td>\n",
       "      <td>A desperate ex-con is forced to gather his old...</td>\n",
       "      <td>0.038143</td>\n",
       "      <td>[]</td>\n",
       "      <td>[]</td>\n",
       "      <td>2015-10-02</td>\n",
       "      <td>0</td>\n",
       "      <td>90.0</td>\n",
       "      <td>[]</td>\n",
       "      <td>Released</td>\n",
       "      <td>NaN</td>\n",
       "      <td>Dutch Kills</td>\n",
       "      <td>0.0</td>\n",
       "      <td>0</td>\n",
       "    </tr>\n",
       "    <tr>\n",
       "      <th>4785</th>\n",
       "      <td>0</td>\n",
       "      <td>[{\"id\": 18, \"name\": \"Drama\"}]</td>\n",
       "      <td>NaN</td>\n",
       "      <td>287625</td>\n",
       "      <td>[]</td>\n",
       "      <td>en</td>\n",
       "      <td>Stories of Our Lives</td>\n",
       "      <td>Created by the members of a Nairobi-based arts...</td>\n",
       "      <td>0.327794</td>\n",
       "      <td>[]</td>\n",
       "      <td>[{\"iso_3166_1\": \"KE\", \"name\": \"Kenya\"}]</td>\n",
       "      <td>2014-09-05</td>\n",
       "      <td>0</td>\n",
       "      <td>60.0</td>\n",
       "      <td>[{\"iso_639_1\": \"sw\", \"name\": \"Kiswahili\"}, {\"i...</td>\n",
       "      <td>Released</td>\n",
       "      <td>NaN</td>\n",
       "      <td>Stories of Our Lives</td>\n",
       "      <td>0.0</td>\n",
       "      <td>0</td>\n",
       "    </tr>\n",
       "    <tr>\n",
       "      <th>4794</th>\n",
       "      <td>0</td>\n",
       "      <td>[{\"id\": 53, \"name\": \"Thriller\"}, {\"id\": 27, \"n...</td>\n",
       "      <td>NaN</td>\n",
       "      <td>286939</td>\n",
       "      <td>[]</td>\n",
       "      <td>en</td>\n",
       "      <td>Sanctuary: Quite a Conundrum</td>\n",
       "      <td>It should have been just a normal day of sex, ...</td>\n",
       "      <td>0.166513</td>\n",
       "      <td>[{\"name\": \"Gold Lion Films\", \"id\": 37870}, {\"n...</td>\n",
       "      <td>[{\"iso_3166_1\": \"US\", \"name\": \"United States o...</td>\n",
       "      <td>2012-01-20</td>\n",
       "      <td>0</td>\n",
       "      <td>82.0</td>\n",
       "      <td>[{\"iso_639_1\": \"en\", \"name\": \"English\"}]</td>\n",
       "      <td>Released</td>\n",
       "      <td>NaN</td>\n",
       "      <td>Sanctuary: Quite a Conundrum</td>\n",
       "      <td>0.0</td>\n",
       "      <td>0</td>\n",
       "    </tr>\n",
       "  </tbody>\n",
       "</table>\n",
       "<p>67 rows × 20 columns</p>\n",
       "</div>"
      ],
      "text/plain": [
       "      budget                                             genres  \\\n",
       "1464       0  [{\"id\": 18, \"name\": \"Drama\"}, {\"id\": 80, \"name...   \n",
       "3519       0                     [{\"id\": 35, \"name\": \"Comedy\"}]   \n",
       "3669       0  [{\"id\": 35, \"name\": \"Comedy\"}, {\"id\": 18, \"nam...   \n",
       "3670       0                  [{\"id\": 10751, \"name\": \"Family\"}]   \n",
       "3852       0                      [{\"id\": 18, \"name\": \"Drama\"}]   \n",
       "...      ...                                                ...   \n",
       "4769       0  [{\"id\": 28, \"name\": \"Action\"}, {\"id\": 37, \"nam...   \n",
       "4771       0                     [{\"id\": 27, \"name\": \"Horror\"}]   \n",
       "4780       0  [{\"id\": 53, \"name\": \"Thriller\"}, {\"id\": 80, \"n...   \n",
       "4785       0                      [{\"id\": 18, \"name\": \"Drama\"}]   \n",
       "4794       0  [{\"id\": 53, \"name\": \"Thriller\"}, {\"id\": 27, \"n...   \n",
       "\n",
       "                           homepage      id  \\\n",
       "1464                            NaN  310706   \n",
       "3519                            NaN   89861   \n",
       "3669  http://www.romeothemovie.com/  113406   \n",
       "3670                            NaN  447027   \n",
       "3852                            NaN  395766   \n",
       "...                             ...     ...   \n",
       "4769                            NaN   69382   \n",
       "4771                            NaN  220490   \n",
       "4780                            NaN  366967   \n",
       "4785                            NaN  287625   \n",
       "4794                            NaN  286939   \n",
       "\n",
       "                                               keywords original_language  \\\n",
       "1464                                                 []                en   \n",
       "3519  [{\"id\": 131, \"name\": \"italy\"}, {\"id\": 8250, \"n...                en   \n",
       "3669                                                 []                en   \n",
       "3670                                                 []                en   \n",
       "3852              [{\"id\": 11162, \"name\": \"miniseries\"}]                en   \n",
       "...                                                 ...               ...   \n",
       "4769                                                 []                en   \n",
       "4771                                                 []                en   \n",
       "4780                                                 []                en   \n",
       "4785                                                 []                en   \n",
       "4794                                                 []                en   \n",
       "\n",
       "                         original_title  \\\n",
       "1464                Black Water Transit   \n",
       "3519                   Stiff Upper Lips   \n",
       "3669               Should've Been Romeo   \n",
       "3670                    Running Forever   \n",
       "3852                         The Secret   \n",
       "...                                 ...   \n",
       "4769            The Legend of God's Gun   \n",
       "4771  Her Cry: La Llorona Investigation   \n",
       "4780                        Dutch Kills   \n",
       "4785               Stories of Our Lives   \n",
       "4794       Sanctuary: Quite a Conundrum   \n",
       "\n",
       "                                               overview  popularity  \\\n",
       "1464  In this action thriller set in post-Katrina Ne...    0.126738   \n",
       "3519  Stiff Upper Lips is a broad parody of British ...    0.356495   \n",
       "3669  A self-centered, middle-aged pitchman for a po...    0.407030   \n",
       "3670  After being estranged since her mother's death...    0.028756   \n",
       "3852  The Secret is the story of a real-life double ...    0.042346   \n",
       "...                                                 ...         ...   \n",
       "4769  A gun-slinging preacher returns to the debauch...    0.003582   \n",
       "4771  Crew of \"Paranormal Legends\" went to film thei...    0.056459   \n",
       "4780  A desperate ex-con is forced to gather his old...    0.038143   \n",
       "4785  Created by the members of a Nairobi-based arts...    0.327794   \n",
       "4794  It should have been just a normal day of sex, ...    0.166513   \n",
       "\n",
       "                                   production_companies  \\\n",
       "1464             [{\"name\": \"Capitol Films\", \"id\": 826}]   \n",
       "3519                                                 []   \n",
       "3669       [{\"name\": \"Phillybrook Films\", \"id\": 65147}]   \n",
       "3670    [{\"name\": \"New Kingdom Pictures\", \"id\": 41671}]   \n",
       "3852                                                 []   \n",
       "...                                                 ...   \n",
       "4769                                                 []   \n",
       "4771                                                 []   \n",
       "4780                                                 []   \n",
       "4785                                                 []   \n",
       "4794  [{\"name\": \"Gold Lion Films\", \"id\": 37870}, {\"n...   \n",
       "\n",
       "                                   production_countries release_date  revenue  \\\n",
       "1464  [{\"iso_3166_1\": \"US\", \"name\": \"United States o...   2009-05-13        0   \n",
       "3519  [{\"iso_3166_1\": \"GB\", \"name\": \"United Kingdom\"...   1998-06-12        0   \n",
       "3669  [{\"iso_3166_1\": \"US\", \"name\": \"United States o...   2012-04-28        0   \n",
       "3670  [{\"iso_3166_1\": \"US\", \"name\": \"United States o...   2015-10-27        0   \n",
       "3852                                                 []   2016-04-29        0   \n",
       "...                                                 ...          ...      ...   \n",
       "4769                                                 []   2007-07-08        0   \n",
       "4771                                                 []   2013-04-19        0   \n",
       "4780                                                 []   2015-10-02        0   \n",
       "4785            [{\"iso_3166_1\": \"KE\", \"name\": \"Kenya\"}]   2014-09-05        0   \n",
       "4794  [{\"iso_3166_1\": \"US\", \"name\": \"United States o...   2012-01-20        0   \n",
       "\n",
       "      runtime                                   spoken_languages    status  \\\n",
       "1464    100.0           [{\"iso_639_1\": \"en\", \"name\": \"English\"}]  Released   \n",
       "3519     99.0           [{\"iso_639_1\": \"en\", \"name\": \"English\"}]  Released   \n",
       "3669      0.0           [{\"iso_639_1\": \"en\", \"name\": \"English\"}]  Released   \n",
       "3670     88.0                                                 []  Released   \n",
       "3852    200.0                                                 []  Released   \n",
       "...       ...                                                ...       ...   \n",
       "4769     78.0                                                 []  Released   \n",
       "4771     89.0                                                 []  Released   \n",
       "4780     90.0                                                 []  Released   \n",
       "4785     60.0  [{\"iso_639_1\": \"sw\", \"name\": \"Kiswahili\"}, {\"i...  Released   \n",
       "4794     82.0           [{\"iso_639_1\": \"en\", \"name\": \"English\"}]  Released   \n",
       "\n",
       "                                           tagline  \\\n",
       "1464                                           NaN   \n",
       "3519                                           NaN   \n",
       "3669  Even Shakespeare didn't see this one coming.   \n",
       "3670                                           NaN   \n",
       "3852                                           NaN   \n",
       "...                                            ...   \n",
       "4769                                           NaN   \n",
       "4771                                           NaN   \n",
       "4780                                           NaN   \n",
       "4785                                           NaN   \n",
       "4794                                           NaN   \n",
       "\n",
       "                                  title  vote_average  vote_count  \n",
       "1464                Black Water Transit           0.0           0  \n",
       "3519                   Stiff Upper Lips          10.0           1  \n",
       "3669               Should've Been Romeo           0.0           0  \n",
       "3670                    Running Forever           0.0           0  \n",
       "3852                         The Secret           0.0           0  \n",
       "...                                 ...           ...         ...  \n",
       "4769            The Legend of God's Gun           0.0           0  \n",
       "4771  Her Cry: La Llorona Investigation           0.0           0  \n",
       "4780                        Dutch Kills           0.0           0  \n",
       "4785               Stories of Our Lives           0.0           0  \n",
       "4794       Sanctuary: Quite a Conundrum           0.0           0  \n",
       "\n",
       "[67 rows x 20 columns]"
      ]
     },
     "execution_count": 6,
     "metadata": {},
     "output_type": "execute_result"
    }
   ],
   "source": [
    "# Filmes com média Zero ou Dez e com quantidade de votos maior que Zero\n",
    "df_tmdb.query('vote_average == 0 or vote_average == 10')"
   ]
  },
  {
   "cell_type": "markdown",
   "id": "966d28dd",
   "metadata": {},
   "source": [
    "Observamos que há filmes com poucos votos, ou mesmo sem voto algum, portanto vamos trabalhar com filmes com no mínimo 10 votos."
   ]
  },
  {
   "cell_type": "code",
   "execution_count": 7,
   "id": "dac60681",
   "metadata": {},
   "outputs": [
    {
     "data": {
      "text/html": [
       "<div>\n",
       "<style scoped>\n",
       "    .dataframe tbody tr th:only-of-type {\n",
       "        vertical-align: middle;\n",
       "    }\n",
       "\n",
       "    .dataframe tbody tr th {\n",
       "        vertical-align: top;\n",
       "    }\n",
       "\n",
       "    .dataframe thead th {\n",
       "        text-align: right;\n",
       "    }\n",
       "</style>\n",
       "<table border=\"1\" class=\"dataframe\">\n",
       "  <thead>\n",
       "    <tr style=\"text-align: right;\">\n",
       "      <th></th>\n",
       "      <th>budget</th>\n",
       "      <th>id</th>\n",
       "      <th>popularity</th>\n",
       "      <th>revenue</th>\n",
       "      <th>runtime</th>\n",
       "      <th>vote_average</th>\n",
       "      <th>vote_count</th>\n",
       "    </tr>\n",
       "  </thead>\n",
       "  <tbody>\n",
       "    <tr>\n",
       "      <th>count</th>\n",
       "      <td>4.392000e+03</td>\n",
       "      <td>4392.000000</td>\n",
       "      <td>4392.000000</td>\n",
       "      <td>4.392000e+03</td>\n",
       "      <td>4391.000000</td>\n",
       "      <td>4392.000000</td>\n",
       "      <td>4392.000000</td>\n",
       "    </tr>\n",
       "    <tr>\n",
       "      <th>mean</th>\n",
       "      <td>3.164545e+07</td>\n",
       "      <td>49204.119991</td>\n",
       "      <td>23.448815</td>\n",
       "      <td>8.990969e+07</td>\n",
       "      <td>108.430881</td>\n",
       "      <td>6.226935</td>\n",
       "      <td>754.441712</td>\n",
       "    </tr>\n",
       "    <tr>\n",
       "      <th>std</th>\n",
       "      <td>4.162736e+07</td>\n",
       "      <td>80136.249777</td>\n",
       "      <td>32.592158</td>\n",
       "      <td>1.682870e+08</td>\n",
       "      <td>21.014719</td>\n",
       "      <td>0.893215</td>\n",
       "      <td>1272.263761</td>\n",
       "    </tr>\n",
       "    <tr>\n",
       "      <th>min</th>\n",
       "      <td>0.000000e+00</td>\n",
       "      <td>5.000000</td>\n",
       "      <td>0.011697</td>\n",
       "      <td>0.000000e+00</td>\n",
       "      <td>0.000000</td>\n",
       "      <td>1.900000</td>\n",
       "      <td>10.000000</td>\n",
       "    </tr>\n",
       "    <tr>\n",
       "      <th>25%</th>\n",
       "      <td>2.895962e+06</td>\n",
       "      <td>8403.500000</td>\n",
       "      <td>6.512166</td>\n",
       "      <td>1.365700e+04</td>\n",
       "      <td>95.000000</td>\n",
       "      <td>5.700000</td>\n",
       "      <td>83.750000</td>\n",
       "    </tr>\n",
       "    <tr>\n",
       "      <th>50%</th>\n",
       "      <td>1.700000e+07</td>\n",
       "      <td>13084.500000</td>\n",
       "      <td>14.827784</td>\n",
       "      <td>2.685837e+07</td>\n",
       "      <td>105.000000</td>\n",
       "      <td>6.300000</td>\n",
       "      <td>288.500000</td>\n",
       "    </tr>\n",
       "    <tr>\n",
       "      <th>75%</th>\n",
       "      <td>4.200000e+07</td>\n",
       "      <td>46831.250000</td>\n",
       "      <td>30.258282</td>\n",
       "      <td>1.022818e+08</td>\n",
       "      <td>118.500000</td>\n",
       "      <td>6.800000</td>\n",
       "      <td>831.000000</td>\n",
       "    </tr>\n",
       "    <tr>\n",
       "      <th>max</th>\n",
       "      <td>3.800000e+08</td>\n",
       "      <td>417859.000000</td>\n",
       "      <td>875.581305</td>\n",
       "      <td>2.787965e+09</td>\n",
       "      <td>338.000000</td>\n",
       "      <td>8.500000</td>\n",
       "      <td>13752.000000</td>\n",
       "    </tr>\n",
       "  </tbody>\n",
       "</table>\n",
       "</div>"
      ],
      "text/plain": [
       "             budget             id   popularity       revenue      runtime  \\\n",
       "count  4.392000e+03    4392.000000  4392.000000  4.392000e+03  4391.000000   \n",
       "mean   3.164545e+07   49204.119991    23.448815  8.990969e+07   108.430881   \n",
       "std    4.162736e+07   80136.249777    32.592158  1.682870e+08    21.014719   \n",
       "min    0.000000e+00       5.000000     0.011697  0.000000e+00     0.000000   \n",
       "25%    2.895962e+06    8403.500000     6.512166  1.365700e+04    95.000000   \n",
       "50%    1.700000e+07   13084.500000    14.827784  2.685837e+07   105.000000   \n",
       "75%    4.200000e+07   46831.250000    30.258282  1.022818e+08   118.500000   \n",
       "max    3.800000e+08  417859.000000   875.581305  2.787965e+09   338.000000   \n",
       "\n",
       "       vote_average    vote_count  \n",
       "count   4392.000000   4392.000000  \n",
       "mean       6.226935    754.441712  \n",
       "std        0.893215   1272.263761  \n",
       "min        1.900000     10.000000  \n",
       "25%        5.700000     83.750000  \n",
       "50%        6.300000    288.500000  \n",
       "75%        6.800000    831.000000  \n",
       "max        8.500000  13752.000000  "
      ]
     },
     "execution_count": 7,
     "metadata": {},
     "output_type": "execute_result"
    }
   ],
   "source": [
    "df_tmdb_10_votos = df_tmdb.query('vote_count >= 10')\n",
    "\n",
    "df_tmdb_10_votos.describe()"
   ]
  },
  {
   "cell_type": "code",
   "execution_count": 8,
   "id": "009f5f65",
   "metadata": {},
   "outputs": [
    {
     "data": {
      "text/plain": [
       "Text(0.5, 1.0, 'Distribuição da média de votos no TMDB 5000 dentre os filmes com 10 ou mais votos')"
      ]
     },
     "execution_count": 8,
     "metadata": {},
     "output_type": "execute_result"
    },
    {
     "data": {
      "image/png": "[encoded data removed]",
      "text/plain": [
       "<Figure size 432x288 with 1 Axes>"
      ]
     },
     "metadata": {
      "needs_background": "light"
     },
     "output_type": "display_data"
    }
   ],
   "source": [
    "# Apresentação do histograma \n",
    "ax = sns.histplot(df_tmdb_10_votos['vote_average'], kde=True)\n",
    "\n",
    "ax.set(xlabel='Nota Média', ylabel='Quantidade')\n",
    "ax.set_title('Distribuição da média de votos no TMDB 5000 dentre os filmes com 10 ou mais votos')"
   ]
  },
  {
   "cell_type": "code",
   "execution_count": 9,
   "id": "7cddbbd4",
   "metadata": {},
   "outputs": [
    {
     "data": {
      "text/plain": [
       "Text(0.5, 1.0, 'Distribuição da média de votos no TMDB 5000 dentre os filmes com 10 ou mais votos')"
      ]
     },
     "execution_count": 9,
     "metadata": {},
     "output_type": "execute_result"
    },
    {
     "data": {
      "image/png": "[encoded data removed]",
      "text/plain": [
       "<Figure size 432x288 with 1 Axes>"
      ]
     },
     "metadata": {
      "needs_background": "light"
     },
     "output_type": "display_data"
    }
   ],
   "source": [
    "# Apresentação do box-plot \n",
    "ax = sns.boxplot(data=df_tmdb_10_votos['vote_average'], orient='h')\n",
    "\n",
    "ax.set(xlabel='Nota Média')\n",
    "ax.set_title('Distribuição da média de votos no TMDB 5000 dentre os filmes com 10 ou mais votos')"
   ]
  },
  {
   "cell_type": "markdown",
   "id": "9d3cad5f",
   "metadata": {},
   "source": [
    "### Analizando arquivo ratings.csv"
   ]
  },
  {
   "cell_type": "code",
   "execution_count": 10,
   "id": "96b64038",
   "metadata": {},
   "outputs": [
    {
     "data": {
      "text/html": [
       "<div>\n",
       "<style scoped>\n",
       "    .dataframe tbody tr th:only-of-type {\n",
       "        vertical-align: middle;\n",
       "    }\n",
       "\n",
       "    .dataframe tbody tr th {\n",
       "        vertical-align: top;\n",
       "    }\n",
       "\n",
       "    .dataframe thead th {\n",
       "        text-align: right;\n",
       "    }\n",
       "</style>\n",
       "<table border=\"1\" class=\"dataframe\">\n",
       "  <thead>\n",
       "    <tr style=\"text-align: right;\">\n",
       "      <th></th>\n",
       "      <th>userId</th>\n",
       "      <th>movieId</th>\n",
       "      <th>rating</th>\n",
       "      <th>timestamp</th>\n",
       "    </tr>\n",
       "  </thead>\n",
       "  <tbody>\n",
       "    <tr>\n",
       "      <th>0</th>\n",
       "      <td>1</td>\n",
       "      <td>1</td>\n",
       "      <td>4.0</td>\n",
       "      <td>964982703</td>\n",
       "    </tr>\n",
       "    <tr>\n",
       "      <th>1</th>\n",
       "      <td>1</td>\n",
       "      <td>3</td>\n",
       "      <td>4.0</td>\n",
       "      <td>964981247</td>\n",
       "    </tr>\n",
       "    <tr>\n",
       "      <th>2</th>\n",
       "      <td>1</td>\n",
       "      <td>6</td>\n",
       "      <td>4.0</td>\n",
       "      <td>964982224</td>\n",
       "    </tr>\n",
       "    <tr>\n",
       "      <th>3</th>\n",
       "      <td>1</td>\n",
       "      <td>47</td>\n",
       "      <td>5.0</td>\n",
       "      <td>964983815</td>\n",
       "    </tr>\n",
       "    <tr>\n",
       "      <th>4</th>\n",
       "      <td>1</td>\n",
       "      <td>50</td>\n",
       "      <td>5.0</td>\n",
       "      <td>964982931</td>\n",
       "    </tr>\n",
       "  </tbody>\n",
       "</table>\n",
       "</div>"
      ],
      "text/plain": [
       "   userId  movieId  rating  timestamp\n",
       "0       1        1     4.0  964982703\n",
       "1       1        3     4.0  964981247\n",
       "2       1        6     4.0  964982224\n",
       "3       1       47     5.0  964983815\n",
       "4       1       50     5.0  964982931"
      ]
     },
     "execution_count": 10,
     "metadata": {},
     "output_type": "execute_result"
    }
   ],
   "source": [
    "df_movelens = pd.read_csv('ratings.csv')\n",
    "df_movelens.head()"
   ]
  },
  {
   "cell_type": "code",
   "execution_count": 11,
   "id": "046e6e27",
   "metadata": {},
   "outputs": [
    {
     "data": {
      "text/plain": [
       "movieId\n",
       "1    3.920930\n",
       "2    3.431818\n",
       "3    3.259615\n",
       "4    2.357143\n",
       "5    3.071429\n",
       "Name: rating, dtype: float64"
      ]
     },
     "execution_count": 11,
     "metadata": {},
     "output_type": "execute_result"
    }
   ],
   "source": [
    "df_nota_media_por_filme = df_movelens.groupby('movieId').mean()['rating']\n",
    "df_nota_media_por_filme.head()"
   ]
  },
  {
   "cell_type": "code",
   "execution_count": 12,
   "id": "624b5970",
   "metadata": {},
   "outputs": [
    {
     "data": {
      "text/plain": [
       "Text(0.5, 1.0, 'Distribuição da média de votos no MovieLens 100K')"
      ]
     },
     "execution_count": 12,
     "metadata": {},
     "output_type": "execute_result"
    },
    {
     "data": {
      "image/png": "[encoded data removed]",
      "text/plain": [
       "<Figure size 432x288 with 1 Axes>"
      ]
     },
     "metadata": {
      "needs_background": "light"
     },
     "output_type": "display_data"
    }
   ],
   "source": [
    "# Apresentação do histograma \n",
    "ax = sns.histplot(df_nota_media_por_filme.values, kde=True)\n",
    "\n",
    "ax.set(xlabel='Nota Média', ylabel='Quantidade')\n",
    "ax.set_title('Distribuição da média de votos no MovieLens 100K')"
   ]
  },
  {
   "cell_type": "markdown",
   "id": "ebaed73a",
   "metadata": {},
   "source": [
    "#### Vamos selecionar os filmes com no mínimo 10 votos"
   ]
  },
  {
   "cell_type": "code",
   "execution_count": 13,
   "id": "80ecd767",
   "metadata": {},
   "outputs": [
    {
     "data": {
      "text/plain": [
       "array([     1,      2,      3, ..., 177765, 179819, 187593], dtype=int64)"
      ]
     },
     "execution_count": 13,
     "metadata": {},
     "output_type": "execute_result"
    }
   ],
   "source": [
    "quantidade_votos_por_filme = df_movelens.groupby('movieId').count()\n",
    "movieId_10_votos = quantidade_votos_por_filme.query('rating >= 10').index\n",
    "\n",
    "movieId_10_votos.values"
   ]
  },
  {
   "cell_type": "code",
   "execution_count": 14,
   "id": "d3ec5752",
   "metadata": {},
   "outputs": [
    {
     "data": {
      "text/plain": [
       "movieId\n",
       "1    3.920930\n",
       "2    3.431818\n",
       "3    3.259615\n",
       "5    3.071429\n",
       "6    3.946078\n",
       "Name: rating, dtype: float64"
      ]
     },
     "execution_count": 14,
     "metadata": {},
     "output_type": "execute_result"
    }
   ],
   "source": [
    "df_nota_media_por_filme_10_votos = df_nota_media_por_filme.loc[movieId_10_votos.values]\n",
    "df_nota_media_por_filme_10_votos.head()"
   ]
  },
  {
   "cell_type": "code",
   "execution_count": 15,
   "id": "21ccdd81",
   "metadata": {},
   "outputs": [
    {
     "data": {
      "text/plain": [
       "Text(0.5, 1.0, 'Distribuição da média de votos no MovieLens 100K com pelo menos 10 votos')"
      ]
     },
     "execution_count": 15,
     "metadata": {},
     "output_type": "execute_result"
    },
    {
     "data": {
      "image/png": "[encoded data removed]",
      "text/plain": [
       "<Figure size 432x288 with 1 Axes>"
      ]
     },
     "metadata": {
      "needs_background": "light"
     },
     "output_type": "display_data"
    }
   ],
   "source": [
    "# Apresentação do histograma \n",
    "ax = sns.histplot(df_nota_media_por_filme_10_votos.values, kde=True)\n",
    "\n",
    "ax.set(xlabel='Nota Média', ylabel='Quantidade')\n",
    "ax.set_title('Distribuição da média de votos no MovieLens 100K com pelo menos 10 votos')"
   ]
  },
  {
   "cell_type": "code",
   "execution_count": 16,
   "id": "f3e4f0a6",
   "metadata": {
    "scrolled": true
   },
   "outputs": [
    {
     "data": {
      "text/plain": [
       "Text(0.5, 1.0, 'Distribuição da média de votos no MovieLens 100K com pelo menos 10 votos')"
      ]
     },
     "execution_count": 16,
     "metadata": {},
     "output_type": "execute_result"
    },
    {
     "data": {
      "image/png": "[encoded data removed]",
      "text/plain": [
       "<Figure size 432x288 with 1 Axes>"
      ]
     },
     "metadata": {
      "needs_background": "light"
     },
     "output_type": "display_data"
    }
   ],
   "source": [
    "# Apresentação do box-plot \n",
    "ax = sns.boxplot(data=df_nota_media_por_filme_10_votos.values, orient='h')\n",
    "\n",
    "ax.set(xlabel='Nota Média')\n",
    "ax.set_title('Distribuição da média de votos no MovieLens 100K com pelo menos 10 votos')"
   ]
  },
  {
   "cell_type": "code",
   "execution_count": 17,
   "id": "be0e39a7",
   "metadata": {},
   "outputs": [
    {
     "data": {
      "image/png": "[encoded data removed]",
      "text/plain": [
       "<Figure size 432x288 with 1 Axes>"
      ]
     },
     "metadata": {
      "needs_background": "light"
     },
     "output_type": "display_data"
    }
   ],
   "source": [
    "# Apresentação do densidade acumulada de filmes \n",
    "ax = sns.histplot(df_nota_media_por_filme_10_votos.values, cumulative=True, stat='density', kde=True)\n",
    "\n",
    "ax.set(xlabel='Nota Média', ylabel='Proporção acumulada de filmes')\n",
    "ax.set_title('Distribuição da média de votos no MovieLens 100K com pelo menos 10 votos')\n",
    "\n",
    "# Adição de uma grade\n",
    "ax.grid(True)"
   ]
  },
  {
   "cell_type": "markdown",
   "id": "7a9e02b2",
   "metadata": {},
   "source": [
    "# Aula 02.2\n",
    "\n",
    "### Analizando a distribuição dos dados capturados de outros campos do TMDB"
   ]
  },
  {
   "cell_type": "markdown",
   "id": "fdad56f9",
   "metadata": {},
   "source": [
    "Distribuição do campo vote_count do arquivo TMDB 5000 com mais de 10 votos"
   ]
  },
  {
   "cell_type": "code",
   "execution_count": 18,
   "id": "41a41232",
   "metadata": {},
   "outputs": [
    {
     "data": {
      "text/plain": [
       "Text(0.5, 1.0, 'Distribuição do campo vote_count do arquivo TMDB 5000 com mais de 10 votos')"
      ]
     },
     "execution_count": 18,
     "metadata": {},
     "output_type": "execute_result"
    },
    {
     "data": {
      "image/png": "[encoded data removed]",
      "text/plain": [
       "<Figure size 432x288 with 1 Axes>"
      ]
     },
     "metadata": {
      "needs_background": "light"
     },
     "output_type": "display_data"
    }
   ],
   "source": [
    "# Apresentação do histograma \n",
    "ax = sns.histplot(df_tmdb_10_votos.vote_count, kde=True)\n",
    "\n",
    "ax.set(xlabel='Número de Votos', ylabel='Quantidade')\n",
    "ax.set_title('Distribuição do campo vote_count do arquivo TMDB 5000 com mais de 10 votos')"
   ]
  },
  {
   "cell_type": "markdown",
   "id": "23945f01",
   "metadata": {},
   "source": [
    "<font color='red'>A distribuição apresentou muitos filmes com poucos votos, e poucos filmes com muitos votos.</font>"
   ]
  },
  {
   "cell_type": "markdown",
   "id": "11cbda4a",
   "metadata": {},
   "source": [
    "#### Avaliando valor gasto por filme no arquivo TMDB 5000 completo"
   ]
  },
  {
   "cell_type": "code",
   "execution_count": 19,
   "id": "447d39f1",
   "metadata": {},
   "outputs": [
    {
     "data": {
      "text/plain": [
       "Text(0.5, 1.0, 'Distribuição do campo vote_count do arquivo TMDB 5000 com mais de 10 votos')"
      ]
     },
     "execution_count": 19,
     "metadata": {},
     "output_type": "execute_result"
    },
    {
     "data": {
      "image/png": "[encoded data removed]",
      "text/plain": [
       "<Figure size 432x288 with 1 Axes>"
      ]
     },
     "metadata": {
      "needs_background": "light"
     },
     "output_type": "display_data"
    }
   ],
   "source": [
    "# Apresentação do histograma \n",
    "ax = sns.histplot(df_tmdb.budget, kde=True)\n",
    "\n",
    "ax.set(xlabel='Valor gasto por filme', ylabel='Quantidade')\n",
    "ax.set_title('Distribuição do campo vote_count do arquivo TMDB 5000 com mais de 10 votos')"
   ]
  },
  {
   "cell_type": "markdown",
   "id": "c53a92fd",
   "metadata": {},
   "source": [
    "<font color='red'>Muitos filmes não foi apresentado a informação do valor gasto, mas queremos somente a informação de filmes que apresenta a informaçã do valor</font>"
   ]
  },
  {
   "cell_type": "code",
   "execution_count": 20,
   "id": "65656433",
   "metadata": {},
   "outputs": [
    {
     "data": {
      "text/plain": [
       "Text(0.5, 1.0, 'Distribuição do campo vote_count do arquivo TMDB 5000 com mais de 10 votos')"
      ]
     },
     "execution_count": 20,
     "metadata": {},
     "output_type": "execute_result"
    },
    {
     "data": {
      "image/png": "[encoded data removed]",
      "text/plain": [
       "<Figure size 432x288 with 1 Axes>"
      ]
     },
     "metadata": {
      "needs_background": "light"
     },
     "output_type": "display_data"
    }
   ],
   "source": [
    "# Apresentação do histograma \n",
    "ax = sns.histplot(df_tmdb.query('budget > 0').budget, kde=True)\n",
    "\n",
    "ax.set(xlabel='(budget) Valor gasto por filme', ylabel='Quantidade')\n",
    "ax.set_title('Distribuição do campo vote_count do arquivo TMDB 5000 com mais de 10 votos')"
   ]
  },
  {
   "cell_type": "markdown",
   "id": "8566c2c2",
   "metadata": {},
   "source": [
    "#### Avaliando coluna popularity do filme no arquivo TMDB 5000 completo"
   ]
  },
  {
   "cell_type": "code",
   "execution_count": 21,
   "id": "2823daed",
   "metadata": {},
   "outputs": [
    {
     "data": {
      "text/plain": [
       "Text(0.5, 1.0, 'Distribuição do campo popularity do arquivo TMDB 5000')"
      ]
     },
     "execution_count": 21,
     "metadata": {},
     "output_type": "execute_result"
    },
    {
     "data": {
      "image/png": "[encoded data removed]",
      "text/plain": [
       "<Figure size 432x288 with 1 Axes>"
      ]
     },
     "metadata": {
      "needs_background": "light"
     },
     "output_type": "display_data"
    }
   ],
   "source": [
    "# Apresentação do histograma \n",
    "ax = sns.histplot(df_tmdb.popularity, kde=True)\n",
    "\n",
    "ax.set(xlabel='(popularity) Popularidade apresentada pelo TMDB', ylabel='Quantidade')\n",
    "ax.set_title('Distribuição do campo popularity do arquivo TMDB 5000')"
   ]
  },
  {
   "cell_type": "markdown",
   "id": "5aa86b93",
   "metadata": {},
   "source": [
    "#### Avaliando coluna runtime do filme no arquivo TMDB 5000 completo"
   ]
  },
  {
   "cell_type": "code",
   "execution_count": 22,
   "id": "93b37a79",
   "metadata": {},
   "outputs": [
    {
     "data": {
      "text/plain": [
       "Text(0.5, 1.0, 'Distribuição do campo runtime do arquivo TMDB 5000 onde o runtime foi informado')"
      ]
     },
     "execution_count": 22,
     "metadata": {},
     "output_type": "execute_result"
    },
    {
     "data": {
      "image/png": "[encoded data removed]",
      "text/plain": [
       "<Figure size 432x288 with 1 Axes>"
      ]
     },
     "metadata": {
      "needs_background": "light"
     },
     "output_type": "display_data"
    }
   ],
   "source": [
    "# Apresentação do histograma \n",
    "ax = sns.histplot(df_tmdb.query('runtime > 0').runtime, kde=True)\n",
    "\n",
    "ax.set(xlabel='(runtime) Tempo de duração do filme', ylabel='Quantidade')\n",
    "ax.set_title('Distribuição do campo runtime do arquivo TMDB 5000 onde o runtime foi informado')"
   ]
  },
  {
   "cell_type": "code",
   "execution_count": 23,
   "id": "4f4dcb04",
   "metadata": {},
   "outputs": [
    {
     "data": {
      "image/png": "[encoded data removed]",
      "text/plain": [
       "<Figure size 432x288 with 1 Axes>"
      ]
     },
     "metadata": {
      "needs_background": "light"
     },
     "output_type": "display_data"
    }
   ],
   "source": [
    "# Apresentação do densidade acumulada de filmes \n",
    "ax = sns.histplot(df_tmdb.query('runtime > 0').runtime, cumulative=True, stat='density', kde=True)\n",
    "\n",
    "ax.set(xlabel='(runtime) Tempo de duração do filme', ylabel='Proporção acumulada de filmes')\n",
    "ax.set_title('Densidade acumulada do campo runtime do arquivo TMDB 5000 onde o runtime foi informado')\n",
    "\n",
    "# Adição de uma grade\n",
    "ax.grid(True)"
   ]
  },
  {
   "cell_type": "code",
   "execution_count": 24,
   "id": "82f7110f",
   "metadata": {},
   "outputs": [
    {
     "data": {
      "text/plain": [
       "121.0"
      ]
     },
     "execution_count": 24,
     "metadata": {},
     "output_type": "execute_result"
    }
   ],
   "source": [
    "# Até 80% dos filmes apresentam tempo de duração até 121 minutos\n",
    "df_tmdb.query('runtime > 0').runtime.quantile(0.8)"
   ]
  },
  {
   "cell_type": "markdown",
   "id": "270d0ef1",
   "metadata": {},
   "source": [
    "# Aula 03.2\n",
    "### O efeito do tamanho de uma amostra"
   ]
  },
  {
   "cell_type": "markdown",
   "id": "3c83f267",
   "metadata": {},
   "source": [
    "Analizando movelens: média dos filmes com pelo menos 10 votos"
   ]
  },
  {
   "cell_type": "code",
   "execution_count": 25,
   "id": "cfe2fa6d",
   "metadata": {},
   "outputs": [
    {
     "name": "stdout",
     "output_type": "stream",
     "text": [
      "A média dos filmes com pelo menos 10 votos - 3.4320503405352603\n"
     ]
    }
   ],
   "source": [
    "print(f'A média dos filmes com pelo menos 10 votos - {df_nota_media_por_filme_10_votos.mean()}')"
   ]
  },
  {
   "cell_type": "code",
   "execution_count": 26,
   "id": "db16c1f0",
   "metadata": {},
   "outputs": [
    {
     "name": "stdout",
     "output_type": "stream",
     "text": [
      "Quantidade de filmes com pelo menos 10 votos - 2269\n"
     ]
    }
   ],
   "source": [
    "print(f'Quantidade de filmes com pelo menos 10 votos - {df_nota_media_por_filme_10_votos.shape[0]}')"
   ]
  },
  {
   "cell_type": "code",
   "execution_count": 27,
   "id": "4992de35",
   "metadata": {},
   "outputs": [
    {
     "name": "stdout",
     "output_type": "stream",
     "text": [
      "Vizualizando que a medida que a amostra aumenta, se aproxima da média total\n",
      "\n",
      " 2 amostras a média é - 3.676374207188161\n",
      " 3 amostras a média é - 3.5374545996639024\n",
      " 4 amostras a média é - 3.4209480926050695\n",
      " 5 amostras a média é - 3.5259741603585653\n",
      " 6 amostras a média é - 3.469175997829668\n",
      " 7 amostras a média é - 3.420007998139716\n",
      " 8 amostras a média é - 3.4295335135237663\n",
      " 9 amostras a média é - 3.4564107421798558\n",
      "10 amostras a média é - 3.352874931119765\n"
     ]
    }
   ],
   "source": [
    "print('Vizualizando que a medida que a amostra aumenta, se aproxima da média total', end='\\n\\n')\n",
    "\n",
    "medias = []\n",
    "\n",
    "for i in range(df_nota_media_por_filme_10_votos.shape[0]):\n",
    "    medias.append(df_nota_media_por_filme_10_votos[0:i+1].mean())    \n",
    "    \n",
    "    if 0 < i < 10:\n",
    "        print(f'{(i+1):2.0f} amostras a média é - {medias[i]}')"
   ]
  },
  {
   "cell_type": "code",
   "execution_count": 28,
   "id": "c9456d19",
   "metadata": {},
   "outputs": [
    {
     "data": {
      "image/png": "[encoded data removed]",
      "text/plain": [
       "<Figure size 432x288 with 1 Axes>"
      ]
     },
     "metadata": {
      "needs_background": "light"
     },
     "output_type": "display_data"
    }
   ],
   "source": [
    "ax = pd.Series(medias).plot()\n",
    "ax.grid(True)"
   ]
  },
  {
   "cell_type": "markdown",
   "id": "be5f7f5c",
   "metadata": {},
   "source": [
    "# Aula 03.3\n",
    "###  Intervalo de confiança da média com T-TEST e Z-TEST"
   ]
  },
  {
   "cell_type": "markdown",
   "id": "fce60b8f",
   "metadata": {},
   "source": [
    "[Comparação entre T-Test e Z-Test](https://keydifferences.com/difference-between-t-test-and-z-test.html#:~:text=T%2Dtest%20refers%20to%20a%20type%20of%20parametric%20test%20that,other%20when%20variance%20is%20given.)\n",
    "\n",
    "|BASIS FOR COMPARISON|T-TEST|Z-TEST|\n",
    "|---|---|---|\n",
    "|Meaning|T-test refers to a type of parametric test that is applied to identify, how the means of two sets of data differ from one another when variance is not given.|Z-test implies a hypothesis test which ascertains if the means of two datasets are different from each other when variance is given.|\n",
    "|Based on|Student-t distribution|Normal distribution|\n",
    "|Population variance|Unknown|Known|\n",
    "|Sample Size|Small|Large|"
   ]
  },
  {
   "cell_type": "markdown",
   "id": "56858901",
   "metadata": {},
   "source": [
    "### Utilizando Teste Z (Para grandes amostras)\n",
    "Objetivo é encontrarmos um intervalo de confiança que abrangerá não só os filmes da nossa amostra, mas também aqueles fora dela. Para isso, usaremos a função zconfint() (que se refere ao intervalo de confiança no Teste Z).</br></br>\n",
    "[Documentação do zconfint](https://www.statsmodels.org/dev/generated/statsmodels.stats.weightstats.zconfint.html)"
   ]
  },
  {
   "cell_type": "code",
   "execution_count": 29,
   "id": "9340e120",
   "metadata": {},
   "outputs": [],
   "source": [
    "from statsmodels.stats.weightstats import zconfint"
   ]
  },
  {
   "cell_type": "code",
   "execution_count": 30,
   "id": "dabb4a23",
   "metadata": {},
   "outputs": [
    {
     "data": {
      "text/plain": [
       "(3.4112459477469557, 3.452854733323563)"
      ]
     },
     "execution_count": 30,
     "metadata": {},
     "output_type": "execute_result"
    }
   ],
   "source": [
    "# por padrão alpha=0.05 que é a significancia, portanto confiança de 95%\n",
    "zconfint(df_nota_media_por_filme_10_votos)"
   ]
  },
  {
   "cell_type": "markdown",
   "id": "c5099823",
   "metadata": {},
   "source": [
    "Ou seja, acreditando que nosso conjunto de dados seja uma amostra grande suficiente para a aplicação desse tipo de teste (que exige normalidade e uma grande quantidade de dados), teremos um intervalo de confiança entre 3.4112 e 3.4528 para os filmes em geral, e não só para os da amostra."
   ]
  },
  {
   "cell_type": "markdown",
   "id": "95fd21b3",
   "metadata": {},
   "source": [
    "### Utilizando Teste T (Para pequenas amostras)\n",
    "[Documentação do tconfint_mean](https://www.statsmodels.org/dev/generated/statsmodels.stats.weightstats.DescrStatsW.tconfint_mean.html)"
   ]
  },
  {
   "cell_type": "code",
   "execution_count": 31,
   "id": "6a92dbdc",
   "metadata": {},
   "outputs": [],
   "source": [
    "from statsmodels.stats.weightstats import DescrStatsW"
   ]
  },
  {
   "cell_type": "code",
   "execution_count": 32,
   "id": "55fc9406",
   "metadata": {},
   "outputs": [
    {
     "data": {
      "text/plain": [
       "(3.41123483922938, 3.4528658418411386)"
      ]
     },
     "execution_count": 32,
     "metadata": {},
     "output_type": "execute_result"
    }
   ],
   "source": [
    "# por padrão alpha=0.05 que é a significancia, portanto confiança de 95%\n",
    "DescrStatsW(df_nota_media_por_filme_10_votos).tconfint_mean()"
   ]
  },
  {
   "cell_type": "markdown",
   "id": "3882768b",
   "metadata": {},
   "source": [
    "# Aula 4.02\n",
    "### ZTest para uma amostra específica"
   ]
  },
  {
   "cell_type": "code",
   "execution_count": 33,
   "id": "a07cdfce",
   "metadata": {},
   "outputs": [
    {
     "data": {
      "text/html": [
       "<div>\n",
       "<style scoped>\n",
       "    .dataframe tbody tr th:only-of-type {\n",
       "        vertical-align: middle;\n",
       "    }\n",
       "\n",
       "    .dataframe tbody tr th {\n",
       "        vertical-align: top;\n",
       "    }\n",
       "\n",
       "    .dataframe thead th {\n",
       "        text-align: right;\n",
       "    }\n",
       "</style>\n",
       "<table border=\"1\" class=\"dataframe\">\n",
       "  <thead>\n",
       "    <tr style=\"text-align: right;\">\n",
       "      <th></th>\n",
       "      <th>movieId</th>\n",
       "      <th>title</th>\n",
       "      <th>genres</th>\n",
       "    </tr>\n",
       "  </thead>\n",
       "  <tbody>\n",
       "    <tr>\n",
       "      <th>0</th>\n",
       "      <td>1</td>\n",
       "      <td>Toy Story (1995)</td>\n",
       "      <td>Adventure|Animation|Children|Comedy|Fantasy</td>\n",
       "    </tr>\n",
       "  </tbody>\n",
       "</table>\n",
       "</div>"
      ],
      "text/plain": [
       "   movieId             title                                       genres\n",
       "0        1  Toy Story (1995)  Adventure|Animation|Children|Comedy|Fantasy"
      ]
     },
     "execution_count": 33,
     "metadata": {},
     "output_type": "execute_result"
    }
   ],
   "source": [
    "# Query selecionando filme Toy Story (1995)\n",
    "df_filmes = pd.read_csv('movies.csv')\n",
    "df_filmes.query('movieId == 1')"
   ]
  },
  {
   "cell_type": "code",
   "execution_count": 34,
   "id": "b62e3a2d",
   "metadata": {},
   "outputs": [
    {
     "data": {
      "text/html": [
       "<div>\n",
       "<style scoped>\n",
       "    .dataframe tbody tr th:only-of-type {\n",
       "        vertical-align: middle;\n",
       "    }\n",
       "\n",
       "    .dataframe tbody tr th {\n",
       "        vertical-align: top;\n",
       "    }\n",
       "\n",
       "    .dataframe thead th {\n",
       "        text-align: right;\n",
       "    }\n",
       "</style>\n",
       "<table border=\"1\" class=\"dataframe\">\n",
       "  <thead>\n",
       "    <tr style=\"text-align: right;\">\n",
       "      <th></th>\n",
       "      <th>userId</th>\n",
       "      <th>movieId</th>\n",
       "      <th>rating</th>\n",
       "      <th>timestamp</th>\n",
       "    </tr>\n",
       "  </thead>\n",
       "  <tbody>\n",
       "    <tr>\n",
       "      <th>0</th>\n",
       "      <td>1</td>\n",
       "      <td>1</td>\n",
       "      <td>4.0</td>\n",
       "      <td>964982703</td>\n",
       "    </tr>\n",
       "    <tr>\n",
       "      <th>516</th>\n",
       "      <td>5</td>\n",
       "      <td>1</td>\n",
       "      <td>4.0</td>\n",
       "      <td>847434962</td>\n",
       "    </tr>\n",
       "    <tr>\n",
       "      <th>874</th>\n",
       "      <td>7</td>\n",
       "      <td>1</td>\n",
       "      <td>4.5</td>\n",
       "      <td>1106635946</td>\n",
       "    </tr>\n",
       "    <tr>\n",
       "      <th>1434</th>\n",
       "      <td>15</td>\n",
       "      <td>1</td>\n",
       "      <td>2.5</td>\n",
       "      <td>1510577970</td>\n",
       "    </tr>\n",
       "    <tr>\n",
       "      <th>1667</th>\n",
       "      <td>17</td>\n",
       "      <td>1</td>\n",
       "      <td>4.5</td>\n",
       "      <td>1305696483</td>\n",
       "    </tr>\n",
       "  </tbody>\n",
       "</table>\n",
       "</div>"
      ],
      "text/plain": [
       "      userId  movieId  rating   timestamp\n",
       "0          1        1     4.0   964982703\n",
       "516        5        1     4.0   847434962\n",
       "874        7        1     4.5  1106635946\n",
       "1434      15        1     2.5  1510577970\n",
       "1667      17        1     4.5  1305696483"
      ]
     },
     "execution_count": 34,
     "metadata": {},
     "output_type": "execute_result"
    }
   ],
   "source": [
    "# Todas as notas do filme Toy Story (1995)\n",
    "notas_filme_1 = df_movelens.query('movieId == 1')\n",
    "notas_filme_1.head()"
   ]
  },
  {
   "cell_type": "code",
   "execution_count": 35,
   "id": "86d972f0",
   "metadata": {},
   "outputs": [
    {
     "data": {
      "text/plain": [
       "count    215.0000\n",
       "mean       3.9209\n",
       "std        0.8349\n",
       "min        0.5000\n",
       "25%        3.5000\n",
       "50%        4.0000\n",
       "75%        4.5000\n",
       "max        5.0000\n",
       "Name: rating, dtype: float64"
      ]
     },
     "execution_count": 35,
     "metadata": {},
     "output_type": "execute_result"
    }
   ],
   "source": [
    "notas_filme_1.rating.describe().round(4)"
   ]
  },
  {
   "cell_type": "code",
   "execution_count": 36,
   "id": "61355555",
   "metadata": {},
   "outputs": [
    {
     "data": {
      "text/plain": [
       "Text(0.5, 1.0, 'Distribuição do campo rating para o filme Toy Story (1995)')"
      ]
     },
     "execution_count": 36,
     "metadata": {},
     "output_type": "execute_result"
    },
    {
     "data": {
      "image/png": "[encoded data removed]",
      "text/plain": [
       "<Figure size 432x288 with 1 Axes>"
      ]
     },
     "metadata": {
      "needs_background": "light"
     },
     "output_type": "display_data"
    }
   ],
   "source": [
    "# Apresentação do histograma \n",
    "ax = sns.histplot(notas_filme_1.rating, kde=True)\n",
    "\n",
    "ax.set(xlabel='Notas do filme Toy Story', ylabel='Quantidade')\n",
    "ax.set_title('Distribuição do campo rating para o filme Toy Story (1995)')"
   ]
  },
  {
   "cell_type": "code",
   "execution_count": 37,
   "id": "e08a58de",
   "metadata": {},
   "outputs": [
    {
     "data": {
      "text/plain": [
       "Text(0.5, 1.0, 'Distribuição do campo rating para o filme Toy Story (1995)')"
      ]
     },
     "execution_count": 37,
     "metadata": {},
     "output_type": "execute_result"
    },
    {
     "data": {
      "image/png": "[encoded data removed]",
      "text/plain": [
       "<Figure size 432x288 with 1 Axes>"
      ]
     },
     "metadata": {
      "needs_background": "light"
     },
     "output_type": "display_data"
    }
   ],
   "source": [
    "# Apresentação do box-plot \n",
    "ax = sns.boxplot(data=notas_filme_1.rating, orient='h')\n",
    "\n",
    "ax.set(xlabel='Notas do filme Toy Story')\n",
    "ax.set_title('Distribuição do campo rating para o filme Toy Story (1995)')"
   ]
  },
  {
   "cell_type": "markdown",
   "id": "42d171e2",
   "metadata": {},
   "source": [
    "#### Utilizando Teste Z (Para grandes amostras)"
   ]
  },
  {
   "cell_type": "code",
   "execution_count": 38,
   "id": "edfa39b8",
   "metadata": {},
   "outputs": [
    {
     "data": {
      "text/plain": [
       "215"
      ]
     },
     "execution_count": 38,
     "metadata": {},
     "output_type": "execute_result"
    }
   ],
   "source": [
    "notas_filme_1.rating.count()"
   ]
  },
  {
   "cell_type": "code",
   "execution_count": 39,
   "id": "5220880e",
   "metadata": {},
   "outputs": [
    {
     "data": {
      "text/plain": [
       "3.9209302325581397"
      ]
     },
     "execution_count": 39,
     "metadata": {},
     "output_type": "execute_result"
    }
   ],
   "source": [
    "notas_filme_1.rating.mean()"
   ]
  },
  {
   "cell_type": "code",
   "execution_count": 40,
   "id": "ff6f4842",
   "metadata": {},
   "outputs": [
    {
     "data": {
      "text/plain": [
       "(3.8093359183563402, 4.032524546759939)"
      ]
     },
     "execution_count": 40,
     "metadata": {},
     "output_type": "execute_result"
    }
   ],
   "source": [
    "# por padrão alpha=0.05 que é a significancia, portanto confiança de 95%\n",
    "zconfint(notas_filme_1.rating)"
   ]
  },
  {
   "cell_type": "markdown",
   "id": "2e39f007",
   "metadata": {},
   "source": [
    "Também podemos realizar outro teste com as nossas médias, tentando afirmar que a nota média do Toy Story na verdade é a nota média que encontramos para os filmes com pelo menos dez votos. Para isso, importaremos, do módulo Statsmodels, o ztest. Esse teste nos devolverá um pvalue que nos informará se, no mundo real, a média desse filme seria ou não igual a 3.4320503405352603 (a nota média do TMDB)."
   ]
  },
  {
   "cell_type": "code",
   "execution_count": 41,
   "id": "e6d3def3",
   "metadata": {},
   "outputs": [
    {
     "name": "stdout",
     "output_type": "stream",
     "text": [
      "A média dos filmes com pelo menos 10 votos - 3.4320503405352603\n"
     ]
    }
   ],
   "source": [
    "print(f'A média dos filmes com pelo menos 10 votos - {df_nota_media_por_filme_10_votos.mean()}')"
   ]
  },
  {
   "cell_type": "code",
   "execution_count": 42,
   "id": "f9d2f9f6",
   "metadata": {},
   "outputs": [
    {
     "name": "stdout",
     "output_type": "stream",
     "text": [
      "Estatística de teste (z) - 8.586342305916716\n",
      "Critério do valor 𝑝 (p_valor) - 8.978190401886942e-18\n"
     ]
    }
   ],
   "source": [
    "from statsmodels.stats.weightstats import ztest\n",
    "\n",
    "z, p_valor = ztest(notas_filme_1.rating, value = 3.4320503405352603)\n",
    "\n",
    "print(f'Estatística de teste (z) - {z}')\n",
    "print(f'Critério do valor 𝑝 (p_valor) - {p_valor}')"
   ]
  },
  {
   "cell_type": "markdown",
   "id": "48161407",
   "metadata": {},
   "source": [
    "<font color='red'>\n",
    "    O p_valor bastante baixo, e bem menor que o nosso 0.05 (o alpha). Portanto, podemos descartar a hipótese de que, no mundo real, a média do Toy Story é igual a 3.4320503405352603 (também chamada de hipótese nula).</br>\n",
    "    Conclusão é que o filme Toy Story realmente tem uma média diferente da média de todos os filmes.\n",
    "</font>"
   ]
  },
  {
   "cell_type": "markdown",
   "id": "2191eee8",
   "metadata": {},
   "source": [
    "# Aula 04.3\n",
    "### Problemas de amostras pequenas"
   ]
  },
  {
   "cell_type": "markdown",
   "id": "f37b34d7",
   "metadata": {},
   "source": [
    "Visualização da oscilação das médias das notas, a medida que a amostra aumenta."
   ]
  },
  {
   "cell_type": "code",
   "execution_count": 43,
   "id": "c37a0236",
   "metadata": {},
   "outputs": [],
   "source": [
    "# obtendo as notas de maneira aleatória\n",
    "np.random.seed(75241)\n",
    "temp = notas_filme_1.rating.sample(frac=1)  "
   ]
  },
  {
   "cell_type": "markdown",
   "id": "b4d50684",
   "metadata": {},
   "source": [
    "Criando função calcula_teste(i). Nela, colocaremos o código referente à media do trecho analisado. Além da aplicação do ztest() para essas notas, estipulando como referência o valor 3.4320503405352603."
   ]
  },
  {
   "cell_type": "code",
   "execution_count": 44,
   "id": "e97f7101",
   "metadata": {},
   "outputs": [],
   "source": [
    "def calcula_teste(i):\n",
    "    media = temp[0:i].mean()\n",
    "    z, p_valor = ztest(temp[0:i], value = 3.4320503405352603)\n",
    "    return i, media, p_valor"
   ]
  },
  {
   "cell_type": "code",
   "execution_count": 45,
   "id": "e2b9f86c",
   "metadata": {},
   "outputs": [
    {
     "name": "stdout",
     "output_type": "stream",
     "text": [
      "Para   2 amostras, a média é 4.500 com p_valor de 0.032687621135204896\n",
      "Para   3 amostras, a média é 4.000 com p_valor de 0.3252543510880489\n",
      "Para   4 amostras, a média é 3.875 com p_valor de 0.29952196979944745\n",
      "Para   5 amostras, a média é 3.900 com p_valor de 0.15826781784711086\n",
      "Para   6 amostras, a média é 3.917 com p_valor de 0.07406936464331344\n",
      "Para   7 amostras, a média é 3.929 com p_valor de 0.03058372185045264\n",
      "Para   8 amostras, a média é 4.062 com p_valor de 0.008546846816661634\n",
      "Para   9 amostras, a média é 3.944 com p_valor de 0.034351369792154834\n",
      "Para  10 amostras, a média é 3.600 com p_valor de 0.6797757440816464\n",
      "Para  11 amostras, a média é 3.591 com p_valor de 0.6661040559180447\n",
      "Para  12 amostras, a média é 3.500 com p_valor de 0.8452594429449549\n",
      "Para  13 amostras, a média é 3.500 com p_valor de 0.8319722700425317\n",
      "Para  14 amostras, a média é 3.536 com p_valor de 0.7285036535608292\n",
      "Para  15 amostras, a média é 3.600 com p_valor de 0.5561564945645507\n",
      "Para  16 amostras, a média é 3.562 com p_valor de 0.6284166359766319\n",
      "Para  17 amostras, a média é 3.647 com p_valor de 0.42056196093078513\n",
      "Para  18 amostras, a média é 3.722 com p_valor de 0.2692718087435868\n",
      "Para  19 amostras, a média é 3.684 com p_valor de 0.3157395629293568\n",
      "Para  20 amostras, a média é 3.650 com p_valor de 0.36558117183067695\n",
      "Para  21 amostras, a média é 3.571 com p_valor de 0.5650170364597873\n",
      "Para  22 amostras, a média é 3.591 com p_valor de 0.4930885087384419\n",
      "Para  23 amostras, a média é 3.609 com p_valor de 0.4265824656611449\n",
      "Para  24 amostras, a média é 3.625 com p_valor de 0.36578337526912086\n",
      "Para  25 amostras, a média é 3.640 com p_valor de 0.3108287352909964\n",
      "Para  26 amostras, a média é 3.654 com p_valor de 0.26171758950670954\n",
      "Para  27 amostras, a média é 3.648 com p_valor de 0.2559999054486449\n",
      "Para  28 amostras, a média é 3.696 com p_valor de 0.16314137427171593\n",
      "Para  29 amostras, a média é 3.741 com p_valor de 0.10054986793464257\n",
      "Para  30 amostras, a média é 3.733 com p_valor de 0.09812718831667805\n",
      "Para  31 amostras, a média é 3.742 com p_valor de 0.07894877889458934\n",
      "Para  32 amostras, a média é 3.672 com p_valor de 0.19389049416761317\n",
      "Para  33 amostras, a média é 3.667 com p_valor de 0.18994435269346233\n",
      "Para  34 amostras, a média é 3.706 com p_valor de 0.12400478766945784\n",
      "Para  35 amostras, a média é 3.743 com p_valor de 0.07870821336871098\n",
      "Para  36 amostras, a média é 3.722 com p_valor de 0.09353576061527746\n",
      "Para  37 amostras, a média é 3.703 com p_valor de 0.11013590254134484\n",
      "Para  38 amostras, a média é 3.737 com p_valor de 0.070293980214127\n",
      "Para  39 amostras, a média é 3.744 com p_valor de 0.057719600728433226\n",
      "Para  40 amostras, a média é 3.725 com p_valor de 0.06895669959313765\n",
      "Para  41 amostras, a média é 3.756 com p_valor de 0.043027696867534854\n",
      "Para  42 amostras, a média é 3.786 com p_valor de 0.026192682251694282\n",
      "Para  43 amostras, a média é 3.814 com p_valor de 0.015559932099710492\n",
      "Para  44 amostras, a média é 3.818 com p_valor de 0.01233272538941352\n",
      "Para  45 amostras, a média é 3.822 com p_valor de 0.00971325069982623\n",
      "Para  46 amostras, a média é 3.804 com p_valor de 0.012260404094830826\n",
      "Para  47 amostras, a média é 3.787 com p_valor de 0.015299059283941084\n",
      "Para  48 amostras, a média é 3.812 com p_valor de 0.008966188879749698\n",
      "Para  49 amostras, a média é 3.806 com p_valor de 0.008766884002523942\n",
      "Para  50 amostras, a média é 3.810 com p_valor de 0.006897537294395224\n",
      "Para  51 amostras, a média é 3.814 com p_valor de 0.005394516156167565\n",
      "Para  52 amostras, a média é 3.817 com p_valor de 0.004193844231736312\n",
      "Para  53 amostras, a média é 3.802 com p_valor de 0.005385212289644282\n",
      "Para  54 amostras, a média é 3.806 com p_valor de 0.004195763368449785\n",
      "Para  55 amostras, a média é 3.791 com p_valor de 0.005368352947838337\n",
      "Para  56 amostras, a média é 3.777 com p_valor de 0.006794205663451532\n",
      "Para  57 amostras, a média é 3.763 com p_valor de 0.008512220201001898\n",
      "Para  58 amostras, a média é 3.784 com p_valor de 0.004975558567317606\n",
      "Para  59 amostras, a média é 3.788 com p_valor de 0.003904050433428437\n",
      "Para  60 amostras, a média é 3.808 com p_valor de 0.0022169155153936113\n",
      "Para  61 amostras, a média é 3.811 com p_valor de 0.0017134856636438817\n",
      "Para  62 amostras, a média é 3.798 com p_valor de 0.0022185468321933607\n",
      "Para  63 amostras, a média é 3.794 com p_valor de 0.0021667091142656882\n",
      "Para  64 amostras, a média é 3.789 com p_valor de 0.0021155742986059037\n",
      "Para  65 amostras, a média é 3.792 com p_valor de 0.001638169688311084\n",
      "Para  66 amostras, a média é 3.780 com p_valor de 0.002112904717074153\n",
      "Para  67 amostras, a média é 3.784 com p_valor de 0.0016391796508841768\n",
      "Para  68 amostras, a média é 3.772 com p_valor de 0.002107877006211813\n",
      "Para  69 amostras, a média é 3.775 com p_valor de 0.001638208006937132\n",
      "Para  70 amostras, a média é 3.779 com p_valor de 0.0012667046775475992\n",
      "Para  71 amostras, a média é 3.761 com p_valor de 0.0022426047709492537\n",
      "Para  72 amostras, a média é 3.764 com p_valor de 0.0017525084760790894\n",
      "Para  73 amostras, a média é 3.774 com p_valor de 0.0011365250751412\n",
      "Para  74 amostras, a média é 3.791 com p_valor de 0.0006361085905667348\n",
      "Para  75 amostras, a média é 3.807 com p_valor de 0.00035042445221225517\n",
      "Para  76 amostras, a média é 3.816 com p_valor de 0.00021841519783205381\n",
      "Para  77 amostras, a média é 3.812 com p_valor de 0.0002133389727594162\n",
      "Para  78 amostras, a média é 3.814 com p_valor de 0.0001607423772756106\n",
      "Para  79 amostras, a média é 3.816 com p_valor de 0.00012053616176043722\n",
      "Para  80 amostras, a média é 3.831 com p_valor de 6.355135417245393e-05\n",
      "Para  81 amostras, a média é 3.846 com p_valor de 3.300722928041108e-05\n",
      "Para  82 amostras, a média é 3.841 com p_valor de 3.2304003745802037e-05\n",
      "Para  83 amostras, a média é 3.843 com p_valor de 2.374556884407959e-05\n",
      "Para  84 amostras, a média é 3.857 com p_valor de 1.2077073301628071e-05\n",
      "Para  85 amostras, a média é 3.847 com p_valor de 1.7088673225760976e-05\n",
      "Para  86 amostras, a média é 3.831 com p_valor de 3.608185615666001e-05\n",
      "Para  87 amostras, a média é 3.833 com p_valor de 2.681257612846113e-05\n",
      "Para  88 amostras, a média é 3.824 com p_valor de 3.681562512354262e-05\n",
      "Para  89 amostras, a média é 3.809 com p_valor de 7.313870608516293e-05\n",
      "Para  90 amostras, a média é 3.811 com p_valor de 5.525606847923858e-05\n",
      "Para  91 amostras, a média é 3.813 com p_valor de 4.1572170968967595e-05\n",
      "Para  92 amostras, a média é 3.821 com p_valor de 2.540508532221419e-05\n",
      "Para  93 amostras, a média é 3.823 com p_valor de 1.891161316381205e-05\n",
      "Para  94 amostras, a média é 3.824 com p_valor de 1.4019284811900051e-05\n",
      "Para  95 amostras, a média é 3.816 com p_valor de 1.9300245184706242e-05\n",
      "Para  96 amostras, a média é 3.818 com p_valor de 1.4337154349835086e-05\n",
      "Para  97 amostras, a média é 3.830 com p_valor de 7.470440358184904e-06\n",
      "Para  98 amostras, a média é 3.842 com p_valor de 3.843679820388642e-06\n",
      "Para  99 amostras, a média é 3.823 com p_valor de 1.3101881021708747e-05\n",
      "Para 100 amostras, a média é 3.815 com p_valor de 1.773810320525232e-05\n",
      "Para 101 amostras, a média é 3.797 com p_valor de 5.156319239792069e-05\n",
      "Para 102 amostras, a média é 3.799 com p_valor de 3.956916550250529e-05\n",
      "Para 103 amostras, a média é 3.782 com p_valor de 0.00010532490098882295\n",
      "Para 104 amostras, a média é 3.784 com p_valor de 8.207340957567451e-05\n",
      "Para 105 amostras, a média é 3.786 com p_valor de 6.373666797007717e-05\n",
      "Para 106 amostras, a média é 3.788 com p_valor de 4.9327620681370155e-05\n",
      "Para 107 amostras, a média é 3.794 com p_valor de 3.158510492524062e-05\n",
      "Para 108 amostras, a média é 3.782 com p_valor de 5.741195652105531e-05\n",
      "Para 109 amostras, a média é 3.784 com p_valor de 4.452063805181686e-05\n",
      "Para 110 amostras, a média é 3.795 com p_valor de 2.5034997999585643e-05\n",
      "Para 111 amostras, a média é 3.802 com p_valor de 1.593383648900579e-05\n",
      "Para 112 amostras, a média é 3.804 com p_valor de 1.2181676067708934e-05\n",
      "Para 113 amostras, a média é 3.805 com p_valor de 9.282385148662153e-06\n",
      "Para 114 amostras, a média é 3.807 com p_valor de 7.049800097807919e-06\n",
      "Para 115 amostras, a média é 3.809 com p_valor de 5.336512954125956e-06\n",
      "Para 116 amostras, a média é 3.802 com p_valor de 7.132420343988585e-06\n",
      "Para 117 amostras, a média é 3.812 com p_valor de 3.8777239631651985e-06\n",
      "Para 118 amostras, a média é 3.809 com p_valor de 3.789024541840527e-06\n",
      "Para 119 amostras, a média é 3.807 com p_valor de 3.701652394675697e-06\n",
      "Para 120 amostras, a média é 3.804 com p_valor de 3.6156244484077226e-06\n",
      "Para 121 amostras, a média é 3.810 com p_valor de 2.234409015059164e-06\n",
      "Para 122 amostras, a média é 3.820 com p_valor de 1.1935921381583365e-06\n",
      "Para 123 amostras, a média é 3.821 com p_valor de 8.907771906449635e-07\n",
      "Para 124 amostras, a média é 3.815 com p_valor de 1.2165528009735344e-06\n",
      "Para 125 amostras, a média é 3.808 com p_valor de 1.6492029231809994e-06\n",
      "Para 126 amostras, a média é 3.810 com p_valor de 1.2383902023580329e-06\n",
      "Para 127 amostras, a média é 3.799 com p_valor de 2.4447090501870245e-06\n",
      "Para 128 amostras, a média é 3.809 com p_valor de 1.3259626346058774e-06\n",
      "Para 129 amostras, a média é 3.802 com p_valor de 1.7799716841358229e-06\n",
      "Para 130 amostras, a média é 3.788 com p_valor de 5.106740278151876e-06\n",
      "Para 131 amostras, a média é 3.786 com p_valor de 4.986913728968981e-06\n",
      "Para 132 amostras, a média é 3.795 com p_valor de 2.7799402746913627e-06\n",
      "Para 133 amostras, a média é 3.793 com p_valor de 2.715247214619515e-06\n",
      "Para 134 amostras, a média é 3.795 com p_valor de 2.075872794199074e-06\n",
      "Para 135 amostras, a média é 3.785 com p_valor de 3.869818273690176e-06\n",
      "Para 136 amostras, a média é 3.787 com p_valor de 2.9771501112494567e-06\n",
      "Para 137 amostras, a média é 3.785 com p_valor de 2.906855295169462e-06\n",
      "Para 138 amostras, a média é 3.786 com p_valor de 2.229978257172786e-06\n",
      "Para 139 amostras, a média é 3.781 com p_valor de 2.923020543496903e-06\n",
      "Para 140 amostras, a média é 3.786 com p_valor de 1.861736987479408e-06\n",
      "Para 141 amostras, a média é 3.780 com p_valor de 2.441850783063681e-06\n",
      "Para 142 amostras, a média é 3.782 com p_valor de 1.8743496554091788e-06\n",
      "Para 143 amostras, a média é 3.783 com p_valor de 1.4348129269825041e-06\n",
      "Para 144 amostras, a média é 3.785 com p_valor de 1.0953489095524478e-06\n",
      "Para 145 amostras, a média é 3.786 com p_valor de 8.33914593413763e-07\n",
      "Para 146 amostras, a média é 3.795 com p_valor de 4.5654100105346796e-07\n",
      "Para 147 amostras, a média é 3.803 com p_valor de 2.4781068087348057e-07\n",
      "Para 148 amostras, a média é 3.804 com p_valor de 1.8647631467675183e-07\n",
      "Para 149 amostras, a média é 3.805 com p_valor de 1.3994497318116365e-07\n",
      "Para 150 amostras, a média é 3.807 com p_valor de 1.0474187906210276e-07\n",
      "Para 151 amostras, a média é 3.815 com p_valor de 5.5638738167742754e-08\n",
      "Para 152 amostras, a média é 3.822 com p_valor de 2.9310557354650833e-08\n",
      "Para 153 amostras, a média é 3.824 com p_valor de 2.169106984430368e-08\n",
      "Para 154 amostras, a média é 3.828 com p_valor de 1.296533237512879e-08\n",
      "Para 155 amostras, a média é 3.835 com p_valor de 6.69721358751862e-09\n",
      "Para 156 amostras, a média é 3.837 com p_valor de 4.90242789582791e-09\n",
      "Para 157 amostras, a média é 3.838 com p_valor de 3.579198670373318e-09\n",
      "Para 158 amostras, a média é 3.832 com p_valor de 5.065038279328382e-09\n",
      "Para 159 amostras, a média é 3.840 com p_valor de 2.593122661980238e-09\n",
      "Para 160 amostras, a média é 3.841 com p_valor de 1.888254008877338e-09\n",
      "Para 161 amostras, a média é 3.829 com p_valor de 6.89862648428305e-09\n",
      "Para 162 amostras, a média é 3.830 com p_valor de 5.088654193995244e-09\n",
      "Para 163 amostras, a média é 3.831 com p_valor de 3.744165106538347e-09\n",
      "Para 164 amostras, a média é 3.826 com p_valor de 5.23409616911476e-09\n",
      "Para 165 amostras, a média é 3.833 com p_valor de 2.715045381204715e-09\n",
      "Para 166 amostras, a média é 3.834 com p_valor de 1.9924856311040464e-09\n",
      "Para 167 amostras, a média é 3.841 com p_valor de 1.021658248002295e-09\n",
      "Para 168 amostras, a média é 3.845 com p_valor de 5.986014433616568e-10\n",
      "Para 169 amostras, a média é 3.852 com p_valor de 3.026046512497991e-10\n",
      "Para 170 amostras, a média é 3.850 com p_valor de 2.9667891226340393e-10\n",
      "Para 171 amostras, a média é 3.851 com p_valor de 2.1473424779915278e-10\n",
      "Para 172 amostras, a média é 3.846 com p_valor de 3.087411923363227e-10\n",
      "Para 173 amostras, a média é 3.850 com p_valor de 1.7917893544489147e-10\n",
      "Para 174 amostras, a média é 3.851 com p_valor de 1.2939702905988413e-10\n",
      "Para 175 amostras, a média é 3.854 com p_valor de 7.437375301814674e-11\n",
      "Para 176 amostras, a média é 3.861 com p_valor de 3.68536489501502e-11\n",
      "Para 177 amostras, a média é 3.867 com p_valor de 1.8128994549484078e-11\n",
      "Para 178 amostras, a média é 3.871 com p_valor de 1.0226884113071301e-11\n",
      "Para 179 amostras, a média é 3.863 com p_valor de 2.476407211840968e-11\n",
      "Para 180 amostras, a média é 3.864 com p_valor de 1.7738569534234892e-11\n",
      "Para 181 amostras, a média é 3.870 com p_valor de 8.709233016873075e-12\n",
      "Para 182 amostras, a média é 3.871 com p_valor de 6.201886620364462e-12\n",
      "Para 183 amostras, a média é 3.866 com p_valor de 9.186029818083115e-12\n",
      "Para 184 amostras, a média é 3.867 com p_valor de 6.5513651601619266e-12\n",
      "Para 185 amostras, a média é 3.870 com p_valor de 3.688482306426001e-12\n",
      "Para 186 amostras, a média é 3.876 com p_valor de 1.787257905280176e-12\n",
      "Para 187 amostras, a média é 3.882 com p_valor de 8.600037830948384e-13\n",
      "Para 188 amostras, a média é 3.883 com p_valor de 6.056150219694947e-13\n",
      "Para 189 amostras, a média é 3.884 com p_valor de 4.2551292144889585e-13\n",
      "Para 190 amostras, a média é 3.887 com p_valor de 2.3370424038676717e-13\n",
      "Para 191 amostras, a média é 3.887 com p_valor de 1.6326985261947053e-13\n",
      "Para 192 amostras, a média é 3.888 com p_valor de 1.1380629973295943e-13\n",
      "Para 193 amostras, a média é 3.889 com p_valor de 7.91493424125946e-14\n",
      "Para 194 amostras, a média é 3.892 com p_valor de 4.278258438283099e-14\n",
      "Para 195 amostras, a média é 3.892 com p_valor de 2.958555465053198e-14\n",
      "Para 196 amostras, a média é 3.888 com p_valor de 4.623476152843946e-14\n",
      "Para 197 amostras, a média é 3.891 com p_valor de 2.493280074064741e-14\n",
      "Para 198 amostras, a média é 3.894 com p_valor de 1.3370684043107038e-14\n",
      "Para 199 amostras, a média é 3.899 com p_valor de 6.160613753635314e-15\n",
      "Para 200 amostras, a média é 3.895 com p_valor de 9.749074156510373e-15\n",
      "Para 201 amostras, a média é 3.896 com p_valor de 6.7127681104016146e-15\n",
      "Para 202 amostras, a média é 3.896 com p_valor de 4.6119520070165714e-15\n",
      "Para 203 amostras, a média é 3.897 com p_valor de 3.1616414709692205e-15\n",
      "Para 204 amostras, a média é 3.902 com p_valor de 1.443848995257856e-15\n",
      "Para 205 amostras, a média é 3.898 com p_valor de 2.309845735394206e-15\n",
      "Para 206 amostras, a média é 3.903 com p_valor de 1.0555998801123747e-15\n",
      "Para 207 amostras, a média é 3.908 com p_valor de 4.793088683620974e-16\n",
      "Para 208 amostras, a média é 3.909 com p_valor de 3.2609910418318076e-16\n",
      "Para 209 amostras, a média é 3.914 com p_valor de 1.466694033719233e-16\n",
      "Para 210 amostras, a média é 3.914 com p_valor de 9.927030087378508e-17\n",
      "Para 211 amostras, a média é 3.915 com p_valor de 6.704625749290763e-17\n",
      "Para 212 amostras, a média é 3.915 com p_valor de 4.518611521397103e-17\n",
      "Para 213 amostras, a média é 3.915 com p_valor de 3.038859398683116e-17\n",
      "Para 214 amostras, a média é 3.921 com p_valor de 1.3418325209316871e-17\n",
      "Para 215 amostras, a média é 3.921 com p_valor de 8.978190401886942e-18\n"
     ]
    }
   ],
   "source": [
    "medias = [calcula_teste(i) for i in range(2, len(temp)+1)]\n",
    "\n",
    "for media in medias:\n",
    "    print(f'Para {media[0]:3.0f} amostras, a média é {media[1]:1.3f} com p_valor de {media[2]}') "
   ]
  },
  {
   "cell_type": "code",
   "execution_count": 46,
   "id": "5822849d",
   "metadata": {},
   "outputs": [
    {
     "data": {
      "text/plain": [
       "<matplotlib.collections.LineCollection at 0x15e0d8f4760>"
      ]
     },
     "execution_count": 46,
     "metadata": {},
     "output_type": "execute_result"
    },
    {
     "data": {
      "image/png": "[encoded data removed]",
      "text/plain": [
       "<Figure size 1080x720 with 1 Axes>"
      ]
     },
     "metadata": {
      "needs_background": "light"
     },
     "output_type": "display_data"
    }
   ],
   "source": [
    "# transformaremos o retorno de medias em um array do numpy\n",
    "medias = np.array(medias)\n",
    "\n",
    "# Tamanho da figura\n",
    "plt.figure(figsize=(15, 10))\n",
    "\n",
    "# passaremos essa variável para a função plt.plot()\n",
    "# coluna (0 - quantidade de amostras) \n",
    "# coluna (1 - média) \n",
    "# coluna (2 - p_valor) \n",
    "plt.plot(medias[:, 0], medias[:, 1]) # Gráfico de linha com as médias\n",
    "plt.plot(medias[:, 0], medias[:, 2]) # Gráfico de linha com p_valor\n",
    "\n",
    "# p_value de acordo com o valor 0.05 (5%). \n",
    "# plt.hlines() para delimitarmos uma linha referencial ao longo do eixo y do nosso gráfico.\n",
    "plt.hlines(y=0.05, xmin=2, xmax=len(medias), color='r')"
   ]
  },
  {
   "cell_type": "markdown",
   "id": "19abab56",
   "metadata": {},
   "source": [
    "<font color='red'>\n",
    "    Podemos enxergar em que pontos o p value é maior que 0.05. Repare que tivemos sorte (ou azar) de que a ordem das notas fez com que a média começasse muito alta, caísse, ficasse próxima à média de todos os filmes e depois se distanciasse novamente.</br></br>\n",
    "    O Teste Z é realizado quando temos um número grande de amostras - por exemplo, a partir de 50.</br></br>\n",
    "    Ou seja, na prática esse tipo de gráfico não é executado, nós apenas queríamos visualizar as consequências de trabalharmos com um conjunto pequeno de dados. Uma possibilidade seria cairmos em uma situação na qual não teríamos evidências suficientes para descartar a hipótese nula (de que a média é igual a 3.4320503405352603), concluindo, portanto, que a média do Toy Story é igual àquela usada como referência.</br></br>\n",
    "    É importante, em nossas análises, evidenciarmos qual o tamanho da amostra e qual o p value para que as pessoas tenham uma noção clara do comportamento dos dados.\n",
    "</font>"
   ]
  },
  {
   "cell_type": "markdown",
   "id": "b081c8ad",
   "metadata": {},
   "source": [
    "# Aula 05.2\n",
    "### Comparando de dois conjuntos de amostras (Toy Story vs Todos)"
   ]
  },
  {
   "cell_type": "code",
   "execution_count": 47,
   "id": "000bffcd",
   "metadata": {},
   "outputs": [
    {
     "data": {
      "text/plain": [
       "3.9209302325581397"
      ]
     },
     "execution_count": 47,
     "metadata": {},
     "output_type": "execute_result"
    }
   ],
   "source": [
    "# Média das notas do filme 1 - Toy Story\n",
    "notas_filme_1.rating.mean()"
   ]
  },
  {
   "cell_type": "code",
   "execution_count": 48,
   "id": "ff13b94e",
   "metadata": {},
   "outputs": [
    {
     "data": {
      "text/plain": [
       "3.501556983616962"
      ]
     },
     "execution_count": 48,
     "metadata": {},
     "output_type": "execute_result"
    }
   ],
   "source": [
    "# Média das notas de todos os filmes da amostra df_movelens\n",
    "df_movelens.rating.mean()"
   ]
  },
  {
   "cell_type": "code",
   "execution_count": 49,
   "id": "88e6b909",
   "metadata": {},
   "outputs": [
    {
     "data": {
      "text/plain": [
       "0.41937324894117767"
      ]
     },
     "execution_count": 49,
     "metadata": {},
     "output_type": "execute_result"
    }
   ],
   "source": [
    "# Qual a diferença entre essas médias\n",
    "notas_filme_1.rating.mean() - df_movelens.rating.mean()"
   ]
  },
  {
   "cell_type": "markdown",
   "id": "38b52268",
   "metadata": {},
   "source": [
    "#### Utilizando Teste Z (Para grandes amostras)"
   ]
  },
  {
   "cell_type": "code",
   "execution_count": 50,
   "id": "a71248ca",
   "metadata": {},
   "outputs": [
    {
     "data": {
      "text/plain": [
       "(0.2799245129192442, 0.5588219849631111)"
      ]
     },
     "execution_count": 50,
     "metadata": {},
     "output_type": "execute_result"
    }
   ],
   "source": [
    "zconfint(notas_filme_1.rating, df_movelens.rating)"
   ]
  },
  {
   "cell_type": "markdown",
   "id": "531c3453",
   "metadata": {},
   "source": [
    "<font color='green'>A função zconfint(), a partir das médias de cada distribuição, gerou um intervalo de confiança entre elas. O resultado significa que a média de notas_filme_1.rating é entre 0.279 e 0.558 mais alta que df_movelens.rating.</font> "
   ]
  },
  {
   "cell_type": "code",
   "execution_count": 51,
   "id": "802b944d",
   "metadata": {},
   "outputs": [
    {
     "name": "stdout",
     "output_type": "stream",
     "text": [
      "Estatística de teste (z) - 5.894327101501841\n",
      "Critério do valor 𝑝 (p_valor) - 3.762112778881965e-09\n"
     ]
    }
   ],
   "source": [
    "z, p_valor = ztest(notas_filme_1.rating, df_movelens.rating)\n",
    "\n",
    "print(f'Estatística de teste (z) - {z}')\n",
    "print(f'Critério do valor 𝑝 (p_valor) - {p_valor}')"
   ]
  },
  {
   "cell_type": "markdown",
   "id": "28b9e4d8",
   "metadata": {},
   "source": [
    "<font color='green'>Repare que o p value é menor do que 0.05. Portanto, estatisticamente, existe uma diferença significante, que está representada dentro do intervalo de confiança que calculamos anteriormente.</font>"
   ]
  },
  {
   "cell_type": "markdown",
   "id": "3fc459eb",
   "metadata": {},
   "source": [
    "#### Utilizando Teste T (Para pequenas amostras)\n",
    "\n",
    "Os valores serão aproximados, já que nossas distribuições se assemelham muito a uma normal e temos um conjunto de dados bastante populado."
   ]
  },
  {
   "cell_type": "code",
   "execution_count": 52,
   "id": "e14b433a",
   "metadata": {},
   "outputs": [
    {
     "data": {
      "text/html": [
       "<table class=\"simpletable\">\n",
       "<caption>Test for equality of means</caption>\n",
       "<tr>\n",
       "      <td></td>         <th>coef</th>     <th>std err</th>      <th>t</th>      <th>P>|t|</th>  <th>[0.025</th>    <th>0.975]</th>  \n",
       "</tr>\n",
       "<tr>\n",
       "  <th>subset #1</th> <td>    0.4194</td> <td>    0.071</td> <td>    5.894</td> <td> 0.000</td> <td>    0.280</td> <td>    0.559</td>\n",
       "</tr>\n",
       "</table>"
      ],
      "text/plain": [
       "<class 'statsmodels.iolib.table.SimpleTable'>"
      ]
     },
     "execution_count": 52,
     "metadata": {},
     "output_type": "execute_result"
    }
   ],
   "source": [
    "# intervalo de confiança entre dois conjuntos de amostras\n",
    "\n",
    "# 1ª etapa - gerar DescrStats de cada conjunto\n",
    "descr_todas_as_notas = DescrStatsW(df_movelens.rating)\n",
    "descr_notas_filme_1  = DescrStatsW(notas_filme_1.rating)\n",
    "\n",
    "# 2ª etapa - mandar comparar \n",
    "comparacao = descr_notas_filme_1.get_compare(descr_todas_as_notas)\n",
    "\n",
    "# 3ª etapa - imprimir o sumary\n",
    "comparacao.summary()\n",
    "\n",
    "# Parâmetro use_t do método summary\n",
    "# comparacao.summary(use_t=True)  *** t-test (Padrão)\n",
    "# comparacao.summary(use_t=False) *** z-test "
   ]
  },
  {
   "cell_type": "markdown",
   "id": "e287e9ac",
   "metadata": {},
   "source": [
    "O módulo scipy.stats possui uma função para recuperar o intervalo de confiança para dois conjuntos diferentes, chamada [ttest_ind()](https://docs.scipy.org/doc/scipy/reference/generated/scipy.stats.ttest_ind.html)"
   ]
  },
  {
   "cell_type": "code",
   "execution_count": 53,
   "id": "3fa4ed48",
   "metadata": {},
   "outputs": [],
   "source": [
    "from scipy.stats import ttest_ind"
   ]
  },
  {
   "cell_type": "code",
   "execution_count": 54,
   "id": "52b2425b",
   "metadata": {},
   "outputs": [
    {
     "name": "stdout",
     "output_type": "stream",
     "text": [
      "Estatística de teste (t) - 5.894327101501841\n",
      "Critério do valor 𝑝 (p_valor) - 3.774003138720876e-09\n"
     ]
    }
   ],
   "source": [
    "t, p_valor = ttest_ind(notas_filme_1.rating, df_movelens.rating)\n",
    "\n",
    "print(f'Estatística de teste (t) - {t}')\n",
    "print(f'Critério do valor 𝑝 (p_valor) - {p_valor}')"
   ]
  },
  {
   "cell_type": "markdown",
   "id": "5a89ea6d",
   "metadata": {},
   "source": [
    "### Visualizando graficamente com Matplotlib"
   ]
  },
  {
   "cell_type": "code",
   "execution_count": 55,
   "id": "9a4f0128",
   "metadata": {},
   "outputs": [
    {
     "data": {
      "text/plain": [
       "Text(0.5, 1.0, 'Distribuição da Notas de acordo com filmes')"
      ]
     },
     "execution_count": 55,
     "metadata": {},
     "output_type": "execute_result"
    },
    {
     "data": {
      "image/png": "[encoded data removed]",
      "text/plain": [
       "<Figure size 432x288 with 1 Axes>"
      ]
     },
     "metadata": {
      "needs_background": "light"
     },
     "output_type": "display_data"
    }
   ],
   "source": [
    "plt.boxplot(\n",
    "    [notas_filme_1.rating, df_movelens.rating]\n",
    "    , labels=['Toy Story', 'Todos os Filmes']\n",
    ")\n",
    "\n",
    "plt.title('Distribuição da Notas de acordo com filmes')"
   ]
  },
  {
   "cell_type": "markdown",
   "id": "ebbd5092",
   "metadata": {},
   "source": [
    "# Aula 6.02\n",
    "### Comparando diferentes filmes do nosso conjunto "
   ]
  },
  {
   "cell_type": "code",
   "execution_count": 56,
   "id": "b290db25",
   "metadata": {},
   "outputs": [
    {
     "data": {
      "text/html": [
       "<div>\n",
       "<style scoped>\n",
       "    .dataframe tbody tr th:only-of-type {\n",
       "        vertical-align: middle;\n",
       "    }\n",
       "\n",
       "    .dataframe tbody tr th {\n",
       "        vertical-align: top;\n",
       "    }\n",
       "\n",
       "    .dataframe thead th {\n",
       "        text-align: right;\n",
       "    }\n",
       "</style>\n",
       "<table border=\"1\" class=\"dataframe\">\n",
       "  <thead>\n",
       "    <tr style=\"text-align: right;\">\n",
       "      <th></th>\n",
       "      <th>movieId</th>\n",
       "      <th>title</th>\n",
       "      <th>genres</th>\n",
       "    </tr>\n",
       "  </thead>\n",
       "  <tbody>\n",
       "    <tr>\n",
       "      <th>0</th>\n",
       "      <td>1</td>\n",
       "      <td>Toy Story (1995)</td>\n",
       "      <td>Adventure|Animation|Children|Comedy|Fantasy</td>\n",
       "    </tr>\n",
       "    <tr>\n",
       "      <th>510</th>\n",
       "      <td>593</td>\n",
       "      <td>Silence of the Lambs, The (1991)</td>\n",
       "      <td>Crime|Horror|Thriller</td>\n",
       "    </tr>\n",
       "    <tr>\n",
       "      <th>7180</th>\n",
       "      <td>72226</td>\n",
       "      <td>Fantastic Mr. Fox (2009)</td>\n",
       "      <td>Adventure|Animation|Children|Comedy|Crime</td>\n",
       "    </tr>\n",
       "  </tbody>\n",
       "</table>\n",
       "</div>"
      ],
      "text/plain": [
       "      movieId                             title  \\\n",
       "0           1                  Toy Story (1995)   \n",
       "510       593  Silence of the Lambs, The (1991)   \n",
       "7180    72226          Fantastic Mr. Fox (2009)   \n",
       "\n",
       "                                           genres  \n",
       "0     Adventure|Animation|Children|Comedy|Fantasy  \n",
       "510                         Crime|Horror|Thriller  \n",
       "7180    Adventure|Animation|Children|Comedy|Crime  "
      ]
     },
     "execution_count": 56,
     "metadata": {},
     "output_type": "execute_result"
    }
   ],
   "source": [
    "df_filmes.query('movieId in [1, 593, 72226]')"
   ]
  },
  {
   "cell_type": "code",
   "execution_count": 57,
   "id": "921f2fe0",
   "metadata": {},
   "outputs": [],
   "source": [
    "notas_filme_1     = df_movelens.query('movieId == 1')        # Toy Story (1995)\n",
    "notas_filme_593   = df_movelens.query('movieId == 593')      # Silence of the Lambs, The (1991)\n",
    "notas_filme_72226 = df_movelens.query('movieId == 72226')    # Fantastic Mr. Fox (2009)"
   ]
  },
  {
   "cell_type": "markdown",
   "id": "d6e0b7d3",
   "metadata": {},
   "source": [
    "#### Visualização dos dados com Matplotlib"
   ]
  },
  {
   "cell_type": "code",
   "execution_count": 58,
   "id": "18fd2f7e",
   "metadata": {},
   "outputs": [
    {
     "data": {
      "text/plain": [
       "Text(0.5, 1.0, 'Distribuição da Notas de acordo com filmes')"
      ]
     },
     "execution_count": 58,
     "metadata": {},
     "output_type": "execute_result"
    },
    {
     "data": {
      "image/png": "[encoded data removed]",
      "text/plain": [
       "<Figure size 432x288 with 1 Axes>"
      ]
     },
     "metadata": {
      "needs_background": "light"
     },
     "output_type": "display_data"
    }
   ],
   "source": [
    "plt.boxplot(\n",
    "    [notas_filme_1.rating, notas_filme_593.rating, notas_filme_72226.rating]\n",
    "    , labels=['Toy Story', 'Silence of the Lambs', 'Fantastic Mr. Fox']\n",
    ")\n",
    "\n",
    "plt.title('Distribuição da Notas de acordo com filmes')"
   ]
  },
  {
   "cell_type": "markdown",
   "id": "f9c23249",
   "metadata": {},
   "source": [
    "#### Visualização do dados com Seaborn"
   ]
  },
  {
   "cell_type": "code",
   "execution_count": 59,
   "id": "73f4d3f8",
   "metadata": {},
   "outputs": [
    {
     "data": {
      "text/plain": [
       "<AxesSubplot:xlabel='movieId', ylabel='rating'>"
      ]
     },
     "execution_count": 59,
     "metadata": {},
     "output_type": "execute_result"
    },
    {
     "data": {
      "image/png": "[encoded data removed]",
      "text/plain": [
       "<Figure size 432x288 with 1 Axes>"
      ]
     },
     "metadata": {
      "needs_background": "light"
     },
     "output_type": "display_data"
    }
   ],
   "source": [
    "sns.boxplot(x='movieId', y='rating', data=df_movelens.query('movieId in [1, 593, 72226]') )"
   ]
  },
  {
   "cell_type": "markdown",
   "id": "7660006a",
   "metadata": {},
   "source": [
    "<font color='green'>\n",
    "Nos boxplots gerados, já poderemos perceber, visualmente, que tanto Toy Story quanto Silence of the Lambs possuem uma mediana 4. Já o filme Fantastic Mr. Fox tem uma mediana um pouco mais elevada. Porém, várias informações estão sendo desprezadas nessa análise, como a quantidade de votos que esses filmes tiveram.\n",
    "</font>"
   ]
  },
  {
   "cell_type": "markdown",
   "id": "08511f66",
   "metadata": {},
   "source": [
    "#### Vamos realizar nossos testes estatísticos. \n",
    "A ideia é estipularmos qual desses filmes é melhor, não só nos nossos conjuntos de dados, mas também extrapolando para todas as pessoas que viram esses filmes na vida real. Para isso, usaremos o DescrStatsW()."
   ]
  },
  {
   "cell_type": "code",
   "execution_count": 60,
   "id": "55ad3f0c",
   "metadata": {},
   "outputs": [
    {
     "data": {
      "text/html": [
       "<table class=\"simpletable\">\n",
       "<caption>Test for equality of means</caption>\n",
       "<tr>\n",
       "      <td></td>         <th>coef</th>     <th>std err</th>      <th>t</th>      <th>P>|t|</th>  <th>[0.025</th>    <th>0.975]</th>  \n",
       "</tr>\n",
       "<tr>\n",
       "  <th>subset #1</th> <td>   -0.2404</td> <td>    0.077</td> <td>   -3.132</td> <td> 0.002</td> <td>   -0.391</td> <td>   -0.090</td>\n",
       "</tr>\n",
       "</table>"
      ],
      "text/plain": [
       "<class 'statsmodels.iolib.table.SimpleTable'>"
      ]
     },
     "execution_count": 60,
     "metadata": {},
     "output_type": "execute_result"
    }
   ],
   "source": [
    "# intervalo de confiança entre dois conjuntos de amostras\n",
    "\n",
    "# 1ª etapa - gerar DescrStats de cada conjunto\n",
    "descr_notas_filme_1      = DescrStatsW(notas_filme_1.rating)\n",
    "descr_notas_filme_593    = DescrStatsW(notas_filme_593.rating)\n",
    "descr_notas_filme_72226  = DescrStatsW(notas_filme_72226.rating)\n",
    "\n",
    "# 2ª etapa - mandar comparar ( 1 vs 593 )\n",
    "comparacao = descr_notas_filme_1.get_compare(descr_notas_filme_593)\n",
    "\n",
    "# 3ª etapa - imprimir o sumary\n",
    "comparacao.summary()\n",
    "\n",
    "# Parâmetro use_t do método summary\n",
    "# comparacao.summary(use_t=True)  *** t-test (Padrão)\n",
    "# comparacao.summary(use_t=False) *** z-test "
   ]
  },
  {
   "cell_type": "markdown",
   "id": "cacca64e",
   "metadata": {},
   "source": [
    "<font color='green'>Aplicando o Teste T com alpha = 0.05, encontramos uma diferença estatística entre os filmes Toy Story e Silence of the Lambs, com um p value igual a 0.002 (menor que 0.05, portanto significante) e um intervalo de confiança entre -0.391 e -0.090 (valores negatovos, representando que Toy Story pior que Silence of the Lambs).</font>"
   ]
  },
  {
   "cell_type": "code",
   "execution_count": 61,
   "id": "2678decd",
   "metadata": {},
   "outputs": [
    {
     "data": {
      "text/html": [
       "<table class=\"simpletable\">\n",
       "<caption>Test for equality of means</caption>\n",
       "<tr>\n",
       "      <td></td>         <th>coef</th>     <th>std err</th>      <th>t</th>      <th>P>|t|</th>  <th>[0.025</th>    <th>0.975]</th>  \n",
       "</tr>\n",
       "<tr>\n",
       "  <th>subset #1</th> <td>    0.0780</td> <td>    0.208</td> <td>    0.374</td> <td> 0.708</td> <td>   -0.332</td> <td>    0.488</td>\n",
       "</tr>\n",
       "</table>"
      ],
      "text/plain": [
       "<class 'statsmodels.iolib.table.SimpleTable'>"
      ]
     },
     "execution_count": 61,
     "metadata": {},
     "output_type": "execute_result"
    }
   ],
   "source": [
    "# 2ª etapa - mandar comparar ( 593 vrs 72226 )\n",
    "comparacao = descr_notas_filme_593.get_compare(descr_notas_filme_72226)\n",
    "\n",
    "# 3ª etapa - imprimir o sumary\n",
    "comparacao.summary()\n",
    "\n",
    "# Parâmetro use_t do método summary\n",
    "# comparacao.summary(use_t=True)  *** t-test (Padrão)\n",
    "# comparacao.summary(use_t=False) *** z-test "
   ]
  },
  {
   "cell_type": "markdown",
   "id": "334e9e93",
   "metadata": {},
   "source": [
    "<font color='green'>Aplicando o Teste T com alpha = 0.05, encontramos uma diferença estatística entre os filmes Silence of the Lambs e Fantastic Mr. Fox, com um p value igual a 0.708 (muito maior que 0.05, portanto NÃO significante) e um intervalo de confiança entre -0.332 e 0.488 (indicando que o filme Fantastic Mr. Fox tanto pode ser pior quanto melhor).</font>"
   ]
  },
  {
   "cell_type": "code",
   "execution_count": 62,
   "id": "2cfbeef6",
   "metadata": {},
   "outputs": [
    {
     "data": {
      "text/html": [
       "<table class=\"simpletable\">\n",
       "<caption>Test for equality of means</caption>\n",
       "<tr>\n",
       "      <td></td>         <th>coef</th>     <th>std err</th>      <th>t</th>      <th>P>|t|</th>  <th>[0.025</th>    <th>0.975]</th>  \n",
       "</tr>\n",
       "<tr>\n",
       "  <th>subset #1</th> <td>   -0.1624</td> <td>    0.206</td> <td>   -0.788</td> <td> 0.431</td> <td>   -0.568</td> <td>    0.243</td>\n",
       "</tr>\n",
       "</table>"
      ],
      "text/plain": [
       "<class 'statsmodels.iolib.table.SimpleTable'>"
      ]
     },
     "execution_count": 62,
     "metadata": {},
     "output_type": "execute_result"
    }
   ],
   "source": [
    "# 2ª etapa - mandar comparar ( 1 vrs 72226 )\n",
    "comparacao = descr_notas_filme_1.get_compare(descr_notas_filme_72226)\n",
    "\n",
    "# 3ª etapa - imprimir o sumary\n",
    "comparacao.summary()\n",
    "\n",
    "# Parâmetro use_t do método summary\n",
    "# comparacao.summary(use_t=True)  *** t-test (Padrão)\n",
    "# comparacao.summary(use_t=False) *** z-test "
   ]
  },
  {
   "cell_type": "markdown",
   "id": "12cc63f4",
   "metadata": {},
   "source": [
    "<font color='green'>Aplicando o Teste T com alpha = 0.05, encontramos uma diferença estatística entre os filmes Toy Story e Fantastic Mr. Fox, com um p value igual a 0.431 (muito maior que 0.05, portanto NÃO significante) e um intervalo de confiança entre -0.568 e 0.243 (indicando que o filme Toy Story tanto pode ser pior quanto melhor).</font>"
   ]
  },
  {
   "cell_type": "markdown",
   "id": "05c7f3d9",
   "metadata": {},
   "source": [
    "#### Verificando o motivo para não ter alcançado a significancia"
   ]
  },
  {
   "cell_type": "code",
   "execution_count": 63,
   "id": "11a220ce",
   "metadata": {},
   "outputs": [
    {
     "data": {
      "text/html": [
       "<div>\n",
       "<style scoped>\n",
       "    .dataframe tbody tr th:only-of-type {\n",
       "        vertical-align: middle;\n",
       "    }\n",
       "\n",
       "    .dataframe tbody tr th {\n",
       "        vertical-align: top;\n",
       "    }\n",
       "\n",
       "    .dataframe thead th {\n",
       "        text-align: right;\n",
       "    }\n",
       "</style>\n",
       "<table border=\"1\" class=\"dataframe\">\n",
       "  <thead>\n",
       "    <tr style=\"text-align: right;\">\n",
       "      <th></th>\n",
       "      <th>userId</th>\n",
       "      <th>rating</th>\n",
       "      <th>timestamp</th>\n",
       "    </tr>\n",
       "    <tr>\n",
       "      <th>movieId</th>\n",
       "      <th></th>\n",
       "      <th></th>\n",
       "      <th></th>\n",
       "    </tr>\n",
       "  </thead>\n",
       "  <tbody>\n",
       "    <tr>\n",
       "      <th>1</th>\n",
       "      <td>215</td>\n",
       "      <td>215</td>\n",
       "      <td>215</td>\n",
       "    </tr>\n",
       "    <tr>\n",
       "      <th>593</th>\n",
       "      <td>279</td>\n",
       "      <td>279</td>\n",
       "      <td>279</td>\n",
       "    </tr>\n",
       "    <tr>\n",
       "      <th>72226</th>\n",
       "      <td>18</td>\n",
       "      <td>18</td>\n",
       "      <td>18</td>\n",
       "    </tr>\n",
       "  </tbody>\n",
       "</table>\n",
       "</div>"
      ],
      "text/plain": [
       "         userId  rating  timestamp\n",
       "movieId                           \n",
       "1           215     215        215\n",
       "593         279     279        279\n",
       "72226        18      18         18"
      ]
     },
     "execution_count": 63,
     "metadata": {},
     "output_type": "execute_result"
    }
   ],
   "source": [
    "df_movelens.query('movieId in [1, 593, 72226]').groupby('movieId').count()"
   ]
  },
  {
   "cell_type": "markdown",
   "id": "dccd126a",
   "metadata": {},
   "source": [
    "<font color='green'>Repare que os filmes Toy Story e Silence of the Lambs possuem uma quantidade substancial de notas, enquanto Fantastic Mr. Fox possui apenas 18 notas, prejudicando os cálculos.</font>"
   ]
  },
  {
   "cell_type": "markdown",
   "id": "938ea533",
   "metadata": {},
   "source": [
    "# Aula 6.03\n",
    "#### Comparação não paramétrica com Wilcoxon Ranksums\n",
    "\n",
    "Para certificar que os dados das nossas notas se comportam como uma distribuição normal, vamos executar um testes estatísticos, utilizaremos o normaltest() do módulo scipy.stats."
   ]
  },
  {
   "cell_type": "code",
   "execution_count": 66,
   "id": "7c62bd5e",
   "metadata": {},
   "outputs": [],
   "source": [
    "from scipy.stats import normaltest"
   ]
  },
  {
   "cell_type": "code",
   "execution_count": 68,
   "id": "caf7435c",
   "metadata": {},
   "outputs": [
    {
     "name": "stdout",
     "output_type": "stream",
     "text": [
      "Estatística de teste - 18.220369223286593\n",
      "Critério do valor 𝑝 (p_valor) - 0.00011053430732728716\n"
     ]
    }
   ],
   "source": [
    "estatistica, p_valor = normaltest(notas_filme_1.rating)\n",
    "\n",
    "print(f'Estatística de teste - {estatistica}')\n",
    "print(f'Critério do valor 𝑝 (p_valor) - {p_valor}')"
   ]
  },
  {
   "cell_type": "markdown",
   "id": "f77b6187",
   "metadata": {},
   "source": [
    "<font color='green'>\n",
    "    p_valor é menor que 0.05, como essa função testa a hipótese nula de que o conjunto de dados venha de uma distribuição normal, um resultado menor que 0.05 indica que não estamos trabalhando com uma distribuição normal.</br></br>\n",
    "    Isso também significa que não poderíamos aplicar o Teste T ou o Teste Z, mas sim testes que funcionam com outros tipos de distribuição. Nesse caso devemos utilizar <b>os testes não paramétricos</b>.\n",
    "</font>"
   ]
  },
  {
   "cell_type": "markdown",
   "id": "6256150f",
   "metadata": {},
   "source": [
    "#### Função ranksums() consiste no teste não paramétrico Wilcoxon, que faz uma análise baseada em ranqueamento."
   ]
  },
  {
   "cell_type": "code",
   "execution_count": 71,
   "id": "9261bdd2",
   "metadata": {},
   "outputs": [],
   "source": [
    "from scipy.stats import ranksums"
   ]
  },
  {
   "cell_type": "code",
   "execution_count": 72,
   "id": "e7141eb9",
   "metadata": {},
   "outputs": [
    {
     "name": "stdout",
     "output_type": "stream",
     "text": [
      "Estatística de teste - -3.5930962013771377\n",
      "Critério do valor 𝑝 (p_valor) - 0.0003267718756440693\n"
     ]
    }
   ],
   "source": [
    "estatistica, p_valor = ranksums(notas_filme_1.rating, notas_filme_593.rating)\n",
    "\n",
    "print(f'Estatística de teste - {estatistica}')\n",
    "print(f'Critério do valor 𝑝 (p_valor) - {p_valor}')"
   ]
  },
  {
   "cell_type": "markdown",
   "id": "00d7a8db",
   "metadata": {},
   "source": [
    "<font color='green'>\n",
    "    Nesse caso, o p_valor é significativo (p < 0.05), descartando a hipótese nula. No ranksums(), a hipótese nula é de que as duas amostras vieram da mesma distribuição. Já a hipótese alternativa, que admitiremos nesse caso (já que o p value foi bem pequeno), é a de que os valores das notas do filme Silence of the Lambs tendem a ser maiores que as do filme Toy Story.</br></br>\n",
    "    Repare que, quando trabalhamos com Teste T e Teste Z estávamos nos referindo às médias - o que fazia sentido em uma distribuição normal. Porém, em uma distribuição não paramétrica, não usamos as médias, mas sim amostras aleatórias de cada conjunto testado.</br></br>\n",
    "    Ou seja, se pegarmos notas aleatórias para Toy Story e Silence of the Lambs, as notas deste último, em geral, são maiores. Análises como essa, junto com as médias, os boxplots, os histogramas e outras informações que aprendemos a testar anteriormente, nos permitem concluir quando um filme é melhor que outro.\n",
    "</font>"
   ]
  }
 ],
 "metadata": {
  "kernelspec": {
   "display_name": "Python 3 (ipykernel)",
   "language": "python",
   "name": "python3"
  },
  "language_info": {
   "codemirror_mode": {
    "name": "ipython",
    "version": 3
   },
   "file_extension": ".py",
   "mimetype": "text/x-python",
   "name": "python",
   "nbconvert_exporter": "python",
   "pygments_lexer": "ipython3",
   "version": "3.9.7"
  }
 },
 "nbformat": 4,
 "nbformat_minor": 5
}
