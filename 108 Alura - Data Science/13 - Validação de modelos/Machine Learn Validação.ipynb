{
 "cells": [
  {
   "attachments": {},
   "cell_type": "markdown",
   "metadata": {},
   "source": [
    "### Biblioteca utilizadas"
   ]
  },
  {
   "cell_type": "code",
   "execution_count": 37,
   "metadata": {},
   "outputs": [],
   "source": [
    "import pandas as pd\n",
    "import numpy as np\n",
    "import matplotlib.pyplot as plt\n",
    "\n",
    "from sklearn.model_selection import train_test_split\n",
    "from sklearn.model_selection import cross_validate\n",
    "from sklearn.model_selection import KFold\n",
    "from sklearn.model_selection import StratifiedKFold\n",
    "from sklearn.model_selection import GroupKFold\n",
    "\n",
    "from sklearn.preprocessing import StandardScaler\n",
    "\n",
    "from sklearn.pipeline import Pipeline\n",
    "\n",
    "from sklearn.dummy import DummyClassifier\n",
    "from sklearn.tree import DecisionTreeClassifier\n",
    "from sklearn.svm import SVC"
   ]
  },
  {
   "cell_type": "code",
   "execution_count": 2,
   "metadata": {},
   "outputs": [],
   "source": [
    "# Configuração do pandas para apresentar no máximo 15 linhas de um dataframe\n",
    "pd.set_option('display.max_rows',15)\n",
    "\n",
    "# Configuração do pandas para apresentar no máximo 15 colunas de um dataframe\n",
    "pd.set_option('display.max_columns',15)"
   ]
  },
  {
   "attachments": {},
   "cell_type": "markdown",
   "metadata": {},
   "source": [
    "### Importando dados"
   ]
  },
  {
   "cell_type": "code",
   "execution_count": 3,
   "metadata": {},
   "outputs": [],
   "source": [
    "uri = \"https://gist.githubusercontent.com/guilhermesilveira/e99a526b2e7ccc6c3b70f53db43a87d2/raw/1605fc74aa778066bf2e6695e24d53cf65f2f447/machine-learning-carros-simulacao.csv\"\n",
    "\n",
    "df_dados = pd.read_csv(uri)"
   ]
  },
  {
   "cell_type": "code",
   "execution_count": 4,
   "metadata": {},
   "outputs": [
    {
     "data": {
      "text/html": [
       "<div>\n",
       "<style scoped>\n",
       "    .dataframe tbody tr th:only-of-type {\n",
       "        vertical-align: middle;\n",
       "    }\n",
       "\n",
       "    .dataframe tbody tr th {\n",
       "        vertical-align: top;\n",
       "    }\n",
       "\n",
       "    .dataframe thead th {\n",
       "        text-align: right;\n",
       "    }\n",
       "</style>\n",
       "<table border=\"1\" class=\"dataframe\">\n",
       "  <thead>\n",
       "    <tr style=\"text-align: right;\">\n",
       "      <th></th>\n",
       "      <th>Unnamed: 0</th>\n",
       "      <th>preco</th>\n",
       "      <th>vendido</th>\n",
       "      <th>idade_do_modelo</th>\n",
       "      <th>km_por_ano</th>\n",
       "    </tr>\n",
       "  </thead>\n",
       "  <tbody>\n",
       "    <tr>\n",
       "      <th>0</th>\n",
       "      <td>0</td>\n",
       "      <td>30941.02</td>\n",
       "      <td>1</td>\n",
       "      <td>18</td>\n",
       "      <td>35085.22134</td>\n",
       "    </tr>\n",
       "    <tr>\n",
       "      <th>1</th>\n",
       "      <td>1</td>\n",
       "      <td>40557.96</td>\n",
       "      <td>1</td>\n",
       "      <td>20</td>\n",
       "      <td>12622.05362</td>\n",
       "    </tr>\n",
       "    <tr>\n",
       "      <th>2</th>\n",
       "      <td>2</td>\n",
       "      <td>89627.50</td>\n",
       "      <td>0</td>\n",
       "      <td>12</td>\n",
       "      <td>11440.79806</td>\n",
       "    </tr>\n",
       "    <tr>\n",
       "      <th>3</th>\n",
       "      <td>3</td>\n",
       "      <td>95276.14</td>\n",
       "      <td>0</td>\n",
       "      <td>3</td>\n",
       "      <td>43167.32682</td>\n",
       "    </tr>\n",
       "    <tr>\n",
       "      <th>4</th>\n",
       "      <td>4</td>\n",
       "      <td>117384.68</td>\n",
       "      <td>1</td>\n",
       "      <td>4</td>\n",
       "      <td>12770.11290</td>\n",
       "    </tr>\n",
       "  </tbody>\n",
       "</table>\n",
       "</div>"
      ],
      "text/plain": [
       "   Unnamed: 0      preco  vendido  idade_do_modelo   km_por_ano\n",
       "0           0   30941.02        1               18  35085.22134\n",
       "1           1   40557.96        1               20  12622.05362\n",
       "2           2   89627.50        0               12  11440.79806\n",
       "3           3   95276.14        0                3  43167.32682\n",
       "4           4  117384.68        1                4  12770.11290"
      ]
     },
     "execution_count": 4,
     "metadata": {},
     "output_type": "execute_result"
    }
   ],
   "source": [
    "df_dados.head()"
   ]
  },
  {
   "cell_type": "code",
   "execution_count": 5,
   "metadata": {},
   "outputs": [],
   "source": [
    "df_dados.drop(columns='Unnamed: 0', inplace=True)"
   ]
  },
  {
   "cell_type": "code",
   "execution_count": 6,
   "metadata": {},
   "outputs": [
    {
     "data": {
      "text/html": [
       "<div>\n",
       "<style scoped>\n",
       "    .dataframe tbody tr th:only-of-type {\n",
       "        vertical-align: middle;\n",
       "    }\n",
       "\n",
       "    .dataframe tbody tr th {\n",
       "        vertical-align: top;\n",
       "    }\n",
       "\n",
       "    .dataframe thead th {\n",
       "        text-align: right;\n",
       "    }\n",
       "</style>\n",
       "<table border=\"1\" class=\"dataframe\">\n",
       "  <thead>\n",
       "    <tr style=\"text-align: right;\">\n",
       "      <th></th>\n",
       "      <th>preco</th>\n",
       "      <th>vendido</th>\n",
       "      <th>idade_do_modelo</th>\n",
       "      <th>km_por_ano</th>\n",
       "    </tr>\n",
       "  </thead>\n",
       "  <tbody>\n",
       "    <tr>\n",
       "      <th>0</th>\n",
       "      <td>30941.02</td>\n",
       "      <td>1</td>\n",
       "      <td>18</td>\n",
       "      <td>35085.22134</td>\n",
       "    </tr>\n",
       "    <tr>\n",
       "      <th>1</th>\n",
       "      <td>40557.96</td>\n",
       "      <td>1</td>\n",
       "      <td>20</td>\n",
       "      <td>12622.05362</td>\n",
       "    </tr>\n",
       "    <tr>\n",
       "      <th>2</th>\n",
       "      <td>89627.50</td>\n",
       "      <td>0</td>\n",
       "      <td>12</td>\n",
       "      <td>11440.79806</td>\n",
       "    </tr>\n",
       "    <tr>\n",
       "      <th>3</th>\n",
       "      <td>95276.14</td>\n",
       "      <td>0</td>\n",
       "      <td>3</td>\n",
       "      <td>43167.32682</td>\n",
       "    </tr>\n",
       "    <tr>\n",
       "      <th>4</th>\n",
       "      <td>117384.68</td>\n",
       "      <td>1</td>\n",
       "      <td>4</td>\n",
       "      <td>12770.11290</td>\n",
       "    </tr>\n",
       "  </tbody>\n",
       "</table>\n",
       "</div>"
      ],
      "text/plain": [
       "       preco  vendido  idade_do_modelo   km_por_ano\n",
       "0   30941.02        1               18  35085.22134\n",
       "1   40557.96        1               20  12622.05362\n",
       "2   89627.50        0               12  11440.79806\n",
       "3   95276.14        0                3  43167.32682\n",
       "4  117384.68        1                4  12770.11290"
      ]
     },
     "execution_count": 6,
     "metadata": {},
     "output_type": "execute_result"
    }
   ],
   "source": [
    "df_dados.head()"
   ]
  },
  {
   "attachments": {},
   "cell_type": "markdown",
   "metadata": {},
   "source": [
    "### Dividindo entre dados de treinamento e teste"
   ]
  },
  {
   "cell_type": "code",
   "execution_count": 7,
   "metadata": {},
   "outputs": [],
   "source": [
    "X = df_dados[['preco', 'idade_do_modelo', 'km_por_ano']]\n",
    "y = df_dados.vendido"
   ]
  },
  {
   "cell_type": "code",
   "execution_count": 8,
   "metadata": {},
   "outputs": [
    {
     "name": "stdout",
     "output_type": "stream",
     "text": [
      "Quantidade de registro para treino - 7500\n",
      "Quantidade de registro para teste  - 2500\n"
     ]
    }
   ],
   "source": [
    "SEED = 158020\n",
    "np.random.seed(SEED)\n",
    "\n",
    "X_train, X_test, y_train, y_test = train_test_split(X, y, test_size=0.25, stratify=y)\n",
    "\n",
    "print(f'Quantidade de registro para treino - {X_train.shape[0]}')\n",
    "print(f'Quantidade de registro para teste  - {X_test.shape[0]}')"
   ]
  },
  {
   "attachments": {},
   "cell_type": "markdown",
   "metadata": {},
   "source": [
    "### Avaliando o que é uma taxa de acerto aceitável"
   ]
  },
  {
   "cell_type": "code",
   "execution_count": 9,
   "metadata": {},
   "outputs": [
    {
     "data": {
      "text/plain": [
       "1    58.0\n",
       "0    42.0\n",
       "Name: vendido, dtype: float64"
      ]
     },
     "execution_count": 9,
     "metadata": {},
     "output_type": "execute_result"
    }
   ],
   "source": [
    "df_dados.vendido.value_counts(normalize=True)*100 "
   ]
  },
  {
   "cell_type": "code",
   "execution_count": 10,
   "metadata": {},
   "outputs": [
    {
     "data": {
      "image/png": "[encoded data removed]",
      "text/plain": [
       "<Figure size 500x200 with 1 Axes>"
      ]
     },
     "metadata": {},
     "output_type": "display_data"
    }
   ],
   "source": [
    "plt.figure(figsize=(5, 2))\n",
    "plt.title(\"Comparativo entre carros vendidos e não vendidos\", fontsize=10, pad=5)\n",
    "df_dados.vendido.value_counts(normalize=True).mul(100).plot(kind='bar', rot=0)\n",
    "plt.grid(axis='y', linestyle='--', linewidth=0.4, color='gray')\n",
    "plt.xlabel(\"1-Vendido   0-Não Vendido\")\n",
    "plt.ylabel(\"%\")\n",
    "plt.show()"
   ]
  },
  {
   "attachments": {},
   "cell_type": "markdown",
   "metadata": {},
   "source": [
    "Utilizaremos Dummyclassifier com a estratégia 'stratified' - portanto vai chutar o resultado respeitando as proporções"
   ]
  },
  {
   "cell_type": "code",
   "execution_count": 11,
   "metadata": {},
   "outputs": [
    {
     "name": "stdout",
     "output_type": "stream",
     "text": [
      "A acurácia do DummyClassifier foi de 52.72%\n"
     ]
    }
   ],
   "source": [
    "np.random.seed(SEED)\n",
    "\n",
    "dummy_stratified = DummyClassifier(strategy='stratified')\n",
    "dummy_stratified.fit(X_train, y_train)\n",
    "\n",
    "acuracia = dummy_stratified.score(X_test, y_test) * 100\n",
    "\n",
    "print(f'A acurácia do DummyClassifier foi de {acuracia:.2f}%')"
   ]
  },
  {
   "attachments": {},
   "cell_type": "markdown",
   "metadata": {},
   "source": [
    "Modelo de árvore de decisão com profundidade 2 para avaliação da acurácia alcançada"
   ]
  },
  {
   "cell_type": "code",
   "execution_count": 12,
   "metadata": {},
   "outputs": [
    {
     "name": "stdout",
     "output_type": "stream",
     "text": [
      "A acurácia do DecisionTreeClassifier foi de 71.92%\n"
     ]
    }
   ],
   "source": [
    "np.random.seed(SEED)\n",
    "\n",
    "tree_classifier = DecisionTreeClassifier(max_depth=2)\n",
    "tree_classifier.fit(X_train, y_train)\n",
    "\n",
    "acuracia = tree_classifier.score(X_test, y_test) * 100\n",
    "\n",
    "print(f'A acurácia do DecisionTreeClassifier foi de {acuracia:.2f}%')"
   ]
  },
  {
   "attachments": {},
   "cell_type": "markdown",
   "metadata": {},
   "source": [
    "A acurácia foi melhor que do modelo dummy, mas o percentual atingido ainda pode ser questionado por não ser muito alto, além disse temos um aleatoriedade relacionado ao seed que dependendo do valor atribuido podemos alcançar valores melhores ou piores. Precisamos de uma precisão maior relacionado a faixa mínima é maxima de acurácia atingida pelo modelo para que tenhamos mais segurança da proporção de acertos que podemos atingir."
   ]
  },
  {
   "attachments": {},
   "cell_type": "markdown",
   "metadata": {},
   "source": [
    "### Validação cruzada\n",
    "Testar o modelo com mais de um conjunto de treino e teste vai permitir encontrar a acurácia do modelo dentro de um intervalo de confiança."
   ]
  },
  {
   "attachments": {},
   "cell_type": "markdown",
   "metadata": {},
   "source": [
    "#### Cross Validate\n",
    "O cross validate divide a base de dados de forma determinística, sem aleatoriedade."
   ]
  },
  {
   "attachments": {},
   "cell_type": "markdown",
   "metadata": {},
   "source": [
    "<img src='https://scikit-learn.org/stable/_images/grid_search_cross_validation.png' alt=\"Como funciona o cross validate\" width=\"600\" height=\"350\"> </img>"
   ]
  },
  {
   "cell_type": "code",
   "execution_count": 13,
   "metadata": {},
   "outputs": [
    {
     "data": {
      "text/plain": [
       "{'fit_time': array([0.02202535, 0.0130024 , 0.04501104, 0.01401043, 0.03499866]),\n",
       " 'score_time': array([0.00697255, 0.00300241, 0.00298262, 0.00700116, 0.01400447]),\n",
       " 'test_score': array([0.756 , 0.7565, 0.7625, 0.7545, 0.7595])}"
      ]
     },
     "execution_count": 13,
     "metadata": {},
     "output_type": "execute_result"
    }
   ],
   "source": [
    "scores = cross_validate(tree_classifier, X, y, cv=5)\n",
    "\n",
    "scores"
   ]
  },
  {
   "cell_type": "code",
   "execution_count": 14,
   "metadata": {},
   "outputs": [],
   "source": [
    "def calcula_intervao_confianca(scores):\n",
    "    media = scores['test_score'].mean()\n",
    "    desvio_padrao = scores['test_score'].std()\n",
    "    intervalo_confiança = ((media-2*desvio_padrao) * 100, (media+2*desvio_padrao) * 100) \n",
    "\n",
    "    print(f'A quantidade de splits é de {len(scores[\"test_score\"])} folds')\n",
    "    print(f'A média dos scores é de {media:.5f}')\n",
    "    print(f'O desvio padrão é de {desvio_padrao}')\n",
    "    print(f'O intervalo de confiança ficou entre {intervalo_confiança[0]:.2f}% e {intervalo_confiança[1]:.2f}%')\n"
   ]
  },
  {
   "cell_type": "code",
   "execution_count": 15,
   "metadata": {},
   "outputs": [
    {
     "name": "stdout",
     "output_type": "stream",
     "text": [
      "A quantidade de splits é de 5 folds\n",
      "A média dos scores é de 0.75780\n",
      "O desvio padrão é de 0.0028565713714171354\n",
      "O intervalo de confiança ficou entre 75.21% e 76.35%\n"
     ]
    }
   ],
   "source": [
    "calcula_intervao_confianca(scores)"
   ]
  },
  {
   "attachments": {},
   "cell_type": "markdown",
   "metadata": {},
   "source": [
    "Quando utilizamos o cross validate o intervalo de confiança não tem grande impacto com a mudança do seed."
   ]
  },
  {
   "attachments": {},
   "cell_type": "markdown",
   "metadata": {},
   "source": [
    "#### KFold\n",
    "O KFold divide a base de dados com a opção de embaralhamento, de forma aleatória com o parametro shuffle.</br>\n",
    "Não permite dividir os dados de forma estratificada, podendado causar desbalanceamento das bases de treino e teste."
   ]
  },
  {
   "cell_type": "code",
   "execution_count": 16,
   "metadata": {},
   "outputs": [
    {
     "data": {
      "text/plain": [
       "{'fit_time': array([0.01599503, 0.02200031, 0.01300073, 0.06100178, 0.07799983]),\n",
       " 'score_time': array([0.00301218, 0.00400066, 0.00400066, 0.00399733, 0.00400162]),\n",
       " 'test_score': array([0.7695, 0.7515, 0.7415, 0.7695, 0.7575])}"
      ]
     },
     "execution_count": 16,
     "metadata": {},
     "output_type": "execute_result"
    }
   ],
   "source": [
    "cv = KFold(n_splits=5, shuffle=True)\n",
    "scores = cross_validate(tree_classifier, X, y, cv=cv)\n",
    "\n",
    "scores"
   ]
  },
  {
   "cell_type": "code",
   "execution_count": 17,
   "metadata": {},
   "outputs": [
    {
     "name": "stdout",
     "output_type": "stream",
     "text": [
      "A quantidade de splits é de 5 folds\n",
      "A média dos scores é de 0.75790\n",
      "O desvio padrão é de 0.010762899237658944\n",
      "O intervalo de confiança ficou entre 73.64% e 77.94%\n"
     ]
    }
   ],
   "source": [
    "calcula_intervao_confianca(scores)"
   ]
  },
  {
   "attachments": {},
   "cell_type": "markdown",
   "metadata": {},
   "source": [
    "#### StratifiedKFold\n",
    "O StratifiedKFold permite dividir a base de dados com embaralhamento e estratificado.</br>\n",
    "Não permite agrupar por categorias, fazendo com que uma mesma categoria esteja na base de treino e teste."
   ]
  },
  {
   "cell_type": "code",
   "execution_count": 18,
   "metadata": {},
   "outputs": [
    {
     "data": {
      "text/plain": [
       "{'fit_time': array([0.01700377, 0.01700449, 0.03000402, 0.02900076, 0.03200006]),\n",
       " 'score_time': array([0.00699806, 0.00399208, 0.00299215, 0.00300217, 0.0090034 ]),\n",
       " 'test_score': array([0.744 , 0.77  , 0.7715, 0.7585, 0.745 ])}"
      ]
     },
     "execution_count": 18,
     "metadata": {},
     "output_type": "execute_result"
    }
   ],
   "source": [
    "cv = StratifiedKFold(n_splits=5, shuffle=True)\n",
    "scores = cross_validate(tree_classifier, X, y, cv=cv)\n",
    "\n",
    "scores"
   ]
  },
  {
   "cell_type": "code",
   "execution_count": 19,
   "metadata": {},
   "outputs": [
    {
     "name": "stdout",
     "output_type": "stream",
     "text": [
      "A quantidade de splits é de 5 folds\n",
      "A média dos scores é de 0.75780\n",
      "O desvio padrão é de 0.011758401251870932\n",
      "O intervalo de confiança ficou entre 73.43% e 78.13%\n"
     ]
    }
   ],
   "source": [
    "calcula_intervao_confianca(scores)"
   ]
  },
  {
   "attachments": {},
   "cell_type": "markdown",
   "metadata": {},
   "source": [
    "#### GroupKFold\n",
    "É muito importante pensar qual tipo de teste e treino será utilizado, pois se escolhermos um tipo inapropriado, obteremos uma estimativa irreal de como esse estimador funcionará no mundo real.</br>\n",
    "Precisamos avaliar o modelo para novos carros, o GroupKfold permite fazer o cross validate sem embaralhamento, agrupando por atributo informado."
   ]
  },
  {
   "cell_type": "code",
   "execution_count": 20,
   "metadata": {},
   "outputs": [
    {
     "data": {
      "text/plain": [
       "array([14, 11, 13, 12], dtype=int64)"
      ]
     },
     "execution_count": 20,
     "metadata": {},
     "output_type": "execute_result"
    }
   ],
   "source": [
    "# Criando a coluna modelo_aleatório - somando um valor randomico entre 1 e 4 a coluna idade_do_modelo\n",
    "# Isso é, cada ano possui 4 modelos de veículo\n",
    "df_dados_grupo = df_dados.copy()\n",
    "\n",
    "df_dados_grupo['modelo_aleatorio'] = np.random.randint(1, 5, size=df_dados.shape[0]) + df_dados_grupo.idade_do_modelo\n",
    "\n",
    "# Exemplo dos 4 modelos para os carros com 10 anos\n",
    "df_dados_grupo.query('idade_do_modelo == 10')['modelo_aleatorio'].unique()"
   ]
  },
  {
   "cell_type": "code",
   "execution_count": 21,
   "metadata": {},
   "outputs": [
    {
     "data": {
      "text/html": [
       "<div>\n",
       "<style scoped>\n",
       "    .dataframe tbody tr th:only-of-type {\n",
       "        vertical-align: middle;\n",
       "    }\n",
       "\n",
       "    .dataframe tbody tr th {\n",
       "        vertical-align: top;\n",
       "    }\n",
       "\n",
       "    .dataframe thead th {\n",
       "        text-align: right;\n",
       "    }\n",
       "</style>\n",
       "<table border=\"1\" class=\"dataframe\">\n",
       "  <thead>\n",
       "    <tr style=\"text-align: right;\">\n",
       "      <th></th>\n",
       "      <th>preco</th>\n",
       "      <th>vendido</th>\n",
       "      <th>idade_do_modelo</th>\n",
       "      <th>km_por_ano</th>\n",
       "      <th>modelo_aleatorio</th>\n",
       "    </tr>\n",
       "  </thead>\n",
       "  <tbody>\n",
       "    <tr>\n",
       "      <th>0</th>\n",
       "      <td>30941.02</td>\n",
       "      <td>1</td>\n",
       "      <td>18</td>\n",
       "      <td>35085.22134</td>\n",
       "      <td>20</td>\n",
       "    </tr>\n",
       "    <tr>\n",
       "      <th>1</th>\n",
       "      <td>40557.96</td>\n",
       "      <td>1</td>\n",
       "      <td>20</td>\n",
       "      <td>12622.05362</td>\n",
       "      <td>21</td>\n",
       "    </tr>\n",
       "    <tr>\n",
       "      <th>2</th>\n",
       "      <td>89627.50</td>\n",
       "      <td>0</td>\n",
       "      <td>12</td>\n",
       "      <td>11440.79806</td>\n",
       "      <td>14</td>\n",
       "    </tr>\n",
       "    <tr>\n",
       "      <th>3</th>\n",
       "      <td>95276.14</td>\n",
       "      <td>0</td>\n",
       "      <td>3</td>\n",
       "      <td>43167.32682</td>\n",
       "      <td>5</td>\n",
       "    </tr>\n",
       "    <tr>\n",
       "      <th>4</th>\n",
       "      <td>117384.68</td>\n",
       "      <td>1</td>\n",
       "      <td>4</td>\n",
       "      <td>12770.11290</td>\n",
       "      <td>7</td>\n",
       "    </tr>\n",
       "  </tbody>\n",
       "</table>\n",
       "</div>"
      ],
      "text/plain": [
       "       preco  vendido  idade_do_modelo   km_por_ano  modelo_aleatorio\n",
       "0   30941.02        1               18  35085.22134                20\n",
       "1   40557.96        1               20  12622.05362                21\n",
       "2   89627.50        0               12  11440.79806                14\n",
       "3   95276.14        0                3  43167.32682                 5\n",
       "4  117384.68        1                4  12770.11290                 7"
      ]
     },
     "execution_count": 21,
     "metadata": {},
     "output_type": "execute_result"
    }
   ],
   "source": [
    "df_dados_grupo.head()"
   ]
  },
  {
   "cell_type": "code",
   "execution_count": 22,
   "metadata": {},
   "outputs": [
    {
     "data": {
      "text/plain": [
       "{'fit_time': array([0.01799822, 0.01999283, 0.01599956, 0.03400111, 0.08599257]),\n",
       " 'score_time': array([0.00899911, 0.00300479, 0.03599811, 0.03100085, 0.00499725]),\n",
       " 'test_score': array([0.74612694, 0.76235647, 0.75543478, 0.77054967, 0.75263952])}"
      ]
     },
     "execution_count": 22,
     "metadata": {},
     "output_type": "execute_result"
    }
   ],
   "source": [
    "cv = GroupKFold(n_splits=5)\n",
    "scores = cross_validate(tree_classifier, X, y, cv=cv, groups=df_dados_grupo['modelo_aleatorio'])\n",
    "\n",
    "scores"
   ]
  },
  {
   "cell_type": "code",
   "execution_count": 23,
   "metadata": {},
   "outputs": [
    {
     "name": "stdout",
     "output_type": "stream",
     "text": [
      "A quantidade de splits é de 5 folds\n",
      "A média dos scores é de 0.75742\n",
      "O desvio padrão é de 0.008379550778477036\n",
      "O intervalo de confiança ficou entre 74.07% e 77.42%\n"
     ]
    }
   ],
   "source": [
    "calcula_intervao_confianca(scores)"
   ]
  },
  {
   "attachments": {},
   "cell_type": "markdown",
   "metadata": {},
   "source": [
    "### Avaliação do modelo SCV \n",
    "O modelo SVC é sensível a escala, precisamos escalar os dados antes do treino"
   ]
  },
  {
   "cell_type": "code",
   "execution_count": 34,
   "metadata": {},
   "outputs": [],
   "source": [
    "scaler = StandardScaler()\n",
    "scaler.fit(X)\n",
    "\n",
    "X_scaler = scaler.transform(X)"
   ]
  },
  {
   "cell_type": "code",
   "execution_count": 35,
   "metadata": {},
   "outputs": [
    {
     "data": {
      "text/plain": [
       "{'fit_time': array([2.73999763, 2.0109992 , 2.14502382, 2.26634192, 2.15208411]),\n",
       " 'score_time': array([0.97700143, 0.97300267, 1.21197152, 1.25801373, 1.35094976]),\n",
       " 'test_score': array([0.75662169, 0.77583625, 0.75197628, 0.77206253, 0.77576672])}"
      ]
     },
     "execution_count": 35,
     "metadata": {},
     "output_type": "execute_result"
    }
   ],
   "source": [
    "np.random.seed(SEED)\n",
    "svc = SVC()\n",
    "\n",
    "cv = GroupKFold(n_splits=5)\n",
    "scores = cross_validate(svc, X_scaler, y, cv=cv, groups=df_dados_grupo['modelo_aleatorio'])\n",
    "\n",
    "scores"
   ]
  },
  {
   "cell_type": "code",
   "execution_count": 36,
   "metadata": {},
   "outputs": [
    {
     "name": "stdout",
     "output_type": "stream",
     "text": [
      "A quantidade de splits é de 5 folds\n",
      "A média dos scores é de 0.76645\n",
      "O desvio padrão é de 0.010124104181515357\n",
      "O intervalo de confiança ficou entre 74.62% e 78.67%\n"
     ]
    }
   ],
   "source": [
    "calcula_intervao_confianca(scores)"
   ]
  },
  {
   "attachments": {},
   "cell_type": "markdown",
   "metadata": {},
   "source": [
    "Os dados foram escalados uma vez só para a execução do cross validate.</br>\n",
    "Na verdade devemos escalar para cada execução do cross validate, o processo precisa ser melhorado.</br>\n",
    "Com a biblioteca Pipelane podemos rodar o scaler para cada split."
   ]
  },
  {
   "cell_type": "code",
   "execution_count": 38,
   "metadata": {},
   "outputs": [
    {
     "data": {
      "text/plain": [
       "{'fit_time': array([2.60169125, 2.10914826, 2.05999851, 2.09499454, 1.98802352]),\n",
       " 'score_time': array([1.37692881, 1.07556868, 0.97699833, 0.95000553, 0.93897533]),\n",
       " 'test_score': array([0.75562219, 0.77533699, 0.75247036, 0.77256682, 0.77425842])}"
      ]
     },
     "execution_count": 38,
     "metadata": {},
     "output_type": "execute_result"
    }
   ],
   "source": [
    "np.random.seed(SEED)\n",
    "\n",
    "scaler = StandardScaler()\n",
    "svc = SVC()\n",
    "\n",
    "pipeline = Pipeline([('Transformador', scaler), ('Estimador', svc)])\n",
    "\n",
    "cv = GroupKFold(n_splits=5)\n",
    "scores = cross_validate(pipeline, X, y, cv=cv, groups=df_dados_grupo['modelo_aleatorio'])\n",
    "\n",
    "scores"
   ]
  },
  {
   "cell_type": "code",
   "execution_count": 39,
   "metadata": {},
   "outputs": [
    {
     "name": "stdout",
     "output_type": "stream",
     "text": [
      "A quantidade de splits é de 5 folds\n",
      "A média dos scores é de 0.76605\n",
      "O desvio padrão é de 0.009891828363514356\n",
      "O intervalo de confiança ficou entre 74.63% e 78.58%\n"
     ]
    }
   ],
   "source": [
    "calcula_intervao_confianca(scores)"
   ]
  },
  {
   "attachments": {},
   "cell_type": "markdown",
   "metadata": {},
   "source": [
    "### Treinando o modelo final\n",
    "Agora que temos diversas abordagens de validação podemos escolher a que acredita ser ideal para as características dos seus dados, de acordo com o que deseja predizer.</br>\n",
    "\n",
    "A média e o intervalo providos pela validação cruzada diz o quão bem você espera que o modelo se comporte com dados previamente desconhecidos mas... se você usou cross validation com 10 folds, <b>qual dos 10 modelos treinados você vai usar agora no mundo real?</b></br>\n",
    "\n",
    "A ideia é que a validação cruzada num conjunto de dados somente te diz o que você pode esperar. Ela não treina o seu modelo final.</br>\n",
    "\n",
    "Agora você tem o algoritmo do estimador (por exemplo um DecisionTreeClassifier) e pretende usá-lo no mundo real:</br>\n",
    "\n",
    "Os resultados indicados pela validação cruzada indica o intervalo % de acerto esperado. Para obter o modelo final basta treiná-lo em todos os dados que você usou para o crossvalidation.</br>\n",
    "\n",
    "Pronto, seu modelo está pronto para ser usado com o predict para classificar etc dados novos."
   ]
  },
  {
   "cell_type": "code",
   "execution_count": 40,
   "metadata": {},
   "outputs": [
    {
     "data": {
      "text/html": [
       "<style>#sk-container-id-1 {color: black;background-color: white;}#sk-container-id-1 pre{padding: 0;}#sk-container-id-1 div.sk-toggleable {background-color: white;}#sk-container-id-1 label.sk-toggleable__label {cursor: pointer;display: block;width: 100%;margin-bottom: 0;padding: 0.3em;box-sizing: border-box;text-align: center;}#sk-container-id-1 label.sk-toggleable__label-arrow:before {content: \"▸\";float: left;margin-right: 0.25em;color: #696969;}#sk-container-id-1 label.sk-toggleable__label-arrow:hover:before {color: black;}#sk-container-id-1 div.sk-estimator:hover label.sk-toggleable__label-arrow:before {color: black;}#sk-container-id-1 div.sk-toggleable__content {max-height: 0;max-width: 0;overflow: hidden;text-align: left;background-color: #f0f8ff;}#sk-container-id-1 div.sk-toggleable__content pre {margin: 0.2em;color: black;border-radius: 0.25em;background-color: #f0f8ff;}#sk-container-id-1 input.sk-toggleable__control:checked~div.sk-toggleable__content {max-height: 200px;max-width: 100%;overflow: auto;}#sk-container-id-1 input.sk-toggleable__control:checked~label.sk-toggleable__label-arrow:before {content: \"▾\";}#sk-container-id-1 div.sk-estimator input.sk-toggleable__control:checked~label.sk-toggleable__label {background-color: #d4ebff;}#sk-container-id-1 div.sk-label input.sk-toggleable__control:checked~label.sk-toggleable__label {background-color: #d4ebff;}#sk-container-id-1 input.sk-hidden--visually {border: 0;clip: rect(1px 1px 1px 1px);clip: rect(1px, 1px, 1px, 1px);height: 1px;margin: -1px;overflow: hidden;padding: 0;position: absolute;width: 1px;}#sk-container-id-1 div.sk-estimator {font-family: monospace;background-color: #f0f8ff;border: 1px dotted black;border-radius: 0.25em;box-sizing: border-box;margin-bottom: 0.5em;}#sk-container-id-1 div.sk-estimator:hover {background-color: #d4ebff;}#sk-container-id-1 div.sk-parallel-item::after {content: \"\";width: 100%;border-bottom: 1px solid gray;flex-grow: 1;}#sk-container-id-1 div.sk-label:hover label.sk-toggleable__label {background-color: #d4ebff;}#sk-container-id-1 div.sk-serial::before {content: \"\";position: absolute;border-left: 1px solid gray;box-sizing: border-box;top: 0;bottom: 0;left: 50%;z-index: 0;}#sk-container-id-1 div.sk-serial {display: flex;flex-direction: column;align-items: center;background-color: white;padding-right: 0.2em;padding-left: 0.2em;position: relative;}#sk-container-id-1 div.sk-item {position: relative;z-index: 1;}#sk-container-id-1 div.sk-parallel {display: flex;align-items: stretch;justify-content: center;background-color: white;position: relative;}#sk-container-id-1 div.sk-item::before, #sk-container-id-1 div.sk-parallel-item::before {content: \"\";position: absolute;border-left: 1px solid gray;box-sizing: border-box;top: 0;bottom: 0;left: 50%;z-index: -1;}#sk-container-id-1 div.sk-parallel-item {display: flex;flex-direction: column;z-index: 1;position: relative;background-color: white;}#sk-container-id-1 div.sk-parallel-item:first-child::after {align-self: flex-end;width: 50%;}#sk-container-id-1 div.sk-parallel-item:last-child::after {align-self: flex-start;width: 50%;}#sk-container-id-1 div.sk-parallel-item:only-child::after {width: 0;}#sk-container-id-1 div.sk-dashed-wrapped {border: 1px dashed gray;margin: 0 0.4em 0.5em 0.4em;box-sizing: border-box;padding-bottom: 0.4em;background-color: white;}#sk-container-id-1 div.sk-label label {font-family: monospace;font-weight: bold;display: inline-block;line-height: 1.2em;}#sk-container-id-1 div.sk-label-container {text-align: center;}#sk-container-id-1 div.sk-container {/* jupyter's `normalize.less` sets `[hidden] { display: none; }` but bootstrap.min.css set `[hidden] { display: none !important; }` so we also need the `!important` here to be able to override the default hidden behavior on the sphinx rendered scikit-learn.org. See: https://github.com/scikit-learn/scikit-learn/issues/21755 */display: inline-block !important;position: relative;}#sk-container-id-1 div.sk-text-repr-fallback {display: none;}</style><div id=\"sk-container-id-1\" class=\"sk-top-container\"><div class=\"sk-text-repr-fallback\"><pre>DecisionTreeClassifier(max_depth=2)</pre><b>In a Jupyter environment, please rerun this cell to show the HTML representation or trust the notebook. <br />On GitHub, the HTML representation is unable to render, please try loading this page with nbviewer.org.</b></div><div class=\"sk-container\" hidden><div class=\"sk-item\"><div class=\"sk-estimator sk-toggleable\"><input class=\"sk-toggleable__control sk-hidden--visually\" id=\"sk-estimator-id-1\" type=\"checkbox\" checked><label for=\"sk-estimator-id-1\" class=\"sk-toggleable__label sk-toggleable__label-arrow\">DecisionTreeClassifier</label><div class=\"sk-toggleable__content\"><pre>DecisionTreeClassifier(max_depth=2)</pre></div></div></div></div></div>"
      ],
      "text/plain": [
       "DecisionTreeClassifier(max_depth=2)"
      ]
     },
     "execution_count": 40,
     "metadata": {},
     "output_type": "execute_result"
    }
   ],
   "source": [
    "tree_classifier = DecisionTreeClassifier(max_depth=2)\n",
    "tree_classifier.fit(X, y)"
   ]
  }
 ],
 "metadata": {
  "kernelspec": {
   "display_name": "alura_ml_230123",
   "language": "python",
   "name": "python3"
  },
  "language_info": {
   "codemirror_mode": {
    "name": "ipython",
    "version": 3
   },
   "file_extension": ".py",
   "mimetype": "text/x-python",
   "name": "python",
   "nbconvert_exporter": "python",
   "pygments_lexer": "ipython3",
   "version": "3.11.1"
  },
  "orig_nbformat": 4,
  "vscode": {
   "interpreter": {
    "hash": "c8cdcbce1913a9d715021fd4950f95653fe2b6da8a12dc22dd8c1c1ab60aaf7b"
   }
  }
 },
 "nbformat": 4,
 "nbformat_minor": 2
}
