{
 "cells": [
  {
   "cell_type": "code",
   "execution_count": 17,
   "metadata": {},
   "outputs": [],
   "source": [
    "import pandas as pd"
   ]
  },
  {
   "cell_type": "code",
   "execution_count": 18,
   "metadata": {},
   "outputs": [],
   "source": [
    "dados = pd.read_csv(\"nomes_nasc.csv\", delimiter=\";\", encoding=\"utf-8\")"
   ]
  },
  {
   "cell_type": "code",
   "execution_count": 19,
   "metadata": {},
   "outputs": [
    {
     "data": {
      "text/html": [
       "<div>\n",
       "<style scoped>\n",
       "    .dataframe tbody tr th:only-of-type {\n",
       "        vertical-align: middle;\n",
       "    }\n",
       "\n",
       "    .dataframe tbody tr th {\n",
       "        vertical-align: top;\n",
       "    }\n",
       "\n",
       "    .dataframe thead th {\n",
       "        text-align: right;\n",
       "    }\n",
       "</style>\n",
       "<table border=\"1\" class=\"dataframe\">\n",
       "  <thead>\n",
       "    <tr style=\"text-align: right;\">\n",
       "      <th></th>\n",
       "      <th>id</th>\n",
       "      <th>Nome</th>\n",
       "      <th>Data Nascimento</th>\n",
       "      <th>Salario</th>\n",
       "      <th>Pais</th>\n",
       "    </tr>\n",
       "  </thead>\n",
       "  <tbody>\n",
       "    <tr>\n",
       "      <th>0</th>\n",
       "      <td>1</td>\n",
       "      <td>Jose maria</td>\n",
       "      <td>1997/06/23</td>\n",
       "      <td>1,945.42</td>\n",
       "      <td>Port</td>\n",
       "    </tr>\n",
       "    <tr>\n",
       "      <th>1</th>\n",
       "      <td>2</td>\n",
       "      <td>Maria Lucia</td>\n",
       "      <td>1983/03/09</td>\n",
       "      <td>950.33</td>\n",
       "      <td>Brazil</td>\n",
       "    </tr>\n",
       "    <tr>\n",
       "      <th>2</th>\n",
       "      <td>3</td>\n",
       "      <td>Francisco Augusto</td>\n",
       "      <td>2010/04/03</td>\n",
       "      <td>6,323.19</td>\n",
       "      <td>Brasil</td>\n",
       "    </tr>\n",
       "    <tr>\n",
       "      <th>3</th>\n",
       "      <td>4</td>\n",
       "      <td>Mendes Lima</td>\n",
       "      <td>2008/07/16</td>\n",
       "      <td>4,345.89</td>\n",
       "      <td>Brasil</td>\n",
       "    </tr>\n",
       "    <tr>\n",
       "      <th>4</th>\n",
       "      <td>5</td>\n",
       "      <td>victor Pereira</td>\n",
       "      <td>1998/08/14</td>\n",
       "      <td>1,045.18</td>\n",
       "      <td>Eua</td>\n",
       "    </tr>\n",
       "    <tr>\n",
       "      <th>5</th>\n",
       "      <td>6</td>\n",
       "      <td>Eloisa Carvalho</td>\n",
       "      <td>1990/09/23</td>\n",
       "      <td>10,034.20</td>\n",
       "      <td>Estados Unidos</td>\n",
       "    </tr>\n",
       "    <tr>\n",
       "      <th>6</th>\n",
       "      <td>7</td>\n",
       "      <td>Aparecida Josefina</td>\n",
       "      <td>1979/03/07</td>\n",
       "      <td>2,339.23</td>\n",
       "      <td>USA</td>\n",
       "    </tr>\n",
       "    <tr>\n",
       "      <th>7</th>\n",
       "      <td>8</td>\n",
       "      <td>Aline Alves</td>\n",
       "      <td>1987/03/23</td>\n",
       "      <td>2,4,455.99</td>\n",
       "      <td>Portugal</td>\n",
       "    </tr>\n",
       "    <tr>\n",
       "      <th>8</th>\n",
       "      <td>9</td>\n",
       "      <td>irton augustino</td>\n",
       "      <td>1995/09/23</td>\n",
       "      <td>1750.00</td>\n",
       "      <td>Port</td>\n",
       "    </tr>\n",
       "    <tr>\n",
       "      <th>9</th>\n",
       "      <td>10</td>\n",
       "      <td>Creusa Soares</td>\n",
       "      <td>1970/12/24</td>\n",
       "      <td>1045.00</td>\n",
       "      <td>Brasil</td>\n",
       "    </tr>\n",
       "  </tbody>\n",
       "</table>\n",
       "</div>"
      ],
      "text/plain": [
       "   id                Nome Data Nascimento     Salario            Pais\n",
       "0   1          Jose maria      1997/06/23    1,945.42            Port\n",
       "1   2         Maria Lucia      1983/03/09      950.33          Brazil\n",
       "2   3   Francisco Augusto      2010/04/03    6,323.19          Brasil\n",
       "3   4         Mendes Lima      2008/07/16    4,345.89          Brasil\n",
       "4   5      victor Pereira      1998/08/14    1,045.18             Eua\n",
       "5   6     Eloisa Carvalho      1990/09/23   10,034.20  Estados Unidos\n",
       "6   7  Aparecida Josefina      1979/03/07    2,339.23             USA\n",
       "7   8         Aline Alves      1987/03/23  2,4,455.99        Portugal\n",
       "8   9     irton augustino      1995/09/23     1750.00            Port\n",
       "9  10       Creusa Soares      1970/12/24     1045.00          Brasil"
      ]
     },
     "execution_count": 19,
     "metadata": {},
     "output_type": "execute_result"
    }
   ],
   "source": [
    "# Vamos:\n",
    "# 1ª - Deletar a coluna ID\n",
    "# 2ª - Deixar todos os textos em minúsculo\n",
    "# 3ª - Coluna \"Data Nascimento\", mudar de object para timestamp\n",
    "# 4ª - Salario está no formato string, mudar para float\n",
    "# 5ª - Pais (Port para Potugal), (Brazil para Brazil), (Eua/USA para Estados Unidos)\n",
    "dados"
   ]
  },
  {
   "cell_type": "code",
   "execution_count": 20,
   "metadata": {},
   "outputs": [
    {
     "data": {
      "text/plain": [
       "id                  int64\n",
       "Nome               object\n",
       "Data Nascimento    object\n",
       "Salario            object\n",
       "Pais               object\n",
       "dtype: object"
      ]
     },
     "execution_count": 20,
     "metadata": {},
     "output_type": "execute_result"
    }
   ],
   "source": [
    "# Verificar tipos das colunas\n",
    "dados.dtypes"
   ]
  },
  {
   "cell_type": "code",
   "execution_count": 21,
   "metadata": {},
   "outputs": [],
   "source": [
    "# 1ª - Deletar a coluna ID\n",
    "dados.drop('id', axis=1, inplace=True)"
   ]
  },
  {
   "cell_type": "code",
   "execution_count": 34,
   "metadata": {},
   "outputs": [],
   "source": [
    "# 2ª - Deixar todos os textos em minúsculo\n",
    "dados.columns = dados.columns.str.lower()\n",
    "dados.nome    = dados.nome.str.lower()\n",
    "dados.pais    = dados.pais.str.lower()"
   ]
  },
  {
   "cell_type": "code",
   "execution_count": 38,
   "metadata": {},
   "outputs": [],
   "source": [
    "# 3ª - Coluna \"Data Nascimento\", mudar de object para timestamp\n",
    "dados['data nascimento'] = pd.to_datetime(dados['data nascimento'])"
   ]
  },
  {
   "cell_type": "code",
   "execution_count": 41,
   "metadata": {},
   "outputs": [],
   "source": [
    "# 4ª - Salario está no formato string, mudar para float\n",
    "dados.salario = dados.salario.str.replace(',','').astype(float)"
   ]
  },
  {
   "cell_type": "code",
   "execution_count": 47,
   "metadata": {},
   "outputs": [
    {
     "data": {
      "text/plain": [
       "array(['port', 'brazil', 'brasil', 'eua', 'estados unidos', 'usa',\n",
       "       'portugal'], dtype=object)"
      ]
     },
     "execution_count": 47,
     "metadata": {},
     "output_type": "execute_result"
    }
   ],
   "source": [
    "# 5ª - Pais (Port para Potugal), (Brazil para Brazil), (Eua/USA para Estados Unidos)\n",
    "dados.pais.unique()"
   ]
  },
  {
   "cell_type": "code",
   "execution_count": 48,
   "metadata": {},
   "outputs": [
    {
     "data": {
      "text/plain": [
       "0          portugal\n",
       "1            brasil\n",
       "2            brasil\n",
       "3            brasil\n",
       "4    estados unidos\n",
       "5    estados unidos\n",
       "6    estados unidos\n",
       "7          portugal\n",
       "8          portugal\n",
       "9            brasil\n",
       "Name: pais, dtype: object"
      ]
     },
     "execution_count": 48,
     "metadata": {},
     "output_type": "execute_result"
    }
   ],
   "source": [
    "dicionarioPaises = {\n",
    "    'port': 'portugal', \n",
    "    'brazil': 'brasil', \n",
    "    'brasil': 'brasil', \n",
    "    'eua': 'estados unidos', \n",
    "    'estados unidos': 'estados unidos', \n",
    "    'usa': 'estados unidos',\n",
    "    'portugal': 'portugal'\n",
    "}\n",
    "\n",
    "dados.pais = dados.pais.apply(lambda nome: dicionarioPaises[nome])"
   ]
  },
  {
   "cell_type": "code",
   "execution_count": null,
   "metadata": {},
   "outputs": [],
   "source": []
  }
 ],
 "metadata": {
  "kernelspec": {
   "display_name": "Python 3",
   "language": "python",
   "name": "python3"
  },
  "language_info": {
   "codemirror_mode": {
    "name": "ipython",
    "version": 3
   },
   "file_extension": ".py",
   "mimetype": "text/x-python",
   "name": "python",
   "nbconvert_exporter": "python",
   "pygments_lexer": "ipython3",
   "version": "3.8.1"
  }
 },
 "nbformat": 4,
 "nbformat_minor": 4
}
