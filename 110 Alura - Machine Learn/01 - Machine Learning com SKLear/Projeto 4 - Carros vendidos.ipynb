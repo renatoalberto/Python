{
 "cells": [
  {
   "cell_type": "markdown",
   "id": "e7ddf5e0",
   "metadata": {},
   "source": [
    "# Projeto 4\n",
    "\n",
    "### Alura - Curso: Machine Learning: classificação com SKLearn</br>Professor Guilherme Silveira</br>11/07/2022 "
   ]
  },
  {
   "cell_type": "markdown",
   "id": "f7320ec3",
   "metadata": {},
   "source": [
    "### Base de dados de carros vendidos em um site online, colunas:\n",
    "* mileage_per_year - milhar percorridas por anos;</br>\n",
    "* model_year - ano do modelo do carro;\n",
    "* price - preço do carro anuncioado;\n",
    "* sold - se o carro foi vendido ou não (atributo alvo)."
   ]
  },
  {
   "cell_type": "code",
   "execution_count": 1,
   "id": "b2991859",
   "metadata": {},
   "outputs": [],
   "source": [
    "import pandas as pd\n",
    "import numpy as np\n",
    "import matplotlib.pyplot as plt\n",
    "import graphviz\n",
    "\n",
    "from datetime import datetime\n",
    "from sklearn.model_selection import train_test_split\n",
    "from sklearn.metrics import accuracy_score\n",
    "from sklearn.dummy import DummyClassifier\n",
    "from sklearn.preprocessing import StandardScaler\n",
    "from sklearn.svm import LinearSVC\n",
    "from sklearn.svm import SVC\n",
    "from sklearn.tree import DecisionTreeClassifier\n",
    "from sklearn.tree import export_graphviz\n",
    "from sklearn.tree import plot_tree"
   ]
  },
  {
   "cell_type": "code",
   "execution_count": 2,
   "id": "8d41bd1d",
   "metadata": {},
   "outputs": [],
   "source": [
    "uri = 'https://gist.githubusercontent.com/guilhermesilveira/4d1d4a16ccbf6ea4e0a64a38a24ec884/raw/afd05cb0c796d18f3f5a6537053ded308ba94bf7/car-prices.csv'\n",
    "df_carros = pd.read_csv(uri)"
   ]
  },
  {
   "cell_type": "code",
   "execution_count": 3,
   "id": "1f70c9d7",
   "metadata": {},
   "outputs": [
    {
     "name": "stdout",
     "output_type": "stream",
     "text": [
      "Quantidade de anúncios de carro - 10000\n"
     ]
    },
    {
     "data": {
      "text/html": [
       "<div>\n",
       "<style scoped>\n",
       "    .dataframe tbody tr th:only-of-type {\n",
       "        vertical-align: middle;\n",
       "    }\n",
       "\n",
       "    .dataframe tbody tr th {\n",
       "        vertical-align: top;\n",
       "    }\n",
       "\n",
       "    .dataframe thead th {\n",
       "        text-align: right;\n",
       "    }\n",
       "</style>\n",
       "<table border=\"1\" class=\"dataframe\">\n",
       "  <thead>\n",
       "    <tr style=\"text-align: right;\">\n",
       "      <th></th>\n",
       "      <th>Unnamed: 0</th>\n",
       "      <th>mileage_per_year</th>\n",
       "      <th>model_year</th>\n",
       "      <th>price</th>\n",
       "      <th>sold</th>\n",
       "    </tr>\n",
       "  </thead>\n",
       "  <tbody>\n",
       "    <tr>\n",
       "      <th>0</th>\n",
       "      <td>0</td>\n",
       "      <td>21801</td>\n",
       "      <td>2000</td>\n",
       "      <td>30941.02</td>\n",
       "      <td>yes</td>\n",
       "    </tr>\n",
       "    <tr>\n",
       "      <th>1</th>\n",
       "      <td>1</td>\n",
       "      <td>7843</td>\n",
       "      <td>1998</td>\n",
       "      <td>40557.96</td>\n",
       "      <td>yes</td>\n",
       "    </tr>\n",
       "    <tr>\n",
       "      <th>2</th>\n",
       "      <td>2</td>\n",
       "      <td>7109</td>\n",
       "      <td>2006</td>\n",
       "      <td>89627.50</td>\n",
       "      <td>no</td>\n",
       "    </tr>\n",
       "    <tr>\n",
       "      <th>3</th>\n",
       "      <td>3</td>\n",
       "      <td>26823</td>\n",
       "      <td>2015</td>\n",
       "      <td>95276.14</td>\n",
       "      <td>no</td>\n",
       "    </tr>\n",
       "    <tr>\n",
       "      <th>4</th>\n",
       "      <td>4</td>\n",
       "      <td>7935</td>\n",
       "      <td>2014</td>\n",
       "      <td>117384.68</td>\n",
       "      <td>yes</td>\n",
       "    </tr>\n",
       "  </tbody>\n",
       "</table>\n",
       "</div>"
      ],
      "text/plain": [
       "   Unnamed: 0  mileage_per_year  model_year      price sold\n",
       "0           0             21801        2000   30941.02  yes\n",
       "1           1              7843        1998   40557.96  yes\n",
       "2           2              7109        2006   89627.50   no\n",
       "3           3             26823        2015   95276.14   no\n",
       "4           4              7935        2014  117384.68  yes"
      ]
     },
     "execution_count": 3,
     "metadata": {},
     "output_type": "execute_result"
    }
   ],
   "source": [
    "print(f'Quantidade de anúncios de carro - {df_carros.shape[0]}')\n",
    "df_carros.head()"
   ]
  },
  {
   "cell_type": "markdown",
   "id": "8b3d20d7",
   "metadata": {},
   "source": [
    "### Visualizando distribuição de carros vendidos vs não vendidos"
   ]
  },
  {
   "cell_type": "code",
   "execution_count": 4,
   "id": "10eecb9e",
   "metadata": {},
   "outputs": [
    {
     "name": "stdout",
     "output_type": "stream",
     "text": [
      "yes    5800\n",
      "no     4200\n",
      "Name: sold, dtype: int64\n"
     ]
    },
    {
     "data": {
      "image/png": "[encoded data removed]",
      "text/plain": [
       "<Figure size 936x360 with 1 Axes>"
      ]
     },
     "metadata": {
      "needs_background": "light"
     },
     "output_type": "display_data"
    }
   ],
   "source": [
    "print(df_carros.sold.value_counts())\n",
    "\n",
    "plt.figure(figsize=(13, 5))\n",
    "plt.title(\"Comparativo entre carros vendidos e não vendidos\", fontsize=16, pad=20)\n",
    "df_carros.sold.value_counts().plot(kind='bar')\n",
    "plt.show()"
   ]
  },
  {
   "cell_type": "markdown",
   "id": "e1268506",
   "metadata": {},
   "source": [
    "### Limpeza inicial da base de dados"
   ]
  },
  {
   "cell_type": "markdown",
   "id": "c8846676",
   "metadata": {},
   "source": [
    "Renomeando colunas"
   ]
  },
  {
   "cell_type": "code",
   "execution_count": 5,
   "id": "804165b1",
   "metadata": {},
   "outputs": [
    {
     "data": {
      "text/html": [
       "<div>\n",
       "<style scoped>\n",
       "    .dataframe tbody tr th:only-of-type {\n",
       "        vertical-align: middle;\n",
       "    }\n",
       "\n",
       "    .dataframe tbody tr th {\n",
       "        vertical-align: top;\n",
       "    }\n",
       "\n",
       "    .dataframe thead th {\n",
       "        text-align: right;\n",
       "    }\n",
       "</style>\n",
       "<table border=\"1\" class=\"dataframe\">\n",
       "  <thead>\n",
       "    <tr style=\"text-align: right;\">\n",
       "      <th></th>\n",
       "      <th>Unnamed: 0</th>\n",
       "      <th>milhas_por_ano</th>\n",
       "      <th>ano_do_modelo</th>\n",
       "      <th>preco</th>\n",
       "      <th>vendido</th>\n",
       "    </tr>\n",
       "  </thead>\n",
       "  <tbody>\n",
       "    <tr>\n",
       "      <th>0</th>\n",
       "      <td>0</td>\n",
       "      <td>21801</td>\n",
       "      <td>2000</td>\n",
       "      <td>30941.02</td>\n",
       "      <td>yes</td>\n",
       "    </tr>\n",
       "    <tr>\n",
       "      <th>1</th>\n",
       "      <td>1</td>\n",
       "      <td>7843</td>\n",
       "      <td>1998</td>\n",
       "      <td>40557.96</td>\n",
       "      <td>yes</td>\n",
       "    </tr>\n",
       "    <tr>\n",
       "      <th>2</th>\n",
       "      <td>2</td>\n",
       "      <td>7109</td>\n",
       "      <td>2006</td>\n",
       "      <td>89627.50</td>\n",
       "      <td>no</td>\n",
       "    </tr>\n",
       "    <tr>\n",
       "      <th>3</th>\n",
       "      <td>3</td>\n",
       "      <td>26823</td>\n",
       "      <td>2015</td>\n",
       "      <td>95276.14</td>\n",
       "      <td>no</td>\n",
       "    </tr>\n",
       "    <tr>\n",
       "      <th>4</th>\n",
       "      <td>4</td>\n",
       "      <td>7935</td>\n",
       "      <td>2014</td>\n",
       "      <td>117384.68</td>\n",
       "      <td>yes</td>\n",
       "    </tr>\n",
       "  </tbody>\n",
       "</table>\n",
       "</div>"
      ],
      "text/plain": [
       "   Unnamed: 0  milhas_por_ano  ano_do_modelo      preco vendido\n",
       "0           0           21801           2000   30941.02     yes\n",
       "1           1            7843           1998   40557.96     yes\n",
       "2           2            7109           2006   89627.50      no\n",
       "3           3           26823           2015   95276.14      no\n",
       "4           4            7935           2014  117384.68     yes"
      ]
     },
     "execution_count": 5,
     "metadata": {},
     "output_type": "execute_result"
    }
   ],
   "source": [
    "mapa = {\n",
    "    'mileage_per_year' : 'milhas_por_ano',\n",
    "    'model_year' : 'ano_do_modelo',\n",
    "    'price' : 'preco',\n",
    "    'sold' : 'vendido'\n",
    "}\n",
    "\n",
    "df_carros.rename(columns=mapa, inplace=True)\n",
    "\n",
    "df_carros.head()"
   ]
  },
  {
   "cell_type": "markdown",
   "id": "d928d3be",
   "metadata": {},
   "source": [
    "Alterando o atributo vendido de no/yes para 0/1"
   ]
  },
  {
   "cell_type": "code",
   "execution_count": 6,
   "id": "58d120c2",
   "metadata": {},
   "outputs": [
    {
     "data": {
      "text/html": [
       "<div>\n",
       "<style scoped>\n",
       "    .dataframe tbody tr th:only-of-type {\n",
       "        vertical-align: middle;\n",
       "    }\n",
       "\n",
       "    .dataframe tbody tr th {\n",
       "        vertical-align: top;\n",
       "    }\n",
       "\n",
       "    .dataframe thead th {\n",
       "        text-align: right;\n",
       "    }\n",
       "</style>\n",
       "<table border=\"1\" class=\"dataframe\">\n",
       "  <thead>\n",
       "    <tr style=\"text-align: right;\">\n",
       "      <th></th>\n",
       "      <th>Unnamed: 0</th>\n",
       "      <th>milhas_por_ano</th>\n",
       "      <th>ano_do_modelo</th>\n",
       "      <th>preco</th>\n",
       "      <th>vendido</th>\n",
       "    </tr>\n",
       "  </thead>\n",
       "  <tbody>\n",
       "    <tr>\n",
       "      <th>0</th>\n",
       "      <td>0</td>\n",
       "      <td>21801</td>\n",
       "      <td>2000</td>\n",
       "      <td>30941.02</td>\n",
       "      <td>1</td>\n",
       "    </tr>\n",
       "    <tr>\n",
       "      <th>1</th>\n",
       "      <td>1</td>\n",
       "      <td>7843</td>\n",
       "      <td>1998</td>\n",
       "      <td>40557.96</td>\n",
       "      <td>1</td>\n",
       "    </tr>\n",
       "    <tr>\n",
       "      <th>2</th>\n",
       "      <td>2</td>\n",
       "      <td>7109</td>\n",
       "      <td>2006</td>\n",
       "      <td>89627.50</td>\n",
       "      <td>0</td>\n",
       "    </tr>\n",
       "    <tr>\n",
       "      <th>3</th>\n",
       "      <td>3</td>\n",
       "      <td>26823</td>\n",
       "      <td>2015</td>\n",
       "      <td>95276.14</td>\n",
       "      <td>0</td>\n",
       "    </tr>\n",
       "    <tr>\n",
       "      <th>4</th>\n",
       "      <td>4</td>\n",
       "      <td>7935</td>\n",
       "      <td>2014</td>\n",
       "      <td>117384.68</td>\n",
       "      <td>1</td>\n",
       "    </tr>\n",
       "  </tbody>\n",
       "</table>\n",
       "</div>"
      ],
      "text/plain": [
       "   Unnamed: 0  milhas_por_ano  ano_do_modelo      preco  vendido\n",
       "0           0           21801           2000   30941.02        1\n",
       "1           1            7843           1998   40557.96        1\n",
       "2           2            7109           2006   89627.50        0\n",
       "3           3           26823           2015   95276.14        0\n",
       "4           4            7935           2014  117384.68        1"
      ]
     },
     "execution_count": 6,
     "metadata": {},
     "output_type": "execute_result"
    }
   ],
   "source": [
    "mapa = {\n",
    "    'no': 0,\n",
    "    'yes' : 1\n",
    "}\n",
    "\n",
    "df_carros.vendido = df_carros.vendido.map(mapa)\n",
    "\n",
    "df_carros.head()"
   ]
  },
  {
   "cell_type": "markdown",
   "id": "0784f08f",
   "metadata": {},
   "source": [
    "Calculando a idade do carro e atribuindo a coluna idade_do_modelo"
   ]
  },
  {
   "cell_type": "code",
   "execution_count": 7,
   "id": "206f3729",
   "metadata": {},
   "outputs": [
    {
     "data": {
      "text/html": [
       "<div>\n",
       "<style scoped>\n",
       "    .dataframe tbody tr th:only-of-type {\n",
       "        vertical-align: middle;\n",
       "    }\n",
       "\n",
       "    .dataframe tbody tr th {\n",
       "        vertical-align: top;\n",
       "    }\n",
       "\n",
       "    .dataframe thead th {\n",
       "        text-align: right;\n",
       "    }\n",
       "</style>\n",
       "<table border=\"1\" class=\"dataframe\">\n",
       "  <thead>\n",
       "    <tr style=\"text-align: right;\">\n",
       "      <th></th>\n",
       "      <th>Unnamed: 0</th>\n",
       "      <th>milhas_por_ano</th>\n",
       "      <th>ano_do_modelo</th>\n",
       "      <th>preco</th>\n",
       "      <th>vendido</th>\n",
       "      <th>idade_do_modelo</th>\n",
       "    </tr>\n",
       "  </thead>\n",
       "  <tbody>\n",
       "    <tr>\n",
       "      <th>0</th>\n",
       "      <td>0</td>\n",
       "      <td>21801</td>\n",
       "      <td>2000</td>\n",
       "      <td>30941.02</td>\n",
       "      <td>1</td>\n",
       "      <td>22</td>\n",
       "    </tr>\n",
       "    <tr>\n",
       "      <th>1</th>\n",
       "      <td>1</td>\n",
       "      <td>7843</td>\n",
       "      <td>1998</td>\n",
       "      <td>40557.96</td>\n",
       "      <td>1</td>\n",
       "      <td>24</td>\n",
       "    </tr>\n",
       "    <tr>\n",
       "      <th>2</th>\n",
       "      <td>2</td>\n",
       "      <td>7109</td>\n",
       "      <td>2006</td>\n",
       "      <td>89627.50</td>\n",
       "      <td>0</td>\n",
       "      <td>16</td>\n",
       "    </tr>\n",
       "    <tr>\n",
       "      <th>3</th>\n",
       "      <td>3</td>\n",
       "      <td>26823</td>\n",
       "      <td>2015</td>\n",
       "      <td>95276.14</td>\n",
       "      <td>0</td>\n",
       "      <td>7</td>\n",
       "    </tr>\n",
       "    <tr>\n",
       "      <th>4</th>\n",
       "      <td>4</td>\n",
       "      <td>7935</td>\n",
       "      <td>2014</td>\n",
       "      <td>117384.68</td>\n",
       "      <td>1</td>\n",
       "      <td>8</td>\n",
       "    </tr>\n",
       "  </tbody>\n",
       "</table>\n",
       "</div>"
      ],
      "text/plain": [
       "   Unnamed: 0  milhas_por_ano  ano_do_modelo      preco  vendido  \\\n",
       "0           0           21801           2000   30941.02        1   \n",
       "1           1            7843           1998   40557.96        1   \n",
       "2           2            7109           2006   89627.50        0   \n",
       "3           3           26823           2015   95276.14        0   \n",
       "4           4            7935           2014  117384.68        1   \n",
       "\n",
       "   idade_do_modelo  \n",
       "0               22  \n",
       "1               24  \n",
       "2               16  \n",
       "3                7  \n",
       "4                8  "
      ]
     },
     "execution_count": 7,
     "metadata": {},
     "output_type": "execute_result"
    }
   ],
   "source": [
    "# datetime.today().year recupera a data atual e na seuqencia somente o ano\n",
    "df_carros['idade_do_modelo'] = datetime.today().year - df_carros.ano_do_modelo\n",
    "\n",
    "df_carros.head()"
   ]
  },
  {
   "cell_type": "markdown",
   "id": "1f2af550",
   "metadata": {},
   "source": [
    "Criando a coluna km_por_ano a partir do atributo milhas_por_ano</br>\n",
    "[Cálculadora de milhas para quilometros](https://www.google.com/search?q=calculadora+milhas+quilometros&oq=calculadora+km+milhas&aqs=edge.1.69i57j0i22i30l2.10023j0j1&sourceid=chrome&ie=UTF-8)"
   ]
  },
  {
   "cell_type": "code",
   "execution_count": 8,
   "id": "f2364962",
   "metadata": {},
   "outputs": [
    {
     "data": {
      "text/html": [
       "<div>\n",
       "<style scoped>\n",
       "    .dataframe tbody tr th:only-of-type {\n",
       "        vertical-align: middle;\n",
       "    }\n",
       "\n",
       "    .dataframe tbody tr th {\n",
       "        vertical-align: top;\n",
       "    }\n",
       "\n",
       "    .dataframe thead th {\n",
       "        text-align: right;\n",
       "    }\n",
       "</style>\n",
       "<table border=\"1\" class=\"dataframe\">\n",
       "  <thead>\n",
       "    <tr style=\"text-align: right;\">\n",
       "      <th></th>\n",
       "      <th>Unnamed: 0</th>\n",
       "      <th>milhas_por_ano</th>\n",
       "      <th>ano_do_modelo</th>\n",
       "      <th>preco</th>\n",
       "      <th>vendido</th>\n",
       "      <th>idade_do_modelo</th>\n",
       "      <th>km_por_ano</th>\n",
       "    </tr>\n",
       "  </thead>\n",
       "  <tbody>\n",
       "    <tr>\n",
       "      <th>0</th>\n",
       "      <td>0</td>\n",
       "      <td>21801</td>\n",
       "      <td>2000</td>\n",
       "      <td>30941.02</td>\n",
       "      <td>1</td>\n",
       "      <td>22</td>\n",
       "      <td>35085.22134</td>\n",
       "    </tr>\n",
       "    <tr>\n",
       "      <th>1</th>\n",
       "      <td>1</td>\n",
       "      <td>7843</td>\n",
       "      <td>1998</td>\n",
       "      <td>40557.96</td>\n",
       "      <td>1</td>\n",
       "      <td>24</td>\n",
       "      <td>12622.05362</td>\n",
       "    </tr>\n",
       "    <tr>\n",
       "      <th>2</th>\n",
       "      <td>2</td>\n",
       "      <td>7109</td>\n",
       "      <td>2006</td>\n",
       "      <td>89627.50</td>\n",
       "      <td>0</td>\n",
       "      <td>16</td>\n",
       "      <td>11440.79806</td>\n",
       "    </tr>\n",
       "    <tr>\n",
       "      <th>3</th>\n",
       "      <td>3</td>\n",
       "      <td>26823</td>\n",
       "      <td>2015</td>\n",
       "      <td>95276.14</td>\n",
       "      <td>0</td>\n",
       "      <td>7</td>\n",
       "      <td>43167.32682</td>\n",
       "    </tr>\n",
       "    <tr>\n",
       "      <th>4</th>\n",
       "      <td>4</td>\n",
       "      <td>7935</td>\n",
       "      <td>2014</td>\n",
       "      <td>117384.68</td>\n",
       "      <td>1</td>\n",
       "      <td>8</td>\n",
       "      <td>12770.11290</td>\n",
       "    </tr>\n",
       "  </tbody>\n",
       "</table>\n",
       "</div>"
      ],
      "text/plain": [
       "   Unnamed: 0  milhas_por_ano  ano_do_modelo      preco  vendido  \\\n",
       "0           0           21801           2000   30941.02        1   \n",
       "1           1            7843           1998   40557.96        1   \n",
       "2           2            7109           2006   89627.50        0   \n",
       "3           3           26823           2015   95276.14        0   \n",
       "4           4            7935           2014  117384.68        1   \n",
       "\n",
       "   idade_do_modelo   km_por_ano  \n",
       "0               22  35085.22134  \n",
       "1               24  12622.05362  \n",
       "2               16  11440.79806  \n",
       "3                7  43167.32682  \n",
       "4                8  12770.11290  "
      ]
     },
     "execution_count": 8,
     "metadata": {},
     "output_type": "execute_result"
    }
   ],
   "source": [
    "df_carros['km_por_ano'] = df_carros.milhas_por_ano * 1.60934\n",
    "\n",
    "df_carros.head()"
   ]
  },
  {
   "cell_type": "markdown",
   "id": "b76dc605",
   "metadata": {},
   "source": [
    "Excluindo campo que não será utilizado"
   ]
  },
  {
   "cell_type": "code",
   "execution_count": 9,
   "id": "543ccdd4",
   "metadata": {},
   "outputs": [
    {
     "data": {
      "text/html": [
       "<div>\n",
       "<style scoped>\n",
       "    .dataframe tbody tr th:only-of-type {\n",
       "        vertical-align: middle;\n",
       "    }\n",
       "\n",
       "    .dataframe tbody tr th {\n",
       "        vertical-align: top;\n",
       "    }\n",
       "\n",
       "    .dataframe thead th {\n",
       "        text-align: right;\n",
       "    }\n",
       "</style>\n",
       "<table border=\"1\" class=\"dataframe\">\n",
       "  <thead>\n",
       "    <tr style=\"text-align: right;\">\n",
       "      <th></th>\n",
       "      <th>preco</th>\n",
       "      <th>vendido</th>\n",
       "      <th>idade_do_modelo</th>\n",
       "      <th>km_por_ano</th>\n",
       "    </tr>\n",
       "  </thead>\n",
       "  <tbody>\n",
       "    <tr>\n",
       "      <th>0</th>\n",
       "      <td>30941.02</td>\n",
       "      <td>1</td>\n",
       "      <td>22</td>\n",
       "      <td>35085.22134</td>\n",
       "    </tr>\n",
       "    <tr>\n",
       "      <th>1</th>\n",
       "      <td>40557.96</td>\n",
       "      <td>1</td>\n",
       "      <td>24</td>\n",
       "      <td>12622.05362</td>\n",
       "    </tr>\n",
       "    <tr>\n",
       "      <th>2</th>\n",
       "      <td>89627.50</td>\n",
       "      <td>0</td>\n",
       "      <td>16</td>\n",
       "      <td>11440.79806</td>\n",
       "    </tr>\n",
       "    <tr>\n",
       "      <th>3</th>\n",
       "      <td>95276.14</td>\n",
       "      <td>0</td>\n",
       "      <td>7</td>\n",
       "      <td>43167.32682</td>\n",
       "    </tr>\n",
       "    <tr>\n",
       "      <th>4</th>\n",
       "      <td>117384.68</td>\n",
       "      <td>1</td>\n",
       "      <td>8</td>\n",
       "      <td>12770.11290</td>\n",
       "    </tr>\n",
       "  </tbody>\n",
       "</table>\n",
       "</div>"
      ],
      "text/plain": [
       "       preco  vendido  idade_do_modelo   km_por_ano\n",
       "0   30941.02        1               22  35085.22134\n",
       "1   40557.96        1               24  12622.05362\n",
       "2   89627.50        0               16  11440.79806\n",
       "3   95276.14        0                7  43167.32682\n",
       "4  117384.68        1                8  12770.11290"
      ]
     },
     "execution_count": 9,
     "metadata": {},
     "output_type": "execute_result"
    }
   ],
   "source": [
    "del df_carros['Unnamed: 0']\n",
    "del df_carros['milhas_por_ano']\n",
    "del df_carros['ano_do_modelo']\n",
    "\n",
    "df_carros.head()"
   ]
  },
  {
   "cell_type": "markdown",
   "id": "e2e868eb",
   "metadata": {},
   "source": [
    "### Separando a base entre dados de treino e teste"
   ]
  },
  {
   "cell_type": "code",
   "execution_count": 10,
   "id": "84caeba5",
   "metadata": {},
   "outputs": [],
   "source": [
    "X = df_carros[['preco', 'idade_do_modelo', 'km_por_ano']]\n",
    "y = df_carros['vendido']"
   ]
  },
  {
   "cell_type": "code",
   "execution_count": 11,
   "id": "6dd7ab06",
   "metadata": {},
   "outputs": [
    {
     "name": "stdout",
     "output_type": "stream",
     "text": [
      "Treino com 7500 anúncios de carro, e teste com 2500 anúncios de carro.\n"
     ]
    }
   ],
   "source": [
    "SEED = 5\n",
    "\n",
    "X_train, X_test, y_train, y_test = train_test_split(X, y, test_size=0.25, random_state=SEED)\n",
    "\n",
    "print(f'Treino com {X_train.shape[0]} anúncios de carro, e teste com {X_test.shape[0]} anúncios de carro.')"
   ]
  },
  {
   "cell_type": "markdown",
   "id": "4756f720",
   "metadata": {},
   "source": [
    "### Parte I - Avaliando com DummyClassifier\n",
    "Se não houvesse modelo nenhum, qual seria meu grau de acertos? Será minha linha de base para comparar com os modelos que serão criados.\n",
    "\n",
    "#### Estratégias utilizadas pelo DummyClassifier:\n",
    "* most_frequent  - sempre retorna o rótulo de classe mais frequente\n",
    "* prior *Default - sempre retorna o rótulo de classe mais frequente\n",
    "* stratified     - proporcional aos dados de entrada\n",
    "* uniform        - gera previsões uniformemente aleatoriamente\n",
    "* constant       - sempre prevê um rótulo constante fornecido pelo usuário\n"
   ]
  },
  {
   "cell_type": "code",
   "execution_count": 12,
   "id": "c32b919e",
   "metadata": {},
   "outputs": [
    {
     "name": "stdout",
     "output_type": "stream",
     "text": [
      "Percentual de acurácia do DummyClassifier most_frequent - 59.16%\n",
      "Percentual de acurácia do DummyClassifier most_frequent - 59.16%\n"
     ]
    }
   ],
   "source": [
    "dummy = DummyClassifier(strategy='most_frequent', random_state=SEED)\n",
    "dummy.fit(X_train, y_train)\n",
    "\n",
    "previsoes = dummy.predict(X_test)\n",
    "\n",
    "taxa_acertos =  accuracy_score(y_test, previsoes) * 100\n",
    "print(f'Percentual de acurácia do DummyClassifier most_frequent - {(taxa_acertos):.2f}%')\n",
    "print(f'Percentual de acurácia do DummyClassifier most_frequent - {(dummy.score(X_test, y_test) * 100):.2f}%')"
   ]
  },
  {
   "cell_type": "code",
   "execution_count": 13,
   "id": "625bcf09",
   "metadata": {},
   "outputs": [
    {
     "name": "stdout",
     "output_type": "stream",
     "text": [
      "Percentual de acurácia do DummyClassifier prior - 59.16%\n",
      "Percentual de acurácia do DummyClassifier prior - 59.16%\n"
     ]
    }
   ],
   "source": [
    "dummy = DummyClassifier(strategy='prior', random_state=SEED)\n",
    "dummy.fit(X_train, y_train)\n",
    "\n",
    "previsoes = dummy.predict(X_test)\n",
    "\n",
    "taxa_acertos =  accuracy_score(y_test, previsoes) * 100\n",
    "print(f'Percentual de acurácia do DummyClassifier prior - {(taxa_acertos):.2f}%')\n",
    "print(f'Percentual de acurácia do DummyClassifier prior - {(dummy.score(X_test, y_test) * 100):.2f}%')"
   ]
  },
  {
   "cell_type": "code",
   "execution_count": 14,
   "id": "e9b8e179",
   "metadata": {},
   "outputs": [
    {
     "name": "stdout",
     "output_type": "stream",
     "text": [
      "Percentual de acurácia do DummyClassifier stratified - 52.00%\n",
      "Percentual de acurácia do DummyClassifier stratified - 52.00%\n"
     ]
    }
   ],
   "source": [
    "dummy = DummyClassifier(strategy='stratified', random_state=SEED)\n",
    "dummy.fit(X_train, y_train)\n",
    "\n",
    "previsoes = dummy.predict(X_test)\n",
    "\n",
    "taxa_acertos =  accuracy_score(y_test, previsoes) * 100\n",
    "print(f'Percentual de acurácia do DummyClassifier stratified - {(taxa_acertos):.2f}%')\n",
    "print(f'Percentual de acurácia do DummyClassifier stratified - {(dummy.score(X_test, y_test) * 100):.2f}%')"
   ]
  },
  {
   "cell_type": "markdown",
   "id": "b0111f12",
   "metadata": {},
   "source": [
    "### Parte II - Gerando o modelo para previsão LinearSVC()\n",
    "1- Intânciar - LinearSVC();</br>\n",
    "2- Treinar - fit();</br>\n",
    "3- Prever - predict();</br>\n",
    "4- Varificação da acurácia."
   ]
  },
  {
   "cell_type": "code",
   "execution_count": 15,
   "id": "08896b99",
   "metadata": {},
   "outputs": [
    {
     "name": "stdout",
     "output_type": "stream",
     "text": [
      "Percentual de acurácia - 59.16%\n"
     ]
    },
    {
     "name": "stderr",
     "output_type": "stream",
     "text": [
      "C:\\Users\\renat\\Envs\\alura_ml_070722\\lib\\site-packages\\sklearn\\svm\\_base.py:1225: ConvergenceWarning: Liblinear failed to converge, increase the number of iterations.\n",
      "  warnings.warn(\n"
     ]
    }
   ],
   "source": [
    "cls_linear_svc = LinearSVC(random_state=SEED)\n",
    "cls_linear_svc.fit(X_train, y_train)\n",
    "\n",
    "previsoes = cls_linear_svc.predict(X_test)\n",
    "\n",
    "taxa_acertos =  accuracy_score(y_test, previsoes) * 100\n",
    "\n",
    "print(f'Percentual de acurácia - {(taxa_acertos):.2f}%')"
   ]
  },
  {
   "cell_type": "markdown",
   "id": "a7e2cf57",
   "metadata": {},
   "source": [
    "<font color='red'>\n",
    "    Modelo LinearSVC() muito ruim, atingindo a mesma acurácia do DummyClassifier\n",
    "</font>"
   ]
  },
  {
   "cell_type": "markdown",
   "id": "430779f6",
   "metadata": {},
   "source": [
    "### Parte III - Gerando o modelo para previsão SVC()\n",
    "1- Reescalando valores;</br>\n",
    "2- Intânciar - LinearSVC();</br>\n",
    "3- Treinar - fit();</br>\n",
    "4- Prever - predict();</br>\n",
    "5- Varificação da acurácia."
   ]
  },
  {
   "cell_type": "code",
   "execution_count": 16,
   "id": "5ca1bcd4",
   "metadata": {},
   "outputs": [],
   "source": [
    "scaler = StandardScaler()\n",
    "\n",
    "scaler.fit(X_train)\n",
    "\n",
    "X_train_scaler = scaler.transform(X_train)\n",
    "X_test_scaler  = scaler.transform(X_test)"
   ]
  },
  {
   "cell_type": "code",
   "execution_count": 17,
   "id": "8414114d",
   "metadata": {},
   "outputs": [
    {
     "name": "stdout",
     "output_type": "stream",
     "text": [
      "Percentual de acurácia - 76.80%\n",
      "Percentual de acurácia - 76.80%\n"
     ]
    }
   ],
   "source": [
    "cls_svc = SVC(random_state=SEED)\n",
    "cls_svc.fit(X_train_scaler, y_train)\n",
    "\n",
    "previsoes = cls_svc.predict(X_test_scaler)\n",
    "\n",
    "taxa_acertos =  accuracy_score(y_test, previsoes) * 100\n",
    "\n",
    "print(f'Percentual de acurácia - {(taxa_acertos):.2f}%')\n",
    "print(f'Percentual de acurácia - {(cls_svc.score(X_test_scaler, y_test) * 100):.2f}%')"
   ]
  },
  {
   "cell_type": "markdown",
   "id": "c0ed9dce",
   "metadata": {},
   "source": [
    "<font color='blue'>\n",
    "    Modelo SVC() alcançou 76,80% de acerto, com uma melhora sobre o modelo aleatório.\n",
    "</font>"
   ]
  },
  {
   "cell_type": "markdown",
   "id": "6fd3454f",
   "metadata": {},
   "source": [
    "### Parte IV - Modelo de árvore de dicisão DecisionTreeClassifier()\n",
    "Modelo interessante:\n",
    "* permite entender qual foi motivo que levou a chegar no valor previsto;\n",
    "* não exige reescalar as features."
   ]
  },
  {
   "cell_type": "code",
   "execution_count": 18,
   "id": "0444bc9b",
   "metadata": {},
   "outputs": [
    {
     "name": "stdout",
     "output_type": "stream",
     "text": [
      "Percentual de acurácia - 73.40%\n",
      "Percentual de acurácia - 73.40%\n"
     ]
    }
   ],
   "source": [
    "cls_tree = DecisionTreeClassifier(random_state=SEED)\n",
    "cls_tree.fit(X_train, y_train)\n",
    "\n",
    "previsoes = cls_tree.predict(X_test)\n",
    "\n",
    "taxa_acertos =  accuracy_score(y_test, previsoes) * 100\n",
    "\n",
    "print(f'Percentual de acurácia - {(taxa_acertos):.2f}%')\n",
    "print(f'Percentual de acurácia - {(cls_tree.score(X_test, y_test) * 100):.2f}%')"
   ]
  },
  {
   "cell_type": "markdown",
   "id": "ba7181b2",
   "metadata": {},
   "source": [
    "Limitando o tamanho da árvore com o atributo max_depth"
   ]
  },
  {
   "cell_type": "code",
   "execution_count": 19,
   "id": "dd9760a7",
   "metadata": {},
   "outputs": [
    {
     "name": "stdout",
     "output_type": "stream",
     "text": [
      "Percentual de acurácia - 78.76%\n",
      "Percentual de acurácia - 78.76%\n"
     ]
    }
   ],
   "source": [
    "cls_tree = DecisionTreeClassifier(random_state=SEED, max_depth=3)\n",
    "cls_tree.fit(X_train, y_train)\n",
    "\n",
    "previsoes = cls_tree.predict(X_test)\n",
    "\n",
    "taxa_acertos =  accuracy_score(y_test, previsoes) * 100\n",
    "\n",
    "print(f'Percentual de acurácia - {(taxa_acertos):.2f}%')\n",
    "print(f'Percentual de acurácia - {(cls_tree.score(X_test, y_test) * 100):.2f}%')"
   ]
  },
  {
   "cell_type": "markdown",
   "id": "158e4972",
   "metadata": {},
   "source": [
    "Para plotar a árvore de decisão é preciso instalaçã do [graphviz](https://graphviz.org/download/) no sistema operacional."
   ]
  },
  {
   "cell_type": "code",
   "execution_count": 20,
   "id": "cb188b03",
   "metadata": {
    "scrolled": false
   },
   "outputs": [
    {
     "data": {
      "image/svg+xml": [
       "<?xml version=\"1.0\" encoding=\"UTF-8\" standalone=\"no\"?>\n",
       "<!DOCTYPE svg PUBLIC \"-//W3C//DTD SVG 1.1//EN\"\n",
       " \"http://www.w3.org/Graphics/SVG/1.1/DTD/svg11.dtd\">\n",
       "<!-- Generated by graphviz version 4.0.0 (20220529.0937)\n",
       " -->\n",
       "<!-- Title: Tree Pages: 1 -->\n",
       "<svg width=\"892pt\" height=\"433pt\"\n",
       " viewBox=\"0.00 0.00 892.00 433.00\" xmlns=\"http://www.w3.org/2000/svg\" xmlns:xlink=\"http://www.w3.org/1999/xlink\">\n",
       "<g id=\"graph0\" class=\"graph\" transform=\"scale(1 1) rotate(0) translate(4 429)\">\n",
       "<title>Tree</title>\n",
       "<polygon fill=\"white\" stroke=\"transparent\" points=\"-4,4 -4,-429 888,-429 888,4 -4,4\"/>\n",
       "<!-- 0 -->\n",
       "<g id=\"node1\" class=\"node\">\n",
       "<title>0</title>\n",
       "<path fill=\"#cbe5f8\" stroke=\"black\" d=\"M391,-425C391,-425 269,-425 269,-425 263,-425 257,-419 257,-413 257,-413 257,-354 257,-354 257,-348 263,-342 269,-342 269,-342 391,-342 391,-342 397,-342 403,-348 403,-354 403,-354 403,-413 403,-413 403,-419 397,-425 391,-425\"/>\n",
       "<text text-anchor=\"middle\" x=\"330\" y=\"-409.8\" font-family=\"Helvetica,sans-Serif\" font-size=\"14.00\">preco &lt;= 59976.24</text>\n",
       "<text text-anchor=\"middle\" x=\"330\" y=\"-394.8\" font-family=\"Helvetica,sans-Serif\" font-size=\"14.00\">gini = 0.488</text>\n",
       "<text text-anchor=\"middle\" x=\"330\" y=\"-379.8\" font-family=\"Helvetica,sans-Serif\" font-size=\"14.00\">samples = 7500</text>\n",
       "<text text-anchor=\"middle\" x=\"330\" y=\"-364.8\" font-family=\"Helvetica,sans-Serif\" font-size=\"14.00\">value = [3179, 4321]</text>\n",
       "<text text-anchor=\"middle\" x=\"330\" y=\"-349.8\" font-family=\"Helvetica,sans-Serif\" font-size=\"14.00\">class = sim</text>\n",
       "</g>\n",
       "<!-- 1 -->\n",
       "<g id=\"node2\" class=\"node\">\n",
       "<title>1</title>\n",
       "<path fill=\"#52aae8\" stroke=\"black\" d=\"M296.5,-306C296.5,-306 173.5,-306 173.5,-306 167.5,-306 161.5,-300 161.5,-294 161.5,-294 161.5,-235 161.5,-235 161.5,-229 167.5,-223 173.5,-223 173.5,-223 296.5,-223 296.5,-223 302.5,-223 308.5,-229 308.5,-235 308.5,-235 308.5,-294 308.5,-294 308.5,-300 302.5,-306 296.5,-306\"/>\n",
       "<text text-anchor=\"middle\" x=\"235\" y=\"-290.8\" font-family=\"Helvetica,sans-Serif\" font-size=\"14.00\">preco &lt;= 40064.574</text>\n",
       "<text text-anchor=\"middle\" x=\"235\" y=\"-275.8\" font-family=\"Helvetica,sans-Serif\" font-size=\"14.00\">gini = 0.201</text>\n",
       "<text text-anchor=\"middle\" x=\"235\" y=\"-260.8\" font-family=\"Helvetica,sans-Serif\" font-size=\"14.00\">samples = 3260</text>\n",
       "<text text-anchor=\"middle\" x=\"235\" y=\"-245.8\" font-family=\"Helvetica,sans-Serif\" font-size=\"14.00\">value = [370, 2890]</text>\n",
       "<text text-anchor=\"middle\" x=\"235\" y=\"-230.8\" font-family=\"Helvetica,sans-Serif\" font-size=\"14.00\">class = sim</text>\n",
       "</g>\n",
       "<!-- 0&#45;&gt;1 -->\n",
       "<g id=\"edge1\" class=\"edge\">\n",
       "<title>0&#45;&gt;1</title>\n",
       "<path fill=\"none\" stroke=\"black\" d=\"M297.04,-341.91C289.75,-332.92 281.94,-323.32 274.42,-314.05\"/>\n",
       "<polygon fill=\"black\" stroke=\"black\" points=\"276.92,-311.58 267.9,-306.02 271.49,-315.99 276.92,-311.58\"/>\n",
       "<text text-anchor=\"middle\" x=\"265.32\" y=\"-327.19\" font-family=\"Helvetica,sans-Serif\" font-size=\"14.00\">True</text>\n",
       "</g>\n",
       "<!-- 6 -->\n",
       "<g id=\"node7\" class=\"node\">\n",
       "<title>6</title>\n",
       "<path fill=\"#f2c19e\" stroke=\"black\" d=\"M549,-306C549,-306 383,-306 383,-306 377,-306 371,-300 371,-294 371,-294 371,-235 371,-235 371,-229 377,-223 383,-223 383,-223 549,-223 549,-223 555,-223 561,-229 561,-235 561,-235 561,-294 561,-294 561,-300 555,-306 549,-306\"/>\n",
       "<text text-anchor=\"middle\" x=\"466\" y=\"-290.8\" font-family=\"Helvetica,sans-Serif\" font-size=\"14.00\">km_por_ano &lt;= 24231.832</text>\n",
       "<text text-anchor=\"middle\" x=\"466\" y=\"-275.8\" font-family=\"Helvetica,sans-Serif\" font-size=\"14.00\">gini = 0.447</text>\n",
       "<text text-anchor=\"middle\" x=\"466\" y=\"-260.8\" font-family=\"Helvetica,sans-Serif\" font-size=\"14.00\">samples = 4240</text>\n",
       "<text text-anchor=\"middle\" x=\"466\" y=\"-245.8\" font-family=\"Helvetica,sans-Serif\" font-size=\"14.00\">value = [2809, 1431]</text>\n",
       "<text text-anchor=\"middle\" x=\"466\" y=\"-230.8\" font-family=\"Helvetica,sans-Serif\" font-size=\"14.00\">class = não</text>\n",
       "</g>\n",
       "<!-- 0&#45;&gt;6 -->\n",
       "<g id=\"edge6\" class=\"edge\">\n",
       "<title>0&#45;&gt;6</title>\n",
       "<path fill=\"none\" stroke=\"black\" d=\"M377.18,-341.91C388.16,-332.47 399.93,-322.34 411.19,-312.65\"/>\n",
       "<polygon fill=\"black\" stroke=\"black\" points=\"413.6,-315.2 418.9,-306.02 409.04,-309.89 413.6,-315.2\"/>\n",
       "<text text-anchor=\"middle\" x=\"417.03\" y=\"-327.25\" font-family=\"Helvetica,sans-Serif\" font-size=\"14.00\">False</text>\n",
       "</g>\n",
       "<!-- 2 -->\n",
       "<g id=\"node3\" class=\"node\">\n",
       "<title>2</title>\n",
       "<path fill=\"#399de5\" stroke=\"black\" d=\"M110,-179.5C110,-179.5 12,-179.5 12,-179.5 6,-179.5 0,-173.5 0,-167.5 0,-167.5 0,-123.5 0,-123.5 0,-117.5 6,-111.5 12,-111.5 12,-111.5 110,-111.5 110,-111.5 116,-111.5 122,-117.5 122,-123.5 122,-123.5 122,-167.5 122,-167.5 122,-173.5 116,-179.5 110,-179.5\"/>\n",
       "<text text-anchor=\"middle\" x=\"61\" y=\"-164.3\" font-family=\"Helvetica,sans-Serif\" font-size=\"14.00\">gini = 0.0</text>\n",
       "<text text-anchor=\"middle\" x=\"61\" y=\"-149.3\" font-family=\"Helvetica,sans-Serif\" font-size=\"14.00\">samples = 1442</text>\n",
       "<text text-anchor=\"middle\" x=\"61\" y=\"-134.3\" font-family=\"Helvetica,sans-Serif\" font-size=\"14.00\">value = [0, 1442]</text>\n",
       "<text text-anchor=\"middle\" x=\"61\" y=\"-119.3\" font-family=\"Helvetica,sans-Serif\" font-size=\"14.00\">class = sim</text>\n",
       "</g>\n",
       "<!-- 1&#45;&gt;2 -->\n",
       "<g id=\"edge2\" class=\"edge\">\n",
       "<title>1&#45;&gt;2</title>\n",
       "<path fill=\"none\" stroke=\"black\" d=\"M174.63,-222.91C156.58,-210.77 136.84,-197.49 118.94,-185.46\"/>\n",
       "<polygon fill=\"black\" stroke=\"black\" points=\"120.58,-182.34 110.33,-179.67 116.67,-188.15 120.58,-182.34\"/>\n",
       "</g>\n",
       "<!-- 3 -->\n",
       "<g id=\"node4\" class=\"node\">\n",
       "<title>3</title>\n",
       "<path fill=\"#6cb6ec\" stroke=\"black\" d=\"M318,-187C318,-187 152,-187 152,-187 146,-187 140,-181 140,-175 140,-175 140,-116 140,-116 140,-110 146,-104 152,-104 152,-104 318,-104 318,-104 324,-104 330,-110 330,-116 330,-116 330,-175 330,-175 330,-181 324,-187 318,-187\"/>\n",
       "<text text-anchor=\"middle\" x=\"235\" y=\"-171.8\" font-family=\"Helvetica,sans-Serif\" font-size=\"14.00\">km_por_ano &lt;= 35765.973</text>\n",
       "<text text-anchor=\"middle\" x=\"235\" y=\"-156.8\" font-family=\"Helvetica,sans-Serif\" font-size=\"14.00\">gini = 0.324</text>\n",
       "<text text-anchor=\"middle\" x=\"235\" y=\"-141.8\" font-family=\"Helvetica,sans-Serif\" font-size=\"14.00\">samples = 1818</text>\n",
       "<text text-anchor=\"middle\" x=\"235\" y=\"-126.8\" font-family=\"Helvetica,sans-Serif\" font-size=\"14.00\">value = [370, 1448]</text>\n",
       "<text text-anchor=\"middle\" x=\"235\" y=\"-111.8\" font-family=\"Helvetica,sans-Serif\" font-size=\"14.00\">class = sim</text>\n",
       "</g>\n",
       "<!-- 1&#45;&gt;3 -->\n",
       "<g id=\"edge3\" class=\"edge\">\n",
       "<title>1&#45;&gt;3</title>\n",
       "<path fill=\"none\" stroke=\"black\" d=\"M235,-222.91C235,-214.65 235,-205.86 235,-197.3\"/>\n",
       "<polygon fill=\"black\" stroke=\"black\" points=\"238.5,-197.02 235,-187.02 231.5,-197.02 238.5,-197.02\"/>\n",
       "</g>\n",
       "<!-- 4 -->\n",
       "<g id=\"node5\" class=\"node\">\n",
       "<title>4</title>\n",
       "<path fill=\"#69b5eb\" stroke=\"black\" d=\"M148,-68C148,-68 34,-68 34,-68 28,-68 22,-62 22,-56 22,-56 22,-12 22,-12 22,-6 28,0 34,0 34,0 148,0 148,0 154,0 160,-6 160,-12 160,-12 160,-56 160,-56 160,-62 154,-68 148,-68\"/>\n",
       "<text text-anchor=\"middle\" x=\"91\" y=\"-52.8\" font-family=\"Helvetica,sans-Serif\" font-size=\"14.00\">gini = 0.313</text>\n",
       "<text text-anchor=\"middle\" x=\"91\" y=\"-37.8\" font-family=\"Helvetica,sans-Serif\" font-size=\"14.00\">samples = 1686</text>\n",
       "<text text-anchor=\"middle\" x=\"91\" y=\"-22.8\" font-family=\"Helvetica,sans-Serif\" font-size=\"14.00\">value = [327, 1359]</text>\n",
       "<text text-anchor=\"middle\" x=\"91\" y=\"-7.8\" font-family=\"Helvetica,sans-Serif\" font-size=\"14.00\">class = sim</text>\n",
       "</g>\n",
       "<!-- 3&#45;&gt;4 -->\n",
       "<g id=\"edge4\" class=\"edge\">\n",
       "<title>3&#45;&gt;4</title>\n",
       "<path fill=\"none\" stroke=\"black\" d=\"M181.38,-103.73C168.79,-94.15 155.39,-83.96 142.87,-74.44\"/>\n",
       "<polygon fill=\"black\" stroke=\"black\" points=\"144.87,-71.57 134.79,-68.3 140.63,-77.14 144.87,-71.57\"/>\n",
       "</g>\n",
       "<!-- 5 -->\n",
       "<g id=\"node6\" class=\"node\">\n",
       "<title>5</title>\n",
       "<path fill=\"#99ccf2\" stroke=\"black\" d=\"M279.5,-68C279.5,-68 190.5,-68 190.5,-68 184.5,-68 178.5,-62 178.5,-56 178.5,-56 178.5,-12 178.5,-12 178.5,-6 184.5,0 190.5,0 190.5,0 279.5,0 279.5,0 285.5,0 291.5,-6 291.5,-12 291.5,-12 291.5,-56 291.5,-56 291.5,-62 285.5,-68 279.5,-68\"/>\n",
       "<text text-anchor=\"middle\" x=\"235\" y=\"-52.8\" font-family=\"Helvetica,sans-Serif\" font-size=\"14.00\">gini = 0.439</text>\n",
       "<text text-anchor=\"middle\" x=\"235\" y=\"-37.8\" font-family=\"Helvetica,sans-Serif\" font-size=\"14.00\">samples = 132</text>\n",
       "<text text-anchor=\"middle\" x=\"235\" y=\"-22.8\" font-family=\"Helvetica,sans-Serif\" font-size=\"14.00\">value = [43, 89]</text>\n",
       "<text text-anchor=\"middle\" x=\"235\" y=\"-7.8\" font-family=\"Helvetica,sans-Serif\" font-size=\"14.00\">class = sim</text>\n",
       "</g>\n",
       "<!-- 3&#45;&gt;5 -->\n",
       "<g id=\"edge5\" class=\"edge\">\n",
       "<title>3&#45;&gt;5</title>\n",
       "<path fill=\"none\" stroke=\"black\" d=\"M235,-103.73C235,-95.52 235,-86.86 235,-78.56\"/>\n",
       "<polygon fill=\"black\" stroke=\"black\" points=\"238.5,-78.3 235,-68.3 231.5,-78.3 238.5,-78.3\"/>\n",
       "</g>\n",
       "<!-- 7 -->\n",
       "<g id=\"node8\" class=\"node\">\n",
       "<title>7</title>\n",
       "<path fill=\"#fbede2\" stroke=\"black\" d=\"M531.5,-187C531.5,-187 400.5,-187 400.5,-187 394.5,-187 388.5,-181 388.5,-175 388.5,-175 388.5,-116 388.5,-116 388.5,-110 394.5,-104 400.5,-104 400.5,-104 531.5,-104 531.5,-104 537.5,-104 543.5,-110 543.5,-116 543.5,-116 543.5,-175 543.5,-175 543.5,-181 537.5,-187 531.5,-187\"/>\n",
       "<text text-anchor=\"middle\" x=\"466\" y=\"-171.8\" font-family=\"Helvetica,sans-Serif\" font-size=\"14.00\">preco &lt;= 100039.566</text>\n",
       "<text text-anchor=\"middle\" x=\"466\" y=\"-156.8\" font-family=\"Helvetica,sans-Serif\" font-size=\"14.00\">gini = 0.497</text>\n",
       "<text text-anchor=\"middle\" x=\"466\" y=\"-141.8\" font-family=\"Helvetica,sans-Serif\" font-size=\"14.00\">samples = 2620</text>\n",
       "<text text-anchor=\"middle\" x=\"466\" y=\"-126.8\" font-family=\"Helvetica,sans-Serif\" font-size=\"14.00\">value = [1412, 1208]</text>\n",
       "<text text-anchor=\"middle\" x=\"466\" y=\"-111.8\" font-family=\"Helvetica,sans-Serif\" font-size=\"14.00\">class = não</text>\n",
       "</g>\n",
       "<!-- 6&#45;&gt;7 -->\n",
       "<g id=\"edge7\" class=\"edge\">\n",
       "<title>6&#45;&gt;7</title>\n",
       "<path fill=\"none\" stroke=\"black\" d=\"M466,-222.91C466,-214.65 466,-205.86 466,-197.3\"/>\n",
       "<polygon fill=\"black\" stroke=\"black\" points=\"469.5,-197.02 466,-187.02 462.5,-197.02 469.5,-197.02\"/>\n",
       "</g>\n",
       "<!-- 10 -->\n",
       "<g id=\"node11\" class=\"node\">\n",
       "<title>10</title>\n",
       "<path fill=\"#e99559\" stroke=\"black\" d=\"M744.5,-187C744.5,-187 613.5,-187 613.5,-187 607.5,-187 601.5,-181 601.5,-175 601.5,-175 601.5,-116 601.5,-116 601.5,-110 607.5,-104 613.5,-104 613.5,-104 744.5,-104 744.5,-104 750.5,-104 756.5,-110 756.5,-116 756.5,-116 756.5,-175 756.5,-175 756.5,-181 750.5,-187 744.5,-187\"/>\n",
       "<text text-anchor=\"middle\" x=\"679\" y=\"-171.8\" font-family=\"Helvetica,sans-Serif\" font-size=\"14.00\">preco &lt;= 100076.957</text>\n",
       "<text text-anchor=\"middle\" x=\"679\" y=\"-156.8\" font-family=\"Helvetica,sans-Serif\" font-size=\"14.00\">gini = 0.237</text>\n",
       "<text text-anchor=\"middle\" x=\"679\" y=\"-141.8\" font-family=\"Helvetica,sans-Serif\" font-size=\"14.00\">samples = 1620</text>\n",
       "<text text-anchor=\"middle\" x=\"679\" y=\"-126.8\" font-family=\"Helvetica,sans-Serif\" font-size=\"14.00\">value = [1397, 223]</text>\n",
       "<text text-anchor=\"middle\" x=\"679\" y=\"-111.8\" font-family=\"Helvetica,sans-Serif\" font-size=\"14.00\">class = não</text>\n",
       "</g>\n",
       "<!-- 6&#45;&gt;10 -->\n",
       "<g id=\"edge10\" class=\"edge\">\n",
       "<title>6&#45;&gt;10</title>\n",
       "<path fill=\"none\" stroke=\"black\" d=\"M539.9,-222.91C558.16,-212.88 577.83,-202.07 596.46,-191.84\"/>\n",
       "<polygon fill=\"black\" stroke=\"black\" points=\"598.15,-194.9 605.23,-187.02 594.78,-188.77 598.15,-194.9\"/>\n",
       "</g>\n",
       "<!-- 8 -->\n",
       "<g id=\"node9\" class=\"node\">\n",
       "<title>8</title>\n",
       "<path fill=\"#f8dfcc\" stroke=\"black\" d=\"M436,-68C436,-68 322,-68 322,-68 316,-68 310,-62 310,-56 310,-56 310,-12 310,-12 310,-6 316,0 322,0 322,0 436,0 436,0 442,0 448,-6 448,-12 448,-12 448,-56 448,-56 448,-62 442,-68 436,-68\"/>\n",
       "<text text-anchor=\"middle\" x=\"379\" y=\"-52.8\" font-family=\"Helvetica,sans-Serif\" font-size=\"14.00\">gini = 0.489</text>\n",
       "<text text-anchor=\"middle\" x=\"379\" y=\"-37.8\" font-family=\"Helvetica,sans-Serif\" font-size=\"14.00\">samples = 2211</text>\n",
       "<text text-anchor=\"middle\" x=\"379\" y=\"-22.8\" font-family=\"Helvetica,sans-Serif\" font-size=\"14.00\">value = [1269, 942]</text>\n",
       "<text text-anchor=\"middle\" x=\"379\" y=\"-7.8\" font-family=\"Helvetica,sans-Serif\" font-size=\"14.00\">class = não</text>\n",
       "</g>\n",
       "<!-- 7&#45;&gt;8 -->\n",
       "<g id=\"edge8\" class=\"edge\">\n",
       "<title>7&#45;&gt;8</title>\n",
       "<path fill=\"none\" stroke=\"black\" d=\"M433.6,-103.73C426.5,-94.79 418.98,-85.32 411.86,-76.36\"/>\n",
       "<polygon fill=\"black\" stroke=\"black\" points=\"414.42,-73.95 405.46,-68.3 408.94,-78.31 414.42,-73.95\"/>\n",
       "</g>\n",
       "<!-- 9 -->\n",
       "<g id=\"node10\" class=\"node\">\n",
       "<title>9</title>\n",
       "<path fill=\"#a3d2f3\" stroke=\"black\" d=\"M584,-68C584,-68 478,-68 478,-68 472,-68 466,-62 466,-56 466,-56 466,-12 466,-12 466,-6 472,0 478,0 478,0 584,0 584,0 590,0 596,-6 596,-12 596,-12 596,-56 596,-56 596,-62 590,-68 584,-68\"/>\n",
       "<text text-anchor=\"middle\" x=\"531\" y=\"-52.8\" font-family=\"Helvetica,sans-Serif\" font-size=\"14.00\">gini = 0.455</text>\n",
       "<text text-anchor=\"middle\" x=\"531\" y=\"-37.8\" font-family=\"Helvetica,sans-Serif\" font-size=\"14.00\">samples = 409</text>\n",
       "<text text-anchor=\"middle\" x=\"531\" y=\"-22.8\" font-family=\"Helvetica,sans-Serif\" font-size=\"14.00\">value = [143, 266]</text>\n",
       "<text text-anchor=\"middle\" x=\"531\" y=\"-7.8\" font-family=\"Helvetica,sans-Serif\" font-size=\"14.00\">class = sim</text>\n",
       "</g>\n",
       "<!-- 7&#45;&gt;9 -->\n",
       "<g id=\"edge9\" class=\"edge\">\n",
       "<title>7&#45;&gt;9</title>\n",
       "<path fill=\"none\" stroke=\"black\" d=\"M490.2,-103.73C495.4,-94.97 500.9,-85.7 506.12,-76.91\"/>\n",
       "<polygon fill=\"black\" stroke=\"black\" points=\"509.14,-78.69 511.23,-68.3 503.12,-75.11 509.14,-78.69\"/>\n",
       "</g>\n",
       "<!-- 11 -->\n",
       "<g id=\"node12\" class=\"node\">\n",
       "<title>11</title>\n",
       "<path fill=\"#e68642\" stroke=\"black\" d=\"M732,-68C732,-68 626,-68 626,-68 620,-68 614,-62 614,-56 614,-56 614,-12 614,-12 614,-6 620,0 626,0 626,0 732,0 732,0 738,0 744,-6 744,-12 744,-12 744,-56 744,-56 744,-62 738,-68 732,-68\"/>\n",
       "<text text-anchor=\"middle\" x=\"679\" y=\"-52.8\" font-family=\"Helvetica,sans-Serif\" font-size=\"14.00\">gini = 0.08</text>\n",
       "<text text-anchor=\"middle\" x=\"679\" y=\"-37.8\" font-family=\"Helvetica,sans-Serif\" font-size=\"14.00\">samples = 1370</text>\n",
       "<text text-anchor=\"middle\" x=\"679\" y=\"-22.8\" font-family=\"Helvetica,sans-Serif\" font-size=\"14.00\">value = [1313, 57]</text>\n",
       "<text text-anchor=\"middle\" x=\"679\" y=\"-7.8\" font-family=\"Helvetica,sans-Serif\" font-size=\"14.00\">class = não</text>\n",
       "</g>\n",
       "<!-- 10&#45;&gt;11 -->\n",
       "<g id=\"edge11\" class=\"edge\">\n",
       "<title>10&#45;&gt;11</title>\n",
       "<path fill=\"none\" stroke=\"black\" d=\"M679,-103.73C679,-95.52 679,-86.86 679,-78.56\"/>\n",
       "<polygon fill=\"black\" stroke=\"black\" points=\"682.5,-78.3 679,-68.3 675.5,-78.3 682.5,-78.3\"/>\n",
       "</g>\n",
       "<!-- 12 -->\n",
       "<g id=\"node13\" class=\"node\">\n",
       "<title>12</title>\n",
       "<path fill=\"#9dcff2\" stroke=\"black\" d=\"M872,-68C872,-68 774,-68 774,-68 768,-68 762,-62 762,-56 762,-56 762,-12 762,-12 762,-6 768,0 774,0 774,0 872,0 872,0 878,0 884,-6 884,-12 884,-12 884,-56 884,-56 884,-62 878,-68 872,-68\"/>\n",
       "<text text-anchor=\"middle\" x=\"823\" y=\"-52.8\" font-family=\"Helvetica,sans-Serif\" font-size=\"14.00\">gini = 0.446</text>\n",
       "<text text-anchor=\"middle\" x=\"823\" y=\"-37.8\" font-family=\"Helvetica,sans-Serif\" font-size=\"14.00\">samples = 250</text>\n",
       "<text text-anchor=\"middle\" x=\"823\" y=\"-22.8\" font-family=\"Helvetica,sans-Serif\" font-size=\"14.00\">value = [84, 166]</text>\n",
       "<text text-anchor=\"middle\" x=\"823\" y=\"-7.8\" font-family=\"Helvetica,sans-Serif\" font-size=\"14.00\">class = sim</text>\n",
       "</g>\n",
       "<!-- 10&#45;&gt;12 -->\n",
       "<g id=\"edge12\" class=\"edge\">\n",
       "<title>10&#45;&gt;12</title>\n",
       "<path fill=\"none\" stroke=\"black\" d=\"M732.62,-103.73C745.21,-94.15 758.61,-83.96 771.13,-74.44\"/>\n",
       "<polygon fill=\"black\" stroke=\"black\" points=\"773.37,-77.14 779.21,-68.3 769.13,-71.57 773.37,-77.14\"/>\n",
       "</g>\n",
       "</g>\n",
       "</svg>\n"
      ],
      "text/plain": [
       "<graphviz.sources.Source at 0x23e1554ac80>"
      ]
     },
     "execution_count": 20,
     "metadata": {},
     "output_type": "execute_result"
    }
   ],
   "source": [
    "dot_data = export_graphviz(\n",
    "    cls_tree,                                  # Modelo \n",
    "    feature_names=X_train.columns,             # Nomes dos atributos independentes\n",
    "    class_names=['não', 'sim'],                # Nomes dos atributos dependentes\n",
    "    filled=True,                               # Preencher verdadeiro\n",
    "    rotate=False,                              # Plotar True-horizontal ou False-Vertical\n",
    "    rounded=True                               # Arredondado\n",
    ")\n",
    "\n",
    "graphviz.Source(dot_data)"
   ]
  }
 ],
 "metadata": {
  "kernelspec": {
   "display_name": "Python 3 (ipykernel)",
   "language": "python",
   "name": "python3"
  },
  "language_info": {
   "codemirror_mode": {
    "name": "ipython",
    "version": 3
   },
   "file_extension": ".py",
   "mimetype": "text/x-python",
   "name": "python",
   "nbconvert_exporter": "python",
   "pygments_lexer": "ipython3",
   "version": "3.10.4"
  }
 },
 "nbformat": 4,
 "nbformat_minor": 5
}
