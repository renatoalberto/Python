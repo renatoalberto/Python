{
 "cells": [
  {
   "cell_type": "markdown",
   "id": "5e0f01cf",
   "metadata": {},
   "source": [
    "# Projeto 3\n",
    "\n",
    "### Alura - Curso: Machine Learning: classificação com SKLearn</br>Professor Guilherme Silveira</br>14/07/2022 \n",
    "\n",
    "#### Base de dados contendo pesquisas realizadas em um site:\n",
    "* home - representa a página principal;\n",
    "* busca - texto informado no campo de pesquisa;\n",
    "* logado - se usuário estava logado;\n",
    "* comprou - (1-comprou) ou (2-não comprou) algum curso."
   ]
  },
  {
   "cell_type": "code",
   "execution_count": 1,
   "id": "99ead167",
   "metadata": {},
   "outputs": [],
   "source": [
    "import pandas as pd\n",
    "import matplotlib.pyplot as plt\n",
    "\n",
    "from sklearn.dummy import DummyClassifier\n",
    "from sklearn.naive_bayes import MultinomialNB\n",
    "from sklearn.ensemble import AdaBoostClassifier\n",
    "from sklearn.metrics import accuracy_score, confusion_matrix, classification_report\n",
    "from sklearn.model_selection import train_test_split"
   ]
  },
  {
   "cell_type": "code",
   "execution_count": 2,
   "id": "6e8d8e64",
   "metadata": {},
   "outputs": [],
   "source": [
    "# link combinado com /export?gid=0&format=csv já traz no formato csv\n",
    "uri = 'https://docs.google.com/spreadsheets/d/1Ax2LfJ5MK7O8OZBQsgYnHHnGX1qgotpqTjvo9-FURkY/export?gid=0&format=csv'\n",
    "\n",
    "df_pesquisas = pd.read_csv(uri)"
   ]
  },
  {
   "cell_type": "code",
   "execution_count": 3,
   "id": "758bc037",
   "metadata": {},
   "outputs": [
    {
     "data": {
      "text/html": [
       "<div>\n",
       "<style scoped>\n",
       "    .dataframe tbody tr th:only-of-type {\n",
       "        vertical-align: middle;\n",
       "    }\n",
       "\n",
       "    .dataframe tbody tr th {\n",
       "        vertical-align: top;\n",
       "    }\n",
       "\n",
       "    .dataframe thead th {\n",
       "        text-align: right;\n",
       "    }\n",
       "</style>\n",
       "<table border=\"1\" class=\"dataframe\">\n",
       "  <thead>\n",
       "    <tr style=\"text-align: right;\">\n",
       "      <th></th>\n",
       "      <th>home</th>\n",
       "      <th>busca</th>\n",
       "      <th>logado</th>\n",
       "      <th>comprou</th>\n",
       "    </tr>\n",
       "  </thead>\n",
       "  <tbody>\n",
       "    <tr>\n",
       "      <th>0</th>\n",
       "      <td>0</td>\n",
       "      <td>algoritmos</td>\n",
       "      <td>1</td>\n",
       "      <td>1</td>\n",
       "    </tr>\n",
       "    <tr>\n",
       "      <th>1</th>\n",
       "      <td>0</td>\n",
       "      <td>java</td>\n",
       "      <td>0</td>\n",
       "      <td>1</td>\n",
       "    </tr>\n",
       "    <tr>\n",
       "      <th>2</th>\n",
       "      <td>1</td>\n",
       "      <td>algoritmos</td>\n",
       "      <td>0</td>\n",
       "      <td>1</td>\n",
       "    </tr>\n",
       "    <tr>\n",
       "      <th>3</th>\n",
       "      <td>1</td>\n",
       "      <td>ruby</td>\n",
       "      <td>1</td>\n",
       "      <td>0</td>\n",
       "    </tr>\n",
       "    <tr>\n",
       "      <th>4</th>\n",
       "      <td>1</td>\n",
       "      <td>ruby</td>\n",
       "      <td>0</td>\n",
       "      <td>1</td>\n",
       "    </tr>\n",
       "  </tbody>\n",
       "</table>\n",
       "</div>"
      ],
      "text/plain": [
       "   home       busca  logado  comprou\n",
       "0     0  algoritmos       1        1\n",
       "1     0        java       0        1\n",
       "2     1  algoritmos       0        1\n",
       "3     1        ruby       1        0\n",
       "4     1        ruby       0        1"
      ]
     },
     "execution_count": 3,
     "metadata": {},
     "output_type": "execute_result"
    }
   ],
   "source": [
    "df_pesquisas.head()"
   ]
  },
  {
   "cell_type": "markdown",
   "id": "ea0daf93",
   "metadata": {},
   "source": [
    "### Descrevendo variáveis numéricas"
   ]
  },
  {
   "cell_type": "code",
   "execution_count": 4,
   "id": "5cc02d88",
   "metadata": {},
   "outputs": [
    {
     "data": {
      "text/html": [
       "<div>\n",
       "<style scoped>\n",
       "    .dataframe tbody tr th:only-of-type {\n",
       "        vertical-align: middle;\n",
       "    }\n",
       "\n",
       "    .dataframe tbody tr th {\n",
       "        vertical-align: top;\n",
       "    }\n",
       "\n",
       "    .dataframe thead th {\n",
       "        text-align: right;\n",
       "    }\n",
       "</style>\n",
       "<table border=\"1\" class=\"dataframe\">\n",
       "  <thead>\n",
       "    <tr style=\"text-align: right;\">\n",
       "      <th></th>\n",
       "      <th>home</th>\n",
       "      <th>logado</th>\n",
       "      <th>comprou</th>\n",
       "    </tr>\n",
       "  </thead>\n",
       "  <tbody>\n",
       "    <tr>\n",
       "      <th>count</th>\n",
       "      <td>1000.000000</td>\n",
       "      <td>1000.000000</td>\n",
       "      <td>1000.000000</td>\n",
       "    </tr>\n",
       "    <tr>\n",
       "      <th>mean</th>\n",
       "      <td>0.502000</td>\n",
       "      <td>0.509000</td>\n",
       "      <td>0.832000</td>\n",
       "    </tr>\n",
       "    <tr>\n",
       "      <th>std</th>\n",
       "      <td>0.500246</td>\n",
       "      <td>0.500169</td>\n",
       "      <td>0.374053</td>\n",
       "    </tr>\n",
       "    <tr>\n",
       "      <th>min</th>\n",
       "      <td>0.000000</td>\n",
       "      <td>0.000000</td>\n",
       "      <td>0.000000</td>\n",
       "    </tr>\n",
       "    <tr>\n",
       "      <th>25%</th>\n",
       "      <td>0.000000</td>\n",
       "      <td>0.000000</td>\n",
       "      <td>1.000000</td>\n",
       "    </tr>\n",
       "    <tr>\n",
       "      <th>50%</th>\n",
       "      <td>1.000000</td>\n",
       "      <td>1.000000</td>\n",
       "      <td>1.000000</td>\n",
       "    </tr>\n",
       "    <tr>\n",
       "      <th>75%</th>\n",
       "      <td>1.000000</td>\n",
       "      <td>1.000000</td>\n",
       "      <td>1.000000</td>\n",
       "    </tr>\n",
       "    <tr>\n",
       "      <th>max</th>\n",
       "      <td>1.000000</td>\n",
       "      <td>1.000000</td>\n",
       "      <td>1.000000</td>\n",
       "    </tr>\n",
       "  </tbody>\n",
       "</table>\n",
       "</div>"
      ],
      "text/plain": [
       "              home       logado      comprou\n",
       "count  1000.000000  1000.000000  1000.000000\n",
       "mean      0.502000     0.509000     0.832000\n",
       "std       0.500246     0.500169     0.374053\n",
       "min       0.000000     0.000000     0.000000\n",
       "25%       0.000000     0.000000     1.000000\n",
       "50%       1.000000     1.000000     1.000000\n",
       "75%       1.000000     1.000000     1.000000\n",
       "max       1.000000     1.000000     1.000000"
      ]
     },
     "execution_count": 4,
     "metadata": {},
     "output_type": "execute_result"
    }
   ],
   "source": [
    "df_pesquisas.describe()"
   ]
  },
  {
   "cell_type": "markdown",
   "id": "89b75e9a",
   "metadata": {},
   "source": [
    "### Descrevendo variáveis categóricas"
   ]
  },
  {
   "cell_type": "code",
   "execution_count": 5,
   "id": "c3253d89",
   "metadata": {},
   "outputs": [
    {
     "data": {
      "text/plain": [
       "array(['algoritmos', 'java', 'ruby'], dtype=object)"
      ]
     },
     "execution_count": 5,
     "metadata": {},
     "output_type": "execute_result"
    }
   ],
   "source": [
    "df_pesquisas.busca.unique()"
   ]
  },
  {
   "cell_type": "code",
   "execution_count": 6,
   "id": "d760d1cd",
   "metadata": {},
   "outputs": [
    {
     "data": {
      "text/plain": [
       "count     1000\n",
       "unique       3\n",
       "top       ruby\n",
       "freq       361\n",
       "Name: busca, dtype: object"
      ]
     },
     "execution_count": 6,
     "metadata": {},
     "output_type": "execute_result"
    }
   ],
   "source": [
    "df_pesquisas.busca.describe()"
   ]
  },
  {
   "cell_type": "code",
   "execution_count": 7,
   "id": "fe76619c",
   "metadata": {},
   "outputs": [
    {
     "data": {
      "text/plain": [
       "8000"
      ]
     },
     "execution_count": 7,
     "metadata": {},
     "output_type": "execute_result"
    }
   ],
   "source": [
    "# Tamanho em bytes para os dados categóricos antes de converter\n",
    "df_pesquisas.busca.nbytes"
   ]
  },
  {
   "cell_type": "code",
   "execution_count": 8,
   "id": "6c2aec7d",
   "metadata": {},
   "outputs": [],
   "source": [
    "# Transformando em dados categóricos\n",
    "df_pesquisas.busca = df_pesquisas.busca.astype('category')"
   ]
  },
  {
   "cell_type": "code",
   "execution_count": 9,
   "id": "faacbecb",
   "metadata": {},
   "outputs": [
    {
     "data": {
      "text/plain": [
       "1024"
      ]
     },
     "execution_count": 9,
     "metadata": {},
     "output_type": "execute_result"
    }
   ],
   "source": [
    "# Tamanho em bytes para os dados categóricos diminui consideravelmente\n",
    "df_pesquisas.busca.nbytes"
   ]
  },
  {
   "cell_type": "code",
   "execution_count": 10,
   "id": "c815c52e",
   "metadata": {},
   "outputs": [
    {
     "name": "stdout",
     "output_type": "stream",
     "text": [
      "CPU times: total: 0 ns\n",
      "Wall time: 0 ns\n"
     ]
    }
   ],
   "source": [
    "# Tempo de processamento diminui\n",
    "%time teste_tempo_processamento = df_pesquisas.busca == 'ruby'"
   ]
  },
  {
   "cell_type": "markdown",
   "id": "5690a25e",
   "metadata": {},
   "source": [
    "### Visualizando clientes que compraram vs não compraram"
   ]
  },
  {
   "cell_type": "code",
   "execution_count": 11,
   "id": "f2e67a0a",
   "metadata": {},
   "outputs": [
    {
     "name": "stdout",
     "output_type": "stream",
     "text": [
      "1    83.2\n",
      "0    16.8\n",
      "Name: comprou, dtype: float64\n"
     ]
    },
    {
     "data": {
      "image/png": "[encoded data removed]",
      "text/plain": [
       "<Figure size 936x360 with 1 Axes>"
      ]
     },
     "metadata": {
      "needs_background": "light"
     },
     "output_type": "display_data"
    }
   ],
   "source": [
    "print(df_pesquisas['comprou'].value_counts(normalize=True) * 100)\n",
    "\n",
    "plt.figure(figsize=(13, 5))\n",
    "plt.title(\"Comparativo entre cliente que compraram e não compraram\", fontsize=16, pad=20)\n",
    "df_pesquisas['comprou'].value_counts().plot(kind='bar')\n",
    "plt.show()"
   ]
  },
  {
   "cell_type": "markdown",
   "id": "11c03117",
   "metadata": {},
   "source": [
    "<font color='red'>\n",
    "    Quantidades discrepantes, isso significa que se chutarmos sempre 1 teriamos uma chance de acerto de 83,2% para essa base de dados.\n",
    "</font>"
   ]
  },
  {
   "cell_type": "markdown",
   "id": "4c3ee3ab",
   "metadata": {},
   "source": [
    "### Tratamento de variáveis categórica"
   ]
  },
  {
   "cell_type": "code",
   "execution_count": 12,
   "id": "77fb2eed",
   "metadata": {},
   "outputs": [
    {
     "data": {
      "text/html": [
       "<div>\n",
       "<style scoped>\n",
       "    .dataframe tbody tr th:only-of-type {\n",
       "        vertical-align: middle;\n",
       "    }\n",
       "\n",
       "    .dataframe tbody tr th {\n",
       "        vertical-align: top;\n",
       "    }\n",
       "\n",
       "    .dataframe thead th {\n",
       "        text-align: right;\n",
       "    }\n",
       "</style>\n",
       "<table border=\"1\" class=\"dataframe\">\n",
       "  <thead>\n",
       "    <tr style=\"text-align: right;\">\n",
       "      <th></th>\n",
       "      <th>algoritmos</th>\n",
       "      <th>java</th>\n",
       "      <th>ruby</th>\n",
       "    </tr>\n",
       "  </thead>\n",
       "  <tbody>\n",
       "    <tr>\n",
       "      <th>0</th>\n",
       "      <td>1</td>\n",
       "      <td>0</td>\n",
       "      <td>0</td>\n",
       "    </tr>\n",
       "    <tr>\n",
       "      <th>1</th>\n",
       "      <td>0</td>\n",
       "      <td>1</td>\n",
       "      <td>0</td>\n",
       "    </tr>\n",
       "    <tr>\n",
       "      <th>2</th>\n",
       "      <td>1</td>\n",
       "      <td>0</td>\n",
       "      <td>0</td>\n",
       "    </tr>\n",
       "    <tr>\n",
       "      <th>3</th>\n",
       "      <td>0</td>\n",
       "      <td>0</td>\n",
       "      <td>1</td>\n",
       "    </tr>\n",
       "    <tr>\n",
       "      <th>4</th>\n",
       "      <td>0</td>\n",
       "      <td>0</td>\n",
       "      <td>1</td>\n",
       "    </tr>\n",
       "  </tbody>\n",
       "</table>\n",
       "</div>"
      ],
      "text/plain": [
       "   algoritmos  java  ruby\n",
       "0           1     0     0\n",
       "1           0     1     0\n",
       "2           1     0     0\n",
       "3           0     0     1\n",
       "4           0     0     1"
      ]
     },
     "execution_count": 12,
     "metadata": {},
     "output_type": "execute_result"
    }
   ],
   "source": [
    "df_dummies = pd.get_dummies(df_pesquisas.busca)\n",
    "\n",
    "df_dummies.head()"
   ]
  },
  {
   "cell_type": "code",
   "execution_count": 13,
   "id": "a97db42d",
   "metadata": {},
   "outputs": [
    {
     "data": {
      "text/html": [
       "<div>\n",
       "<style scoped>\n",
       "    .dataframe tbody tr th:only-of-type {\n",
       "        vertical-align: middle;\n",
       "    }\n",
       "\n",
       "    .dataframe tbody tr th {\n",
       "        vertical-align: top;\n",
       "    }\n",
       "\n",
       "    .dataframe thead th {\n",
       "        text-align: right;\n",
       "    }\n",
       "</style>\n",
       "<table border=\"1\" class=\"dataframe\">\n",
       "  <thead>\n",
       "    <tr style=\"text-align: right;\">\n",
       "      <th></th>\n",
       "      <th>home</th>\n",
       "      <th>busca</th>\n",
       "      <th>logado</th>\n",
       "      <th>comprou</th>\n",
       "      <th>algoritmos</th>\n",
       "      <th>java</th>\n",
       "      <th>ruby</th>\n",
       "    </tr>\n",
       "  </thead>\n",
       "  <tbody>\n",
       "    <tr>\n",
       "      <th>0</th>\n",
       "      <td>0</td>\n",
       "      <td>algoritmos</td>\n",
       "      <td>1</td>\n",
       "      <td>1</td>\n",
       "      <td>1</td>\n",
       "      <td>0</td>\n",
       "      <td>0</td>\n",
       "    </tr>\n",
       "    <tr>\n",
       "      <th>1</th>\n",
       "      <td>0</td>\n",
       "      <td>java</td>\n",
       "      <td>0</td>\n",
       "      <td>1</td>\n",
       "      <td>0</td>\n",
       "      <td>1</td>\n",
       "      <td>0</td>\n",
       "    </tr>\n",
       "    <tr>\n",
       "      <th>2</th>\n",
       "      <td>1</td>\n",
       "      <td>algoritmos</td>\n",
       "      <td>0</td>\n",
       "      <td>1</td>\n",
       "      <td>1</td>\n",
       "      <td>0</td>\n",
       "      <td>0</td>\n",
       "    </tr>\n",
       "    <tr>\n",
       "      <th>3</th>\n",
       "      <td>1</td>\n",
       "      <td>ruby</td>\n",
       "      <td>1</td>\n",
       "      <td>0</td>\n",
       "      <td>0</td>\n",
       "      <td>0</td>\n",
       "      <td>1</td>\n",
       "    </tr>\n",
       "    <tr>\n",
       "      <th>4</th>\n",
       "      <td>1</td>\n",
       "      <td>ruby</td>\n",
       "      <td>0</td>\n",
       "      <td>1</td>\n",
       "      <td>0</td>\n",
       "      <td>0</td>\n",
       "      <td>1</td>\n",
       "    </tr>\n",
       "  </tbody>\n",
       "</table>\n",
       "</div>"
      ],
      "text/plain": [
       "   home       busca  logado  comprou  algoritmos  java  ruby\n",
       "0     0  algoritmos       1        1           1     0     0\n",
       "1     0        java       0        1           0     1     0\n",
       "2     1  algoritmos       0        1           1     0     0\n",
       "3     1        ruby       1        0           0     0     1\n",
       "4     1        ruby       0        1           0     0     1"
      ]
     },
     "execution_count": 13,
     "metadata": {},
     "output_type": "execute_result"
    }
   ],
   "source": [
    "df_pesquisas = pd.concat([df_pesquisas, df_dummies], axis=1)\n",
    "\n",
    "df_pesquisas.head()"
   ]
  },
  {
   "cell_type": "markdown",
   "id": "ea2f1868",
   "metadata": {},
   "source": [
    "### Seleção dos atributos independentes X e dependentes y"
   ]
  },
  {
   "cell_type": "code",
   "execution_count": 14,
   "id": "6dfa160f",
   "metadata": {},
   "outputs": [],
   "source": [
    "X = df_pesquisas[['home', 'logado', 'algoritmos', 'java', 'ruby']]\n",
    "y = df_pesquisas['comprou']"
   ]
  },
  {
   "cell_type": "markdown",
   "id": "a269a58b",
   "metadata": {},
   "source": [
    "### Seleção de base de treino 80%, teste 10% e validação 10%\n",
    "Utilizando train_test_split do SKLearn</br>\n",
    "parâmetro test_size informamos 0.2 que representa 20% dos dados para treino</br>\n",
    "stratify informa que a seleção deve ser estratificado de acordo com os atributos dependentes y</br>\n",
    "random_state para termos os mesmos resultados sem que for reexecutado."
   ]
  },
  {
   "cell_type": "code",
   "execution_count": 15,
   "id": "a31a0cec",
   "metadata": {},
   "outputs": [
    {
     "name": "stdout",
     "output_type": "stream",
     "text": [
      "Treino com 800 usuarios\n",
      "Serão divididos entre teste e validação - 200 usuários.\n"
     ]
    }
   ],
   "source": [
    "SEED = 20\n",
    "\n",
    "X_train, X_test, y_train, y_test = train_test_split(X, y, test_size=0.2, stratify=y, random_state=SEED)\n",
    "\n",
    "print(f'Treino com {X_train.shape[0]} usuarios')\n",
    "print(f'Serão divididos entre teste e validação - {X_test.shape[0]} usuários.')"
   ]
  },
  {
   "cell_type": "code",
   "execution_count": 16,
   "id": "a9cf2562",
   "metadata": {},
   "outputs": [
    {
     "name": "stdout",
     "output_type": "stream",
     "text": [
      "Teste com 100 usuarios, e validação com 100 usuários.\n"
     ]
    }
   ],
   "source": [
    "X_test, X_validation, y_test, y_validation = train_test_split(X_test, y_test, test_size=0.5, stratify=y_test, random_state=SEED)\n",
    "\n",
    "print(f'Teste com {X_test.shape[0]} usuarios, e validação com {X_validation.shape[0]} usuários.')"
   ]
  },
  {
   "cell_type": "markdown",
   "id": "864324d9",
   "metadata": {},
   "source": [
    "### Avaliando com um modelo DummyClassifier\n",
    "Se não houvesse modelo nenhum, qual seria meu grau de acertos? Será minha linha de base para comparar com os modelos que serão criados.\n",
    "\n",
    "#### Estratégias utilizadas pelo DummyClassifier:\n",
    "* most_frequent  - sempre retorna o rótulo de classe mais frequente\n",
    "* prior *Default - sempre retorna o rótulo de classe mais frequente\n",
    "* stratified     - proporcional aos dados de entrada\n",
    "* uniform        - gera previsões uniformemente aleatoriamente\n",
    "* constant       - sempre prevê um rótulo constante fornecido pelo usuário"
   ]
  },
  {
   "cell_type": "code",
   "execution_count": 17,
   "id": "8d870749",
   "metadata": {},
   "outputs": [
    {
     "name": "stdout",
     "output_type": "stream",
     "text": [
      "Percentual de acurácia do DummyClassifier most_frequent - 83.00%\n",
      "Percentual de acurácia do DummyClassifier most_frequent - 83.00%\n"
     ]
    }
   ],
   "source": [
    "dummy = DummyClassifier(strategy='most_frequent', random_state=SEED)\n",
    "dummy.fit(X_train, y_train)\n",
    "\n",
    "previsoes = dummy.predict(X_test)\n",
    "\n",
    "taxa_acertos =  accuracy_score(y_test, previsoes) * 100\n",
    "print(f'Percentual de acurácia do DummyClassifier most_frequent - {(taxa_acertos):.2f}%')\n",
    "print(f'Percentual de acurácia do DummyClassifier most_frequent - {(dummy.score(X_test, y_test) * 100):.2f}%')"
   ]
  },
  {
   "cell_type": "code",
   "execution_count": 18,
   "id": "946c3159",
   "metadata": {},
   "outputs": [
    {
     "name": "stdout",
     "output_type": "stream",
     "text": [
      "Percentual de acurácia do DummyClassifier prior - 83.00%\n",
      "Percentual de acurácia do DummyClassifier prior - 83.00%\n"
     ]
    }
   ],
   "source": [
    "dummy = DummyClassifier(strategy='prior', random_state=SEED)\n",
    "dummy.fit(X_train, y_train)\n",
    "\n",
    "previsoes = dummy.predict(X_test)\n",
    "\n",
    "taxa_acertos =  accuracy_score(y_test, previsoes) * 100\n",
    "print(f'Percentual de acurácia do DummyClassifier prior - {(taxa_acertos):.2f}%')\n",
    "print(f'Percentual de acurácia do DummyClassifier prior - {(dummy.score(X_test, y_test) * 100):.2f}%')"
   ]
  },
  {
   "cell_type": "code",
   "execution_count": 19,
   "id": "6a8256d1",
   "metadata": {},
   "outputs": [
    {
     "name": "stdout",
     "output_type": "stream",
     "text": [
      "Percentual de acurácia do DummyClassifier stratified - 72.00%\n",
      "Percentual de acurácia do DummyClassifier stratified - 72.00%\n"
     ]
    }
   ],
   "source": [
    "dummy = DummyClassifier(strategy='stratified', random_state=SEED)\n",
    "dummy.fit(X_train, y_train)\n",
    "\n",
    "previsoes = dummy.predict(X_test)\n",
    "\n",
    "taxa_acertos =  accuracy_score(y_test, previsoes) * 100\n",
    "print(f'Percentual de acurácia do DummyClassifier stratified - {(taxa_acertos):.2f}%')\n",
    "print(f'Percentual de acurácia do DummyClassifier stratified - {(dummy.score(X_test, y_test) * 100):.2f}%')"
   ]
  },
  {
   "cell_type": "markdown",
   "id": "fb14ea60",
   "metadata": {},
   "source": [
    "<font color='green'>Com o modelo aleatório alcançamos 83% de acerto, essa é a linha de base para comparação de novos modelos.</font>"
   ]
  },
  {
   "cell_type": "markdown",
   "id": "20e5dbcf",
   "metadata": {},
   "source": [
    "### Criando o modelo MultinomialNB da biblioteca SKLearn\n",
    "* instânciar;\n",
    "* treinar;\n",
    "* prever;\n",
    "* avaliar."
   ]
  },
  {
   "cell_type": "code",
   "execution_count": 20,
   "id": "e2483bfb",
   "metadata": {},
   "outputs": [
    {
     "name": "stdout",
     "output_type": "stream",
     "text": [
      "Total de acertos - 83\n",
      "Percentual de acurácia - 83.00%\n",
      "Percentual de acurácia - 83.00%\n",
      "Percentual de acurácia - 83.00%\n"
     ]
    }
   ],
   "source": [
    "# instânciar\n",
    "cls_multinomial_nb = MultinomialNB()\n",
    "\n",
    "# treinar\n",
    "cls_multinomial_nb.fit(X_train, y_train)\n",
    "\n",
    "# prever\n",
    "previsoes = cls_multinomial_nb.predict(X_test)\n",
    "\n",
    "# avaliar\n",
    "acertos = (previsoes == y_test).sum()\n",
    "print(f'Total de acertos - {acertos}')\n",
    "\n",
    "taxa_acertos =  (acertos / X_test.shape[0]) * 100\n",
    "print(f'Percentual de acurácia - {(taxa_acertos):.2f}%')\n",
    "\n",
    "taxa_acertos =  accuracy_score(y_test, previsoes) * 100\n",
    "print(f'Percentual de acurácia - {(taxa_acertos):.2f}%')\n",
    "\n",
    "taxa_acertos =  cls_multinomial_nb.score(X_test, y_test) * 100\n",
    "print(f'Percentual de acurácia - {(taxa_acertos):.2f}%')"
   ]
  },
  {
   "cell_type": "markdown",
   "id": "a90953c4",
   "metadata": {},
   "source": [
    "<font color='red'>Modelo considerado ruim, pois conseguiu somente alcançar a acurácio do modelo aleatório, que retorna sem 1 por exemplo.</font>"
   ]
  },
  {
   "cell_type": "markdown",
   "id": "888359c6",
   "metadata": {},
   "source": [
    "### AdaBoost\n",
    "Estimador: DecisionTreeClassifier"
   ]
  },
  {
   "cell_type": "code",
   "execution_count": 21,
   "id": "a8ab3bf6",
   "metadata": {},
   "outputs": [],
   "source": [
    "mapa = {0: 'nao', 1: 'sim'}"
   ]
  },
  {
   "cell_type": "code",
   "execution_count": 22,
   "id": "10ce0655",
   "metadata": {},
   "outputs": [
    {
     "name": "stdout",
     "output_type": "stream",
     "text": [
      "Classificador AdaBoost:\n",
      " AdaBoostClassifier(tree.DecisionTreeClassifier(max_depth=1), algorithm=\"SAMME\", n_estimators=20)\n",
      "\n",
      "--------------------------------------\n",
      "Acurácia da base de treinamento: 0.86\n",
      "--------------------------------------\n",
      "\n",
      "              precision    recall  f1-score   support\n",
      "\n",
      "         nao       0.55      0.35      0.43        17\n",
      "         sim       0.88      0.94      0.91        83\n",
      "\n",
      "    accuracy                           0.84       100\n",
      "   macro avg       0.71      0.65      0.67       100\n",
      "weighted avg       0.82      0.84      0.83       100\n",
      "\n",
      "     nao(prev)  sim(prev)\n",
      "nao          6         11\n",
      "sim          5         78\n"
     ]
    }
   ],
   "source": [
    "# Adaboost com árvores mínimas\n",
    "ada = AdaBoostClassifier()\n",
    "ada.fit(X_train, y_train)\n",
    "\n",
    "previsoes = ada.predict(X_test)\n",
    "\n",
    "print(\"Classificador AdaBoost:\\n AdaBoostClassifier(tree.DecisionTreeClassifier(max_depth=1), algorithm=\\\"SAMME\\\", n_estimators=20)\\n\")\n",
    "print(\"--------------------------------------\")\n",
    "print(\"Acurácia da base de treinamento: {:.2f}\".format(ada.score(X_train, y_train)))\n",
    "print(\"--------------------------------------\", end='\\n\\n')\n",
    "\n",
    "print(classification_report(y_test, previsoes, target_names=mapa.values()))\n",
    "\n",
    "cnf_matrix = confusion_matrix(y_test, previsoes)\n",
    "cnf_table = pd.DataFrame(data=cnf_matrix, index=mapa.values(), columns=[x + \"(prev)\" for x in mapa.values()])\n",
    "print(cnf_table)"
   ]
  },
  {
   "cell_type": "markdown",
   "id": "6253d0cd",
   "metadata": {},
   "source": [
    "### Revendo acurácio de todos os modelos com os Dados de Teste"
   ]
  },
  {
   "cell_type": "code",
   "execution_count": 23,
   "id": "79935d56",
   "metadata": {},
   "outputs": [
    {
     "name": "stdout",
     "output_type": "stream",
     "text": [
      "Percentual de acurácia do DummyClassifier    - 72.00%\n",
      "Percentual de acurácia do MultinomialNB      - 83.00%\n",
      "Percentual de acurácia do AdaBoostClassifier - 84.00%\n"
     ]
    }
   ],
   "source": [
    "taxa_acertos = dummy.score(X_test, y_test) * 100\n",
    "print(f'Percentual de acurácia do DummyClassifier    - {(taxa_acertos):.2f}%')\n",
    "\n",
    "taxa_acertos =  cls_multinomial_nb.score(X_test, y_test) * 100\n",
    "print(f'Percentual de acurácia do MultinomialNB      - {(taxa_acertos):.2f}%')\n",
    "\n",
    "taxa_acertos =  ada.score(X_test, y_test) * 100\n",
    "print(f'Percentual de acurácia do AdaBoostClassifier - {(taxa_acertos):.2f}%')"
   ]
  },
  {
   "cell_type": "markdown",
   "id": "0a183e4e",
   "metadata": {},
   "source": [
    "### Validação final com os Dados de Validação"
   ]
  },
  {
   "cell_type": "code",
   "execution_count": 24,
   "id": "7ffa95cb",
   "metadata": {},
   "outputs": [
    {
     "name": "stdout",
     "output_type": "stream",
     "text": [
      "Percentual de acurácia do DummyClassifier    - 76.00%\n",
      "Percentual de acurácia do MultinomialNB      - 83.00%\n",
      "Percentual de acurácia do AdaBoostClassifier - 81.00%\n"
     ]
    }
   ],
   "source": [
    "taxa_acertos = dummy.score(X_validation, y_validation) * 100\n",
    "print(f'Percentual de acurácia do DummyClassifier    - {(taxa_acertos):.2f}%')\n",
    "\n",
    "taxa_acertos =  cls_multinomial_nb.score(X_validation, y_validation) * 100\n",
    "print(f'Percentual de acurácia do MultinomialNB      - {(taxa_acertos):.2f}%')\n",
    "\n",
    "taxa_acertos =  ada.score(X_validation, y_validation) * 100\n",
    "print(f'Percentual de acurácia do AdaBoostClassifier - {(taxa_acertos):.2f}%')"
   ]
  },
  {
   "cell_type": "markdown",
   "id": "0e7792d6",
   "metadata": {},
   "source": [
    "### Avaliando se o atributo fosse 'sim' ou 'nao' o modelo ainda funcionaria"
   ]
  },
  {
   "cell_type": "code",
   "execution_count": 25,
   "id": "538daf0a",
   "metadata": {},
   "outputs": [
    {
     "data": {
      "text/plain": [
       "267    1\n",
       "599    0\n",
       "574    1\n",
       "34     1\n",
       "676    1\n",
       "Name: comprou, dtype: int64"
      ]
     },
     "execution_count": 25,
     "metadata": {},
     "output_type": "execute_result"
    }
   ],
   "source": [
    "y_train_sn = y_train.map(mapa)\n",
    "y_test_sn = y_test.map(mapa)\n",
    "\n",
    "y_train_sn.head()"
   ]
  },
  {
   "cell_type": "code",
   "execution_count": 26,
   "id": "0e827897",
   "metadata": {},
   "outputs": [
    {
     "name": "stdout",
     "output_type": "stream",
     "text": [
      "Total de acertos - 83\n",
      "Percentual de acurácia - 83.00%\n"
     ]
    }
   ],
   "source": [
    "# instânciar\n",
    "cls_multinomial_nb = MultinomialNB()\n",
    "\n",
    "# treinar\n",
    "cls_multinomial_nb.fit(X_train, y_train_sn)\n",
    "\n",
    "# prever\n",
    "previsoes = cls_multinomial_nb.predict(X_test)\n",
    "\n",
    "# avaliar\n",
    "acertos = (previsoes == y_test_sn).sum()\n",
    "print(f'Total de acertos - {acertos}')\n",
    "\n",
    "taxa_acertos =  cls_multinomial_nb.score(X_test, y_test_sn) * 100\n",
    "print(f'Percentual de acurácia - {(taxa_acertos):.2f}%')"
   ]
  },
  {
   "cell_type": "code",
   "execution_count": 27,
   "id": "3c2785de",
   "metadata": {
    "scrolled": true
   },
   "outputs": [
    {
     "data": {
      "text/plain": [
       "array(['sim', 'sim', 'sim', 'sim', 'sim', 'sim', 'sim', 'sim', 'sim',\n",
       "       'sim'], dtype='<U3')"
      ]
     },
     "execution_count": 27,
     "metadata": {},
     "output_type": "execute_result"
    }
   ],
   "source": [
    "previsoes[:10]"
   ]
  }
 ],
 "metadata": {
  "kernelspec": {
   "display_name": "Python 3 (ipykernel)",
   "language": "python",
   "name": "python3"
  },
  "language_info": {
   "codemirror_mode": {
    "name": "ipython",
    "version": 3
   },
   "file_extension": ".py",
   "mimetype": "text/x-python",
   "name": "python",
   "nbconvert_exporter": "python",
   "pygments_lexer": "ipython3",
   "version": "3.10.4"
  }
 },
 "nbformat": 4,
 "nbformat_minor": 5
}
