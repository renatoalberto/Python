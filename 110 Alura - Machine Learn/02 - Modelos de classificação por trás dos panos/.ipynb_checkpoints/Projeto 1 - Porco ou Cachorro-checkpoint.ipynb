{
 "cells": [
  {
   "cell_type": "markdown",
   "id": "ed3869fa",
   "metadata": {},
   "source": [
    "# Projeto 1\n",
    "\n",
    "### Alura - Curso: Machine Learning: classificação com SKLearn</br>Professor Guilherme Silveira</br>07/07/2022 \n",
    "\n",
    "#### A partir de três característica (1-Sim, 0-Não) o estimador deverá dizer se é um porco ou cachorro:\n",
    "1 - Se ele é gordinho. </br>\n",
    "2 - Se ele tem perninha curta.</br> \n",
    "3 - Se ele faz auau.\n"
   ]
  },
  {
   "cell_type": "code",
   "execution_count": 1,
   "id": "4ff1ffda",
   "metadata": {},
   "outputs": [],
   "source": [
    "from sklearn.naive_bayes import MultinomialNB\n",
    "from sklearn.metrics import accuracy_score"
   ]
  },
  {
   "cell_type": "code",
   "execution_count": 2,
   "id": "f4e54d77",
   "metadata": {},
   "outputs": [],
   "source": [
    "porco1 = [1, 1, 0]\n",
    "porco2 = [1, 1, 0]\n",
    "porco3 = [1, 1, 0]\n",
    "\n",
    "cachorro1 = [1, 1, 1]\n",
    "cachorro2 = [0, 1, 1]\n",
    "cachorro3 = [0, 1, 1]"
   ]
  },
  {
   "cell_type": "code",
   "execution_count": 3,
   "id": "bb01e794",
   "metadata": {},
   "outputs": [],
   "source": [
    "# classe (1 - Porco), (-1 - Cachorro)\n",
    "X_train = [porco1, porco2, porco3, cachorro1, cachorro2, cachorro3]\n",
    "y_train = [1, 1, 1, -1, -1, -1]"
   ]
  },
  {
   "cell_type": "markdown",
   "id": "0ac3395e",
   "metadata": {},
   "source": [
    "### Instanciando o modelo MultinomialNB, pacote naive_bayes, biblioteca SKLearn"
   ]
  },
  {
   "cell_type": "code",
   "execution_count": 4,
   "id": "2533afe9",
   "metadata": {},
   "outputs": [],
   "source": [
    "# instanciando\n",
    "cls_multinomial_nb = MultinomialNB()"
   ]
  },
  {
   "cell_type": "markdown",
   "id": "b1291433",
   "metadata": {},
   "source": [
    "### Treinando o modelo MultinomialNB com o método fit()"
   ]
  },
  {
   "cell_type": "code",
   "execution_count": 5,
   "id": "42afff07",
   "metadata": {},
   "outputs": [
    {
     "data": {
      "text/html": [
       "<style>#sk-container-id-1 {color: black;background-color: white;}#sk-container-id-1 pre{padding: 0;}#sk-container-id-1 div.sk-toggleable {background-color: white;}#sk-container-id-1 label.sk-toggleable__label {cursor: pointer;display: block;width: 100%;margin-bottom: 0;padding: 0.3em;box-sizing: border-box;text-align: center;}#sk-container-id-1 label.sk-toggleable__label-arrow:before {content: \"▸\";float: left;margin-right: 0.25em;color: #696969;}#sk-container-id-1 label.sk-toggleable__label-arrow:hover:before {color: black;}#sk-container-id-1 div.sk-estimator:hover label.sk-toggleable__label-arrow:before {color: black;}#sk-container-id-1 div.sk-toggleable__content {max-height: 0;max-width: 0;overflow: hidden;text-align: left;background-color: #f0f8ff;}#sk-container-id-1 div.sk-toggleable__content pre {margin: 0.2em;color: black;border-radius: 0.25em;background-color: #f0f8ff;}#sk-container-id-1 input.sk-toggleable__control:checked~div.sk-toggleable__content {max-height: 200px;max-width: 100%;overflow: auto;}#sk-container-id-1 input.sk-toggleable__control:checked~label.sk-toggleable__label-arrow:before {content: \"▾\";}#sk-container-id-1 div.sk-estimator input.sk-toggleable__control:checked~label.sk-toggleable__label {background-color: #d4ebff;}#sk-container-id-1 div.sk-label input.sk-toggleable__control:checked~label.sk-toggleable__label {background-color: #d4ebff;}#sk-container-id-1 input.sk-hidden--visually {border: 0;clip: rect(1px 1px 1px 1px);clip: rect(1px, 1px, 1px, 1px);height: 1px;margin: -1px;overflow: hidden;padding: 0;position: absolute;width: 1px;}#sk-container-id-1 div.sk-estimator {font-family: monospace;background-color: #f0f8ff;border: 1px dotted black;border-radius: 0.25em;box-sizing: border-box;margin-bottom: 0.5em;}#sk-container-id-1 div.sk-estimator:hover {background-color: #d4ebff;}#sk-container-id-1 div.sk-parallel-item::after {content: \"\";width: 100%;border-bottom: 1px solid gray;flex-grow: 1;}#sk-container-id-1 div.sk-label:hover label.sk-toggleable__label {background-color: #d4ebff;}#sk-container-id-1 div.sk-serial::before {content: \"\";position: absolute;border-left: 1px solid gray;box-sizing: border-box;top: 0;bottom: 0;left: 50%;z-index: 0;}#sk-container-id-1 div.sk-serial {display: flex;flex-direction: column;align-items: center;background-color: white;padding-right: 0.2em;padding-left: 0.2em;position: relative;}#sk-container-id-1 div.sk-item {position: relative;z-index: 1;}#sk-container-id-1 div.sk-parallel {display: flex;align-items: stretch;justify-content: center;background-color: white;position: relative;}#sk-container-id-1 div.sk-item::before, #sk-container-id-1 div.sk-parallel-item::before {content: \"\";position: absolute;border-left: 1px solid gray;box-sizing: border-box;top: 0;bottom: 0;left: 50%;z-index: -1;}#sk-container-id-1 div.sk-parallel-item {display: flex;flex-direction: column;z-index: 1;position: relative;background-color: white;}#sk-container-id-1 div.sk-parallel-item:first-child::after {align-self: flex-end;width: 50%;}#sk-container-id-1 div.sk-parallel-item:last-child::after {align-self: flex-start;width: 50%;}#sk-container-id-1 div.sk-parallel-item:only-child::after {width: 0;}#sk-container-id-1 div.sk-dashed-wrapped {border: 1px dashed gray;margin: 0 0.4em 0.5em 0.4em;box-sizing: border-box;padding-bottom: 0.4em;background-color: white;}#sk-container-id-1 div.sk-label label {font-family: monospace;font-weight: bold;display: inline-block;line-height: 1.2em;}#sk-container-id-1 div.sk-label-container {text-align: center;}#sk-container-id-1 div.sk-container {/* jupyter's `normalize.less` sets `[hidden] { display: none; }` but bootstrap.min.css set `[hidden] { display: none !important; }` so we also need the `!important` here to be able to override the default hidden behavior on the sphinx rendered scikit-learn.org. See: https://github.com/scikit-learn/scikit-learn/issues/21755 */display: inline-block !important;position: relative;}#sk-container-id-1 div.sk-text-repr-fallback {display: none;}</style><div id=\"sk-container-id-1\" class=\"sk-top-container\"><div class=\"sk-text-repr-fallback\"><pre>MultinomialNB()</pre><b>In a Jupyter environment, please rerun this cell to show the HTML representation or trust the notebook. <br />On GitHub, the HTML representation is unable to render, please try loading this page with nbviewer.org.</b></div><div class=\"sk-container\" hidden><div class=\"sk-item\"><div class=\"sk-estimator sk-toggleable\"><input class=\"sk-toggleable__control sk-hidden--visually\" id=\"sk-estimator-id-1\" type=\"checkbox\" checked><label for=\"sk-estimator-id-1\" class=\"sk-toggleable__label sk-toggleable__label-arrow\">MultinomialNB</label><div class=\"sk-toggleable__content\"><pre>MultinomialNB()</pre></div></div></div></div></div>"
      ],
      "text/plain": [
       "MultinomialNB()"
      ]
     },
     "execution_count": 5,
     "metadata": {},
     "output_type": "execute_result"
    }
   ],
   "source": [
    "# treinando\n",
    "cls_multinomial_nb.fit(X=X_train, y=y_train)"
   ]
  },
  {
   "cell_type": "markdown",
   "id": "51938923",
   "metadata": {},
   "source": [
    "### Estimando um animal não conhecido com o método predict()"
   ]
  },
  {
   "cell_type": "code",
   "execution_count": 6,
   "id": "a3d1b1b1",
   "metadata": {},
   "outputs": [],
   "source": [
    "animal_desconhecido = [1, 1, 1]"
   ]
  },
  {
   "cell_type": "code",
   "execution_count": 7,
   "id": "77336c52",
   "metadata": {},
   "outputs": [
    {
     "data": {
      "text/plain": [
       "array([-1])"
      ]
     },
     "execution_count": 7,
     "metadata": {},
     "output_type": "execute_result"
    }
   ],
   "source": [
    "cls_multinomial_nb.predict([animal_desconhecido])"
   ]
  },
  {
   "cell_type": "markdown",
   "id": "87492e76",
   "metadata": {},
   "source": [
    "### Estimando vários animais desconhecidos"
   ]
  },
  {
   "cell_type": "code",
   "execution_count": 8,
   "id": "fb600797",
   "metadata": {},
   "outputs": [],
   "source": [
    "X_test = [\n",
    "    animal_desconhecido,\n",
    "    [1, 1, 0],\n",
    "    [0, 1, 1],\n",
    "]\n",
    "\n",
    "y_test = [0, 1, 1]"
   ]
  },
  {
   "cell_type": "code",
   "execution_count": 9,
   "id": "27c61f91",
   "metadata": {},
   "outputs": [
    {
     "data": {
      "text/plain": [
       "array([0, 1, 0])"
      ]
     },
     "execution_count": 9,
     "metadata": {},
     "output_type": "execute_result"
    }
   ],
   "source": [
    "previsoes = cls_svc.predict(X_test)\n",
    "previsoes"
   ]
  },
  {
   "cell_type": "markdown",
   "id": "c160907c",
   "metadata": {},
   "source": [
    "### Verificando a acurácio do modelo\n",
    "<font color='green'>Houveram 2 acertos e 1 erro</font>"
   ]
  },
  {
   "cell_type": "code",
   "execution_count": 10,
   "id": "21131393",
   "metadata": {},
   "outputs": [
    {
     "data": {
      "text/plain": [
       "array([ True,  True, False])"
      ]
     },
     "execution_count": 10,
     "metadata": {},
     "output_type": "execute_result"
    }
   ],
   "source": [
    "y_test == previsoes"
   ]
  },
  {
   "cell_type": "code",
   "execution_count": 11,
   "id": "0f1bb794",
   "metadata": {},
   "outputs": [
    {
     "name": "stdout",
     "output_type": "stream",
     "text": [
      "Quantidade de acertos - 2\n"
     ]
    }
   ],
   "source": [
    "acertos = (y_test == previsoes).sum()\n",
    "\n",
    "print(f'Quantidade de acertos - {acertos}')"
   ]
  },
  {
   "cell_type": "code",
   "execution_count": 12,
   "id": "6b6859fb",
   "metadata": {},
   "outputs": [
    {
     "name": "stdout",
     "output_type": "stream",
     "text": [
      "Taxa de acertos - 66.67%\n"
     ]
    }
   ],
   "source": [
    "taxa_acertos = acertos / len(X_test)\n",
    "\n",
    "print(f'Taxa de acertos - {(taxa_acertos * 100):.2f}%')"
   ]
  },
  {
   "cell_type": "markdown",
   "id": "7e3adc79",
   "metadata": {},
   "source": [
    "### Verificando a acurácia com o método accuracy_score()"
   ]
  },
  {
   "cell_type": "code",
   "execution_count": 13,
   "id": "aaa967f0",
   "metadata": {},
   "outputs": [
    {
     "name": "stdout",
     "output_type": "stream",
     "text": [
      "Taxa de acertos - 66.67%\n"
     ]
    }
   ],
   "source": [
    "taxa_acertos = accuracy_score(y_test, previsoes)\n",
    "\n",
    "print(f'Taxa de acertos - {(taxa_acertos * 100):.2f}%')"
   ]
  }
 ],
 "metadata": {
  "kernelspec": {
   "display_name": "Python 3 (ipykernel)",
   "language": "python",
   "name": "python3"
  },
  "language_info": {
   "codemirror_mode": {
    "name": "ipython",
    "version": 3
   },
   "file_extension": ".py",
   "mimetype": "text/x-python",
   "name": "python",
   "nbconvert_exporter": "python",
   "pygments_lexer": "ipython3",
   "version": "3.10.4"
  }
 },
 "nbformat": 4,
 "nbformat_minor": 5
}
