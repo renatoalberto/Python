{
  "nbformat": 4,
  "nbformat_minor": 0,
  "metadata": {
    "colab": {
      "name": "Alura - Python para Data Science - Primeiros Passos.ipynb",
      "provenance": [],
      "collapsed_sections": []
    },
    "kernelspec": {
      "name": "python3",
      "display_name": "Python 3"
    },
    "language_info": {
      "name": "python"
    }
  },
  "cells": [
    {
      "cell_type": "markdown",
      "source": [
        "# Python para Data Science: primeiros passos\n",
        "\n",
        "### Curso: Alura </p> Professor: Guilherme Lima\n",
        "<sub>01/04/2022</sub>"
      ],
      "metadata": {
        "id": "kE-dFUjwjfiT"
      }
    },
    {
      "cell_type": "markdown",
      "source": [
        "##### <strong>Projeto Open Source </strong><br/>\n",
        "Python é uma linguagem de programação popular de código aberto (Open Source). Isso significa que o Python é desenvolvido sob uma licença de código aberto aprovada pela [OSI](https://pt.wikipedia.org/wiki/Open_Source_Initiative), tornando-o livremente utilizável e distribuível, mesmo para uso comercial. A licença do Python é administrada pela [Python Software Foundation](https://pt.wikipedia.org/wiki/Python_Software_Foundation)."
      ],
      "metadata": {
        "id": "V-D5keT6AMPg"
      }
    },
    {
      "cell_type": "markdown",
      "source": [
        "## Variáveis"
      ],
      "metadata": {
        "id": "FlPojnc0k7g8"
      }
    },
    {
      "cell_type": "code",
      "execution_count": 1,
      "metadata": {
        "id": "3dFyodZKjIzq"
      },
      "outputs": [],
      "source": [
        "nome = 'Renato'"
      ]
    },
    {
      "cell_type": "code",
      "source": [
        "idade = 2021 - 1983"
      ],
      "metadata": {
        "id": "PAg1WFGckqMz"
      },
      "execution_count": 2,
      "outputs": []
    },
    {
      "cell_type": "code",
      "source": [
        "print(f'Meu nome é {nome} e tenho {idade} anos.')"
      ],
      "metadata": {
        "colab": {
          "base_uri": "https://localhost:8080/"
        },
        "id": "Ebc0N98_kvan",
        "outputId": "f13fa51b-ba02-4c25-cbb7-583981379121"
      },
      "execution_count": 3,
      "outputs": [
        {
          "output_type": "stream",
          "name": "stdout",
          "text": [
            "Meu nome é Renato e tenho 38 anos.\n"
          ]
        }
      ]
    },
    {
      "cell_type": "markdown",
      "source": [
        "## Criando Funções"
      ],
      "metadata": {
        "id": "MsBeosKDk_JK"
      }
    },
    {
      "cell_type": "code",
      "source": [
        "def saudacao():\n",
        "  nome = input('Qual o seu nome? ')\n",
        "  print(f'Olá {nome}')"
      ],
      "metadata": {
        "id": "SQbjZR4Bk3IC"
      },
      "execution_count": 4,
      "outputs": []
    },
    {
      "cell_type": "code",
      "source": [
        "saudacao()"
      ],
      "metadata": {
        "colab": {
          "base_uri": "https://localhost:8080/"
        },
        "id": "5WloL8v9lOEE",
        "outputId": "361c331f-23b5-449a-a253-bc0d7962f0bd"
      },
      "execution_count": 5,
      "outputs": [
        {
          "output_type": "stream",
          "name": "stdout",
          "text": [
            "Qual o seu nome? Renato\n",
            "Olá Renato\n"
          ]
        }
      ]
    },
    {
      "cell_type": "code",
      "source": [
        "def nome_completo():\n",
        " primeiro_nome = input('Qual seu primeiro nome? ')\n",
        " sobrenome = input('Qual seu sobrenome? ')\n",
        " nome_inteiro = primeiro_nome + ' ' + sobrenome\n",
        " print(nome_inteiro)\n",
        "\n",
        "nome_completo()"
      ],
      "metadata": {
        "colab": {
          "base_uri": "https://localhost:8080/"
        },
        "id": "wJg3sVALlUTg",
        "outputId": "adfeff54-7b65-4994-b340-f01c4775252a"
      },
      "execution_count": 6,
      "outputs": [
        {
          "output_type": "stream",
          "name": "stdout",
          "text": [
            "Qual seu primeiro nome? Renato\n",
            "Qual seu sobrenome? Alberto\n",
            "Renato Alberto\n"
          ]
        }
      ]
    },
    {
      "cell_type": "markdown",
      "source": [
        "#### Função com parâmetro"
      ],
      "metadata": {
        "id": "jt5sLUE579tI"
      }
    },
    {
      "cell_type": "code",
      "source": [
        "def saudacao_com_parametro(nome_da_pessoa):\n",
        "  print(f'Olá {nome_da_pessoa}')"
      ],
      "metadata": {
        "id": "NnH0j5Q97ily"
      },
      "execution_count": 7,
      "outputs": []
    },
    {
      "cell_type": "code",
      "source": [
        "saudacao_com_parametro(nome)"
      ],
      "metadata": {
        "colab": {
          "base_uri": "https://localhost:8080/"
        },
        "id": "t1mWxLhR7tFu",
        "outputId": "e0aa8b7d-deb7-49bb-c959-91d8b22f55a5"
      },
      "execution_count": 8,
      "outputs": [
        {
          "output_type": "stream",
          "name": "stdout",
          "text": [
            "Olá Renato\n"
          ]
        }
      ]
    },
    {
      "cell_type": "code",
      "source": [
        "nome = 'Théo'"
      ],
      "metadata": {
        "id": "ttrrd0x47xJv"
      },
      "execution_count": 9,
      "outputs": []
    },
    {
      "cell_type": "code",
      "source": [
        "saudacao_com_parametro(nome)"
      ],
      "metadata": {
        "colab": {
          "base_uri": "https://localhost:8080/"
        },
        "id": "B0XWMHS07zod",
        "outputId": "e0016d4a-74a4-4b9a-e2d3-32bf8791067a"
      },
      "execution_count": 10,
      "outputs": [
        {
          "output_type": "stream",
          "name": "stdout",
          "text": [
            "Olá Théo\n"
          ]
        }
      ]
    },
    {
      "cell_type": "markdown",
      "source": [
        "## Condicional"
      ],
      "metadata": {
        "id": "DVmrIwPe8Cip"
      }
    },
    {
      "cell_type": "code",
      "source": [
        "def verifica_se_pode_dirigir(idade):\n",
        "  if idade >= 18:\n",
        "    print(f'É permitido dirigir')\n",
        "  else:\n",
        "    print(f'Não é permitido dirigir')\n",
        "\n",
        "idade = 15\n",
        "verifica_se_pode_dirigir(idade)"
      ],
      "metadata": {
        "colab": {
          "base_uri": "https://localhost:8080/"
        },
        "id": "-ovPqP_b8KLq",
        "outputId": "f055c186-c3ff-4215-a21b-e73d05c33425"
      },
      "execution_count": 11,
      "outputs": [
        {
          "output_type": "stream",
          "name": "stdout",
          "text": [
            "Não é permitido dirigir\n"
          ]
        }
      ]
    },
    {
      "cell_type": "markdown",
      "source": [
        "## Conversão de tipo"
      ],
      "metadata": {
        "id": "qfaf9Srz-eSZ"
      }
    },
    {
      "cell_type": "code",
      "source": [
        "def verifica_se_pode_dirigir_sem_parametro():\n",
        "  idade = input(f'Informe a idade: ')\n",
        "  idade = int(idade)\n",
        "\n",
        "  if idade >= 18:\n",
        "    print(f'É permitido dirigir')\n",
        "  else:\n",
        "    print(f'Não é permitido dirigir')\n",
        "\n",
        "verifica_se_pode_dirigir_sem_parametro()"
      ],
      "metadata": {
        "colab": {
          "base_uri": "https://localhost:8080/"
        },
        "id": "Axyeo6II-gQg",
        "outputId": "06927719-80f5-4153-bc01-8cf81994421d"
      },
      "execution_count": 12,
      "outputs": [
        {
          "output_type": "stream",
          "name": "stdout",
          "text": [
            "Informe a idade: 38\n",
            "É permitido dirigir\n"
          ]
        }
      ]
    },
    {
      "cell_type": "markdown",
      "source": [
        "## lista"
      ],
      "metadata": {
        "id": "RD7OH4GK_Nbs"
      }
    },
    {
      "cell_type": "code",
      "source": [
        "lista_idades = [18, 22, 15, 50]\n",
        "\n",
        "type(lista_idades)"
      ],
      "metadata": {
        "colab": {
          "base_uri": "https://localhost:8080/"
        },
        "id": "kAT1phfo_P-p",
        "outputId": "e081987a-1e87-429a-dd3c-872bbe8b6172"
      },
      "execution_count": 13,
      "outputs": [
        {
          "output_type": "execute_result",
          "data": {
            "text/plain": [
              "list"
            ]
          },
          "metadata": {},
          "execution_count": 13
        }
      ]
    },
    {
      "cell_type": "code",
      "source": [
        "lista_idades[1]"
      ],
      "metadata": {
        "colab": {
          "base_uri": "https://localhost:8080/"
        },
        "id": "4wkDaSs1_ehN",
        "outputId": "5b35601c-a328-4ba7-9f46-e50b8d6568bb"
      },
      "execution_count": 14,
      "outputs": [
        {
          "output_type": "execute_result",
          "data": {
            "text/plain": [
              "22"
            ]
          },
          "metadata": {},
          "execution_count": 14
        }
      ]
    },
    {
      "cell_type": "code",
      "source": [
        "lista_idades[:3]"
      ],
      "metadata": {
        "colab": {
          "base_uri": "https://localhost:8080/"
        },
        "id": "7tXhOfWs_nQl",
        "outputId": "b645f0ae-01a6-4f0a-b3ec-9c934e4b03a9"
      },
      "execution_count": 15,
      "outputs": [
        {
          "output_type": "execute_result",
          "data": {
            "text/plain": [
              "[18, 22, 15]"
            ]
          },
          "metadata": {},
          "execution_count": 15
        }
      ]
    },
    {
      "cell_type": "code",
      "source": [
        "lista_idades[2:]"
      ],
      "metadata": {
        "colab": {
          "base_uri": "https://localhost:8080/"
        },
        "id": "1i6G9jDa_rcL",
        "outputId": "c9da2cf8-1efc-4660-f7f7-dac46f783a06"
      },
      "execution_count": 16,
      "outputs": [
        {
          "output_type": "execute_result",
          "data": {
            "text/plain": [
              "[15, 50]"
            ]
          },
          "metadata": {},
          "execution_count": 16
        }
      ]
    },
    {
      "cell_type": "code",
      "source": [
        "lista_idades[-1]"
      ],
      "metadata": {
        "colab": {
          "base_uri": "https://localhost:8080/"
        },
        "id": "sfEmgtVM_vYM",
        "outputId": "34557822-9cfc-4065-8d4c-79a3a7d8cc82"
      },
      "execution_count": 17,
      "outputs": [
        {
          "output_type": "execute_result",
          "data": {
            "text/plain": [
              "50"
            ]
          },
          "metadata": {},
          "execution_count": 17
        }
      ]
    },
    {
      "cell_type": "markdown",
      "source": [
        "## Laços e Loops"
      ],
      "metadata": {
        "id": "rmYwyn95APDX"
      }
    },
    {
      "cell_type": "code",
      "source": [
        "for idade in lista_idades:\n",
        "  print(f'{idade} - ', end=' ')\n",
        "  verifica_se_pode_dirigir(idade)"
      ],
      "metadata": {
        "colab": {
          "base_uri": "https://localhost:8080/"
        },
        "id": "Hw5Cw8mnARGy",
        "outputId": "5cd2b856-f1c7-46e9-bb91-d617fe6b5583"
      },
      "execution_count": 18,
      "outputs": [
        {
          "output_type": "stream",
          "name": "stdout",
          "text": [
            "18 -  É permitido dirigir\n",
            "22 -  É permitido dirigir\n",
            "15 -  Não é permitido dirigir\n",
            "50 -  É permitido dirigir\n"
          ]
        }
      ]
    },
    {
      "cell_type": "markdown",
      "source": [
        "## Tipo booleano"
      ],
      "metadata": {
        "id": "JOw2cc_iBB4E"
      }
    },
    {
      "cell_type": "code",
      "source": [
        "def verifica_se_pode_dirigir_com_retorno(idade):\n",
        "  return idade >= 18\n",
        "\n",
        "\n",
        "for idade in lista_idades:\n",
        "  print(f'{idade} - ', end=' ')\n",
        "  \n",
        "  if verifica_se_pode_dirigir_com_retorno(idade):\n",
        "    print(f'Permite dirigir')\n",
        "  else:\n",
        "    print(f'Não permite dirigir')"
      ],
      "metadata": {
        "colab": {
          "base_uri": "https://localhost:8080/"
        },
        "id": "PaggkJJpBBHK",
        "outputId": "373b5466-d86a-4691-ca3b-d3f14c67e624"
      },
      "execution_count": 19,
      "outputs": [
        {
          "output_type": "stream",
          "name": "stdout",
          "text": [
            "18 -  Permite dirigir\n",
            "22 -  Permite dirigir\n",
            "15 -  Não permite dirigir\n",
            "50 -  Permite dirigir\n"
          ]
        }
      ]
    },
    {
      "cell_type": "markdown",
      "source": [
        "## Tipos em uma lista"
      ],
      "metadata": {
        "id": "LGul6OHx2sYz"
      }
    },
    {
      "cell_type": "code",
      "source": [
        "lista = ['Renato', 38, True, '17', 'Théo']\n",
        "\n",
        "for item in lista:\n",
        "  print(f'{item} - tipo {type(item)}')"
      ],
      "metadata": {
        "colab": {
          "base_uri": "https://localhost:8080/"
        },
        "id": "fdleIvhz2t7Z",
        "outputId": "8eece685-26b0-443a-d539-cc13fb5ecb34"
      },
      "execution_count": 20,
      "outputs": [
        {
          "output_type": "stream",
          "name": "stdout",
          "text": [
            "Renato - tipo <class 'str'>\n",
            "38 - tipo <class 'int'>\n",
            "True - tipo <class 'bool'>\n",
            "17 - tipo <class 'str'>\n",
            "Théo - tipo <class 'str'>\n"
          ]
        }
      ]
    },
    {
      "cell_type": "markdown",
      "source": [
        "## Trabalhando com Imports"
      ],
      "metadata": {
        "id": "BNxmq7DW9JxY"
      }
    },
    {
      "cell_type": "code",
      "source": [
        "# randrange - para geração de números aleatórios\n",
        "# seed - para fixar os números aleatórios\n",
        "from random import randrange, seed\n",
        "\n",
        "for item in range(1, 11):\n",
        "  print(f'{item:2}ª número aleatório - {randrange(0, 11)}')"
      ],
      "metadata": {
        "colab": {
          "base_uri": "https://localhost:8080/"
        },
        "id": "snMVYbxR3AaE",
        "outputId": "64e70b4c-7742-419e-c1d8-ef7ee12d187d"
      },
      "execution_count": 21,
      "outputs": [
        {
          "output_type": "stream",
          "name": "stdout",
          "text": [
            " 1ª número aleatório - 10\n",
            " 2ª número aleatório - 5\n",
            " 3ª número aleatório - 2\n",
            " 4ª número aleatório - 3\n",
            " 5ª número aleatório - 8\n",
            " 6ª número aleatório - 8\n",
            " 7ª número aleatório - 8\n",
            " 8ª número aleatório - 4\n",
            " 9ª número aleatório - 8\n",
            "10ª número aleatório - 10\n"
          ]
        }
      ]
    },
    {
      "cell_type": "code",
      "source": [
        "notas = []\n",
        "\n",
        "for item in range(10):\n",
        "  notas.append(randrange(0, 11))\n",
        "\n",
        "notas"
      ],
      "metadata": {
        "colab": {
          "base_uri": "https://localhost:8080/"
        },
        "id": "PZZzAKYG-Ww-",
        "outputId": "2cb89b57-35ef-4517-81d2-f72a4a34a591"
      },
      "execution_count": 22,
      "outputs": [
        {
          "output_type": "execute_result",
          "data": {
            "text/plain": [
              "[4, 8, 6, 2, 6, 5, 2, 6, 2, 10]"
            ]
          },
          "metadata": {},
          "execution_count": 22
        }
      ]
    },
    {
      "cell_type": "code",
      "source": [
        "notas = []\n",
        "\n",
        "# seed para fixar os números aleatórios\n",
        "# sempre que executado, a função randrange retornará os mesmos valores\n",
        "seed(5)\n",
        "\n",
        "for item in range(8):\n",
        "  notas.append(randrange(0, 11))\n",
        "\n",
        "notas"
      ],
      "metadata": {
        "colab": {
          "base_uri": "https://localhost:8080/"
        },
        "id": "Okwv-1rJ_J_c",
        "outputId": "b417e735-954d-4d4a-b250-abc00ebb6857"
      },
      "execution_count": 40,
      "outputs": [
        {
          "output_type": "execute_result",
          "data": {
            "text/plain": [
              "[9, 4, 5, 10, 8, 0, 7, 3]"
            ]
          },
          "metadata": {},
          "execution_count": 40
        }
      ]
    },
    {
      "cell_type": "markdown",
      "source": [
        "## Matplotlib"
      ],
      "metadata": {
        "id": "7tEqxlbeBwT5"
      }
    },
    {
      "cell_type": "code",
      "source": [
        "import matplotlib.pyplot as plt"
      ],
      "metadata": {
        "id": "Pz_SwkrQBzgL"
      },
      "execution_count": 41,
      "outputs": []
    },
    {
      "cell_type": "code",
      "source": [
        "x = range(1, len(notas) + 1)\n",
        "\n",
        "for prova in x:\n",
        "  print(f'Prova {prova}, nota {notas[prova - 1]}')"
      ],
      "metadata": {
        "colab": {
          "base_uri": "https://localhost:8080/"
        },
        "id": "Ewc20M7KB2XV",
        "outputId": "9913c431-1f3a-4e56-c590-9125bf3d46a1"
      },
      "execution_count": 44,
      "outputs": [
        {
          "output_type": "stream",
          "name": "stdout",
          "text": [
            "Prova 1, nota 9\n",
            "Prova 2, nota 4\n",
            "Prova 3, nota 5\n",
            "Prova 4, nota 10\n",
            "Prova 5, nota 8\n",
            "Prova 6, nota 0\n",
            "Prova 7, nota 7\n",
            "Prova 8, nota 3\n"
          ]
        }
      ]
    },
    {
      "cell_type": "code",
      "source": [
        "plt.plot(x, notas, marker='o')\n",
        "\n",
        "plt.title('Notas de Matemática')\n",
        "\n",
        "plt.xlabel('Provas')\n",
        "plt.ylabel('Notas')\n",
        "\n",
        "plt.show()"
      ],
      "metadata": {
        "colab": {
          "base_uri": "https://localhost:8080/",
          "height": 295
        },
        "id": "t_nmGoafCdxp",
        "outputId": "2eeb5370-5a7b-4eee-9fa6-16db8dba956d"
      },
      "execution_count": 45,
      "outputs": [
        {
          "output_type": "display_data",
          "data": {
            "text/plain": [
              "<Figure size 432x288 with 1 Axes>"
            ],
            "image/png": "[encoded data removed]"
          },
          "metadata": {
            "needs_background": "light"
          }
        }
      ]
    }
  ]
}