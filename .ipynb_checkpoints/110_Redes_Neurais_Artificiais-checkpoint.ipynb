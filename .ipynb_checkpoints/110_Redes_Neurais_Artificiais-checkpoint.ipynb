{
 "cells": [
  {
   "cell_type": "markdown",
   "metadata": {},
   "source": [
    "##  Implementação da Perceptron \n",
    "sem utilização de biblioteca externa"
   ]
  },
  {
   "cell_type": "code",
   "execution_count": 21,
   "metadata": {},
   "outputs": [],
   "source": [
    "import random"
   ]
  },
  {
   "cell_type": "code",
   "execution_count": 22,
   "metadata": {},
   "outputs": [],
   "source": [
    "class Perceptron:\n",
    "    def __init__(self, amostras, saidas, taxa_aprendizado=0.1, epocas=1000, limiar=-1):\n",
    "        self.amostras = amostras\n",
    "        self.saidas = saidas\n",
    "        self.taxa_aprendizado = taxa_aprendizado\n",
    "        self.epocas = epocas\n",
    "        self.limiar = limiar\n",
    "        self.n_amostras = len(amostras)\n",
    "        self.n_atributos = len(amostras[0])\n",
    "        self.pesos = []\n",
    "        \n",
    "        self.treinar()\n",
    "    \n",
    "    def treinar(self):\n",
    "        for amostra in self.amostras:\n",
    "            amostra.insert(0, -1)      # Insere na posição 0 o valor -1\n",
    "        \n",
    "        for _ in range(self.n_atributos):\n",
    "            self.pesos.append(random.random())\n",
    "        \n",
    "        self.pesos.insert(0, self.limiar)\n",
    "        \n",
    "        # Ajuste dos pesos até que não haja mais erro, até o máximo de epocas\n",
    "        n_epocas = 0\n",
    "        \n",
    "        while n_epocas < self.epocas:\n",
    "            n_epocas += 1            \n",
    "            erro      = False\n",
    "            \n",
    "            for i in range(self.n_amostras):\n",
    "                u = 0\n",
    "                for j in range(self.n_atributos + 1):\n",
    "                    u += self.pesos[j] * self.amostras[i][j]\n",
    "                \n",
    "                y = self.degrau(u) # obtem a saída sa rede\n",
    "                \n",
    "                if y != self.saidas[i]:\n",
    "                    erro     = True\n",
    "                    erro_aux = self.saidas[i] - y  # calcula o erro\n",
    "                    \n",
    "                    for j in range(self.n_atributos + 1):\n",
    "                        self.pesos[j] = self.pesos[j] + self.taxa_aprendizado * erro_aux * self.amostras[i][j]\n",
    "                \n",
    "            if not erro:\n",
    "                print(n_epocas)\n",
    "                print(self.pesos)\n",
    "                break\n",
    "                \n",
    "    def prever(self, amostra):\n",
    "        amostra.insert(0, -1)\n",
    "        u = 0\n",
    "        \n",
    "        for i in range(self.n_atributos +1):\n",
    "            u += self.pesos[i] * amostra[i]\n",
    "\n",
    "        return self.degrau(u) # obtem a saída sa rede\n",
    "            \n",
    "            \n",
    "        \n",
    "    # Funções de ativação Degrau\n",
    "    def degrau(self, u):\n",
    "        return 1 if u >= 0 else 0\n",
    "    \n",
    "    # Funções de ativação Sinal\n",
    "    def sinal(self, u):\n",
    "        return 1 if u >= 0 else -1"
   ]
  },
  {
   "cell_type": "code",
   "execution_count": 23,
   "metadata": {},
   "outputs": [
    {
     "name": "stdout",
     "output_type": "stream",
     "text": [
      "8\n",
      "[0.19999999999999996, 0.5080331882982984, 0.2130387035544838]\n"
     ]
    }
   ],
   "source": [
    "# Treinando o modela para tratar OR    \n",
    "amostras = [[0, 0], [0, 1], [1, 0], [1, 1]]\n",
    "saidas = [0, 1, 1, 1]\n",
    "\n",
    "rede = Perceptron(amostras, saidas, taxa_aprendizado=0.2)"
   ]
  },
  {
   "cell_type": "code",
   "execution_count": 24,
   "metadata": {},
   "outputs": [
    {
     "name": "stdout",
     "output_type": "stream",
     "text": [
      "0,0 - 0\n",
      "0,1 - 1\n",
      "1,0 - 1\n",
      "1,1 - 1\n"
     ]
    }
   ],
   "source": [
    "# Realizando um previsão\n",
    "print(f'0,0 - {rede.prever([0,0])}')\n",
    "print(f'0,1 - {rede.prever([0,1])}')\n",
    "print(f'1,0 - {rede.prever([1,0])}')\n",
    "print(f'1,1 - {rede.prever([1,1])}')"
   ]
  },
  {
   "cell_type": "code",
   "execution_count": null,
   "metadata": {},
   "outputs": [],
   "source": []
  }
 ],
 "metadata": {
  "kernelspec": {
   "display_name": "Python 3",
   "language": "python",
   "name": "python3"
  },
  "language_info": {
   "codemirror_mode": {
    "name": "ipython",
    "version": 3
   },
   "file_extension": ".py",
   "mimetype": "text/x-python",
   "name": "python",
   "nbconvert_exporter": "python",
   "pygments_lexer": "ipython3",
   "version": "3.8.1"
  }
 },
 "nbformat": 4,
 "nbformat_minor": 4
}
