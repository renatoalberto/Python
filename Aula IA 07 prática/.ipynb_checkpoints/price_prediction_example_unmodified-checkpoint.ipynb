{
 "cells": [
  {
   "cell_type": "markdown",
   "metadata": {},
   "source": [
    "# Price Prediction Analysis\n",
    "\n",
    "In this Python notebook, we are going to perform a real-estate property analysis. We are going to deal with real world data, so it's important to grasp the feeling of how the data looks like before we go deeper into the construction of the model. After we understand the shape of our data, we are going to build some machine learning models using the Scikit-Learn framework to predict the price of residences."
   ]
  },
  {
   "cell_type": "markdown",
   "metadata": {},
   "source": [
    "## Some important Data Analysis Libraries\n",
    "\n",
    "In order to perform all analysis and build machine learning models, we are going to use some usual Python libraries to manipulate and visualize our data. Our arsenal in this Python notebook will be [NumPy](http://www.numpy.org/) library, which contains a set of tools for efficient matrices operations. We will also make some heavy use of [Pandas](http://pandas.pydata.org/) data frames and series to perform queries upon the dataset that we are using. We are also going to use the [Matplotlib](https://matplotlib.org/) and [Seaborn](https://seaborn.pydata.org/) library in order to visualize and understand the distribution of our data. Finally, our arsenal of tools also contains the [Scikit-Learn](http://scikit-learn.org/stable/) library to build some machine learning models. The following cell contains the code to import these libraries or sub modules of them:"
   ]
  },
  {
   "cell_type": "code",
   "execution_count": 45,
   "metadata": {},
   "outputs": [],
   "source": [
    "# Import in this cell the packages that we are going to use in this notebook\n",
    "import pandas as pd"
   ]
  },
  {
   "cell_type": "markdown",
   "metadata": {},
   "source": [
    "***"
   ]
  },
  {
   "cell_type": "markdown",
   "metadata": {},
   "source": [
    "## Data Analysis\n",
    "Now that we have loaded some default Python libraries for data science, let's work on the data analysis. To do this, let's first open the input file into a pandas data frame named `df_properties`:"
   ]
  },
  {
   "cell_type": "code",
   "execution_count": 46,
   "metadata": {},
   "outputs": [],
   "source": [
    "# read the file here\n",
    "df_properties = pd.read_csv(\"properties.csv\", delimiter=\",\", encoding=\"utf-8\")"
   ]
  },
  {
   "cell_type": "markdown",
   "metadata": {},
   "source": [
    "This operation creates a tabular form of the data using the concept of DataFrames, which is basically a matrix containing indices for lines and columns of the data.\n",
    "\n",
    "Let's verify if the data was correctly loaded by showing-up the number of lines, columns and the first 5 samples for this dataset:\n"
   ]
  },
  {
   "cell_type": "code",
   "execution_count": 47,
   "metadata": {
    "scrolled": true
   },
   "outputs": [
    {
     "data": {
      "text/html": [
       "<div>\n",
       "<style scoped>\n",
       "    .dataframe tbody tr th:only-of-type {\n",
       "        vertical-align: middle;\n",
       "    }\n",
       "\n",
       "    .dataframe tbody tr th {\n",
       "        vertical-align: top;\n",
       "    }\n",
       "\n",
       "    .dataframe thead th {\n",
       "        text-align: right;\n",
       "    }\n",
       "</style>\n",
       "<table border=\"1\" class=\"dataframe\">\n",
       "  <thead>\n",
       "    <tr style=\"text-align: right;\">\n",
       "      <th></th>\n",
       "      <th>apn</th>\n",
       "      <th>zip_code</th>\n",
       "      <th>property_type</th>\n",
       "      <th>lot</th>\n",
       "      <th>sqft</th>\n",
       "      <th>beds</th>\n",
       "      <th>baths</th>\n",
       "      <th>price</th>\n",
       "    </tr>\n",
       "  </thead>\n",
       "  <tbody>\n",
       "    <tr>\n",
       "      <th>0</th>\n",
       "      <td>06037-5782020007</td>\n",
       "      <td>91007</td>\n",
       "      <td>residential</td>\n",
       "      <td>20492.0</td>\n",
       "      <td>2991.0</td>\n",
       "      <td>4</td>\n",
       "      <td>2.5</td>\n",
       "      <td>2168000</td>\n",
       "    </tr>\n",
       "    <tr>\n",
       "      <th>1</th>\n",
       "      <td>06037-5436013020</td>\n",
       "      <td>90039</td>\n",
       "      <td>residential</td>\n",
       "      <td>6752.0</td>\n",
       "      <td>1533.0</td>\n",
       "      <td>3</td>\n",
       "      <td>2.0</td>\n",
       "      <td>898000</td>\n",
       "    </tr>\n",
       "    <tr>\n",
       "      <th>2</th>\n",
       "      <td>06037-2549013007</td>\n",
       "      <td>91040</td>\n",
       "      <td>residential</td>\n",
       "      <td>38757.0</td>\n",
       "      <td>3146.0</td>\n",
       "      <td>4</td>\n",
       "      <td>4.0</td>\n",
       "      <td>998999</td>\n",
       "    </tr>\n",
       "    <tr>\n",
       "      <th>3</th>\n",
       "      <td>06059-03318106</td>\n",
       "      <td>92831</td>\n",
       "      <td>residential</td>\n",
       "      <td>6375.0</td>\n",
       "      <td>1364.0</td>\n",
       "      <td>3</td>\n",
       "      <td>1.0</td>\n",
       "      <td>549000</td>\n",
       "    </tr>\n",
       "    <tr>\n",
       "      <th>4</th>\n",
       "      <td>06059-93279051</td>\n",
       "      <td>92637</td>\n",
       "      <td>residential</td>\n",
       "      <td>1700.0</td>\n",
       "      <td>1592.0</td>\n",
       "      <td>3</td>\n",
       "      <td>2.0</td>\n",
       "      <td>699999</td>\n",
       "    </tr>\n",
       "  </tbody>\n",
       "</table>\n",
       "</div>"
      ],
      "text/plain": [
       "                apn zip_code property_type      lot    sqft  beds  baths  \\\n",
       "0  06037-5782020007    91007   residential  20492.0  2991.0     4    2.5   \n",
       "1  06037-5436013020    90039   residential   6752.0  1533.0     3    2.0   \n",
       "2  06037-2549013007    91040   residential  38757.0  3146.0     4    4.0   \n",
       "3    06059-03318106    92831   residential   6375.0  1364.0     3    1.0   \n",
       "4    06059-93279051    92637   residential   1700.0  1592.0     3    2.0   \n",
       "\n",
       "     price  \n",
       "0  2168000  \n",
       "1   898000  \n",
       "2   998999  \n",
       "3   549000  \n",
       "4   699999  "
      ]
     },
     "execution_count": 47,
     "metadata": {},
     "output_type": "execute_result"
    }
   ],
   "source": [
    "# print the first 5 lines of the dataframe\n",
    "df_properties.head()"
   ]
  },
  {
   "cell_type": "code",
   "execution_count": 48,
   "metadata": {},
   "outputs": [
    {
     "data": {
      "text/plain": [
       "(176081, 8)"
      ]
     },
     "execution_count": 48,
     "metadata": {},
     "output_type": "execute_result"
    }
   ],
   "source": [
    "# print the shape of the data frame\n",
    "df_properties.shape"
   ]
  },
  {
   "cell_type": "markdown",
   "metadata": {},
   "source": [
    "As we can observe above, this dataset contains over `176` thousand samples. Each sample is described by the following features:\n",
    "\n",
    "* `apn`: Identificador da propriedade.\n",
    "* `zip_code`: Referente à região de uma determinada propriedade.\n",
    "* `property_type`: Tipo de propriedade\n",
    "* `lot`: Área do lote\n",
    "* `sqft`: Tamanha em pés quadrados da residência\n",
    "* `beds`: Número de quartos da residência\n",
    "* `baths`: Número de banheiros.\n",
    "* `price`: Preço de cada residência.\n",
    "\n",
    "\n",
    "Now let's try to infer some statistics from this data set. Let's first identify the type of property. The bar chart below shows that there are three different versions: `residential, lease and residential income.`"
   ]
  },
  {
   "cell_type": "code",
   "execution_count": 49,
   "metadata": {},
   "outputs": [],
   "source": [
    "from collections import Counter\n",
    "\n",
    "# fill in the code to find out the property types.\n",
    "totaisPropriedades = Counter(df_properties.property_type)"
   ]
  },
  {
   "cell_type": "code",
   "execution_count": 50,
   "metadata": {},
   "outputs": [
    {
     "data": {
      "text/plain": [
       "dict_keys(['residential', 'lease', 'residential income'])"
      ]
     },
     "execution_count": 50,
     "metadata": {},
     "output_type": "execute_result"
    }
   ],
   "source": [
    "# what are the proporty types?\n",
    "totaisPropriedades.keys()"
   ]
  },
  {
   "cell_type": "code",
   "execution_count": 51,
   "metadata": {},
   "outputs": [
    {
     "data": {
      "text/plain": [
       "Text(0, 0.5, 'Quantidades')"
      ]
     },
     "execution_count": 51,
     "metadata": {},
     "output_type": "execute_result"
    },
    {
     "data": {
      "image/png": "[encoded data removed]",
      "text/plain": [
       "<Figure size 1080x360 with 1 Axes>"
      ]
     },
     "metadata": {},
     "output_type": "display_data"
    }
   ],
   "source": [
    "# plot a bar chart showing the amount of values for each property (sugestion: use plt.bar)\n",
    "import matplotlib.pyplot as plt\n",
    "\n",
    "plt.bar(list(totaisPropriedades.keys()), list(totaisPropriedades.values()))\n",
    "plt.xlabel('Tipos de Propriedade')\n",
    "plt.ylabel('Quantidades')"
   ]
  },
  {
   "cell_type": "markdown",
   "metadata": {},
   "source": [
    "As we can observe, most of the properties in this dataset belong to the `residential` type with over $155$ thousand properties. The `lease` and `_residential income` together contain around $20$ thousand samples.\n",
    "\n",
    "Let's filter this data set to work only with the set of samples belonging to the property type with the largerst amoung of samples. This can be made by executing the following code:"
   ]
  },
  {
   "cell_type": "code",
   "execution_count": 52,
   "metadata": {},
   "outputs": [],
   "source": [
    "# Filter the propertys with the largerst amount of samples. Save the resulting dataframe in a variable named `df_residences`\n",
    "df_residences = df_properties.query(\"property_type == 'residential'\")"
   ]
  },
  {
   "cell_type": "code",
   "execution_count": 53,
   "metadata": {},
   "outputs": [
    {
     "name": "stdout",
     "output_type": "stream",
     "text": [
      "Novo dataframe com 155421 linhas e 8 colunas\n"
     ]
    }
   ],
   "source": [
    "# print the amount of samples of the new filtered data set\n",
    "linhas, colunas = df_residences.shape\n",
    "print(f'Novo dataframe com {linhas} linhas e {colunas} colunas')"
   ]
  },
  {
   "cell_type": "markdown",
   "metadata": {},
   "source": [
    "Now that we have filtered out some samples of the original dataset, let's verify if there are any samples with missing values. This is an important step when working with real world data since we do not know the precedence of the data we can expect things to be messy. As we may see in the following cell, this verification is quite simple:"
   ]
  },
  {
   "cell_type": "code",
   "execution_count": 54,
   "metadata": {},
   "outputs": [
    {
     "name": "stdout",
     "output_type": "stream",
     "text": [
      "Não foi encontrado dados faltantes no arquivo - 0\n"
     ]
    }
   ],
   "source": [
    "# show if there are any columns with missing values\n",
    "regCamposFaltantes = df_residences[df_residences.notnull()]\n",
    "print(f'Não foi encontrado dados faltantes no arquivo - {df_residences.shape[0] - regCamposFaltantes.shape[0]}')"
   ]
  },
  {
   "cell_type": "markdown",
   "metadata": {},
   "source": [
    "As we can verify, there are `no` missing values in this subset of the data, so we can proceed with the statistical analysis of the data before we dive-in the construction of Machine Learning models.\n",
    "\n",
    "Now that we have selected the portion of the data that we are going to work with, let's try to understand a minimum of each variable in order to better select the correct machine learning model that we will be working with.\n",
    "\n",
    "Let's start this analysis with the feature 'zip_code'. We are going to try to identify the distribution of residences per area in the selected subset. Let's first gather the regions in a new data frame named `df_res_per_area`."
   ]
  },
  {
   "cell_type": "code",
   "execution_count": 55,
   "metadata": {},
   "outputs": [],
   "source": [
    "# find the number of residences by 'zip_code'\n",
    "df_res_per_area = df_residences.groupby(by='zip_code',sort=False).count().sort_values(by='apn', ascending=False)"
   ]
  },
  {
   "cell_type": "markdown",
   "metadata": {},
   "source": [
    "Now that we have gathered the set of residences, a first starting point is to just observe the behavior of the data with a box plot chart and observe interquartile ranges of the amount of residences per area (zip_code). After that, let's build a histogram to identify the distribution of samples per area. Given the insights obtained with the histogram, let's plot as well the number of residences in the larger areas. The three following charts do exactly this:"
   ]
  },
  {
   "cell_type": "code",
   "execution_count": 56,
   "metadata": {},
   "outputs": [
    {
     "data": {
      "image/png": "[encoded data removed]",
      "text/plain": [
       "<Figure size 1080x360 with 3 Axes>"
      ]
     },
     "metadata": {},
     "output_type": "display_data"
    }
   ],
   "source": [
    "import numpy as np                                      # Numpy \n",
    "import seaborn as sns                                   # Visulização \n",
    "\n",
    "sns.set()\n",
    "\n",
    "plt.rcParams[\"figure.figsize\"] = (15, 5)                                   # Quadrado de tamanho - 15 colunas e 5 linhas\n",
    "fig, ax = plt.subplots(nrows=1, ncols=3)                                   # Subplots - permite contruir matrizes de imagens\n",
    "\n",
    "# 1ª Gráfico com seaborn\n",
    "sns.boxplot(df_res_per_area['apn'], ax=ax[0], orient='vertical')  \n",
    "ax[0].set_ylabel(\"Quantity of residences\")\n",
    "ax[0].set_xlabel(\"Boxplot\")\n",
    "\n",
    "# 2ª Gráfico com matplotlib\n",
    "ax[1].hist(df_res_per_area['apn'], alpha=0.5, log=True)\n",
    "ax[1].set_ylabel(\"Quantity of residences\")\n",
    "ax[1].set_xlabel(\"Histogram\")\n",
    "\n",
    "# 3 Gráfico com matplotlib\n",
    "ax[2].bar(df_res_per_area.reset_index().zip_code[0:10], df_res_per_area['apn'].values[0:10], alpha=0.5)\n",
    "ax[2].set_ylabel(\"Quantity of residences\")\n",
    "ax[2].set_xlabel(\"Bar\")\n",
    "ax[2].tick_params(axis='x', rotation=90)                                # Girar 90º o texto do eixo X\n",
    "\n",
    "plt.suptitle(\"Distribuição de residencias por Zicode\")\n",
    "plt.tight_layout()                                                      # Evitar sobreposição dos textos"
   ]
  },
  {
   "cell_type": "markdown",
   "metadata": {},
   "source": [
    "As we can observe above, the boxplot shows that almost the entire dataset has only a few residences per area and we can even consider that the few zip code areas with over 100 residences can be considered outliers (under the box plot perspective). This same observation can be corroborated by looking at the histogram (log scale), which shows that most of the areas contain just a few residences (less than 100), and only a few of the zip code areas have over 100 residences. The last chart shows the number of residences for the bigger areas.\n",
    "\n",
    "As we noted in the previous analysis, the box plot is a great tool to identify the data distribution considering the interquartile ranges. Let's use this awesome tool one more time to grasp the behavior of the remaining variables.\n",
    "\n",
    "In the following cell we plot the box plot chart for the features beds and baths:"
   ]
  },
  {
   "cell_type": "code",
   "execution_count": 13,
   "metadata": {},
   "outputs": [
    {
     "data": {
      "text/html": [
       "<div>\n",
       "<style scoped>\n",
       "    .dataframe tbody tr th:only-of-type {\n",
       "        vertical-align: middle;\n",
       "    }\n",
       "\n",
       "    .dataframe tbody tr th {\n",
       "        vertical-align: top;\n",
       "    }\n",
       "\n",
       "    .dataframe thead th {\n",
       "        text-align: right;\n",
       "    }\n",
       "</style>\n",
       "<table border=\"1\" class=\"dataframe\">\n",
       "  <thead>\n",
       "    <tr style=\"text-align: right;\">\n",
       "      <th></th>\n",
       "      <th>beds</th>\n",
       "      <th>baths</th>\n",
       "    </tr>\n",
       "  </thead>\n",
       "  <tbody>\n",
       "    <tr>\n",
       "      <th>count</th>\n",
       "      <td>176081.000000</td>\n",
       "      <td>176081.000000</td>\n",
       "    </tr>\n",
       "    <tr>\n",
       "      <th>mean</th>\n",
       "      <td>3.163976</td>\n",
       "      <td>2.384878</td>\n",
       "    </tr>\n",
       "    <tr>\n",
       "      <th>std</th>\n",
       "      <td>1.145663</td>\n",
       "      <td>2.402576</td>\n",
       "    </tr>\n",
       "    <tr>\n",
       "      <th>min</th>\n",
       "      <td>0.000000</td>\n",
       "      <td>0.000000</td>\n",
       "    </tr>\n",
       "    <tr>\n",
       "      <th>25%</th>\n",
       "      <td>3.000000</td>\n",
       "      <td>2.000000</td>\n",
       "    </tr>\n",
       "    <tr>\n",
       "      <th>50%</th>\n",
       "      <td>3.000000</td>\n",
       "      <td>2.000000</td>\n",
       "    </tr>\n",
       "    <tr>\n",
       "      <th>75%</th>\n",
       "      <td>4.000000</td>\n",
       "      <td>3.000000</td>\n",
       "    </tr>\n",
       "    <tr>\n",
       "      <th>max</th>\n",
       "      <td>36.000000</td>\n",
       "      <td>900.000000</td>\n",
       "    </tr>\n",
       "  </tbody>\n",
       "</table>\n",
       "</div>"
      ],
      "text/plain": [
       "                beds          baths\n",
       "count  176081.000000  176081.000000\n",
       "mean        3.163976       2.384878\n",
       "std         1.145663       2.402576\n",
       "min         0.000000       0.000000\n",
       "25%         3.000000       2.000000\n",
       "50%         3.000000       2.000000\n",
       "75%         4.000000       3.000000\n",
       "max        36.000000     900.000000"
      ]
     },
     "execution_count": 13,
     "metadata": {},
     "output_type": "execute_result"
    }
   ],
   "source": [
    "# show the distribution of beds and bathrooms\n",
    "df_properties[['beds','baths']].describe()"
   ]
  },
  {
   "cell_type": "code",
   "execution_count": 14,
   "metadata": {},
   "outputs": [
    {
     "data": {
      "image/png": "[encoded data removed]",
      "text/plain": [
       "<Figure size 1080x360 with 2 Axes>"
      ]
     },
     "metadata": {},
     "output_type": "display_data"
    }
   ],
   "source": [
    "plt.rcParams[\"figure.figsize\"] = (15, 5)                                   # Quadrado de tamanho - 15 colunas e 5 linhas\n",
    "fig, ax = plt.subplots(nrows=1, ncols=2)                                   # Subplots - permite contruir matrizes de imagens\n",
    "\n",
    "sns.boxplot(df_properties['beds'], ax=ax[0], orient='vertical')  \n",
    "sns.boxplot(df_properties['baths'], ax=ax[1], orient='vertical')  \n",
    "\n",
    "ax[0].set_ylabel(\"Número de Quartos\")\n",
    "ax[1].set_ylabel(\"Numero de Banheiros\")\n",
    "\n",
    "plt.tight_layout()                                                      # Evitar sobreposição dos textos"
   ]
  },
  {
   "cell_type": "markdown",
   "metadata": {},
   "source": [
    "As we can observe, the first box plot shows the distribution of beds per residence. As we may observe in this chart, the second and third quartile allows us to see that $\\approx50\\%$ of the residences contains $4$ bedrooms. The first quartile shows that $\\approx25\\%$ of the data contains $2$ bedrooms, while the fourth quartile allows us to see that the remaining $25\\%$ percent of the data contains around $5$ bedrooms per residence. We can also visualize in this chart that there are only a few residences with bedrooms. Also, it's possible to note that there are only a few residences (when contrasted with the interquartile ranges) containing over $6$ bedrooms and as we may see, there are only $3$ residences with over $30$ bedrooms. These residences are shown in the following cell:"
   ]
  },
  {
   "cell_type": "code",
   "execution_count": 15,
   "metadata": {},
   "outputs": [
    {
     "data": {
      "text/html": [
       "<div>\n",
       "<style scoped>\n",
       "    .dataframe tbody tr th:only-of-type {\n",
       "        vertical-align: middle;\n",
       "    }\n",
       "\n",
       "    .dataframe tbody tr th {\n",
       "        vertical-align: top;\n",
       "    }\n",
       "\n",
       "    .dataframe thead th {\n",
       "        text-align: right;\n",
       "    }\n",
       "</style>\n",
       "<table border=\"1\" class=\"dataframe\">\n",
       "  <thead>\n",
       "    <tr style=\"text-align: right;\">\n",
       "      <th></th>\n",
       "      <th>apn</th>\n",
       "      <th>zip_code</th>\n",
       "      <th>property_type</th>\n",
       "      <th>lot</th>\n",
       "      <th>sqft</th>\n",
       "      <th>beds</th>\n",
       "      <th>baths</th>\n",
       "      <th>price</th>\n",
       "    </tr>\n",
       "  </thead>\n",
       "  <tbody>\n",
       "    <tr>\n",
       "      <th>88066</th>\n",
       "      <td>12119-031924001000001500</td>\n",
       "      <td>34731</td>\n",
       "      <td>residential</td>\n",
       "      <td>0.19</td>\n",
       "      <td>1512.0</td>\n",
       "      <td>36</td>\n",
       "      <td>2.00</td>\n",
       "      <td>160700</td>\n",
       "    </tr>\n",
       "    <tr>\n",
       "      <th>131999</th>\n",
       "      <td>06071-0482223240000</td>\n",
       "      <td>92395</td>\n",
       "      <td>residential</td>\n",
       "      <td>7200.00</td>\n",
       "      <td>1572.0</td>\n",
       "      <td>32</td>\n",
       "      <td>2.00</td>\n",
       "      <td>235000</td>\n",
       "    </tr>\n",
       "    <tr>\n",
       "      <th>136737</th>\n",
       "      <td>06037-7317018155</td>\n",
       "      <td>90810</td>\n",
       "      <td>residential</td>\n",
       "      <td>4041.00</td>\n",
       "      <td>1500.0</td>\n",
       "      <td>31</td>\n",
       "      <td>1.75</td>\n",
       "      <td>299000</td>\n",
       "    </tr>\n",
       "  </tbody>\n",
       "</table>\n",
       "</div>"
      ],
      "text/plain": [
       "                             apn zip_code property_type      lot    sqft  \\\n",
       "88066   12119-031924001000001500    34731   residential     0.19  1512.0   \n",
       "131999       06071-0482223240000    92395   residential  7200.00  1572.0   \n",
       "136737          06037-7317018155    90810   residential  4041.00  1500.0   \n",
       "\n",
       "        beds  baths   price  \n",
       "88066     36   2.00  160700  \n",
       "131999    32   2.00  235000  \n",
       "136737    31   1.75  299000  "
      ]
     },
     "execution_count": 15,
     "metadata": {},
     "output_type": "execute_result"
    }
   ],
   "source": [
    "# show the residences with over 30 bedrooms\n",
    "df_properties[df_properties['beds'] > 30]"
   ]
  },
  {
   "cell_type": "markdown",
   "metadata": {},
   "source": [
    "\n",
    "Regarding the boxplot of the number of bathrooms, we can observe that most of the data seems to be flattened near zero with a single residence containing a huge number of bathrooms. By investigating this single residence a little deeper we can observe that this residence has a lot area of $0$, and square feet area of $2004$, zero bedrooms, and $900$ bathrooms with a price of $69900$. The code that extracts this residence is shown below:"
   ]
  },
  {
   "cell_type": "code",
   "execution_count": 16,
   "metadata": {},
   "outputs": [
    {
     "data": {
      "text/html": [
       "<div>\n",
       "<style scoped>\n",
       "    .dataframe tbody tr th:only-of-type {\n",
       "        vertical-align: middle;\n",
       "    }\n",
       "\n",
       "    .dataframe tbody tr th {\n",
       "        vertical-align: top;\n",
       "    }\n",
       "\n",
       "    .dataframe thead th {\n",
       "        text-align: right;\n",
       "    }\n",
       "</style>\n",
       "<table border=\"1\" class=\"dataframe\">\n",
       "  <thead>\n",
       "    <tr style=\"text-align: right;\">\n",
       "      <th></th>\n",
       "      <th>apn</th>\n",
       "      <th>zip_code</th>\n",
       "      <th>property_type</th>\n",
       "      <th>lot</th>\n",
       "      <th>sqft</th>\n",
       "      <th>beds</th>\n",
       "      <th>baths</th>\n",
       "      <th>price</th>\n",
       "    </tr>\n",
       "  </thead>\n",
       "  <tbody>\n",
       "    <tr>\n",
       "      <th>11763</th>\n",
       "      <td>12111-240880101320001</td>\n",
       "      <td>34947</td>\n",
       "      <td>residential</td>\n",
       "      <td>0.0</td>\n",
       "      <td>2004.0</td>\n",
       "      <td>0</td>\n",
       "      <td>900.0</td>\n",
       "      <td>69900</td>\n",
       "    </tr>\n",
       "    <tr>\n",
       "      <th>99284</th>\n",
       "      <td>06037-8529012114</td>\n",
       "      <td>91010</td>\n",
       "      <td>residential</td>\n",
       "      <td>99999.0</td>\n",
       "      <td>100.0</td>\n",
       "      <td>30</td>\n",
       "      <td>45.0</td>\n",
       "      <td>999999000</td>\n",
       "    </tr>\n",
       "    <tr>\n",
       "      <th>110302</th>\n",
       "      <td>06065-207104006</td>\n",
       "      <td>92501</td>\n",
       "      <td>lease</td>\n",
       "      <td>4138200.0</td>\n",
       "      <td>100.0</td>\n",
       "      <td>30</td>\n",
       "      <td>45.0</td>\n",
       "      <td>999999000</td>\n",
       "    </tr>\n",
       "  </tbody>\n",
       "</table>\n",
       "</div>"
      ],
      "text/plain": [
       "                          apn zip_code property_type        lot    sqft  beds  \\\n",
       "11763   12111-240880101320001    34947   residential        0.0  2004.0     0   \n",
       "99284        06037-8529012114    91010   residential    99999.0   100.0    30   \n",
       "110302        06065-207104006    92501         lease  4138200.0   100.0    30   \n",
       "\n",
       "        baths      price  \n",
       "11763   900.0      69900  \n",
       "99284    45.0  999999000  \n",
       "110302   45.0  999999000  "
      ]
     },
     "execution_count": 16,
     "metadata": {},
     "output_type": "execute_result"
    }
   ],
   "source": [
    "# show the outlier sample containing more than 800 bathrooms\n",
    "\n",
    "df_properties[df_properties['baths'] > 30]"
   ]
  },
  {
   "cell_type": "markdown",
   "metadata": {},
   "source": [
    "By replotting this last boxplot chart without this noise sample, we can better understand the distribution of bathrooms per residence. As we can observe in the boxplot below, the second and third quartile of the box plot indicates that $\\approx50\\%$ of residences has around 2 and 3 bathrooms. The fourth quartile allows us to see that $\\approx25\\%$ of the residences contains between 4 and 5 bathrooms while the remaining $\\approx25\\%$ of the residences contains 1 bathroom. It's possible to see as well that a few remaining residences contain over $5$ bathrooms up to the maximum of $45$ bathrooms. It's also possible to ponder that there are some few residences with zero bathrooms that can be considered outliers. We can use the knowledge of knowing these outliers to build more sophisticated models that take them into consideration. For example, by acknowledging that they exist, we can build estimators that are able to keep focus in these hard regions of the input space (some boosting procedure) or simply ignoring these hard to predict regions removing these samples from the dataset."
   ]
  },
  {
   "cell_type": "code",
   "execution_count": 17,
   "metadata": {},
   "outputs": [
    {
     "data": {
      "image/png": "[encoded data removed]",
      "text/plain": [
       "<Figure size 1080x360 with 1 Axes>"
      ]
     },
     "metadata": {},
     "output_type": "display_data"
    }
   ],
   "source": [
    "# show the distribution of the number of bathrooms without the aforementioned outlier\n",
    "minimo = 10\n",
    "maximo = 1000\n",
    "# df_properies_outlier = df_properties.query('@minimo < baths < @maximo') # Exemplo para mostrar como usar o query com var\n",
    "df_properies_outlier = df_properties.query('baths < 30') # Exemplo para mostrar como usar o query com var\n",
    "sns.boxplot(df_properies_outlier['baths'], orient='horizon')  \n",
    "_ = plt.xticks(np.arange(0,31,1), np.arange(0,31,1))"
   ]
  },
  {
   "cell_type": "markdown",
   "metadata": {},
   "source": [
    "Following up the analysis for the remaining features **lot**, **sqft**, and **price** we can note that they do contain some few outliers samples in the dataset. As it's possible to observe in the box plot for the three variables below, all of them have a single sample (residence) that is very apart from the remaining ones:"
   ]
  },
  {
   "cell_type": "code",
   "execution_count": 18,
   "metadata": {},
   "outputs": [
    {
     "data": {
      "image/png": "[encoded data removed]",
      "text/plain": [
       "<Figure size 1080x360 with 3 Axes>"
      ]
     },
     "metadata": {},
     "output_type": "display_data"
    }
   ],
   "source": [
    "plt.rcParams[\"figure.figsize\"] = (15, 5)                                   # Quadrado de tamanho - 15 colunas e 5 linhas\n",
    "fig, ax = plt.subplots(nrows=1, ncols=3)                                   # Subplots - permite contruir matrizes de imagens\n",
    "\n",
    "sns.boxplot(df_residences['lot'], ax=ax[0], orient='vertical')  \n",
    "sns.boxplot(df_residences['sqft'], ax=ax[1], orient='vertical') \n",
    "sns.boxplot(df_residences['price'], ax=ax[2], orient='vertical') \n",
    "\n",
    "ax[0].set_xlabel('Área do lote')\n",
    "ax[1].set_xlabel('Área em pés quadrados')\n",
    "ax[2].set_xlabel('Preço')\n",
    "\n",
    "plt.tight_layout()"
   ]
  },
  {
   "cell_type": "markdown",
   "metadata": {},
   "source": [
    "Since the sqft and price features have the most outstanding outlier (more apart from the remaining ones), let's identify them by showing these residences in a tabular form by querying these residences in the Pandas data frame. This is quite simple using pandas sort_values function shown in the two next cells with the first 10 residences sorted by each feature:"
   ]
  },
  {
   "cell_type": "code",
   "execution_count": 19,
   "metadata": {},
   "outputs": [
    {
     "data": {
      "text/html": [
       "<div>\n",
       "<style scoped>\n",
       "    .dataframe tbody tr th:only-of-type {\n",
       "        vertical-align: middle;\n",
       "    }\n",
       "\n",
       "    .dataframe tbody tr th {\n",
       "        vertical-align: top;\n",
       "    }\n",
       "\n",
       "    .dataframe thead th {\n",
       "        text-align: right;\n",
       "    }\n",
       "</style>\n",
       "<table border=\"1\" class=\"dataframe\">\n",
       "  <thead>\n",
       "    <tr style=\"text-align: right;\">\n",
       "      <th></th>\n",
       "      <th>apn</th>\n",
       "      <th>zip_code</th>\n",
       "      <th>property_type</th>\n",
       "      <th>lot</th>\n",
       "      <th>sqft</th>\n",
       "      <th>beds</th>\n",
       "      <th>baths</th>\n",
       "      <th>price</th>\n",
       "    </tr>\n",
       "  </thead>\n",
       "  <tbody>\n",
       "    <tr>\n",
       "      <th>65879</th>\n",
       "      <td>29167-073208000000012000</td>\n",
       "      <td>65613</td>\n",
       "      <td>residential</td>\n",
       "      <td>5.86</td>\n",
       "      <td>26002700.0</td>\n",
       "      <td>3</td>\n",
       "      <td>3.0</td>\n",
       "      <td>159900</td>\n",
       "    </tr>\n",
       "    <tr>\n",
       "      <th>34529</th>\n",
       "      <td>13313-2733608040</td>\n",
       "      <td>30740</td>\n",
       "      <td>residential</td>\n",
       "      <td>1.18</td>\n",
       "      <td>231227.0</td>\n",
       "      <td>4</td>\n",
       "      <td>4.0</td>\n",
       "      <td>165000</td>\n",
       "    </tr>\n",
       "    <tr>\n",
       "      <th>65218</th>\n",
       "      <td>51680-10155400</td>\n",
       "      <td>24551</td>\n",
       "      <td>residential</td>\n",
       "      <td>0.73</td>\n",
       "      <td>153414.0</td>\n",
       "      <td>4</td>\n",
       "      <td>3.0</td>\n",
       "      <td>254900</td>\n",
       "    </tr>\n",
       "    <tr>\n",
       "      <th>67987</th>\n",
       "      <td>06071-0309221050000</td>\n",
       "      <td>92315</td>\n",
       "      <td>residential</td>\n",
       "      <td>92752.00</td>\n",
       "      <td>92752.0</td>\n",
       "      <td>14</td>\n",
       "      <td>14.0</td>\n",
       "      <td>1795000</td>\n",
       "    </tr>\n",
       "    <tr>\n",
       "      <th>64542</th>\n",
       "      <td>06071-0309221050000</td>\n",
       "      <td>92315</td>\n",
       "      <td>residential</td>\n",
       "      <td>0.00</td>\n",
       "      <td>92752.0</td>\n",
       "      <td>14</td>\n",
       "      <td>14.0</td>\n",
       "      <td>1825000</td>\n",
       "    </tr>\n",
       "    <tr>\n",
       "      <th>44844</th>\n",
       "      <td>39037-B0602140200003030</td>\n",
       "      <td>45348</td>\n",
       "      <td>residential</td>\n",
       "      <td>1.70</td>\n",
       "      <td>74052.0</td>\n",
       "      <td>2</td>\n",
       "      <td>2.0</td>\n",
       "      <td>140000</td>\n",
       "    </tr>\n",
       "    <tr>\n",
       "      <th>27772</th>\n",
       "      <td>45079-170820207</td>\n",
       "      <td>29223</td>\n",
       "      <td>residential</td>\n",
       "      <td>0.00</td>\n",
       "      <td>57828.0</td>\n",
       "      <td>2</td>\n",
       "      <td>2.0</td>\n",
       "      <td>35000</td>\n",
       "    </tr>\n",
       "    <tr>\n",
       "      <th>102209</th>\n",
       "      <td>06037-2327018032</td>\n",
       "      <td>91605</td>\n",
       "      <td>residential</td>\n",
       "      <td>79973.00</td>\n",
       "      <td>45020.0</td>\n",
       "      <td>1</td>\n",
       "      <td>1.0</td>\n",
       "      <td>190000</td>\n",
       "    </tr>\n",
       "    <tr>\n",
       "      <th>823</th>\n",
       "      <td>06079-013381025</td>\n",
       "      <td>93428</td>\n",
       "      <td>residential</td>\n",
       "      <td>1264111.00</td>\n",
       "      <td>37500.0</td>\n",
       "      <td>12</td>\n",
       "      <td>14.5</td>\n",
       "      <td>55000000</td>\n",
       "    </tr>\n",
       "    <tr>\n",
       "      <th>6610</th>\n",
       "      <td>13117-072123</td>\n",
       "      <td>30028-6931</td>\n",
       "      <td>residential</td>\n",
       "      <td>0.64</td>\n",
       "      <td>31180.0</td>\n",
       "      <td>4</td>\n",
       "      <td>4.0</td>\n",
       "      <td>399877</td>\n",
       "    </tr>\n",
       "  </tbody>\n",
       "</table>\n",
       "</div>"
      ],
      "text/plain": [
       "                             apn    zip_code property_type         lot  \\\n",
       "65879   29167-073208000000012000       65613   residential        5.86   \n",
       "34529           13313-2733608040       30740   residential        1.18   \n",
       "65218             51680-10155400       24551   residential        0.73   \n",
       "67987        06071-0309221050000       92315   residential    92752.00   \n",
       "64542        06071-0309221050000       92315   residential        0.00   \n",
       "44844    39037-B0602140200003030       45348   residential        1.70   \n",
       "27772            45079-170820207       29223   residential        0.00   \n",
       "102209          06037-2327018032       91605   residential    79973.00   \n",
       "823              06079-013381025       93428   residential  1264111.00   \n",
       "6610                13117-072123  30028-6931   residential        0.64   \n",
       "\n",
       "              sqft  beds  baths     price  \n",
       "65879   26002700.0     3    3.0    159900  \n",
       "34529     231227.0     4    4.0    165000  \n",
       "65218     153414.0     4    3.0    254900  \n",
       "67987      92752.0    14   14.0   1795000  \n",
       "64542      92752.0    14   14.0   1825000  \n",
       "44844      74052.0     2    2.0    140000  \n",
       "27772      57828.0     2    2.0     35000  \n",
       "102209     45020.0     1    1.0    190000  \n",
       "823        37500.0    12   14.5  55000000  \n",
       "6610       31180.0     4    4.0    399877  "
      ]
     },
     "execution_count": 19,
     "metadata": {},
     "output_type": "execute_result"
    }
   ],
   "source": [
    "# show the first 10 samples with the largerst `sqft` sorted in descending order.\n",
    "df_residences.sort_values(by='sqft', ascending=False).head(10)"
   ]
  },
  {
   "cell_type": "code",
   "execution_count": 20,
   "metadata": {},
   "outputs": [
    {
     "data": {
      "text/html": [
       "<div>\n",
       "<style scoped>\n",
       "    .dataframe tbody tr th:only-of-type {\n",
       "        vertical-align: middle;\n",
       "    }\n",
       "\n",
       "    .dataframe tbody tr th {\n",
       "        vertical-align: top;\n",
       "    }\n",
       "\n",
       "    .dataframe thead th {\n",
       "        text-align: right;\n",
       "    }\n",
       "</style>\n",
       "<table border=\"1\" class=\"dataframe\">\n",
       "  <thead>\n",
       "    <tr style=\"text-align: right;\">\n",
       "      <th></th>\n",
       "      <th>apn</th>\n",
       "      <th>zip_code</th>\n",
       "      <th>property_type</th>\n",
       "      <th>lot</th>\n",
       "      <th>sqft</th>\n",
       "      <th>beds</th>\n",
       "      <th>baths</th>\n",
       "      <th>price</th>\n",
       "    </tr>\n",
       "  </thead>\n",
       "  <tbody>\n",
       "    <tr>\n",
       "      <th>99284</th>\n",
       "      <td>06037-8529012114</td>\n",
       "      <td>91010</td>\n",
       "      <td>residential</td>\n",
       "      <td>99999.00</td>\n",
       "      <td>100.0</td>\n",
       "      <td>30</td>\n",
       "      <td>45.00</td>\n",
       "      <td>999999000</td>\n",
       "    </tr>\n",
       "    <tr>\n",
       "      <th>90601</th>\n",
       "      <td>45063-00311601045</td>\n",
       "      <td>29054</td>\n",
       "      <td>residential</td>\n",
       "      <td>0.96</td>\n",
       "      <td>3322.0</td>\n",
       "      <td>5</td>\n",
       "      <td>4.00</td>\n",
       "      <td>475000000</td>\n",
       "    </tr>\n",
       "    <tr>\n",
       "      <th>95268</th>\n",
       "      <td>06073-4463610406</td>\n",
       "      <td>92104</td>\n",
       "      <td>residential</td>\n",
       "      <td>0.00</td>\n",
       "      <td>1209.0</td>\n",
       "      <td>3</td>\n",
       "      <td>2.00</td>\n",
       "      <td>474900000</td>\n",
       "    </tr>\n",
       "    <tr>\n",
       "      <th>114620</th>\n",
       "      <td>06079-033312003</td>\n",
       "      <td>93465</td>\n",
       "      <td>residential</td>\n",
       "      <td>3637260.00</td>\n",
       "      <td>0.0</td>\n",
       "      <td>9</td>\n",
       "      <td>7.50</td>\n",
       "      <td>135000000</td>\n",
       "    </tr>\n",
       "    <tr>\n",
       "      <th>52487</th>\n",
       "      <td>45079-042040204</td>\n",
       "      <td>29063</td>\n",
       "      <td>residential</td>\n",
       "      <td>0.00</td>\n",
       "      <td>1387.0</td>\n",
       "      <td>3</td>\n",
       "      <td>2.00</td>\n",
       "      <td>129900000</td>\n",
       "    </tr>\n",
       "    <tr>\n",
       "      <th>17554</th>\n",
       "      <td>06071-0473342060000</td>\n",
       "      <td>92307</td>\n",
       "      <td>residential</td>\n",
       "      <td>0.51</td>\n",
       "      <td>2700.0</td>\n",
       "      <td>4</td>\n",
       "      <td>4.00</td>\n",
       "      <td>82000075</td>\n",
       "    </tr>\n",
       "    <tr>\n",
       "      <th>53364</th>\n",
       "      <td>06073-06031116</td>\n",
       "      <td>92672</td>\n",
       "      <td>residential</td>\n",
       "      <td>237358.00</td>\n",
       "      <td>15000.0</td>\n",
       "      <td>9</td>\n",
       "      <td>11.75</td>\n",
       "      <td>63500000</td>\n",
       "    </tr>\n",
       "    <tr>\n",
       "      <th>83580</th>\n",
       "      <td>45079-1450117014000</td>\n",
       "      <td>29180</td>\n",
       "      <td>residential</td>\n",
       "      <td>0.25</td>\n",
       "      <td>1200.0</td>\n",
       "      <td>3</td>\n",
       "      <td>2.00</td>\n",
       "      <td>59950000</td>\n",
       "    </tr>\n",
       "    <tr>\n",
       "      <th>84354</th>\n",
       "      <td>06059-47309102</td>\n",
       "      <td>92657</td>\n",
       "      <td>residential</td>\n",
       "      <td>0.00</td>\n",
       "      <td>17000.0</td>\n",
       "      <td>8</td>\n",
       "      <td>17.00</td>\n",
       "      <td>55000000</td>\n",
       "    </tr>\n",
       "    <tr>\n",
       "      <th>823</th>\n",
       "      <td>06079-013381025</td>\n",
       "      <td>93428</td>\n",
       "      <td>residential</td>\n",
       "      <td>1264111.00</td>\n",
       "      <td>37500.0</td>\n",
       "      <td>12</td>\n",
       "      <td>14.50</td>\n",
       "      <td>55000000</td>\n",
       "    </tr>\n",
       "  </tbody>\n",
       "</table>\n",
       "</div>"
      ],
      "text/plain": [
       "                        apn zip_code property_type         lot     sqft  beds  \\\n",
       "99284      06037-8529012114    91010   residential    99999.00    100.0    30   \n",
       "90601     45063-00311601045    29054   residential        0.96   3322.0     5   \n",
       "95268      06073-4463610406    92104   residential        0.00   1209.0     3   \n",
       "114620      06079-033312003    93465   residential  3637260.00      0.0     9   \n",
       "52487       45079-042040204    29063   residential        0.00   1387.0     3   \n",
       "17554   06071-0473342060000    92307   residential        0.51   2700.0     4   \n",
       "53364        06073-06031116    92672   residential   237358.00  15000.0     9   \n",
       "83580   45079-1450117014000    29180   residential        0.25   1200.0     3   \n",
       "84354        06059-47309102    92657   residential        0.00  17000.0     8   \n",
       "823         06079-013381025    93428   residential  1264111.00  37500.0    12   \n",
       "\n",
       "        baths      price  \n",
       "99284   45.00  999999000  \n",
       "90601    4.00  475000000  \n",
       "95268    2.00  474900000  \n",
       "114620   7.50  135000000  \n",
       "52487    2.00  129900000  \n",
       "17554    4.00   82000075  \n",
       "53364   11.75   63500000  \n",
       "83580    2.00   59950000  \n",
       "84354   17.00   55000000  \n",
       "823     14.50   55000000  "
      ]
     },
     "execution_count": 20,
     "metadata": {},
     "output_type": "execute_result"
    }
   ],
   "source": [
    "# show the first 10 samples with the largerst price sorted in descending order.\n",
    "df_residences.sort_values(by='price', ascending=False).head(10)"
   ]
  },
  {
   "cell_type": "markdown",
   "metadata": {},
   "source": [
    "As we can note in the two above charts and tables, the high peak samples are not the same. Since it seems that there aren't any relationship of the two features we can expect to encounter a lot of not related samples. Therefore, we can't use a simple model such as linear regression to predict the prices of not seem samples. Let's go a bit deeper into the model construction in the next section."
   ]
  },
  {
   "cell_type": "code",
   "execution_count": 21,
   "metadata": {},
   "outputs": [],
   "source": [
    "# what other insight can you infer from this dataset?\n",
    "# code and describe this insights."
   ]
  },
  {
   "cell_type": "markdown",
   "metadata": {},
   "source": [
    "Observamos 32.649 terrenos de tamanhos ZERO que deverão ser excluídos do público"
   ]
  },
  {
   "cell_type": "code",
   "execution_count": 22,
   "metadata": {},
   "outputs": [
    {
     "data": {
      "text/html": [
       "<div>\n",
       "<style scoped>\n",
       "    .dataframe tbody tr th:only-of-type {\n",
       "        vertical-align: middle;\n",
       "    }\n",
       "\n",
       "    .dataframe tbody tr th {\n",
       "        vertical-align: top;\n",
       "    }\n",
       "\n",
       "    .dataframe thead th {\n",
       "        text-align: right;\n",
       "    }\n",
       "</style>\n",
       "<table border=\"1\" class=\"dataframe\">\n",
       "  <thead>\n",
       "    <tr style=\"text-align: right;\">\n",
       "      <th></th>\n",
       "      <th>lot</th>\n",
       "      <th>sqft</th>\n",
       "      <th>beds</th>\n",
       "      <th>baths</th>\n",
       "      <th>price</th>\n",
       "    </tr>\n",
       "  </thead>\n",
       "  <tbody>\n",
       "    <tr>\n",
       "      <th>count</th>\n",
       "      <td>32649.0</td>\n",
       "      <td>32649.000000</td>\n",
       "      <td>32649.000000</td>\n",
       "      <td>32649.000000</td>\n",
       "      <td>3.264900e+04</td>\n",
       "    </tr>\n",
       "    <tr>\n",
       "      <th>mean</th>\n",
       "      <td>0.0</td>\n",
       "      <td>1575.616987</td>\n",
       "      <td>2.940090</td>\n",
       "      <td>2.443130</td>\n",
       "      <td>4.486533e+05</td>\n",
       "    </tr>\n",
       "    <tr>\n",
       "      <th>std</th>\n",
       "      <td>0.0</td>\n",
       "      <td>1242.934110</td>\n",
       "      <td>1.087013</td>\n",
       "      <td>5.077793</td>\n",
       "      <td>2.833132e+06</td>\n",
       "    </tr>\n",
       "    <tr>\n",
       "      <th>min</th>\n",
       "      <td>0.0</td>\n",
       "      <td>0.000000</td>\n",
       "      <td>0.000000</td>\n",
       "      <td>0.000000</td>\n",
       "      <td>0.000000e+00</td>\n",
       "    </tr>\n",
       "    <tr>\n",
       "      <th>25%</th>\n",
       "      <td>0.0</td>\n",
       "      <td>1009.000000</td>\n",
       "      <td>2.000000</td>\n",
       "      <td>2.000000</td>\n",
       "      <td>1.649000e+05</td>\n",
       "    </tr>\n",
       "    <tr>\n",
       "      <th>50%</th>\n",
       "      <td>0.0</td>\n",
       "      <td>1425.000000</td>\n",
       "      <td>3.000000</td>\n",
       "      <td>2.000000</td>\n",
       "      <td>2.990000e+05</td>\n",
       "    </tr>\n",
       "    <tr>\n",
       "      <th>75%</th>\n",
       "      <td>0.0</td>\n",
       "      <td>2011.000000</td>\n",
       "      <td>4.000000</td>\n",
       "      <td>3.000000</td>\n",
       "      <td>4.990000e+05</td>\n",
       "    </tr>\n",
       "    <tr>\n",
       "      <th>max</th>\n",
       "      <td>0.0</td>\n",
       "      <td>92752.000000</td>\n",
       "      <td>30.000000</td>\n",
       "      <td>900.000000</td>\n",
       "      <td>4.749000e+08</td>\n",
       "    </tr>\n",
       "  </tbody>\n",
       "</table>\n",
       "</div>"
      ],
      "text/plain": [
       "           lot          sqft          beds         baths         price\n",
       "count  32649.0  32649.000000  32649.000000  32649.000000  3.264900e+04\n",
       "mean       0.0   1575.616987      2.940090      2.443130  4.486533e+05\n",
       "std        0.0   1242.934110      1.087013      5.077793  2.833132e+06\n",
       "min        0.0      0.000000      0.000000      0.000000  0.000000e+00\n",
       "25%        0.0   1009.000000      2.000000      2.000000  1.649000e+05\n",
       "50%        0.0   1425.000000      3.000000      2.000000  2.990000e+05\n",
       "75%        0.0   2011.000000      4.000000      3.000000  4.990000e+05\n",
       "max        0.0  92752.000000     30.000000    900.000000  4.749000e+08"
      ]
     },
     "execution_count": 22,
     "metadata": {},
     "output_type": "execute_result"
    }
   ],
   "source": [
    "df_residences.query('lot == 0').describe()"
   ]
  },
  {
   "cell_type": "code",
   "execution_count": 108,
   "metadata": {},
   "outputs": [],
   "source": [
    "# Limpeza de dados inconsistentes\n",
    "df_residences_clean = df_residences.query('lot != 0')\n",
    "df_residences_clean = df_residences_clean.query('(sqft > 0 and beds  > 0 and baths > 0) or (sqft == 0 and beds == 0 and baths == 0)')\n",
    "df_residences_clean = df_residences_clean.query('beds  <= 5')\n",
    "df_residences_clean = df_residences_clean.query('baths <= 6')\n",
    "df_residences_clean = df_residences_clean.query('sqft  <= 231227')\n",
    "\n",
    "# Motivo dos imóveis com valores menores que \"100000\" foi a limitação de memória do meu computador\n",
    "df_residences_clean = df_residences_clean.query('price <= 100000')"
   ]
  },
  {
   "cell_type": "markdown",
   "metadata": {},
   "source": [
    "***"
   ]
  },
  {
   "cell_type": "markdown",
   "metadata": {},
   "source": [
    "# Building a Machine Learning Model\n",
    "\n",
    "As we have noted before, we are dealing with real messy world data, therefore we need sophisticated models that are capable to capture the relationship of the features. Given the aforementioned data set, the goal of our model is to predict the price of real-estate properties of unseen data (residences not in the training data) considering the aforementioned studied input file. Before we do that, let's first remove unnecessary data from our dataset and do some feature engineering on our dataset.\n",
    "\n",
    "### Cleaning the Data\n",
    "\n",
    "In order to build a Machine Learning Model, we will use the Scikit-learn library to build some models and infer the goodness of the model by using the Mean Absolute Percentage Error. Before we do that, let's first take care of unnecessary features of our database. In the cell below, we are showing one more time the structure of our dataset for the first 5 residences. As discussed earlier, the feature **apn** is an index of the residences, and as we have kept only the records of residences, the feature **property_type** doesn't contain any other information besides the unique value residential for all samples."
   ]
  },
  {
   "cell_type": "code",
   "execution_count": 109,
   "metadata": {},
   "outputs": [
    {
     "data": {
      "text/html": [
       "<div>\n",
       "<style scoped>\n",
       "    .dataframe tbody tr th:only-of-type {\n",
       "        vertical-align: middle;\n",
       "    }\n",
       "\n",
       "    .dataframe tbody tr th {\n",
       "        vertical-align: top;\n",
       "    }\n",
       "\n",
       "    .dataframe thead th {\n",
       "        text-align: right;\n",
       "    }\n",
       "</style>\n",
       "<table border=\"1\" class=\"dataframe\">\n",
       "  <thead>\n",
       "    <tr style=\"text-align: right;\">\n",
       "      <th></th>\n",
       "      <th>apn</th>\n",
       "      <th>zip_code</th>\n",
       "      <th>property_type</th>\n",
       "      <th>lot</th>\n",
       "      <th>sqft</th>\n",
       "      <th>beds</th>\n",
       "      <th>baths</th>\n",
       "      <th>price</th>\n",
       "    </tr>\n",
       "  </thead>\n",
       "  <tbody>\n",
       "    <tr>\n",
       "      <th>178</th>\n",
       "      <td>06115-035166013000</td>\n",
       "      <td>95966</td>\n",
       "      <td>residential</td>\n",
       "      <td>4791.0</td>\n",
       "      <td>444.0</td>\n",
       "      <td>1</td>\n",
       "      <td>1.0</td>\n",
       "      <td>52000</td>\n",
       "    </tr>\n",
       "    <tr>\n",
       "      <th>203</th>\n",
       "      <td>06007-051132079000</td>\n",
       "      <td>95969</td>\n",
       "      <td>residential</td>\n",
       "      <td>10890.0</td>\n",
       "      <td>1224.0</td>\n",
       "      <td>2</td>\n",
       "      <td>2.0</td>\n",
       "      <td>75000</td>\n",
       "    </tr>\n",
       "    <tr>\n",
       "      <th>279</th>\n",
       "      <td>06071-0671720100</td>\n",
       "      <td>93555</td>\n",
       "      <td>residential</td>\n",
       "      <td>7933.0</td>\n",
       "      <td>888.0</td>\n",
       "      <td>3</td>\n",
       "      <td>1.0</td>\n",
       "      <td>45000</td>\n",
       "    </tr>\n",
       "    <tr>\n",
       "      <th>602</th>\n",
       "      <td>06071-0328164040000</td>\n",
       "      <td>92314</td>\n",
       "      <td>residential</td>\n",
       "      <td>7300.0</td>\n",
       "      <td>700.0</td>\n",
       "      <td>2</td>\n",
       "      <td>1.0</td>\n",
       "      <td>92990</td>\n",
       "    </tr>\n",
       "    <tr>\n",
       "      <th>647</th>\n",
       "      <td>06033-03814301</td>\n",
       "      <td>95422</td>\n",
       "      <td>residential</td>\n",
       "      <td>4878.0</td>\n",
       "      <td>720.0</td>\n",
       "      <td>2</td>\n",
       "      <td>1.5</td>\n",
       "      <td>43500</td>\n",
       "    </tr>\n",
       "  </tbody>\n",
       "</table>\n",
       "</div>"
      ],
      "text/plain": [
       "                     apn zip_code property_type      lot    sqft  beds  baths  \\\n",
       "178   06115-035166013000    95966   residential   4791.0   444.0     1    1.0   \n",
       "203   06007-051132079000    95969   residential  10890.0  1224.0     2    2.0   \n",
       "279     06071-0671720100    93555   residential   7933.0   888.0     3    1.0   \n",
       "602  06071-0328164040000    92314   residential   7300.0   700.0     2    1.0   \n",
       "647       06033-03814301    95422   residential   4878.0   720.0     2    1.5   \n",
       "\n",
       "     price  \n",
       "178  52000  \n",
       "203  75000  \n",
       "279  45000  \n",
       "602  92990  \n",
       "647  43500  "
      ]
     },
     "execution_count": 109,
     "metadata": {},
     "output_type": "execute_result"
    }
   ],
   "source": [
    "# show the first 5 lines of the previously filtered dataset\n",
    "\n",
    "df_residences_clean.head()"
   ]
  },
  {
   "cell_type": "markdown",
   "metadata": {},
   "source": [
    "Considering that these two features do not add any relevant information during the discovery process of the model creation we can drop these features without any loss of relevant information for the model. The code to remove these specific columns is quite simple and is shown in the next notebook cell:"
   ]
  },
  {
   "cell_type": "code",
   "execution_count": 110,
   "metadata": {},
   "outputs": [],
   "source": [
    "# remove the columns `apn` and `property_type` and assing the new data to a variable named X\n",
    "X = df_residences_clean.drop(['apn', 'property_type'], axis=1)"
   ]
  },
  {
   "cell_type": "code",
   "execution_count": 111,
   "metadata": {},
   "outputs": [
    {
     "data": {
      "text/html": [
       "<div>\n",
       "<style scoped>\n",
       "    .dataframe tbody tr th:only-of-type {\n",
       "        vertical-align: middle;\n",
       "    }\n",
       "\n",
       "    .dataframe tbody tr th {\n",
       "        vertical-align: top;\n",
       "    }\n",
       "\n",
       "    .dataframe thead th {\n",
       "        text-align: right;\n",
       "    }\n",
       "</style>\n",
       "<table border=\"1\" class=\"dataframe\">\n",
       "  <thead>\n",
       "    <tr style=\"text-align: right;\">\n",
       "      <th></th>\n",
       "      <th>zip_code</th>\n",
       "      <th>lot</th>\n",
       "      <th>sqft</th>\n",
       "      <th>beds</th>\n",
       "      <th>baths</th>\n",
       "      <th>price</th>\n",
       "    </tr>\n",
       "  </thead>\n",
       "  <tbody>\n",
       "    <tr>\n",
       "      <th>178</th>\n",
       "      <td>95966</td>\n",
       "      <td>4791.0</td>\n",
       "      <td>444.0</td>\n",
       "      <td>1</td>\n",
       "      <td>1.0</td>\n",
       "      <td>52000</td>\n",
       "    </tr>\n",
       "    <tr>\n",
       "      <th>203</th>\n",
       "      <td>95969</td>\n",
       "      <td>10890.0</td>\n",
       "      <td>1224.0</td>\n",
       "      <td>2</td>\n",
       "      <td>2.0</td>\n",
       "      <td>75000</td>\n",
       "    </tr>\n",
       "    <tr>\n",
       "      <th>279</th>\n",
       "      <td>93555</td>\n",
       "      <td>7933.0</td>\n",
       "      <td>888.0</td>\n",
       "      <td>3</td>\n",
       "      <td>1.0</td>\n",
       "      <td>45000</td>\n",
       "    </tr>\n",
       "    <tr>\n",
       "      <th>602</th>\n",
       "      <td>92314</td>\n",
       "      <td>7300.0</td>\n",
       "      <td>700.0</td>\n",
       "      <td>2</td>\n",
       "      <td>1.0</td>\n",
       "      <td>92990</td>\n",
       "    </tr>\n",
       "    <tr>\n",
       "      <th>647</th>\n",
       "      <td>95422</td>\n",
       "      <td>4878.0</td>\n",
       "      <td>720.0</td>\n",
       "      <td>2</td>\n",
       "      <td>1.5</td>\n",
       "      <td>43500</td>\n",
       "    </tr>\n",
       "  </tbody>\n",
       "</table>\n",
       "</div>"
      ],
      "text/plain": [
       "    zip_code      lot    sqft  beds  baths  price\n",
       "178    95966   4791.0   444.0     1    1.0  52000\n",
       "203    95969  10890.0  1224.0     2    2.0  75000\n",
       "279    93555   7933.0   888.0     3    1.0  45000\n",
       "602    92314   7300.0   700.0     2    1.0  92990\n",
       "647    95422   4878.0   720.0     2    1.5  43500"
      ]
     },
     "execution_count": 111,
     "metadata": {},
     "output_type": "execute_result"
    }
   ],
   "source": [
    "# show the first lines of the new dataset\n",
    "X.head()"
   ]
  },
  {
   "cell_type": "code",
   "execution_count": 112,
   "metadata": {},
   "outputs": [
    {
     "name": "stdout",
     "output_type": "stream",
     "text": [
      "Quantidade de registros do novo arquivo é 7324\n",
      "Quantidade de colunas   do novo arquivo é 6\n"
     ]
    }
   ],
   "source": [
    "# what is the shape of the new dataset?\n",
    "print(f'Quantidade de registros do novo arquivo é {X.shape[0]}')\n",
    "print(f'Quantidade de colunas   do novo arquivo é {X.shape[1]}')"
   ]
  },
  {
   "cell_type": "markdown",
   "metadata": {},
   "source": [
    "After removing these two columns, our data set X contains the original samples from the data without the features apn and property_type. Now that we have eliminated unnecessary dimensions of the dataset, let's perform some feature engineering on our data."
   ]
  },
  {
   "cell_type": "markdown",
   "metadata": {},
   "source": [
    "### Feature Engeneering: One-hot encoding\n",
    "\n",
    "In our data set analysis, we have discovered that the feature **zip_code** contains more than a single residence per zip code. We can observe that this is a categorical feature, and since scikit-learn models don't deal very well with categorical features we need to perform some feature engineering if we want our models to capture the differences between price considering this categorical feature.\n",
    "\n",
    "There are basically two strategies to do the feature engineering of this categorical feature. The first one is to just encode this feature with a straightforward numerical mapping by replacing each zip_code with a different integer such as:"
   ]
  },
  {
   "cell_type": "markdown",
   "metadata": {},
   "source": [
    "|zip_code   | zip_code|\n",
    "|-----------|---------|\n",
    "91007\t|1\n",
    "90039\t|2\n",
    "91047\t|3\n",
    "92831\t|4\n",
    "90039\t|2"
   ]
  },
  {
   "cell_type": "markdown",
   "metadata": {},
   "source": [
    "However, this is not an ideal approach when using scikit-learn, because by default scikit-learn assumes that numerical features follow algebraic quantities. This means that the zip code $91007 \\prec 90039 \\prec 91047 \\dots$ because of their assigned mapping $1 \\prec 2 \\prec 3 \\prec 4$. This may interfere when finding an optimal solution during the creation of the models."
   ]
  },
  {
   "cell_type": "markdown",
   "metadata": {},
   "source": [
    "The second strategy and most common way of handling this categorical features is to encode the features using the one-hot encoding of the zip codes. By doing this we will increase the number of features by adding extra columns for each individual zip code. Each new column will indicate the absence $(0)$ or presence $(1)$ of the zip code for each individual residence."
   ]
  },
  {
   "cell_type": "markdown",
   "metadata": {},
   "source": [
    "This hot encoding strategy can be done in a few ways using Numpy or Pandas. Since our data set X is already in a Pandas data frame let's use the function get_dummies to convert the categorical variable zip_code into a dummy/indicator one-hot encoding variables. This procedure is shown bellow:"
   ]
  },
  {
   "cell_type": "code",
   "execution_count": 113,
   "metadata": {},
   "outputs": [],
   "source": [
    "# build the one hot encoding dataframe using the function `pd.get_dummies`\n",
    "X_hot_encoding = pd.get_dummies(X['zip_code'])"
   ]
  },
  {
   "cell_type": "code",
   "execution_count": 114,
   "metadata": {},
   "outputs": [
    {
     "name": "stdout",
     "output_type": "stream",
     "text": [
      "Quantidade de registros do novo arquivo é 7324\n",
      "Quantidade de colunas   do novo arquivo é 3049\n"
     ]
    }
   ],
   "source": [
    "# print the shape of the hot encoded data frame\n",
    "print(f'Quantidade de registros do novo arquivo é {X_hot_encoding.shape[0]}')\n",
    "print(f'Quantidade de colunas   do novo arquivo é {X_hot_encoding.shape[1]}')"
   ]
  },
  {
   "cell_type": "markdown",
   "metadata": {},
   "source": [
    "As we can see above, a new data frame hot_encoding was generated with `_amount_of_features_that_were_created` new features. Now, the only thing remaining is to just drop down the column zip_code and merge the newly created features with our data set X. This step is shown below:"
   ]
  },
  {
   "cell_type": "code",
   "execution_count": 115,
   "metadata": {},
   "outputs": [],
   "source": [
    "# drop the column `zip_code` from data frame X\n",
    "X.drop('zip_code', axis=1, inplace=True)"
   ]
  },
  {
   "cell_type": "code",
   "execution_count": 116,
   "metadata": {},
   "outputs": [],
   "source": [
    "# merge the new data frame X with the hot encoded features\n",
    "X = X.join(X_hot_encoding)"
   ]
  },
  {
   "cell_type": "markdown",
   "metadata": {},
   "source": [
    "Now that we have our dataset X, let's take a look at the first samples of our dataset in the following cell. As we can see, the data contains the original features **lot**, **sqft**, **beds**, **baths**, **price**, and the newly **one-hot encoded features** for each zip code."
   ]
  },
  {
   "cell_type": "code",
   "execution_count": 117,
   "metadata": {},
   "outputs": [
    {
     "data": {
      "text/html": [
       "<div>\n",
       "<style scoped>\n",
       "    .dataframe tbody tr th:only-of-type {\n",
       "        vertical-align: middle;\n",
       "    }\n",
       "\n",
       "    .dataframe tbody tr th {\n",
       "        vertical-align: top;\n",
       "    }\n",
       "\n",
       "    .dataframe thead th {\n",
       "        text-align: right;\n",
       "    }\n",
       "</style>\n",
       "<table border=\"1\" class=\"dataframe\">\n",
       "  <thead>\n",
       "    <tr style=\"text-align: right;\">\n",
       "      <th></th>\n",
       "      <th>lot</th>\n",
       "      <th>sqft</th>\n",
       "      <th>beds</th>\n",
       "      <th>baths</th>\n",
       "      <th>price</th>\n",
       "      <th>06082</th>\n",
       "      <th>06106</th>\n",
       "      <th>06108</th>\n",
       "      <th>06114</th>\n",
       "      <th>06118</th>\n",
       "      <th>...</th>\n",
       "      <th>99201</th>\n",
       "      <th>99202</th>\n",
       "      <th>99202-2854</th>\n",
       "      <th>99205</th>\n",
       "      <th>99207</th>\n",
       "      <th>99208</th>\n",
       "      <th>99212</th>\n",
       "      <th>99217</th>\n",
       "      <th>99223</th>\n",
       "      <th>99224</th>\n",
       "    </tr>\n",
       "  </thead>\n",
       "  <tbody>\n",
       "    <tr>\n",
       "      <th>178</th>\n",
       "      <td>4791.0</td>\n",
       "      <td>444.0</td>\n",
       "      <td>1</td>\n",
       "      <td>1.0</td>\n",
       "      <td>52000</td>\n",
       "      <td>0</td>\n",
       "      <td>0</td>\n",
       "      <td>0</td>\n",
       "      <td>0</td>\n",
       "      <td>0</td>\n",
       "      <td>...</td>\n",
       "      <td>0</td>\n",
       "      <td>0</td>\n",
       "      <td>0</td>\n",
       "      <td>0</td>\n",
       "      <td>0</td>\n",
       "      <td>0</td>\n",
       "      <td>0</td>\n",
       "      <td>0</td>\n",
       "      <td>0</td>\n",
       "      <td>0</td>\n",
       "    </tr>\n",
       "    <tr>\n",
       "      <th>203</th>\n",
       "      <td>10890.0</td>\n",
       "      <td>1224.0</td>\n",
       "      <td>2</td>\n",
       "      <td>2.0</td>\n",
       "      <td>75000</td>\n",
       "      <td>0</td>\n",
       "      <td>0</td>\n",
       "      <td>0</td>\n",
       "      <td>0</td>\n",
       "      <td>0</td>\n",
       "      <td>...</td>\n",
       "      <td>0</td>\n",
       "      <td>0</td>\n",
       "      <td>0</td>\n",
       "      <td>0</td>\n",
       "      <td>0</td>\n",
       "      <td>0</td>\n",
       "      <td>0</td>\n",
       "      <td>0</td>\n",
       "      <td>0</td>\n",
       "      <td>0</td>\n",
       "    </tr>\n",
       "    <tr>\n",
       "      <th>279</th>\n",
       "      <td>7933.0</td>\n",
       "      <td>888.0</td>\n",
       "      <td>3</td>\n",
       "      <td>1.0</td>\n",
       "      <td>45000</td>\n",
       "      <td>0</td>\n",
       "      <td>0</td>\n",
       "      <td>0</td>\n",
       "      <td>0</td>\n",
       "      <td>0</td>\n",
       "      <td>...</td>\n",
       "      <td>0</td>\n",
       "      <td>0</td>\n",
       "      <td>0</td>\n",
       "      <td>0</td>\n",
       "      <td>0</td>\n",
       "      <td>0</td>\n",
       "      <td>0</td>\n",
       "      <td>0</td>\n",
       "      <td>0</td>\n",
       "      <td>0</td>\n",
       "    </tr>\n",
       "  </tbody>\n",
       "</table>\n",
       "<p>3 rows × 3054 columns</p>\n",
       "</div>"
      ],
      "text/plain": [
       "         lot    sqft  beds  baths  price  06082  06106  06108  06114  06118  \\\n",
       "178   4791.0   444.0     1    1.0  52000      0      0      0      0      0   \n",
       "203  10890.0  1224.0     2    2.0  75000      0      0      0      0      0   \n",
       "279   7933.0   888.0     3    1.0  45000      0      0      0      0      0   \n",
       "\n",
       "     ...  99201  99202  99202-2854  99205  99207  99208  99212  99217  99223  \\\n",
       "178  ...      0      0           0      0      0      0      0      0      0   \n",
       "203  ...      0      0           0      0      0      0      0      0      0   \n",
       "279  ...      0      0           0      0      0      0      0      0      0   \n",
       "\n",
       "     99224  \n",
       "178      0  \n",
       "203      0  \n",
       "279      0  \n",
       "\n",
       "[3 rows x 3054 columns]"
      ]
     },
     "execution_count": 117,
     "metadata": {},
     "output_type": "execute_result"
    }
   ],
   "source": [
    "# show the first 3 lines of the data frame X\n",
    "X.head(3)"
   ]
  },
  {
   "cell_type": "markdown",
   "metadata": {},
   "source": [
    "Now that we have made all the necessary manipulations of our data, we just need to define the target that our models will try to predict. Since our goal is to infer the price prediction of real-estate properties, we will define our feature **price** to be our target. To do this we will build a pandas series named **y** that will hold the price for all samples. After that, we just need to remove this column from our data set **X**. This procedure is shown below:"
   ]
  },
  {
   "cell_type": "code",
   "execution_count": 118,
   "metadata": {},
   "outputs": [],
   "source": [
    "# add the column price to a variable named y\n",
    "Y = X['price']"
   ]
  },
  {
   "cell_type": "code",
   "execution_count": 119,
   "metadata": {},
   "outputs": [],
   "source": [
    "# drop the column price from our dataframe X\n",
    "X = X.drop('price', axis=1)"
   ]
  },
  {
   "cell_type": "markdown",
   "metadata": {},
   "source": [
    "### Metric of performance\n",
    "\n",
    "After building our models, we will have to evaluate the goodness of the model. To do this we will consider the **Mean Absolute Percentage Error (MAPE)** and the **Weighted Absolute Percentage Error (WAPE)**. Since the scikit-learn does not have this specific metric implemented, let's implement it according to the Wikipedia description. As noted in [Wikipedia](https://en.wikipedia.org/wiki/Mean_absolute_percentage_error), MAPE has several disadvantages when any sample of the ground truth is zero. This leads to division by zero and therefore it's not possible to compute an accurate value. To overcome this specific problem the ratio WAPE is used instead of the MAPE.\n",
    "\n",
    "The implementation of these two metrics is shown in the following cell:"
   ]
  },
  {
   "cell_type": "code",
   "execution_count": 120,
   "metadata": {},
   "outputs": [],
   "source": [
    "def meanAbsolutePercentageError(y_true, y_pred):\n",
    "    \"\"\"\n",
    "    Compute the mean absolute percentage error.\n",
    "    :param y_true: The ground truth for each sample\n",
    "    :y_pred: The predicted value for each sample\n",
    "    :return: numpy array containing the absolute percentage error for each sample\n",
    "    \"\"\"\n",
    "    y_true = np.array(y_true)                    # transform the data into a numpy array\n",
    "    y_pred = np.array(y_pred)                    # transform the data into a numpy array\n",
    "    difference = y_true - y_pred                 # compute the difference of ground truth and predicted value\n",
    "    absolute_diff = np.abs(difference / y_true)  # compute the absolute ratio of difference and ground truth\n",
    "    mean = np.mean(absolute_diff)                # compute the mean of the absolute difference\n",
    "    return mean*100                              # return the mean absolute percentage error"
   ]
  },
  {
   "cell_type": "code",
   "execution_count": 121,
   "metadata": {},
   "outputs": [],
   "source": [
    "def weightedAbsolutePercentageError(y_true, y_pred):\n",
    "    \"\"\"\n",
    "    Compute the weighted absolute percentage error.\n",
    "    :param y_true: The ground truth for each sample\n",
    "    :y_pred: The predicted value for each sample\n",
    "    :return: numpy array containing the weighted absolute percentage error for each sample\n",
    "    \"\"\"\n",
    "    y_true = np.array(y_true)                # transform the data into a numpy array\n",
    "    y_pred = np.array(y_pred)                # transform the data into a numpy array\n",
    "    absolute_diff = np.abs(y_true - y_pred)  # compute the absolute difference of the two features\n",
    "    diff_sum = np.sum(absolute_diff)         # compute the sum of the difference\n",
    "    total_sum = np.sum(y_true)               # compute the sum of the ground truth\n",
    "    return diff_sum / total_sum              # return the weighted absolute percentage error for each sample"
   ]
  },
  {
   "cell_type": "markdown",
   "metadata": {},
   "source": [
    "### Model Construction\n",
    "\n",
    "Now that we have treated our data and defined the metric that we are going to use to compare how good the models are, we need to build the models and then apply these models to some data to compare how good they are.\n",
    "\n",
    "As we have discussed in our data analysis, we have verified that there are noise samples in the data. We also decided that our model must be able to predict a numerical continual feature that describes the price of each residence. Taking this into consideration, we must use a supervised machine learning algorithm that given a training data and a target label must be able to infer the prices of unseen residences.\n",
    "\n",
    "Considering this, we are going to build three supervised regression models that are able to predict the price of residences. The chosen models are based on decision trees since a single decision tree is able to predict the value of a target variable by learning simple decision rules inferred from the data features. These tree like algorithms are:"
   ]
  },
  {
   "cell_type": "markdown",
   "metadata": {},
   "source": [
    "* [Decision Trees](https://scikit-learn.org/stable/modules/tree.html)\n",
    "* [Random Forests](https://scikit-learn.org/stable/modules/ensemble.html#random-forests)\n",
    "* [Extra Trees Classifier](https://scikit-learn.org/stable/modules/generated/sklearn.ensemble.ExtraTreesClassifier.html)"
   ]
  },
  {
   "cell_type": "markdown",
   "metadata": {},
   "source": [
    "The choice of these algorithms is due to their interpretability and cost since each individual decision tree is logarithmic regarding the number of samples in the data. Another advantage of choosing ensembles of trees is the fact that they are extremely fast when compared to other Machine Learning methods (g.e: SVM with polynomial kernel and Neural Networks)."
   ]
  },
  {
   "cell_type": "markdown",
   "metadata": {},
   "source": [
    "The next cell shows the definition of these three models. Firstly, we define the hyperparameters for the decision tree algorithm and name this model as model0. After that, we define a second model named model1 that holds the configuration for a Random Forest Regressor algorithm. Last but not least, we define a third model named model2 that is configured to build an Extremely Randomized Tree Regressor."
   ]
  },
  {
   "cell_type": "code",
   "execution_count": 122,
   "metadata": {},
   "outputs": [],
   "source": [
    "# Define a Decision Tree Algorithm and save it in a variable named model0\n",
    "from sklearn.tree import DecisionTreeRegressor          # A Decision Tree Regressor Model\n",
    "\n",
    "modelDecisionTreeRegressor = DecisionTreeRegressor(criterion='mse',\n",
    "                                                   splitter='best',\n",
    "                                                   max_depth=None,\n",
    "                                                   min_samples_split=2,\n",
    "                                                   min_samples_leaf=1,\n",
    "                                                   max_leaf_nodes=None)\n"
   ]
  },
  {
   "cell_type": "code",
   "execution_count": 123,
   "metadata": {},
   "outputs": [],
   "source": [
    "# Define a Random Forest Regressor Algorithm and save it in a variable named model1\n",
    "from sklearn.ensemble import RandomForestRegressor      # A Random Forest Regressor Model\n",
    "\n",
    "modelRandomForestRegressor = RandomForestRegressor(n_estimators=100,\n",
    "                                                    criterion='mse',\n",
    "                                                    max_features=\"sqrt\",\n",
    "                                                    max_depth=None,\n",
    "                                                    min_samples_split=2,\n",
    "                                                    min_samples_leaf=1,\n",
    "                                                    bootstrap=True,\n",
    "                                                    oob_score=True,\n",
    "                                                    n_jobs=-1,\n",
    "                                                    random_state=1,\n",
    "                                                    verbose=0)"
   ]
  },
  {
   "cell_type": "code",
   "execution_count": 124,
   "metadata": {},
   "outputs": [],
   "source": [
    "# Define a Extremmely Randomized Tree Regressor Algorithm and save it in a variable named model2\n",
    "from sklearn.ensemble import ExtraTreesRegressor        # The Extremmely Randomized Trees Model\n",
    "\n",
    "modelExtraTreesRegressor = ExtraTreesRegressor(n_estimators=100,\n",
    "                                               criterion='mse',\n",
    "                                               max_depth=None,\n",
    "                                               min_samples_split=2,\n",
    "                                               min_samples_leaf=1,\n",
    "                                               max_features='sqrt',\n",
    "                                               bootstrap=True,\n",
    "                                               oob_score=True,\n",
    "                                               n_jobs=-1,\n",
    "                                               random_state=1,\n",
    "                                               verbose=False)"
   ]
  },
  {
   "cell_type": "markdown",
   "metadata": {},
   "source": [
    "**Disclaimer:** W only want to test the model, we will not care about the resulting metrics, therefore we will not perform a thorough analysis of the parameters. If we were to release these models in a real world environment, we would execute an exaustive analysis of the hyper-parameters with the help of the gridsearch module in scikit-learn."
   ]
  },
  {
   "cell_type": "markdown",
   "metadata": {},
   "source": [
    "### Model Validation: Holdout Sets\n",
    "After defining our models, we must fit these models to some real data and then evaluate these models in some test data. We could, for example, fit all three models in the dataset X defined above and then predict each model performance using this X dataset. However, the outcome of this approach is not realistic, since we would be predicting the prices of samples that were used in the training process of the model.\n",
    "\n",
    "To simulate the real world, we can use a technique called holdout partition set. By performing this technique on the Dataset X, we could, for example, divide this X data set into three new partitions named **train**, **validation**, and **test**. The subpartition train would be used to build our models and the validation partition would be used to select the best configuration of hyper parameters. After choosing the best hyper parameters with the best results in the validation subset, we could test the performance of our models in the test partition. The results from the test partition is a simulation of how good the model would perform in a real world scenery.\n",
    "\n",
    "Since we are not going to use a grid search to find the best parameter values, lets use only the holdout partition of **training** and **test**, in which $70\\%$ of the original X data is used as a training data for our models and the remaining $30\\%$ of the data is used to predict the goodness of our models. It's worth to mention as well that we defined a seed generator by defining the random_state=0, so we can obtain the same results every time we run this notebook script."
   ]
  },
  {
   "cell_type": "code",
   "execution_count": 125,
   "metadata": {},
   "outputs": [],
   "source": [
    "# use the function from ScikitLearn to split the data: `sklearn.model_selection.train_test_split` \n",
    "# use the seed 0 for the random_state parameter\n",
    "# give the name x_train, x_test, y_train, y_test for the train and test respectively\n",
    "from sklearn.model_selection import train_test_split\n",
    "\n",
    "x_train, x_test, y_train, y_test = train_test_split(X, Y, random_state=0, test_size=0.2)"
   ]
  },
  {
   "cell_type": "markdown",
   "metadata": {},
   "source": [
    "After splitting the data X into train and test, it is necessary to fit all three models using the train partition of the holdout set. This is done by calling the fit function of each model definition. This procedure is shown for each model in the three next cells.\n",
    "\n"
   ]
  },
  {
   "cell_type": "code",
   "execution_count": 126,
   "metadata": {},
   "outputs": [
    {
     "data": {
      "text/plain": [
       "DecisionTreeRegressor(ccp_alpha=0.0, criterion='mse', max_depth=None,\n",
       "                      max_features=None, max_leaf_nodes=None,\n",
       "                      min_impurity_decrease=0.0, min_impurity_split=None,\n",
       "                      min_samples_leaf=1, min_samples_split=2,\n",
       "                      min_weight_fraction_leaf=0.0, presort='deprecated',\n",
       "                      random_state=None, splitter='best')"
      ]
     },
     "execution_count": 126,
     "metadata": {},
     "output_type": "execute_result"
    }
   ],
   "source": [
    "# fit the three models calling the function `fit` for each model: `model0`, `model1` and `model2`\n",
    "# code for model DecisionTreeRegressor\n",
    "modelDecisionTreeRegressor.fit(X=x_train, y=y_train)"
   ]
  },
  {
   "cell_type": "code",
   "execution_count": 127,
   "metadata": {},
   "outputs": [
    {
     "data": {
      "text/plain": [
       "RandomForestRegressor(bootstrap=True, ccp_alpha=0.0, criterion='mse',\n",
       "                      max_depth=None, max_features='sqrt', max_leaf_nodes=None,\n",
       "                      max_samples=None, min_impurity_decrease=0.0,\n",
       "                      min_impurity_split=None, min_samples_leaf=1,\n",
       "                      min_samples_split=2, min_weight_fraction_leaf=0.0,\n",
       "                      n_estimators=100, n_jobs=-1, oob_score=True,\n",
       "                      random_state=1, verbose=0, warm_start=False)"
      ]
     },
     "execution_count": 127,
     "metadata": {},
     "output_type": "execute_result"
    }
   ],
   "source": [
    "# code for model RandomForestRegressor\n",
    "modelRandomForestRegressor.fit(X=x_train, y=y_train)"
   ]
  },
  {
   "cell_type": "code",
   "execution_count": 128,
   "metadata": {},
   "outputs": [
    {
     "data": {
      "text/plain": [
       "ExtraTreesRegressor(bootstrap=True, ccp_alpha=0.0, criterion='mse',\n",
       "                    max_depth=None, max_features='sqrt', max_leaf_nodes=None,\n",
       "                    max_samples=None, min_impurity_decrease=0.0,\n",
       "                    min_impurity_split=None, min_samples_leaf=1,\n",
       "                    min_samples_split=2, min_weight_fraction_leaf=0.0,\n",
       "                    n_estimators=100, n_jobs=-1, oob_score=True, random_state=1,\n",
       "                    verbose=False, warm_start=False)"
      ]
     },
     "execution_count": 128,
     "metadata": {},
     "output_type": "execute_result"
    }
   ],
   "source": [
    "# code for model ExtraTreesRegressor\n",
    "modelExtraTreesRegressor.fit(X=x_train, y=y_train)"
   ]
  },
  {
   "cell_type": "markdown",
   "metadata": {},
   "source": [
    "Now that we have trained our models, we must predict the price for the residences in the test set. To do this we just need to call the function predict for each individual model passing as parameter the test partition. This is done in the following cell."
   ]
  },
  {
   "cell_type": "code",
   "execution_count": 129,
   "metadata": {},
   "outputs": [],
   "source": [
    "# use the function `predict` for each model: `model0`, `model1` and `model2` to predict the result \n",
    "# code for model DecisionTreeRegressor\n",
    "resultDecisionTreeRegressor = modelDecisionTreeRegressor.predict(x_test)"
   ]
  },
  {
   "cell_type": "code",
   "execution_count": 130,
   "metadata": {},
   "outputs": [],
   "source": [
    "# code for model RandomForestRegressor\n",
    "resultRandomForestRegressor = modelRandomForestRegressor.predict(x_test)"
   ]
  },
  {
   "cell_type": "code",
   "execution_count": 131,
   "metadata": {},
   "outputs": [],
   "source": [
    "# code for model ExtraTreesRegressor\n",
    "resultExtraTreesRegressor = modelExtraTreesRegressor.predict(x_test)"
   ]
  },
  {
   "cell_type": "markdown",
   "metadata": {},
   "source": [
    "Now that we have the prediction of each model, we can evaluate the goodness of the model by calling the Absolute Percentage Error or the Weighted Absolute Percentage Error. Since there are some few residences with the target price of zero, we must use the improved Weighted Absolute Percentage Error instead of the Mean Absolute Percentage Error. By calling this functions we will obtain the percentage error for each model. If we subtract the 1 - the prediction we will obtain the Correctness of each model, therefore higher values means better predictions for the given model. The following cell shows the predictions for each individual model."
   ]
  },
  {
   "cell_type": "code",
   "execution_count": 132,
   "metadata": {},
   "outputs": [
    {
     "name": "stdout",
     "output_type": "stream",
     "text": [
      "Percentual de acertos DecisionTreeRegressor - 65.34668217717079%\n",
      "Percentual de acertos RandomForestRegressor - 71.59598070922794%\n",
      "Percentual de acertos ExtraTreesRegressor   - 71.45951743080599%\n"
     ]
    }
   ],
   "source": [
    "# print the result of the `weightedAbsolutePercentageError` for each model.\n",
    "print(f'Percentual de acertos DecisionTreeRegressor - {(1 - weightedAbsolutePercentageError(y_test, resultDecisionTreeRegressor)) * 100}%')\n",
    "print(f'Percentual de acertos RandomForestRegressor - {(1 - weightedAbsolutePercentageError(y_test, resultRandomForestRegressor)) * 100}%')\n",
    "print(f'Percentual de acertos ExtraTreesRegressor   - {(1 - weightedAbsolutePercentageError(y_test, resultExtraTreesRegressor  )) * 100}%')"
   ]
  },
  {
   "cell_type": "markdown",
   "metadata": {},
   "source": [
    "As we can observe above, the Decision Tree Algorithms were able to obtain an error of $\\approx34\\%$ with the absolute correction of $\\approx65\\%$. For the Random Forest algorithm, we were able to significantly improve our results with an absolute error of $\\approx29\\%$ and absolute correction of $\\approx71\\%$. For the extremely randomized trees, we were able to achieve top predictions among the three models, with an absolute error of $\\approx 29\\%$ and absolute correction of $\\approx71\\%$.\n",
    "\n",
    "Considering only these results, the Extremely Randomized Trees and Random Forest Regressor are the best algorithm followed by the Decision Tree Regressor algorithm."
   ]
  },
  {
   "cell_type": "markdown",
   "metadata": {},
   "source": [
    "***\n",
    "\n",
    "What if we use Cross validation? What if we use hyperparameter Tuning? Search for these procedures."
   ]
  },
  {
   "cell_type": "code",
   "execution_count": null,
   "metadata": {},
   "outputs": [],
   "source": []
  }
 ],
 "metadata": {
  "kernelspec": {
   "display_name": "Python 3",
   "language": "python",
   "name": "python3"
  },
  "language_info": {
   "codemirror_mode": {
    "name": "ipython",
    "version": 3
   },
   "file_extension": ".py",
   "mimetype": "text/x-python",
   "name": "python",
   "nbconvert_exporter": "python",
   "pygments_lexer": "ipython3",
   "version": "3.8.1"
  }
 },
 "nbformat": 4,
 "nbformat_minor": 4
}
