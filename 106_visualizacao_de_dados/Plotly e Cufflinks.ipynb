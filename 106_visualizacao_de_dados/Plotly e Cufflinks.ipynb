{
 "cells": [
  {
   "cell_type": "markdown",
   "metadata": {},
   "source": [
    "## Python para Data Science e Machine Learning - COMPLETO"
   ]
  },
  {
   "cell_type": "markdown",
   "metadata": {},
   "source": [
    "### Aula 60 - Plotly e Cufflinks\n",
    "\n",
    "instalação:<br>\n",
    "* pip install plotly<br>\n",
    "* pip install cufflinks"
   ]
  },
  {
   "cell_type": "code",
   "execution_count": 1,
   "metadata": {},
   "outputs": [],
   "source": [
    "import pandas as pd\n",
    "import numpy as np\n",
    "import matplotlib.pyplot as plt"
   ]
  },
  {
   "cell_type": "code",
   "execution_count": 3,
   "metadata": {},
   "outputs": [
    {
     "data": {
      "text/plain": [
       "'4.14.3'"
      ]
     },
     "metadata": {},
     "output_type": "display_data"
    }
   ],
   "source": [
    "# Verificando versão da biblioteca\n",
    "from plotly import __version__\n",
    "display(__version__)"
   ]
  },
  {
   "cell_type": "code",
   "execution_count": 6,
   "metadata": {},
   "outputs": [
    {
     "data": {
      "text/html": [
       "        <script type=\"text/javascript\">\n",
       "        window.PlotlyConfig = {MathJaxConfig: 'local'};\n",
       "        if (window.MathJax) {MathJax.Hub.Config({SVG: {font: \"STIX-Web\"}});}\n",
       "        if (typeof require !== 'undefined') {\n",
       "        require.undef(\"plotly\");\n",
       "        requirejs.config({\n",
       "            paths: {\n",
       "                'plotly': ['https://cdn.plot.ly/plotly-latest.min']\n",
       "            }\n",
       "        });\n",
       "        require(['plotly'], function(Plotly) {\n",
       "            window._Plotly = Plotly;\n",
       "        });\n",
       "        }\n",
       "        </script>\n",
       "        "
      ]
     },
     "metadata": {},
     "output_type": "display_data"
    },
    {
     "data": {
      "text/html": [
       "        <script type=\"text/javascript\">\n",
       "        window.PlotlyConfig = {MathJaxConfig: 'local'};\n",
       "        if (window.MathJax) {MathJax.Hub.Config({SVG: {font: \"STIX-Web\"}});}\n",
       "        if (typeof require !== 'undefined') {\n",
       "        require.undef(\"plotly\");\n",
       "        requirejs.config({\n",
       "            paths: {\n",
       "                'plotly': ['https://cdn.plot.ly/plotly-latest.min']\n",
       "            }\n",
       "        });\n",
       "        require(['plotly'], function(Plotly) {\n",
       "            window._Plotly = Plotly;\n",
       "        });\n",
       "        }\n",
       "        </script>\n",
       "        "
      ]
     },
     "metadata": {},
     "output_type": "display_data"
    }
   ],
   "source": [
    "# Importand bibliotecas offline, sem custo\n",
    "from plotly.offline import download_plotlyjs, init_notebook_mode, plot, iplot\n",
    "import cufflinks as cf\n",
    "\n",
    "# Para conectar com o notebook\n",
    "init_notebook_mode(connected=True)\n",
    "cf.go_offline()"
   ]
  },
  {
   "cell_type": "code",
   "execution_count": 8,
   "metadata": {},
   "outputs": [
    {
     "data": {
      "text/html": [
       "<div>\n",
       "<style scoped>\n",
       "    .dataframe tbody tr th:only-of-type {\n",
       "        vertical-align: middle;\n",
       "    }\n",
       "\n",
       "    .dataframe tbody tr th {\n",
       "        vertical-align: top;\n",
       "    }\n",
       "\n",
       "    .dataframe thead th {\n",
       "        text-align: right;\n",
       "    }\n",
       "</style>\n",
       "<table border=\"1\" class=\"dataframe\">\n",
       "  <thead>\n",
       "    <tr style=\"text-align: right;\">\n",
       "      <th></th>\n",
       "      <th>A</th>\n",
       "      <th>B</th>\n",
       "      <th>C</th>\n",
       "      <th>D</th>\n",
       "    </tr>\n",
       "  </thead>\n",
       "  <tbody>\n",
       "    <tr>\n",
       "      <th>0</th>\n",
       "      <td>0.522347</td>\n",
       "      <td>0.622377</td>\n",
       "      <td>0.093805</td>\n",
       "      <td>0.934639</td>\n",
       "    </tr>\n",
       "    <tr>\n",
       "      <th>1</th>\n",
       "      <td>0.368174</td>\n",
       "      <td>0.341645</td>\n",
       "      <td>0.652676</td>\n",
       "      <td>0.252958</td>\n",
       "    </tr>\n",
       "    <tr>\n",
       "      <th>2</th>\n",
       "      <td>0.001011</td>\n",
       "      <td>0.997175</td>\n",
       "      <td>0.161523</td>\n",
       "      <td>0.070033</td>\n",
       "    </tr>\n",
       "    <tr>\n",
       "      <th>3</th>\n",
       "      <td>0.905781</td>\n",
       "      <td>0.995052</td>\n",
       "      <td>0.258852</td>\n",
       "      <td>0.358284</td>\n",
       "    </tr>\n",
       "    <tr>\n",
       "      <th>4</th>\n",
       "      <td>0.738432</td>\n",
       "      <td>0.139707</td>\n",
       "      <td>0.603816</td>\n",
       "      <td>0.884038</td>\n",
       "    </tr>\n",
       "  </tbody>\n",
       "</table>\n",
       "</div>"
      ],
      "text/plain": [
       "          A         B         C         D\n",
       "0  0.522347  0.622377  0.093805  0.934639\n",
       "1  0.368174  0.341645  0.652676  0.252958\n",
       "2  0.001011  0.997175  0.161523  0.070033\n",
       "3  0.905781  0.995052  0.258852  0.358284\n",
       "4  0.738432  0.139707  0.603816  0.884038"
      ]
     },
     "execution_count": 8,
     "metadata": {},
     "output_type": "execute_result"
    }
   ],
   "source": [
    "# Criando primeiro DataFrame de valores aleatórios\n",
    "df1 = pd.DataFrame(np.random.rand(100, 4), columns='A B C D'.split())\n",
    "df1.head()"
   ]
  },
  {
   "cell_type": "code",
   "execution_count": 9,
   "metadata": {},
   "outputs": [
    {
     "data": {
      "text/html": [
       "<div>\n",
       "<style scoped>\n",
       "    .dataframe tbody tr th:only-of-type {\n",
       "        vertical-align: middle;\n",
       "    }\n",
       "\n",
       "    .dataframe tbody tr th {\n",
       "        vertical-align: top;\n",
       "    }\n",
       "\n",
       "    .dataframe thead th {\n",
       "        text-align: right;\n",
       "    }\n",
       "</style>\n",
       "<table border=\"1\" class=\"dataframe\">\n",
       "  <thead>\n",
       "    <tr style=\"text-align: right;\">\n",
       "      <th></th>\n",
       "      <th>Categoria</th>\n",
       "      <th>Valores</th>\n",
       "    </tr>\n",
       "  </thead>\n",
       "  <tbody>\n",
       "    <tr>\n",
       "      <th>0</th>\n",
       "      <td>A</td>\n",
       "      <td>32</td>\n",
       "    </tr>\n",
       "    <tr>\n",
       "      <th>1</th>\n",
       "      <td>B</td>\n",
       "      <td>43</td>\n",
       "    </tr>\n",
       "    <tr>\n",
       "      <th>2</th>\n",
       "      <td>C</td>\n",
       "      <td>50</td>\n",
       "    </tr>\n",
       "  </tbody>\n",
       "</table>\n",
       "</div>"
      ],
      "text/plain": [
       "  Categoria  Valores\n",
       "0         A       32\n",
       "1         B       43\n",
       "2         C       50"
      ]
     },
     "execution_count": 9,
     "metadata": {},
     "output_type": "execute_result"
    }
   ],
   "source": [
    "# Criando segundo DataFrame \n",
    "df2 = pd.DataFrame({'Categoria': ['A', 'B', 'C'], 'Valores': [32, 43, 50]})\n",
    "df2.head()"
   ]
  },
  {
   "cell_type": "markdown",
   "metadata": {},
   "source": [
    "### Criando um gráfico de dispersão"
   ]
  },
  {
   "cell_type": "code",
   "execution_count": 11,
   "metadata": {},
   "outputs": [
    {
     "data": {
      "application/vnd.plotly.v1+json": {
       "config": {
        "linkText": "Export to plot.ly",
        "plotlyServerURL": "https://plot.ly",
        "showLink": true
       },
       "data": [
        {
         "line": {
          "color": "rgba(255, 153, 51, 1.0)",
          "dash": "solid",
          "shape": "linear",
          "width": 1.3
         },
         "marker": {
          "size": 12,
          "symbol": "circle"
         },
         "mode": "markers",
         "name": "B",
         "text": "",
         "type": "scatter",
         "x": [
          0.522347272199525,
          0.36817438810491,
          0.0010112605725656199,
          0.9057807174375636,
          0.7384316849079128,
          0.1591551902131888,
          0.183934903423408,
          0.21028223913407484,
          0.5425235102718765,
          0.829885672257394,
          0.7519738973190104,
          0.44385066073449053,
          0.019331177627519902,
          0.5493141819077285,
          0.43307252891392767,
          0.9682569387990952,
          0.11384486841087482,
          0.1590031755729575,
          0.2169754925882097,
          0.5190633136071182,
          0.6609987922208981,
          0.7035280901951679,
          0.3382248559583705,
          0.21615833703988963,
          0.3846361972132023,
          0.055377027460866035,
          0.5234708831540881,
          0.684563444434096,
          0.7089472904480765,
          0.613459906336003,
          0.024396710654762233,
          0.863173763520489,
          0.07096952088354769,
          0.2847928024195078,
          0.8333035039784051,
          0.21383937024242794,
          0.2758222933337888,
          0.7831230087068312,
          0.8516095108356362,
          0.7137903428534593,
          0.6330296758278816,
          0.06523375411443222,
          0.16252955476389142,
          0.3412202916179925,
          0.6962010444797161,
          0.8409563865781624,
          0.30669072720402835,
          0.3725501743663695,
          0.1946819498048723,
          0.17228845089530231,
          0.2568958156082274,
          0.1534823782996152,
          0.9486771411358706,
          0.25786083917786273,
          0.22917003023574523,
          0.5037887336139055,
          0.7901287685428313,
          0.6573510576728744,
          0.7684124144914483,
          0.014870731222623168,
          0.6715626271577866,
          0.010697629160978939,
          0.001866724770348549,
          0.19855030665887508,
          0.1746506780786472,
          0.40914788030905846,
          0.2777894983058271,
          0.4084550388889513,
          0.48623574463775054,
          0.6979433401930659,
          0.7989290510929793,
          0.7582910228703558,
          0.46838736729978614,
          0.057922779673538094,
          0.6559701305443183,
          0.12023603801724625,
          0.3382097627565869,
          0.86046125257498,
          0.5613916849013729,
          0.42542919093183773,
          0.3122730418753221,
          0.014989821263473702,
          0.4333077153710524,
          0.5004352265082898,
          0.05414301370623442,
          0.5717783526285637,
          0.8772586029905328,
          0.22266512257475657,
          0.5068896410400924,
          0.06552324721531144,
          0.5373357865127935,
          0.7467424313884923,
          0.9567202371927418,
          0.3964129865509076,
          0.31767853175412575,
          0.14119743542373886,
          0.6185496464600199,
          0.40141784167385464,
          0.2307858594556288,
          0.13704215385049778
         ],
         "y": [
          0.6223770751356761,
          0.3416445020886866,
          0.9971754580323123,
          0.9950524972421991,
          0.139706690041413,
          0.97337753397297,
          0.17019811188026457,
          0.13297246149589348,
          0.5112700763585448,
          0.5231345078299766,
          0.6401770475525225,
          0.8486728789085054,
          0.32960172011473265,
          0.5535922186753318,
          0.5979005822666698,
          0.9802069118862393,
          0.6935871528877221,
          0.6805848666048713,
          0.24598940851936357,
          0.4282626059838952,
          0.19127605696467853,
          0.6225268191350222,
          0.23320264078302066,
          0.48933844966190876,
          0.21942404016854,
          0.851209187484054,
          0.8077751381648538,
          0.4695841707826717,
          0.5260616156288477,
          0.6871504323636946,
          0.22725204415995914,
          0.7974082952586401,
          0.8741857461914679,
          0.3221236227529417,
          0.685973331967647,
          0.42063010160291725,
          0.007343915548235769,
          0.9092139571979199,
          0.024532211610490018,
          0.8274006503674203,
          0.4320308212969496,
          0.9480716795505977,
          0.5557150798236625,
          0.40842131707276563,
          0.4639352220958872,
          0.1449430807398373,
          0.3374661160817264,
          0.8766276775722553,
          0.7714800171519953,
          0.46581484015568697,
          0.9612034584567597,
          0.7520318786681476,
          0.4571010307621315,
          0.7886553394413793,
          0.5670803172017644,
          0.902855913290173,
          0.1946403073620262,
          0.9279093748297184,
          0.6488904817389123,
          0.78642792635236,
          0.092469853089296,
          0.14206876541118296,
          0.35209955641330803,
          0.3565475695518735,
          0.6190868391571726,
          0.9774504503283681,
          0.7475599926339814,
          0.812659821012732,
          0.08391659033449617,
          0.3594271806040815,
          0.09314230103499987,
          0.9929089666406649,
          0.5102785105053524,
          0.9325615962779351,
          0.5279940897747859,
          0.558417503387099,
          0.8471234593254293,
          0.8215181676643304,
          0.4694068589509176,
          0.07913988689432694,
          0.3516123599742621,
          0.8533595285215351,
          0.008119480528145484,
          0.646087726094201,
          0.14199480209371362,
          0.2699901803856761,
          0.7143113007959809,
          0.6206335350655173,
          0.7141016055659357,
          0.047068041441382436,
          0.9223009538279476,
          0.09446291161536402,
          0.9489886100218277,
          0.9750843802396616,
          0.9277824174042508,
          0.7605825286603557,
          0.4538473633176765,
          0.23516633808786724,
          0.9069438664199233,
          0.0635920025401463
         ]
        }
       ],
       "layout": {
        "legend": {
         "bgcolor": "#F5F6F9",
         "font": {
          "color": "#4D5663"
         }
        },
        "paper_bgcolor": "#F5F6F9",
        "plot_bgcolor": "#F5F6F9",
        "template": {
         "data": {
          "bar": [
           {
            "error_x": {
             "color": "#2a3f5f"
            },
            "error_y": {
             "color": "#2a3f5f"
            },
            "marker": {
             "line": {
              "color": "#E5ECF6",
              "width": 0.5
             }
            },
            "type": "bar"
           }
          ],
          "barpolar": [
           {
            "marker": {
             "line": {
              "color": "#E5ECF6",
              "width": 0.5
             }
            },
            "type": "barpolar"
           }
          ],
          "carpet": [
           {
            "aaxis": {
             "endlinecolor": "#2a3f5f",
             "gridcolor": "white",
             "linecolor": "white",
             "minorgridcolor": "white",
             "startlinecolor": "#2a3f5f"
            },
            "baxis": {
             "endlinecolor": "#2a3f5f",
             "gridcolor": "white",
             "linecolor": "white",
             "minorgridcolor": "white",
             "startlinecolor": "#2a3f5f"
            },
            "type": "carpet"
           }
          ],
          "choropleth": [
           {
            "colorbar": {
             "outlinewidth": 0,
             "ticks": ""
            },
            "type": "choropleth"
           }
          ],
          "contour": [
           {
            "colorbar": {
             "outlinewidth": 0,
             "ticks": ""
            },
            "colorscale": [
             [
              0,
              "#0d0887"
             ],
             [
              0.1111111111111111,
              "#46039f"
             ],
             [
              0.2222222222222222,
              "#7201a8"
             ],
             [
              0.3333333333333333,
              "#9c179e"
             ],
             [
              0.4444444444444444,
              "#bd3786"
             ],
             [
              0.5555555555555556,
              "#d8576b"
             ],
             [
              0.6666666666666666,
              "#ed7953"
             ],
             [
              0.7777777777777778,
              "#fb9f3a"
             ],
             [
              0.8888888888888888,
              "#fdca26"
             ],
             [
              1,
              "#f0f921"
             ]
            ],
            "type": "contour"
           }
          ],
          "contourcarpet": [
           {
            "colorbar": {
             "outlinewidth": 0,
             "ticks": ""
            },
            "type": "contourcarpet"
           }
          ],
          "heatmap": [
           {
            "colorbar": {
             "outlinewidth": 0,
             "ticks": ""
            },
            "colorscale": [
             [
              0,
              "#0d0887"
             ],
             [
              0.1111111111111111,
              "#46039f"
             ],
             [
              0.2222222222222222,
              "#7201a8"
             ],
             [
              0.3333333333333333,
              "#9c179e"
             ],
             [
              0.4444444444444444,
              "#bd3786"
             ],
             [
              0.5555555555555556,
              "#d8576b"
             ],
             [
              0.6666666666666666,
              "#ed7953"
             ],
             [
              0.7777777777777778,
              "#fb9f3a"
             ],
             [
              0.8888888888888888,
              "#fdca26"
             ],
             [
              1,
              "#f0f921"
             ]
            ],
            "type": "heatmap"
           }
          ],
          "heatmapgl": [
           {
            "colorbar": {
             "outlinewidth": 0,
             "ticks": ""
            },
            "colorscale": [
             [
              0,
              "#0d0887"
             ],
             [
              0.1111111111111111,
              "#46039f"
             ],
             [
              0.2222222222222222,
              "#7201a8"
             ],
             [
              0.3333333333333333,
              "#9c179e"
             ],
             [
              0.4444444444444444,
              "#bd3786"
             ],
             [
              0.5555555555555556,
              "#d8576b"
             ],
             [
              0.6666666666666666,
              "#ed7953"
             ],
             [
              0.7777777777777778,
              "#fb9f3a"
             ],
             [
              0.8888888888888888,
              "#fdca26"
             ],
             [
              1,
              "#f0f921"
             ]
            ],
            "type": "heatmapgl"
           }
          ],
          "histogram": [
           {
            "marker": {
             "colorbar": {
              "outlinewidth": 0,
              "ticks": ""
             }
            },
            "type": "histogram"
           }
          ],
          "histogram2d": [
           {
            "colorbar": {
             "outlinewidth": 0,
             "ticks": ""
            },
            "colorscale": [
             [
              0,
              "#0d0887"
             ],
             [
              0.1111111111111111,
              "#46039f"
             ],
             [
              0.2222222222222222,
              "#7201a8"
             ],
             [
              0.3333333333333333,
              "#9c179e"
             ],
             [
              0.4444444444444444,
              "#bd3786"
             ],
             [
              0.5555555555555556,
              "#d8576b"
             ],
             [
              0.6666666666666666,
              "#ed7953"
             ],
             [
              0.7777777777777778,
              "#fb9f3a"
             ],
             [
              0.8888888888888888,
              "#fdca26"
             ],
             [
              1,
              "#f0f921"
             ]
            ],
            "type": "histogram2d"
           }
          ],
          "histogram2dcontour": [
           {
            "colorbar": {
             "outlinewidth": 0,
             "ticks": ""
            },
            "colorscale": [
             [
              0,
              "#0d0887"
             ],
             [
              0.1111111111111111,
              "#46039f"
             ],
             [
              0.2222222222222222,
              "#7201a8"
             ],
             [
              0.3333333333333333,
              "#9c179e"
             ],
             [
              0.4444444444444444,
              "#bd3786"
             ],
             [
              0.5555555555555556,
              "#d8576b"
             ],
             [
              0.6666666666666666,
              "#ed7953"
             ],
             [
              0.7777777777777778,
              "#fb9f3a"
             ],
             [
              0.8888888888888888,
              "#fdca26"
             ],
             [
              1,
              "#f0f921"
             ]
            ],
            "type": "histogram2dcontour"
           }
          ],
          "mesh3d": [
           {
            "colorbar": {
             "outlinewidth": 0,
             "ticks": ""
            },
            "type": "mesh3d"
           }
          ],
          "parcoords": [
           {
            "line": {
             "colorbar": {
              "outlinewidth": 0,
              "ticks": ""
             }
            },
            "type": "parcoords"
           }
          ],
          "pie": [
           {
            "automargin": true,
            "type": "pie"
           }
          ],
          "scatter": [
           {
            "marker": {
             "colorbar": {
              "outlinewidth": 0,
              "ticks": ""
             }
            },
            "type": "scatter"
           }
          ],
          "scatter3d": [
           {
            "line": {
             "colorbar": {
              "outlinewidth": 0,
              "ticks": ""
             }
            },
            "marker": {
             "colorbar": {
              "outlinewidth": 0,
              "ticks": ""
             }
            },
            "type": "scatter3d"
           }
          ],
          "scattercarpet": [
           {
            "marker": {
             "colorbar": {
              "outlinewidth": 0,
              "ticks": ""
             }
            },
            "type": "scattercarpet"
           }
          ],
          "scattergeo": [
           {
            "marker": {
             "colorbar": {
              "outlinewidth": 0,
              "ticks": ""
             }
            },
            "type": "scattergeo"
           }
          ],
          "scattergl": [
           {
            "marker": {
             "colorbar": {
              "outlinewidth": 0,
              "ticks": ""
             }
            },
            "type": "scattergl"
           }
          ],
          "scattermapbox": [
           {
            "marker": {
             "colorbar": {
              "outlinewidth": 0,
              "ticks": ""
             }
            },
            "type": "scattermapbox"
           }
          ],
          "scatterpolar": [
           {
            "marker": {
             "colorbar": {
              "outlinewidth": 0,
              "ticks": ""
             }
            },
            "type": "scatterpolar"
           }
          ],
          "scatterpolargl": [
           {
            "marker": {
             "colorbar": {
              "outlinewidth": 0,
              "ticks": ""
             }
            },
            "type": "scatterpolargl"
           }
          ],
          "scatterternary": [
           {
            "marker": {
             "colorbar": {
              "outlinewidth": 0,
              "ticks": ""
             }
            },
            "type": "scatterternary"
           }
          ],
          "surface": [
           {
            "colorbar": {
             "outlinewidth": 0,
             "ticks": ""
            },
            "colorscale": [
             [
              0,
              "#0d0887"
             ],
             [
              0.1111111111111111,
              "#46039f"
             ],
             [
              0.2222222222222222,
              "#7201a8"
             ],
             [
              0.3333333333333333,
              "#9c179e"
             ],
             [
              0.4444444444444444,
              "#bd3786"
             ],
             [
              0.5555555555555556,
              "#d8576b"
             ],
             [
              0.6666666666666666,
              "#ed7953"
             ],
             [
              0.7777777777777778,
              "#fb9f3a"
             ],
             [
              0.8888888888888888,
              "#fdca26"
             ],
             [
              1,
              "#f0f921"
             ]
            ],
            "type": "surface"
           }
          ],
          "table": [
           {
            "cells": {
             "fill": {
              "color": "#EBF0F8"
             },
             "line": {
              "color": "white"
             }
            },
            "header": {
             "fill": {
              "color": "#C8D4E3"
             },
             "line": {
              "color": "white"
             }
            },
            "type": "table"
           }
          ]
         },
         "layout": {
          "annotationdefaults": {
           "arrowcolor": "#2a3f5f",
           "arrowhead": 0,
           "arrowwidth": 1
          },
          "autotypenumbers": "strict",
          "coloraxis": {
           "colorbar": {
            "outlinewidth": 0,
            "ticks": ""
           }
          },
          "colorscale": {
           "diverging": [
            [
             0,
             "#8e0152"
            ],
            [
             0.1,
             "#c51b7d"
            ],
            [
             0.2,
             "#de77ae"
            ],
            [
             0.3,
             "#f1b6da"
            ],
            [
             0.4,
             "#fde0ef"
            ],
            [
             0.5,
             "#f7f7f7"
            ],
            [
             0.6,
             "#e6f5d0"
            ],
            [
             0.7,
             "#b8e186"
            ],
            [
             0.8,
             "#7fbc41"
            ],
            [
             0.9,
             "#4d9221"
            ],
            [
             1,
             "#276419"
            ]
           ],
           "sequential": [
            [
             0,
             "#0d0887"
            ],
            [
             0.1111111111111111,
             "#46039f"
            ],
            [
             0.2222222222222222,
             "#7201a8"
            ],
            [
             0.3333333333333333,
             "#9c179e"
            ],
            [
             0.4444444444444444,
             "#bd3786"
            ],
            [
             0.5555555555555556,
             "#d8576b"
            ],
            [
             0.6666666666666666,
             "#ed7953"
            ],
            [
             0.7777777777777778,
             "#fb9f3a"
            ],
            [
             0.8888888888888888,
             "#fdca26"
            ],
            [
             1,
             "#f0f921"
            ]
           ],
           "sequentialminus": [
            [
             0,
             "#0d0887"
            ],
            [
             0.1111111111111111,
             "#46039f"
            ],
            [
             0.2222222222222222,
             "#7201a8"
            ],
            [
             0.3333333333333333,
             "#9c179e"
            ],
            [
             0.4444444444444444,
             "#bd3786"
            ],
            [
             0.5555555555555556,
             "#d8576b"
            ],
            [
             0.6666666666666666,
             "#ed7953"
            ],
            [
             0.7777777777777778,
             "#fb9f3a"
            ],
            [
             0.8888888888888888,
             "#fdca26"
            ],
            [
             1,
             "#f0f921"
            ]
           ]
          },
          "colorway": [
           "#636efa",
           "#EF553B",
           "#00cc96",
           "#ab63fa",
           "#FFA15A",
           "#19d3f3",
           "#FF6692",
           "#B6E880",
           "#FF97FF",
           "#FECB52"
          ],
          "font": {
           "color": "#2a3f5f"
          },
          "geo": {
           "bgcolor": "white",
           "lakecolor": "white",
           "landcolor": "#E5ECF6",
           "showlakes": true,
           "showland": true,
           "subunitcolor": "white"
          },
          "hoverlabel": {
           "align": "left"
          },
          "hovermode": "closest",
          "mapbox": {
           "style": "light"
          },
          "paper_bgcolor": "white",
          "plot_bgcolor": "#E5ECF6",
          "polar": {
           "angularaxis": {
            "gridcolor": "white",
            "linecolor": "white",
            "ticks": ""
           },
           "bgcolor": "#E5ECF6",
           "radialaxis": {
            "gridcolor": "white",
            "linecolor": "white",
            "ticks": ""
           }
          },
          "scene": {
           "xaxis": {
            "backgroundcolor": "#E5ECF6",
            "gridcolor": "white",
            "gridwidth": 2,
            "linecolor": "white",
            "showbackground": true,
            "ticks": "",
            "zerolinecolor": "white"
           },
           "yaxis": {
            "backgroundcolor": "#E5ECF6",
            "gridcolor": "white",
            "gridwidth": 2,
            "linecolor": "white",
            "showbackground": true,
            "ticks": "",
            "zerolinecolor": "white"
           },
           "zaxis": {
            "backgroundcolor": "#E5ECF6",
            "gridcolor": "white",
            "gridwidth": 2,
            "linecolor": "white",
            "showbackground": true,
            "ticks": "",
            "zerolinecolor": "white"
           }
          },
          "shapedefaults": {
           "line": {
            "color": "#2a3f5f"
           }
          },
          "ternary": {
           "aaxis": {
            "gridcolor": "white",
            "linecolor": "white",
            "ticks": ""
           },
           "baxis": {
            "gridcolor": "white",
            "linecolor": "white",
            "ticks": ""
           },
           "bgcolor": "#E5ECF6",
           "caxis": {
            "gridcolor": "white",
            "linecolor": "white",
            "ticks": ""
           }
          },
          "title": {
           "x": 0.05
          },
          "xaxis": {
           "automargin": true,
           "gridcolor": "white",
           "linecolor": "white",
           "ticks": "",
           "title": {
            "standoff": 15
           },
           "zerolinecolor": "white",
           "zerolinewidth": 2
          },
          "yaxis": {
           "automargin": true,
           "gridcolor": "white",
           "linecolor": "white",
           "ticks": "",
           "title": {
            "standoff": 15
           },
           "zerolinecolor": "white",
           "zerolinewidth": 2
          }
         }
        },
        "title": {
         "font": {
          "color": "#4D5663"
         }
        },
        "xaxis": {
         "gridcolor": "#E1E5ED",
         "showgrid": true,
         "tickfont": {
          "color": "#4D5663"
         },
         "title": {
          "font": {
           "color": "#4D5663"
          },
          "text": ""
         },
         "zerolinecolor": "#E1E5ED"
        },
        "yaxis": {
         "gridcolor": "#E1E5ED",
         "showgrid": true,
         "tickfont": {
          "color": "#4D5663"
         },
         "title": {
          "font": {
           "color": "#4D5663"
          },
          "text": ""
         },
         "zerolinecolor": "#E1E5ED"
        }
       }
      },
      "text/html": [
       "<div>                            <div id=\"b381126a-f0e0-4022-bd86-314509c3a617\" class=\"plotly-graph-div\" style=\"height:525px; width:100%;\"></div>            <script type=\"text/javascript\">                require([\"plotly\"], function(Plotly) {                    window.PLOTLYENV=window.PLOTLYENV || {};\n",
       "                    window.PLOTLYENV.BASE_URL='https://plot.ly';                                    if (document.getElementById(\"b381126a-f0e0-4022-bd86-314509c3a617\")) {                    Plotly.newPlot(                        \"b381126a-f0e0-4022-bd86-314509c3a617\",                        [{\"line\": {\"color\": \"rgba(255, 153, 51, 1.0)\", \"dash\": \"solid\", \"shape\": \"linear\", \"width\": 1.3}, \"marker\": {\"size\": 12, \"symbol\": \"circle\"}, \"mode\": \"markers\", \"name\": \"B\", \"text\": \"\", \"type\": \"scatter\", \"x\": [0.522347272199525, 0.36817438810491, 0.0010112605725656199, 0.9057807174375636, 0.7384316849079128, 0.1591551902131888, 0.183934903423408, 0.21028223913407484, 0.5425235102718765, 0.829885672257394, 0.7519738973190104, 0.44385066073449053, 0.019331177627519902, 0.5493141819077285, 0.43307252891392767, 0.9682569387990952, 0.11384486841087482, 0.1590031755729575, 0.2169754925882097, 0.5190633136071182, 0.6609987922208981, 0.7035280901951679, 0.3382248559583705, 0.21615833703988963, 0.3846361972132023, 0.055377027460866035, 0.5234708831540881, 0.684563444434096, 0.7089472904480765, 0.613459906336003, 0.024396710654762233, 0.863173763520489, 0.07096952088354769, 0.2847928024195078, 0.8333035039784051, 0.21383937024242794, 0.2758222933337888, 0.7831230087068312, 0.8516095108356362, 0.7137903428534593, 0.6330296758278816, 0.06523375411443222, 0.16252955476389142, 0.3412202916179925, 0.6962010444797161, 0.8409563865781624, 0.30669072720402835, 0.3725501743663695, 0.1946819498048723, 0.17228845089530231, 0.2568958156082274, 0.1534823782996152, 0.9486771411358706, 0.25786083917786273, 0.22917003023574523, 0.5037887336139055, 0.7901287685428313, 0.6573510576728744, 0.7684124144914483, 0.014870731222623168, 0.6715626271577866, 0.010697629160978939, 0.001866724770348549, 0.19855030665887508, 0.1746506780786472, 0.40914788030905846, 0.2777894983058271, 0.4084550388889513, 0.48623574463775054, 0.6979433401930659, 0.7989290510929793, 0.7582910228703558, 0.46838736729978614, 0.057922779673538094, 0.6559701305443183, 0.12023603801724625, 0.3382097627565869, 0.86046125257498, 0.5613916849013729, 0.42542919093183773, 0.3122730418753221, 0.014989821263473702, 0.4333077153710524, 0.5004352265082898, 0.05414301370623442, 0.5717783526285637, 0.8772586029905328, 0.22266512257475657, 0.5068896410400924, 0.06552324721531144, 0.5373357865127935, 0.7467424313884923, 0.9567202371927418, 0.3964129865509076, 0.31767853175412575, 0.14119743542373886, 0.6185496464600199, 0.40141784167385464, 0.2307858594556288, 0.13704215385049778], \"y\": [0.6223770751356761, 0.3416445020886866, 0.9971754580323123, 0.9950524972421991, 0.139706690041413, 0.97337753397297, 0.17019811188026457, 0.13297246149589348, 0.5112700763585448, 0.5231345078299766, 0.6401770475525225, 0.8486728789085054, 0.32960172011473265, 0.5535922186753318, 0.5979005822666698, 0.9802069118862393, 0.6935871528877221, 0.6805848666048713, 0.24598940851936357, 0.4282626059838952, 0.19127605696467853, 0.6225268191350222, 0.23320264078302066, 0.48933844966190876, 0.21942404016854, 0.851209187484054, 0.8077751381648538, 0.4695841707826717, 0.5260616156288477, 0.6871504323636946, 0.22725204415995914, 0.7974082952586401, 0.8741857461914679, 0.3221236227529417, 0.685973331967647, 0.42063010160291725, 0.007343915548235769, 0.9092139571979199, 0.024532211610490018, 0.8274006503674203, 0.4320308212969496, 0.9480716795505977, 0.5557150798236625, 0.40842131707276563, 0.4639352220958872, 0.1449430807398373, 0.3374661160817264, 0.8766276775722553, 0.7714800171519953, 0.46581484015568697, 0.9612034584567597, 0.7520318786681476, 0.4571010307621315, 0.7886553394413793, 0.5670803172017644, 0.902855913290173, 0.1946403073620262, 0.9279093748297184, 0.6488904817389123, 0.78642792635236, 0.092469853089296, 0.14206876541118296, 0.35209955641330803, 0.3565475695518735, 0.6190868391571726, 0.9774504503283681, 0.7475599926339814, 0.812659821012732, 0.08391659033449617, 0.3594271806040815, 0.09314230103499987, 0.9929089666406649, 0.5102785105053524, 0.9325615962779351, 0.5279940897747859, 0.558417503387099, 0.8471234593254293, 0.8215181676643304, 0.4694068589509176, 0.07913988689432694, 0.3516123599742621, 0.8533595285215351, 0.008119480528145484, 0.646087726094201, 0.14199480209371362, 0.2699901803856761, 0.7143113007959809, 0.6206335350655173, 0.7141016055659357, 0.047068041441382436, 0.9223009538279476, 0.09446291161536402, 0.9489886100218277, 0.9750843802396616, 0.9277824174042508, 0.7605825286603557, 0.4538473633176765, 0.23516633808786724, 0.9069438664199233, 0.0635920025401463]}],                        {\"legend\": {\"bgcolor\": \"#F5F6F9\", \"font\": {\"color\": \"#4D5663\"}}, \"paper_bgcolor\": \"#F5F6F9\", \"plot_bgcolor\": \"#F5F6F9\", \"template\": {\"data\": {\"bar\": [{\"error_x\": {\"color\": \"#2a3f5f\"}, \"error_y\": {\"color\": \"#2a3f5f\"}, \"marker\": {\"line\": {\"color\": \"#E5ECF6\", \"width\": 0.5}}, \"type\": \"bar\"}], \"barpolar\": [{\"marker\": {\"line\": {\"color\": \"#E5ECF6\", \"width\": 0.5}}, \"type\": \"barpolar\"}], \"carpet\": [{\"aaxis\": {\"endlinecolor\": \"#2a3f5f\", \"gridcolor\": \"white\", \"linecolor\": \"white\", \"minorgridcolor\": \"white\", \"startlinecolor\": \"#2a3f5f\"}, \"baxis\": {\"endlinecolor\": \"#2a3f5f\", \"gridcolor\": \"white\", \"linecolor\": \"white\", \"minorgridcolor\": \"white\", \"startlinecolor\": \"#2a3f5f\"}, \"type\": \"carpet\"}], \"choropleth\": [{\"colorbar\": {\"outlinewidth\": 0, \"ticks\": \"\"}, \"type\": \"choropleth\"}], \"contour\": [{\"colorbar\": {\"outlinewidth\": 0, \"ticks\": \"\"}, \"colorscale\": [[0.0, \"#0d0887\"], [0.1111111111111111, \"#46039f\"], [0.2222222222222222, \"#7201a8\"], [0.3333333333333333, \"#9c179e\"], [0.4444444444444444, \"#bd3786\"], [0.5555555555555556, \"#d8576b\"], [0.6666666666666666, \"#ed7953\"], [0.7777777777777778, \"#fb9f3a\"], [0.8888888888888888, \"#fdca26\"], [1.0, \"#f0f921\"]], \"type\": \"contour\"}], \"contourcarpet\": [{\"colorbar\": {\"outlinewidth\": 0, \"ticks\": \"\"}, \"type\": \"contourcarpet\"}], \"heatmap\": [{\"colorbar\": {\"outlinewidth\": 0, \"ticks\": \"\"}, \"colorscale\": [[0.0, \"#0d0887\"], [0.1111111111111111, \"#46039f\"], [0.2222222222222222, \"#7201a8\"], [0.3333333333333333, \"#9c179e\"], [0.4444444444444444, \"#bd3786\"], [0.5555555555555556, \"#d8576b\"], [0.6666666666666666, \"#ed7953\"], [0.7777777777777778, \"#fb9f3a\"], [0.8888888888888888, \"#fdca26\"], [1.0, \"#f0f921\"]], \"type\": \"heatmap\"}], \"heatmapgl\": [{\"colorbar\": {\"outlinewidth\": 0, \"ticks\": \"\"}, \"colorscale\": [[0.0, \"#0d0887\"], [0.1111111111111111, \"#46039f\"], [0.2222222222222222, \"#7201a8\"], [0.3333333333333333, \"#9c179e\"], [0.4444444444444444, \"#bd3786\"], [0.5555555555555556, \"#d8576b\"], [0.6666666666666666, \"#ed7953\"], [0.7777777777777778, \"#fb9f3a\"], [0.8888888888888888, \"#fdca26\"], [1.0, \"#f0f921\"]], \"type\": \"heatmapgl\"}], \"histogram\": [{\"marker\": {\"colorbar\": {\"outlinewidth\": 0, \"ticks\": \"\"}}, \"type\": \"histogram\"}], \"histogram2d\": [{\"colorbar\": {\"outlinewidth\": 0, \"ticks\": \"\"}, \"colorscale\": [[0.0, \"#0d0887\"], [0.1111111111111111, \"#46039f\"], [0.2222222222222222, \"#7201a8\"], [0.3333333333333333, \"#9c179e\"], [0.4444444444444444, \"#bd3786\"], [0.5555555555555556, \"#d8576b\"], [0.6666666666666666, \"#ed7953\"], [0.7777777777777778, \"#fb9f3a\"], [0.8888888888888888, \"#fdca26\"], [1.0, \"#f0f921\"]], \"type\": \"histogram2d\"}], \"histogram2dcontour\": [{\"colorbar\": {\"outlinewidth\": 0, \"ticks\": \"\"}, \"colorscale\": [[0.0, \"#0d0887\"], [0.1111111111111111, \"#46039f\"], [0.2222222222222222, \"#7201a8\"], [0.3333333333333333, \"#9c179e\"], [0.4444444444444444, \"#bd3786\"], [0.5555555555555556, \"#d8576b\"], [0.6666666666666666, \"#ed7953\"], [0.7777777777777778, \"#fb9f3a\"], [0.8888888888888888, \"#fdca26\"], [1.0, \"#f0f921\"]], \"type\": \"histogram2dcontour\"}], \"mesh3d\": [{\"colorbar\": {\"outlinewidth\": 0, \"ticks\": \"\"}, \"type\": \"mesh3d\"}], \"parcoords\": [{\"line\": {\"colorbar\": {\"outlinewidth\": 0, \"ticks\": \"\"}}, \"type\": \"parcoords\"}], \"pie\": [{\"automargin\": true, \"type\": \"pie\"}], \"scatter\": [{\"marker\": {\"colorbar\": {\"outlinewidth\": 0, \"ticks\": \"\"}}, \"type\": \"scatter\"}], \"scatter3d\": [{\"line\": {\"colorbar\": {\"outlinewidth\": 0, \"ticks\": \"\"}}, \"marker\": {\"colorbar\": {\"outlinewidth\": 0, \"ticks\": \"\"}}, \"type\": \"scatter3d\"}], \"scattercarpet\": [{\"marker\": {\"colorbar\": {\"outlinewidth\": 0, \"ticks\": \"\"}}, \"type\": \"scattercarpet\"}], \"scattergeo\": [{\"marker\": {\"colorbar\": {\"outlinewidth\": 0, \"ticks\": \"\"}}, \"type\": \"scattergeo\"}], \"scattergl\": [{\"marker\": {\"colorbar\": {\"outlinewidth\": 0, \"ticks\": \"\"}}, \"type\": \"scattergl\"}], \"scattermapbox\": [{\"marker\": {\"colorbar\": {\"outlinewidth\": 0, \"ticks\": \"\"}}, \"type\": \"scattermapbox\"}], \"scatterpolar\": [{\"marker\": {\"colorbar\": {\"outlinewidth\": 0, \"ticks\": \"\"}}, \"type\": \"scatterpolar\"}], \"scatterpolargl\": [{\"marker\": {\"colorbar\": {\"outlinewidth\": 0, \"ticks\": \"\"}}, \"type\": \"scatterpolargl\"}], \"scatterternary\": [{\"marker\": {\"colorbar\": {\"outlinewidth\": 0, \"ticks\": \"\"}}, \"type\": \"scatterternary\"}], \"surface\": [{\"colorbar\": {\"outlinewidth\": 0, \"ticks\": \"\"}, \"colorscale\": [[0.0, \"#0d0887\"], [0.1111111111111111, \"#46039f\"], [0.2222222222222222, \"#7201a8\"], [0.3333333333333333, \"#9c179e\"], [0.4444444444444444, \"#bd3786\"], [0.5555555555555556, \"#d8576b\"], [0.6666666666666666, \"#ed7953\"], [0.7777777777777778, \"#fb9f3a\"], [0.8888888888888888, \"#fdca26\"], [1.0, \"#f0f921\"]], \"type\": \"surface\"}], \"table\": [{\"cells\": {\"fill\": {\"color\": \"#EBF0F8\"}, \"line\": {\"color\": \"white\"}}, \"header\": {\"fill\": {\"color\": \"#C8D4E3\"}, \"line\": {\"color\": \"white\"}}, \"type\": \"table\"}]}, \"layout\": {\"annotationdefaults\": {\"arrowcolor\": \"#2a3f5f\", \"arrowhead\": 0, \"arrowwidth\": 1}, \"autotypenumbers\": \"strict\", \"coloraxis\": {\"colorbar\": {\"outlinewidth\": 0, \"ticks\": \"\"}}, \"colorscale\": {\"diverging\": [[0, \"#8e0152\"], [0.1, \"#c51b7d\"], [0.2, \"#de77ae\"], [0.3, \"#f1b6da\"], [0.4, \"#fde0ef\"], [0.5, \"#f7f7f7\"], [0.6, \"#e6f5d0\"], [0.7, \"#b8e186\"], [0.8, \"#7fbc41\"], [0.9, \"#4d9221\"], [1, \"#276419\"]], \"sequential\": [[0.0, \"#0d0887\"], [0.1111111111111111, \"#46039f\"], [0.2222222222222222, \"#7201a8\"], [0.3333333333333333, \"#9c179e\"], [0.4444444444444444, \"#bd3786\"], [0.5555555555555556, \"#d8576b\"], [0.6666666666666666, \"#ed7953\"], [0.7777777777777778, \"#fb9f3a\"], [0.8888888888888888, \"#fdca26\"], [1.0, \"#f0f921\"]], \"sequentialminus\": [[0.0, \"#0d0887\"], [0.1111111111111111, \"#46039f\"], [0.2222222222222222, \"#7201a8\"], [0.3333333333333333, \"#9c179e\"], [0.4444444444444444, \"#bd3786\"], [0.5555555555555556, \"#d8576b\"], [0.6666666666666666, \"#ed7953\"], [0.7777777777777778, \"#fb9f3a\"], [0.8888888888888888, \"#fdca26\"], [1.0, \"#f0f921\"]]}, \"colorway\": [\"#636efa\", \"#EF553B\", \"#00cc96\", \"#ab63fa\", \"#FFA15A\", \"#19d3f3\", \"#FF6692\", \"#B6E880\", \"#FF97FF\", \"#FECB52\"], \"font\": {\"color\": \"#2a3f5f\"}, \"geo\": {\"bgcolor\": \"white\", \"lakecolor\": \"white\", \"landcolor\": \"#E5ECF6\", \"showlakes\": true, \"showland\": true, \"subunitcolor\": \"white\"}, \"hoverlabel\": {\"align\": \"left\"}, \"hovermode\": \"closest\", \"mapbox\": {\"style\": \"light\"}, \"paper_bgcolor\": \"white\", \"plot_bgcolor\": \"#E5ECF6\", \"polar\": {\"angularaxis\": {\"gridcolor\": \"white\", \"linecolor\": \"white\", \"ticks\": \"\"}, \"bgcolor\": \"#E5ECF6\", \"radialaxis\": {\"gridcolor\": \"white\", \"linecolor\": \"white\", \"ticks\": \"\"}}, \"scene\": {\"xaxis\": {\"backgroundcolor\": \"#E5ECF6\", \"gridcolor\": \"white\", \"gridwidth\": 2, \"linecolor\": \"white\", \"showbackground\": true, \"ticks\": \"\", \"zerolinecolor\": \"white\"}, \"yaxis\": {\"backgroundcolor\": \"#E5ECF6\", \"gridcolor\": \"white\", \"gridwidth\": 2, \"linecolor\": \"white\", \"showbackground\": true, \"ticks\": \"\", \"zerolinecolor\": \"white\"}, \"zaxis\": {\"backgroundcolor\": \"#E5ECF6\", \"gridcolor\": \"white\", \"gridwidth\": 2, \"linecolor\": \"white\", \"showbackground\": true, \"ticks\": \"\", \"zerolinecolor\": \"white\"}}, \"shapedefaults\": {\"line\": {\"color\": \"#2a3f5f\"}}, \"ternary\": {\"aaxis\": {\"gridcolor\": \"white\", \"linecolor\": \"white\", \"ticks\": \"\"}, \"baxis\": {\"gridcolor\": \"white\", \"linecolor\": \"white\", \"ticks\": \"\"}, \"bgcolor\": \"#E5ECF6\", \"caxis\": {\"gridcolor\": \"white\", \"linecolor\": \"white\", \"ticks\": \"\"}}, \"title\": {\"x\": 0.05}, \"xaxis\": {\"automargin\": true, \"gridcolor\": \"white\", \"linecolor\": \"white\", \"ticks\": \"\", \"title\": {\"standoff\": 15}, \"zerolinecolor\": \"white\", \"zerolinewidth\": 2}, \"yaxis\": {\"automargin\": true, \"gridcolor\": \"white\", \"linecolor\": \"white\", \"ticks\": \"\", \"title\": {\"standoff\": 15}, \"zerolinecolor\": \"white\", \"zerolinewidth\": 2}}}, \"title\": {\"font\": {\"color\": \"#4D5663\"}}, \"xaxis\": {\"gridcolor\": \"#E1E5ED\", \"showgrid\": true, \"tickfont\": {\"color\": \"#4D5663\"}, \"title\": {\"font\": {\"color\": \"#4D5663\"}, \"text\": \"\"}, \"zerolinecolor\": \"#E1E5ED\"}, \"yaxis\": {\"gridcolor\": \"#E1E5ED\", \"showgrid\": true, \"tickfont\": {\"color\": \"#4D5663\"}, \"title\": {\"font\": {\"color\": \"#4D5663\"}, \"text\": \"\"}, \"zerolinecolor\": \"#E1E5ED\"}},                        {\"showLink\": true, \"linkText\": \"Export to plot.ly\", \"plotlyServerURL\": \"https://plot.ly\", \"responsive\": true}                    ).then(function(){\n",
       "                            \n",
       "var gd = document.getElementById('b381126a-f0e0-4022-bd86-314509c3a617');\n",
       "var x = new MutationObserver(function (mutations, observer) {{\n",
       "        var display = window.getComputedStyle(gd).display;\n",
       "        if (!display || display === 'none') {{\n",
       "            console.log([gd, 'removed!']);\n",
       "            Plotly.purge(gd);\n",
       "            observer.disconnect();\n",
       "        }}\n",
       "}});\n",
       "\n",
       "// Listen for the removal of the full notebook cells\n",
       "var notebookContainer = gd.closest('#notebook-container');\n",
       "if (notebookContainer) {{\n",
       "    x.observe(notebookContainer, {childList: true});\n",
       "}}\n",
       "\n",
       "// Listen for the clearing of the current output cell\n",
       "var outputEl = gd.closest('.output');\n",
       "if (outputEl) {{\n",
       "    x.observe(outputEl, {childList: true});\n",
       "}}\n",
       "\n",
       "                        })                };                });            </script>        </div>"
      ]
     },
     "metadata": {},
     "output_type": "display_data"
    }
   ],
   "source": [
    "# Gráfico apresentado com funcionalidade de zoom, gravação, arrastar, ...\n",
    "df1.iplot(kind='scatter', x='A', y='B', mode='markers')"
   ]
  },
  {
   "cell_type": "markdown",
   "metadata": {},
   "source": [
    "### Criando um gráfico de barras"
   ]
  },
  {
   "cell_type": "code",
   "execution_count": 13,
   "metadata": {},
   "outputs": [
    {
     "data": {
      "application/vnd.plotly.v1+json": {
       "config": {
        "linkText": "Export to plot.ly",
        "plotlyServerURL": "https://plot.ly",
        "showLink": true
       },
       "data": [
        {
         "marker": {
          "color": "rgba(255, 153, 51, 0.6)",
          "line": {
           "color": "rgba(255, 153, 51, 1.0)",
           "width": 1
          }
         },
         "name": "Valores",
         "orientation": "v",
         "text": "",
         "type": "bar",
         "x": [
          "A",
          "B",
          "C"
         ],
         "y": [
          32,
          43,
          50
         ]
        }
       ],
       "layout": {
        "legend": {
         "bgcolor": "#F5F6F9",
         "font": {
          "color": "#4D5663"
         }
        },
        "paper_bgcolor": "#F5F6F9",
        "plot_bgcolor": "#F5F6F9",
        "template": {
         "data": {
          "bar": [
           {
            "error_x": {
             "color": "#2a3f5f"
            },
            "error_y": {
             "color": "#2a3f5f"
            },
            "marker": {
             "line": {
              "color": "#E5ECF6",
              "width": 0.5
             }
            },
            "type": "bar"
           }
          ],
          "barpolar": [
           {
            "marker": {
             "line": {
              "color": "#E5ECF6",
              "width": 0.5
             }
            },
            "type": "barpolar"
           }
          ],
          "carpet": [
           {
            "aaxis": {
             "endlinecolor": "#2a3f5f",
             "gridcolor": "white",
             "linecolor": "white",
             "minorgridcolor": "white",
             "startlinecolor": "#2a3f5f"
            },
            "baxis": {
             "endlinecolor": "#2a3f5f",
             "gridcolor": "white",
             "linecolor": "white",
             "minorgridcolor": "white",
             "startlinecolor": "#2a3f5f"
            },
            "type": "carpet"
           }
          ],
          "choropleth": [
           {
            "colorbar": {
             "outlinewidth": 0,
             "ticks": ""
            },
            "type": "choropleth"
           }
          ],
          "contour": [
           {
            "colorbar": {
             "outlinewidth": 0,
             "ticks": ""
            },
            "colorscale": [
             [
              0,
              "#0d0887"
             ],
             [
              0.1111111111111111,
              "#46039f"
             ],
             [
              0.2222222222222222,
              "#7201a8"
             ],
             [
              0.3333333333333333,
              "#9c179e"
             ],
             [
              0.4444444444444444,
              "#bd3786"
             ],
             [
              0.5555555555555556,
              "#d8576b"
             ],
             [
              0.6666666666666666,
              "#ed7953"
             ],
             [
              0.7777777777777778,
              "#fb9f3a"
             ],
             [
              0.8888888888888888,
              "#fdca26"
             ],
             [
              1,
              "#f0f921"
             ]
            ],
            "type": "contour"
           }
          ],
          "contourcarpet": [
           {
            "colorbar": {
             "outlinewidth": 0,
             "ticks": ""
            },
            "type": "contourcarpet"
           }
          ],
          "heatmap": [
           {
            "colorbar": {
             "outlinewidth": 0,
             "ticks": ""
            },
            "colorscale": [
             [
              0,
              "#0d0887"
             ],
             [
              0.1111111111111111,
              "#46039f"
             ],
             [
              0.2222222222222222,
              "#7201a8"
             ],
             [
              0.3333333333333333,
              "#9c179e"
             ],
             [
              0.4444444444444444,
              "#bd3786"
             ],
             [
              0.5555555555555556,
              "#d8576b"
             ],
             [
              0.6666666666666666,
              "#ed7953"
             ],
             [
              0.7777777777777778,
              "#fb9f3a"
             ],
             [
              0.8888888888888888,
              "#fdca26"
             ],
             [
              1,
              "#f0f921"
             ]
            ],
            "type": "heatmap"
           }
          ],
          "heatmapgl": [
           {
            "colorbar": {
             "outlinewidth": 0,
             "ticks": ""
            },
            "colorscale": [
             [
              0,
              "#0d0887"
             ],
             [
              0.1111111111111111,
              "#46039f"
             ],
             [
              0.2222222222222222,
              "#7201a8"
             ],
             [
              0.3333333333333333,
              "#9c179e"
             ],
             [
              0.4444444444444444,
              "#bd3786"
             ],
             [
              0.5555555555555556,
              "#d8576b"
             ],
             [
              0.6666666666666666,
              "#ed7953"
             ],
             [
              0.7777777777777778,
              "#fb9f3a"
             ],
             [
              0.8888888888888888,
              "#fdca26"
             ],
             [
              1,
              "#f0f921"
             ]
            ],
            "type": "heatmapgl"
           }
          ],
          "histogram": [
           {
            "marker": {
             "colorbar": {
              "outlinewidth": 0,
              "ticks": ""
             }
            },
            "type": "histogram"
           }
          ],
          "histogram2d": [
           {
            "colorbar": {
             "outlinewidth": 0,
             "ticks": ""
            },
            "colorscale": [
             [
              0,
              "#0d0887"
             ],
             [
              0.1111111111111111,
              "#46039f"
             ],
             [
              0.2222222222222222,
              "#7201a8"
             ],
             [
              0.3333333333333333,
              "#9c179e"
             ],
             [
              0.4444444444444444,
              "#bd3786"
             ],
             [
              0.5555555555555556,
              "#d8576b"
             ],
             [
              0.6666666666666666,
              "#ed7953"
             ],
             [
              0.7777777777777778,
              "#fb9f3a"
             ],
             [
              0.8888888888888888,
              "#fdca26"
             ],
             [
              1,
              "#f0f921"
             ]
            ],
            "type": "histogram2d"
           }
          ],
          "histogram2dcontour": [
           {
            "colorbar": {
             "outlinewidth": 0,
             "ticks": ""
            },
            "colorscale": [
             [
              0,
              "#0d0887"
             ],
             [
              0.1111111111111111,
              "#46039f"
             ],
             [
              0.2222222222222222,
              "#7201a8"
             ],
             [
              0.3333333333333333,
              "#9c179e"
             ],
             [
              0.4444444444444444,
              "#bd3786"
             ],
             [
              0.5555555555555556,
              "#d8576b"
             ],
             [
              0.6666666666666666,
              "#ed7953"
             ],
             [
              0.7777777777777778,
              "#fb9f3a"
             ],
             [
              0.8888888888888888,
              "#fdca26"
             ],
             [
              1,
              "#f0f921"
             ]
            ],
            "type": "histogram2dcontour"
           }
          ],
          "mesh3d": [
           {
            "colorbar": {
             "outlinewidth": 0,
             "ticks": ""
            },
            "type": "mesh3d"
           }
          ],
          "parcoords": [
           {
            "line": {
             "colorbar": {
              "outlinewidth": 0,
              "ticks": ""
             }
            },
            "type": "parcoords"
           }
          ],
          "pie": [
           {
            "automargin": true,
            "type": "pie"
           }
          ],
          "scatter": [
           {
            "marker": {
             "colorbar": {
              "outlinewidth": 0,
              "ticks": ""
             }
            },
            "type": "scatter"
           }
          ],
          "scatter3d": [
           {
            "line": {
             "colorbar": {
              "outlinewidth": 0,
              "ticks": ""
             }
            },
            "marker": {
             "colorbar": {
              "outlinewidth": 0,
              "ticks": ""
             }
            },
            "type": "scatter3d"
           }
          ],
          "scattercarpet": [
           {
            "marker": {
             "colorbar": {
              "outlinewidth": 0,
              "ticks": ""
             }
            },
            "type": "scattercarpet"
           }
          ],
          "scattergeo": [
           {
            "marker": {
             "colorbar": {
              "outlinewidth": 0,
              "ticks": ""
             }
            },
            "type": "scattergeo"
           }
          ],
          "scattergl": [
           {
            "marker": {
             "colorbar": {
              "outlinewidth": 0,
              "ticks": ""
             }
            },
            "type": "scattergl"
           }
          ],
          "scattermapbox": [
           {
            "marker": {
             "colorbar": {
              "outlinewidth": 0,
              "ticks": ""
             }
            },
            "type": "scattermapbox"
           }
          ],
          "scatterpolar": [
           {
            "marker": {
             "colorbar": {
              "outlinewidth": 0,
              "ticks": ""
             }
            },
            "type": "scatterpolar"
           }
          ],
          "scatterpolargl": [
           {
            "marker": {
             "colorbar": {
              "outlinewidth": 0,
              "ticks": ""
             }
            },
            "type": "scatterpolargl"
           }
          ],
          "scatterternary": [
           {
            "marker": {
             "colorbar": {
              "outlinewidth": 0,
              "ticks": ""
             }
            },
            "type": "scatterternary"
           }
          ],
          "surface": [
           {
            "colorbar": {
             "outlinewidth": 0,
             "ticks": ""
            },
            "colorscale": [
             [
              0,
              "#0d0887"
             ],
             [
              0.1111111111111111,
              "#46039f"
             ],
             [
              0.2222222222222222,
              "#7201a8"
             ],
             [
              0.3333333333333333,
              "#9c179e"
             ],
             [
              0.4444444444444444,
              "#bd3786"
             ],
             [
              0.5555555555555556,
              "#d8576b"
             ],
             [
              0.6666666666666666,
              "#ed7953"
             ],
             [
              0.7777777777777778,
              "#fb9f3a"
             ],
             [
              0.8888888888888888,
              "#fdca26"
             ],
             [
              1,
              "#f0f921"
             ]
            ],
            "type": "surface"
           }
          ],
          "table": [
           {
            "cells": {
             "fill": {
              "color": "#EBF0F8"
             },
             "line": {
              "color": "white"
             }
            },
            "header": {
             "fill": {
              "color": "#C8D4E3"
             },
             "line": {
              "color": "white"
             }
            },
            "type": "table"
           }
          ]
         },
         "layout": {
          "annotationdefaults": {
           "arrowcolor": "#2a3f5f",
           "arrowhead": 0,
           "arrowwidth": 1
          },
          "autotypenumbers": "strict",
          "coloraxis": {
           "colorbar": {
            "outlinewidth": 0,
            "ticks": ""
           }
          },
          "colorscale": {
           "diverging": [
            [
             0,
             "#8e0152"
            ],
            [
             0.1,
             "#c51b7d"
            ],
            [
             0.2,
             "#de77ae"
            ],
            [
             0.3,
             "#f1b6da"
            ],
            [
             0.4,
             "#fde0ef"
            ],
            [
             0.5,
             "#f7f7f7"
            ],
            [
             0.6,
             "#e6f5d0"
            ],
            [
             0.7,
             "#b8e186"
            ],
            [
             0.8,
             "#7fbc41"
            ],
            [
             0.9,
             "#4d9221"
            ],
            [
             1,
             "#276419"
            ]
           ],
           "sequential": [
            [
             0,
             "#0d0887"
            ],
            [
             0.1111111111111111,
             "#46039f"
            ],
            [
             0.2222222222222222,
             "#7201a8"
            ],
            [
             0.3333333333333333,
             "#9c179e"
            ],
            [
             0.4444444444444444,
             "#bd3786"
            ],
            [
             0.5555555555555556,
             "#d8576b"
            ],
            [
             0.6666666666666666,
             "#ed7953"
            ],
            [
             0.7777777777777778,
             "#fb9f3a"
            ],
            [
             0.8888888888888888,
             "#fdca26"
            ],
            [
             1,
             "#f0f921"
            ]
           ],
           "sequentialminus": [
            [
             0,
             "#0d0887"
            ],
            [
             0.1111111111111111,
             "#46039f"
            ],
            [
             0.2222222222222222,
             "#7201a8"
            ],
            [
             0.3333333333333333,
             "#9c179e"
            ],
            [
             0.4444444444444444,
             "#bd3786"
            ],
            [
             0.5555555555555556,
             "#d8576b"
            ],
            [
             0.6666666666666666,
             "#ed7953"
            ],
            [
             0.7777777777777778,
             "#fb9f3a"
            ],
            [
             0.8888888888888888,
             "#fdca26"
            ],
            [
             1,
             "#f0f921"
            ]
           ]
          },
          "colorway": [
           "#636efa",
           "#EF553B",
           "#00cc96",
           "#ab63fa",
           "#FFA15A",
           "#19d3f3",
           "#FF6692",
           "#B6E880",
           "#FF97FF",
           "#FECB52"
          ],
          "font": {
           "color": "#2a3f5f"
          },
          "geo": {
           "bgcolor": "white",
           "lakecolor": "white",
           "landcolor": "#E5ECF6",
           "showlakes": true,
           "showland": true,
           "subunitcolor": "white"
          },
          "hoverlabel": {
           "align": "left"
          },
          "hovermode": "closest",
          "mapbox": {
           "style": "light"
          },
          "paper_bgcolor": "white",
          "plot_bgcolor": "#E5ECF6",
          "polar": {
           "angularaxis": {
            "gridcolor": "white",
            "linecolor": "white",
            "ticks": ""
           },
           "bgcolor": "#E5ECF6",
           "radialaxis": {
            "gridcolor": "white",
            "linecolor": "white",
            "ticks": ""
           }
          },
          "scene": {
           "xaxis": {
            "backgroundcolor": "#E5ECF6",
            "gridcolor": "white",
            "gridwidth": 2,
            "linecolor": "white",
            "showbackground": true,
            "ticks": "",
            "zerolinecolor": "white"
           },
           "yaxis": {
            "backgroundcolor": "#E5ECF6",
            "gridcolor": "white",
            "gridwidth": 2,
            "linecolor": "white",
            "showbackground": true,
            "ticks": "",
            "zerolinecolor": "white"
           },
           "zaxis": {
            "backgroundcolor": "#E5ECF6",
            "gridcolor": "white",
            "gridwidth": 2,
            "linecolor": "white",
            "showbackground": true,
            "ticks": "",
            "zerolinecolor": "white"
           }
          },
          "shapedefaults": {
           "line": {
            "color": "#2a3f5f"
           }
          },
          "ternary": {
           "aaxis": {
            "gridcolor": "white",
            "linecolor": "white",
            "ticks": ""
           },
           "baxis": {
            "gridcolor": "white",
            "linecolor": "white",
            "ticks": ""
           },
           "bgcolor": "#E5ECF6",
           "caxis": {
            "gridcolor": "white",
            "linecolor": "white",
            "ticks": ""
           }
          },
          "title": {
           "x": 0.05
          },
          "xaxis": {
           "automargin": true,
           "gridcolor": "white",
           "linecolor": "white",
           "ticks": "",
           "title": {
            "standoff": 15
           },
           "zerolinecolor": "white",
           "zerolinewidth": 2
          },
          "yaxis": {
           "automargin": true,
           "gridcolor": "white",
           "linecolor": "white",
           "ticks": "",
           "title": {
            "standoff": 15
           },
           "zerolinecolor": "white",
           "zerolinewidth": 2
          }
         }
        },
        "title": {
         "font": {
          "color": "#4D5663"
         }
        },
        "xaxis": {
         "gridcolor": "#E1E5ED",
         "showgrid": true,
         "tickfont": {
          "color": "#4D5663"
         },
         "title": {
          "font": {
           "color": "#4D5663"
          },
          "text": ""
         },
         "zerolinecolor": "#E1E5ED"
        },
        "yaxis": {
         "gridcolor": "#E1E5ED",
         "showgrid": true,
         "tickfont": {
          "color": "#4D5663"
         },
         "title": {
          "font": {
           "color": "#4D5663"
          },
          "text": ""
         },
         "zerolinecolor": "#E1E5ED"
        }
       }
      },
      "text/html": [
       "<div>                            <div id=\"44d6acac-4707-49d6-bce5-eddb487e8888\" class=\"plotly-graph-div\" style=\"height:525px; width:100%;\"></div>            <script type=\"text/javascript\">                require([\"plotly\"], function(Plotly) {                    window.PLOTLYENV=window.PLOTLYENV || {};\n",
       "                    window.PLOTLYENV.BASE_URL='https://plot.ly';                                    if (document.getElementById(\"44d6acac-4707-49d6-bce5-eddb487e8888\")) {                    Plotly.newPlot(                        \"44d6acac-4707-49d6-bce5-eddb487e8888\",                        [{\"marker\": {\"color\": \"rgba(255, 153, 51, 0.6)\", \"line\": {\"color\": \"rgba(255, 153, 51, 1.0)\", \"width\": 1}}, \"name\": \"Valores\", \"orientation\": \"v\", \"text\": \"\", \"type\": \"bar\", \"x\": [\"A\", \"B\", \"C\"], \"y\": [32, 43, 50]}],                        {\"legend\": {\"bgcolor\": \"#F5F6F9\", \"font\": {\"color\": \"#4D5663\"}}, \"paper_bgcolor\": \"#F5F6F9\", \"plot_bgcolor\": \"#F5F6F9\", \"template\": {\"data\": {\"bar\": [{\"error_x\": {\"color\": \"#2a3f5f\"}, \"error_y\": {\"color\": \"#2a3f5f\"}, \"marker\": {\"line\": {\"color\": \"#E5ECF6\", \"width\": 0.5}}, \"type\": \"bar\"}], \"barpolar\": [{\"marker\": {\"line\": {\"color\": \"#E5ECF6\", \"width\": 0.5}}, \"type\": \"barpolar\"}], \"carpet\": [{\"aaxis\": {\"endlinecolor\": \"#2a3f5f\", \"gridcolor\": \"white\", \"linecolor\": \"white\", \"minorgridcolor\": \"white\", \"startlinecolor\": \"#2a3f5f\"}, \"baxis\": {\"endlinecolor\": \"#2a3f5f\", \"gridcolor\": \"white\", \"linecolor\": \"white\", \"minorgridcolor\": \"white\", \"startlinecolor\": \"#2a3f5f\"}, \"type\": \"carpet\"}], \"choropleth\": [{\"colorbar\": {\"outlinewidth\": 0, \"ticks\": \"\"}, \"type\": \"choropleth\"}], \"contour\": [{\"colorbar\": {\"outlinewidth\": 0, \"ticks\": \"\"}, \"colorscale\": [[0.0, \"#0d0887\"], [0.1111111111111111, \"#46039f\"], [0.2222222222222222, \"#7201a8\"], [0.3333333333333333, \"#9c179e\"], [0.4444444444444444, \"#bd3786\"], [0.5555555555555556, \"#d8576b\"], [0.6666666666666666, \"#ed7953\"], [0.7777777777777778, \"#fb9f3a\"], [0.8888888888888888, \"#fdca26\"], [1.0, \"#f0f921\"]], \"type\": \"contour\"}], \"contourcarpet\": [{\"colorbar\": {\"outlinewidth\": 0, \"ticks\": \"\"}, \"type\": \"contourcarpet\"}], \"heatmap\": [{\"colorbar\": {\"outlinewidth\": 0, \"ticks\": \"\"}, \"colorscale\": [[0.0, \"#0d0887\"], [0.1111111111111111, \"#46039f\"], [0.2222222222222222, \"#7201a8\"], [0.3333333333333333, \"#9c179e\"], [0.4444444444444444, \"#bd3786\"], [0.5555555555555556, \"#d8576b\"], [0.6666666666666666, \"#ed7953\"], [0.7777777777777778, \"#fb9f3a\"], [0.8888888888888888, \"#fdca26\"], [1.0, \"#f0f921\"]], \"type\": \"heatmap\"}], \"heatmapgl\": [{\"colorbar\": {\"outlinewidth\": 0, \"ticks\": \"\"}, \"colorscale\": [[0.0, \"#0d0887\"], [0.1111111111111111, \"#46039f\"], [0.2222222222222222, \"#7201a8\"], [0.3333333333333333, \"#9c179e\"], [0.4444444444444444, \"#bd3786\"], [0.5555555555555556, \"#d8576b\"], [0.6666666666666666, \"#ed7953\"], [0.7777777777777778, \"#fb9f3a\"], [0.8888888888888888, \"#fdca26\"], [1.0, \"#f0f921\"]], \"type\": \"heatmapgl\"}], \"histogram\": [{\"marker\": {\"colorbar\": {\"outlinewidth\": 0, \"ticks\": \"\"}}, \"type\": \"histogram\"}], \"histogram2d\": [{\"colorbar\": {\"outlinewidth\": 0, \"ticks\": \"\"}, \"colorscale\": [[0.0, \"#0d0887\"], [0.1111111111111111, \"#46039f\"], [0.2222222222222222, \"#7201a8\"], [0.3333333333333333, \"#9c179e\"], [0.4444444444444444, \"#bd3786\"], [0.5555555555555556, \"#d8576b\"], [0.6666666666666666, \"#ed7953\"], [0.7777777777777778, \"#fb9f3a\"], [0.8888888888888888, \"#fdca26\"], [1.0, \"#f0f921\"]], \"type\": \"histogram2d\"}], \"histogram2dcontour\": [{\"colorbar\": {\"outlinewidth\": 0, \"ticks\": \"\"}, \"colorscale\": [[0.0, \"#0d0887\"], [0.1111111111111111, \"#46039f\"], [0.2222222222222222, \"#7201a8\"], [0.3333333333333333, \"#9c179e\"], [0.4444444444444444, \"#bd3786\"], [0.5555555555555556, \"#d8576b\"], [0.6666666666666666, \"#ed7953\"], [0.7777777777777778, \"#fb9f3a\"], [0.8888888888888888, \"#fdca26\"], [1.0, \"#f0f921\"]], \"type\": \"histogram2dcontour\"}], \"mesh3d\": [{\"colorbar\": {\"outlinewidth\": 0, \"ticks\": \"\"}, \"type\": \"mesh3d\"}], \"parcoords\": [{\"line\": {\"colorbar\": {\"outlinewidth\": 0, \"ticks\": \"\"}}, \"type\": \"parcoords\"}], \"pie\": [{\"automargin\": true, \"type\": \"pie\"}], \"scatter\": [{\"marker\": {\"colorbar\": {\"outlinewidth\": 0, \"ticks\": \"\"}}, \"type\": \"scatter\"}], \"scatter3d\": [{\"line\": {\"colorbar\": {\"outlinewidth\": 0, \"ticks\": \"\"}}, \"marker\": {\"colorbar\": {\"outlinewidth\": 0, \"ticks\": \"\"}}, \"type\": \"scatter3d\"}], \"scattercarpet\": [{\"marker\": {\"colorbar\": {\"outlinewidth\": 0, \"ticks\": \"\"}}, \"type\": \"scattercarpet\"}], \"scattergeo\": [{\"marker\": {\"colorbar\": {\"outlinewidth\": 0, \"ticks\": \"\"}}, \"type\": \"scattergeo\"}], \"scattergl\": [{\"marker\": {\"colorbar\": {\"outlinewidth\": 0, \"ticks\": \"\"}}, \"type\": \"scattergl\"}], \"scattermapbox\": [{\"marker\": {\"colorbar\": {\"outlinewidth\": 0, \"ticks\": \"\"}}, \"type\": \"scattermapbox\"}], \"scatterpolar\": [{\"marker\": {\"colorbar\": {\"outlinewidth\": 0, \"ticks\": \"\"}}, \"type\": \"scatterpolar\"}], \"scatterpolargl\": [{\"marker\": {\"colorbar\": {\"outlinewidth\": 0, \"ticks\": \"\"}}, \"type\": \"scatterpolargl\"}], \"scatterternary\": [{\"marker\": {\"colorbar\": {\"outlinewidth\": 0, \"ticks\": \"\"}}, \"type\": \"scatterternary\"}], \"surface\": [{\"colorbar\": {\"outlinewidth\": 0, \"ticks\": \"\"}, \"colorscale\": [[0.0, \"#0d0887\"], [0.1111111111111111, \"#46039f\"], [0.2222222222222222, \"#7201a8\"], [0.3333333333333333, \"#9c179e\"], [0.4444444444444444, \"#bd3786\"], [0.5555555555555556, \"#d8576b\"], [0.6666666666666666, \"#ed7953\"], [0.7777777777777778, \"#fb9f3a\"], [0.8888888888888888, \"#fdca26\"], [1.0, \"#f0f921\"]], \"type\": \"surface\"}], \"table\": [{\"cells\": {\"fill\": {\"color\": \"#EBF0F8\"}, \"line\": {\"color\": \"white\"}}, \"header\": {\"fill\": {\"color\": \"#C8D4E3\"}, \"line\": {\"color\": \"white\"}}, \"type\": \"table\"}]}, \"layout\": {\"annotationdefaults\": {\"arrowcolor\": \"#2a3f5f\", \"arrowhead\": 0, \"arrowwidth\": 1}, \"autotypenumbers\": \"strict\", \"coloraxis\": {\"colorbar\": {\"outlinewidth\": 0, \"ticks\": \"\"}}, \"colorscale\": {\"diverging\": [[0, \"#8e0152\"], [0.1, \"#c51b7d\"], [0.2, \"#de77ae\"], [0.3, \"#f1b6da\"], [0.4, \"#fde0ef\"], [0.5, \"#f7f7f7\"], [0.6, \"#e6f5d0\"], [0.7, \"#b8e186\"], [0.8, \"#7fbc41\"], [0.9, \"#4d9221\"], [1, \"#276419\"]], \"sequential\": [[0.0, \"#0d0887\"], [0.1111111111111111, \"#46039f\"], [0.2222222222222222, \"#7201a8\"], [0.3333333333333333, \"#9c179e\"], [0.4444444444444444, \"#bd3786\"], [0.5555555555555556, \"#d8576b\"], [0.6666666666666666, \"#ed7953\"], [0.7777777777777778, \"#fb9f3a\"], [0.8888888888888888, \"#fdca26\"], [1.0, \"#f0f921\"]], \"sequentialminus\": [[0.0, \"#0d0887\"], [0.1111111111111111, \"#46039f\"], [0.2222222222222222, \"#7201a8\"], [0.3333333333333333, \"#9c179e\"], [0.4444444444444444, \"#bd3786\"], [0.5555555555555556, \"#d8576b\"], [0.6666666666666666, \"#ed7953\"], [0.7777777777777778, \"#fb9f3a\"], [0.8888888888888888, \"#fdca26\"], [1.0, \"#f0f921\"]]}, \"colorway\": [\"#636efa\", \"#EF553B\", \"#00cc96\", \"#ab63fa\", \"#FFA15A\", \"#19d3f3\", \"#FF6692\", \"#B6E880\", \"#FF97FF\", \"#FECB52\"], \"font\": {\"color\": \"#2a3f5f\"}, \"geo\": {\"bgcolor\": \"white\", \"lakecolor\": \"white\", \"landcolor\": \"#E5ECF6\", \"showlakes\": true, \"showland\": true, \"subunitcolor\": \"white\"}, \"hoverlabel\": {\"align\": \"left\"}, \"hovermode\": \"closest\", \"mapbox\": {\"style\": \"light\"}, \"paper_bgcolor\": \"white\", \"plot_bgcolor\": \"#E5ECF6\", \"polar\": {\"angularaxis\": {\"gridcolor\": \"white\", \"linecolor\": \"white\", \"ticks\": \"\"}, \"bgcolor\": \"#E5ECF6\", \"radialaxis\": {\"gridcolor\": \"white\", \"linecolor\": \"white\", \"ticks\": \"\"}}, \"scene\": {\"xaxis\": {\"backgroundcolor\": \"#E5ECF6\", \"gridcolor\": \"white\", \"gridwidth\": 2, \"linecolor\": \"white\", \"showbackground\": true, \"ticks\": \"\", \"zerolinecolor\": \"white\"}, \"yaxis\": {\"backgroundcolor\": \"#E5ECF6\", \"gridcolor\": \"white\", \"gridwidth\": 2, \"linecolor\": \"white\", \"showbackground\": true, \"ticks\": \"\", \"zerolinecolor\": \"white\"}, \"zaxis\": {\"backgroundcolor\": \"#E5ECF6\", \"gridcolor\": \"white\", \"gridwidth\": 2, \"linecolor\": \"white\", \"showbackground\": true, \"ticks\": \"\", \"zerolinecolor\": \"white\"}}, \"shapedefaults\": {\"line\": {\"color\": \"#2a3f5f\"}}, \"ternary\": {\"aaxis\": {\"gridcolor\": \"white\", \"linecolor\": \"white\", \"ticks\": \"\"}, \"baxis\": {\"gridcolor\": \"white\", \"linecolor\": \"white\", \"ticks\": \"\"}, \"bgcolor\": \"#E5ECF6\", \"caxis\": {\"gridcolor\": \"white\", \"linecolor\": \"white\", \"ticks\": \"\"}}, \"title\": {\"x\": 0.05}, \"xaxis\": {\"automargin\": true, \"gridcolor\": \"white\", \"linecolor\": \"white\", \"ticks\": \"\", \"title\": {\"standoff\": 15}, \"zerolinecolor\": \"white\", \"zerolinewidth\": 2}, \"yaxis\": {\"automargin\": true, \"gridcolor\": \"white\", \"linecolor\": \"white\", \"ticks\": \"\", \"title\": {\"standoff\": 15}, \"zerolinecolor\": \"white\", \"zerolinewidth\": 2}}}, \"title\": {\"font\": {\"color\": \"#4D5663\"}}, \"xaxis\": {\"gridcolor\": \"#E1E5ED\", \"showgrid\": true, \"tickfont\": {\"color\": \"#4D5663\"}, \"title\": {\"font\": {\"color\": \"#4D5663\"}, \"text\": \"\"}, \"zerolinecolor\": \"#E1E5ED\"}, \"yaxis\": {\"gridcolor\": \"#E1E5ED\", \"showgrid\": true, \"tickfont\": {\"color\": \"#4D5663\"}, \"title\": {\"font\": {\"color\": \"#4D5663\"}, \"text\": \"\"}, \"zerolinecolor\": \"#E1E5ED\"}},                        {\"showLink\": true, \"linkText\": \"Export to plot.ly\", \"plotlyServerURL\": \"https://plot.ly\", \"responsive\": true}                    ).then(function(){\n",
       "                            \n",
       "var gd = document.getElementById('44d6acac-4707-49d6-bce5-eddb487e8888');\n",
       "var x = new MutationObserver(function (mutations, observer) {{\n",
       "        var display = window.getComputedStyle(gd).display;\n",
       "        if (!display || display === 'none') {{\n",
       "            console.log([gd, 'removed!']);\n",
       "            Plotly.purge(gd);\n",
       "            observer.disconnect();\n",
       "        }}\n",
       "}});\n",
       "\n",
       "// Listen for the removal of the full notebook cells\n",
       "var notebookContainer = gd.closest('#notebook-container');\n",
       "if (notebookContainer) {{\n",
       "    x.observe(notebookContainer, {childList: true});\n",
       "}}\n",
       "\n",
       "// Listen for the clearing of the current output cell\n",
       "var outputEl = gd.closest('.output');\n",
       "if (outputEl) {{\n",
       "    x.observe(outputEl, {childList: true});\n",
       "}}\n",
       "\n",
       "                        })                };                });            </script>        </div>"
      ]
     },
     "metadata": {},
     "output_type": "display_data"
    }
   ],
   "source": [
    "df2.iplot(kind='bar', x='Categoria', y='Valores')"
   ]
  },
  {
   "cell_type": "markdown",
   "metadata": {},
   "source": [
    "### Criando um gráfico de box de quartis"
   ]
  },
  {
   "cell_type": "code",
   "execution_count": 16,
   "metadata": {},
   "outputs": [
    {
     "data": {
      "application/vnd.plotly.v1+json": {
       "config": {
        "linkText": "Export to plot.ly",
        "plotlyServerURL": "https://plot.ly",
        "showLink": true
       },
       "data": [
        {
         "boxpoints": false,
         "line": {
          "width": 1.3
         },
         "marker": {
          "color": "rgba(255, 153, 51, 1.0)"
         },
         "name": "A",
         "orientation": "v",
         "type": "box",
         "y": [
          0.522347272199525,
          0.36817438810491,
          0.0010112605725656199,
          0.9057807174375636,
          0.7384316849079128,
          0.1591551902131888,
          0.183934903423408,
          0.21028223913407484,
          0.5425235102718765,
          0.829885672257394,
          0.7519738973190104,
          0.44385066073449053,
          0.019331177627519902,
          0.5493141819077285,
          0.43307252891392767,
          0.9682569387990952,
          0.11384486841087482,
          0.1590031755729575,
          0.2169754925882097,
          0.5190633136071182,
          0.6609987922208981,
          0.7035280901951679,
          0.3382248559583705,
          0.21615833703988963,
          0.3846361972132023,
          0.055377027460866035,
          0.5234708831540881,
          0.684563444434096,
          0.7089472904480765,
          0.613459906336003,
          0.024396710654762233,
          0.863173763520489,
          0.07096952088354769,
          0.2847928024195078,
          0.8333035039784051,
          0.21383937024242794,
          0.2758222933337888,
          0.7831230087068312,
          0.8516095108356362,
          0.7137903428534593,
          0.6330296758278816,
          0.06523375411443222,
          0.16252955476389142,
          0.3412202916179925,
          0.6962010444797161,
          0.8409563865781624,
          0.30669072720402835,
          0.3725501743663695,
          0.1946819498048723,
          0.17228845089530231,
          0.2568958156082274,
          0.1534823782996152,
          0.9486771411358706,
          0.25786083917786273,
          0.22917003023574523,
          0.5037887336139055,
          0.7901287685428313,
          0.6573510576728744,
          0.7684124144914483,
          0.014870731222623168,
          0.6715626271577866,
          0.010697629160978939,
          0.001866724770348549,
          0.19855030665887508,
          0.1746506780786472,
          0.40914788030905846,
          0.2777894983058271,
          0.4084550388889513,
          0.48623574463775054,
          0.6979433401930659,
          0.7989290510929793,
          0.7582910228703558,
          0.46838736729978614,
          0.057922779673538094,
          0.6559701305443183,
          0.12023603801724625,
          0.3382097627565869,
          0.86046125257498,
          0.5613916849013729,
          0.42542919093183773,
          0.3122730418753221,
          0.014989821263473702,
          0.4333077153710524,
          0.5004352265082898,
          0.05414301370623442,
          0.5717783526285637,
          0.8772586029905328,
          0.22266512257475657,
          0.5068896410400924,
          0.06552324721531144,
          0.5373357865127935,
          0.7467424313884923,
          0.9567202371927418,
          0.3964129865509076,
          0.31767853175412575,
          0.14119743542373886,
          0.6185496464600199,
          0.40141784167385464,
          0.2307858594556288,
          0.13704215385049778
         ]
        },
        {
         "boxpoints": false,
         "line": {
          "width": 1.3
         },
         "marker": {
          "color": "rgba(55, 128, 191, 1.0)"
         },
         "name": "B",
         "orientation": "v",
         "type": "box",
         "y": [
          0.6223770751356761,
          0.3416445020886866,
          0.9971754580323123,
          0.9950524972421991,
          0.139706690041413,
          0.97337753397297,
          0.17019811188026457,
          0.13297246149589348,
          0.5112700763585448,
          0.5231345078299766,
          0.6401770475525225,
          0.8486728789085054,
          0.32960172011473265,
          0.5535922186753318,
          0.5979005822666698,
          0.9802069118862393,
          0.6935871528877221,
          0.6805848666048713,
          0.24598940851936357,
          0.4282626059838952,
          0.19127605696467853,
          0.6225268191350222,
          0.23320264078302066,
          0.48933844966190876,
          0.21942404016854,
          0.851209187484054,
          0.8077751381648538,
          0.4695841707826717,
          0.5260616156288477,
          0.6871504323636946,
          0.22725204415995914,
          0.7974082952586401,
          0.8741857461914679,
          0.3221236227529417,
          0.685973331967647,
          0.42063010160291725,
          0.007343915548235769,
          0.9092139571979199,
          0.024532211610490018,
          0.8274006503674203,
          0.4320308212969496,
          0.9480716795505977,
          0.5557150798236625,
          0.40842131707276563,
          0.4639352220958872,
          0.1449430807398373,
          0.3374661160817264,
          0.8766276775722553,
          0.7714800171519953,
          0.46581484015568697,
          0.9612034584567597,
          0.7520318786681476,
          0.4571010307621315,
          0.7886553394413793,
          0.5670803172017644,
          0.902855913290173,
          0.1946403073620262,
          0.9279093748297184,
          0.6488904817389123,
          0.78642792635236,
          0.092469853089296,
          0.14206876541118296,
          0.35209955641330803,
          0.3565475695518735,
          0.6190868391571726,
          0.9774504503283681,
          0.7475599926339814,
          0.812659821012732,
          0.08391659033449617,
          0.3594271806040815,
          0.09314230103499987,
          0.9929089666406649,
          0.5102785105053524,
          0.9325615962779351,
          0.5279940897747859,
          0.558417503387099,
          0.8471234593254293,
          0.8215181676643304,
          0.4694068589509176,
          0.07913988689432694,
          0.3516123599742621,
          0.8533595285215351,
          0.008119480528145484,
          0.646087726094201,
          0.14199480209371362,
          0.2699901803856761,
          0.7143113007959809,
          0.6206335350655173,
          0.7141016055659357,
          0.047068041441382436,
          0.9223009538279476,
          0.09446291161536402,
          0.9489886100218277,
          0.9750843802396616,
          0.9277824174042508,
          0.7605825286603557,
          0.4538473633176765,
          0.23516633808786724,
          0.9069438664199233,
          0.0635920025401463
         ]
        },
        {
         "boxpoints": false,
         "line": {
          "width": 1.3
         },
         "marker": {
          "color": "rgba(50, 171, 96, 1.0)"
         },
         "name": "C",
         "orientation": "v",
         "type": "box",
         "y": [
          0.09380503798031237,
          0.6526759758934895,
          0.16152349840004232,
          0.25885213526336925,
          0.6038155075983096,
          0.12444921150278254,
          0.4081905383651053,
          0.0856447682824103,
          0.8698656837212047,
          0.7864111638195007,
          0.7825385253280719,
          0.989285497141012,
          0.8095830227158207,
          0.7255092100202046,
          0.5185601147475711,
          0.7689513921723563,
          0.5028279886669335,
          0.7345196218534636,
          0.9744608590874142,
          0.4761370202173333,
          0.008861147125629354,
          0.5388443497493796,
          0.6656293463403312,
          0.008601059414690582,
          0.5135512515383084,
          0.9103780677202373,
          0.4587111186339282,
          0.8372043249635635,
          0.03244716148845039,
          0.7145399148286244,
          0.7799655808965369,
          0.9289674543083432,
          0.7256487173206256,
          0.9437703252058233,
          0.3627547895564347,
          0.8139754564874104,
          0.5132015501603648,
          0.8563123536504531,
          0.6921533327565024,
          0.7240783168468496,
          0.5013029903827229,
          0.1438874608714732,
          0.2295898338029112,
          0.800407192342202,
          0.5996586667602364,
          0.2958846247290571,
          0.20650797226437112,
          0.14061356476170384,
          0.5573955166969558,
          0.963371812387484,
          0.7846642684329815,
          0.3885837088073191,
          0.3199160673306567,
          0.6420635153603851,
          0.35263369966648694,
          0.40748220837865257,
          0.0897624917034805,
          0.5973844642681456,
          0.2131835121306419,
          0.2475350021599133,
          0.9297310288514424,
          0.946796227861677,
          0.3770217985171824,
          0.3783847547891783,
          0.9927075369507348,
          0.27891584456349794,
          0.2880976244887994,
          0.09065713586937318,
          0.3931040655132225,
          0.23669182347192008,
          0.15586718917599607,
          0.2279235750725791,
          0.8796690357075487,
          0.5187316084164268,
          0.4513832322497191,
          0.5540745783395014,
          0.04156052807916366,
          0.4443462601519005,
          0.692901822787496,
          0.2248325046412486,
          0.9919435185541612,
          0.4861547749772823,
          0.7754332776359236,
          0.6757577201573153,
          0.06931940716226204,
          0.28647258696927147,
          0.4415532672592548,
          0.7584892176037682,
          0.16823235607768705,
          0.6587938768913424,
          0.10044053786219476,
          0.08476376269583341,
          0.543827301225614,
          0.4154943916327881,
          0.6345508079492399,
          0.8164541159085817,
          0.10192921003882327,
          0.23598578798322323,
          0.2715593802185342,
          0.950036089672961
         ]
        },
        {
         "boxpoints": false,
         "line": {
          "width": 1.3
         },
         "marker": {
          "color": "rgba(128, 0, 128, 1.0)"
         },
         "name": "D",
         "orientation": "v",
         "type": "box",
         "y": [
          0.9346393437613366,
          0.252958136991432,
          0.07003297375437512,
          0.3582840478916085,
          0.8840384570989815,
          0.42538620416837003,
          0.8422658213094364,
          0.9138359962782545,
          0.4911302729029282,
          0.34945035754671705,
          0.8812835967905034,
          0.6333305016978108,
          0.6347602581696066,
          0.7197170468368065,
          0.5788768069373421,
          0.2408013204640741,
          0.9879324626242971,
          0.5164122289856797,
          0.3818211226714455,
          0.9517789224117948,
          0.8835517907989451,
          0.22924111559361737,
          0.239131370914902,
          0.09876930995477295,
          0.9888995184554749,
          0.747606118899924,
          0.39286956582633614,
          0.6048409469693944,
          0.8620820320927773,
          0.35360465402161023,
          0.5602058479032207,
          0.680728677321006,
          0.02901077871292812,
          0.9035486638560817,
          0.14231539286055106,
          0.15553137825302832,
          0.793409548594289,
          0.5398433929523276,
          0.146464282195094,
          0.5703799874715035,
          0.8044355195012435,
          0.7039588028633254,
          0.17155165600787747,
          0.04757395148304666,
          0.4092880199511377,
          0.015824593994852587,
          0.6064288036517577,
          0.6072249260796262,
          0.03432881777771024,
          0.5343625427188801,
          0.851077082381364,
          0.9570804516946935,
          0.278266331225548,
          0.04805602451244784,
          0.5807689847525798,
          0.30492695492450483,
          0.7504567956856679,
          0.15821063989633388,
          0.44376728077255345,
          0.5051110350596844,
          0.6846816931403839,
          0.5861006841761461,
          0.10356669488190007,
          0.9759077922327591,
          0.11210276544417941,
          0.6573715883495088,
          0.6870133902678076,
          0.4296343693443144,
          0.5736519272716726,
          0.07873911028793468,
          0.08166145378763146,
          0.8090912545179954,
          0.8128174971281759,
          0.11240827128296138,
          0.6905433868515691,
          0.23378205774432048,
          0.005475311723259768,
          0.18289043528022209,
          0.9616911528717593,
          0.7782271907089138,
          0.5823571430675251,
          0.8436650443121044,
          0.24088043001728998,
          0.6922955393397364,
          0.44671676755200607,
          0.20623161274390878,
          0.7950234030767607,
          0.09158151848464047,
          0.7402150155337445,
          0.9439766819186408,
          0.27504913366297123,
          0.22363598114010697,
          0.9029881576715304,
          0.13608853355236517,
          0.8747424842048145,
          0.11013924378586093,
          0.19182948135356725,
          0.7016629627171346,
          0.24849790983975306,
          0.7747748319967561
         ]
        }
       ],
       "layout": {
        "legend": {
         "bgcolor": "#F5F6F9",
         "font": {
          "color": "#4D5663"
         }
        },
        "paper_bgcolor": "#F5F6F9",
        "plot_bgcolor": "#F5F6F9",
        "template": {
         "data": {
          "bar": [
           {
            "error_x": {
             "color": "#2a3f5f"
            },
            "error_y": {
             "color": "#2a3f5f"
            },
            "marker": {
             "line": {
              "color": "#E5ECF6",
              "width": 0.5
             }
            },
            "type": "bar"
           }
          ],
          "barpolar": [
           {
            "marker": {
             "line": {
              "color": "#E5ECF6",
              "width": 0.5
             }
            },
            "type": "barpolar"
           }
          ],
          "carpet": [
           {
            "aaxis": {
             "endlinecolor": "#2a3f5f",
             "gridcolor": "white",
             "linecolor": "white",
             "minorgridcolor": "white",
             "startlinecolor": "#2a3f5f"
            },
            "baxis": {
             "endlinecolor": "#2a3f5f",
             "gridcolor": "white",
             "linecolor": "white",
             "minorgridcolor": "white",
             "startlinecolor": "#2a3f5f"
            },
            "type": "carpet"
           }
          ],
          "choropleth": [
           {
            "colorbar": {
             "outlinewidth": 0,
             "ticks": ""
            },
            "type": "choropleth"
           }
          ],
          "contour": [
           {
            "colorbar": {
             "outlinewidth": 0,
             "ticks": ""
            },
            "colorscale": [
             [
              0,
              "#0d0887"
             ],
             [
              0.1111111111111111,
              "#46039f"
             ],
             [
              0.2222222222222222,
              "#7201a8"
             ],
             [
              0.3333333333333333,
              "#9c179e"
             ],
             [
              0.4444444444444444,
              "#bd3786"
             ],
             [
              0.5555555555555556,
              "#d8576b"
             ],
             [
              0.6666666666666666,
              "#ed7953"
             ],
             [
              0.7777777777777778,
              "#fb9f3a"
             ],
             [
              0.8888888888888888,
              "#fdca26"
             ],
             [
              1,
              "#f0f921"
             ]
            ],
            "type": "contour"
           }
          ],
          "contourcarpet": [
           {
            "colorbar": {
             "outlinewidth": 0,
             "ticks": ""
            },
            "type": "contourcarpet"
           }
          ],
          "heatmap": [
           {
            "colorbar": {
             "outlinewidth": 0,
             "ticks": ""
            },
            "colorscale": [
             [
              0,
              "#0d0887"
             ],
             [
              0.1111111111111111,
              "#46039f"
             ],
             [
              0.2222222222222222,
              "#7201a8"
             ],
             [
              0.3333333333333333,
              "#9c179e"
             ],
             [
              0.4444444444444444,
              "#bd3786"
             ],
             [
              0.5555555555555556,
              "#d8576b"
             ],
             [
              0.6666666666666666,
              "#ed7953"
             ],
             [
              0.7777777777777778,
              "#fb9f3a"
             ],
             [
              0.8888888888888888,
              "#fdca26"
             ],
             [
              1,
              "#f0f921"
             ]
            ],
            "type": "heatmap"
           }
          ],
          "heatmapgl": [
           {
            "colorbar": {
             "outlinewidth": 0,
             "ticks": ""
            },
            "colorscale": [
             [
              0,
              "#0d0887"
             ],
             [
              0.1111111111111111,
              "#46039f"
             ],
             [
              0.2222222222222222,
              "#7201a8"
             ],
             [
              0.3333333333333333,
              "#9c179e"
             ],
             [
              0.4444444444444444,
              "#bd3786"
             ],
             [
              0.5555555555555556,
              "#d8576b"
             ],
             [
              0.6666666666666666,
              "#ed7953"
             ],
             [
              0.7777777777777778,
              "#fb9f3a"
             ],
             [
              0.8888888888888888,
              "#fdca26"
             ],
             [
              1,
              "#f0f921"
             ]
            ],
            "type": "heatmapgl"
           }
          ],
          "histogram": [
           {
            "marker": {
             "colorbar": {
              "outlinewidth": 0,
              "ticks": ""
             }
            },
            "type": "histogram"
           }
          ],
          "histogram2d": [
           {
            "colorbar": {
             "outlinewidth": 0,
             "ticks": ""
            },
            "colorscale": [
             [
              0,
              "#0d0887"
             ],
             [
              0.1111111111111111,
              "#46039f"
             ],
             [
              0.2222222222222222,
              "#7201a8"
             ],
             [
              0.3333333333333333,
              "#9c179e"
             ],
             [
              0.4444444444444444,
              "#bd3786"
             ],
             [
              0.5555555555555556,
              "#d8576b"
             ],
             [
              0.6666666666666666,
              "#ed7953"
             ],
             [
              0.7777777777777778,
              "#fb9f3a"
             ],
             [
              0.8888888888888888,
              "#fdca26"
             ],
             [
              1,
              "#f0f921"
             ]
            ],
            "type": "histogram2d"
           }
          ],
          "histogram2dcontour": [
           {
            "colorbar": {
             "outlinewidth": 0,
             "ticks": ""
            },
            "colorscale": [
             [
              0,
              "#0d0887"
             ],
             [
              0.1111111111111111,
              "#46039f"
             ],
             [
              0.2222222222222222,
              "#7201a8"
             ],
             [
              0.3333333333333333,
              "#9c179e"
             ],
             [
              0.4444444444444444,
              "#bd3786"
             ],
             [
              0.5555555555555556,
              "#d8576b"
             ],
             [
              0.6666666666666666,
              "#ed7953"
             ],
             [
              0.7777777777777778,
              "#fb9f3a"
             ],
             [
              0.8888888888888888,
              "#fdca26"
             ],
             [
              1,
              "#f0f921"
             ]
            ],
            "type": "histogram2dcontour"
           }
          ],
          "mesh3d": [
           {
            "colorbar": {
             "outlinewidth": 0,
             "ticks": ""
            },
            "type": "mesh3d"
           }
          ],
          "parcoords": [
           {
            "line": {
             "colorbar": {
              "outlinewidth": 0,
              "ticks": ""
             }
            },
            "type": "parcoords"
           }
          ],
          "pie": [
           {
            "automargin": true,
            "type": "pie"
           }
          ],
          "scatter": [
           {
            "marker": {
             "colorbar": {
              "outlinewidth": 0,
              "ticks": ""
             }
            },
            "type": "scatter"
           }
          ],
          "scatter3d": [
           {
            "line": {
             "colorbar": {
              "outlinewidth": 0,
              "ticks": ""
             }
            },
            "marker": {
             "colorbar": {
              "outlinewidth": 0,
              "ticks": ""
             }
            },
            "type": "scatter3d"
           }
          ],
          "scattercarpet": [
           {
            "marker": {
             "colorbar": {
              "outlinewidth": 0,
              "ticks": ""
             }
            },
            "type": "scattercarpet"
           }
          ],
          "scattergeo": [
           {
            "marker": {
             "colorbar": {
              "outlinewidth": 0,
              "ticks": ""
             }
            },
            "type": "scattergeo"
           }
          ],
          "scattergl": [
           {
            "marker": {
             "colorbar": {
              "outlinewidth": 0,
              "ticks": ""
             }
            },
            "type": "scattergl"
           }
          ],
          "scattermapbox": [
           {
            "marker": {
             "colorbar": {
              "outlinewidth": 0,
              "ticks": ""
             }
            },
            "type": "scattermapbox"
           }
          ],
          "scatterpolar": [
           {
            "marker": {
             "colorbar": {
              "outlinewidth": 0,
              "ticks": ""
             }
            },
            "type": "scatterpolar"
           }
          ],
          "scatterpolargl": [
           {
            "marker": {
             "colorbar": {
              "outlinewidth": 0,
              "ticks": ""
             }
            },
            "type": "scatterpolargl"
           }
          ],
          "scatterternary": [
           {
            "marker": {
             "colorbar": {
              "outlinewidth": 0,
              "ticks": ""
             }
            },
            "type": "scatterternary"
           }
          ],
          "surface": [
           {
            "colorbar": {
             "outlinewidth": 0,
             "ticks": ""
            },
            "colorscale": [
             [
              0,
              "#0d0887"
             ],
             [
              0.1111111111111111,
              "#46039f"
             ],
             [
              0.2222222222222222,
              "#7201a8"
             ],
             [
              0.3333333333333333,
              "#9c179e"
             ],
             [
              0.4444444444444444,
              "#bd3786"
             ],
             [
              0.5555555555555556,
              "#d8576b"
             ],
             [
              0.6666666666666666,
              "#ed7953"
             ],
             [
              0.7777777777777778,
              "#fb9f3a"
             ],
             [
              0.8888888888888888,
              "#fdca26"
             ],
             [
              1,
              "#f0f921"
             ]
            ],
            "type": "surface"
           }
          ],
          "table": [
           {
            "cells": {
             "fill": {
              "color": "#EBF0F8"
             },
             "line": {
              "color": "white"
             }
            },
            "header": {
             "fill": {
              "color": "#C8D4E3"
             },
             "line": {
              "color": "white"
             }
            },
            "type": "table"
           }
          ]
         },
         "layout": {
          "annotationdefaults": {
           "arrowcolor": "#2a3f5f",
           "arrowhead": 0,
           "arrowwidth": 1
          },
          "autotypenumbers": "strict",
          "coloraxis": {
           "colorbar": {
            "outlinewidth": 0,
            "ticks": ""
           }
          },
          "colorscale": {
           "diverging": [
            [
             0,
             "#8e0152"
            ],
            [
             0.1,
             "#c51b7d"
            ],
            [
             0.2,
             "#de77ae"
            ],
            [
             0.3,
             "#f1b6da"
            ],
            [
             0.4,
             "#fde0ef"
            ],
            [
             0.5,
             "#f7f7f7"
            ],
            [
             0.6,
             "#e6f5d0"
            ],
            [
             0.7,
             "#b8e186"
            ],
            [
             0.8,
             "#7fbc41"
            ],
            [
             0.9,
             "#4d9221"
            ],
            [
             1,
             "#276419"
            ]
           ],
           "sequential": [
            [
             0,
             "#0d0887"
            ],
            [
             0.1111111111111111,
             "#46039f"
            ],
            [
             0.2222222222222222,
             "#7201a8"
            ],
            [
             0.3333333333333333,
             "#9c179e"
            ],
            [
             0.4444444444444444,
             "#bd3786"
            ],
            [
             0.5555555555555556,
             "#d8576b"
            ],
            [
             0.6666666666666666,
             "#ed7953"
            ],
            [
             0.7777777777777778,
             "#fb9f3a"
            ],
            [
             0.8888888888888888,
             "#fdca26"
            ],
            [
             1,
             "#f0f921"
            ]
           ],
           "sequentialminus": [
            [
             0,
             "#0d0887"
            ],
            [
             0.1111111111111111,
             "#46039f"
            ],
            [
             0.2222222222222222,
             "#7201a8"
            ],
            [
             0.3333333333333333,
             "#9c179e"
            ],
            [
             0.4444444444444444,
             "#bd3786"
            ],
            [
             0.5555555555555556,
             "#d8576b"
            ],
            [
             0.6666666666666666,
             "#ed7953"
            ],
            [
             0.7777777777777778,
             "#fb9f3a"
            ],
            [
             0.8888888888888888,
             "#fdca26"
            ],
            [
             1,
             "#f0f921"
            ]
           ]
          },
          "colorway": [
           "#636efa",
           "#EF553B",
           "#00cc96",
           "#ab63fa",
           "#FFA15A",
           "#19d3f3",
           "#FF6692",
           "#B6E880",
           "#FF97FF",
           "#FECB52"
          ],
          "font": {
           "color": "#2a3f5f"
          },
          "geo": {
           "bgcolor": "white",
           "lakecolor": "white",
           "landcolor": "#E5ECF6",
           "showlakes": true,
           "showland": true,
           "subunitcolor": "white"
          },
          "hoverlabel": {
           "align": "left"
          },
          "hovermode": "closest",
          "mapbox": {
           "style": "light"
          },
          "paper_bgcolor": "white",
          "plot_bgcolor": "#E5ECF6",
          "polar": {
           "angularaxis": {
            "gridcolor": "white",
            "linecolor": "white",
            "ticks": ""
           },
           "bgcolor": "#E5ECF6",
           "radialaxis": {
            "gridcolor": "white",
            "linecolor": "white",
            "ticks": ""
           }
          },
          "scene": {
           "xaxis": {
            "backgroundcolor": "#E5ECF6",
            "gridcolor": "white",
            "gridwidth": 2,
            "linecolor": "white",
            "showbackground": true,
            "ticks": "",
            "zerolinecolor": "white"
           },
           "yaxis": {
            "backgroundcolor": "#E5ECF6",
            "gridcolor": "white",
            "gridwidth": 2,
            "linecolor": "white",
            "showbackground": true,
            "ticks": "",
            "zerolinecolor": "white"
           },
           "zaxis": {
            "backgroundcolor": "#E5ECF6",
            "gridcolor": "white",
            "gridwidth": 2,
            "linecolor": "white",
            "showbackground": true,
            "ticks": "",
            "zerolinecolor": "white"
           }
          },
          "shapedefaults": {
           "line": {
            "color": "#2a3f5f"
           }
          },
          "ternary": {
           "aaxis": {
            "gridcolor": "white",
            "linecolor": "white",
            "ticks": ""
           },
           "baxis": {
            "gridcolor": "white",
            "linecolor": "white",
            "ticks": ""
           },
           "bgcolor": "#E5ECF6",
           "caxis": {
            "gridcolor": "white",
            "linecolor": "white",
            "ticks": ""
           }
          },
          "title": {
           "x": 0.05
          },
          "xaxis": {
           "automargin": true,
           "gridcolor": "white",
           "linecolor": "white",
           "ticks": "",
           "title": {
            "standoff": 15
           },
           "zerolinecolor": "white",
           "zerolinewidth": 2
          },
          "yaxis": {
           "automargin": true,
           "gridcolor": "white",
           "linecolor": "white",
           "ticks": "",
           "title": {
            "standoff": 15
           },
           "zerolinecolor": "white",
           "zerolinewidth": 2
          }
         }
        },
        "title": {
         "font": {
          "color": "#4D5663"
         }
        },
        "xaxis": {
         "gridcolor": "#E1E5ED",
         "showgrid": true,
         "tickfont": {
          "color": "#4D5663"
         },
         "title": {
          "font": {
           "color": "#4D5663"
          },
          "text": ""
         },
         "zerolinecolor": "#E1E5ED"
        },
        "yaxis": {
         "gridcolor": "#E1E5ED",
         "showgrid": true,
         "tickfont": {
          "color": "#4D5663"
         },
         "title": {
          "font": {
           "color": "#4D5663"
          },
          "text": ""
         },
         "zerolinecolor": "#E1E5ED"
        }
       }
      },
      "text/html": [
       "<div>                            <div id=\"f3d1b8f4-b6b0-4bf7-b8d7-460047b34d71\" class=\"plotly-graph-div\" style=\"height:525px; width:100%;\"></div>            <script type=\"text/javascript\">                require([\"plotly\"], function(Plotly) {                    window.PLOTLYENV=window.PLOTLYENV || {};\n",
       "                    window.PLOTLYENV.BASE_URL='https://plot.ly';                                    if (document.getElementById(\"f3d1b8f4-b6b0-4bf7-b8d7-460047b34d71\")) {                    Plotly.newPlot(                        \"f3d1b8f4-b6b0-4bf7-b8d7-460047b34d71\",                        [{\"boxpoints\": false, \"line\": {\"width\": 1.3}, \"marker\": {\"color\": \"rgba(255, 153, 51, 1.0)\"}, \"name\": \"A\", \"orientation\": \"v\", \"type\": \"box\", \"y\": [0.522347272199525, 0.36817438810491, 0.0010112605725656199, 0.9057807174375636, 0.7384316849079128, 0.1591551902131888, 0.183934903423408, 0.21028223913407484, 0.5425235102718765, 0.829885672257394, 0.7519738973190104, 0.44385066073449053, 0.019331177627519902, 0.5493141819077285, 0.43307252891392767, 0.9682569387990952, 0.11384486841087482, 0.1590031755729575, 0.2169754925882097, 0.5190633136071182, 0.6609987922208981, 0.7035280901951679, 0.3382248559583705, 0.21615833703988963, 0.3846361972132023, 0.055377027460866035, 0.5234708831540881, 0.684563444434096, 0.7089472904480765, 0.613459906336003, 0.024396710654762233, 0.863173763520489, 0.07096952088354769, 0.2847928024195078, 0.8333035039784051, 0.21383937024242794, 0.2758222933337888, 0.7831230087068312, 0.8516095108356362, 0.7137903428534593, 0.6330296758278816, 0.06523375411443222, 0.16252955476389142, 0.3412202916179925, 0.6962010444797161, 0.8409563865781624, 0.30669072720402835, 0.3725501743663695, 0.1946819498048723, 0.17228845089530231, 0.2568958156082274, 0.1534823782996152, 0.9486771411358706, 0.25786083917786273, 0.22917003023574523, 0.5037887336139055, 0.7901287685428313, 0.6573510576728744, 0.7684124144914483, 0.014870731222623168, 0.6715626271577866, 0.010697629160978939, 0.001866724770348549, 0.19855030665887508, 0.1746506780786472, 0.40914788030905846, 0.2777894983058271, 0.4084550388889513, 0.48623574463775054, 0.6979433401930659, 0.7989290510929793, 0.7582910228703558, 0.46838736729978614, 0.057922779673538094, 0.6559701305443183, 0.12023603801724625, 0.3382097627565869, 0.86046125257498, 0.5613916849013729, 0.42542919093183773, 0.3122730418753221, 0.014989821263473702, 0.4333077153710524, 0.5004352265082898, 0.05414301370623442, 0.5717783526285637, 0.8772586029905328, 0.22266512257475657, 0.5068896410400924, 0.06552324721531144, 0.5373357865127935, 0.7467424313884923, 0.9567202371927418, 0.3964129865509076, 0.31767853175412575, 0.14119743542373886, 0.6185496464600199, 0.40141784167385464, 0.2307858594556288, 0.13704215385049778]}, {\"boxpoints\": false, \"line\": {\"width\": 1.3}, \"marker\": {\"color\": \"rgba(55, 128, 191, 1.0)\"}, \"name\": \"B\", \"orientation\": \"v\", \"type\": \"box\", \"y\": [0.6223770751356761, 0.3416445020886866, 0.9971754580323123, 0.9950524972421991, 0.139706690041413, 0.97337753397297, 0.17019811188026457, 0.13297246149589348, 0.5112700763585448, 0.5231345078299766, 0.6401770475525225, 0.8486728789085054, 0.32960172011473265, 0.5535922186753318, 0.5979005822666698, 0.9802069118862393, 0.6935871528877221, 0.6805848666048713, 0.24598940851936357, 0.4282626059838952, 0.19127605696467853, 0.6225268191350222, 0.23320264078302066, 0.48933844966190876, 0.21942404016854, 0.851209187484054, 0.8077751381648538, 0.4695841707826717, 0.5260616156288477, 0.6871504323636946, 0.22725204415995914, 0.7974082952586401, 0.8741857461914679, 0.3221236227529417, 0.685973331967647, 0.42063010160291725, 0.007343915548235769, 0.9092139571979199, 0.024532211610490018, 0.8274006503674203, 0.4320308212969496, 0.9480716795505977, 0.5557150798236625, 0.40842131707276563, 0.4639352220958872, 0.1449430807398373, 0.3374661160817264, 0.8766276775722553, 0.7714800171519953, 0.46581484015568697, 0.9612034584567597, 0.7520318786681476, 0.4571010307621315, 0.7886553394413793, 0.5670803172017644, 0.902855913290173, 0.1946403073620262, 0.9279093748297184, 0.6488904817389123, 0.78642792635236, 0.092469853089296, 0.14206876541118296, 0.35209955641330803, 0.3565475695518735, 0.6190868391571726, 0.9774504503283681, 0.7475599926339814, 0.812659821012732, 0.08391659033449617, 0.3594271806040815, 0.09314230103499987, 0.9929089666406649, 0.5102785105053524, 0.9325615962779351, 0.5279940897747859, 0.558417503387099, 0.8471234593254293, 0.8215181676643304, 0.4694068589509176, 0.07913988689432694, 0.3516123599742621, 0.8533595285215351, 0.008119480528145484, 0.646087726094201, 0.14199480209371362, 0.2699901803856761, 0.7143113007959809, 0.6206335350655173, 0.7141016055659357, 0.047068041441382436, 0.9223009538279476, 0.09446291161536402, 0.9489886100218277, 0.9750843802396616, 0.9277824174042508, 0.7605825286603557, 0.4538473633176765, 0.23516633808786724, 0.9069438664199233, 0.0635920025401463]}, {\"boxpoints\": false, \"line\": {\"width\": 1.3}, \"marker\": {\"color\": \"rgba(50, 171, 96, 1.0)\"}, \"name\": \"C\", \"orientation\": \"v\", \"type\": \"box\", \"y\": [0.09380503798031237, 0.6526759758934895, 0.16152349840004232, 0.25885213526336925, 0.6038155075983096, 0.12444921150278254, 0.4081905383651053, 0.0856447682824103, 0.8698656837212047, 0.7864111638195007, 0.7825385253280719, 0.989285497141012, 0.8095830227158207, 0.7255092100202046, 0.5185601147475711, 0.7689513921723563, 0.5028279886669335, 0.7345196218534636, 0.9744608590874142, 0.4761370202173333, 0.008861147125629354, 0.5388443497493796, 0.6656293463403312, 0.008601059414690582, 0.5135512515383084, 0.9103780677202373, 0.4587111186339282, 0.8372043249635635, 0.03244716148845039, 0.7145399148286244, 0.7799655808965369, 0.9289674543083432, 0.7256487173206256, 0.9437703252058233, 0.3627547895564347, 0.8139754564874104, 0.5132015501603648, 0.8563123536504531, 0.6921533327565024, 0.7240783168468496, 0.5013029903827229, 0.1438874608714732, 0.2295898338029112, 0.800407192342202, 0.5996586667602364, 0.2958846247290571, 0.20650797226437112, 0.14061356476170384, 0.5573955166969558, 0.963371812387484, 0.7846642684329815, 0.3885837088073191, 0.3199160673306567, 0.6420635153603851, 0.35263369966648694, 0.40748220837865257, 0.0897624917034805, 0.5973844642681456, 0.2131835121306419, 0.2475350021599133, 0.9297310288514424, 0.946796227861677, 0.3770217985171824, 0.3783847547891783, 0.9927075369507348, 0.27891584456349794, 0.2880976244887994, 0.09065713586937318, 0.3931040655132225, 0.23669182347192008, 0.15586718917599607, 0.2279235750725791, 0.8796690357075487, 0.5187316084164268, 0.4513832322497191, 0.5540745783395014, 0.04156052807916366, 0.4443462601519005, 0.692901822787496, 0.2248325046412486, 0.9919435185541612, 0.4861547749772823, 0.7754332776359236, 0.6757577201573153, 0.06931940716226204, 0.28647258696927147, 0.4415532672592548, 0.7584892176037682, 0.16823235607768705, 0.6587938768913424, 0.10044053786219476, 0.08476376269583341, 0.543827301225614, 0.4154943916327881, 0.6345508079492399, 0.8164541159085817, 0.10192921003882327, 0.23598578798322323, 0.2715593802185342, 0.950036089672961]}, {\"boxpoints\": false, \"line\": {\"width\": 1.3}, \"marker\": {\"color\": \"rgba(128, 0, 128, 1.0)\"}, \"name\": \"D\", \"orientation\": \"v\", \"type\": \"box\", \"y\": [0.9346393437613366, 0.252958136991432, 0.07003297375437512, 0.3582840478916085, 0.8840384570989815, 0.42538620416837003, 0.8422658213094364, 0.9138359962782545, 0.4911302729029282, 0.34945035754671705, 0.8812835967905034, 0.6333305016978108, 0.6347602581696066, 0.7197170468368065, 0.5788768069373421, 0.2408013204640741, 0.9879324626242971, 0.5164122289856797, 0.3818211226714455, 0.9517789224117948, 0.8835517907989451, 0.22924111559361737, 0.239131370914902, 0.09876930995477295, 0.9888995184554749, 0.747606118899924, 0.39286956582633614, 0.6048409469693944, 0.8620820320927773, 0.35360465402161023, 0.5602058479032207, 0.680728677321006, 0.02901077871292812, 0.9035486638560817, 0.14231539286055106, 0.15553137825302832, 0.793409548594289, 0.5398433929523276, 0.146464282195094, 0.5703799874715035, 0.8044355195012435, 0.7039588028633254, 0.17155165600787747, 0.04757395148304666, 0.4092880199511377, 0.015824593994852587, 0.6064288036517577, 0.6072249260796262, 0.03432881777771024, 0.5343625427188801, 0.851077082381364, 0.9570804516946935, 0.278266331225548, 0.04805602451244784, 0.5807689847525798, 0.30492695492450483, 0.7504567956856679, 0.15821063989633388, 0.44376728077255345, 0.5051110350596844, 0.6846816931403839, 0.5861006841761461, 0.10356669488190007, 0.9759077922327591, 0.11210276544417941, 0.6573715883495088, 0.6870133902678076, 0.4296343693443144, 0.5736519272716726, 0.07873911028793468, 0.08166145378763146, 0.8090912545179954, 0.8128174971281759, 0.11240827128296138, 0.6905433868515691, 0.23378205774432048, 0.005475311723259768, 0.18289043528022209, 0.9616911528717593, 0.7782271907089138, 0.5823571430675251, 0.8436650443121044, 0.24088043001728998, 0.6922955393397364, 0.44671676755200607, 0.20623161274390878, 0.7950234030767607, 0.09158151848464047, 0.7402150155337445, 0.9439766819186408, 0.27504913366297123, 0.22363598114010697, 0.9029881576715304, 0.13608853355236517, 0.8747424842048145, 0.11013924378586093, 0.19182948135356725, 0.7016629627171346, 0.24849790983975306, 0.7747748319967561]}],                        {\"legend\": {\"bgcolor\": \"#F5F6F9\", \"font\": {\"color\": \"#4D5663\"}}, \"paper_bgcolor\": \"#F5F6F9\", \"plot_bgcolor\": \"#F5F6F9\", \"template\": {\"data\": {\"bar\": [{\"error_x\": {\"color\": \"#2a3f5f\"}, \"error_y\": {\"color\": \"#2a3f5f\"}, \"marker\": {\"line\": {\"color\": \"#E5ECF6\", \"width\": 0.5}}, \"type\": \"bar\"}], \"barpolar\": [{\"marker\": {\"line\": {\"color\": \"#E5ECF6\", \"width\": 0.5}}, \"type\": \"barpolar\"}], \"carpet\": [{\"aaxis\": {\"endlinecolor\": \"#2a3f5f\", \"gridcolor\": \"white\", \"linecolor\": \"white\", \"minorgridcolor\": \"white\", \"startlinecolor\": \"#2a3f5f\"}, \"baxis\": {\"endlinecolor\": \"#2a3f5f\", \"gridcolor\": \"white\", \"linecolor\": \"white\", \"minorgridcolor\": \"white\", \"startlinecolor\": \"#2a3f5f\"}, \"type\": \"carpet\"}], \"choropleth\": [{\"colorbar\": {\"outlinewidth\": 0, \"ticks\": \"\"}, \"type\": \"choropleth\"}], \"contour\": [{\"colorbar\": {\"outlinewidth\": 0, \"ticks\": \"\"}, \"colorscale\": [[0.0, \"#0d0887\"], [0.1111111111111111, \"#46039f\"], [0.2222222222222222, \"#7201a8\"], [0.3333333333333333, \"#9c179e\"], [0.4444444444444444, \"#bd3786\"], [0.5555555555555556, \"#d8576b\"], [0.6666666666666666, \"#ed7953\"], [0.7777777777777778, \"#fb9f3a\"], [0.8888888888888888, \"#fdca26\"], [1.0, \"#f0f921\"]], \"type\": \"contour\"}], \"contourcarpet\": [{\"colorbar\": {\"outlinewidth\": 0, \"ticks\": \"\"}, \"type\": \"contourcarpet\"}], \"heatmap\": [{\"colorbar\": {\"outlinewidth\": 0, \"ticks\": \"\"}, \"colorscale\": [[0.0, \"#0d0887\"], [0.1111111111111111, \"#46039f\"], [0.2222222222222222, \"#7201a8\"], [0.3333333333333333, \"#9c179e\"], [0.4444444444444444, \"#bd3786\"], [0.5555555555555556, \"#d8576b\"], [0.6666666666666666, \"#ed7953\"], [0.7777777777777778, \"#fb9f3a\"], [0.8888888888888888, \"#fdca26\"], [1.0, \"#f0f921\"]], \"type\": \"heatmap\"}], \"heatmapgl\": [{\"colorbar\": {\"outlinewidth\": 0, \"ticks\": \"\"}, \"colorscale\": [[0.0, \"#0d0887\"], [0.1111111111111111, \"#46039f\"], [0.2222222222222222, \"#7201a8\"], [0.3333333333333333, \"#9c179e\"], [0.4444444444444444, \"#bd3786\"], [0.5555555555555556, \"#d8576b\"], [0.6666666666666666, \"#ed7953\"], [0.7777777777777778, \"#fb9f3a\"], [0.8888888888888888, \"#fdca26\"], [1.0, \"#f0f921\"]], \"type\": \"heatmapgl\"}], \"histogram\": [{\"marker\": {\"colorbar\": {\"outlinewidth\": 0, \"ticks\": \"\"}}, \"type\": \"histogram\"}], \"histogram2d\": [{\"colorbar\": {\"outlinewidth\": 0, \"ticks\": \"\"}, \"colorscale\": [[0.0, \"#0d0887\"], [0.1111111111111111, \"#46039f\"], [0.2222222222222222, \"#7201a8\"], [0.3333333333333333, \"#9c179e\"], [0.4444444444444444, \"#bd3786\"], [0.5555555555555556, \"#d8576b\"], [0.6666666666666666, \"#ed7953\"], [0.7777777777777778, \"#fb9f3a\"], [0.8888888888888888, \"#fdca26\"], [1.0, \"#f0f921\"]], \"type\": \"histogram2d\"}], \"histogram2dcontour\": [{\"colorbar\": {\"outlinewidth\": 0, \"ticks\": \"\"}, \"colorscale\": [[0.0, \"#0d0887\"], [0.1111111111111111, \"#46039f\"], [0.2222222222222222, \"#7201a8\"], [0.3333333333333333, \"#9c179e\"], [0.4444444444444444, \"#bd3786\"], [0.5555555555555556, \"#d8576b\"], [0.6666666666666666, \"#ed7953\"], [0.7777777777777778, \"#fb9f3a\"], [0.8888888888888888, \"#fdca26\"], [1.0, \"#f0f921\"]], \"type\": \"histogram2dcontour\"}], \"mesh3d\": [{\"colorbar\": {\"outlinewidth\": 0, \"ticks\": \"\"}, \"type\": \"mesh3d\"}], \"parcoords\": [{\"line\": {\"colorbar\": {\"outlinewidth\": 0, \"ticks\": \"\"}}, \"type\": \"parcoords\"}], \"pie\": [{\"automargin\": true, \"type\": \"pie\"}], \"scatter\": [{\"marker\": {\"colorbar\": {\"outlinewidth\": 0, \"ticks\": \"\"}}, \"type\": \"scatter\"}], \"scatter3d\": [{\"line\": {\"colorbar\": {\"outlinewidth\": 0, \"ticks\": \"\"}}, \"marker\": {\"colorbar\": {\"outlinewidth\": 0, \"ticks\": \"\"}}, \"type\": \"scatter3d\"}], \"scattercarpet\": [{\"marker\": {\"colorbar\": {\"outlinewidth\": 0, \"ticks\": \"\"}}, \"type\": \"scattercarpet\"}], \"scattergeo\": [{\"marker\": {\"colorbar\": {\"outlinewidth\": 0, \"ticks\": \"\"}}, \"type\": \"scattergeo\"}], \"scattergl\": [{\"marker\": {\"colorbar\": {\"outlinewidth\": 0, \"ticks\": \"\"}}, \"type\": \"scattergl\"}], \"scattermapbox\": [{\"marker\": {\"colorbar\": {\"outlinewidth\": 0, \"ticks\": \"\"}}, \"type\": \"scattermapbox\"}], \"scatterpolar\": [{\"marker\": {\"colorbar\": {\"outlinewidth\": 0, \"ticks\": \"\"}}, \"type\": \"scatterpolar\"}], \"scatterpolargl\": [{\"marker\": {\"colorbar\": {\"outlinewidth\": 0, \"ticks\": \"\"}}, \"type\": \"scatterpolargl\"}], \"scatterternary\": [{\"marker\": {\"colorbar\": {\"outlinewidth\": 0, \"ticks\": \"\"}}, \"type\": \"scatterternary\"}], \"surface\": [{\"colorbar\": {\"outlinewidth\": 0, \"ticks\": \"\"}, \"colorscale\": [[0.0, \"#0d0887\"], [0.1111111111111111, \"#46039f\"], [0.2222222222222222, \"#7201a8\"], [0.3333333333333333, \"#9c179e\"], [0.4444444444444444, \"#bd3786\"], [0.5555555555555556, \"#d8576b\"], [0.6666666666666666, \"#ed7953\"], [0.7777777777777778, \"#fb9f3a\"], [0.8888888888888888, \"#fdca26\"], [1.0, \"#f0f921\"]], \"type\": \"surface\"}], \"table\": [{\"cells\": {\"fill\": {\"color\": \"#EBF0F8\"}, \"line\": {\"color\": \"white\"}}, \"header\": {\"fill\": {\"color\": \"#C8D4E3\"}, \"line\": {\"color\": \"white\"}}, \"type\": \"table\"}]}, \"layout\": {\"annotationdefaults\": {\"arrowcolor\": \"#2a3f5f\", \"arrowhead\": 0, \"arrowwidth\": 1}, \"autotypenumbers\": \"strict\", \"coloraxis\": {\"colorbar\": {\"outlinewidth\": 0, \"ticks\": \"\"}}, \"colorscale\": {\"diverging\": [[0, \"#8e0152\"], [0.1, \"#c51b7d\"], [0.2, \"#de77ae\"], [0.3, \"#f1b6da\"], [0.4, \"#fde0ef\"], [0.5, \"#f7f7f7\"], [0.6, \"#e6f5d0\"], [0.7, \"#b8e186\"], [0.8, \"#7fbc41\"], [0.9, \"#4d9221\"], [1, \"#276419\"]], \"sequential\": [[0.0, \"#0d0887\"], [0.1111111111111111, \"#46039f\"], [0.2222222222222222, \"#7201a8\"], [0.3333333333333333, \"#9c179e\"], [0.4444444444444444, \"#bd3786\"], [0.5555555555555556, \"#d8576b\"], [0.6666666666666666, \"#ed7953\"], [0.7777777777777778, \"#fb9f3a\"], [0.8888888888888888, \"#fdca26\"], [1.0, \"#f0f921\"]], \"sequentialminus\": [[0.0, \"#0d0887\"], [0.1111111111111111, \"#46039f\"], [0.2222222222222222, \"#7201a8\"], [0.3333333333333333, \"#9c179e\"], [0.4444444444444444, \"#bd3786\"], [0.5555555555555556, \"#d8576b\"], [0.6666666666666666, \"#ed7953\"], [0.7777777777777778, \"#fb9f3a\"], [0.8888888888888888, \"#fdca26\"], [1.0, \"#f0f921\"]]}, \"colorway\": [\"#636efa\", \"#EF553B\", \"#00cc96\", \"#ab63fa\", \"#FFA15A\", \"#19d3f3\", \"#FF6692\", \"#B6E880\", \"#FF97FF\", \"#FECB52\"], \"font\": {\"color\": \"#2a3f5f\"}, \"geo\": {\"bgcolor\": \"white\", \"lakecolor\": \"white\", \"landcolor\": \"#E5ECF6\", \"showlakes\": true, \"showland\": true, \"subunitcolor\": \"white\"}, \"hoverlabel\": {\"align\": \"left\"}, \"hovermode\": \"closest\", \"mapbox\": {\"style\": \"light\"}, \"paper_bgcolor\": \"white\", \"plot_bgcolor\": \"#E5ECF6\", \"polar\": {\"angularaxis\": {\"gridcolor\": \"white\", \"linecolor\": \"white\", \"ticks\": \"\"}, \"bgcolor\": \"#E5ECF6\", \"radialaxis\": {\"gridcolor\": \"white\", \"linecolor\": \"white\", \"ticks\": \"\"}}, \"scene\": {\"xaxis\": {\"backgroundcolor\": \"#E5ECF6\", \"gridcolor\": \"white\", \"gridwidth\": 2, \"linecolor\": \"white\", \"showbackground\": true, \"ticks\": \"\", \"zerolinecolor\": \"white\"}, \"yaxis\": {\"backgroundcolor\": \"#E5ECF6\", \"gridcolor\": \"white\", \"gridwidth\": 2, \"linecolor\": \"white\", \"showbackground\": true, \"ticks\": \"\", \"zerolinecolor\": \"white\"}, \"zaxis\": {\"backgroundcolor\": \"#E5ECF6\", \"gridcolor\": \"white\", \"gridwidth\": 2, \"linecolor\": \"white\", \"showbackground\": true, \"ticks\": \"\", \"zerolinecolor\": \"white\"}}, \"shapedefaults\": {\"line\": {\"color\": \"#2a3f5f\"}}, \"ternary\": {\"aaxis\": {\"gridcolor\": \"white\", \"linecolor\": \"white\", \"ticks\": \"\"}, \"baxis\": {\"gridcolor\": \"white\", \"linecolor\": \"white\", \"ticks\": \"\"}, \"bgcolor\": \"#E5ECF6\", \"caxis\": {\"gridcolor\": \"white\", \"linecolor\": \"white\", \"ticks\": \"\"}}, \"title\": {\"x\": 0.05}, \"xaxis\": {\"automargin\": true, \"gridcolor\": \"white\", \"linecolor\": \"white\", \"ticks\": \"\", \"title\": {\"standoff\": 15}, \"zerolinecolor\": \"white\", \"zerolinewidth\": 2}, \"yaxis\": {\"automargin\": true, \"gridcolor\": \"white\", \"linecolor\": \"white\", \"ticks\": \"\", \"title\": {\"standoff\": 15}, \"zerolinecolor\": \"white\", \"zerolinewidth\": 2}}}, \"title\": {\"font\": {\"color\": \"#4D5663\"}}, \"xaxis\": {\"gridcolor\": \"#E1E5ED\", \"showgrid\": true, \"tickfont\": {\"color\": \"#4D5663\"}, \"title\": {\"font\": {\"color\": \"#4D5663\"}, \"text\": \"\"}, \"zerolinecolor\": \"#E1E5ED\"}, \"yaxis\": {\"gridcolor\": \"#E1E5ED\", \"showgrid\": true, \"tickfont\": {\"color\": \"#4D5663\"}, \"title\": {\"font\": {\"color\": \"#4D5663\"}, \"text\": \"\"}, \"zerolinecolor\": \"#E1E5ED\"}},                        {\"showLink\": true, \"linkText\": \"Export to plot.ly\", \"plotlyServerURL\": \"https://plot.ly\", \"responsive\": true}                    ).then(function(){\n",
       "                            \n",
       "var gd = document.getElementById('f3d1b8f4-b6b0-4bf7-b8d7-460047b34d71');\n",
       "var x = new MutationObserver(function (mutations, observer) {{\n",
       "        var display = window.getComputedStyle(gd).display;\n",
       "        if (!display || display === 'none') {{\n",
       "            console.log([gd, 'removed!']);\n",
       "            Plotly.purge(gd);\n",
       "            observer.disconnect();\n",
       "        }}\n",
       "}});\n",
       "\n",
       "// Listen for the removal of the full notebook cells\n",
       "var notebookContainer = gd.closest('#notebook-container');\n",
       "if (notebookContainer) {{\n",
       "    x.observe(notebookContainer, {childList: true});\n",
       "}}\n",
       "\n",
       "// Listen for the clearing of the current output cell\n",
       "var outputEl = gd.closest('.output');\n",
       "if (outputEl) {{\n",
       "    x.observe(outputEl, {childList: true});\n",
       "}}\n",
       "\n",
       "                        })                };                });            </script>        </div>"
      ]
     },
     "metadata": {},
     "output_type": "display_data"
    }
   ],
   "source": [
    "df1.iplot(kind='box')"
   ]
  },
  {
   "cell_type": "markdown",
   "metadata": {},
   "source": [
    "### Gráfico 3d"
   ]
  },
  {
   "cell_type": "code",
   "execution_count": 17,
   "metadata": {},
   "outputs": [
    {
     "data": {
      "text/html": [
       "<div>\n",
       "<style scoped>\n",
       "    .dataframe tbody tr th:only-of-type {\n",
       "        vertical-align: middle;\n",
       "    }\n",
       "\n",
       "    .dataframe tbody tr th {\n",
       "        vertical-align: top;\n",
       "    }\n",
       "\n",
       "    .dataframe thead th {\n",
       "        text-align: right;\n",
       "    }\n",
       "</style>\n",
       "<table border=\"1\" class=\"dataframe\">\n",
       "  <thead>\n",
       "    <tr style=\"text-align: right;\">\n",
       "      <th></th>\n",
       "      <th>A</th>\n",
       "      <th>B</th>\n",
       "      <th>C</th>\n",
       "      <th>D</th>\n",
       "    </tr>\n",
       "  </thead>\n",
       "  <tbody>\n",
       "    <tr>\n",
       "      <th>0</th>\n",
       "      <td>0.653718</td>\n",
       "      <td>0.733379</td>\n",
       "      <td>0.365280</td>\n",
       "      <td>0.069381</td>\n",
       "    </tr>\n",
       "    <tr>\n",
       "      <th>1</th>\n",
       "      <td>0.772336</td>\n",
       "      <td>0.151168</td>\n",
       "      <td>0.074708</td>\n",
       "      <td>0.820312</td>\n",
       "    </tr>\n",
       "    <tr>\n",
       "      <th>2</th>\n",
       "      <td>0.012894</td>\n",
       "      <td>0.509537</td>\n",
       "      <td>0.035690</td>\n",
       "      <td>0.441588</td>\n",
       "    </tr>\n",
       "    <tr>\n",
       "      <th>3</th>\n",
       "      <td>0.167824</td>\n",
       "      <td>0.440585</td>\n",
       "      <td>0.507476</td>\n",
       "      <td>0.861285</td>\n",
       "    </tr>\n",
       "    <tr>\n",
       "      <th>4</th>\n",
       "      <td>0.510410</td>\n",
       "      <td>0.706791</td>\n",
       "      <td>0.107875</td>\n",
       "      <td>0.180614</td>\n",
       "    </tr>\n",
       "  </tbody>\n",
       "</table>\n",
       "</div>"
      ],
      "text/plain": [
       "          A         B         C         D\n",
       "0  0.653718  0.733379  0.365280  0.069381\n",
       "1  0.772336  0.151168  0.074708  0.820312\n",
       "2  0.012894  0.509537  0.035690  0.441588\n",
       "3  0.167824  0.440585  0.507476  0.861285\n",
       "4  0.510410  0.706791  0.107875  0.180614"
      ]
     },
     "execution_count": 17,
     "metadata": {},
     "output_type": "execute_result"
    }
   ],
   "source": [
    "df3 = pd.DataFrame({'x': [1, 2, 3, 4, 5], 'y': [10, 20, 30, 40, 50], 'z': [5, 4, 3, 2, 1]})\n",
    "df.head()"
   ]
  },
  {
   "cell_type": "code",
   "execution_count": 21,
   "metadata": {},
   "outputs": [
    {
     "data": {
      "application/vnd.plotly.v1+json": {
       "config": {
        "linkText": "Export to plot.ly",
        "plotlyServerURL": "https://plot.ly",
        "showLink": true
       },
       "data": [
        {
         "colorscale": [
          [
           0,
           "rgb(165,0,38)"
          ],
          [
           0.1,
           "rgb(215,48,39)"
          ],
          [
           0.2,
           "rgb(244,109,67)"
          ],
          [
           0.3,
           "rgb(253,174,97)"
          ],
          [
           0.4,
           "rgb(254,224,144)"
          ],
          [
           0.5,
           "rgb(255,255,191)"
          ],
          [
           0.6,
           "rgb(224,243,248)"
          ],
          [
           0.7,
           "rgb(171,217,233)"
          ],
          [
           0.8,
           "rgb(116,173,209)"
          ],
          [
           0.9,
           "rgb(69,117,180)"
          ],
          [
           1,
           "rgb(49,54,149)"
          ]
         ],
         "type": "surface",
         "x": [
          0,
          1,
          2,
          3,
          4
         ],
         "y": [
          "x",
          "y",
          "z"
         ],
         "z": [
          [
           1,
           2,
           3,
           4,
           5
          ],
          [
           10,
           20,
           30,
           40,
           50
          ],
          [
           5,
           4,
           3,
           2,
           1
          ]
         ]
        }
       ],
       "layout": {
        "legend": {
         "bgcolor": "#F5F6F9",
         "font": {
          "color": "#4D5663"
         }
        },
        "paper_bgcolor": "#F5F6F9",
        "plot_bgcolor": "#F5F6F9",
        "template": {
         "data": {
          "bar": [
           {
            "error_x": {
             "color": "#2a3f5f"
            },
            "error_y": {
             "color": "#2a3f5f"
            },
            "marker": {
             "line": {
              "color": "#E5ECF6",
              "width": 0.5
             }
            },
            "type": "bar"
           }
          ],
          "barpolar": [
           {
            "marker": {
             "line": {
              "color": "#E5ECF6",
              "width": 0.5
             }
            },
            "type": "barpolar"
           }
          ],
          "carpet": [
           {
            "aaxis": {
             "endlinecolor": "#2a3f5f",
             "gridcolor": "white",
             "linecolor": "white",
             "minorgridcolor": "white",
             "startlinecolor": "#2a3f5f"
            },
            "baxis": {
             "endlinecolor": "#2a3f5f",
             "gridcolor": "white",
             "linecolor": "white",
             "minorgridcolor": "white",
             "startlinecolor": "#2a3f5f"
            },
            "type": "carpet"
           }
          ],
          "choropleth": [
           {
            "colorbar": {
             "outlinewidth": 0,
             "ticks": ""
            },
            "type": "choropleth"
           }
          ],
          "contour": [
           {
            "colorbar": {
             "outlinewidth": 0,
             "ticks": ""
            },
            "colorscale": [
             [
              0,
              "#0d0887"
             ],
             [
              0.1111111111111111,
              "#46039f"
             ],
             [
              0.2222222222222222,
              "#7201a8"
             ],
             [
              0.3333333333333333,
              "#9c179e"
             ],
             [
              0.4444444444444444,
              "#bd3786"
             ],
             [
              0.5555555555555556,
              "#d8576b"
             ],
             [
              0.6666666666666666,
              "#ed7953"
             ],
             [
              0.7777777777777778,
              "#fb9f3a"
             ],
             [
              0.8888888888888888,
              "#fdca26"
             ],
             [
              1,
              "#f0f921"
             ]
            ],
            "type": "contour"
           }
          ],
          "contourcarpet": [
           {
            "colorbar": {
             "outlinewidth": 0,
             "ticks": ""
            },
            "type": "contourcarpet"
           }
          ],
          "heatmap": [
           {
            "colorbar": {
             "outlinewidth": 0,
             "ticks": ""
            },
            "colorscale": [
             [
              0,
              "#0d0887"
             ],
             [
              0.1111111111111111,
              "#46039f"
             ],
             [
              0.2222222222222222,
              "#7201a8"
             ],
             [
              0.3333333333333333,
              "#9c179e"
             ],
             [
              0.4444444444444444,
              "#bd3786"
             ],
             [
              0.5555555555555556,
              "#d8576b"
             ],
             [
              0.6666666666666666,
              "#ed7953"
             ],
             [
              0.7777777777777778,
              "#fb9f3a"
             ],
             [
              0.8888888888888888,
              "#fdca26"
             ],
             [
              1,
              "#f0f921"
             ]
            ],
            "type": "heatmap"
           }
          ],
          "heatmapgl": [
           {
            "colorbar": {
             "outlinewidth": 0,
             "ticks": ""
            },
            "colorscale": [
             [
              0,
              "#0d0887"
             ],
             [
              0.1111111111111111,
              "#46039f"
             ],
             [
              0.2222222222222222,
              "#7201a8"
             ],
             [
              0.3333333333333333,
              "#9c179e"
             ],
             [
              0.4444444444444444,
              "#bd3786"
             ],
             [
              0.5555555555555556,
              "#d8576b"
             ],
             [
              0.6666666666666666,
              "#ed7953"
             ],
             [
              0.7777777777777778,
              "#fb9f3a"
             ],
             [
              0.8888888888888888,
              "#fdca26"
             ],
             [
              1,
              "#f0f921"
             ]
            ],
            "type": "heatmapgl"
           }
          ],
          "histogram": [
           {
            "marker": {
             "colorbar": {
              "outlinewidth": 0,
              "ticks": ""
             }
            },
            "type": "histogram"
           }
          ],
          "histogram2d": [
           {
            "colorbar": {
             "outlinewidth": 0,
             "ticks": ""
            },
            "colorscale": [
             [
              0,
              "#0d0887"
             ],
             [
              0.1111111111111111,
              "#46039f"
             ],
             [
              0.2222222222222222,
              "#7201a8"
             ],
             [
              0.3333333333333333,
              "#9c179e"
             ],
             [
              0.4444444444444444,
              "#bd3786"
             ],
             [
              0.5555555555555556,
              "#d8576b"
             ],
             [
              0.6666666666666666,
              "#ed7953"
             ],
             [
              0.7777777777777778,
              "#fb9f3a"
             ],
             [
              0.8888888888888888,
              "#fdca26"
             ],
             [
              1,
              "#f0f921"
             ]
            ],
            "type": "histogram2d"
           }
          ],
          "histogram2dcontour": [
           {
            "colorbar": {
             "outlinewidth": 0,
             "ticks": ""
            },
            "colorscale": [
             [
              0,
              "#0d0887"
             ],
             [
              0.1111111111111111,
              "#46039f"
             ],
             [
              0.2222222222222222,
              "#7201a8"
             ],
             [
              0.3333333333333333,
              "#9c179e"
             ],
             [
              0.4444444444444444,
              "#bd3786"
             ],
             [
              0.5555555555555556,
              "#d8576b"
             ],
             [
              0.6666666666666666,
              "#ed7953"
             ],
             [
              0.7777777777777778,
              "#fb9f3a"
             ],
             [
              0.8888888888888888,
              "#fdca26"
             ],
             [
              1,
              "#f0f921"
             ]
            ],
            "type": "histogram2dcontour"
           }
          ],
          "mesh3d": [
           {
            "colorbar": {
             "outlinewidth": 0,
             "ticks": ""
            },
            "type": "mesh3d"
           }
          ],
          "parcoords": [
           {
            "line": {
             "colorbar": {
              "outlinewidth": 0,
              "ticks": ""
             }
            },
            "type": "parcoords"
           }
          ],
          "pie": [
           {
            "automargin": true,
            "type": "pie"
           }
          ],
          "scatter": [
           {
            "marker": {
             "colorbar": {
              "outlinewidth": 0,
              "ticks": ""
             }
            },
            "type": "scatter"
           }
          ],
          "scatter3d": [
           {
            "line": {
             "colorbar": {
              "outlinewidth": 0,
              "ticks": ""
             }
            },
            "marker": {
             "colorbar": {
              "outlinewidth": 0,
              "ticks": ""
             }
            },
            "type": "scatter3d"
           }
          ],
          "scattercarpet": [
           {
            "marker": {
             "colorbar": {
              "outlinewidth": 0,
              "ticks": ""
             }
            },
            "type": "scattercarpet"
           }
          ],
          "scattergeo": [
           {
            "marker": {
             "colorbar": {
              "outlinewidth": 0,
              "ticks": ""
             }
            },
            "type": "scattergeo"
           }
          ],
          "scattergl": [
           {
            "marker": {
             "colorbar": {
              "outlinewidth": 0,
              "ticks": ""
             }
            },
            "type": "scattergl"
           }
          ],
          "scattermapbox": [
           {
            "marker": {
             "colorbar": {
              "outlinewidth": 0,
              "ticks": ""
             }
            },
            "type": "scattermapbox"
           }
          ],
          "scatterpolar": [
           {
            "marker": {
             "colorbar": {
              "outlinewidth": 0,
              "ticks": ""
             }
            },
            "type": "scatterpolar"
           }
          ],
          "scatterpolargl": [
           {
            "marker": {
             "colorbar": {
              "outlinewidth": 0,
              "ticks": ""
             }
            },
            "type": "scatterpolargl"
           }
          ],
          "scatterternary": [
           {
            "marker": {
             "colorbar": {
              "outlinewidth": 0,
              "ticks": ""
             }
            },
            "type": "scatterternary"
           }
          ],
          "surface": [
           {
            "colorbar": {
             "outlinewidth": 0,
             "ticks": ""
            },
            "colorscale": [
             [
              0,
              "#0d0887"
             ],
             [
              0.1111111111111111,
              "#46039f"
             ],
             [
              0.2222222222222222,
              "#7201a8"
             ],
             [
              0.3333333333333333,
              "#9c179e"
             ],
             [
              0.4444444444444444,
              "#bd3786"
             ],
             [
              0.5555555555555556,
              "#d8576b"
             ],
             [
              0.6666666666666666,
              "#ed7953"
             ],
             [
              0.7777777777777778,
              "#fb9f3a"
             ],
             [
              0.8888888888888888,
              "#fdca26"
             ],
             [
              1,
              "#f0f921"
             ]
            ],
            "type": "surface"
           }
          ],
          "table": [
           {
            "cells": {
             "fill": {
              "color": "#EBF0F8"
             },
             "line": {
              "color": "white"
             }
            },
            "header": {
             "fill": {
              "color": "#C8D4E3"
             },
             "line": {
              "color": "white"
             }
            },
            "type": "table"
           }
          ]
         },
         "layout": {
          "annotationdefaults": {
           "arrowcolor": "#2a3f5f",
           "arrowhead": 0,
           "arrowwidth": 1
          },
          "autotypenumbers": "strict",
          "coloraxis": {
           "colorbar": {
            "outlinewidth": 0,
            "ticks": ""
           }
          },
          "colorscale": {
           "diverging": [
            [
             0,
             "#8e0152"
            ],
            [
             0.1,
             "#c51b7d"
            ],
            [
             0.2,
             "#de77ae"
            ],
            [
             0.3,
             "#f1b6da"
            ],
            [
             0.4,
             "#fde0ef"
            ],
            [
             0.5,
             "#f7f7f7"
            ],
            [
             0.6,
             "#e6f5d0"
            ],
            [
             0.7,
             "#b8e186"
            ],
            [
             0.8,
             "#7fbc41"
            ],
            [
             0.9,
             "#4d9221"
            ],
            [
             1,
             "#276419"
            ]
           ],
           "sequential": [
            [
             0,
             "#0d0887"
            ],
            [
             0.1111111111111111,
             "#46039f"
            ],
            [
             0.2222222222222222,
             "#7201a8"
            ],
            [
             0.3333333333333333,
             "#9c179e"
            ],
            [
             0.4444444444444444,
             "#bd3786"
            ],
            [
             0.5555555555555556,
             "#d8576b"
            ],
            [
             0.6666666666666666,
             "#ed7953"
            ],
            [
             0.7777777777777778,
             "#fb9f3a"
            ],
            [
             0.8888888888888888,
             "#fdca26"
            ],
            [
             1,
             "#f0f921"
            ]
           ],
           "sequentialminus": [
            [
             0,
             "#0d0887"
            ],
            [
             0.1111111111111111,
             "#46039f"
            ],
            [
             0.2222222222222222,
             "#7201a8"
            ],
            [
             0.3333333333333333,
             "#9c179e"
            ],
            [
             0.4444444444444444,
             "#bd3786"
            ],
            [
             0.5555555555555556,
             "#d8576b"
            ],
            [
             0.6666666666666666,
             "#ed7953"
            ],
            [
             0.7777777777777778,
             "#fb9f3a"
            ],
            [
             0.8888888888888888,
             "#fdca26"
            ],
            [
             1,
             "#f0f921"
            ]
           ]
          },
          "colorway": [
           "#636efa",
           "#EF553B",
           "#00cc96",
           "#ab63fa",
           "#FFA15A",
           "#19d3f3",
           "#FF6692",
           "#B6E880",
           "#FF97FF",
           "#FECB52"
          ],
          "font": {
           "color": "#2a3f5f"
          },
          "geo": {
           "bgcolor": "white",
           "lakecolor": "white",
           "landcolor": "#E5ECF6",
           "showlakes": true,
           "showland": true,
           "subunitcolor": "white"
          },
          "hoverlabel": {
           "align": "left"
          },
          "hovermode": "closest",
          "mapbox": {
           "style": "light"
          },
          "paper_bgcolor": "white",
          "plot_bgcolor": "#E5ECF6",
          "polar": {
           "angularaxis": {
            "gridcolor": "white",
            "linecolor": "white",
            "ticks": ""
           },
           "bgcolor": "#E5ECF6",
           "radialaxis": {
            "gridcolor": "white",
            "linecolor": "white",
            "ticks": ""
           }
          },
          "scene": {
           "xaxis": {
            "backgroundcolor": "#E5ECF6",
            "gridcolor": "white",
            "gridwidth": 2,
            "linecolor": "white",
            "showbackground": true,
            "ticks": "",
            "zerolinecolor": "white"
           },
           "yaxis": {
            "backgroundcolor": "#E5ECF6",
            "gridcolor": "white",
            "gridwidth": 2,
            "linecolor": "white",
            "showbackground": true,
            "ticks": "",
            "zerolinecolor": "white"
           },
           "zaxis": {
            "backgroundcolor": "#E5ECF6",
            "gridcolor": "white",
            "gridwidth": 2,
            "linecolor": "white",
            "showbackground": true,
            "ticks": "",
            "zerolinecolor": "white"
           }
          },
          "shapedefaults": {
           "line": {
            "color": "#2a3f5f"
           }
          },
          "ternary": {
           "aaxis": {
            "gridcolor": "white",
            "linecolor": "white",
            "ticks": ""
           },
           "baxis": {
            "gridcolor": "white",
            "linecolor": "white",
            "ticks": ""
           },
           "bgcolor": "#E5ECF6",
           "caxis": {
            "gridcolor": "white",
            "linecolor": "white",
            "ticks": ""
           }
          },
          "title": {
           "x": 0.05
          },
          "xaxis": {
           "automargin": true,
           "gridcolor": "white",
           "linecolor": "white",
           "ticks": "",
           "title": {
            "standoff": 15
           },
           "zerolinecolor": "white",
           "zerolinewidth": 2
          },
          "yaxis": {
           "automargin": true,
           "gridcolor": "white",
           "linecolor": "white",
           "ticks": "",
           "title": {
            "standoff": 15
           },
           "zerolinecolor": "white",
           "zerolinewidth": 2
          }
         }
        },
        "title": {
         "font": {
          "color": "#4D5663"
         }
        },
        "xaxis": {
         "gridcolor": "#E1E5ED",
         "showgrid": true,
         "tickfont": {
          "color": "#4D5663"
         },
         "title": {
          "font": {
           "color": "#4D5663"
          },
          "text": ""
         },
         "zerolinecolor": "#E1E5ED"
        },
        "yaxis": {
         "gridcolor": "#E1E5ED",
         "showgrid": true,
         "tickfont": {
          "color": "#4D5663"
         },
         "title": {
          "font": {
           "color": "#4D5663"
          },
          "text": ""
         },
         "zerolinecolor": "#E1E5ED"
        }
       }
      },
      "text/html": [
       "<div>                            <div id=\"0fa6ae10-501c-42c0-8b7b-47485eb1711c\" class=\"plotly-graph-div\" style=\"height:525px; width:100%;\"></div>            <script type=\"text/javascript\">                require([\"plotly\"], function(Plotly) {                    window.PLOTLYENV=window.PLOTLYENV || {};\n",
       "                    window.PLOTLYENV.BASE_URL='https://plot.ly';                                    if (document.getElementById(\"0fa6ae10-501c-42c0-8b7b-47485eb1711c\")) {                    Plotly.newPlot(                        \"0fa6ae10-501c-42c0-8b7b-47485eb1711c\",                        [{\"colorscale\": [[0.0, \"rgb(165,0,38)\"], [0.1, \"rgb(215,48,39)\"], [0.2, \"rgb(244,109,67)\"], [0.3, \"rgb(253,174,97)\"], [0.4, \"rgb(254,224,144)\"], [0.5, \"rgb(255,255,191)\"], [0.6, \"rgb(224,243,248)\"], [0.7, \"rgb(171,217,233)\"], [0.8, \"rgb(116,173,209)\"], [0.9, \"rgb(69,117,180)\"], [1.0, \"rgb(49,54,149)\"]], \"type\": \"surface\", \"x\": [0, 1, 2, 3, 4], \"y\": [\"x\", \"y\", \"z\"], \"z\": [[1, 2, 3, 4, 5], [10, 20, 30, 40, 50], [5, 4, 3, 2, 1]]}],                        {\"legend\": {\"bgcolor\": \"#F5F6F9\", \"font\": {\"color\": \"#4D5663\"}}, \"paper_bgcolor\": \"#F5F6F9\", \"plot_bgcolor\": \"#F5F6F9\", \"template\": {\"data\": {\"bar\": [{\"error_x\": {\"color\": \"#2a3f5f\"}, \"error_y\": {\"color\": \"#2a3f5f\"}, \"marker\": {\"line\": {\"color\": \"#E5ECF6\", \"width\": 0.5}}, \"type\": \"bar\"}], \"barpolar\": [{\"marker\": {\"line\": {\"color\": \"#E5ECF6\", \"width\": 0.5}}, \"type\": \"barpolar\"}], \"carpet\": [{\"aaxis\": {\"endlinecolor\": \"#2a3f5f\", \"gridcolor\": \"white\", \"linecolor\": \"white\", \"minorgridcolor\": \"white\", \"startlinecolor\": \"#2a3f5f\"}, \"baxis\": {\"endlinecolor\": \"#2a3f5f\", \"gridcolor\": \"white\", \"linecolor\": \"white\", \"minorgridcolor\": \"white\", \"startlinecolor\": \"#2a3f5f\"}, \"type\": \"carpet\"}], \"choropleth\": [{\"colorbar\": {\"outlinewidth\": 0, \"ticks\": \"\"}, \"type\": \"choropleth\"}], \"contour\": [{\"colorbar\": {\"outlinewidth\": 0, \"ticks\": \"\"}, \"colorscale\": [[0.0, \"#0d0887\"], [0.1111111111111111, \"#46039f\"], [0.2222222222222222, \"#7201a8\"], [0.3333333333333333, \"#9c179e\"], [0.4444444444444444, \"#bd3786\"], [0.5555555555555556, \"#d8576b\"], [0.6666666666666666, \"#ed7953\"], [0.7777777777777778, \"#fb9f3a\"], [0.8888888888888888, \"#fdca26\"], [1.0, \"#f0f921\"]], \"type\": \"contour\"}], \"contourcarpet\": [{\"colorbar\": {\"outlinewidth\": 0, \"ticks\": \"\"}, \"type\": \"contourcarpet\"}], \"heatmap\": [{\"colorbar\": {\"outlinewidth\": 0, \"ticks\": \"\"}, \"colorscale\": [[0.0, \"#0d0887\"], [0.1111111111111111, \"#46039f\"], [0.2222222222222222, \"#7201a8\"], [0.3333333333333333, \"#9c179e\"], [0.4444444444444444, \"#bd3786\"], [0.5555555555555556, \"#d8576b\"], [0.6666666666666666, \"#ed7953\"], [0.7777777777777778, \"#fb9f3a\"], [0.8888888888888888, \"#fdca26\"], [1.0, \"#f0f921\"]], \"type\": \"heatmap\"}], \"heatmapgl\": [{\"colorbar\": {\"outlinewidth\": 0, \"ticks\": \"\"}, \"colorscale\": [[0.0, \"#0d0887\"], [0.1111111111111111, \"#46039f\"], [0.2222222222222222, \"#7201a8\"], [0.3333333333333333, \"#9c179e\"], [0.4444444444444444, \"#bd3786\"], [0.5555555555555556, \"#d8576b\"], [0.6666666666666666, \"#ed7953\"], [0.7777777777777778, \"#fb9f3a\"], [0.8888888888888888, \"#fdca26\"], [1.0, \"#f0f921\"]], \"type\": \"heatmapgl\"}], \"histogram\": [{\"marker\": {\"colorbar\": {\"outlinewidth\": 0, \"ticks\": \"\"}}, \"type\": \"histogram\"}], \"histogram2d\": [{\"colorbar\": {\"outlinewidth\": 0, \"ticks\": \"\"}, \"colorscale\": [[0.0, \"#0d0887\"], [0.1111111111111111, \"#46039f\"], [0.2222222222222222, \"#7201a8\"], [0.3333333333333333, \"#9c179e\"], [0.4444444444444444, \"#bd3786\"], [0.5555555555555556, \"#d8576b\"], [0.6666666666666666, \"#ed7953\"], [0.7777777777777778, \"#fb9f3a\"], [0.8888888888888888, \"#fdca26\"], [1.0, \"#f0f921\"]], \"type\": \"histogram2d\"}], \"histogram2dcontour\": [{\"colorbar\": {\"outlinewidth\": 0, \"ticks\": \"\"}, \"colorscale\": [[0.0, \"#0d0887\"], [0.1111111111111111, \"#46039f\"], [0.2222222222222222, \"#7201a8\"], [0.3333333333333333, \"#9c179e\"], [0.4444444444444444, \"#bd3786\"], [0.5555555555555556, \"#d8576b\"], [0.6666666666666666, \"#ed7953\"], [0.7777777777777778, \"#fb9f3a\"], [0.8888888888888888, \"#fdca26\"], [1.0, \"#f0f921\"]], \"type\": \"histogram2dcontour\"}], \"mesh3d\": [{\"colorbar\": {\"outlinewidth\": 0, \"ticks\": \"\"}, \"type\": \"mesh3d\"}], \"parcoords\": [{\"line\": {\"colorbar\": {\"outlinewidth\": 0, \"ticks\": \"\"}}, \"type\": \"parcoords\"}], \"pie\": [{\"automargin\": true, \"type\": \"pie\"}], \"scatter\": [{\"marker\": {\"colorbar\": {\"outlinewidth\": 0, \"ticks\": \"\"}}, \"type\": \"scatter\"}], \"scatter3d\": [{\"line\": {\"colorbar\": {\"outlinewidth\": 0, \"ticks\": \"\"}}, \"marker\": {\"colorbar\": {\"outlinewidth\": 0, \"ticks\": \"\"}}, \"type\": \"scatter3d\"}], \"scattercarpet\": [{\"marker\": {\"colorbar\": {\"outlinewidth\": 0, \"ticks\": \"\"}}, \"type\": \"scattercarpet\"}], \"scattergeo\": [{\"marker\": {\"colorbar\": {\"outlinewidth\": 0, \"ticks\": \"\"}}, \"type\": \"scattergeo\"}], \"scattergl\": [{\"marker\": {\"colorbar\": {\"outlinewidth\": 0, \"ticks\": \"\"}}, \"type\": \"scattergl\"}], \"scattermapbox\": [{\"marker\": {\"colorbar\": {\"outlinewidth\": 0, \"ticks\": \"\"}}, \"type\": \"scattermapbox\"}], \"scatterpolar\": [{\"marker\": {\"colorbar\": {\"outlinewidth\": 0, \"ticks\": \"\"}}, \"type\": \"scatterpolar\"}], \"scatterpolargl\": [{\"marker\": {\"colorbar\": {\"outlinewidth\": 0, \"ticks\": \"\"}}, \"type\": \"scatterpolargl\"}], \"scatterternary\": [{\"marker\": {\"colorbar\": {\"outlinewidth\": 0, \"ticks\": \"\"}}, \"type\": \"scatterternary\"}], \"surface\": [{\"colorbar\": {\"outlinewidth\": 0, \"ticks\": \"\"}, \"colorscale\": [[0.0, \"#0d0887\"], [0.1111111111111111, \"#46039f\"], [0.2222222222222222, \"#7201a8\"], [0.3333333333333333, \"#9c179e\"], [0.4444444444444444, \"#bd3786\"], [0.5555555555555556, \"#d8576b\"], [0.6666666666666666, \"#ed7953\"], [0.7777777777777778, \"#fb9f3a\"], [0.8888888888888888, \"#fdca26\"], [1.0, \"#f0f921\"]], \"type\": \"surface\"}], \"table\": [{\"cells\": {\"fill\": {\"color\": \"#EBF0F8\"}, \"line\": {\"color\": \"white\"}}, \"header\": {\"fill\": {\"color\": \"#C8D4E3\"}, \"line\": {\"color\": \"white\"}}, \"type\": \"table\"}]}, \"layout\": {\"annotationdefaults\": {\"arrowcolor\": \"#2a3f5f\", \"arrowhead\": 0, \"arrowwidth\": 1}, \"autotypenumbers\": \"strict\", \"coloraxis\": {\"colorbar\": {\"outlinewidth\": 0, \"ticks\": \"\"}}, \"colorscale\": {\"diverging\": [[0, \"#8e0152\"], [0.1, \"#c51b7d\"], [0.2, \"#de77ae\"], [0.3, \"#f1b6da\"], [0.4, \"#fde0ef\"], [0.5, \"#f7f7f7\"], [0.6, \"#e6f5d0\"], [0.7, \"#b8e186\"], [0.8, \"#7fbc41\"], [0.9, \"#4d9221\"], [1, \"#276419\"]], \"sequential\": [[0.0, \"#0d0887\"], [0.1111111111111111, \"#46039f\"], [0.2222222222222222, \"#7201a8\"], [0.3333333333333333, \"#9c179e\"], [0.4444444444444444, \"#bd3786\"], [0.5555555555555556, \"#d8576b\"], [0.6666666666666666, \"#ed7953\"], [0.7777777777777778, \"#fb9f3a\"], [0.8888888888888888, \"#fdca26\"], [1.0, \"#f0f921\"]], \"sequentialminus\": [[0.0, \"#0d0887\"], [0.1111111111111111, \"#46039f\"], [0.2222222222222222, \"#7201a8\"], [0.3333333333333333, \"#9c179e\"], [0.4444444444444444, \"#bd3786\"], [0.5555555555555556, \"#d8576b\"], [0.6666666666666666, \"#ed7953\"], [0.7777777777777778, \"#fb9f3a\"], [0.8888888888888888, \"#fdca26\"], [1.0, \"#f0f921\"]]}, \"colorway\": [\"#636efa\", \"#EF553B\", \"#00cc96\", \"#ab63fa\", \"#FFA15A\", \"#19d3f3\", \"#FF6692\", \"#B6E880\", \"#FF97FF\", \"#FECB52\"], \"font\": {\"color\": \"#2a3f5f\"}, \"geo\": {\"bgcolor\": \"white\", \"lakecolor\": \"white\", \"landcolor\": \"#E5ECF6\", \"showlakes\": true, \"showland\": true, \"subunitcolor\": \"white\"}, \"hoverlabel\": {\"align\": \"left\"}, \"hovermode\": \"closest\", \"mapbox\": {\"style\": \"light\"}, \"paper_bgcolor\": \"white\", \"plot_bgcolor\": \"#E5ECF6\", \"polar\": {\"angularaxis\": {\"gridcolor\": \"white\", \"linecolor\": \"white\", \"ticks\": \"\"}, \"bgcolor\": \"#E5ECF6\", \"radialaxis\": {\"gridcolor\": \"white\", \"linecolor\": \"white\", \"ticks\": \"\"}}, \"scene\": {\"xaxis\": {\"backgroundcolor\": \"#E5ECF6\", \"gridcolor\": \"white\", \"gridwidth\": 2, \"linecolor\": \"white\", \"showbackground\": true, \"ticks\": \"\", \"zerolinecolor\": \"white\"}, \"yaxis\": {\"backgroundcolor\": \"#E5ECF6\", \"gridcolor\": \"white\", \"gridwidth\": 2, \"linecolor\": \"white\", \"showbackground\": true, \"ticks\": \"\", \"zerolinecolor\": \"white\"}, \"zaxis\": {\"backgroundcolor\": \"#E5ECF6\", \"gridcolor\": \"white\", \"gridwidth\": 2, \"linecolor\": \"white\", \"showbackground\": true, \"ticks\": \"\", \"zerolinecolor\": \"white\"}}, \"shapedefaults\": {\"line\": {\"color\": \"#2a3f5f\"}}, \"ternary\": {\"aaxis\": {\"gridcolor\": \"white\", \"linecolor\": \"white\", \"ticks\": \"\"}, \"baxis\": {\"gridcolor\": \"white\", \"linecolor\": \"white\", \"ticks\": \"\"}, \"bgcolor\": \"#E5ECF6\", \"caxis\": {\"gridcolor\": \"white\", \"linecolor\": \"white\", \"ticks\": \"\"}}, \"title\": {\"x\": 0.05}, \"xaxis\": {\"automargin\": true, \"gridcolor\": \"white\", \"linecolor\": \"white\", \"ticks\": \"\", \"title\": {\"standoff\": 15}, \"zerolinecolor\": \"white\", \"zerolinewidth\": 2}, \"yaxis\": {\"automargin\": true, \"gridcolor\": \"white\", \"linecolor\": \"white\", \"ticks\": \"\", \"title\": {\"standoff\": 15}, \"zerolinecolor\": \"white\", \"zerolinewidth\": 2}}}, \"title\": {\"font\": {\"color\": \"#4D5663\"}}, \"xaxis\": {\"gridcolor\": \"#E1E5ED\", \"showgrid\": true, \"tickfont\": {\"color\": \"#4D5663\"}, \"title\": {\"font\": {\"color\": \"#4D5663\"}, \"text\": \"\"}, \"zerolinecolor\": \"#E1E5ED\"}, \"yaxis\": {\"gridcolor\": \"#E1E5ED\", \"showgrid\": true, \"tickfont\": {\"color\": \"#4D5663\"}, \"title\": {\"font\": {\"color\": \"#4D5663\"}, \"text\": \"\"}, \"zerolinecolor\": \"#E1E5ED\"}},                        {\"showLink\": true, \"linkText\": \"Export to plot.ly\", \"plotlyServerURL\": \"https://plot.ly\", \"responsive\": true}                    ).then(function(){\n",
       "                            \n",
       "var gd = document.getElementById('0fa6ae10-501c-42c0-8b7b-47485eb1711c');\n",
       "var x = new MutationObserver(function (mutations, observer) {{\n",
       "        var display = window.getComputedStyle(gd).display;\n",
       "        if (!display || display === 'none') {{\n",
       "            console.log([gd, 'removed!']);\n",
       "            Plotly.purge(gd);\n",
       "            observer.disconnect();\n",
       "        }}\n",
       "}});\n",
       "\n",
       "// Listen for the removal of the full notebook cells\n",
       "var notebookContainer = gd.closest('#notebook-container');\n",
       "if (notebookContainer) {{\n",
       "    x.observe(notebookContainer, {childList: true});\n",
       "}}\n",
       "\n",
       "// Listen for the clearing of the current output cell\n",
       "var outputEl = gd.closest('.output');\n",
       "if (outputEl) {{\n",
       "    x.observe(outputEl, {childList: true});\n",
       "}}\n",
       "\n",
       "                        })                };                });            </script>        </div>"
      ]
     },
     "metadata": {},
     "output_type": "display_data"
    }
   ],
   "source": [
    "# colorscale para escala de cores (rdylbu - red, yellow, blue)\n",
    "df3.iplot(kind='surface', colorscale='rdylbu')"
   ]
  },
  {
   "cell_type": "markdown",
   "metadata": {},
   "source": [
    "### Gráfico de spread para visualização sobre serie temporal"
   ]
  },
  {
   "cell_type": "code",
   "execution_count": 25,
   "metadata": {},
   "outputs": [
    {
     "data": {
      "application/vnd.plotly.v1+json": {
       "config": {
        "linkText": "Export to plot.ly",
        "plotlyServerURL": "https://plot.ly",
        "showLink": true
       },
       "data": [
        {
         "line": {
          "color": "rgba(255, 153, 51, 1.0)",
          "dash": "solid",
          "shape": "linear",
          "width": 1.3
         },
         "mode": "lines",
         "name": "A",
         "text": "",
         "type": "scatter",
         "x": [
          0,
          1,
          2,
          3,
          4,
          5,
          6,
          7,
          8,
          9,
          10,
          11,
          12,
          13,
          14,
          15,
          16,
          17,
          18,
          19,
          20,
          21,
          22,
          23,
          24,
          25,
          26,
          27,
          28,
          29,
          30,
          31,
          32,
          33,
          34,
          35,
          36,
          37,
          38,
          39,
          40,
          41,
          42,
          43,
          44,
          45,
          46,
          47,
          48,
          49,
          50,
          51,
          52,
          53,
          54,
          55,
          56,
          57,
          58,
          59,
          60,
          61,
          62,
          63,
          64,
          65,
          66,
          67,
          68,
          69,
          70,
          71,
          72,
          73,
          74,
          75,
          76,
          77,
          78,
          79,
          80,
          81,
          82,
          83,
          84,
          85,
          86,
          87,
          88,
          89,
          90,
          91,
          92,
          93,
          94,
          95,
          96,
          97,
          98,
          99
         ],
         "y": [
          0.522347272199525,
          0.36817438810491,
          0.0010112605725656199,
          0.9057807174375636,
          0.7384316849079128,
          0.1591551902131888,
          0.183934903423408,
          0.21028223913407484,
          0.5425235102718765,
          0.829885672257394,
          0.7519738973190104,
          0.44385066073449053,
          0.019331177627519902,
          0.5493141819077285,
          0.43307252891392767,
          0.9682569387990952,
          0.11384486841087482,
          0.1590031755729575,
          0.2169754925882097,
          0.5190633136071182,
          0.6609987922208981,
          0.7035280901951679,
          0.3382248559583705,
          0.21615833703988963,
          0.3846361972132023,
          0.055377027460866035,
          0.5234708831540881,
          0.684563444434096,
          0.7089472904480765,
          0.613459906336003,
          0.024396710654762233,
          0.863173763520489,
          0.07096952088354769,
          0.2847928024195078,
          0.8333035039784051,
          0.21383937024242794,
          0.2758222933337888,
          0.7831230087068312,
          0.8516095108356362,
          0.7137903428534593,
          0.6330296758278816,
          0.06523375411443222,
          0.16252955476389142,
          0.3412202916179925,
          0.6962010444797161,
          0.8409563865781624,
          0.30669072720402835,
          0.3725501743663695,
          0.1946819498048723,
          0.17228845089530231,
          0.2568958156082274,
          0.1534823782996152,
          0.9486771411358706,
          0.25786083917786273,
          0.22917003023574523,
          0.5037887336139055,
          0.7901287685428313,
          0.6573510576728744,
          0.7684124144914483,
          0.014870731222623168,
          0.6715626271577866,
          0.010697629160978939,
          0.001866724770348549,
          0.19855030665887508,
          0.1746506780786472,
          0.40914788030905846,
          0.2777894983058271,
          0.4084550388889513,
          0.48623574463775054,
          0.6979433401930659,
          0.7989290510929793,
          0.7582910228703558,
          0.46838736729978614,
          0.057922779673538094,
          0.6559701305443183,
          0.12023603801724625,
          0.3382097627565869,
          0.86046125257498,
          0.5613916849013729,
          0.42542919093183773,
          0.3122730418753221,
          0.014989821263473702,
          0.4333077153710524,
          0.5004352265082898,
          0.05414301370623442,
          0.5717783526285637,
          0.8772586029905328,
          0.22266512257475657,
          0.5068896410400924,
          0.06552324721531144,
          0.5373357865127935,
          0.7467424313884923,
          0.9567202371927418,
          0.3964129865509076,
          0.31767853175412575,
          0.14119743542373886,
          0.6185496464600199,
          0.40141784167385464,
          0.2307858594556288,
          0.13704215385049778
         ]
        },
        {
         "line": {
          "color": "rgba(55, 128, 191, 1.0)",
          "dash": "solid",
          "shape": "linear",
          "width": 1.3
         },
         "mode": "lines",
         "name": "B",
         "text": "",
         "type": "scatter",
         "x": [
          0,
          1,
          2,
          3,
          4,
          5,
          6,
          7,
          8,
          9,
          10,
          11,
          12,
          13,
          14,
          15,
          16,
          17,
          18,
          19,
          20,
          21,
          22,
          23,
          24,
          25,
          26,
          27,
          28,
          29,
          30,
          31,
          32,
          33,
          34,
          35,
          36,
          37,
          38,
          39,
          40,
          41,
          42,
          43,
          44,
          45,
          46,
          47,
          48,
          49,
          50,
          51,
          52,
          53,
          54,
          55,
          56,
          57,
          58,
          59,
          60,
          61,
          62,
          63,
          64,
          65,
          66,
          67,
          68,
          69,
          70,
          71,
          72,
          73,
          74,
          75,
          76,
          77,
          78,
          79,
          80,
          81,
          82,
          83,
          84,
          85,
          86,
          87,
          88,
          89,
          90,
          91,
          92,
          93,
          94,
          95,
          96,
          97,
          98,
          99
         ],
         "y": [
          0.6223770751356761,
          0.3416445020886866,
          0.9971754580323123,
          0.9950524972421991,
          0.139706690041413,
          0.97337753397297,
          0.17019811188026457,
          0.13297246149589348,
          0.5112700763585448,
          0.5231345078299766,
          0.6401770475525225,
          0.8486728789085054,
          0.32960172011473265,
          0.5535922186753318,
          0.5979005822666698,
          0.9802069118862393,
          0.6935871528877221,
          0.6805848666048713,
          0.24598940851936357,
          0.4282626059838952,
          0.19127605696467853,
          0.6225268191350222,
          0.23320264078302066,
          0.48933844966190876,
          0.21942404016854,
          0.851209187484054,
          0.8077751381648538,
          0.4695841707826717,
          0.5260616156288477,
          0.6871504323636946,
          0.22725204415995914,
          0.7974082952586401,
          0.8741857461914679,
          0.3221236227529417,
          0.685973331967647,
          0.42063010160291725,
          0.007343915548235769,
          0.9092139571979199,
          0.024532211610490018,
          0.8274006503674203,
          0.4320308212969496,
          0.9480716795505977,
          0.5557150798236625,
          0.40842131707276563,
          0.4639352220958872,
          0.1449430807398373,
          0.3374661160817264,
          0.8766276775722553,
          0.7714800171519953,
          0.46581484015568697,
          0.9612034584567597,
          0.7520318786681476,
          0.4571010307621315,
          0.7886553394413793,
          0.5670803172017644,
          0.902855913290173,
          0.1946403073620262,
          0.9279093748297184,
          0.6488904817389123,
          0.78642792635236,
          0.092469853089296,
          0.14206876541118296,
          0.35209955641330803,
          0.3565475695518735,
          0.6190868391571726,
          0.9774504503283681,
          0.7475599926339814,
          0.812659821012732,
          0.08391659033449617,
          0.3594271806040815,
          0.09314230103499987,
          0.9929089666406649,
          0.5102785105053524,
          0.9325615962779351,
          0.5279940897747859,
          0.558417503387099,
          0.8471234593254293,
          0.8215181676643304,
          0.4694068589509176,
          0.07913988689432694,
          0.3516123599742621,
          0.8533595285215351,
          0.008119480528145484,
          0.646087726094201,
          0.14199480209371362,
          0.2699901803856761,
          0.7143113007959809,
          0.6206335350655173,
          0.7141016055659357,
          0.047068041441382436,
          0.9223009538279476,
          0.09446291161536402,
          0.9489886100218277,
          0.9750843802396616,
          0.9277824174042508,
          0.7605825286603557,
          0.4538473633176765,
          0.23516633808786724,
          0.9069438664199233,
          0.0635920025401463
         ]
        },
        {
         "connectgaps": false,
         "fill": "tozeroy",
         "line": {
          "color": "green",
          "dash": "solid",
          "shape": "linear",
          "width": 0.5
         },
         "mode": "lines",
         "name": "Spread",
         "showlegend": false,
         "type": "scatter",
         "x": [
          0,
          1,
          2,
          3,
          4,
          5,
          6,
          7,
          8,
          9,
          10,
          11,
          12,
          13,
          14,
          15,
          16,
          17,
          18,
          19,
          20,
          21,
          22,
          23,
          24,
          25,
          26,
          27,
          28,
          29,
          30,
          31,
          32,
          33,
          34,
          35,
          36,
          37,
          38,
          39,
          40,
          41,
          42,
          43,
          44,
          45,
          46,
          47,
          48,
          49,
          50,
          51,
          52,
          53,
          54,
          55,
          56,
          57,
          58,
          59,
          60,
          61,
          62,
          63,
          64,
          65,
          66,
          67,
          68,
          69,
          70,
          71,
          72,
          73,
          74,
          75,
          76,
          77,
          78,
          79,
          80,
          81,
          82,
          83,
          84,
          85,
          86,
          87,
          88,
          89,
          90,
          91,
          92,
          93,
          94,
          95,
          96,
          97,
          98,
          99
         ],
         "xaxis": "x2",
         "y": [
          "",
          0.026529886016223414,
          "",
          "",
          0.5987249948664998,
          "",
          0.013736791543143445,
          0.07730977763818137,
          0.031253433913331685,
          0.30675116442741734,
          0.11179684976648796,
          "",
          "",
          "",
          "",
          "",
          "",
          "",
          "",
          0.09080070762322301,
          0.46972273525621955,
          0.08100127106014576,
          0.10502221517534982,
          "",
          0.1652121570446623,
          "",
          "",
          0.21497927365142433,
          0.1828856748192288,
          "",
          "",
          0.06576546826184893,
          "",
          "",
          0.14733017201075815,
          "",
          0.26847837778555306,
          "",
          0.8270772992251462,
          "",
          0.20099885453093203,
          "",
          "",
          "",
          0.23226582238382887,
          0.6960133058383251,
          "",
          "",
          "",
          "",
          "",
          "",
          0.49157611037373916,
          "",
          "",
          "",
          0.5954884611808051,
          "",
          0.11952193275253598,
          "",
          0.5790927740684906,
          "",
          "",
          "",
          "",
          "",
          "",
          "",
          0.4023191543032544,
          0.3385161595889844,
          0.7057867500579794,
          "",
          "",
          "",
          0.1279760407695324,
          "",
          "",
          0.03894308491064957,
          0.09198482595045532,
          0.3462893040375108,
          "",
          "",
          0.4251882348429069,
          "",
          "",
          0.30178817224288756,
          0.1629473021945519,
          "",
          "",
          0.018455205773929007,
          "",
          0.6522795197731283,
          0.007731627170914135,
          "",
          "",
          "",
          0.16470228314234336,
          0.1662515035859874,
          "",
          0.07345015131035149
         ],
         "yaxis": "y2"
        },
        {
         "connectgaps": false,
         "fill": "tozeroy",
         "line": {
          "color": "red",
          "dash": "solid",
          "shape": "linear",
          "width": 0.5
         },
         "mode": "lines",
         "name": "Spread",
         "showlegend": false,
         "type": "scatter",
         "x": [
          0,
          1,
          2,
          3,
          4,
          5,
          6,
          7,
          8,
          9,
          10,
          11,
          12,
          13,
          14,
          15,
          16,
          17,
          18,
          19,
          20,
          21,
          22,
          23,
          24,
          25,
          26,
          27,
          28,
          29,
          30,
          31,
          32,
          33,
          34,
          35,
          36,
          37,
          38,
          39,
          40,
          41,
          42,
          43,
          44,
          45,
          46,
          47,
          48,
          49,
          50,
          51,
          52,
          53,
          54,
          55,
          56,
          57,
          58,
          59,
          60,
          61,
          62,
          63,
          64,
          65,
          66,
          67,
          68,
          69,
          70,
          71,
          72,
          73,
          74,
          75,
          76,
          77,
          78,
          79,
          80,
          81,
          82,
          83,
          84,
          85,
          86,
          87,
          88,
          89,
          90,
          91,
          92,
          93,
          94,
          95,
          96,
          97,
          98,
          99
         ],
         "xaxis": "x2",
         "y": [
          -0.10002980293615105,
          "",
          -0.9961641974597467,
          -0.08927177980463552,
          "",
          -0.8142223437597812,
          "",
          "",
          "",
          "",
          "",
          -0.40482221817401487,
          -0.31027054248721275,
          -0.004278036767603299,
          -0.1648280533527421,
          -0.011949973087144072,
          -0.5797422844768473,
          -0.5215816910319138,
          -0.029013915931153877,
          "",
          "",
          "",
          "",
          -0.27318011262201913,
          "",
          -0.795832160023188,
          -0.2843042550107657,
          "",
          "",
          -0.07369052602769155,
          -0.2028553335051969,
          "",
          -0.8032162253079203,
          -0.037330820333433934,
          "",
          -0.2067907313604893,
          "",
          -0.1260909484910887,
          "",
          -0.11361030751396095,
          "",
          -0.8828379254361655,
          -0.3931855250597711,
          -0.06720102545477313,
          "",
          "",
          -0.03077538887769804,
          -0.5040775032058858,
          -0.576798067347123,
          -0.29352638926038466,
          -0.7043076428485323,
          -0.5985495003685324,
          "",
          -0.5307945002635166,
          -0.3379102869660192,
          -0.3990671796762675,
          "",
          -0.270558317156844,
          "",
          -0.7715571951297369,
          "",
          -0.13137113625020402,
          -0.3502328316429595,
          -0.15799726289299842,
          -0.44443616107852535,
          -0.5683025700193096,
          -0.4697704943281543,
          -0.40420478212378075,
          "",
          "",
          "",
          -0.2346179437703091,
          -0.041891143205566306,
          -0.874638816604397,
          "",
          -0.4381814653698527,
          -0.5089136965688424,
          "",
          "",
          "",
          -0.03933931809893998,
          -0.8383697072580614,
          "",
          -0.1456524995859112,
          -0.0878517883874792,
          "",
          "",
          -0.39796841249076076,
          -0.20721196452584334,
          "",
          -0.3849651673151542,
          "",
          "",
          -0.578671393688754,
          -0.6101038856501251,
          -0.6193850932366168,
          "",
          "",
          -0.6761580069642945,
          ""
         ],
         "yaxis": "y2"
        }
       ],
       "layout": {
        "hovermode": "x",
        "legend": {
         "bgcolor": "#F5F6F9",
         "font": {
          "color": "#4D5663"
         }
        },
        "paper_bgcolor": "#F5F6F9",
        "plot_bgcolor": "#F5F6F9",
        "template": {
         "data": {
          "bar": [
           {
            "error_x": {
             "color": "#2a3f5f"
            },
            "error_y": {
             "color": "#2a3f5f"
            },
            "marker": {
             "line": {
              "color": "#E5ECF6",
              "width": 0.5
             }
            },
            "type": "bar"
           }
          ],
          "barpolar": [
           {
            "marker": {
             "line": {
              "color": "#E5ECF6",
              "width": 0.5
             }
            },
            "type": "barpolar"
           }
          ],
          "carpet": [
           {
            "aaxis": {
             "endlinecolor": "#2a3f5f",
             "gridcolor": "white",
             "linecolor": "white",
             "minorgridcolor": "white",
             "startlinecolor": "#2a3f5f"
            },
            "baxis": {
             "endlinecolor": "#2a3f5f",
             "gridcolor": "white",
             "linecolor": "white",
             "minorgridcolor": "white",
             "startlinecolor": "#2a3f5f"
            },
            "type": "carpet"
           }
          ],
          "choropleth": [
           {
            "colorbar": {
             "outlinewidth": 0,
             "ticks": ""
            },
            "type": "choropleth"
           }
          ],
          "contour": [
           {
            "colorbar": {
             "outlinewidth": 0,
             "ticks": ""
            },
            "colorscale": [
             [
              0,
              "#0d0887"
             ],
             [
              0.1111111111111111,
              "#46039f"
             ],
             [
              0.2222222222222222,
              "#7201a8"
             ],
             [
              0.3333333333333333,
              "#9c179e"
             ],
             [
              0.4444444444444444,
              "#bd3786"
             ],
             [
              0.5555555555555556,
              "#d8576b"
             ],
             [
              0.6666666666666666,
              "#ed7953"
             ],
             [
              0.7777777777777778,
              "#fb9f3a"
             ],
             [
              0.8888888888888888,
              "#fdca26"
             ],
             [
              1,
              "#f0f921"
             ]
            ],
            "type": "contour"
           }
          ],
          "contourcarpet": [
           {
            "colorbar": {
             "outlinewidth": 0,
             "ticks": ""
            },
            "type": "contourcarpet"
           }
          ],
          "heatmap": [
           {
            "colorbar": {
             "outlinewidth": 0,
             "ticks": ""
            },
            "colorscale": [
             [
              0,
              "#0d0887"
             ],
             [
              0.1111111111111111,
              "#46039f"
             ],
             [
              0.2222222222222222,
              "#7201a8"
             ],
             [
              0.3333333333333333,
              "#9c179e"
             ],
             [
              0.4444444444444444,
              "#bd3786"
             ],
             [
              0.5555555555555556,
              "#d8576b"
             ],
             [
              0.6666666666666666,
              "#ed7953"
             ],
             [
              0.7777777777777778,
              "#fb9f3a"
             ],
             [
              0.8888888888888888,
              "#fdca26"
             ],
             [
              1,
              "#f0f921"
             ]
            ],
            "type": "heatmap"
           }
          ],
          "heatmapgl": [
           {
            "colorbar": {
             "outlinewidth": 0,
             "ticks": ""
            },
            "colorscale": [
             [
              0,
              "#0d0887"
             ],
             [
              0.1111111111111111,
              "#46039f"
             ],
             [
              0.2222222222222222,
              "#7201a8"
             ],
             [
              0.3333333333333333,
              "#9c179e"
             ],
             [
              0.4444444444444444,
              "#bd3786"
             ],
             [
              0.5555555555555556,
              "#d8576b"
             ],
             [
              0.6666666666666666,
              "#ed7953"
             ],
             [
              0.7777777777777778,
              "#fb9f3a"
             ],
             [
              0.8888888888888888,
              "#fdca26"
             ],
             [
              1,
              "#f0f921"
             ]
            ],
            "type": "heatmapgl"
           }
          ],
          "histogram": [
           {
            "marker": {
             "colorbar": {
              "outlinewidth": 0,
              "ticks": ""
             }
            },
            "type": "histogram"
           }
          ],
          "histogram2d": [
           {
            "colorbar": {
             "outlinewidth": 0,
             "ticks": ""
            },
            "colorscale": [
             [
              0,
              "#0d0887"
             ],
             [
              0.1111111111111111,
              "#46039f"
             ],
             [
              0.2222222222222222,
              "#7201a8"
             ],
             [
              0.3333333333333333,
              "#9c179e"
             ],
             [
              0.4444444444444444,
              "#bd3786"
             ],
             [
              0.5555555555555556,
              "#d8576b"
             ],
             [
              0.6666666666666666,
              "#ed7953"
             ],
             [
              0.7777777777777778,
              "#fb9f3a"
             ],
             [
              0.8888888888888888,
              "#fdca26"
             ],
             [
              1,
              "#f0f921"
             ]
            ],
            "type": "histogram2d"
           }
          ],
          "histogram2dcontour": [
           {
            "colorbar": {
             "outlinewidth": 0,
             "ticks": ""
            },
            "colorscale": [
             [
              0,
              "#0d0887"
             ],
             [
              0.1111111111111111,
              "#46039f"
             ],
             [
              0.2222222222222222,
              "#7201a8"
             ],
             [
              0.3333333333333333,
              "#9c179e"
             ],
             [
              0.4444444444444444,
              "#bd3786"
             ],
             [
              0.5555555555555556,
              "#d8576b"
             ],
             [
              0.6666666666666666,
              "#ed7953"
             ],
             [
              0.7777777777777778,
              "#fb9f3a"
             ],
             [
              0.8888888888888888,
              "#fdca26"
             ],
             [
              1,
              "#f0f921"
             ]
            ],
            "type": "histogram2dcontour"
           }
          ],
          "mesh3d": [
           {
            "colorbar": {
             "outlinewidth": 0,
             "ticks": ""
            },
            "type": "mesh3d"
           }
          ],
          "parcoords": [
           {
            "line": {
             "colorbar": {
              "outlinewidth": 0,
              "ticks": ""
             }
            },
            "type": "parcoords"
           }
          ],
          "pie": [
           {
            "automargin": true,
            "type": "pie"
           }
          ],
          "scatter": [
           {
            "marker": {
             "colorbar": {
              "outlinewidth": 0,
              "ticks": ""
             }
            },
            "type": "scatter"
           }
          ],
          "scatter3d": [
           {
            "line": {
             "colorbar": {
              "outlinewidth": 0,
              "ticks": ""
             }
            },
            "marker": {
             "colorbar": {
              "outlinewidth": 0,
              "ticks": ""
             }
            },
            "type": "scatter3d"
           }
          ],
          "scattercarpet": [
           {
            "marker": {
             "colorbar": {
              "outlinewidth": 0,
              "ticks": ""
             }
            },
            "type": "scattercarpet"
           }
          ],
          "scattergeo": [
           {
            "marker": {
             "colorbar": {
              "outlinewidth": 0,
              "ticks": ""
             }
            },
            "type": "scattergeo"
           }
          ],
          "scattergl": [
           {
            "marker": {
             "colorbar": {
              "outlinewidth": 0,
              "ticks": ""
             }
            },
            "type": "scattergl"
           }
          ],
          "scattermapbox": [
           {
            "marker": {
             "colorbar": {
              "outlinewidth": 0,
              "ticks": ""
             }
            },
            "type": "scattermapbox"
           }
          ],
          "scatterpolar": [
           {
            "marker": {
             "colorbar": {
              "outlinewidth": 0,
              "ticks": ""
             }
            },
            "type": "scatterpolar"
           }
          ],
          "scatterpolargl": [
           {
            "marker": {
             "colorbar": {
              "outlinewidth": 0,
              "ticks": ""
             }
            },
            "type": "scatterpolargl"
           }
          ],
          "scatterternary": [
           {
            "marker": {
             "colorbar": {
              "outlinewidth": 0,
              "ticks": ""
             }
            },
            "type": "scatterternary"
           }
          ],
          "surface": [
           {
            "colorbar": {
             "outlinewidth": 0,
             "ticks": ""
            },
            "colorscale": [
             [
              0,
              "#0d0887"
             ],
             [
              0.1111111111111111,
              "#46039f"
             ],
             [
              0.2222222222222222,
              "#7201a8"
             ],
             [
              0.3333333333333333,
              "#9c179e"
             ],
             [
              0.4444444444444444,
              "#bd3786"
             ],
             [
              0.5555555555555556,
              "#d8576b"
             ],
             [
              0.6666666666666666,
              "#ed7953"
             ],
             [
              0.7777777777777778,
              "#fb9f3a"
             ],
             [
              0.8888888888888888,
              "#fdca26"
             ],
             [
              1,
              "#f0f921"
             ]
            ],
            "type": "surface"
           }
          ],
          "table": [
           {
            "cells": {
             "fill": {
              "color": "#EBF0F8"
             },
             "line": {
              "color": "white"
             }
            },
            "header": {
             "fill": {
              "color": "#C8D4E3"
             },
             "line": {
              "color": "white"
             }
            },
            "type": "table"
           }
          ]
         },
         "layout": {
          "annotationdefaults": {
           "arrowcolor": "#2a3f5f",
           "arrowhead": 0,
           "arrowwidth": 1
          },
          "autotypenumbers": "strict",
          "coloraxis": {
           "colorbar": {
            "outlinewidth": 0,
            "ticks": ""
           }
          },
          "colorscale": {
           "diverging": [
            [
             0,
             "#8e0152"
            ],
            [
             0.1,
             "#c51b7d"
            ],
            [
             0.2,
             "#de77ae"
            ],
            [
             0.3,
             "#f1b6da"
            ],
            [
             0.4,
             "#fde0ef"
            ],
            [
             0.5,
             "#f7f7f7"
            ],
            [
             0.6,
             "#e6f5d0"
            ],
            [
             0.7,
             "#b8e186"
            ],
            [
             0.8,
             "#7fbc41"
            ],
            [
             0.9,
             "#4d9221"
            ],
            [
             1,
             "#276419"
            ]
           ],
           "sequential": [
            [
             0,
             "#0d0887"
            ],
            [
             0.1111111111111111,
             "#46039f"
            ],
            [
             0.2222222222222222,
             "#7201a8"
            ],
            [
             0.3333333333333333,
             "#9c179e"
            ],
            [
             0.4444444444444444,
             "#bd3786"
            ],
            [
             0.5555555555555556,
             "#d8576b"
            ],
            [
             0.6666666666666666,
             "#ed7953"
            ],
            [
             0.7777777777777778,
             "#fb9f3a"
            ],
            [
             0.8888888888888888,
             "#fdca26"
            ],
            [
             1,
             "#f0f921"
            ]
           ],
           "sequentialminus": [
            [
             0,
             "#0d0887"
            ],
            [
             0.1111111111111111,
             "#46039f"
            ],
            [
             0.2222222222222222,
             "#7201a8"
            ],
            [
             0.3333333333333333,
             "#9c179e"
            ],
            [
             0.4444444444444444,
             "#bd3786"
            ],
            [
             0.5555555555555556,
             "#d8576b"
            ],
            [
             0.6666666666666666,
             "#ed7953"
            ],
            [
             0.7777777777777778,
             "#fb9f3a"
            ],
            [
             0.8888888888888888,
             "#fdca26"
            ],
            [
             1,
             "#f0f921"
            ]
           ]
          },
          "colorway": [
           "#636efa",
           "#EF553B",
           "#00cc96",
           "#ab63fa",
           "#FFA15A",
           "#19d3f3",
           "#FF6692",
           "#B6E880",
           "#FF97FF",
           "#FECB52"
          ],
          "font": {
           "color": "#2a3f5f"
          },
          "geo": {
           "bgcolor": "white",
           "lakecolor": "white",
           "landcolor": "#E5ECF6",
           "showlakes": true,
           "showland": true,
           "subunitcolor": "white"
          },
          "hoverlabel": {
           "align": "left"
          },
          "hovermode": "closest",
          "mapbox": {
           "style": "light"
          },
          "paper_bgcolor": "white",
          "plot_bgcolor": "#E5ECF6",
          "polar": {
           "angularaxis": {
            "gridcolor": "white",
            "linecolor": "white",
            "ticks": ""
           },
           "bgcolor": "#E5ECF6",
           "radialaxis": {
            "gridcolor": "white",
            "linecolor": "white",
            "ticks": ""
           }
          },
          "scene": {
           "xaxis": {
            "backgroundcolor": "#E5ECF6",
            "gridcolor": "white",
            "gridwidth": 2,
            "linecolor": "white",
            "showbackground": true,
            "ticks": "",
            "zerolinecolor": "white"
           },
           "yaxis": {
            "backgroundcolor": "#E5ECF6",
            "gridcolor": "white",
            "gridwidth": 2,
            "linecolor": "white",
            "showbackground": true,
            "ticks": "",
            "zerolinecolor": "white"
           },
           "zaxis": {
            "backgroundcolor": "#E5ECF6",
            "gridcolor": "white",
            "gridwidth": 2,
            "linecolor": "white",
            "showbackground": true,
            "ticks": "",
            "zerolinecolor": "white"
           }
          },
          "shapedefaults": {
           "line": {
            "color": "#2a3f5f"
           }
          },
          "ternary": {
           "aaxis": {
            "gridcolor": "white",
            "linecolor": "white",
            "ticks": ""
           },
           "baxis": {
            "gridcolor": "white",
            "linecolor": "white",
            "ticks": ""
           },
           "bgcolor": "#E5ECF6",
           "caxis": {
            "gridcolor": "white",
            "linecolor": "white",
            "ticks": ""
           }
          },
          "title": {
           "x": 0.05
          },
          "xaxis": {
           "automargin": true,
           "gridcolor": "white",
           "linecolor": "white",
           "ticks": "",
           "title": {
            "standoff": 15
           },
           "zerolinecolor": "white",
           "zerolinewidth": 2
          },
          "yaxis": {
           "automargin": true,
           "gridcolor": "white",
           "linecolor": "white",
           "ticks": "",
           "title": {
            "standoff": 15
           },
           "zerolinecolor": "white",
           "zerolinewidth": 2
          }
         }
        },
        "title": {
         "font": {
          "color": "#4D5663"
         }
        },
        "xaxis": {
         "gridcolor": "#E1E5ED",
         "showgrid": true,
         "tickfont": {
          "color": "#4D5663"
         },
         "title": {
          "font": {
           "color": "#4D5663"
          },
          "text": ""
         },
         "zerolinecolor": "#E1E5ED"
        },
        "xaxis2": {
         "anchor": "y2",
         "gridcolor": "#E1E5ED",
         "showgrid": true,
         "showticklabels": false,
         "tickfont": {
          "color": "#4D5663"
         },
         "title": {
          "font": {
           "color": "#4D5663"
          },
          "text": ""
         },
         "zerolinecolor": "#E1E5ED"
        },
        "yaxis": {
         "domain": [
          0.3,
          1
         ],
         "gridcolor": "#E1E5ED",
         "showgrid": true,
         "tickfont": {
          "color": "#4D5663"
         },
         "title": {
          "font": {
           "color": "#4D5663"
          },
          "text": ""
         },
         "zerolinecolor": "#E1E5ED"
        },
        "yaxis2": {
         "domain": [
          0,
          0.25
         ],
         "gridcolor": "#E1E5ED",
         "showgrid": true,
         "tickfont": {
          "color": "#4D5663"
         },
         "title": {
          "font": {
           "color": "#4D5663"
          },
          "text": "Spread"
         },
         "zerolinecolor": "#E1E5ED"
        }
       }
      },
      "text/html": [
       "<div>                            <div id=\"ad2d05e5-c761-49c3-a6d2-5049cf584254\" class=\"plotly-graph-div\" style=\"height:525px; width:100%;\"></div>            <script type=\"text/javascript\">                require([\"plotly\"], function(Plotly) {                    window.PLOTLYENV=window.PLOTLYENV || {};\n",
       "                    window.PLOTLYENV.BASE_URL='https://plot.ly';                                    if (document.getElementById(\"ad2d05e5-c761-49c3-a6d2-5049cf584254\")) {                    Plotly.newPlot(                        \"ad2d05e5-c761-49c3-a6d2-5049cf584254\",                        [{\"line\": {\"color\": \"rgba(255, 153, 51, 1.0)\", \"dash\": \"solid\", \"shape\": \"linear\", \"width\": 1.3}, \"mode\": \"lines\", \"name\": \"A\", \"text\": \"\", \"type\": \"scatter\", \"x\": [0, 1, 2, 3, 4, 5, 6, 7, 8, 9, 10, 11, 12, 13, 14, 15, 16, 17, 18, 19, 20, 21, 22, 23, 24, 25, 26, 27, 28, 29, 30, 31, 32, 33, 34, 35, 36, 37, 38, 39, 40, 41, 42, 43, 44, 45, 46, 47, 48, 49, 50, 51, 52, 53, 54, 55, 56, 57, 58, 59, 60, 61, 62, 63, 64, 65, 66, 67, 68, 69, 70, 71, 72, 73, 74, 75, 76, 77, 78, 79, 80, 81, 82, 83, 84, 85, 86, 87, 88, 89, 90, 91, 92, 93, 94, 95, 96, 97, 98, 99], \"y\": [0.522347272199525, 0.36817438810491, 0.0010112605725656199, 0.9057807174375636, 0.7384316849079128, 0.1591551902131888, 0.183934903423408, 0.21028223913407484, 0.5425235102718765, 0.829885672257394, 0.7519738973190104, 0.44385066073449053, 0.019331177627519902, 0.5493141819077285, 0.43307252891392767, 0.9682569387990952, 0.11384486841087482, 0.1590031755729575, 0.2169754925882097, 0.5190633136071182, 0.6609987922208981, 0.7035280901951679, 0.3382248559583705, 0.21615833703988963, 0.3846361972132023, 0.055377027460866035, 0.5234708831540881, 0.684563444434096, 0.7089472904480765, 0.613459906336003, 0.024396710654762233, 0.863173763520489, 0.07096952088354769, 0.2847928024195078, 0.8333035039784051, 0.21383937024242794, 0.2758222933337888, 0.7831230087068312, 0.8516095108356362, 0.7137903428534593, 0.6330296758278816, 0.06523375411443222, 0.16252955476389142, 0.3412202916179925, 0.6962010444797161, 0.8409563865781624, 0.30669072720402835, 0.3725501743663695, 0.1946819498048723, 0.17228845089530231, 0.2568958156082274, 0.1534823782996152, 0.9486771411358706, 0.25786083917786273, 0.22917003023574523, 0.5037887336139055, 0.7901287685428313, 0.6573510576728744, 0.7684124144914483, 0.014870731222623168, 0.6715626271577866, 0.010697629160978939, 0.001866724770348549, 0.19855030665887508, 0.1746506780786472, 0.40914788030905846, 0.2777894983058271, 0.4084550388889513, 0.48623574463775054, 0.6979433401930659, 0.7989290510929793, 0.7582910228703558, 0.46838736729978614, 0.057922779673538094, 0.6559701305443183, 0.12023603801724625, 0.3382097627565869, 0.86046125257498, 0.5613916849013729, 0.42542919093183773, 0.3122730418753221, 0.014989821263473702, 0.4333077153710524, 0.5004352265082898, 0.05414301370623442, 0.5717783526285637, 0.8772586029905328, 0.22266512257475657, 0.5068896410400924, 0.06552324721531144, 0.5373357865127935, 0.7467424313884923, 0.9567202371927418, 0.3964129865509076, 0.31767853175412575, 0.14119743542373886, 0.6185496464600199, 0.40141784167385464, 0.2307858594556288, 0.13704215385049778]}, {\"line\": {\"color\": \"rgba(55, 128, 191, 1.0)\", \"dash\": \"solid\", \"shape\": \"linear\", \"width\": 1.3}, \"mode\": \"lines\", \"name\": \"B\", \"text\": \"\", \"type\": \"scatter\", \"x\": [0, 1, 2, 3, 4, 5, 6, 7, 8, 9, 10, 11, 12, 13, 14, 15, 16, 17, 18, 19, 20, 21, 22, 23, 24, 25, 26, 27, 28, 29, 30, 31, 32, 33, 34, 35, 36, 37, 38, 39, 40, 41, 42, 43, 44, 45, 46, 47, 48, 49, 50, 51, 52, 53, 54, 55, 56, 57, 58, 59, 60, 61, 62, 63, 64, 65, 66, 67, 68, 69, 70, 71, 72, 73, 74, 75, 76, 77, 78, 79, 80, 81, 82, 83, 84, 85, 86, 87, 88, 89, 90, 91, 92, 93, 94, 95, 96, 97, 98, 99], \"y\": [0.6223770751356761, 0.3416445020886866, 0.9971754580323123, 0.9950524972421991, 0.139706690041413, 0.97337753397297, 0.17019811188026457, 0.13297246149589348, 0.5112700763585448, 0.5231345078299766, 0.6401770475525225, 0.8486728789085054, 0.32960172011473265, 0.5535922186753318, 0.5979005822666698, 0.9802069118862393, 0.6935871528877221, 0.6805848666048713, 0.24598940851936357, 0.4282626059838952, 0.19127605696467853, 0.6225268191350222, 0.23320264078302066, 0.48933844966190876, 0.21942404016854, 0.851209187484054, 0.8077751381648538, 0.4695841707826717, 0.5260616156288477, 0.6871504323636946, 0.22725204415995914, 0.7974082952586401, 0.8741857461914679, 0.3221236227529417, 0.685973331967647, 0.42063010160291725, 0.007343915548235769, 0.9092139571979199, 0.024532211610490018, 0.8274006503674203, 0.4320308212969496, 0.9480716795505977, 0.5557150798236625, 0.40842131707276563, 0.4639352220958872, 0.1449430807398373, 0.3374661160817264, 0.8766276775722553, 0.7714800171519953, 0.46581484015568697, 0.9612034584567597, 0.7520318786681476, 0.4571010307621315, 0.7886553394413793, 0.5670803172017644, 0.902855913290173, 0.1946403073620262, 0.9279093748297184, 0.6488904817389123, 0.78642792635236, 0.092469853089296, 0.14206876541118296, 0.35209955641330803, 0.3565475695518735, 0.6190868391571726, 0.9774504503283681, 0.7475599926339814, 0.812659821012732, 0.08391659033449617, 0.3594271806040815, 0.09314230103499987, 0.9929089666406649, 0.5102785105053524, 0.9325615962779351, 0.5279940897747859, 0.558417503387099, 0.8471234593254293, 0.8215181676643304, 0.4694068589509176, 0.07913988689432694, 0.3516123599742621, 0.8533595285215351, 0.008119480528145484, 0.646087726094201, 0.14199480209371362, 0.2699901803856761, 0.7143113007959809, 0.6206335350655173, 0.7141016055659357, 0.047068041441382436, 0.9223009538279476, 0.09446291161536402, 0.9489886100218277, 0.9750843802396616, 0.9277824174042508, 0.7605825286603557, 0.4538473633176765, 0.23516633808786724, 0.9069438664199233, 0.0635920025401463]}, {\"connectgaps\": false, \"fill\": \"tozeroy\", \"line\": {\"color\": \"green\", \"dash\": \"solid\", \"shape\": \"linear\", \"width\": 0.5}, \"mode\": \"lines\", \"name\": \"Spread\", \"showlegend\": false, \"type\": \"scatter\", \"x\": [0, 1, 2, 3, 4, 5, 6, 7, 8, 9, 10, 11, 12, 13, 14, 15, 16, 17, 18, 19, 20, 21, 22, 23, 24, 25, 26, 27, 28, 29, 30, 31, 32, 33, 34, 35, 36, 37, 38, 39, 40, 41, 42, 43, 44, 45, 46, 47, 48, 49, 50, 51, 52, 53, 54, 55, 56, 57, 58, 59, 60, 61, 62, 63, 64, 65, 66, 67, 68, 69, 70, 71, 72, 73, 74, 75, 76, 77, 78, 79, 80, 81, 82, 83, 84, 85, 86, 87, 88, 89, 90, 91, 92, 93, 94, 95, 96, 97, 98, 99], \"xaxis\": \"x2\", \"y\": [\"\", 0.026529886016223414, \"\", \"\", 0.5987249948664998, \"\", 0.013736791543143445, 0.07730977763818137, 0.031253433913331685, 0.30675116442741734, 0.11179684976648796, \"\", \"\", \"\", \"\", \"\", \"\", \"\", \"\", 0.09080070762322301, 0.46972273525621955, 0.08100127106014576, 0.10502221517534982, \"\", 0.1652121570446623, \"\", \"\", 0.21497927365142433, 0.1828856748192288, \"\", \"\", 0.06576546826184893, \"\", \"\", 0.14733017201075815, \"\", 0.26847837778555306, \"\", 0.8270772992251462, \"\", 0.20099885453093203, \"\", \"\", \"\", 0.23226582238382887, 0.6960133058383251, \"\", \"\", \"\", \"\", \"\", \"\", 0.49157611037373916, \"\", \"\", \"\", 0.5954884611808051, \"\", 0.11952193275253598, \"\", 0.5790927740684906, \"\", \"\", \"\", \"\", \"\", \"\", \"\", 0.4023191543032544, 0.3385161595889844, 0.7057867500579794, \"\", \"\", \"\", 0.1279760407695324, \"\", \"\", 0.03894308491064957, 0.09198482595045532, 0.3462893040375108, \"\", \"\", 0.4251882348429069, \"\", \"\", 0.30178817224288756, 0.1629473021945519, \"\", \"\", 0.018455205773929007, \"\", 0.6522795197731283, 0.007731627170914135, \"\", \"\", \"\", 0.16470228314234336, 0.1662515035859874, \"\", 0.07345015131035149], \"yaxis\": \"y2\"}, {\"connectgaps\": false, \"fill\": \"tozeroy\", \"line\": {\"color\": \"red\", \"dash\": \"solid\", \"shape\": \"linear\", \"width\": 0.5}, \"mode\": \"lines\", \"name\": \"Spread\", \"showlegend\": false, \"type\": \"scatter\", \"x\": [0, 1, 2, 3, 4, 5, 6, 7, 8, 9, 10, 11, 12, 13, 14, 15, 16, 17, 18, 19, 20, 21, 22, 23, 24, 25, 26, 27, 28, 29, 30, 31, 32, 33, 34, 35, 36, 37, 38, 39, 40, 41, 42, 43, 44, 45, 46, 47, 48, 49, 50, 51, 52, 53, 54, 55, 56, 57, 58, 59, 60, 61, 62, 63, 64, 65, 66, 67, 68, 69, 70, 71, 72, 73, 74, 75, 76, 77, 78, 79, 80, 81, 82, 83, 84, 85, 86, 87, 88, 89, 90, 91, 92, 93, 94, 95, 96, 97, 98, 99], \"xaxis\": \"x2\", \"y\": [-0.10002980293615105, \"\", -0.9961641974597467, -0.08927177980463552, \"\", -0.8142223437597812, \"\", \"\", \"\", \"\", \"\", -0.40482221817401487, -0.31027054248721275, -0.004278036767603299, -0.1648280533527421, -0.011949973087144072, -0.5797422844768473, -0.5215816910319138, -0.029013915931153877, \"\", \"\", \"\", \"\", -0.27318011262201913, \"\", -0.795832160023188, -0.2843042550107657, \"\", \"\", -0.07369052602769155, -0.2028553335051969, \"\", -0.8032162253079203, -0.037330820333433934, \"\", -0.2067907313604893, \"\", -0.1260909484910887, \"\", -0.11361030751396095, \"\", -0.8828379254361655, -0.3931855250597711, -0.06720102545477313, \"\", \"\", -0.03077538887769804, -0.5040775032058858, -0.576798067347123, -0.29352638926038466, -0.7043076428485323, -0.5985495003685324, \"\", -0.5307945002635166, -0.3379102869660192, -0.3990671796762675, \"\", -0.270558317156844, \"\", -0.7715571951297369, \"\", -0.13137113625020402, -0.3502328316429595, -0.15799726289299842, -0.44443616107852535, -0.5683025700193096, -0.4697704943281543, -0.40420478212378075, \"\", \"\", \"\", -0.2346179437703091, -0.041891143205566306, -0.874638816604397, \"\", -0.4381814653698527, -0.5089136965688424, \"\", \"\", \"\", -0.03933931809893998, -0.8383697072580614, \"\", -0.1456524995859112, -0.0878517883874792, \"\", \"\", -0.39796841249076076, -0.20721196452584334, \"\", -0.3849651673151542, \"\", \"\", -0.578671393688754, -0.6101038856501251, -0.6193850932366168, \"\", \"\", -0.6761580069642945, \"\"], \"yaxis\": \"y2\"}],                        {\"hovermode\": \"x\", \"legend\": {\"bgcolor\": \"#F5F6F9\", \"font\": {\"color\": \"#4D5663\"}}, \"paper_bgcolor\": \"#F5F6F9\", \"plot_bgcolor\": \"#F5F6F9\", \"template\": {\"data\": {\"bar\": [{\"error_x\": {\"color\": \"#2a3f5f\"}, \"error_y\": {\"color\": \"#2a3f5f\"}, \"marker\": {\"line\": {\"color\": \"#E5ECF6\", \"width\": 0.5}}, \"type\": \"bar\"}], \"barpolar\": [{\"marker\": {\"line\": {\"color\": \"#E5ECF6\", \"width\": 0.5}}, \"type\": \"barpolar\"}], \"carpet\": [{\"aaxis\": {\"endlinecolor\": \"#2a3f5f\", \"gridcolor\": \"white\", \"linecolor\": \"white\", \"minorgridcolor\": \"white\", \"startlinecolor\": \"#2a3f5f\"}, \"baxis\": {\"endlinecolor\": \"#2a3f5f\", \"gridcolor\": \"white\", \"linecolor\": \"white\", \"minorgridcolor\": \"white\", \"startlinecolor\": \"#2a3f5f\"}, \"type\": \"carpet\"}], \"choropleth\": [{\"colorbar\": {\"outlinewidth\": 0, \"ticks\": \"\"}, \"type\": \"choropleth\"}], \"contour\": [{\"colorbar\": {\"outlinewidth\": 0, \"ticks\": \"\"}, \"colorscale\": [[0.0, \"#0d0887\"], [0.1111111111111111, \"#46039f\"], [0.2222222222222222, \"#7201a8\"], [0.3333333333333333, \"#9c179e\"], [0.4444444444444444, \"#bd3786\"], [0.5555555555555556, \"#d8576b\"], [0.6666666666666666, \"#ed7953\"], [0.7777777777777778, \"#fb9f3a\"], [0.8888888888888888, \"#fdca26\"], [1.0, \"#f0f921\"]], \"type\": \"contour\"}], \"contourcarpet\": [{\"colorbar\": {\"outlinewidth\": 0, \"ticks\": \"\"}, \"type\": \"contourcarpet\"}], \"heatmap\": [{\"colorbar\": {\"outlinewidth\": 0, \"ticks\": \"\"}, \"colorscale\": [[0.0, \"#0d0887\"], [0.1111111111111111, \"#46039f\"], [0.2222222222222222, \"#7201a8\"], [0.3333333333333333, \"#9c179e\"], [0.4444444444444444, \"#bd3786\"], [0.5555555555555556, \"#d8576b\"], [0.6666666666666666, \"#ed7953\"], [0.7777777777777778, \"#fb9f3a\"], [0.8888888888888888, \"#fdca26\"], [1.0, \"#f0f921\"]], \"type\": \"heatmap\"}], \"heatmapgl\": [{\"colorbar\": {\"outlinewidth\": 0, \"ticks\": \"\"}, \"colorscale\": [[0.0, \"#0d0887\"], [0.1111111111111111, \"#46039f\"], [0.2222222222222222, \"#7201a8\"], [0.3333333333333333, \"#9c179e\"], [0.4444444444444444, \"#bd3786\"], [0.5555555555555556, \"#d8576b\"], [0.6666666666666666, \"#ed7953\"], [0.7777777777777778, \"#fb9f3a\"], [0.8888888888888888, \"#fdca26\"], [1.0, \"#f0f921\"]], \"type\": \"heatmapgl\"}], \"histogram\": [{\"marker\": {\"colorbar\": {\"outlinewidth\": 0, \"ticks\": \"\"}}, \"type\": \"histogram\"}], \"histogram2d\": [{\"colorbar\": {\"outlinewidth\": 0, \"ticks\": \"\"}, \"colorscale\": [[0.0, \"#0d0887\"], [0.1111111111111111, \"#46039f\"], [0.2222222222222222, \"#7201a8\"], [0.3333333333333333, \"#9c179e\"], [0.4444444444444444, \"#bd3786\"], [0.5555555555555556, \"#d8576b\"], [0.6666666666666666, \"#ed7953\"], [0.7777777777777778, \"#fb9f3a\"], [0.8888888888888888, \"#fdca26\"], [1.0, \"#f0f921\"]], \"type\": \"histogram2d\"}], \"histogram2dcontour\": [{\"colorbar\": {\"outlinewidth\": 0, \"ticks\": \"\"}, \"colorscale\": [[0.0, \"#0d0887\"], [0.1111111111111111, \"#46039f\"], [0.2222222222222222, \"#7201a8\"], [0.3333333333333333, \"#9c179e\"], [0.4444444444444444, \"#bd3786\"], [0.5555555555555556, \"#d8576b\"], [0.6666666666666666, \"#ed7953\"], [0.7777777777777778, \"#fb9f3a\"], [0.8888888888888888, \"#fdca26\"], [1.0, \"#f0f921\"]], \"type\": \"histogram2dcontour\"}], \"mesh3d\": [{\"colorbar\": {\"outlinewidth\": 0, \"ticks\": \"\"}, \"type\": \"mesh3d\"}], \"parcoords\": [{\"line\": {\"colorbar\": {\"outlinewidth\": 0, \"ticks\": \"\"}}, \"type\": \"parcoords\"}], \"pie\": [{\"automargin\": true, \"type\": \"pie\"}], \"scatter\": [{\"marker\": {\"colorbar\": {\"outlinewidth\": 0, \"ticks\": \"\"}}, \"type\": \"scatter\"}], \"scatter3d\": [{\"line\": {\"colorbar\": {\"outlinewidth\": 0, \"ticks\": \"\"}}, \"marker\": {\"colorbar\": {\"outlinewidth\": 0, \"ticks\": \"\"}}, \"type\": \"scatter3d\"}], \"scattercarpet\": [{\"marker\": {\"colorbar\": {\"outlinewidth\": 0, \"ticks\": \"\"}}, \"type\": \"scattercarpet\"}], \"scattergeo\": [{\"marker\": {\"colorbar\": {\"outlinewidth\": 0, \"ticks\": \"\"}}, \"type\": \"scattergeo\"}], \"scattergl\": [{\"marker\": {\"colorbar\": {\"outlinewidth\": 0, \"ticks\": \"\"}}, \"type\": \"scattergl\"}], \"scattermapbox\": [{\"marker\": {\"colorbar\": {\"outlinewidth\": 0, \"ticks\": \"\"}}, \"type\": \"scattermapbox\"}], \"scatterpolar\": [{\"marker\": {\"colorbar\": {\"outlinewidth\": 0, \"ticks\": \"\"}}, \"type\": \"scatterpolar\"}], \"scatterpolargl\": [{\"marker\": {\"colorbar\": {\"outlinewidth\": 0, \"ticks\": \"\"}}, \"type\": \"scatterpolargl\"}], \"scatterternary\": [{\"marker\": {\"colorbar\": {\"outlinewidth\": 0, \"ticks\": \"\"}}, \"type\": \"scatterternary\"}], \"surface\": [{\"colorbar\": {\"outlinewidth\": 0, \"ticks\": \"\"}, \"colorscale\": [[0.0, \"#0d0887\"], [0.1111111111111111, \"#46039f\"], [0.2222222222222222, \"#7201a8\"], [0.3333333333333333, \"#9c179e\"], [0.4444444444444444, \"#bd3786\"], [0.5555555555555556, \"#d8576b\"], [0.6666666666666666, \"#ed7953\"], [0.7777777777777778, \"#fb9f3a\"], [0.8888888888888888, \"#fdca26\"], [1.0, \"#f0f921\"]], \"type\": \"surface\"}], \"table\": [{\"cells\": {\"fill\": {\"color\": \"#EBF0F8\"}, \"line\": {\"color\": \"white\"}}, \"header\": {\"fill\": {\"color\": \"#C8D4E3\"}, \"line\": {\"color\": \"white\"}}, \"type\": \"table\"}]}, \"layout\": {\"annotationdefaults\": {\"arrowcolor\": \"#2a3f5f\", \"arrowhead\": 0, \"arrowwidth\": 1}, \"autotypenumbers\": \"strict\", \"coloraxis\": {\"colorbar\": {\"outlinewidth\": 0, \"ticks\": \"\"}}, \"colorscale\": {\"diverging\": [[0, \"#8e0152\"], [0.1, \"#c51b7d\"], [0.2, \"#de77ae\"], [0.3, \"#f1b6da\"], [0.4, \"#fde0ef\"], [0.5, \"#f7f7f7\"], [0.6, \"#e6f5d0\"], [0.7, \"#b8e186\"], [0.8, \"#7fbc41\"], [0.9, \"#4d9221\"], [1, \"#276419\"]], \"sequential\": [[0.0, \"#0d0887\"], [0.1111111111111111, \"#46039f\"], [0.2222222222222222, \"#7201a8\"], [0.3333333333333333, \"#9c179e\"], [0.4444444444444444, \"#bd3786\"], [0.5555555555555556, \"#d8576b\"], [0.6666666666666666, \"#ed7953\"], [0.7777777777777778, \"#fb9f3a\"], [0.8888888888888888, \"#fdca26\"], [1.0, \"#f0f921\"]], \"sequentialminus\": [[0.0, \"#0d0887\"], [0.1111111111111111, \"#46039f\"], [0.2222222222222222, \"#7201a8\"], [0.3333333333333333, \"#9c179e\"], [0.4444444444444444, \"#bd3786\"], [0.5555555555555556, \"#d8576b\"], [0.6666666666666666, \"#ed7953\"], [0.7777777777777778, \"#fb9f3a\"], [0.8888888888888888, \"#fdca26\"], [1.0, \"#f0f921\"]]}, \"colorway\": [\"#636efa\", \"#EF553B\", \"#00cc96\", \"#ab63fa\", \"#FFA15A\", \"#19d3f3\", \"#FF6692\", \"#B6E880\", \"#FF97FF\", \"#FECB52\"], \"font\": {\"color\": \"#2a3f5f\"}, \"geo\": {\"bgcolor\": \"white\", \"lakecolor\": \"white\", \"landcolor\": \"#E5ECF6\", \"showlakes\": true, \"showland\": true, \"subunitcolor\": \"white\"}, \"hoverlabel\": {\"align\": \"left\"}, \"hovermode\": \"closest\", \"mapbox\": {\"style\": \"light\"}, \"paper_bgcolor\": \"white\", \"plot_bgcolor\": \"#E5ECF6\", \"polar\": {\"angularaxis\": {\"gridcolor\": \"white\", \"linecolor\": \"white\", \"ticks\": \"\"}, \"bgcolor\": \"#E5ECF6\", \"radialaxis\": {\"gridcolor\": \"white\", \"linecolor\": \"white\", \"ticks\": \"\"}}, \"scene\": {\"xaxis\": {\"backgroundcolor\": \"#E5ECF6\", \"gridcolor\": \"white\", \"gridwidth\": 2, \"linecolor\": \"white\", \"showbackground\": true, \"ticks\": \"\", \"zerolinecolor\": \"white\"}, \"yaxis\": {\"backgroundcolor\": \"#E5ECF6\", \"gridcolor\": \"white\", \"gridwidth\": 2, \"linecolor\": \"white\", \"showbackground\": true, \"ticks\": \"\", \"zerolinecolor\": \"white\"}, \"zaxis\": {\"backgroundcolor\": \"#E5ECF6\", \"gridcolor\": \"white\", \"gridwidth\": 2, \"linecolor\": \"white\", \"showbackground\": true, \"ticks\": \"\", \"zerolinecolor\": \"white\"}}, \"shapedefaults\": {\"line\": {\"color\": \"#2a3f5f\"}}, \"ternary\": {\"aaxis\": {\"gridcolor\": \"white\", \"linecolor\": \"white\", \"ticks\": \"\"}, \"baxis\": {\"gridcolor\": \"white\", \"linecolor\": \"white\", \"ticks\": \"\"}, \"bgcolor\": \"#E5ECF6\", \"caxis\": {\"gridcolor\": \"white\", \"linecolor\": \"white\", \"ticks\": \"\"}}, \"title\": {\"x\": 0.05}, \"xaxis\": {\"automargin\": true, \"gridcolor\": \"white\", \"linecolor\": \"white\", \"ticks\": \"\", \"title\": {\"standoff\": 15}, \"zerolinecolor\": \"white\", \"zerolinewidth\": 2}, \"yaxis\": {\"automargin\": true, \"gridcolor\": \"white\", \"linecolor\": \"white\", \"ticks\": \"\", \"title\": {\"standoff\": 15}, \"zerolinecolor\": \"white\", \"zerolinewidth\": 2}}}, \"title\": {\"font\": {\"color\": \"#4D5663\"}}, \"xaxis\": {\"gridcolor\": \"#E1E5ED\", \"showgrid\": true, \"tickfont\": {\"color\": \"#4D5663\"}, \"title\": {\"font\": {\"color\": \"#4D5663\"}, \"text\": \"\"}, \"zerolinecolor\": \"#E1E5ED\"}, \"xaxis2\": {\"anchor\": \"y2\", \"gridcolor\": \"#E1E5ED\", \"showgrid\": true, \"showticklabels\": false, \"tickfont\": {\"color\": \"#4D5663\"}, \"title\": {\"font\": {\"color\": \"#4D5663\"}, \"text\": \"\"}, \"zerolinecolor\": \"#E1E5ED\"}, \"yaxis\": {\"domain\": [0.3, 1], \"gridcolor\": \"#E1E5ED\", \"showgrid\": true, \"tickfont\": {\"color\": \"#4D5663\"}, \"title\": {\"font\": {\"color\": \"#4D5663\"}, \"text\": \"\"}, \"zerolinecolor\": \"#E1E5ED\"}, \"yaxis2\": {\"domain\": [0, 0.25], \"gridcolor\": \"#E1E5ED\", \"showgrid\": true, \"tickfont\": {\"color\": \"#4D5663\"}, \"title\": {\"font\": {\"color\": \"#4D5663\"}, \"text\": \"Spread\"}, \"zerolinecolor\": \"#E1E5ED\"}},                        {\"showLink\": true, \"linkText\": \"Export to plot.ly\", \"plotlyServerURL\": \"https://plot.ly\", \"responsive\": true}                    ).then(function(){\n",
       "                            \n",
       "var gd = document.getElementById('ad2d05e5-c761-49c3-a6d2-5049cf584254');\n",
       "var x = new MutationObserver(function (mutations, observer) {{\n",
       "        var display = window.getComputedStyle(gd).display;\n",
       "        if (!display || display === 'none') {{\n",
       "            console.log([gd, 'removed!']);\n",
       "            Plotly.purge(gd);\n",
       "            observer.disconnect();\n",
       "        }}\n",
       "}});\n",
       "\n",
       "// Listen for the removal of the full notebook cells\n",
       "var notebookContainer = gd.closest('#notebook-container');\n",
       "if (notebookContainer) {{\n",
       "    x.observe(notebookContainer, {childList: true});\n",
       "}}\n",
       "\n",
       "// Listen for the clearing of the current output cell\n",
       "var outputEl = gd.closest('.output');\n",
       "if (outputEl) {{\n",
       "    x.observe(outputEl, {childList: true});\n",
       "}}\n",
       "\n",
       "                        })                };                });            </script>        </div>"
      ]
     },
     "metadata": {},
     "output_type": "display_data"
    }
   ],
   "source": [
    "# Primeiro gráfico de linha comum\n",
    "# Segundo gráfico A menos B\n",
    "df1[['A', 'B']].iplot(kind='spread')"
   ]
  },
  {
   "cell_type": "markdown",
   "metadata": {},
   "source": [
    "### Histograma"
   ]
  },
  {
   "cell_type": "code",
   "execution_count": 27,
   "metadata": {},
   "outputs": [
    {
     "data": {
      "application/vnd.plotly.v1+json": {
       "config": {
        "linkText": "Export to plot.ly",
        "plotlyServerURL": "https://plot.ly",
        "showLink": true
       },
       "data": [
        {
         "histfunc": "count",
         "histnorm": "",
         "marker": {
          "color": "rgba(255, 153, 51, 1.0)",
          "line": {
           "color": "#4D5663",
           "width": 1.3
          }
         },
         "name": "A",
         "nbinsx": 50,
         "opacity": 0.8,
         "orientation": "v",
         "type": "histogram",
         "x": [
          0.522347272199525,
          0.36817438810491,
          0.0010112605725656199,
          0.9057807174375636,
          0.7384316849079128,
          0.1591551902131888,
          0.183934903423408,
          0.21028223913407484,
          0.5425235102718765,
          0.829885672257394,
          0.7519738973190104,
          0.44385066073449053,
          0.019331177627519902,
          0.5493141819077285,
          0.43307252891392767,
          0.9682569387990952,
          0.11384486841087482,
          0.1590031755729575,
          0.2169754925882097,
          0.5190633136071182,
          0.6609987922208981,
          0.7035280901951679,
          0.3382248559583705,
          0.21615833703988963,
          0.3846361972132023,
          0.055377027460866035,
          0.5234708831540881,
          0.684563444434096,
          0.7089472904480765,
          0.613459906336003,
          0.024396710654762233,
          0.863173763520489,
          0.07096952088354769,
          0.2847928024195078,
          0.8333035039784051,
          0.21383937024242794,
          0.2758222933337888,
          0.7831230087068312,
          0.8516095108356362,
          0.7137903428534593,
          0.6330296758278816,
          0.06523375411443222,
          0.16252955476389142,
          0.3412202916179925,
          0.6962010444797161,
          0.8409563865781624,
          0.30669072720402835,
          0.3725501743663695,
          0.1946819498048723,
          0.17228845089530231,
          0.2568958156082274,
          0.1534823782996152,
          0.9486771411358706,
          0.25786083917786273,
          0.22917003023574523,
          0.5037887336139055,
          0.7901287685428313,
          0.6573510576728744,
          0.7684124144914483,
          0.014870731222623168,
          0.6715626271577866,
          0.010697629160978939,
          0.001866724770348549,
          0.19855030665887508,
          0.1746506780786472,
          0.40914788030905846,
          0.2777894983058271,
          0.4084550388889513,
          0.48623574463775054,
          0.6979433401930659,
          0.7989290510929793,
          0.7582910228703558,
          0.46838736729978614,
          0.057922779673538094,
          0.6559701305443183,
          0.12023603801724625,
          0.3382097627565869,
          0.86046125257498,
          0.5613916849013729,
          0.42542919093183773,
          0.3122730418753221,
          0.014989821263473702,
          0.4333077153710524,
          0.5004352265082898,
          0.05414301370623442,
          0.5717783526285637,
          0.8772586029905328,
          0.22266512257475657,
          0.5068896410400924,
          0.06552324721531144,
          0.5373357865127935,
          0.7467424313884923,
          0.9567202371927418,
          0.3964129865509076,
          0.31767853175412575,
          0.14119743542373886,
          0.6185496464600199,
          0.40141784167385464,
          0.2307858594556288,
          0.13704215385049778
         ]
        }
       ],
       "layout": {
        "barmode": "overlay",
        "legend": {
         "bgcolor": "#F5F6F9",
         "font": {
          "color": "#4D5663"
         }
        },
        "paper_bgcolor": "#F5F6F9",
        "plot_bgcolor": "#F5F6F9",
        "template": {
         "data": {
          "bar": [
           {
            "error_x": {
             "color": "#2a3f5f"
            },
            "error_y": {
             "color": "#2a3f5f"
            },
            "marker": {
             "line": {
              "color": "#E5ECF6",
              "width": 0.5
             }
            },
            "type": "bar"
           }
          ],
          "barpolar": [
           {
            "marker": {
             "line": {
              "color": "#E5ECF6",
              "width": 0.5
             }
            },
            "type": "barpolar"
           }
          ],
          "carpet": [
           {
            "aaxis": {
             "endlinecolor": "#2a3f5f",
             "gridcolor": "white",
             "linecolor": "white",
             "minorgridcolor": "white",
             "startlinecolor": "#2a3f5f"
            },
            "baxis": {
             "endlinecolor": "#2a3f5f",
             "gridcolor": "white",
             "linecolor": "white",
             "minorgridcolor": "white",
             "startlinecolor": "#2a3f5f"
            },
            "type": "carpet"
           }
          ],
          "choropleth": [
           {
            "colorbar": {
             "outlinewidth": 0,
             "ticks": ""
            },
            "type": "choropleth"
           }
          ],
          "contour": [
           {
            "colorbar": {
             "outlinewidth": 0,
             "ticks": ""
            },
            "colorscale": [
             [
              0,
              "#0d0887"
             ],
             [
              0.1111111111111111,
              "#46039f"
             ],
             [
              0.2222222222222222,
              "#7201a8"
             ],
             [
              0.3333333333333333,
              "#9c179e"
             ],
             [
              0.4444444444444444,
              "#bd3786"
             ],
             [
              0.5555555555555556,
              "#d8576b"
             ],
             [
              0.6666666666666666,
              "#ed7953"
             ],
             [
              0.7777777777777778,
              "#fb9f3a"
             ],
             [
              0.8888888888888888,
              "#fdca26"
             ],
             [
              1,
              "#f0f921"
             ]
            ],
            "type": "contour"
           }
          ],
          "contourcarpet": [
           {
            "colorbar": {
             "outlinewidth": 0,
             "ticks": ""
            },
            "type": "contourcarpet"
           }
          ],
          "heatmap": [
           {
            "colorbar": {
             "outlinewidth": 0,
             "ticks": ""
            },
            "colorscale": [
             [
              0,
              "#0d0887"
             ],
             [
              0.1111111111111111,
              "#46039f"
             ],
             [
              0.2222222222222222,
              "#7201a8"
             ],
             [
              0.3333333333333333,
              "#9c179e"
             ],
             [
              0.4444444444444444,
              "#bd3786"
             ],
             [
              0.5555555555555556,
              "#d8576b"
             ],
             [
              0.6666666666666666,
              "#ed7953"
             ],
             [
              0.7777777777777778,
              "#fb9f3a"
             ],
             [
              0.8888888888888888,
              "#fdca26"
             ],
             [
              1,
              "#f0f921"
             ]
            ],
            "type": "heatmap"
           }
          ],
          "heatmapgl": [
           {
            "colorbar": {
             "outlinewidth": 0,
             "ticks": ""
            },
            "colorscale": [
             [
              0,
              "#0d0887"
             ],
             [
              0.1111111111111111,
              "#46039f"
             ],
             [
              0.2222222222222222,
              "#7201a8"
             ],
             [
              0.3333333333333333,
              "#9c179e"
             ],
             [
              0.4444444444444444,
              "#bd3786"
             ],
             [
              0.5555555555555556,
              "#d8576b"
             ],
             [
              0.6666666666666666,
              "#ed7953"
             ],
             [
              0.7777777777777778,
              "#fb9f3a"
             ],
             [
              0.8888888888888888,
              "#fdca26"
             ],
             [
              1,
              "#f0f921"
             ]
            ],
            "type": "heatmapgl"
           }
          ],
          "histogram": [
           {
            "marker": {
             "colorbar": {
              "outlinewidth": 0,
              "ticks": ""
             }
            },
            "type": "histogram"
           }
          ],
          "histogram2d": [
           {
            "colorbar": {
             "outlinewidth": 0,
             "ticks": ""
            },
            "colorscale": [
             [
              0,
              "#0d0887"
             ],
             [
              0.1111111111111111,
              "#46039f"
             ],
             [
              0.2222222222222222,
              "#7201a8"
             ],
             [
              0.3333333333333333,
              "#9c179e"
             ],
             [
              0.4444444444444444,
              "#bd3786"
             ],
             [
              0.5555555555555556,
              "#d8576b"
             ],
             [
              0.6666666666666666,
              "#ed7953"
             ],
             [
              0.7777777777777778,
              "#fb9f3a"
             ],
             [
              0.8888888888888888,
              "#fdca26"
             ],
             [
              1,
              "#f0f921"
             ]
            ],
            "type": "histogram2d"
           }
          ],
          "histogram2dcontour": [
           {
            "colorbar": {
             "outlinewidth": 0,
             "ticks": ""
            },
            "colorscale": [
             [
              0,
              "#0d0887"
             ],
             [
              0.1111111111111111,
              "#46039f"
             ],
             [
              0.2222222222222222,
              "#7201a8"
             ],
             [
              0.3333333333333333,
              "#9c179e"
             ],
             [
              0.4444444444444444,
              "#bd3786"
             ],
             [
              0.5555555555555556,
              "#d8576b"
             ],
             [
              0.6666666666666666,
              "#ed7953"
             ],
             [
              0.7777777777777778,
              "#fb9f3a"
             ],
             [
              0.8888888888888888,
              "#fdca26"
             ],
             [
              1,
              "#f0f921"
             ]
            ],
            "type": "histogram2dcontour"
           }
          ],
          "mesh3d": [
           {
            "colorbar": {
             "outlinewidth": 0,
             "ticks": ""
            },
            "type": "mesh3d"
           }
          ],
          "parcoords": [
           {
            "line": {
             "colorbar": {
              "outlinewidth": 0,
              "ticks": ""
             }
            },
            "type": "parcoords"
           }
          ],
          "pie": [
           {
            "automargin": true,
            "type": "pie"
           }
          ],
          "scatter": [
           {
            "marker": {
             "colorbar": {
              "outlinewidth": 0,
              "ticks": ""
             }
            },
            "type": "scatter"
           }
          ],
          "scatter3d": [
           {
            "line": {
             "colorbar": {
              "outlinewidth": 0,
              "ticks": ""
             }
            },
            "marker": {
             "colorbar": {
              "outlinewidth": 0,
              "ticks": ""
             }
            },
            "type": "scatter3d"
           }
          ],
          "scattercarpet": [
           {
            "marker": {
             "colorbar": {
              "outlinewidth": 0,
              "ticks": ""
             }
            },
            "type": "scattercarpet"
           }
          ],
          "scattergeo": [
           {
            "marker": {
             "colorbar": {
              "outlinewidth": 0,
              "ticks": ""
             }
            },
            "type": "scattergeo"
           }
          ],
          "scattergl": [
           {
            "marker": {
             "colorbar": {
              "outlinewidth": 0,
              "ticks": ""
             }
            },
            "type": "scattergl"
           }
          ],
          "scattermapbox": [
           {
            "marker": {
             "colorbar": {
              "outlinewidth": 0,
              "ticks": ""
             }
            },
            "type": "scattermapbox"
           }
          ],
          "scatterpolar": [
           {
            "marker": {
             "colorbar": {
              "outlinewidth": 0,
              "ticks": ""
             }
            },
            "type": "scatterpolar"
           }
          ],
          "scatterpolargl": [
           {
            "marker": {
             "colorbar": {
              "outlinewidth": 0,
              "ticks": ""
             }
            },
            "type": "scatterpolargl"
           }
          ],
          "scatterternary": [
           {
            "marker": {
             "colorbar": {
              "outlinewidth": 0,
              "ticks": ""
             }
            },
            "type": "scatterternary"
           }
          ],
          "surface": [
           {
            "colorbar": {
             "outlinewidth": 0,
             "ticks": ""
            },
            "colorscale": [
             [
              0,
              "#0d0887"
             ],
             [
              0.1111111111111111,
              "#46039f"
             ],
             [
              0.2222222222222222,
              "#7201a8"
             ],
             [
              0.3333333333333333,
              "#9c179e"
             ],
             [
              0.4444444444444444,
              "#bd3786"
             ],
             [
              0.5555555555555556,
              "#d8576b"
             ],
             [
              0.6666666666666666,
              "#ed7953"
             ],
             [
              0.7777777777777778,
              "#fb9f3a"
             ],
             [
              0.8888888888888888,
              "#fdca26"
             ],
             [
              1,
              "#f0f921"
             ]
            ],
            "type": "surface"
           }
          ],
          "table": [
           {
            "cells": {
             "fill": {
              "color": "#EBF0F8"
             },
             "line": {
              "color": "white"
             }
            },
            "header": {
             "fill": {
              "color": "#C8D4E3"
             },
             "line": {
              "color": "white"
             }
            },
            "type": "table"
           }
          ]
         },
         "layout": {
          "annotationdefaults": {
           "arrowcolor": "#2a3f5f",
           "arrowhead": 0,
           "arrowwidth": 1
          },
          "autotypenumbers": "strict",
          "coloraxis": {
           "colorbar": {
            "outlinewidth": 0,
            "ticks": ""
           }
          },
          "colorscale": {
           "diverging": [
            [
             0,
             "#8e0152"
            ],
            [
             0.1,
             "#c51b7d"
            ],
            [
             0.2,
             "#de77ae"
            ],
            [
             0.3,
             "#f1b6da"
            ],
            [
             0.4,
             "#fde0ef"
            ],
            [
             0.5,
             "#f7f7f7"
            ],
            [
             0.6,
             "#e6f5d0"
            ],
            [
             0.7,
             "#b8e186"
            ],
            [
             0.8,
             "#7fbc41"
            ],
            [
             0.9,
             "#4d9221"
            ],
            [
             1,
             "#276419"
            ]
           ],
           "sequential": [
            [
             0,
             "#0d0887"
            ],
            [
             0.1111111111111111,
             "#46039f"
            ],
            [
             0.2222222222222222,
             "#7201a8"
            ],
            [
             0.3333333333333333,
             "#9c179e"
            ],
            [
             0.4444444444444444,
             "#bd3786"
            ],
            [
             0.5555555555555556,
             "#d8576b"
            ],
            [
             0.6666666666666666,
             "#ed7953"
            ],
            [
             0.7777777777777778,
             "#fb9f3a"
            ],
            [
             0.8888888888888888,
             "#fdca26"
            ],
            [
             1,
             "#f0f921"
            ]
           ],
           "sequentialminus": [
            [
             0,
             "#0d0887"
            ],
            [
             0.1111111111111111,
             "#46039f"
            ],
            [
             0.2222222222222222,
             "#7201a8"
            ],
            [
             0.3333333333333333,
             "#9c179e"
            ],
            [
             0.4444444444444444,
             "#bd3786"
            ],
            [
             0.5555555555555556,
             "#d8576b"
            ],
            [
             0.6666666666666666,
             "#ed7953"
            ],
            [
             0.7777777777777778,
             "#fb9f3a"
            ],
            [
             0.8888888888888888,
             "#fdca26"
            ],
            [
             1,
             "#f0f921"
            ]
           ]
          },
          "colorway": [
           "#636efa",
           "#EF553B",
           "#00cc96",
           "#ab63fa",
           "#FFA15A",
           "#19d3f3",
           "#FF6692",
           "#B6E880",
           "#FF97FF",
           "#FECB52"
          ],
          "font": {
           "color": "#2a3f5f"
          },
          "geo": {
           "bgcolor": "white",
           "lakecolor": "white",
           "landcolor": "#E5ECF6",
           "showlakes": true,
           "showland": true,
           "subunitcolor": "white"
          },
          "hoverlabel": {
           "align": "left"
          },
          "hovermode": "closest",
          "mapbox": {
           "style": "light"
          },
          "paper_bgcolor": "white",
          "plot_bgcolor": "#E5ECF6",
          "polar": {
           "angularaxis": {
            "gridcolor": "white",
            "linecolor": "white",
            "ticks": ""
           },
           "bgcolor": "#E5ECF6",
           "radialaxis": {
            "gridcolor": "white",
            "linecolor": "white",
            "ticks": ""
           }
          },
          "scene": {
           "xaxis": {
            "backgroundcolor": "#E5ECF6",
            "gridcolor": "white",
            "gridwidth": 2,
            "linecolor": "white",
            "showbackground": true,
            "ticks": "",
            "zerolinecolor": "white"
           },
           "yaxis": {
            "backgroundcolor": "#E5ECF6",
            "gridcolor": "white",
            "gridwidth": 2,
            "linecolor": "white",
            "showbackground": true,
            "ticks": "",
            "zerolinecolor": "white"
           },
           "zaxis": {
            "backgroundcolor": "#E5ECF6",
            "gridcolor": "white",
            "gridwidth": 2,
            "linecolor": "white",
            "showbackground": true,
            "ticks": "",
            "zerolinecolor": "white"
           }
          },
          "shapedefaults": {
           "line": {
            "color": "#2a3f5f"
           }
          },
          "ternary": {
           "aaxis": {
            "gridcolor": "white",
            "linecolor": "white",
            "ticks": ""
           },
           "baxis": {
            "gridcolor": "white",
            "linecolor": "white",
            "ticks": ""
           },
           "bgcolor": "#E5ECF6",
           "caxis": {
            "gridcolor": "white",
            "linecolor": "white",
            "ticks": ""
           }
          },
          "title": {
           "x": 0.05
          },
          "xaxis": {
           "automargin": true,
           "gridcolor": "white",
           "linecolor": "white",
           "ticks": "",
           "title": {
            "standoff": 15
           },
           "zerolinecolor": "white",
           "zerolinewidth": 2
          },
          "yaxis": {
           "automargin": true,
           "gridcolor": "white",
           "linecolor": "white",
           "ticks": "",
           "title": {
            "standoff": 15
           },
           "zerolinecolor": "white",
           "zerolinewidth": 2
          }
         }
        },
        "title": {
         "font": {
          "color": "#4D5663"
         }
        },
        "xaxis": {
         "gridcolor": "#E1E5ED",
         "showgrid": true,
         "tickfont": {
          "color": "#4D5663"
         },
         "title": {
          "font": {
           "color": "#4D5663"
          },
          "text": ""
         },
         "zerolinecolor": "#E1E5ED"
        },
        "yaxis": {
         "gridcolor": "#E1E5ED",
         "showgrid": true,
         "tickfont": {
          "color": "#4D5663"
         },
         "title": {
          "font": {
           "color": "#4D5663"
          },
          "text": ""
         },
         "zerolinecolor": "#E1E5ED"
        }
       }
      },
      "text/html": [
       "<div>                            <div id=\"09d23b37-7f67-4406-997e-0caf9ab2f94d\" class=\"plotly-graph-div\" style=\"height:525px; width:100%;\"></div>            <script type=\"text/javascript\">                require([\"plotly\"], function(Plotly) {                    window.PLOTLYENV=window.PLOTLYENV || {};\n",
       "                    window.PLOTLYENV.BASE_URL='https://plot.ly';                                    if (document.getElementById(\"09d23b37-7f67-4406-997e-0caf9ab2f94d\")) {                    Plotly.newPlot(                        \"09d23b37-7f67-4406-997e-0caf9ab2f94d\",                        [{\"histfunc\": \"count\", \"histnorm\": \"\", \"marker\": {\"color\": \"rgba(255, 153, 51, 1.0)\", \"line\": {\"color\": \"#4D5663\", \"width\": 1.3}}, \"name\": \"A\", \"nbinsx\": 50, \"opacity\": 0.8, \"orientation\": \"v\", \"type\": \"histogram\", \"x\": [0.522347272199525, 0.36817438810491, 0.0010112605725656199, 0.9057807174375636, 0.7384316849079128, 0.1591551902131888, 0.183934903423408, 0.21028223913407484, 0.5425235102718765, 0.829885672257394, 0.7519738973190104, 0.44385066073449053, 0.019331177627519902, 0.5493141819077285, 0.43307252891392767, 0.9682569387990952, 0.11384486841087482, 0.1590031755729575, 0.2169754925882097, 0.5190633136071182, 0.6609987922208981, 0.7035280901951679, 0.3382248559583705, 0.21615833703988963, 0.3846361972132023, 0.055377027460866035, 0.5234708831540881, 0.684563444434096, 0.7089472904480765, 0.613459906336003, 0.024396710654762233, 0.863173763520489, 0.07096952088354769, 0.2847928024195078, 0.8333035039784051, 0.21383937024242794, 0.2758222933337888, 0.7831230087068312, 0.8516095108356362, 0.7137903428534593, 0.6330296758278816, 0.06523375411443222, 0.16252955476389142, 0.3412202916179925, 0.6962010444797161, 0.8409563865781624, 0.30669072720402835, 0.3725501743663695, 0.1946819498048723, 0.17228845089530231, 0.2568958156082274, 0.1534823782996152, 0.9486771411358706, 0.25786083917786273, 0.22917003023574523, 0.5037887336139055, 0.7901287685428313, 0.6573510576728744, 0.7684124144914483, 0.014870731222623168, 0.6715626271577866, 0.010697629160978939, 0.001866724770348549, 0.19855030665887508, 0.1746506780786472, 0.40914788030905846, 0.2777894983058271, 0.4084550388889513, 0.48623574463775054, 0.6979433401930659, 0.7989290510929793, 0.7582910228703558, 0.46838736729978614, 0.057922779673538094, 0.6559701305443183, 0.12023603801724625, 0.3382097627565869, 0.86046125257498, 0.5613916849013729, 0.42542919093183773, 0.3122730418753221, 0.014989821263473702, 0.4333077153710524, 0.5004352265082898, 0.05414301370623442, 0.5717783526285637, 0.8772586029905328, 0.22266512257475657, 0.5068896410400924, 0.06552324721531144, 0.5373357865127935, 0.7467424313884923, 0.9567202371927418, 0.3964129865509076, 0.31767853175412575, 0.14119743542373886, 0.6185496464600199, 0.40141784167385464, 0.2307858594556288, 0.13704215385049778]}],                        {\"barmode\": \"overlay\", \"legend\": {\"bgcolor\": \"#F5F6F9\", \"font\": {\"color\": \"#4D5663\"}}, \"paper_bgcolor\": \"#F5F6F9\", \"plot_bgcolor\": \"#F5F6F9\", \"template\": {\"data\": {\"bar\": [{\"error_x\": {\"color\": \"#2a3f5f\"}, \"error_y\": {\"color\": \"#2a3f5f\"}, \"marker\": {\"line\": {\"color\": \"#E5ECF6\", \"width\": 0.5}}, \"type\": \"bar\"}], \"barpolar\": [{\"marker\": {\"line\": {\"color\": \"#E5ECF6\", \"width\": 0.5}}, \"type\": \"barpolar\"}], \"carpet\": [{\"aaxis\": {\"endlinecolor\": \"#2a3f5f\", \"gridcolor\": \"white\", \"linecolor\": \"white\", \"minorgridcolor\": \"white\", \"startlinecolor\": \"#2a3f5f\"}, \"baxis\": {\"endlinecolor\": \"#2a3f5f\", \"gridcolor\": \"white\", \"linecolor\": \"white\", \"minorgridcolor\": \"white\", \"startlinecolor\": \"#2a3f5f\"}, \"type\": \"carpet\"}], \"choropleth\": [{\"colorbar\": {\"outlinewidth\": 0, \"ticks\": \"\"}, \"type\": \"choropleth\"}], \"contour\": [{\"colorbar\": {\"outlinewidth\": 0, \"ticks\": \"\"}, \"colorscale\": [[0.0, \"#0d0887\"], [0.1111111111111111, \"#46039f\"], [0.2222222222222222, \"#7201a8\"], [0.3333333333333333, \"#9c179e\"], [0.4444444444444444, \"#bd3786\"], [0.5555555555555556, \"#d8576b\"], [0.6666666666666666, \"#ed7953\"], [0.7777777777777778, \"#fb9f3a\"], [0.8888888888888888, \"#fdca26\"], [1.0, \"#f0f921\"]], \"type\": \"contour\"}], \"contourcarpet\": [{\"colorbar\": {\"outlinewidth\": 0, \"ticks\": \"\"}, \"type\": \"contourcarpet\"}], \"heatmap\": [{\"colorbar\": {\"outlinewidth\": 0, \"ticks\": \"\"}, \"colorscale\": [[0.0, \"#0d0887\"], [0.1111111111111111, \"#46039f\"], [0.2222222222222222, \"#7201a8\"], [0.3333333333333333, \"#9c179e\"], [0.4444444444444444, \"#bd3786\"], [0.5555555555555556, \"#d8576b\"], [0.6666666666666666, \"#ed7953\"], [0.7777777777777778, \"#fb9f3a\"], [0.8888888888888888, \"#fdca26\"], [1.0, \"#f0f921\"]], \"type\": \"heatmap\"}], \"heatmapgl\": [{\"colorbar\": {\"outlinewidth\": 0, \"ticks\": \"\"}, \"colorscale\": [[0.0, \"#0d0887\"], [0.1111111111111111, \"#46039f\"], [0.2222222222222222, \"#7201a8\"], [0.3333333333333333, \"#9c179e\"], [0.4444444444444444, \"#bd3786\"], [0.5555555555555556, \"#d8576b\"], [0.6666666666666666, \"#ed7953\"], [0.7777777777777778, \"#fb9f3a\"], [0.8888888888888888, \"#fdca26\"], [1.0, \"#f0f921\"]], \"type\": \"heatmapgl\"}], \"histogram\": [{\"marker\": {\"colorbar\": {\"outlinewidth\": 0, \"ticks\": \"\"}}, \"type\": \"histogram\"}], \"histogram2d\": [{\"colorbar\": {\"outlinewidth\": 0, \"ticks\": \"\"}, \"colorscale\": [[0.0, \"#0d0887\"], [0.1111111111111111, \"#46039f\"], [0.2222222222222222, \"#7201a8\"], [0.3333333333333333, \"#9c179e\"], [0.4444444444444444, \"#bd3786\"], [0.5555555555555556, \"#d8576b\"], [0.6666666666666666, \"#ed7953\"], [0.7777777777777778, \"#fb9f3a\"], [0.8888888888888888, \"#fdca26\"], [1.0, \"#f0f921\"]], \"type\": \"histogram2d\"}], \"histogram2dcontour\": [{\"colorbar\": {\"outlinewidth\": 0, \"ticks\": \"\"}, \"colorscale\": [[0.0, \"#0d0887\"], [0.1111111111111111, \"#46039f\"], [0.2222222222222222, \"#7201a8\"], [0.3333333333333333, \"#9c179e\"], [0.4444444444444444, \"#bd3786\"], [0.5555555555555556, \"#d8576b\"], [0.6666666666666666, \"#ed7953\"], [0.7777777777777778, \"#fb9f3a\"], [0.8888888888888888, \"#fdca26\"], [1.0, \"#f0f921\"]], \"type\": \"histogram2dcontour\"}], \"mesh3d\": [{\"colorbar\": {\"outlinewidth\": 0, \"ticks\": \"\"}, \"type\": \"mesh3d\"}], \"parcoords\": [{\"line\": {\"colorbar\": {\"outlinewidth\": 0, \"ticks\": \"\"}}, \"type\": \"parcoords\"}], \"pie\": [{\"automargin\": true, \"type\": \"pie\"}], \"scatter\": [{\"marker\": {\"colorbar\": {\"outlinewidth\": 0, \"ticks\": \"\"}}, \"type\": \"scatter\"}], \"scatter3d\": [{\"line\": {\"colorbar\": {\"outlinewidth\": 0, \"ticks\": \"\"}}, \"marker\": {\"colorbar\": {\"outlinewidth\": 0, \"ticks\": \"\"}}, \"type\": \"scatter3d\"}], \"scattercarpet\": [{\"marker\": {\"colorbar\": {\"outlinewidth\": 0, \"ticks\": \"\"}}, \"type\": \"scattercarpet\"}], \"scattergeo\": [{\"marker\": {\"colorbar\": {\"outlinewidth\": 0, \"ticks\": \"\"}}, \"type\": \"scattergeo\"}], \"scattergl\": [{\"marker\": {\"colorbar\": {\"outlinewidth\": 0, \"ticks\": \"\"}}, \"type\": \"scattergl\"}], \"scattermapbox\": [{\"marker\": {\"colorbar\": {\"outlinewidth\": 0, \"ticks\": \"\"}}, \"type\": \"scattermapbox\"}], \"scatterpolar\": [{\"marker\": {\"colorbar\": {\"outlinewidth\": 0, \"ticks\": \"\"}}, \"type\": \"scatterpolar\"}], \"scatterpolargl\": [{\"marker\": {\"colorbar\": {\"outlinewidth\": 0, \"ticks\": \"\"}}, \"type\": \"scatterpolargl\"}], \"scatterternary\": [{\"marker\": {\"colorbar\": {\"outlinewidth\": 0, \"ticks\": \"\"}}, \"type\": \"scatterternary\"}], \"surface\": [{\"colorbar\": {\"outlinewidth\": 0, \"ticks\": \"\"}, \"colorscale\": [[0.0, \"#0d0887\"], [0.1111111111111111, \"#46039f\"], [0.2222222222222222, \"#7201a8\"], [0.3333333333333333, \"#9c179e\"], [0.4444444444444444, \"#bd3786\"], [0.5555555555555556, \"#d8576b\"], [0.6666666666666666, \"#ed7953\"], [0.7777777777777778, \"#fb9f3a\"], [0.8888888888888888, \"#fdca26\"], [1.0, \"#f0f921\"]], \"type\": \"surface\"}], \"table\": [{\"cells\": {\"fill\": {\"color\": \"#EBF0F8\"}, \"line\": {\"color\": \"white\"}}, \"header\": {\"fill\": {\"color\": \"#C8D4E3\"}, \"line\": {\"color\": \"white\"}}, \"type\": \"table\"}]}, \"layout\": {\"annotationdefaults\": {\"arrowcolor\": \"#2a3f5f\", \"arrowhead\": 0, \"arrowwidth\": 1}, \"autotypenumbers\": \"strict\", \"coloraxis\": {\"colorbar\": {\"outlinewidth\": 0, \"ticks\": \"\"}}, \"colorscale\": {\"diverging\": [[0, \"#8e0152\"], [0.1, \"#c51b7d\"], [0.2, \"#de77ae\"], [0.3, \"#f1b6da\"], [0.4, \"#fde0ef\"], [0.5, \"#f7f7f7\"], [0.6, \"#e6f5d0\"], [0.7, \"#b8e186\"], [0.8, \"#7fbc41\"], [0.9, \"#4d9221\"], [1, \"#276419\"]], \"sequential\": [[0.0, \"#0d0887\"], [0.1111111111111111, \"#46039f\"], [0.2222222222222222, \"#7201a8\"], [0.3333333333333333, \"#9c179e\"], [0.4444444444444444, \"#bd3786\"], [0.5555555555555556, \"#d8576b\"], [0.6666666666666666, \"#ed7953\"], [0.7777777777777778, \"#fb9f3a\"], [0.8888888888888888, \"#fdca26\"], [1.0, \"#f0f921\"]], \"sequentialminus\": [[0.0, \"#0d0887\"], [0.1111111111111111, \"#46039f\"], [0.2222222222222222, \"#7201a8\"], [0.3333333333333333, \"#9c179e\"], [0.4444444444444444, \"#bd3786\"], [0.5555555555555556, \"#d8576b\"], [0.6666666666666666, \"#ed7953\"], [0.7777777777777778, \"#fb9f3a\"], [0.8888888888888888, \"#fdca26\"], [1.0, \"#f0f921\"]]}, \"colorway\": [\"#636efa\", \"#EF553B\", \"#00cc96\", \"#ab63fa\", \"#FFA15A\", \"#19d3f3\", \"#FF6692\", \"#B6E880\", \"#FF97FF\", \"#FECB52\"], \"font\": {\"color\": \"#2a3f5f\"}, \"geo\": {\"bgcolor\": \"white\", \"lakecolor\": \"white\", \"landcolor\": \"#E5ECF6\", \"showlakes\": true, \"showland\": true, \"subunitcolor\": \"white\"}, \"hoverlabel\": {\"align\": \"left\"}, \"hovermode\": \"closest\", \"mapbox\": {\"style\": \"light\"}, \"paper_bgcolor\": \"white\", \"plot_bgcolor\": \"#E5ECF6\", \"polar\": {\"angularaxis\": {\"gridcolor\": \"white\", \"linecolor\": \"white\", \"ticks\": \"\"}, \"bgcolor\": \"#E5ECF6\", \"radialaxis\": {\"gridcolor\": \"white\", \"linecolor\": \"white\", \"ticks\": \"\"}}, \"scene\": {\"xaxis\": {\"backgroundcolor\": \"#E5ECF6\", \"gridcolor\": \"white\", \"gridwidth\": 2, \"linecolor\": \"white\", \"showbackground\": true, \"ticks\": \"\", \"zerolinecolor\": \"white\"}, \"yaxis\": {\"backgroundcolor\": \"#E5ECF6\", \"gridcolor\": \"white\", \"gridwidth\": 2, \"linecolor\": \"white\", \"showbackground\": true, \"ticks\": \"\", \"zerolinecolor\": \"white\"}, \"zaxis\": {\"backgroundcolor\": \"#E5ECF6\", \"gridcolor\": \"white\", \"gridwidth\": 2, \"linecolor\": \"white\", \"showbackground\": true, \"ticks\": \"\", \"zerolinecolor\": \"white\"}}, \"shapedefaults\": {\"line\": {\"color\": \"#2a3f5f\"}}, \"ternary\": {\"aaxis\": {\"gridcolor\": \"white\", \"linecolor\": \"white\", \"ticks\": \"\"}, \"baxis\": {\"gridcolor\": \"white\", \"linecolor\": \"white\", \"ticks\": \"\"}, \"bgcolor\": \"#E5ECF6\", \"caxis\": {\"gridcolor\": \"white\", \"linecolor\": \"white\", \"ticks\": \"\"}}, \"title\": {\"x\": 0.05}, \"xaxis\": {\"automargin\": true, \"gridcolor\": \"white\", \"linecolor\": \"white\", \"ticks\": \"\", \"title\": {\"standoff\": 15}, \"zerolinecolor\": \"white\", \"zerolinewidth\": 2}, \"yaxis\": {\"automargin\": true, \"gridcolor\": \"white\", \"linecolor\": \"white\", \"ticks\": \"\", \"title\": {\"standoff\": 15}, \"zerolinecolor\": \"white\", \"zerolinewidth\": 2}}}, \"title\": {\"font\": {\"color\": \"#4D5663\"}}, \"xaxis\": {\"gridcolor\": \"#E1E5ED\", \"showgrid\": true, \"tickfont\": {\"color\": \"#4D5663\"}, \"title\": {\"font\": {\"color\": \"#4D5663\"}, \"text\": \"\"}, \"zerolinecolor\": \"#E1E5ED\"}, \"yaxis\": {\"gridcolor\": \"#E1E5ED\", \"showgrid\": true, \"tickfont\": {\"color\": \"#4D5663\"}, \"title\": {\"font\": {\"color\": \"#4D5663\"}, \"text\": \"\"}, \"zerolinecolor\": \"#E1E5ED\"}},                        {\"showLink\": true, \"linkText\": \"Export to plot.ly\", \"plotlyServerURL\": \"https://plot.ly\", \"responsive\": true}                    ).then(function(){\n",
       "                            \n",
       "var gd = document.getElementById('09d23b37-7f67-4406-997e-0caf9ab2f94d');\n",
       "var x = new MutationObserver(function (mutations, observer) {{\n",
       "        var display = window.getComputedStyle(gd).display;\n",
       "        if (!display || display === 'none') {{\n",
       "            console.log([gd, 'removed!']);\n",
       "            Plotly.purge(gd);\n",
       "            observer.disconnect();\n",
       "        }}\n",
       "}});\n",
       "\n",
       "// Listen for the removal of the full notebook cells\n",
       "var notebookContainer = gd.closest('#notebook-container');\n",
       "if (notebookContainer) {{\n",
       "    x.observe(notebookContainer, {childList: true});\n",
       "}}\n",
       "\n",
       "// Listen for the clearing of the current output cell\n",
       "var outputEl = gd.closest('.output');\n",
       "if (outputEl) {{\n",
       "    x.observe(outputEl, {childList: true});\n",
       "}}\n",
       "\n",
       "                        })                };                });            </script>        </div>"
      ]
     },
     "metadata": {},
     "output_type": "display_data"
    }
   ],
   "source": [
    "df1['A'].iplot(kind='hist', bins=50)"
   ]
  },
  {
   "cell_type": "markdown",
   "metadata": {},
   "source": [
    "### Bolha"
   ]
  },
  {
   "cell_type": "code",
   "execution_count": 28,
   "metadata": {},
   "outputs": [
    {
     "data": {
      "application/vnd.plotly.v1+json": {
       "config": {
        "linkText": "Export to plot.ly",
        "plotlyServerURL": "https://plot.ly",
        "showLink": true
       },
       "data": [
        {
         "marker": {
          "color": [
           "rgb(255, 153, 51)",
           "rgb(55, 128, 191)",
           "rgb(50, 171, 96)",
           "rgb(128, 0, 128)",
           "rgb(219, 64, 82)",
           "rgb(0, 128, 128)",
           "rgb(255, 255, 51)",
           "rgb(128, 128, 0)",
           "rgb(251, 128, 114)",
           "rgb(128, 177, 211)"
          ],
          "line": {
           "width": 1.3
          },
          "size": [
           20,
           77,
           27,
           37,
           72,
           23,
           52,
           19,
           99,
           91,
           90,
           111,
           93,
           84,
           63,
           89,
           62,
           85,
           110,
           59,
           12,
           65,
           78,
           12,
           63,
           103,
           57,
           96,
           14,
           83,
           90,
           105,
           84,
           107,
           47,
           93,
           63,
           98,
           81,
           84,
           62,
           25,
           34,
           92,
           72,
           41,
           32,
           25,
           67,
           109,
           90,
           50,
           43,
           76,
           46,
           52,
           20,
           71,
           32,
           36,
           105,
           107,
           49,
           49,
           112,
           39,
           40,
           20,
           51,
           35,
           26,
           34,
           100,
           63,
           56,
           67,
           15,
           56,
           81,
           33,
           111,
           60,
           89,
           79,
           18,
           40,
           55,
           88,
           28,
           78,
           21,
           19,
           66,
           53,
           75,
           94,
           21,
           35,
           38,
           107
          ],
          "symbol": "circle"
         },
         "mode": "markers",
         "text": "",
         "type": "scatter",
         "x": [
          0.522347272199525,
          0.36817438810491,
          0.0010112605725656199,
          0.9057807174375636,
          0.7384316849079128,
          0.1591551902131888,
          0.183934903423408,
          0.21028223913407484,
          0.5425235102718765,
          0.829885672257394,
          0.7519738973190104,
          0.44385066073449053,
          0.019331177627519902,
          0.5493141819077285,
          0.43307252891392767,
          0.9682569387990952,
          0.11384486841087482,
          0.1590031755729575,
          0.2169754925882097,
          0.5190633136071182,
          0.6609987922208981,
          0.7035280901951679,
          0.3382248559583705,
          0.21615833703988963,
          0.3846361972132023,
          0.055377027460866035,
          0.5234708831540881,
          0.684563444434096,
          0.7089472904480765,
          0.613459906336003,
          0.024396710654762233,
          0.863173763520489,
          0.07096952088354769,
          0.2847928024195078,
          0.8333035039784051,
          0.21383937024242794,
          0.2758222933337888,
          0.7831230087068312,
          0.8516095108356362,
          0.7137903428534593,
          0.6330296758278816,
          0.06523375411443222,
          0.16252955476389142,
          0.3412202916179925,
          0.6962010444797161,
          0.8409563865781624,
          0.30669072720402835,
          0.3725501743663695,
          0.1946819498048723,
          0.17228845089530231,
          0.2568958156082274,
          0.1534823782996152,
          0.9486771411358706,
          0.25786083917786273,
          0.22917003023574523,
          0.5037887336139055,
          0.7901287685428313,
          0.6573510576728744,
          0.7684124144914483,
          0.014870731222623168,
          0.6715626271577866,
          0.010697629160978939,
          0.001866724770348549,
          0.19855030665887508,
          0.1746506780786472,
          0.40914788030905846,
          0.2777894983058271,
          0.4084550388889513,
          0.48623574463775054,
          0.6979433401930659,
          0.7989290510929793,
          0.7582910228703558,
          0.46838736729978614,
          0.057922779673538094,
          0.6559701305443183,
          0.12023603801724625,
          0.3382097627565869,
          0.86046125257498,
          0.5613916849013729,
          0.42542919093183773,
          0.3122730418753221,
          0.014989821263473702,
          0.4333077153710524,
          0.5004352265082898,
          0.05414301370623442,
          0.5717783526285637,
          0.8772586029905328,
          0.22266512257475657,
          0.5068896410400924,
          0.06552324721531144,
          0.5373357865127935,
          0.7467424313884923,
          0.9567202371927418,
          0.3964129865509076,
          0.31767853175412575,
          0.14119743542373886,
          0.6185496464600199,
          0.40141784167385464,
          0.2307858594556288,
          0.13704215385049778
         ],
         "y": [
          0.6223770751356761,
          0.3416445020886866,
          0.9971754580323123,
          0.9950524972421991,
          0.139706690041413,
          0.97337753397297,
          0.17019811188026457,
          0.13297246149589348,
          0.5112700763585448,
          0.5231345078299766,
          0.6401770475525225,
          0.8486728789085054,
          0.32960172011473265,
          0.5535922186753318,
          0.5979005822666698,
          0.9802069118862393,
          0.6935871528877221,
          0.6805848666048713,
          0.24598940851936357,
          0.4282626059838952,
          0.19127605696467853,
          0.6225268191350222,
          0.23320264078302066,
          0.48933844966190876,
          0.21942404016854,
          0.851209187484054,
          0.8077751381648538,
          0.4695841707826717,
          0.5260616156288477,
          0.6871504323636946,
          0.22725204415995914,
          0.7974082952586401,
          0.8741857461914679,
          0.3221236227529417,
          0.685973331967647,
          0.42063010160291725,
          0.007343915548235769,
          0.9092139571979199,
          0.024532211610490018,
          0.8274006503674203,
          0.4320308212969496,
          0.9480716795505977,
          0.5557150798236625,
          0.40842131707276563,
          0.4639352220958872,
          0.1449430807398373,
          0.3374661160817264,
          0.8766276775722553,
          0.7714800171519953,
          0.46581484015568697,
          0.9612034584567597,
          0.7520318786681476,
          0.4571010307621315,
          0.7886553394413793,
          0.5670803172017644,
          0.902855913290173,
          0.1946403073620262,
          0.9279093748297184,
          0.6488904817389123,
          0.78642792635236,
          0.092469853089296,
          0.14206876541118296,
          0.35209955641330803,
          0.3565475695518735,
          0.6190868391571726,
          0.9774504503283681,
          0.7475599926339814,
          0.812659821012732,
          0.08391659033449617,
          0.3594271806040815,
          0.09314230103499987,
          0.9929089666406649,
          0.5102785105053524,
          0.9325615962779351,
          0.5279940897747859,
          0.558417503387099,
          0.8471234593254293,
          0.8215181676643304,
          0.4694068589509176,
          0.07913988689432694,
          0.3516123599742621,
          0.8533595285215351,
          0.008119480528145484,
          0.646087726094201,
          0.14199480209371362,
          0.2699901803856761,
          0.7143113007959809,
          0.6206335350655173,
          0.7141016055659357,
          0.047068041441382436,
          0.9223009538279476,
          0.09446291161536402,
          0.9489886100218277,
          0.9750843802396616,
          0.9277824174042508,
          0.7605825286603557,
          0.4538473633176765,
          0.23516633808786724,
          0.9069438664199233,
          0.0635920025401463
         ]
        }
       ],
       "layout": {
        "legend": {
         "bgcolor": "#F5F6F9",
         "font": {
          "color": "#4D5663"
         }
        },
        "paper_bgcolor": "#F5F6F9",
        "plot_bgcolor": "#F5F6F9",
        "template": {
         "data": {
          "bar": [
           {
            "error_x": {
             "color": "#2a3f5f"
            },
            "error_y": {
             "color": "#2a3f5f"
            },
            "marker": {
             "line": {
              "color": "#E5ECF6",
              "width": 0.5
             }
            },
            "type": "bar"
           }
          ],
          "barpolar": [
           {
            "marker": {
             "line": {
              "color": "#E5ECF6",
              "width": 0.5
             }
            },
            "type": "barpolar"
           }
          ],
          "carpet": [
           {
            "aaxis": {
             "endlinecolor": "#2a3f5f",
             "gridcolor": "white",
             "linecolor": "white",
             "minorgridcolor": "white",
             "startlinecolor": "#2a3f5f"
            },
            "baxis": {
             "endlinecolor": "#2a3f5f",
             "gridcolor": "white",
             "linecolor": "white",
             "minorgridcolor": "white",
             "startlinecolor": "#2a3f5f"
            },
            "type": "carpet"
           }
          ],
          "choropleth": [
           {
            "colorbar": {
             "outlinewidth": 0,
             "ticks": ""
            },
            "type": "choropleth"
           }
          ],
          "contour": [
           {
            "colorbar": {
             "outlinewidth": 0,
             "ticks": ""
            },
            "colorscale": [
             [
              0,
              "#0d0887"
             ],
             [
              0.1111111111111111,
              "#46039f"
             ],
             [
              0.2222222222222222,
              "#7201a8"
             ],
             [
              0.3333333333333333,
              "#9c179e"
             ],
             [
              0.4444444444444444,
              "#bd3786"
             ],
             [
              0.5555555555555556,
              "#d8576b"
             ],
             [
              0.6666666666666666,
              "#ed7953"
             ],
             [
              0.7777777777777778,
              "#fb9f3a"
             ],
             [
              0.8888888888888888,
              "#fdca26"
             ],
             [
              1,
              "#f0f921"
             ]
            ],
            "type": "contour"
           }
          ],
          "contourcarpet": [
           {
            "colorbar": {
             "outlinewidth": 0,
             "ticks": ""
            },
            "type": "contourcarpet"
           }
          ],
          "heatmap": [
           {
            "colorbar": {
             "outlinewidth": 0,
             "ticks": ""
            },
            "colorscale": [
             [
              0,
              "#0d0887"
             ],
             [
              0.1111111111111111,
              "#46039f"
             ],
             [
              0.2222222222222222,
              "#7201a8"
             ],
             [
              0.3333333333333333,
              "#9c179e"
             ],
             [
              0.4444444444444444,
              "#bd3786"
             ],
             [
              0.5555555555555556,
              "#d8576b"
             ],
             [
              0.6666666666666666,
              "#ed7953"
             ],
             [
              0.7777777777777778,
              "#fb9f3a"
             ],
             [
              0.8888888888888888,
              "#fdca26"
             ],
             [
              1,
              "#f0f921"
             ]
            ],
            "type": "heatmap"
           }
          ],
          "heatmapgl": [
           {
            "colorbar": {
             "outlinewidth": 0,
             "ticks": ""
            },
            "colorscale": [
             [
              0,
              "#0d0887"
             ],
             [
              0.1111111111111111,
              "#46039f"
             ],
             [
              0.2222222222222222,
              "#7201a8"
             ],
             [
              0.3333333333333333,
              "#9c179e"
             ],
             [
              0.4444444444444444,
              "#bd3786"
             ],
             [
              0.5555555555555556,
              "#d8576b"
             ],
             [
              0.6666666666666666,
              "#ed7953"
             ],
             [
              0.7777777777777778,
              "#fb9f3a"
             ],
             [
              0.8888888888888888,
              "#fdca26"
             ],
             [
              1,
              "#f0f921"
             ]
            ],
            "type": "heatmapgl"
           }
          ],
          "histogram": [
           {
            "marker": {
             "colorbar": {
              "outlinewidth": 0,
              "ticks": ""
             }
            },
            "type": "histogram"
           }
          ],
          "histogram2d": [
           {
            "colorbar": {
             "outlinewidth": 0,
             "ticks": ""
            },
            "colorscale": [
             [
              0,
              "#0d0887"
             ],
             [
              0.1111111111111111,
              "#46039f"
             ],
             [
              0.2222222222222222,
              "#7201a8"
             ],
             [
              0.3333333333333333,
              "#9c179e"
             ],
             [
              0.4444444444444444,
              "#bd3786"
             ],
             [
              0.5555555555555556,
              "#d8576b"
             ],
             [
              0.6666666666666666,
              "#ed7953"
             ],
             [
              0.7777777777777778,
              "#fb9f3a"
             ],
             [
              0.8888888888888888,
              "#fdca26"
             ],
             [
              1,
              "#f0f921"
             ]
            ],
            "type": "histogram2d"
           }
          ],
          "histogram2dcontour": [
           {
            "colorbar": {
             "outlinewidth": 0,
             "ticks": ""
            },
            "colorscale": [
             [
              0,
              "#0d0887"
             ],
             [
              0.1111111111111111,
              "#46039f"
             ],
             [
              0.2222222222222222,
              "#7201a8"
             ],
             [
              0.3333333333333333,
              "#9c179e"
             ],
             [
              0.4444444444444444,
              "#bd3786"
             ],
             [
              0.5555555555555556,
              "#d8576b"
             ],
             [
              0.6666666666666666,
              "#ed7953"
             ],
             [
              0.7777777777777778,
              "#fb9f3a"
             ],
             [
              0.8888888888888888,
              "#fdca26"
             ],
             [
              1,
              "#f0f921"
             ]
            ],
            "type": "histogram2dcontour"
           }
          ],
          "mesh3d": [
           {
            "colorbar": {
             "outlinewidth": 0,
             "ticks": ""
            },
            "type": "mesh3d"
           }
          ],
          "parcoords": [
           {
            "line": {
             "colorbar": {
              "outlinewidth": 0,
              "ticks": ""
             }
            },
            "type": "parcoords"
           }
          ],
          "pie": [
           {
            "automargin": true,
            "type": "pie"
           }
          ],
          "scatter": [
           {
            "marker": {
             "colorbar": {
              "outlinewidth": 0,
              "ticks": ""
             }
            },
            "type": "scatter"
           }
          ],
          "scatter3d": [
           {
            "line": {
             "colorbar": {
              "outlinewidth": 0,
              "ticks": ""
             }
            },
            "marker": {
             "colorbar": {
              "outlinewidth": 0,
              "ticks": ""
             }
            },
            "type": "scatter3d"
           }
          ],
          "scattercarpet": [
           {
            "marker": {
             "colorbar": {
              "outlinewidth": 0,
              "ticks": ""
             }
            },
            "type": "scattercarpet"
           }
          ],
          "scattergeo": [
           {
            "marker": {
             "colorbar": {
              "outlinewidth": 0,
              "ticks": ""
             }
            },
            "type": "scattergeo"
           }
          ],
          "scattergl": [
           {
            "marker": {
             "colorbar": {
              "outlinewidth": 0,
              "ticks": ""
             }
            },
            "type": "scattergl"
           }
          ],
          "scattermapbox": [
           {
            "marker": {
             "colorbar": {
              "outlinewidth": 0,
              "ticks": ""
             }
            },
            "type": "scattermapbox"
           }
          ],
          "scatterpolar": [
           {
            "marker": {
             "colorbar": {
              "outlinewidth": 0,
              "ticks": ""
             }
            },
            "type": "scatterpolar"
           }
          ],
          "scatterpolargl": [
           {
            "marker": {
             "colorbar": {
              "outlinewidth": 0,
              "ticks": ""
             }
            },
            "type": "scatterpolargl"
           }
          ],
          "scatterternary": [
           {
            "marker": {
             "colorbar": {
              "outlinewidth": 0,
              "ticks": ""
             }
            },
            "type": "scatterternary"
           }
          ],
          "surface": [
           {
            "colorbar": {
             "outlinewidth": 0,
             "ticks": ""
            },
            "colorscale": [
             [
              0,
              "#0d0887"
             ],
             [
              0.1111111111111111,
              "#46039f"
             ],
             [
              0.2222222222222222,
              "#7201a8"
             ],
             [
              0.3333333333333333,
              "#9c179e"
             ],
             [
              0.4444444444444444,
              "#bd3786"
             ],
             [
              0.5555555555555556,
              "#d8576b"
             ],
             [
              0.6666666666666666,
              "#ed7953"
             ],
             [
              0.7777777777777778,
              "#fb9f3a"
             ],
             [
              0.8888888888888888,
              "#fdca26"
             ],
             [
              1,
              "#f0f921"
             ]
            ],
            "type": "surface"
           }
          ],
          "table": [
           {
            "cells": {
             "fill": {
              "color": "#EBF0F8"
             },
             "line": {
              "color": "white"
             }
            },
            "header": {
             "fill": {
              "color": "#C8D4E3"
             },
             "line": {
              "color": "white"
             }
            },
            "type": "table"
           }
          ]
         },
         "layout": {
          "annotationdefaults": {
           "arrowcolor": "#2a3f5f",
           "arrowhead": 0,
           "arrowwidth": 1
          },
          "autotypenumbers": "strict",
          "coloraxis": {
           "colorbar": {
            "outlinewidth": 0,
            "ticks": ""
           }
          },
          "colorscale": {
           "diverging": [
            [
             0,
             "#8e0152"
            ],
            [
             0.1,
             "#c51b7d"
            ],
            [
             0.2,
             "#de77ae"
            ],
            [
             0.3,
             "#f1b6da"
            ],
            [
             0.4,
             "#fde0ef"
            ],
            [
             0.5,
             "#f7f7f7"
            ],
            [
             0.6,
             "#e6f5d0"
            ],
            [
             0.7,
             "#b8e186"
            ],
            [
             0.8,
             "#7fbc41"
            ],
            [
             0.9,
             "#4d9221"
            ],
            [
             1,
             "#276419"
            ]
           ],
           "sequential": [
            [
             0,
             "#0d0887"
            ],
            [
             0.1111111111111111,
             "#46039f"
            ],
            [
             0.2222222222222222,
             "#7201a8"
            ],
            [
             0.3333333333333333,
             "#9c179e"
            ],
            [
             0.4444444444444444,
             "#bd3786"
            ],
            [
             0.5555555555555556,
             "#d8576b"
            ],
            [
             0.6666666666666666,
             "#ed7953"
            ],
            [
             0.7777777777777778,
             "#fb9f3a"
            ],
            [
             0.8888888888888888,
             "#fdca26"
            ],
            [
             1,
             "#f0f921"
            ]
           ],
           "sequentialminus": [
            [
             0,
             "#0d0887"
            ],
            [
             0.1111111111111111,
             "#46039f"
            ],
            [
             0.2222222222222222,
             "#7201a8"
            ],
            [
             0.3333333333333333,
             "#9c179e"
            ],
            [
             0.4444444444444444,
             "#bd3786"
            ],
            [
             0.5555555555555556,
             "#d8576b"
            ],
            [
             0.6666666666666666,
             "#ed7953"
            ],
            [
             0.7777777777777778,
             "#fb9f3a"
            ],
            [
             0.8888888888888888,
             "#fdca26"
            ],
            [
             1,
             "#f0f921"
            ]
           ]
          },
          "colorway": [
           "#636efa",
           "#EF553B",
           "#00cc96",
           "#ab63fa",
           "#FFA15A",
           "#19d3f3",
           "#FF6692",
           "#B6E880",
           "#FF97FF",
           "#FECB52"
          ],
          "font": {
           "color": "#2a3f5f"
          },
          "geo": {
           "bgcolor": "white",
           "lakecolor": "white",
           "landcolor": "#E5ECF6",
           "showlakes": true,
           "showland": true,
           "subunitcolor": "white"
          },
          "hoverlabel": {
           "align": "left"
          },
          "hovermode": "closest",
          "mapbox": {
           "style": "light"
          },
          "paper_bgcolor": "white",
          "plot_bgcolor": "#E5ECF6",
          "polar": {
           "angularaxis": {
            "gridcolor": "white",
            "linecolor": "white",
            "ticks": ""
           },
           "bgcolor": "#E5ECF6",
           "radialaxis": {
            "gridcolor": "white",
            "linecolor": "white",
            "ticks": ""
           }
          },
          "scene": {
           "xaxis": {
            "backgroundcolor": "#E5ECF6",
            "gridcolor": "white",
            "gridwidth": 2,
            "linecolor": "white",
            "showbackground": true,
            "ticks": "",
            "zerolinecolor": "white"
           },
           "yaxis": {
            "backgroundcolor": "#E5ECF6",
            "gridcolor": "white",
            "gridwidth": 2,
            "linecolor": "white",
            "showbackground": true,
            "ticks": "",
            "zerolinecolor": "white"
           },
           "zaxis": {
            "backgroundcolor": "#E5ECF6",
            "gridcolor": "white",
            "gridwidth": 2,
            "linecolor": "white",
            "showbackground": true,
            "ticks": "",
            "zerolinecolor": "white"
           }
          },
          "shapedefaults": {
           "line": {
            "color": "#2a3f5f"
           }
          },
          "ternary": {
           "aaxis": {
            "gridcolor": "white",
            "linecolor": "white",
            "ticks": ""
           },
           "baxis": {
            "gridcolor": "white",
            "linecolor": "white",
            "ticks": ""
           },
           "bgcolor": "#E5ECF6",
           "caxis": {
            "gridcolor": "white",
            "linecolor": "white",
            "ticks": ""
           }
          },
          "title": {
           "x": 0.05
          },
          "xaxis": {
           "automargin": true,
           "gridcolor": "white",
           "linecolor": "white",
           "ticks": "",
           "title": {
            "standoff": 15
           },
           "zerolinecolor": "white",
           "zerolinewidth": 2
          },
          "yaxis": {
           "automargin": true,
           "gridcolor": "white",
           "linecolor": "white",
           "ticks": "",
           "title": {
            "standoff": 15
           },
           "zerolinecolor": "white",
           "zerolinewidth": 2
          }
         }
        },
        "title": {
         "font": {
          "color": "#4D5663"
         }
        },
        "xaxis": {
         "gridcolor": "#E1E5ED",
         "showgrid": true,
         "tickfont": {
          "color": "#4D5663"
         },
         "title": {
          "font": {
           "color": "#4D5663"
          },
          "text": ""
         },
         "zerolinecolor": "#E1E5ED"
        },
        "yaxis": {
         "gridcolor": "#E1E5ED",
         "showgrid": true,
         "tickfont": {
          "color": "#4D5663"
         },
         "title": {
          "font": {
           "color": "#4D5663"
          },
          "text": ""
         },
         "zerolinecolor": "#E1E5ED"
        }
       }
      },
      "text/html": [
       "<div>                            <div id=\"c957bb86-2e07-4a6e-b84f-5e46996624fc\" class=\"plotly-graph-div\" style=\"height:525px; width:100%;\"></div>            <script type=\"text/javascript\">                require([\"plotly\"], function(Plotly) {                    window.PLOTLYENV=window.PLOTLYENV || {};\n",
       "                    window.PLOTLYENV.BASE_URL='https://plot.ly';                                    if (document.getElementById(\"c957bb86-2e07-4a6e-b84f-5e46996624fc\")) {                    Plotly.newPlot(                        \"c957bb86-2e07-4a6e-b84f-5e46996624fc\",                        [{\"marker\": {\"color\": [\"rgb(255, 153, 51)\", \"rgb(55, 128, 191)\", \"rgb(50, 171, 96)\", \"rgb(128, 0, 128)\", \"rgb(219, 64, 82)\", \"rgb(0, 128, 128)\", \"rgb(255, 255, 51)\", \"rgb(128, 128, 0)\", \"rgb(251, 128, 114)\", \"rgb(128, 177, 211)\"], \"line\": {\"width\": 1.3}, \"size\": [20, 77, 27, 37, 72, 23, 52, 19, 99, 91, 90, 111, 93, 84, 63, 89, 62, 85, 110, 59, 12, 65, 78, 12, 63, 103, 57, 96, 14, 83, 90, 105, 84, 107, 47, 93, 63, 98, 81, 84, 62, 25, 34, 92, 72, 41, 32, 25, 67, 109, 90, 50, 43, 76, 46, 52, 20, 71, 32, 36, 105, 107, 49, 49, 112, 39, 40, 20, 51, 35, 26, 34, 100, 63, 56, 67, 15, 56, 81, 33, 111, 60, 89, 79, 18, 40, 55, 88, 28, 78, 21, 19, 66, 53, 75, 94, 21, 35, 38, 107], \"symbol\": \"circle\"}, \"mode\": \"markers\", \"text\": \"\", \"type\": \"scatter\", \"x\": [0.522347272199525, 0.36817438810491, 0.0010112605725656199, 0.9057807174375636, 0.7384316849079128, 0.1591551902131888, 0.183934903423408, 0.21028223913407484, 0.5425235102718765, 0.829885672257394, 0.7519738973190104, 0.44385066073449053, 0.019331177627519902, 0.5493141819077285, 0.43307252891392767, 0.9682569387990952, 0.11384486841087482, 0.1590031755729575, 0.2169754925882097, 0.5190633136071182, 0.6609987922208981, 0.7035280901951679, 0.3382248559583705, 0.21615833703988963, 0.3846361972132023, 0.055377027460866035, 0.5234708831540881, 0.684563444434096, 0.7089472904480765, 0.613459906336003, 0.024396710654762233, 0.863173763520489, 0.07096952088354769, 0.2847928024195078, 0.8333035039784051, 0.21383937024242794, 0.2758222933337888, 0.7831230087068312, 0.8516095108356362, 0.7137903428534593, 0.6330296758278816, 0.06523375411443222, 0.16252955476389142, 0.3412202916179925, 0.6962010444797161, 0.8409563865781624, 0.30669072720402835, 0.3725501743663695, 0.1946819498048723, 0.17228845089530231, 0.2568958156082274, 0.1534823782996152, 0.9486771411358706, 0.25786083917786273, 0.22917003023574523, 0.5037887336139055, 0.7901287685428313, 0.6573510576728744, 0.7684124144914483, 0.014870731222623168, 0.6715626271577866, 0.010697629160978939, 0.001866724770348549, 0.19855030665887508, 0.1746506780786472, 0.40914788030905846, 0.2777894983058271, 0.4084550388889513, 0.48623574463775054, 0.6979433401930659, 0.7989290510929793, 0.7582910228703558, 0.46838736729978614, 0.057922779673538094, 0.6559701305443183, 0.12023603801724625, 0.3382097627565869, 0.86046125257498, 0.5613916849013729, 0.42542919093183773, 0.3122730418753221, 0.014989821263473702, 0.4333077153710524, 0.5004352265082898, 0.05414301370623442, 0.5717783526285637, 0.8772586029905328, 0.22266512257475657, 0.5068896410400924, 0.06552324721531144, 0.5373357865127935, 0.7467424313884923, 0.9567202371927418, 0.3964129865509076, 0.31767853175412575, 0.14119743542373886, 0.6185496464600199, 0.40141784167385464, 0.2307858594556288, 0.13704215385049778], \"y\": [0.6223770751356761, 0.3416445020886866, 0.9971754580323123, 0.9950524972421991, 0.139706690041413, 0.97337753397297, 0.17019811188026457, 0.13297246149589348, 0.5112700763585448, 0.5231345078299766, 0.6401770475525225, 0.8486728789085054, 0.32960172011473265, 0.5535922186753318, 0.5979005822666698, 0.9802069118862393, 0.6935871528877221, 0.6805848666048713, 0.24598940851936357, 0.4282626059838952, 0.19127605696467853, 0.6225268191350222, 0.23320264078302066, 0.48933844966190876, 0.21942404016854, 0.851209187484054, 0.8077751381648538, 0.4695841707826717, 0.5260616156288477, 0.6871504323636946, 0.22725204415995914, 0.7974082952586401, 0.8741857461914679, 0.3221236227529417, 0.685973331967647, 0.42063010160291725, 0.007343915548235769, 0.9092139571979199, 0.024532211610490018, 0.8274006503674203, 0.4320308212969496, 0.9480716795505977, 0.5557150798236625, 0.40842131707276563, 0.4639352220958872, 0.1449430807398373, 0.3374661160817264, 0.8766276775722553, 0.7714800171519953, 0.46581484015568697, 0.9612034584567597, 0.7520318786681476, 0.4571010307621315, 0.7886553394413793, 0.5670803172017644, 0.902855913290173, 0.1946403073620262, 0.9279093748297184, 0.6488904817389123, 0.78642792635236, 0.092469853089296, 0.14206876541118296, 0.35209955641330803, 0.3565475695518735, 0.6190868391571726, 0.9774504503283681, 0.7475599926339814, 0.812659821012732, 0.08391659033449617, 0.3594271806040815, 0.09314230103499987, 0.9929089666406649, 0.5102785105053524, 0.9325615962779351, 0.5279940897747859, 0.558417503387099, 0.8471234593254293, 0.8215181676643304, 0.4694068589509176, 0.07913988689432694, 0.3516123599742621, 0.8533595285215351, 0.008119480528145484, 0.646087726094201, 0.14199480209371362, 0.2699901803856761, 0.7143113007959809, 0.6206335350655173, 0.7141016055659357, 0.047068041441382436, 0.9223009538279476, 0.09446291161536402, 0.9489886100218277, 0.9750843802396616, 0.9277824174042508, 0.7605825286603557, 0.4538473633176765, 0.23516633808786724, 0.9069438664199233, 0.0635920025401463]}],                        {\"legend\": {\"bgcolor\": \"#F5F6F9\", \"font\": {\"color\": \"#4D5663\"}}, \"paper_bgcolor\": \"#F5F6F9\", \"plot_bgcolor\": \"#F5F6F9\", \"template\": {\"data\": {\"bar\": [{\"error_x\": {\"color\": \"#2a3f5f\"}, \"error_y\": {\"color\": \"#2a3f5f\"}, \"marker\": {\"line\": {\"color\": \"#E5ECF6\", \"width\": 0.5}}, \"type\": \"bar\"}], \"barpolar\": [{\"marker\": {\"line\": {\"color\": \"#E5ECF6\", \"width\": 0.5}}, \"type\": \"barpolar\"}], \"carpet\": [{\"aaxis\": {\"endlinecolor\": \"#2a3f5f\", \"gridcolor\": \"white\", \"linecolor\": \"white\", \"minorgridcolor\": \"white\", \"startlinecolor\": \"#2a3f5f\"}, \"baxis\": {\"endlinecolor\": \"#2a3f5f\", \"gridcolor\": \"white\", \"linecolor\": \"white\", \"minorgridcolor\": \"white\", \"startlinecolor\": \"#2a3f5f\"}, \"type\": \"carpet\"}], \"choropleth\": [{\"colorbar\": {\"outlinewidth\": 0, \"ticks\": \"\"}, \"type\": \"choropleth\"}], \"contour\": [{\"colorbar\": {\"outlinewidth\": 0, \"ticks\": \"\"}, \"colorscale\": [[0.0, \"#0d0887\"], [0.1111111111111111, \"#46039f\"], [0.2222222222222222, \"#7201a8\"], [0.3333333333333333, \"#9c179e\"], [0.4444444444444444, \"#bd3786\"], [0.5555555555555556, \"#d8576b\"], [0.6666666666666666, \"#ed7953\"], [0.7777777777777778, \"#fb9f3a\"], [0.8888888888888888, \"#fdca26\"], [1.0, \"#f0f921\"]], \"type\": \"contour\"}], \"contourcarpet\": [{\"colorbar\": {\"outlinewidth\": 0, \"ticks\": \"\"}, \"type\": \"contourcarpet\"}], \"heatmap\": [{\"colorbar\": {\"outlinewidth\": 0, \"ticks\": \"\"}, \"colorscale\": [[0.0, \"#0d0887\"], [0.1111111111111111, \"#46039f\"], [0.2222222222222222, \"#7201a8\"], [0.3333333333333333, \"#9c179e\"], [0.4444444444444444, \"#bd3786\"], [0.5555555555555556, \"#d8576b\"], [0.6666666666666666, \"#ed7953\"], [0.7777777777777778, \"#fb9f3a\"], [0.8888888888888888, \"#fdca26\"], [1.0, \"#f0f921\"]], \"type\": \"heatmap\"}], \"heatmapgl\": [{\"colorbar\": {\"outlinewidth\": 0, \"ticks\": \"\"}, \"colorscale\": [[0.0, \"#0d0887\"], [0.1111111111111111, \"#46039f\"], [0.2222222222222222, \"#7201a8\"], [0.3333333333333333, \"#9c179e\"], [0.4444444444444444, \"#bd3786\"], [0.5555555555555556, \"#d8576b\"], [0.6666666666666666, \"#ed7953\"], [0.7777777777777778, \"#fb9f3a\"], [0.8888888888888888, \"#fdca26\"], [1.0, \"#f0f921\"]], \"type\": \"heatmapgl\"}], \"histogram\": [{\"marker\": {\"colorbar\": {\"outlinewidth\": 0, \"ticks\": \"\"}}, \"type\": \"histogram\"}], \"histogram2d\": [{\"colorbar\": {\"outlinewidth\": 0, \"ticks\": \"\"}, \"colorscale\": [[0.0, \"#0d0887\"], [0.1111111111111111, \"#46039f\"], [0.2222222222222222, \"#7201a8\"], [0.3333333333333333, \"#9c179e\"], [0.4444444444444444, \"#bd3786\"], [0.5555555555555556, \"#d8576b\"], [0.6666666666666666, \"#ed7953\"], [0.7777777777777778, \"#fb9f3a\"], [0.8888888888888888, \"#fdca26\"], [1.0, \"#f0f921\"]], \"type\": \"histogram2d\"}], \"histogram2dcontour\": [{\"colorbar\": {\"outlinewidth\": 0, \"ticks\": \"\"}, \"colorscale\": [[0.0, \"#0d0887\"], [0.1111111111111111, \"#46039f\"], [0.2222222222222222, \"#7201a8\"], [0.3333333333333333, \"#9c179e\"], [0.4444444444444444, \"#bd3786\"], [0.5555555555555556, \"#d8576b\"], [0.6666666666666666, \"#ed7953\"], [0.7777777777777778, \"#fb9f3a\"], [0.8888888888888888, \"#fdca26\"], [1.0, \"#f0f921\"]], \"type\": \"histogram2dcontour\"}], \"mesh3d\": [{\"colorbar\": {\"outlinewidth\": 0, \"ticks\": \"\"}, \"type\": \"mesh3d\"}], \"parcoords\": [{\"line\": {\"colorbar\": {\"outlinewidth\": 0, \"ticks\": \"\"}}, \"type\": \"parcoords\"}], \"pie\": [{\"automargin\": true, \"type\": \"pie\"}], \"scatter\": [{\"marker\": {\"colorbar\": {\"outlinewidth\": 0, \"ticks\": \"\"}}, \"type\": \"scatter\"}], \"scatter3d\": [{\"line\": {\"colorbar\": {\"outlinewidth\": 0, \"ticks\": \"\"}}, \"marker\": {\"colorbar\": {\"outlinewidth\": 0, \"ticks\": \"\"}}, \"type\": \"scatter3d\"}], \"scattercarpet\": [{\"marker\": {\"colorbar\": {\"outlinewidth\": 0, \"ticks\": \"\"}}, \"type\": \"scattercarpet\"}], \"scattergeo\": [{\"marker\": {\"colorbar\": {\"outlinewidth\": 0, \"ticks\": \"\"}}, \"type\": \"scattergeo\"}], \"scattergl\": [{\"marker\": {\"colorbar\": {\"outlinewidth\": 0, \"ticks\": \"\"}}, \"type\": \"scattergl\"}], \"scattermapbox\": [{\"marker\": {\"colorbar\": {\"outlinewidth\": 0, \"ticks\": \"\"}}, \"type\": \"scattermapbox\"}], \"scatterpolar\": [{\"marker\": {\"colorbar\": {\"outlinewidth\": 0, \"ticks\": \"\"}}, \"type\": \"scatterpolar\"}], \"scatterpolargl\": [{\"marker\": {\"colorbar\": {\"outlinewidth\": 0, \"ticks\": \"\"}}, \"type\": \"scatterpolargl\"}], \"scatterternary\": [{\"marker\": {\"colorbar\": {\"outlinewidth\": 0, \"ticks\": \"\"}}, \"type\": \"scatterternary\"}], \"surface\": [{\"colorbar\": {\"outlinewidth\": 0, \"ticks\": \"\"}, \"colorscale\": [[0.0, \"#0d0887\"], [0.1111111111111111, \"#46039f\"], [0.2222222222222222, \"#7201a8\"], [0.3333333333333333, \"#9c179e\"], [0.4444444444444444, \"#bd3786\"], [0.5555555555555556, \"#d8576b\"], [0.6666666666666666, \"#ed7953\"], [0.7777777777777778, \"#fb9f3a\"], [0.8888888888888888, \"#fdca26\"], [1.0, \"#f0f921\"]], \"type\": \"surface\"}], \"table\": [{\"cells\": {\"fill\": {\"color\": \"#EBF0F8\"}, \"line\": {\"color\": \"white\"}}, \"header\": {\"fill\": {\"color\": \"#C8D4E3\"}, \"line\": {\"color\": \"white\"}}, \"type\": \"table\"}]}, \"layout\": {\"annotationdefaults\": {\"arrowcolor\": \"#2a3f5f\", \"arrowhead\": 0, \"arrowwidth\": 1}, \"autotypenumbers\": \"strict\", \"coloraxis\": {\"colorbar\": {\"outlinewidth\": 0, \"ticks\": \"\"}}, \"colorscale\": {\"diverging\": [[0, \"#8e0152\"], [0.1, \"#c51b7d\"], [0.2, \"#de77ae\"], [0.3, \"#f1b6da\"], [0.4, \"#fde0ef\"], [0.5, \"#f7f7f7\"], [0.6, \"#e6f5d0\"], [0.7, \"#b8e186\"], [0.8, \"#7fbc41\"], [0.9, \"#4d9221\"], [1, \"#276419\"]], \"sequential\": [[0.0, \"#0d0887\"], [0.1111111111111111, \"#46039f\"], [0.2222222222222222, \"#7201a8\"], [0.3333333333333333, \"#9c179e\"], [0.4444444444444444, \"#bd3786\"], [0.5555555555555556, \"#d8576b\"], [0.6666666666666666, \"#ed7953\"], [0.7777777777777778, \"#fb9f3a\"], [0.8888888888888888, \"#fdca26\"], [1.0, \"#f0f921\"]], \"sequentialminus\": [[0.0, \"#0d0887\"], [0.1111111111111111, \"#46039f\"], [0.2222222222222222, \"#7201a8\"], [0.3333333333333333, \"#9c179e\"], [0.4444444444444444, \"#bd3786\"], [0.5555555555555556, \"#d8576b\"], [0.6666666666666666, \"#ed7953\"], [0.7777777777777778, \"#fb9f3a\"], [0.8888888888888888, \"#fdca26\"], [1.0, \"#f0f921\"]]}, \"colorway\": [\"#636efa\", \"#EF553B\", \"#00cc96\", \"#ab63fa\", \"#FFA15A\", \"#19d3f3\", \"#FF6692\", \"#B6E880\", \"#FF97FF\", \"#FECB52\"], \"font\": {\"color\": \"#2a3f5f\"}, \"geo\": {\"bgcolor\": \"white\", \"lakecolor\": \"white\", \"landcolor\": \"#E5ECF6\", \"showlakes\": true, \"showland\": true, \"subunitcolor\": \"white\"}, \"hoverlabel\": {\"align\": \"left\"}, \"hovermode\": \"closest\", \"mapbox\": {\"style\": \"light\"}, \"paper_bgcolor\": \"white\", \"plot_bgcolor\": \"#E5ECF6\", \"polar\": {\"angularaxis\": {\"gridcolor\": \"white\", \"linecolor\": \"white\", \"ticks\": \"\"}, \"bgcolor\": \"#E5ECF6\", \"radialaxis\": {\"gridcolor\": \"white\", \"linecolor\": \"white\", \"ticks\": \"\"}}, \"scene\": {\"xaxis\": {\"backgroundcolor\": \"#E5ECF6\", \"gridcolor\": \"white\", \"gridwidth\": 2, \"linecolor\": \"white\", \"showbackground\": true, \"ticks\": \"\", \"zerolinecolor\": \"white\"}, \"yaxis\": {\"backgroundcolor\": \"#E5ECF6\", \"gridcolor\": \"white\", \"gridwidth\": 2, \"linecolor\": \"white\", \"showbackground\": true, \"ticks\": \"\", \"zerolinecolor\": \"white\"}, \"zaxis\": {\"backgroundcolor\": \"#E5ECF6\", \"gridcolor\": \"white\", \"gridwidth\": 2, \"linecolor\": \"white\", \"showbackground\": true, \"ticks\": \"\", \"zerolinecolor\": \"white\"}}, \"shapedefaults\": {\"line\": {\"color\": \"#2a3f5f\"}}, \"ternary\": {\"aaxis\": {\"gridcolor\": \"white\", \"linecolor\": \"white\", \"ticks\": \"\"}, \"baxis\": {\"gridcolor\": \"white\", \"linecolor\": \"white\", \"ticks\": \"\"}, \"bgcolor\": \"#E5ECF6\", \"caxis\": {\"gridcolor\": \"white\", \"linecolor\": \"white\", \"ticks\": \"\"}}, \"title\": {\"x\": 0.05}, \"xaxis\": {\"automargin\": true, \"gridcolor\": \"white\", \"linecolor\": \"white\", \"ticks\": \"\", \"title\": {\"standoff\": 15}, \"zerolinecolor\": \"white\", \"zerolinewidth\": 2}, \"yaxis\": {\"automargin\": true, \"gridcolor\": \"white\", \"linecolor\": \"white\", \"ticks\": \"\", \"title\": {\"standoff\": 15}, \"zerolinecolor\": \"white\", \"zerolinewidth\": 2}}}, \"title\": {\"font\": {\"color\": \"#4D5663\"}}, \"xaxis\": {\"gridcolor\": \"#E1E5ED\", \"showgrid\": true, \"tickfont\": {\"color\": \"#4D5663\"}, \"title\": {\"font\": {\"color\": \"#4D5663\"}, \"text\": \"\"}, \"zerolinecolor\": \"#E1E5ED\"}, \"yaxis\": {\"gridcolor\": \"#E1E5ED\", \"showgrid\": true, \"tickfont\": {\"color\": \"#4D5663\"}, \"title\": {\"font\": {\"color\": \"#4D5663\"}, \"text\": \"\"}, \"zerolinecolor\": \"#E1E5ED\"}},                        {\"showLink\": true, \"linkText\": \"Export to plot.ly\", \"plotlyServerURL\": \"https://plot.ly\", \"responsive\": true}                    ).then(function(){\n",
       "                            \n",
       "var gd = document.getElementById('c957bb86-2e07-4a6e-b84f-5e46996624fc');\n",
       "var x = new MutationObserver(function (mutations, observer) {{\n",
       "        var display = window.getComputedStyle(gd).display;\n",
       "        if (!display || display === 'none') {{\n",
       "            console.log([gd, 'removed!']);\n",
       "            Plotly.purge(gd);\n",
       "            observer.disconnect();\n",
       "        }}\n",
       "}});\n",
       "\n",
       "// Listen for the removal of the full notebook cells\n",
       "var notebookContainer = gd.closest('#notebook-container');\n",
       "if (notebookContainer) {{\n",
       "    x.observe(notebookContainer, {childList: true});\n",
       "}}\n",
       "\n",
       "// Listen for the clearing of the current output cell\n",
       "var outputEl = gd.closest('.output');\n",
       "if (outputEl) {{\n",
       "    x.observe(outputEl, {childList: true});\n",
       "}}\n",
       "\n",
       "                        })                };                });            </script>        </div>"
      ]
     },
     "metadata": {},
     "output_type": "display_data"
    }
   ],
   "source": [
    "df1.iplot(kind='bubble', x='A', y='B', size='C')"
   ]
  },
  {
   "cell_type": "markdown",
   "metadata": {},
   "source": [
    "### Matriz de dispersões"
   ]
  },
  {
   "cell_type": "code",
   "execution_count": 29,
   "metadata": {},
   "outputs": [
    {
     "data": {
      "application/vnd.plotly.v1+json": {
       "config": {
        "linkText": "Export to plot.ly",
        "plotlyServerURL": "https://plot.ly",
        "showLink": true
       },
       "data": [
        {
         "histfunc": "count",
         "histnorm": "",
         "marker": {
          "color": "rgba(255, 153, 51, 1.0)",
          "line": {
           "color": "#4D5663",
           "width": 1.3
          }
         },
         "name": "A",
         "nbinsx": 10,
         "opacity": 0.8,
         "orientation": "v",
         "type": "histogram",
         "x": [
          0.522347272199525,
          0.36817438810491,
          0.0010112605725656199,
          0.9057807174375636,
          0.7384316849079128,
          0.1591551902131888,
          0.183934903423408,
          0.21028223913407484,
          0.5425235102718765,
          0.829885672257394,
          0.7519738973190104,
          0.44385066073449053,
          0.019331177627519902,
          0.5493141819077285,
          0.43307252891392767,
          0.9682569387990952,
          0.11384486841087482,
          0.1590031755729575,
          0.2169754925882097,
          0.5190633136071182,
          0.6609987922208981,
          0.7035280901951679,
          0.3382248559583705,
          0.21615833703988963,
          0.3846361972132023,
          0.055377027460866035,
          0.5234708831540881,
          0.684563444434096,
          0.7089472904480765,
          0.613459906336003,
          0.024396710654762233,
          0.863173763520489,
          0.07096952088354769,
          0.2847928024195078,
          0.8333035039784051,
          0.21383937024242794,
          0.2758222933337888,
          0.7831230087068312,
          0.8516095108356362,
          0.7137903428534593,
          0.6330296758278816,
          0.06523375411443222,
          0.16252955476389142,
          0.3412202916179925,
          0.6962010444797161,
          0.8409563865781624,
          0.30669072720402835,
          0.3725501743663695,
          0.1946819498048723,
          0.17228845089530231,
          0.2568958156082274,
          0.1534823782996152,
          0.9486771411358706,
          0.25786083917786273,
          0.22917003023574523,
          0.5037887336139055,
          0.7901287685428313,
          0.6573510576728744,
          0.7684124144914483,
          0.014870731222623168,
          0.6715626271577866,
          0.010697629160978939,
          0.001866724770348549,
          0.19855030665887508,
          0.1746506780786472,
          0.40914788030905846,
          0.2777894983058271,
          0.4084550388889513,
          0.48623574463775054,
          0.6979433401930659,
          0.7989290510929793,
          0.7582910228703558,
          0.46838736729978614,
          0.057922779673538094,
          0.6559701305443183,
          0.12023603801724625,
          0.3382097627565869,
          0.86046125257498,
          0.5613916849013729,
          0.42542919093183773,
          0.3122730418753221,
          0.014989821263473702,
          0.4333077153710524,
          0.5004352265082898,
          0.05414301370623442,
          0.5717783526285637,
          0.8772586029905328,
          0.22266512257475657,
          0.5068896410400924,
          0.06552324721531144,
          0.5373357865127935,
          0.7467424313884923,
          0.9567202371927418,
          0.3964129865509076,
          0.31767853175412575,
          0.14119743542373886,
          0.6185496464600199,
          0.40141784167385464,
          0.2307858594556288,
          0.13704215385049778
         ],
         "xaxis": "x",
         "yaxis": "y"
        },
        {
         "line": {
          "color": "rgba(128, 128, 128, 1.0)",
          "dash": "solid",
          "shape": "linear",
          "width": 1.3
         },
         "marker": {
          "size": 2,
          "symbol": "circle"
         },
         "mode": "markers",
         "name": "A",
         "text": "",
         "type": "scatter",
         "x": [
          0.6223770751356761,
          0.3416445020886866,
          0.9971754580323123,
          0.9950524972421991,
          0.139706690041413,
          0.97337753397297,
          0.17019811188026457,
          0.13297246149589348,
          0.5112700763585448,
          0.5231345078299766,
          0.6401770475525225,
          0.8486728789085054,
          0.32960172011473265,
          0.5535922186753318,
          0.5979005822666698,
          0.9802069118862393,
          0.6935871528877221,
          0.6805848666048713,
          0.24598940851936357,
          0.4282626059838952,
          0.19127605696467853,
          0.6225268191350222,
          0.23320264078302066,
          0.48933844966190876,
          0.21942404016854,
          0.851209187484054,
          0.8077751381648538,
          0.4695841707826717,
          0.5260616156288477,
          0.6871504323636946,
          0.22725204415995914,
          0.7974082952586401,
          0.8741857461914679,
          0.3221236227529417,
          0.685973331967647,
          0.42063010160291725,
          0.007343915548235769,
          0.9092139571979199,
          0.024532211610490018,
          0.8274006503674203,
          0.4320308212969496,
          0.9480716795505977,
          0.5557150798236625,
          0.40842131707276563,
          0.4639352220958872,
          0.1449430807398373,
          0.3374661160817264,
          0.8766276775722553,
          0.7714800171519953,
          0.46581484015568697,
          0.9612034584567597,
          0.7520318786681476,
          0.4571010307621315,
          0.7886553394413793,
          0.5670803172017644,
          0.902855913290173,
          0.1946403073620262,
          0.9279093748297184,
          0.6488904817389123,
          0.78642792635236,
          0.092469853089296,
          0.14206876541118296,
          0.35209955641330803,
          0.3565475695518735,
          0.6190868391571726,
          0.9774504503283681,
          0.7475599926339814,
          0.812659821012732,
          0.08391659033449617,
          0.3594271806040815,
          0.09314230103499987,
          0.9929089666406649,
          0.5102785105053524,
          0.9325615962779351,
          0.5279940897747859,
          0.558417503387099,
          0.8471234593254293,
          0.8215181676643304,
          0.4694068589509176,
          0.07913988689432694,
          0.3516123599742621,
          0.8533595285215351,
          0.008119480528145484,
          0.646087726094201,
          0.14199480209371362,
          0.2699901803856761,
          0.7143113007959809,
          0.6206335350655173,
          0.7141016055659357,
          0.047068041441382436,
          0.9223009538279476,
          0.09446291161536402,
          0.9489886100218277,
          0.9750843802396616,
          0.9277824174042508,
          0.7605825286603557,
          0.4538473633176765,
          0.23516633808786724,
          0.9069438664199233,
          0.0635920025401463
         ],
         "xaxis": "x2",
         "y": [
          0.522347272199525,
          0.36817438810491,
          0.0010112605725656199,
          0.9057807174375636,
          0.7384316849079128,
          0.1591551902131888,
          0.183934903423408,
          0.21028223913407484,
          0.5425235102718765,
          0.829885672257394,
          0.7519738973190104,
          0.44385066073449053,
          0.019331177627519902,
          0.5493141819077285,
          0.43307252891392767,
          0.9682569387990952,
          0.11384486841087482,
          0.1590031755729575,
          0.2169754925882097,
          0.5190633136071182,
          0.6609987922208981,
          0.7035280901951679,
          0.3382248559583705,
          0.21615833703988963,
          0.3846361972132023,
          0.055377027460866035,
          0.5234708831540881,
          0.684563444434096,
          0.7089472904480765,
          0.613459906336003,
          0.024396710654762233,
          0.863173763520489,
          0.07096952088354769,
          0.2847928024195078,
          0.8333035039784051,
          0.21383937024242794,
          0.2758222933337888,
          0.7831230087068312,
          0.8516095108356362,
          0.7137903428534593,
          0.6330296758278816,
          0.06523375411443222,
          0.16252955476389142,
          0.3412202916179925,
          0.6962010444797161,
          0.8409563865781624,
          0.30669072720402835,
          0.3725501743663695,
          0.1946819498048723,
          0.17228845089530231,
          0.2568958156082274,
          0.1534823782996152,
          0.9486771411358706,
          0.25786083917786273,
          0.22917003023574523,
          0.5037887336139055,
          0.7901287685428313,
          0.6573510576728744,
          0.7684124144914483,
          0.014870731222623168,
          0.6715626271577866,
          0.010697629160978939,
          0.001866724770348549,
          0.19855030665887508,
          0.1746506780786472,
          0.40914788030905846,
          0.2777894983058271,
          0.4084550388889513,
          0.48623574463775054,
          0.6979433401930659,
          0.7989290510929793,
          0.7582910228703558,
          0.46838736729978614,
          0.057922779673538094,
          0.6559701305443183,
          0.12023603801724625,
          0.3382097627565869,
          0.86046125257498,
          0.5613916849013729,
          0.42542919093183773,
          0.3122730418753221,
          0.014989821263473702,
          0.4333077153710524,
          0.5004352265082898,
          0.05414301370623442,
          0.5717783526285637,
          0.8772586029905328,
          0.22266512257475657,
          0.5068896410400924,
          0.06552324721531144,
          0.5373357865127935,
          0.7467424313884923,
          0.9567202371927418,
          0.3964129865509076,
          0.31767853175412575,
          0.14119743542373886,
          0.6185496464600199,
          0.40141784167385464,
          0.2307858594556288,
          0.13704215385049778
         ],
         "yaxis": "y2"
        },
        {
         "line": {
          "color": "rgba(128, 128, 128, 1.0)",
          "dash": "solid",
          "shape": "linear",
          "width": 1.3
         },
         "marker": {
          "size": 2,
          "symbol": "circle"
         },
         "mode": "markers",
         "name": "A",
         "text": "",
         "type": "scatter",
         "x": [
          0.09380503798031237,
          0.6526759758934895,
          0.16152349840004232,
          0.25885213526336925,
          0.6038155075983096,
          0.12444921150278254,
          0.4081905383651053,
          0.0856447682824103,
          0.8698656837212047,
          0.7864111638195007,
          0.7825385253280719,
          0.989285497141012,
          0.8095830227158207,
          0.7255092100202046,
          0.5185601147475711,
          0.7689513921723563,
          0.5028279886669335,
          0.7345196218534636,
          0.9744608590874142,
          0.4761370202173333,
          0.008861147125629354,
          0.5388443497493796,
          0.6656293463403312,
          0.008601059414690582,
          0.5135512515383084,
          0.9103780677202373,
          0.4587111186339282,
          0.8372043249635635,
          0.03244716148845039,
          0.7145399148286244,
          0.7799655808965369,
          0.9289674543083432,
          0.7256487173206256,
          0.9437703252058233,
          0.3627547895564347,
          0.8139754564874104,
          0.5132015501603648,
          0.8563123536504531,
          0.6921533327565024,
          0.7240783168468496,
          0.5013029903827229,
          0.1438874608714732,
          0.2295898338029112,
          0.800407192342202,
          0.5996586667602364,
          0.2958846247290571,
          0.20650797226437112,
          0.14061356476170384,
          0.5573955166969558,
          0.963371812387484,
          0.7846642684329815,
          0.3885837088073191,
          0.3199160673306567,
          0.6420635153603851,
          0.35263369966648694,
          0.40748220837865257,
          0.0897624917034805,
          0.5973844642681456,
          0.2131835121306419,
          0.2475350021599133,
          0.9297310288514424,
          0.946796227861677,
          0.3770217985171824,
          0.3783847547891783,
          0.9927075369507348,
          0.27891584456349794,
          0.2880976244887994,
          0.09065713586937318,
          0.3931040655132225,
          0.23669182347192008,
          0.15586718917599607,
          0.2279235750725791,
          0.8796690357075487,
          0.5187316084164268,
          0.4513832322497191,
          0.5540745783395014,
          0.04156052807916366,
          0.4443462601519005,
          0.692901822787496,
          0.2248325046412486,
          0.9919435185541612,
          0.4861547749772823,
          0.7754332776359236,
          0.6757577201573153,
          0.06931940716226204,
          0.28647258696927147,
          0.4415532672592548,
          0.7584892176037682,
          0.16823235607768705,
          0.6587938768913424,
          0.10044053786219476,
          0.08476376269583341,
          0.543827301225614,
          0.4154943916327881,
          0.6345508079492399,
          0.8164541159085817,
          0.10192921003882327,
          0.23598578798322323,
          0.2715593802185342,
          0.950036089672961
         ],
         "xaxis": "x3",
         "y": [
          0.522347272199525,
          0.36817438810491,
          0.0010112605725656199,
          0.9057807174375636,
          0.7384316849079128,
          0.1591551902131888,
          0.183934903423408,
          0.21028223913407484,
          0.5425235102718765,
          0.829885672257394,
          0.7519738973190104,
          0.44385066073449053,
          0.019331177627519902,
          0.5493141819077285,
          0.43307252891392767,
          0.9682569387990952,
          0.11384486841087482,
          0.1590031755729575,
          0.2169754925882097,
          0.5190633136071182,
          0.6609987922208981,
          0.7035280901951679,
          0.3382248559583705,
          0.21615833703988963,
          0.3846361972132023,
          0.055377027460866035,
          0.5234708831540881,
          0.684563444434096,
          0.7089472904480765,
          0.613459906336003,
          0.024396710654762233,
          0.863173763520489,
          0.07096952088354769,
          0.2847928024195078,
          0.8333035039784051,
          0.21383937024242794,
          0.2758222933337888,
          0.7831230087068312,
          0.8516095108356362,
          0.7137903428534593,
          0.6330296758278816,
          0.06523375411443222,
          0.16252955476389142,
          0.3412202916179925,
          0.6962010444797161,
          0.8409563865781624,
          0.30669072720402835,
          0.3725501743663695,
          0.1946819498048723,
          0.17228845089530231,
          0.2568958156082274,
          0.1534823782996152,
          0.9486771411358706,
          0.25786083917786273,
          0.22917003023574523,
          0.5037887336139055,
          0.7901287685428313,
          0.6573510576728744,
          0.7684124144914483,
          0.014870731222623168,
          0.6715626271577866,
          0.010697629160978939,
          0.001866724770348549,
          0.19855030665887508,
          0.1746506780786472,
          0.40914788030905846,
          0.2777894983058271,
          0.4084550388889513,
          0.48623574463775054,
          0.6979433401930659,
          0.7989290510929793,
          0.7582910228703558,
          0.46838736729978614,
          0.057922779673538094,
          0.6559701305443183,
          0.12023603801724625,
          0.3382097627565869,
          0.86046125257498,
          0.5613916849013729,
          0.42542919093183773,
          0.3122730418753221,
          0.014989821263473702,
          0.4333077153710524,
          0.5004352265082898,
          0.05414301370623442,
          0.5717783526285637,
          0.8772586029905328,
          0.22266512257475657,
          0.5068896410400924,
          0.06552324721531144,
          0.5373357865127935,
          0.7467424313884923,
          0.9567202371927418,
          0.3964129865509076,
          0.31767853175412575,
          0.14119743542373886,
          0.6185496464600199,
          0.40141784167385464,
          0.2307858594556288,
          0.13704215385049778
         ],
         "yaxis": "y3"
        },
        {
         "line": {
          "color": "rgba(128, 128, 128, 1.0)",
          "dash": "solid",
          "shape": "linear",
          "width": 1.3
         },
         "marker": {
          "size": 2,
          "symbol": "circle"
         },
         "mode": "markers",
         "name": "A",
         "text": "",
         "type": "scatter",
         "x": [
          0.9346393437613366,
          0.252958136991432,
          0.07003297375437512,
          0.3582840478916085,
          0.8840384570989815,
          0.42538620416837003,
          0.8422658213094364,
          0.9138359962782545,
          0.4911302729029282,
          0.34945035754671705,
          0.8812835967905034,
          0.6333305016978108,
          0.6347602581696066,
          0.7197170468368065,
          0.5788768069373421,
          0.2408013204640741,
          0.9879324626242971,
          0.5164122289856797,
          0.3818211226714455,
          0.9517789224117948,
          0.8835517907989451,
          0.22924111559361737,
          0.239131370914902,
          0.09876930995477295,
          0.9888995184554749,
          0.747606118899924,
          0.39286956582633614,
          0.6048409469693944,
          0.8620820320927773,
          0.35360465402161023,
          0.5602058479032207,
          0.680728677321006,
          0.02901077871292812,
          0.9035486638560817,
          0.14231539286055106,
          0.15553137825302832,
          0.793409548594289,
          0.5398433929523276,
          0.146464282195094,
          0.5703799874715035,
          0.8044355195012435,
          0.7039588028633254,
          0.17155165600787747,
          0.04757395148304666,
          0.4092880199511377,
          0.015824593994852587,
          0.6064288036517577,
          0.6072249260796262,
          0.03432881777771024,
          0.5343625427188801,
          0.851077082381364,
          0.9570804516946935,
          0.278266331225548,
          0.04805602451244784,
          0.5807689847525798,
          0.30492695492450483,
          0.7504567956856679,
          0.15821063989633388,
          0.44376728077255345,
          0.5051110350596844,
          0.6846816931403839,
          0.5861006841761461,
          0.10356669488190007,
          0.9759077922327591,
          0.11210276544417941,
          0.6573715883495088,
          0.6870133902678076,
          0.4296343693443144,
          0.5736519272716726,
          0.07873911028793468,
          0.08166145378763146,
          0.8090912545179954,
          0.8128174971281759,
          0.11240827128296138,
          0.6905433868515691,
          0.23378205774432048,
          0.005475311723259768,
          0.18289043528022209,
          0.9616911528717593,
          0.7782271907089138,
          0.5823571430675251,
          0.8436650443121044,
          0.24088043001728998,
          0.6922955393397364,
          0.44671676755200607,
          0.20623161274390878,
          0.7950234030767607,
          0.09158151848464047,
          0.7402150155337445,
          0.9439766819186408,
          0.27504913366297123,
          0.22363598114010697,
          0.9029881576715304,
          0.13608853355236517,
          0.8747424842048145,
          0.11013924378586093,
          0.19182948135356725,
          0.7016629627171346,
          0.24849790983975306,
          0.7747748319967561
         ],
         "xaxis": "x4",
         "y": [
          0.522347272199525,
          0.36817438810491,
          0.0010112605725656199,
          0.9057807174375636,
          0.7384316849079128,
          0.1591551902131888,
          0.183934903423408,
          0.21028223913407484,
          0.5425235102718765,
          0.829885672257394,
          0.7519738973190104,
          0.44385066073449053,
          0.019331177627519902,
          0.5493141819077285,
          0.43307252891392767,
          0.9682569387990952,
          0.11384486841087482,
          0.1590031755729575,
          0.2169754925882097,
          0.5190633136071182,
          0.6609987922208981,
          0.7035280901951679,
          0.3382248559583705,
          0.21615833703988963,
          0.3846361972132023,
          0.055377027460866035,
          0.5234708831540881,
          0.684563444434096,
          0.7089472904480765,
          0.613459906336003,
          0.024396710654762233,
          0.863173763520489,
          0.07096952088354769,
          0.2847928024195078,
          0.8333035039784051,
          0.21383937024242794,
          0.2758222933337888,
          0.7831230087068312,
          0.8516095108356362,
          0.7137903428534593,
          0.6330296758278816,
          0.06523375411443222,
          0.16252955476389142,
          0.3412202916179925,
          0.6962010444797161,
          0.8409563865781624,
          0.30669072720402835,
          0.3725501743663695,
          0.1946819498048723,
          0.17228845089530231,
          0.2568958156082274,
          0.1534823782996152,
          0.9486771411358706,
          0.25786083917786273,
          0.22917003023574523,
          0.5037887336139055,
          0.7901287685428313,
          0.6573510576728744,
          0.7684124144914483,
          0.014870731222623168,
          0.6715626271577866,
          0.010697629160978939,
          0.001866724770348549,
          0.19855030665887508,
          0.1746506780786472,
          0.40914788030905846,
          0.2777894983058271,
          0.4084550388889513,
          0.48623574463775054,
          0.6979433401930659,
          0.7989290510929793,
          0.7582910228703558,
          0.46838736729978614,
          0.057922779673538094,
          0.6559701305443183,
          0.12023603801724625,
          0.3382097627565869,
          0.86046125257498,
          0.5613916849013729,
          0.42542919093183773,
          0.3122730418753221,
          0.014989821263473702,
          0.4333077153710524,
          0.5004352265082898,
          0.05414301370623442,
          0.5717783526285637,
          0.8772586029905328,
          0.22266512257475657,
          0.5068896410400924,
          0.06552324721531144,
          0.5373357865127935,
          0.7467424313884923,
          0.9567202371927418,
          0.3964129865509076,
          0.31767853175412575,
          0.14119743542373886,
          0.6185496464600199,
          0.40141784167385464,
          0.2307858594556288,
          0.13704215385049778
         ],
         "yaxis": "y4"
        },
        {
         "line": {
          "color": "rgba(128, 128, 128, 1.0)",
          "dash": "solid",
          "shape": "linear",
          "width": 1.3
         },
         "marker": {
          "size": 2,
          "symbol": "circle"
         },
         "mode": "markers",
         "name": "B",
         "text": "",
         "type": "scatter",
         "x": [
          0.522347272199525,
          0.36817438810491,
          0.0010112605725656199,
          0.9057807174375636,
          0.7384316849079128,
          0.1591551902131888,
          0.183934903423408,
          0.21028223913407484,
          0.5425235102718765,
          0.829885672257394,
          0.7519738973190104,
          0.44385066073449053,
          0.019331177627519902,
          0.5493141819077285,
          0.43307252891392767,
          0.9682569387990952,
          0.11384486841087482,
          0.1590031755729575,
          0.2169754925882097,
          0.5190633136071182,
          0.6609987922208981,
          0.7035280901951679,
          0.3382248559583705,
          0.21615833703988963,
          0.3846361972132023,
          0.055377027460866035,
          0.5234708831540881,
          0.684563444434096,
          0.7089472904480765,
          0.613459906336003,
          0.024396710654762233,
          0.863173763520489,
          0.07096952088354769,
          0.2847928024195078,
          0.8333035039784051,
          0.21383937024242794,
          0.2758222933337888,
          0.7831230087068312,
          0.8516095108356362,
          0.7137903428534593,
          0.6330296758278816,
          0.06523375411443222,
          0.16252955476389142,
          0.3412202916179925,
          0.6962010444797161,
          0.8409563865781624,
          0.30669072720402835,
          0.3725501743663695,
          0.1946819498048723,
          0.17228845089530231,
          0.2568958156082274,
          0.1534823782996152,
          0.9486771411358706,
          0.25786083917786273,
          0.22917003023574523,
          0.5037887336139055,
          0.7901287685428313,
          0.6573510576728744,
          0.7684124144914483,
          0.014870731222623168,
          0.6715626271577866,
          0.010697629160978939,
          0.001866724770348549,
          0.19855030665887508,
          0.1746506780786472,
          0.40914788030905846,
          0.2777894983058271,
          0.4084550388889513,
          0.48623574463775054,
          0.6979433401930659,
          0.7989290510929793,
          0.7582910228703558,
          0.46838736729978614,
          0.057922779673538094,
          0.6559701305443183,
          0.12023603801724625,
          0.3382097627565869,
          0.86046125257498,
          0.5613916849013729,
          0.42542919093183773,
          0.3122730418753221,
          0.014989821263473702,
          0.4333077153710524,
          0.5004352265082898,
          0.05414301370623442,
          0.5717783526285637,
          0.8772586029905328,
          0.22266512257475657,
          0.5068896410400924,
          0.06552324721531144,
          0.5373357865127935,
          0.7467424313884923,
          0.9567202371927418,
          0.3964129865509076,
          0.31767853175412575,
          0.14119743542373886,
          0.6185496464600199,
          0.40141784167385464,
          0.2307858594556288,
          0.13704215385049778
         ],
         "xaxis": "x5",
         "y": [
          0.6223770751356761,
          0.3416445020886866,
          0.9971754580323123,
          0.9950524972421991,
          0.139706690041413,
          0.97337753397297,
          0.17019811188026457,
          0.13297246149589348,
          0.5112700763585448,
          0.5231345078299766,
          0.6401770475525225,
          0.8486728789085054,
          0.32960172011473265,
          0.5535922186753318,
          0.5979005822666698,
          0.9802069118862393,
          0.6935871528877221,
          0.6805848666048713,
          0.24598940851936357,
          0.4282626059838952,
          0.19127605696467853,
          0.6225268191350222,
          0.23320264078302066,
          0.48933844966190876,
          0.21942404016854,
          0.851209187484054,
          0.8077751381648538,
          0.4695841707826717,
          0.5260616156288477,
          0.6871504323636946,
          0.22725204415995914,
          0.7974082952586401,
          0.8741857461914679,
          0.3221236227529417,
          0.685973331967647,
          0.42063010160291725,
          0.007343915548235769,
          0.9092139571979199,
          0.024532211610490018,
          0.8274006503674203,
          0.4320308212969496,
          0.9480716795505977,
          0.5557150798236625,
          0.40842131707276563,
          0.4639352220958872,
          0.1449430807398373,
          0.3374661160817264,
          0.8766276775722553,
          0.7714800171519953,
          0.46581484015568697,
          0.9612034584567597,
          0.7520318786681476,
          0.4571010307621315,
          0.7886553394413793,
          0.5670803172017644,
          0.902855913290173,
          0.1946403073620262,
          0.9279093748297184,
          0.6488904817389123,
          0.78642792635236,
          0.092469853089296,
          0.14206876541118296,
          0.35209955641330803,
          0.3565475695518735,
          0.6190868391571726,
          0.9774504503283681,
          0.7475599926339814,
          0.812659821012732,
          0.08391659033449617,
          0.3594271806040815,
          0.09314230103499987,
          0.9929089666406649,
          0.5102785105053524,
          0.9325615962779351,
          0.5279940897747859,
          0.558417503387099,
          0.8471234593254293,
          0.8215181676643304,
          0.4694068589509176,
          0.07913988689432694,
          0.3516123599742621,
          0.8533595285215351,
          0.008119480528145484,
          0.646087726094201,
          0.14199480209371362,
          0.2699901803856761,
          0.7143113007959809,
          0.6206335350655173,
          0.7141016055659357,
          0.047068041441382436,
          0.9223009538279476,
          0.09446291161536402,
          0.9489886100218277,
          0.9750843802396616,
          0.9277824174042508,
          0.7605825286603557,
          0.4538473633176765,
          0.23516633808786724,
          0.9069438664199233,
          0.0635920025401463
         ],
         "yaxis": "y5"
        },
        {
         "histfunc": "count",
         "histnorm": "",
         "marker": {
          "color": "rgba(55, 128, 191, 1.0)",
          "line": {
           "color": "#4D5663",
           "width": 1.3
          }
         },
         "name": "B",
         "nbinsx": 10,
         "opacity": 0.8,
         "orientation": "v",
         "type": "histogram",
         "x": [
          0.6223770751356761,
          0.3416445020886866,
          0.9971754580323123,
          0.9950524972421991,
          0.139706690041413,
          0.97337753397297,
          0.17019811188026457,
          0.13297246149589348,
          0.5112700763585448,
          0.5231345078299766,
          0.6401770475525225,
          0.8486728789085054,
          0.32960172011473265,
          0.5535922186753318,
          0.5979005822666698,
          0.9802069118862393,
          0.6935871528877221,
          0.6805848666048713,
          0.24598940851936357,
          0.4282626059838952,
          0.19127605696467853,
          0.6225268191350222,
          0.23320264078302066,
          0.48933844966190876,
          0.21942404016854,
          0.851209187484054,
          0.8077751381648538,
          0.4695841707826717,
          0.5260616156288477,
          0.6871504323636946,
          0.22725204415995914,
          0.7974082952586401,
          0.8741857461914679,
          0.3221236227529417,
          0.685973331967647,
          0.42063010160291725,
          0.007343915548235769,
          0.9092139571979199,
          0.024532211610490018,
          0.8274006503674203,
          0.4320308212969496,
          0.9480716795505977,
          0.5557150798236625,
          0.40842131707276563,
          0.4639352220958872,
          0.1449430807398373,
          0.3374661160817264,
          0.8766276775722553,
          0.7714800171519953,
          0.46581484015568697,
          0.9612034584567597,
          0.7520318786681476,
          0.4571010307621315,
          0.7886553394413793,
          0.5670803172017644,
          0.902855913290173,
          0.1946403073620262,
          0.9279093748297184,
          0.6488904817389123,
          0.78642792635236,
          0.092469853089296,
          0.14206876541118296,
          0.35209955641330803,
          0.3565475695518735,
          0.6190868391571726,
          0.9774504503283681,
          0.7475599926339814,
          0.812659821012732,
          0.08391659033449617,
          0.3594271806040815,
          0.09314230103499987,
          0.9929089666406649,
          0.5102785105053524,
          0.9325615962779351,
          0.5279940897747859,
          0.558417503387099,
          0.8471234593254293,
          0.8215181676643304,
          0.4694068589509176,
          0.07913988689432694,
          0.3516123599742621,
          0.8533595285215351,
          0.008119480528145484,
          0.646087726094201,
          0.14199480209371362,
          0.2699901803856761,
          0.7143113007959809,
          0.6206335350655173,
          0.7141016055659357,
          0.047068041441382436,
          0.9223009538279476,
          0.09446291161536402,
          0.9489886100218277,
          0.9750843802396616,
          0.9277824174042508,
          0.7605825286603557,
          0.4538473633176765,
          0.23516633808786724,
          0.9069438664199233,
          0.0635920025401463
         ],
         "xaxis": "x6",
         "yaxis": "y6"
        },
        {
         "line": {
          "color": "rgba(128, 128, 128, 1.0)",
          "dash": "solid",
          "shape": "linear",
          "width": 1.3
         },
         "marker": {
          "size": 2,
          "symbol": "circle"
         },
         "mode": "markers",
         "name": "B",
         "text": "",
         "type": "scatter",
         "x": [
          0.09380503798031237,
          0.6526759758934895,
          0.16152349840004232,
          0.25885213526336925,
          0.6038155075983096,
          0.12444921150278254,
          0.4081905383651053,
          0.0856447682824103,
          0.8698656837212047,
          0.7864111638195007,
          0.7825385253280719,
          0.989285497141012,
          0.8095830227158207,
          0.7255092100202046,
          0.5185601147475711,
          0.7689513921723563,
          0.5028279886669335,
          0.7345196218534636,
          0.9744608590874142,
          0.4761370202173333,
          0.008861147125629354,
          0.5388443497493796,
          0.6656293463403312,
          0.008601059414690582,
          0.5135512515383084,
          0.9103780677202373,
          0.4587111186339282,
          0.8372043249635635,
          0.03244716148845039,
          0.7145399148286244,
          0.7799655808965369,
          0.9289674543083432,
          0.7256487173206256,
          0.9437703252058233,
          0.3627547895564347,
          0.8139754564874104,
          0.5132015501603648,
          0.8563123536504531,
          0.6921533327565024,
          0.7240783168468496,
          0.5013029903827229,
          0.1438874608714732,
          0.2295898338029112,
          0.800407192342202,
          0.5996586667602364,
          0.2958846247290571,
          0.20650797226437112,
          0.14061356476170384,
          0.5573955166969558,
          0.963371812387484,
          0.7846642684329815,
          0.3885837088073191,
          0.3199160673306567,
          0.6420635153603851,
          0.35263369966648694,
          0.40748220837865257,
          0.0897624917034805,
          0.5973844642681456,
          0.2131835121306419,
          0.2475350021599133,
          0.9297310288514424,
          0.946796227861677,
          0.3770217985171824,
          0.3783847547891783,
          0.9927075369507348,
          0.27891584456349794,
          0.2880976244887994,
          0.09065713586937318,
          0.3931040655132225,
          0.23669182347192008,
          0.15586718917599607,
          0.2279235750725791,
          0.8796690357075487,
          0.5187316084164268,
          0.4513832322497191,
          0.5540745783395014,
          0.04156052807916366,
          0.4443462601519005,
          0.692901822787496,
          0.2248325046412486,
          0.9919435185541612,
          0.4861547749772823,
          0.7754332776359236,
          0.6757577201573153,
          0.06931940716226204,
          0.28647258696927147,
          0.4415532672592548,
          0.7584892176037682,
          0.16823235607768705,
          0.6587938768913424,
          0.10044053786219476,
          0.08476376269583341,
          0.543827301225614,
          0.4154943916327881,
          0.6345508079492399,
          0.8164541159085817,
          0.10192921003882327,
          0.23598578798322323,
          0.2715593802185342,
          0.950036089672961
         ],
         "xaxis": "x7",
         "y": [
          0.6223770751356761,
          0.3416445020886866,
          0.9971754580323123,
          0.9950524972421991,
          0.139706690041413,
          0.97337753397297,
          0.17019811188026457,
          0.13297246149589348,
          0.5112700763585448,
          0.5231345078299766,
          0.6401770475525225,
          0.8486728789085054,
          0.32960172011473265,
          0.5535922186753318,
          0.5979005822666698,
          0.9802069118862393,
          0.6935871528877221,
          0.6805848666048713,
          0.24598940851936357,
          0.4282626059838952,
          0.19127605696467853,
          0.6225268191350222,
          0.23320264078302066,
          0.48933844966190876,
          0.21942404016854,
          0.851209187484054,
          0.8077751381648538,
          0.4695841707826717,
          0.5260616156288477,
          0.6871504323636946,
          0.22725204415995914,
          0.7974082952586401,
          0.8741857461914679,
          0.3221236227529417,
          0.685973331967647,
          0.42063010160291725,
          0.007343915548235769,
          0.9092139571979199,
          0.024532211610490018,
          0.8274006503674203,
          0.4320308212969496,
          0.9480716795505977,
          0.5557150798236625,
          0.40842131707276563,
          0.4639352220958872,
          0.1449430807398373,
          0.3374661160817264,
          0.8766276775722553,
          0.7714800171519953,
          0.46581484015568697,
          0.9612034584567597,
          0.7520318786681476,
          0.4571010307621315,
          0.7886553394413793,
          0.5670803172017644,
          0.902855913290173,
          0.1946403073620262,
          0.9279093748297184,
          0.6488904817389123,
          0.78642792635236,
          0.092469853089296,
          0.14206876541118296,
          0.35209955641330803,
          0.3565475695518735,
          0.6190868391571726,
          0.9774504503283681,
          0.7475599926339814,
          0.812659821012732,
          0.08391659033449617,
          0.3594271806040815,
          0.09314230103499987,
          0.9929089666406649,
          0.5102785105053524,
          0.9325615962779351,
          0.5279940897747859,
          0.558417503387099,
          0.8471234593254293,
          0.8215181676643304,
          0.4694068589509176,
          0.07913988689432694,
          0.3516123599742621,
          0.8533595285215351,
          0.008119480528145484,
          0.646087726094201,
          0.14199480209371362,
          0.2699901803856761,
          0.7143113007959809,
          0.6206335350655173,
          0.7141016055659357,
          0.047068041441382436,
          0.9223009538279476,
          0.09446291161536402,
          0.9489886100218277,
          0.9750843802396616,
          0.9277824174042508,
          0.7605825286603557,
          0.4538473633176765,
          0.23516633808786724,
          0.9069438664199233,
          0.0635920025401463
         ],
         "yaxis": "y7"
        },
        {
         "line": {
          "color": "rgba(128, 128, 128, 1.0)",
          "dash": "solid",
          "shape": "linear",
          "width": 1.3
         },
         "marker": {
          "size": 2,
          "symbol": "circle"
         },
         "mode": "markers",
         "name": "B",
         "text": "",
         "type": "scatter",
         "x": [
          0.9346393437613366,
          0.252958136991432,
          0.07003297375437512,
          0.3582840478916085,
          0.8840384570989815,
          0.42538620416837003,
          0.8422658213094364,
          0.9138359962782545,
          0.4911302729029282,
          0.34945035754671705,
          0.8812835967905034,
          0.6333305016978108,
          0.6347602581696066,
          0.7197170468368065,
          0.5788768069373421,
          0.2408013204640741,
          0.9879324626242971,
          0.5164122289856797,
          0.3818211226714455,
          0.9517789224117948,
          0.8835517907989451,
          0.22924111559361737,
          0.239131370914902,
          0.09876930995477295,
          0.9888995184554749,
          0.747606118899924,
          0.39286956582633614,
          0.6048409469693944,
          0.8620820320927773,
          0.35360465402161023,
          0.5602058479032207,
          0.680728677321006,
          0.02901077871292812,
          0.9035486638560817,
          0.14231539286055106,
          0.15553137825302832,
          0.793409548594289,
          0.5398433929523276,
          0.146464282195094,
          0.5703799874715035,
          0.8044355195012435,
          0.7039588028633254,
          0.17155165600787747,
          0.04757395148304666,
          0.4092880199511377,
          0.015824593994852587,
          0.6064288036517577,
          0.6072249260796262,
          0.03432881777771024,
          0.5343625427188801,
          0.851077082381364,
          0.9570804516946935,
          0.278266331225548,
          0.04805602451244784,
          0.5807689847525798,
          0.30492695492450483,
          0.7504567956856679,
          0.15821063989633388,
          0.44376728077255345,
          0.5051110350596844,
          0.6846816931403839,
          0.5861006841761461,
          0.10356669488190007,
          0.9759077922327591,
          0.11210276544417941,
          0.6573715883495088,
          0.6870133902678076,
          0.4296343693443144,
          0.5736519272716726,
          0.07873911028793468,
          0.08166145378763146,
          0.8090912545179954,
          0.8128174971281759,
          0.11240827128296138,
          0.6905433868515691,
          0.23378205774432048,
          0.005475311723259768,
          0.18289043528022209,
          0.9616911528717593,
          0.7782271907089138,
          0.5823571430675251,
          0.8436650443121044,
          0.24088043001728998,
          0.6922955393397364,
          0.44671676755200607,
          0.20623161274390878,
          0.7950234030767607,
          0.09158151848464047,
          0.7402150155337445,
          0.9439766819186408,
          0.27504913366297123,
          0.22363598114010697,
          0.9029881576715304,
          0.13608853355236517,
          0.8747424842048145,
          0.11013924378586093,
          0.19182948135356725,
          0.7016629627171346,
          0.24849790983975306,
          0.7747748319967561
         ],
         "xaxis": "x8",
         "y": [
          0.6223770751356761,
          0.3416445020886866,
          0.9971754580323123,
          0.9950524972421991,
          0.139706690041413,
          0.97337753397297,
          0.17019811188026457,
          0.13297246149589348,
          0.5112700763585448,
          0.5231345078299766,
          0.6401770475525225,
          0.8486728789085054,
          0.32960172011473265,
          0.5535922186753318,
          0.5979005822666698,
          0.9802069118862393,
          0.6935871528877221,
          0.6805848666048713,
          0.24598940851936357,
          0.4282626059838952,
          0.19127605696467853,
          0.6225268191350222,
          0.23320264078302066,
          0.48933844966190876,
          0.21942404016854,
          0.851209187484054,
          0.8077751381648538,
          0.4695841707826717,
          0.5260616156288477,
          0.6871504323636946,
          0.22725204415995914,
          0.7974082952586401,
          0.8741857461914679,
          0.3221236227529417,
          0.685973331967647,
          0.42063010160291725,
          0.007343915548235769,
          0.9092139571979199,
          0.024532211610490018,
          0.8274006503674203,
          0.4320308212969496,
          0.9480716795505977,
          0.5557150798236625,
          0.40842131707276563,
          0.4639352220958872,
          0.1449430807398373,
          0.3374661160817264,
          0.8766276775722553,
          0.7714800171519953,
          0.46581484015568697,
          0.9612034584567597,
          0.7520318786681476,
          0.4571010307621315,
          0.7886553394413793,
          0.5670803172017644,
          0.902855913290173,
          0.1946403073620262,
          0.9279093748297184,
          0.6488904817389123,
          0.78642792635236,
          0.092469853089296,
          0.14206876541118296,
          0.35209955641330803,
          0.3565475695518735,
          0.6190868391571726,
          0.9774504503283681,
          0.7475599926339814,
          0.812659821012732,
          0.08391659033449617,
          0.3594271806040815,
          0.09314230103499987,
          0.9929089666406649,
          0.5102785105053524,
          0.9325615962779351,
          0.5279940897747859,
          0.558417503387099,
          0.8471234593254293,
          0.8215181676643304,
          0.4694068589509176,
          0.07913988689432694,
          0.3516123599742621,
          0.8533595285215351,
          0.008119480528145484,
          0.646087726094201,
          0.14199480209371362,
          0.2699901803856761,
          0.7143113007959809,
          0.6206335350655173,
          0.7141016055659357,
          0.047068041441382436,
          0.9223009538279476,
          0.09446291161536402,
          0.9489886100218277,
          0.9750843802396616,
          0.9277824174042508,
          0.7605825286603557,
          0.4538473633176765,
          0.23516633808786724,
          0.9069438664199233,
          0.0635920025401463
         ],
         "yaxis": "y8"
        },
        {
         "line": {
          "color": "rgba(128, 128, 128, 1.0)",
          "dash": "solid",
          "shape": "linear",
          "width": 1.3
         },
         "marker": {
          "size": 2,
          "symbol": "circle"
         },
         "mode": "markers",
         "name": "C",
         "text": "",
         "type": "scatter",
         "x": [
          0.522347272199525,
          0.36817438810491,
          0.0010112605725656199,
          0.9057807174375636,
          0.7384316849079128,
          0.1591551902131888,
          0.183934903423408,
          0.21028223913407484,
          0.5425235102718765,
          0.829885672257394,
          0.7519738973190104,
          0.44385066073449053,
          0.019331177627519902,
          0.5493141819077285,
          0.43307252891392767,
          0.9682569387990952,
          0.11384486841087482,
          0.1590031755729575,
          0.2169754925882097,
          0.5190633136071182,
          0.6609987922208981,
          0.7035280901951679,
          0.3382248559583705,
          0.21615833703988963,
          0.3846361972132023,
          0.055377027460866035,
          0.5234708831540881,
          0.684563444434096,
          0.7089472904480765,
          0.613459906336003,
          0.024396710654762233,
          0.863173763520489,
          0.07096952088354769,
          0.2847928024195078,
          0.8333035039784051,
          0.21383937024242794,
          0.2758222933337888,
          0.7831230087068312,
          0.8516095108356362,
          0.7137903428534593,
          0.6330296758278816,
          0.06523375411443222,
          0.16252955476389142,
          0.3412202916179925,
          0.6962010444797161,
          0.8409563865781624,
          0.30669072720402835,
          0.3725501743663695,
          0.1946819498048723,
          0.17228845089530231,
          0.2568958156082274,
          0.1534823782996152,
          0.9486771411358706,
          0.25786083917786273,
          0.22917003023574523,
          0.5037887336139055,
          0.7901287685428313,
          0.6573510576728744,
          0.7684124144914483,
          0.014870731222623168,
          0.6715626271577866,
          0.010697629160978939,
          0.001866724770348549,
          0.19855030665887508,
          0.1746506780786472,
          0.40914788030905846,
          0.2777894983058271,
          0.4084550388889513,
          0.48623574463775054,
          0.6979433401930659,
          0.7989290510929793,
          0.7582910228703558,
          0.46838736729978614,
          0.057922779673538094,
          0.6559701305443183,
          0.12023603801724625,
          0.3382097627565869,
          0.86046125257498,
          0.5613916849013729,
          0.42542919093183773,
          0.3122730418753221,
          0.014989821263473702,
          0.4333077153710524,
          0.5004352265082898,
          0.05414301370623442,
          0.5717783526285637,
          0.8772586029905328,
          0.22266512257475657,
          0.5068896410400924,
          0.06552324721531144,
          0.5373357865127935,
          0.7467424313884923,
          0.9567202371927418,
          0.3964129865509076,
          0.31767853175412575,
          0.14119743542373886,
          0.6185496464600199,
          0.40141784167385464,
          0.2307858594556288,
          0.13704215385049778
         ],
         "xaxis": "x9",
         "y": [
          0.09380503798031237,
          0.6526759758934895,
          0.16152349840004232,
          0.25885213526336925,
          0.6038155075983096,
          0.12444921150278254,
          0.4081905383651053,
          0.0856447682824103,
          0.8698656837212047,
          0.7864111638195007,
          0.7825385253280719,
          0.989285497141012,
          0.8095830227158207,
          0.7255092100202046,
          0.5185601147475711,
          0.7689513921723563,
          0.5028279886669335,
          0.7345196218534636,
          0.9744608590874142,
          0.4761370202173333,
          0.008861147125629354,
          0.5388443497493796,
          0.6656293463403312,
          0.008601059414690582,
          0.5135512515383084,
          0.9103780677202373,
          0.4587111186339282,
          0.8372043249635635,
          0.03244716148845039,
          0.7145399148286244,
          0.7799655808965369,
          0.9289674543083432,
          0.7256487173206256,
          0.9437703252058233,
          0.3627547895564347,
          0.8139754564874104,
          0.5132015501603648,
          0.8563123536504531,
          0.6921533327565024,
          0.7240783168468496,
          0.5013029903827229,
          0.1438874608714732,
          0.2295898338029112,
          0.800407192342202,
          0.5996586667602364,
          0.2958846247290571,
          0.20650797226437112,
          0.14061356476170384,
          0.5573955166969558,
          0.963371812387484,
          0.7846642684329815,
          0.3885837088073191,
          0.3199160673306567,
          0.6420635153603851,
          0.35263369966648694,
          0.40748220837865257,
          0.0897624917034805,
          0.5973844642681456,
          0.2131835121306419,
          0.2475350021599133,
          0.9297310288514424,
          0.946796227861677,
          0.3770217985171824,
          0.3783847547891783,
          0.9927075369507348,
          0.27891584456349794,
          0.2880976244887994,
          0.09065713586937318,
          0.3931040655132225,
          0.23669182347192008,
          0.15586718917599607,
          0.2279235750725791,
          0.8796690357075487,
          0.5187316084164268,
          0.4513832322497191,
          0.5540745783395014,
          0.04156052807916366,
          0.4443462601519005,
          0.692901822787496,
          0.2248325046412486,
          0.9919435185541612,
          0.4861547749772823,
          0.7754332776359236,
          0.6757577201573153,
          0.06931940716226204,
          0.28647258696927147,
          0.4415532672592548,
          0.7584892176037682,
          0.16823235607768705,
          0.6587938768913424,
          0.10044053786219476,
          0.08476376269583341,
          0.543827301225614,
          0.4154943916327881,
          0.6345508079492399,
          0.8164541159085817,
          0.10192921003882327,
          0.23598578798322323,
          0.2715593802185342,
          0.950036089672961
         ],
         "yaxis": "y9"
        },
        {
         "line": {
          "color": "rgba(128, 128, 128, 1.0)",
          "dash": "solid",
          "shape": "linear",
          "width": 1.3
         },
         "marker": {
          "size": 2,
          "symbol": "circle"
         },
         "mode": "markers",
         "name": "C",
         "text": "",
         "type": "scatter",
         "x": [
          0.6223770751356761,
          0.3416445020886866,
          0.9971754580323123,
          0.9950524972421991,
          0.139706690041413,
          0.97337753397297,
          0.17019811188026457,
          0.13297246149589348,
          0.5112700763585448,
          0.5231345078299766,
          0.6401770475525225,
          0.8486728789085054,
          0.32960172011473265,
          0.5535922186753318,
          0.5979005822666698,
          0.9802069118862393,
          0.6935871528877221,
          0.6805848666048713,
          0.24598940851936357,
          0.4282626059838952,
          0.19127605696467853,
          0.6225268191350222,
          0.23320264078302066,
          0.48933844966190876,
          0.21942404016854,
          0.851209187484054,
          0.8077751381648538,
          0.4695841707826717,
          0.5260616156288477,
          0.6871504323636946,
          0.22725204415995914,
          0.7974082952586401,
          0.8741857461914679,
          0.3221236227529417,
          0.685973331967647,
          0.42063010160291725,
          0.007343915548235769,
          0.9092139571979199,
          0.024532211610490018,
          0.8274006503674203,
          0.4320308212969496,
          0.9480716795505977,
          0.5557150798236625,
          0.40842131707276563,
          0.4639352220958872,
          0.1449430807398373,
          0.3374661160817264,
          0.8766276775722553,
          0.7714800171519953,
          0.46581484015568697,
          0.9612034584567597,
          0.7520318786681476,
          0.4571010307621315,
          0.7886553394413793,
          0.5670803172017644,
          0.902855913290173,
          0.1946403073620262,
          0.9279093748297184,
          0.6488904817389123,
          0.78642792635236,
          0.092469853089296,
          0.14206876541118296,
          0.35209955641330803,
          0.3565475695518735,
          0.6190868391571726,
          0.9774504503283681,
          0.7475599926339814,
          0.812659821012732,
          0.08391659033449617,
          0.3594271806040815,
          0.09314230103499987,
          0.9929089666406649,
          0.5102785105053524,
          0.9325615962779351,
          0.5279940897747859,
          0.558417503387099,
          0.8471234593254293,
          0.8215181676643304,
          0.4694068589509176,
          0.07913988689432694,
          0.3516123599742621,
          0.8533595285215351,
          0.008119480528145484,
          0.646087726094201,
          0.14199480209371362,
          0.2699901803856761,
          0.7143113007959809,
          0.6206335350655173,
          0.7141016055659357,
          0.047068041441382436,
          0.9223009538279476,
          0.09446291161536402,
          0.9489886100218277,
          0.9750843802396616,
          0.9277824174042508,
          0.7605825286603557,
          0.4538473633176765,
          0.23516633808786724,
          0.9069438664199233,
          0.0635920025401463
         ],
         "xaxis": "x10",
         "y": [
          0.09380503798031237,
          0.6526759758934895,
          0.16152349840004232,
          0.25885213526336925,
          0.6038155075983096,
          0.12444921150278254,
          0.4081905383651053,
          0.0856447682824103,
          0.8698656837212047,
          0.7864111638195007,
          0.7825385253280719,
          0.989285497141012,
          0.8095830227158207,
          0.7255092100202046,
          0.5185601147475711,
          0.7689513921723563,
          0.5028279886669335,
          0.7345196218534636,
          0.9744608590874142,
          0.4761370202173333,
          0.008861147125629354,
          0.5388443497493796,
          0.6656293463403312,
          0.008601059414690582,
          0.5135512515383084,
          0.9103780677202373,
          0.4587111186339282,
          0.8372043249635635,
          0.03244716148845039,
          0.7145399148286244,
          0.7799655808965369,
          0.9289674543083432,
          0.7256487173206256,
          0.9437703252058233,
          0.3627547895564347,
          0.8139754564874104,
          0.5132015501603648,
          0.8563123536504531,
          0.6921533327565024,
          0.7240783168468496,
          0.5013029903827229,
          0.1438874608714732,
          0.2295898338029112,
          0.800407192342202,
          0.5996586667602364,
          0.2958846247290571,
          0.20650797226437112,
          0.14061356476170384,
          0.5573955166969558,
          0.963371812387484,
          0.7846642684329815,
          0.3885837088073191,
          0.3199160673306567,
          0.6420635153603851,
          0.35263369966648694,
          0.40748220837865257,
          0.0897624917034805,
          0.5973844642681456,
          0.2131835121306419,
          0.2475350021599133,
          0.9297310288514424,
          0.946796227861677,
          0.3770217985171824,
          0.3783847547891783,
          0.9927075369507348,
          0.27891584456349794,
          0.2880976244887994,
          0.09065713586937318,
          0.3931040655132225,
          0.23669182347192008,
          0.15586718917599607,
          0.2279235750725791,
          0.8796690357075487,
          0.5187316084164268,
          0.4513832322497191,
          0.5540745783395014,
          0.04156052807916366,
          0.4443462601519005,
          0.692901822787496,
          0.2248325046412486,
          0.9919435185541612,
          0.4861547749772823,
          0.7754332776359236,
          0.6757577201573153,
          0.06931940716226204,
          0.28647258696927147,
          0.4415532672592548,
          0.7584892176037682,
          0.16823235607768705,
          0.6587938768913424,
          0.10044053786219476,
          0.08476376269583341,
          0.543827301225614,
          0.4154943916327881,
          0.6345508079492399,
          0.8164541159085817,
          0.10192921003882327,
          0.23598578798322323,
          0.2715593802185342,
          0.950036089672961
         ],
         "yaxis": "y10"
        },
        {
         "histfunc": "count",
         "histnorm": "",
         "marker": {
          "color": "rgba(50, 171, 96, 1.0)",
          "line": {
           "color": "#4D5663",
           "width": 1.3
          }
         },
         "name": "C",
         "nbinsx": 10,
         "opacity": 0.8,
         "orientation": "v",
         "type": "histogram",
         "x": [
          0.09380503798031237,
          0.6526759758934895,
          0.16152349840004232,
          0.25885213526336925,
          0.6038155075983096,
          0.12444921150278254,
          0.4081905383651053,
          0.0856447682824103,
          0.8698656837212047,
          0.7864111638195007,
          0.7825385253280719,
          0.989285497141012,
          0.8095830227158207,
          0.7255092100202046,
          0.5185601147475711,
          0.7689513921723563,
          0.5028279886669335,
          0.7345196218534636,
          0.9744608590874142,
          0.4761370202173333,
          0.008861147125629354,
          0.5388443497493796,
          0.6656293463403312,
          0.008601059414690582,
          0.5135512515383084,
          0.9103780677202373,
          0.4587111186339282,
          0.8372043249635635,
          0.03244716148845039,
          0.7145399148286244,
          0.7799655808965369,
          0.9289674543083432,
          0.7256487173206256,
          0.9437703252058233,
          0.3627547895564347,
          0.8139754564874104,
          0.5132015501603648,
          0.8563123536504531,
          0.6921533327565024,
          0.7240783168468496,
          0.5013029903827229,
          0.1438874608714732,
          0.2295898338029112,
          0.800407192342202,
          0.5996586667602364,
          0.2958846247290571,
          0.20650797226437112,
          0.14061356476170384,
          0.5573955166969558,
          0.963371812387484,
          0.7846642684329815,
          0.3885837088073191,
          0.3199160673306567,
          0.6420635153603851,
          0.35263369966648694,
          0.40748220837865257,
          0.0897624917034805,
          0.5973844642681456,
          0.2131835121306419,
          0.2475350021599133,
          0.9297310288514424,
          0.946796227861677,
          0.3770217985171824,
          0.3783847547891783,
          0.9927075369507348,
          0.27891584456349794,
          0.2880976244887994,
          0.09065713586937318,
          0.3931040655132225,
          0.23669182347192008,
          0.15586718917599607,
          0.2279235750725791,
          0.8796690357075487,
          0.5187316084164268,
          0.4513832322497191,
          0.5540745783395014,
          0.04156052807916366,
          0.4443462601519005,
          0.692901822787496,
          0.2248325046412486,
          0.9919435185541612,
          0.4861547749772823,
          0.7754332776359236,
          0.6757577201573153,
          0.06931940716226204,
          0.28647258696927147,
          0.4415532672592548,
          0.7584892176037682,
          0.16823235607768705,
          0.6587938768913424,
          0.10044053786219476,
          0.08476376269583341,
          0.543827301225614,
          0.4154943916327881,
          0.6345508079492399,
          0.8164541159085817,
          0.10192921003882327,
          0.23598578798322323,
          0.2715593802185342,
          0.950036089672961
         ],
         "xaxis": "x11",
         "yaxis": "y11"
        },
        {
         "line": {
          "color": "rgba(128, 128, 128, 1.0)",
          "dash": "solid",
          "shape": "linear",
          "width": 1.3
         },
         "marker": {
          "size": 2,
          "symbol": "circle"
         },
         "mode": "markers",
         "name": "C",
         "text": "",
         "type": "scatter",
         "x": [
          0.9346393437613366,
          0.252958136991432,
          0.07003297375437512,
          0.3582840478916085,
          0.8840384570989815,
          0.42538620416837003,
          0.8422658213094364,
          0.9138359962782545,
          0.4911302729029282,
          0.34945035754671705,
          0.8812835967905034,
          0.6333305016978108,
          0.6347602581696066,
          0.7197170468368065,
          0.5788768069373421,
          0.2408013204640741,
          0.9879324626242971,
          0.5164122289856797,
          0.3818211226714455,
          0.9517789224117948,
          0.8835517907989451,
          0.22924111559361737,
          0.239131370914902,
          0.09876930995477295,
          0.9888995184554749,
          0.747606118899924,
          0.39286956582633614,
          0.6048409469693944,
          0.8620820320927773,
          0.35360465402161023,
          0.5602058479032207,
          0.680728677321006,
          0.02901077871292812,
          0.9035486638560817,
          0.14231539286055106,
          0.15553137825302832,
          0.793409548594289,
          0.5398433929523276,
          0.146464282195094,
          0.5703799874715035,
          0.8044355195012435,
          0.7039588028633254,
          0.17155165600787747,
          0.04757395148304666,
          0.4092880199511377,
          0.015824593994852587,
          0.6064288036517577,
          0.6072249260796262,
          0.03432881777771024,
          0.5343625427188801,
          0.851077082381364,
          0.9570804516946935,
          0.278266331225548,
          0.04805602451244784,
          0.5807689847525798,
          0.30492695492450483,
          0.7504567956856679,
          0.15821063989633388,
          0.44376728077255345,
          0.5051110350596844,
          0.6846816931403839,
          0.5861006841761461,
          0.10356669488190007,
          0.9759077922327591,
          0.11210276544417941,
          0.6573715883495088,
          0.6870133902678076,
          0.4296343693443144,
          0.5736519272716726,
          0.07873911028793468,
          0.08166145378763146,
          0.8090912545179954,
          0.8128174971281759,
          0.11240827128296138,
          0.6905433868515691,
          0.23378205774432048,
          0.005475311723259768,
          0.18289043528022209,
          0.9616911528717593,
          0.7782271907089138,
          0.5823571430675251,
          0.8436650443121044,
          0.24088043001728998,
          0.6922955393397364,
          0.44671676755200607,
          0.20623161274390878,
          0.7950234030767607,
          0.09158151848464047,
          0.7402150155337445,
          0.9439766819186408,
          0.27504913366297123,
          0.22363598114010697,
          0.9029881576715304,
          0.13608853355236517,
          0.8747424842048145,
          0.11013924378586093,
          0.19182948135356725,
          0.7016629627171346,
          0.24849790983975306,
          0.7747748319967561
         ],
         "xaxis": "x12",
         "y": [
          0.09380503798031237,
          0.6526759758934895,
          0.16152349840004232,
          0.25885213526336925,
          0.6038155075983096,
          0.12444921150278254,
          0.4081905383651053,
          0.0856447682824103,
          0.8698656837212047,
          0.7864111638195007,
          0.7825385253280719,
          0.989285497141012,
          0.8095830227158207,
          0.7255092100202046,
          0.5185601147475711,
          0.7689513921723563,
          0.5028279886669335,
          0.7345196218534636,
          0.9744608590874142,
          0.4761370202173333,
          0.008861147125629354,
          0.5388443497493796,
          0.6656293463403312,
          0.008601059414690582,
          0.5135512515383084,
          0.9103780677202373,
          0.4587111186339282,
          0.8372043249635635,
          0.03244716148845039,
          0.7145399148286244,
          0.7799655808965369,
          0.9289674543083432,
          0.7256487173206256,
          0.9437703252058233,
          0.3627547895564347,
          0.8139754564874104,
          0.5132015501603648,
          0.8563123536504531,
          0.6921533327565024,
          0.7240783168468496,
          0.5013029903827229,
          0.1438874608714732,
          0.2295898338029112,
          0.800407192342202,
          0.5996586667602364,
          0.2958846247290571,
          0.20650797226437112,
          0.14061356476170384,
          0.5573955166969558,
          0.963371812387484,
          0.7846642684329815,
          0.3885837088073191,
          0.3199160673306567,
          0.6420635153603851,
          0.35263369966648694,
          0.40748220837865257,
          0.0897624917034805,
          0.5973844642681456,
          0.2131835121306419,
          0.2475350021599133,
          0.9297310288514424,
          0.946796227861677,
          0.3770217985171824,
          0.3783847547891783,
          0.9927075369507348,
          0.27891584456349794,
          0.2880976244887994,
          0.09065713586937318,
          0.3931040655132225,
          0.23669182347192008,
          0.15586718917599607,
          0.2279235750725791,
          0.8796690357075487,
          0.5187316084164268,
          0.4513832322497191,
          0.5540745783395014,
          0.04156052807916366,
          0.4443462601519005,
          0.692901822787496,
          0.2248325046412486,
          0.9919435185541612,
          0.4861547749772823,
          0.7754332776359236,
          0.6757577201573153,
          0.06931940716226204,
          0.28647258696927147,
          0.4415532672592548,
          0.7584892176037682,
          0.16823235607768705,
          0.6587938768913424,
          0.10044053786219476,
          0.08476376269583341,
          0.543827301225614,
          0.4154943916327881,
          0.6345508079492399,
          0.8164541159085817,
          0.10192921003882327,
          0.23598578798322323,
          0.2715593802185342,
          0.950036089672961
         ],
         "yaxis": "y12"
        },
        {
         "line": {
          "color": "rgba(128, 128, 128, 1.0)",
          "dash": "solid",
          "shape": "linear",
          "width": 1.3
         },
         "marker": {
          "size": 2,
          "symbol": "circle"
         },
         "mode": "markers",
         "name": "D",
         "text": "",
         "type": "scatter",
         "x": [
          0.522347272199525,
          0.36817438810491,
          0.0010112605725656199,
          0.9057807174375636,
          0.7384316849079128,
          0.1591551902131888,
          0.183934903423408,
          0.21028223913407484,
          0.5425235102718765,
          0.829885672257394,
          0.7519738973190104,
          0.44385066073449053,
          0.019331177627519902,
          0.5493141819077285,
          0.43307252891392767,
          0.9682569387990952,
          0.11384486841087482,
          0.1590031755729575,
          0.2169754925882097,
          0.5190633136071182,
          0.6609987922208981,
          0.7035280901951679,
          0.3382248559583705,
          0.21615833703988963,
          0.3846361972132023,
          0.055377027460866035,
          0.5234708831540881,
          0.684563444434096,
          0.7089472904480765,
          0.613459906336003,
          0.024396710654762233,
          0.863173763520489,
          0.07096952088354769,
          0.2847928024195078,
          0.8333035039784051,
          0.21383937024242794,
          0.2758222933337888,
          0.7831230087068312,
          0.8516095108356362,
          0.7137903428534593,
          0.6330296758278816,
          0.06523375411443222,
          0.16252955476389142,
          0.3412202916179925,
          0.6962010444797161,
          0.8409563865781624,
          0.30669072720402835,
          0.3725501743663695,
          0.1946819498048723,
          0.17228845089530231,
          0.2568958156082274,
          0.1534823782996152,
          0.9486771411358706,
          0.25786083917786273,
          0.22917003023574523,
          0.5037887336139055,
          0.7901287685428313,
          0.6573510576728744,
          0.7684124144914483,
          0.014870731222623168,
          0.6715626271577866,
          0.010697629160978939,
          0.001866724770348549,
          0.19855030665887508,
          0.1746506780786472,
          0.40914788030905846,
          0.2777894983058271,
          0.4084550388889513,
          0.48623574463775054,
          0.6979433401930659,
          0.7989290510929793,
          0.7582910228703558,
          0.46838736729978614,
          0.057922779673538094,
          0.6559701305443183,
          0.12023603801724625,
          0.3382097627565869,
          0.86046125257498,
          0.5613916849013729,
          0.42542919093183773,
          0.3122730418753221,
          0.014989821263473702,
          0.4333077153710524,
          0.5004352265082898,
          0.05414301370623442,
          0.5717783526285637,
          0.8772586029905328,
          0.22266512257475657,
          0.5068896410400924,
          0.06552324721531144,
          0.5373357865127935,
          0.7467424313884923,
          0.9567202371927418,
          0.3964129865509076,
          0.31767853175412575,
          0.14119743542373886,
          0.6185496464600199,
          0.40141784167385464,
          0.2307858594556288,
          0.13704215385049778
         ],
         "xaxis": "x13",
         "y": [
          0.9346393437613366,
          0.252958136991432,
          0.07003297375437512,
          0.3582840478916085,
          0.8840384570989815,
          0.42538620416837003,
          0.8422658213094364,
          0.9138359962782545,
          0.4911302729029282,
          0.34945035754671705,
          0.8812835967905034,
          0.6333305016978108,
          0.6347602581696066,
          0.7197170468368065,
          0.5788768069373421,
          0.2408013204640741,
          0.9879324626242971,
          0.5164122289856797,
          0.3818211226714455,
          0.9517789224117948,
          0.8835517907989451,
          0.22924111559361737,
          0.239131370914902,
          0.09876930995477295,
          0.9888995184554749,
          0.747606118899924,
          0.39286956582633614,
          0.6048409469693944,
          0.8620820320927773,
          0.35360465402161023,
          0.5602058479032207,
          0.680728677321006,
          0.02901077871292812,
          0.9035486638560817,
          0.14231539286055106,
          0.15553137825302832,
          0.793409548594289,
          0.5398433929523276,
          0.146464282195094,
          0.5703799874715035,
          0.8044355195012435,
          0.7039588028633254,
          0.17155165600787747,
          0.04757395148304666,
          0.4092880199511377,
          0.015824593994852587,
          0.6064288036517577,
          0.6072249260796262,
          0.03432881777771024,
          0.5343625427188801,
          0.851077082381364,
          0.9570804516946935,
          0.278266331225548,
          0.04805602451244784,
          0.5807689847525798,
          0.30492695492450483,
          0.7504567956856679,
          0.15821063989633388,
          0.44376728077255345,
          0.5051110350596844,
          0.6846816931403839,
          0.5861006841761461,
          0.10356669488190007,
          0.9759077922327591,
          0.11210276544417941,
          0.6573715883495088,
          0.6870133902678076,
          0.4296343693443144,
          0.5736519272716726,
          0.07873911028793468,
          0.08166145378763146,
          0.8090912545179954,
          0.8128174971281759,
          0.11240827128296138,
          0.6905433868515691,
          0.23378205774432048,
          0.005475311723259768,
          0.18289043528022209,
          0.9616911528717593,
          0.7782271907089138,
          0.5823571430675251,
          0.8436650443121044,
          0.24088043001728998,
          0.6922955393397364,
          0.44671676755200607,
          0.20623161274390878,
          0.7950234030767607,
          0.09158151848464047,
          0.7402150155337445,
          0.9439766819186408,
          0.27504913366297123,
          0.22363598114010697,
          0.9029881576715304,
          0.13608853355236517,
          0.8747424842048145,
          0.11013924378586093,
          0.19182948135356725,
          0.7016629627171346,
          0.24849790983975306,
          0.7747748319967561
         ],
         "yaxis": "y13"
        },
        {
         "line": {
          "color": "rgba(128, 128, 128, 1.0)",
          "dash": "solid",
          "shape": "linear",
          "width": 1.3
         },
         "marker": {
          "size": 2,
          "symbol": "circle"
         },
         "mode": "markers",
         "name": "D",
         "text": "",
         "type": "scatter",
         "x": [
          0.6223770751356761,
          0.3416445020886866,
          0.9971754580323123,
          0.9950524972421991,
          0.139706690041413,
          0.97337753397297,
          0.17019811188026457,
          0.13297246149589348,
          0.5112700763585448,
          0.5231345078299766,
          0.6401770475525225,
          0.8486728789085054,
          0.32960172011473265,
          0.5535922186753318,
          0.5979005822666698,
          0.9802069118862393,
          0.6935871528877221,
          0.6805848666048713,
          0.24598940851936357,
          0.4282626059838952,
          0.19127605696467853,
          0.6225268191350222,
          0.23320264078302066,
          0.48933844966190876,
          0.21942404016854,
          0.851209187484054,
          0.8077751381648538,
          0.4695841707826717,
          0.5260616156288477,
          0.6871504323636946,
          0.22725204415995914,
          0.7974082952586401,
          0.8741857461914679,
          0.3221236227529417,
          0.685973331967647,
          0.42063010160291725,
          0.007343915548235769,
          0.9092139571979199,
          0.024532211610490018,
          0.8274006503674203,
          0.4320308212969496,
          0.9480716795505977,
          0.5557150798236625,
          0.40842131707276563,
          0.4639352220958872,
          0.1449430807398373,
          0.3374661160817264,
          0.8766276775722553,
          0.7714800171519953,
          0.46581484015568697,
          0.9612034584567597,
          0.7520318786681476,
          0.4571010307621315,
          0.7886553394413793,
          0.5670803172017644,
          0.902855913290173,
          0.1946403073620262,
          0.9279093748297184,
          0.6488904817389123,
          0.78642792635236,
          0.092469853089296,
          0.14206876541118296,
          0.35209955641330803,
          0.3565475695518735,
          0.6190868391571726,
          0.9774504503283681,
          0.7475599926339814,
          0.812659821012732,
          0.08391659033449617,
          0.3594271806040815,
          0.09314230103499987,
          0.9929089666406649,
          0.5102785105053524,
          0.9325615962779351,
          0.5279940897747859,
          0.558417503387099,
          0.8471234593254293,
          0.8215181676643304,
          0.4694068589509176,
          0.07913988689432694,
          0.3516123599742621,
          0.8533595285215351,
          0.008119480528145484,
          0.646087726094201,
          0.14199480209371362,
          0.2699901803856761,
          0.7143113007959809,
          0.6206335350655173,
          0.7141016055659357,
          0.047068041441382436,
          0.9223009538279476,
          0.09446291161536402,
          0.9489886100218277,
          0.9750843802396616,
          0.9277824174042508,
          0.7605825286603557,
          0.4538473633176765,
          0.23516633808786724,
          0.9069438664199233,
          0.0635920025401463
         ],
         "xaxis": "x14",
         "y": [
          0.9346393437613366,
          0.252958136991432,
          0.07003297375437512,
          0.3582840478916085,
          0.8840384570989815,
          0.42538620416837003,
          0.8422658213094364,
          0.9138359962782545,
          0.4911302729029282,
          0.34945035754671705,
          0.8812835967905034,
          0.6333305016978108,
          0.6347602581696066,
          0.7197170468368065,
          0.5788768069373421,
          0.2408013204640741,
          0.9879324626242971,
          0.5164122289856797,
          0.3818211226714455,
          0.9517789224117948,
          0.8835517907989451,
          0.22924111559361737,
          0.239131370914902,
          0.09876930995477295,
          0.9888995184554749,
          0.747606118899924,
          0.39286956582633614,
          0.6048409469693944,
          0.8620820320927773,
          0.35360465402161023,
          0.5602058479032207,
          0.680728677321006,
          0.02901077871292812,
          0.9035486638560817,
          0.14231539286055106,
          0.15553137825302832,
          0.793409548594289,
          0.5398433929523276,
          0.146464282195094,
          0.5703799874715035,
          0.8044355195012435,
          0.7039588028633254,
          0.17155165600787747,
          0.04757395148304666,
          0.4092880199511377,
          0.015824593994852587,
          0.6064288036517577,
          0.6072249260796262,
          0.03432881777771024,
          0.5343625427188801,
          0.851077082381364,
          0.9570804516946935,
          0.278266331225548,
          0.04805602451244784,
          0.5807689847525798,
          0.30492695492450483,
          0.7504567956856679,
          0.15821063989633388,
          0.44376728077255345,
          0.5051110350596844,
          0.6846816931403839,
          0.5861006841761461,
          0.10356669488190007,
          0.9759077922327591,
          0.11210276544417941,
          0.6573715883495088,
          0.6870133902678076,
          0.4296343693443144,
          0.5736519272716726,
          0.07873911028793468,
          0.08166145378763146,
          0.8090912545179954,
          0.8128174971281759,
          0.11240827128296138,
          0.6905433868515691,
          0.23378205774432048,
          0.005475311723259768,
          0.18289043528022209,
          0.9616911528717593,
          0.7782271907089138,
          0.5823571430675251,
          0.8436650443121044,
          0.24088043001728998,
          0.6922955393397364,
          0.44671676755200607,
          0.20623161274390878,
          0.7950234030767607,
          0.09158151848464047,
          0.7402150155337445,
          0.9439766819186408,
          0.27504913366297123,
          0.22363598114010697,
          0.9029881576715304,
          0.13608853355236517,
          0.8747424842048145,
          0.11013924378586093,
          0.19182948135356725,
          0.7016629627171346,
          0.24849790983975306,
          0.7747748319967561
         ],
         "yaxis": "y14"
        },
        {
         "line": {
          "color": "rgba(128, 128, 128, 1.0)",
          "dash": "solid",
          "shape": "linear",
          "width": 1.3
         },
         "marker": {
          "size": 2,
          "symbol": "circle"
         },
         "mode": "markers",
         "name": "D",
         "text": "",
         "type": "scatter",
         "x": [
          0.09380503798031237,
          0.6526759758934895,
          0.16152349840004232,
          0.25885213526336925,
          0.6038155075983096,
          0.12444921150278254,
          0.4081905383651053,
          0.0856447682824103,
          0.8698656837212047,
          0.7864111638195007,
          0.7825385253280719,
          0.989285497141012,
          0.8095830227158207,
          0.7255092100202046,
          0.5185601147475711,
          0.7689513921723563,
          0.5028279886669335,
          0.7345196218534636,
          0.9744608590874142,
          0.4761370202173333,
          0.008861147125629354,
          0.5388443497493796,
          0.6656293463403312,
          0.008601059414690582,
          0.5135512515383084,
          0.9103780677202373,
          0.4587111186339282,
          0.8372043249635635,
          0.03244716148845039,
          0.7145399148286244,
          0.7799655808965369,
          0.9289674543083432,
          0.7256487173206256,
          0.9437703252058233,
          0.3627547895564347,
          0.8139754564874104,
          0.5132015501603648,
          0.8563123536504531,
          0.6921533327565024,
          0.7240783168468496,
          0.5013029903827229,
          0.1438874608714732,
          0.2295898338029112,
          0.800407192342202,
          0.5996586667602364,
          0.2958846247290571,
          0.20650797226437112,
          0.14061356476170384,
          0.5573955166969558,
          0.963371812387484,
          0.7846642684329815,
          0.3885837088073191,
          0.3199160673306567,
          0.6420635153603851,
          0.35263369966648694,
          0.40748220837865257,
          0.0897624917034805,
          0.5973844642681456,
          0.2131835121306419,
          0.2475350021599133,
          0.9297310288514424,
          0.946796227861677,
          0.3770217985171824,
          0.3783847547891783,
          0.9927075369507348,
          0.27891584456349794,
          0.2880976244887994,
          0.09065713586937318,
          0.3931040655132225,
          0.23669182347192008,
          0.15586718917599607,
          0.2279235750725791,
          0.8796690357075487,
          0.5187316084164268,
          0.4513832322497191,
          0.5540745783395014,
          0.04156052807916366,
          0.4443462601519005,
          0.692901822787496,
          0.2248325046412486,
          0.9919435185541612,
          0.4861547749772823,
          0.7754332776359236,
          0.6757577201573153,
          0.06931940716226204,
          0.28647258696927147,
          0.4415532672592548,
          0.7584892176037682,
          0.16823235607768705,
          0.6587938768913424,
          0.10044053786219476,
          0.08476376269583341,
          0.543827301225614,
          0.4154943916327881,
          0.6345508079492399,
          0.8164541159085817,
          0.10192921003882327,
          0.23598578798322323,
          0.2715593802185342,
          0.950036089672961
         ],
         "xaxis": "x15",
         "y": [
          0.9346393437613366,
          0.252958136991432,
          0.07003297375437512,
          0.3582840478916085,
          0.8840384570989815,
          0.42538620416837003,
          0.8422658213094364,
          0.9138359962782545,
          0.4911302729029282,
          0.34945035754671705,
          0.8812835967905034,
          0.6333305016978108,
          0.6347602581696066,
          0.7197170468368065,
          0.5788768069373421,
          0.2408013204640741,
          0.9879324626242971,
          0.5164122289856797,
          0.3818211226714455,
          0.9517789224117948,
          0.8835517907989451,
          0.22924111559361737,
          0.239131370914902,
          0.09876930995477295,
          0.9888995184554749,
          0.747606118899924,
          0.39286956582633614,
          0.6048409469693944,
          0.8620820320927773,
          0.35360465402161023,
          0.5602058479032207,
          0.680728677321006,
          0.02901077871292812,
          0.9035486638560817,
          0.14231539286055106,
          0.15553137825302832,
          0.793409548594289,
          0.5398433929523276,
          0.146464282195094,
          0.5703799874715035,
          0.8044355195012435,
          0.7039588028633254,
          0.17155165600787747,
          0.04757395148304666,
          0.4092880199511377,
          0.015824593994852587,
          0.6064288036517577,
          0.6072249260796262,
          0.03432881777771024,
          0.5343625427188801,
          0.851077082381364,
          0.9570804516946935,
          0.278266331225548,
          0.04805602451244784,
          0.5807689847525798,
          0.30492695492450483,
          0.7504567956856679,
          0.15821063989633388,
          0.44376728077255345,
          0.5051110350596844,
          0.6846816931403839,
          0.5861006841761461,
          0.10356669488190007,
          0.9759077922327591,
          0.11210276544417941,
          0.6573715883495088,
          0.6870133902678076,
          0.4296343693443144,
          0.5736519272716726,
          0.07873911028793468,
          0.08166145378763146,
          0.8090912545179954,
          0.8128174971281759,
          0.11240827128296138,
          0.6905433868515691,
          0.23378205774432048,
          0.005475311723259768,
          0.18289043528022209,
          0.9616911528717593,
          0.7782271907089138,
          0.5823571430675251,
          0.8436650443121044,
          0.24088043001728998,
          0.6922955393397364,
          0.44671676755200607,
          0.20623161274390878,
          0.7950234030767607,
          0.09158151848464047,
          0.7402150155337445,
          0.9439766819186408,
          0.27504913366297123,
          0.22363598114010697,
          0.9029881576715304,
          0.13608853355236517,
          0.8747424842048145,
          0.11013924378586093,
          0.19182948135356725,
          0.7016629627171346,
          0.24849790983975306,
          0.7747748319967561
         ],
         "yaxis": "y15"
        },
        {
         "histfunc": "count",
         "histnorm": "",
         "marker": {
          "color": "rgba(128, 0, 128, 1.0)",
          "line": {
           "color": "#4D5663",
           "width": 1.3
          }
         },
         "name": "D",
         "nbinsx": 10,
         "opacity": 0.8,
         "orientation": "v",
         "type": "histogram",
         "x": [
          0.9346393437613366,
          0.252958136991432,
          0.07003297375437512,
          0.3582840478916085,
          0.8840384570989815,
          0.42538620416837003,
          0.8422658213094364,
          0.9138359962782545,
          0.4911302729029282,
          0.34945035754671705,
          0.8812835967905034,
          0.6333305016978108,
          0.6347602581696066,
          0.7197170468368065,
          0.5788768069373421,
          0.2408013204640741,
          0.9879324626242971,
          0.5164122289856797,
          0.3818211226714455,
          0.9517789224117948,
          0.8835517907989451,
          0.22924111559361737,
          0.239131370914902,
          0.09876930995477295,
          0.9888995184554749,
          0.747606118899924,
          0.39286956582633614,
          0.6048409469693944,
          0.8620820320927773,
          0.35360465402161023,
          0.5602058479032207,
          0.680728677321006,
          0.02901077871292812,
          0.9035486638560817,
          0.14231539286055106,
          0.15553137825302832,
          0.793409548594289,
          0.5398433929523276,
          0.146464282195094,
          0.5703799874715035,
          0.8044355195012435,
          0.7039588028633254,
          0.17155165600787747,
          0.04757395148304666,
          0.4092880199511377,
          0.015824593994852587,
          0.6064288036517577,
          0.6072249260796262,
          0.03432881777771024,
          0.5343625427188801,
          0.851077082381364,
          0.9570804516946935,
          0.278266331225548,
          0.04805602451244784,
          0.5807689847525798,
          0.30492695492450483,
          0.7504567956856679,
          0.15821063989633388,
          0.44376728077255345,
          0.5051110350596844,
          0.6846816931403839,
          0.5861006841761461,
          0.10356669488190007,
          0.9759077922327591,
          0.11210276544417941,
          0.6573715883495088,
          0.6870133902678076,
          0.4296343693443144,
          0.5736519272716726,
          0.07873911028793468,
          0.08166145378763146,
          0.8090912545179954,
          0.8128174971281759,
          0.11240827128296138,
          0.6905433868515691,
          0.23378205774432048,
          0.005475311723259768,
          0.18289043528022209,
          0.9616911528717593,
          0.7782271907089138,
          0.5823571430675251,
          0.8436650443121044,
          0.24088043001728998,
          0.6922955393397364,
          0.44671676755200607,
          0.20623161274390878,
          0.7950234030767607,
          0.09158151848464047,
          0.7402150155337445,
          0.9439766819186408,
          0.27504913366297123,
          0.22363598114010697,
          0.9029881576715304,
          0.13608853355236517,
          0.8747424842048145,
          0.11013924378586093,
          0.19182948135356725,
          0.7016629627171346,
          0.24849790983975306,
          0.7747748319967561
         ],
         "xaxis": "x16",
         "yaxis": "y16"
        }
       ],
       "layout": {
        "bargap": 0.02,
        "legend": {
         "bgcolor": "#F5F6F9",
         "font": {
          "color": "#4D5663"
         }
        },
        "paper_bgcolor": "#F5F6F9",
        "plot_bgcolor": "#F5F6F9",
        "showlegend": false,
        "template": {
         "data": {
          "bar": [
           {
            "error_x": {
             "color": "#2a3f5f"
            },
            "error_y": {
             "color": "#2a3f5f"
            },
            "marker": {
             "line": {
              "color": "#E5ECF6",
              "width": 0.5
             }
            },
            "type": "bar"
           }
          ],
          "barpolar": [
           {
            "marker": {
             "line": {
              "color": "#E5ECF6",
              "width": 0.5
             }
            },
            "type": "barpolar"
           }
          ],
          "carpet": [
           {
            "aaxis": {
             "endlinecolor": "#2a3f5f",
             "gridcolor": "white",
             "linecolor": "white",
             "minorgridcolor": "white",
             "startlinecolor": "#2a3f5f"
            },
            "baxis": {
             "endlinecolor": "#2a3f5f",
             "gridcolor": "white",
             "linecolor": "white",
             "minorgridcolor": "white",
             "startlinecolor": "#2a3f5f"
            },
            "type": "carpet"
           }
          ],
          "choropleth": [
           {
            "colorbar": {
             "outlinewidth": 0,
             "ticks": ""
            },
            "type": "choropleth"
           }
          ],
          "contour": [
           {
            "colorbar": {
             "outlinewidth": 0,
             "ticks": ""
            },
            "colorscale": [
             [
              0,
              "#0d0887"
             ],
             [
              0.1111111111111111,
              "#46039f"
             ],
             [
              0.2222222222222222,
              "#7201a8"
             ],
             [
              0.3333333333333333,
              "#9c179e"
             ],
             [
              0.4444444444444444,
              "#bd3786"
             ],
             [
              0.5555555555555556,
              "#d8576b"
             ],
             [
              0.6666666666666666,
              "#ed7953"
             ],
             [
              0.7777777777777778,
              "#fb9f3a"
             ],
             [
              0.8888888888888888,
              "#fdca26"
             ],
             [
              1,
              "#f0f921"
             ]
            ],
            "type": "contour"
           }
          ],
          "contourcarpet": [
           {
            "colorbar": {
             "outlinewidth": 0,
             "ticks": ""
            },
            "type": "contourcarpet"
           }
          ],
          "heatmap": [
           {
            "colorbar": {
             "outlinewidth": 0,
             "ticks": ""
            },
            "colorscale": [
             [
              0,
              "#0d0887"
             ],
             [
              0.1111111111111111,
              "#46039f"
             ],
             [
              0.2222222222222222,
              "#7201a8"
             ],
             [
              0.3333333333333333,
              "#9c179e"
             ],
             [
              0.4444444444444444,
              "#bd3786"
             ],
             [
              0.5555555555555556,
              "#d8576b"
             ],
             [
              0.6666666666666666,
              "#ed7953"
             ],
             [
              0.7777777777777778,
              "#fb9f3a"
             ],
             [
              0.8888888888888888,
              "#fdca26"
             ],
             [
              1,
              "#f0f921"
             ]
            ],
            "type": "heatmap"
           }
          ],
          "heatmapgl": [
           {
            "colorbar": {
             "outlinewidth": 0,
             "ticks": ""
            },
            "colorscale": [
             [
              0,
              "#0d0887"
             ],
             [
              0.1111111111111111,
              "#46039f"
             ],
             [
              0.2222222222222222,
              "#7201a8"
             ],
             [
              0.3333333333333333,
              "#9c179e"
             ],
             [
              0.4444444444444444,
              "#bd3786"
             ],
             [
              0.5555555555555556,
              "#d8576b"
             ],
             [
              0.6666666666666666,
              "#ed7953"
             ],
             [
              0.7777777777777778,
              "#fb9f3a"
             ],
             [
              0.8888888888888888,
              "#fdca26"
             ],
             [
              1,
              "#f0f921"
             ]
            ],
            "type": "heatmapgl"
           }
          ],
          "histogram": [
           {
            "marker": {
             "colorbar": {
              "outlinewidth": 0,
              "ticks": ""
             }
            },
            "type": "histogram"
           }
          ],
          "histogram2d": [
           {
            "colorbar": {
             "outlinewidth": 0,
             "ticks": ""
            },
            "colorscale": [
             [
              0,
              "#0d0887"
             ],
             [
              0.1111111111111111,
              "#46039f"
             ],
             [
              0.2222222222222222,
              "#7201a8"
             ],
             [
              0.3333333333333333,
              "#9c179e"
             ],
             [
              0.4444444444444444,
              "#bd3786"
             ],
             [
              0.5555555555555556,
              "#d8576b"
             ],
             [
              0.6666666666666666,
              "#ed7953"
             ],
             [
              0.7777777777777778,
              "#fb9f3a"
             ],
             [
              0.8888888888888888,
              "#fdca26"
             ],
             [
              1,
              "#f0f921"
             ]
            ],
            "type": "histogram2d"
           }
          ],
          "histogram2dcontour": [
           {
            "colorbar": {
             "outlinewidth": 0,
             "ticks": ""
            },
            "colorscale": [
             [
              0,
              "#0d0887"
             ],
             [
              0.1111111111111111,
              "#46039f"
             ],
             [
              0.2222222222222222,
              "#7201a8"
             ],
             [
              0.3333333333333333,
              "#9c179e"
             ],
             [
              0.4444444444444444,
              "#bd3786"
             ],
             [
              0.5555555555555556,
              "#d8576b"
             ],
             [
              0.6666666666666666,
              "#ed7953"
             ],
             [
              0.7777777777777778,
              "#fb9f3a"
             ],
             [
              0.8888888888888888,
              "#fdca26"
             ],
             [
              1,
              "#f0f921"
             ]
            ],
            "type": "histogram2dcontour"
           }
          ],
          "mesh3d": [
           {
            "colorbar": {
             "outlinewidth": 0,
             "ticks": ""
            },
            "type": "mesh3d"
           }
          ],
          "parcoords": [
           {
            "line": {
             "colorbar": {
              "outlinewidth": 0,
              "ticks": ""
             }
            },
            "type": "parcoords"
           }
          ],
          "pie": [
           {
            "automargin": true,
            "type": "pie"
           }
          ],
          "scatter": [
           {
            "marker": {
             "colorbar": {
              "outlinewidth": 0,
              "ticks": ""
             }
            },
            "type": "scatter"
           }
          ],
          "scatter3d": [
           {
            "line": {
             "colorbar": {
              "outlinewidth": 0,
              "ticks": ""
             }
            },
            "marker": {
             "colorbar": {
              "outlinewidth": 0,
              "ticks": ""
             }
            },
            "type": "scatter3d"
           }
          ],
          "scattercarpet": [
           {
            "marker": {
             "colorbar": {
              "outlinewidth": 0,
              "ticks": ""
             }
            },
            "type": "scattercarpet"
           }
          ],
          "scattergeo": [
           {
            "marker": {
             "colorbar": {
              "outlinewidth": 0,
              "ticks": ""
             }
            },
            "type": "scattergeo"
           }
          ],
          "scattergl": [
           {
            "marker": {
             "colorbar": {
              "outlinewidth": 0,
              "ticks": ""
             }
            },
            "type": "scattergl"
           }
          ],
          "scattermapbox": [
           {
            "marker": {
             "colorbar": {
              "outlinewidth": 0,
              "ticks": ""
             }
            },
            "type": "scattermapbox"
           }
          ],
          "scatterpolar": [
           {
            "marker": {
             "colorbar": {
              "outlinewidth": 0,
              "ticks": ""
             }
            },
            "type": "scatterpolar"
           }
          ],
          "scatterpolargl": [
           {
            "marker": {
             "colorbar": {
              "outlinewidth": 0,
              "ticks": ""
             }
            },
            "type": "scatterpolargl"
           }
          ],
          "scatterternary": [
           {
            "marker": {
             "colorbar": {
              "outlinewidth": 0,
              "ticks": ""
             }
            },
            "type": "scatterternary"
           }
          ],
          "surface": [
           {
            "colorbar": {
             "outlinewidth": 0,
             "ticks": ""
            },
            "colorscale": [
             [
              0,
              "#0d0887"
             ],
             [
              0.1111111111111111,
              "#46039f"
             ],
             [
              0.2222222222222222,
              "#7201a8"
             ],
             [
              0.3333333333333333,
              "#9c179e"
             ],
             [
              0.4444444444444444,
              "#bd3786"
             ],
             [
              0.5555555555555556,
              "#d8576b"
             ],
             [
              0.6666666666666666,
              "#ed7953"
             ],
             [
              0.7777777777777778,
              "#fb9f3a"
             ],
             [
              0.8888888888888888,
              "#fdca26"
             ],
             [
              1,
              "#f0f921"
             ]
            ],
            "type": "surface"
           }
          ],
          "table": [
           {
            "cells": {
             "fill": {
              "color": "#EBF0F8"
             },
             "line": {
              "color": "white"
             }
            },
            "header": {
             "fill": {
              "color": "#C8D4E3"
             },
             "line": {
              "color": "white"
             }
            },
            "type": "table"
           }
          ]
         },
         "layout": {
          "annotationdefaults": {
           "arrowcolor": "#2a3f5f",
           "arrowhead": 0,
           "arrowwidth": 1
          },
          "autotypenumbers": "strict",
          "coloraxis": {
           "colorbar": {
            "outlinewidth": 0,
            "ticks": ""
           }
          },
          "colorscale": {
           "diverging": [
            [
             0,
             "#8e0152"
            ],
            [
             0.1,
             "#c51b7d"
            ],
            [
             0.2,
             "#de77ae"
            ],
            [
             0.3,
             "#f1b6da"
            ],
            [
             0.4,
             "#fde0ef"
            ],
            [
             0.5,
             "#f7f7f7"
            ],
            [
             0.6,
             "#e6f5d0"
            ],
            [
             0.7,
             "#b8e186"
            ],
            [
             0.8,
             "#7fbc41"
            ],
            [
             0.9,
             "#4d9221"
            ],
            [
             1,
             "#276419"
            ]
           ],
           "sequential": [
            [
             0,
             "#0d0887"
            ],
            [
             0.1111111111111111,
             "#46039f"
            ],
            [
             0.2222222222222222,
             "#7201a8"
            ],
            [
             0.3333333333333333,
             "#9c179e"
            ],
            [
             0.4444444444444444,
             "#bd3786"
            ],
            [
             0.5555555555555556,
             "#d8576b"
            ],
            [
             0.6666666666666666,
             "#ed7953"
            ],
            [
             0.7777777777777778,
             "#fb9f3a"
            ],
            [
             0.8888888888888888,
             "#fdca26"
            ],
            [
             1,
             "#f0f921"
            ]
           ],
           "sequentialminus": [
            [
             0,
             "#0d0887"
            ],
            [
             0.1111111111111111,
             "#46039f"
            ],
            [
             0.2222222222222222,
             "#7201a8"
            ],
            [
             0.3333333333333333,
             "#9c179e"
            ],
            [
             0.4444444444444444,
             "#bd3786"
            ],
            [
             0.5555555555555556,
             "#d8576b"
            ],
            [
             0.6666666666666666,
             "#ed7953"
            ],
            [
             0.7777777777777778,
             "#fb9f3a"
            ],
            [
             0.8888888888888888,
             "#fdca26"
            ],
            [
             1,
             "#f0f921"
            ]
           ]
          },
          "colorway": [
           "#636efa",
           "#EF553B",
           "#00cc96",
           "#ab63fa",
           "#FFA15A",
           "#19d3f3",
           "#FF6692",
           "#B6E880",
           "#FF97FF",
           "#FECB52"
          ],
          "font": {
           "color": "#2a3f5f"
          },
          "geo": {
           "bgcolor": "white",
           "lakecolor": "white",
           "landcolor": "#E5ECF6",
           "showlakes": true,
           "showland": true,
           "subunitcolor": "white"
          },
          "hoverlabel": {
           "align": "left"
          },
          "hovermode": "closest",
          "mapbox": {
           "style": "light"
          },
          "paper_bgcolor": "white",
          "plot_bgcolor": "#E5ECF6",
          "polar": {
           "angularaxis": {
            "gridcolor": "white",
            "linecolor": "white",
            "ticks": ""
           },
           "bgcolor": "#E5ECF6",
           "radialaxis": {
            "gridcolor": "white",
            "linecolor": "white",
            "ticks": ""
           }
          },
          "scene": {
           "xaxis": {
            "backgroundcolor": "#E5ECF6",
            "gridcolor": "white",
            "gridwidth": 2,
            "linecolor": "white",
            "showbackground": true,
            "ticks": "",
            "zerolinecolor": "white"
           },
           "yaxis": {
            "backgroundcolor": "#E5ECF6",
            "gridcolor": "white",
            "gridwidth": 2,
            "linecolor": "white",
            "showbackground": true,
            "ticks": "",
            "zerolinecolor": "white"
           },
           "zaxis": {
            "backgroundcolor": "#E5ECF6",
            "gridcolor": "white",
            "gridwidth": 2,
            "linecolor": "white",
            "showbackground": true,
            "ticks": "",
            "zerolinecolor": "white"
           }
          },
          "shapedefaults": {
           "line": {
            "color": "#2a3f5f"
           }
          },
          "ternary": {
           "aaxis": {
            "gridcolor": "white",
            "linecolor": "white",
            "ticks": ""
           },
           "baxis": {
            "gridcolor": "white",
            "linecolor": "white",
            "ticks": ""
           },
           "bgcolor": "#E5ECF6",
           "caxis": {
            "gridcolor": "white",
            "linecolor": "white",
            "ticks": ""
           }
          },
          "title": {
           "x": 0.05
          },
          "xaxis": {
           "automargin": true,
           "gridcolor": "white",
           "linecolor": "white",
           "ticks": "",
           "title": {
            "standoff": 15
           },
           "zerolinecolor": "white",
           "zerolinewidth": 2
          },
          "yaxis": {
           "automargin": true,
           "gridcolor": "white",
           "linecolor": "white",
           "ticks": "",
           "title": {
            "standoff": 15
           },
           "zerolinecolor": "white",
           "zerolinewidth": 2
          }
         }
        },
        "title": {
         "font": {
          "color": "#4D5663"
         }
        },
        "xaxis": {
         "anchor": "y",
         "domain": [
          0,
          0.2125
         ],
         "gridcolor": "#E1E5ED",
         "showgrid": false,
         "tickfont": {
          "color": "#4D5663"
         },
         "title": {
          "font": {
           "color": "#4D5663"
          },
          "text": ""
         },
         "zerolinecolor": "#E1E5ED"
        },
        "xaxis10": {
         "anchor": "y10",
         "domain": [
          0.2625,
          0.475
         ],
         "gridcolor": "#E1E5ED",
         "showgrid": false,
         "tickfont": {
          "color": "#4D5663"
         },
         "title": {
          "font": {
           "color": "#4D5663"
          },
          "text": ""
         },
         "zerolinecolor": "#E1E5ED"
        },
        "xaxis11": {
         "anchor": "y11",
         "domain": [
          0.525,
          0.7375
         ],
         "gridcolor": "#E1E5ED",
         "showgrid": false,
         "tickfont": {
          "color": "#4D5663"
         },
         "title": {
          "font": {
           "color": "#4D5663"
          },
          "text": ""
         },
         "zerolinecolor": "#E1E5ED"
        },
        "xaxis12": {
         "anchor": "y12",
         "domain": [
          0.7875,
          1
         ],
         "gridcolor": "#E1E5ED",
         "showgrid": false,
         "tickfont": {
          "color": "#4D5663"
         },
         "title": {
          "font": {
           "color": "#4D5663"
          },
          "text": ""
         },
         "zerolinecolor": "#E1E5ED"
        },
        "xaxis13": {
         "anchor": "y13",
         "domain": [
          0,
          0.2125
         ],
         "gridcolor": "#E1E5ED",
         "showgrid": false,
         "tickfont": {
          "color": "#4D5663"
         },
         "title": {
          "font": {
           "color": "#4D5663"
          },
          "text": ""
         },
         "zerolinecolor": "#E1E5ED"
        },
        "xaxis14": {
         "anchor": "y14",
         "domain": [
          0.2625,
          0.475
         ],
         "gridcolor": "#E1E5ED",
         "showgrid": false,
         "tickfont": {
          "color": "#4D5663"
         },
         "title": {
          "font": {
           "color": "#4D5663"
          },
          "text": ""
         },
         "zerolinecolor": "#E1E5ED"
        },
        "xaxis15": {
         "anchor": "y15",
         "domain": [
          0.525,
          0.7375
         ],
         "gridcolor": "#E1E5ED",
         "showgrid": false,
         "tickfont": {
          "color": "#4D5663"
         },
         "title": {
          "font": {
           "color": "#4D5663"
          },
          "text": ""
         },
         "zerolinecolor": "#E1E5ED"
        },
        "xaxis16": {
         "anchor": "y16",
         "domain": [
          0.7875,
          1
         ],
         "gridcolor": "#E1E5ED",
         "showgrid": false,
         "tickfont": {
          "color": "#4D5663"
         },
         "title": {
          "font": {
           "color": "#4D5663"
          },
          "text": ""
         },
         "zerolinecolor": "#E1E5ED"
        },
        "xaxis2": {
         "anchor": "y2",
         "domain": [
          0.2625,
          0.475
         ],
         "gridcolor": "#E1E5ED",
         "showgrid": false,
         "tickfont": {
          "color": "#4D5663"
         },
         "title": {
          "font": {
           "color": "#4D5663"
          },
          "text": ""
         },
         "zerolinecolor": "#E1E5ED"
        },
        "xaxis3": {
         "anchor": "y3",
         "domain": [
          0.525,
          0.7375
         ],
         "gridcolor": "#E1E5ED",
         "showgrid": false,
         "tickfont": {
          "color": "#4D5663"
         },
         "title": {
          "font": {
           "color": "#4D5663"
          },
          "text": ""
         },
         "zerolinecolor": "#E1E5ED"
        },
        "xaxis4": {
         "anchor": "y4",
         "domain": [
          0.7875,
          1
         ],
         "gridcolor": "#E1E5ED",
         "showgrid": false,
         "tickfont": {
          "color": "#4D5663"
         },
         "title": {
          "font": {
           "color": "#4D5663"
          },
          "text": ""
         },
         "zerolinecolor": "#E1E5ED"
        },
        "xaxis5": {
         "anchor": "y5",
         "domain": [
          0,
          0.2125
         ],
         "gridcolor": "#E1E5ED",
         "showgrid": false,
         "tickfont": {
          "color": "#4D5663"
         },
         "title": {
          "font": {
           "color": "#4D5663"
          },
          "text": ""
         },
         "zerolinecolor": "#E1E5ED"
        },
        "xaxis6": {
         "anchor": "y6",
         "domain": [
          0.2625,
          0.475
         ],
         "gridcolor": "#E1E5ED",
         "showgrid": false,
         "tickfont": {
          "color": "#4D5663"
         },
         "title": {
          "font": {
           "color": "#4D5663"
          },
          "text": ""
         },
         "zerolinecolor": "#E1E5ED"
        },
        "xaxis7": {
         "anchor": "y7",
         "domain": [
          0.525,
          0.7375
         ],
         "gridcolor": "#E1E5ED",
         "showgrid": false,
         "tickfont": {
          "color": "#4D5663"
         },
         "title": {
          "font": {
           "color": "#4D5663"
          },
          "text": ""
         },
         "zerolinecolor": "#E1E5ED"
        },
        "xaxis8": {
         "anchor": "y8",
         "domain": [
          0.7875,
          1
         ],
         "gridcolor": "#E1E5ED",
         "showgrid": false,
         "tickfont": {
          "color": "#4D5663"
         },
         "title": {
          "font": {
           "color": "#4D5663"
          },
          "text": ""
         },
         "zerolinecolor": "#E1E5ED"
        },
        "xaxis9": {
         "anchor": "y9",
         "domain": [
          0,
          0.2125
         ],
         "gridcolor": "#E1E5ED",
         "showgrid": false,
         "tickfont": {
          "color": "#4D5663"
         },
         "title": {
          "font": {
           "color": "#4D5663"
          },
          "text": ""
         },
         "zerolinecolor": "#E1E5ED"
        },
        "yaxis": {
         "anchor": "x",
         "domain": [
          0.8025,
          1
         ],
         "gridcolor": "#E1E5ED",
         "showgrid": false,
         "tickfont": {
          "color": "#4D5663"
         },
         "title": {
          "font": {
           "color": "#4D5663"
          },
          "text": ""
         },
         "zerolinecolor": "#E1E5ED"
        },
        "yaxis10": {
         "anchor": "x10",
         "domain": [
          0.2675,
          0.465
         ],
         "gridcolor": "#E1E5ED",
         "showgrid": false,
         "tickfont": {
          "color": "#4D5663"
         },
         "title": {
          "font": {
           "color": "#4D5663"
          },
          "text": ""
         },
         "zerolinecolor": "#E1E5ED"
        },
        "yaxis11": {
         "anchor": "x11",
         "domain": [
          0.2675,
          0.465
         ],
         "gridcolor": "#E1E5ED",
         "showgrid": false,
         "tickfont": {
          "color": "#4D5663"
         },
         "title": {
          "font": {
           "color": "#4D5663"
          },
          "text": ""
         },
         "zerolinecolor": "#E1E5ED"
        },
        "yaxis12": {
         "anchor": "x12",
         "domain": [
          0.2675,
          0.465
         ],
         "gridcolor": "#E1E5ED",
         "showgrid": false,
         "tickfont": {
          "color": "#4D5663"
         },
         "title": {
          "font": {
           "color": "#4D5663"
          },
          "text": ""
         },
         "zerolinecolor": "#E1E5ED"
        },
        "yaxis13": {
         "anchor": "x13",
         "domain": [
          0,
          0.1975
         ],
         "gridcolor": "#E1E5ED",
         "showgrid": false,
         "tickfont": {
          "color": "#4D5663"
         },
         "title": {
          "font": {
           "color": "#4D5663"
          },
          "text": ""
         },
         "zerolinecolor": "#E1E5ED"
        },
        "yaxis14": {
         "anchor": "x14",
         "domain": [
          0,
          0.1975
         ],
         "gridcolor": "#E1E5ED",
         "showgrid": false,
         "tickfont": {
          "color": "#4D5663"
         },
         "title": {
          "font": {
           "color": "#4D5663"
          },
          "text": ""
         },
         "zerolinecolor": "#E1E5ED"
        },
        "yaxis15": {
         "anchor": "x15",
         "domain": [
          0,
          0.1975
         ],
         "gridcolor": "#E1E5ED",
         "showgrid": false,
         "tickfont": {
          "color": "#4D5663"
         },
         "title": {
          "font": {
           "color": "#4D5663"
          },
          "text": ""
         },
         "zerolinecolor": "#E1E5ED"
        },
        "yaxis16": {
         "anchor": "x16",
         "domain": [
          0,
          0.1975
         ],
         "gridcolor": "#E1E5ED",
         "showgrid": false,
         "tickfont": {
          "color": "#4D5663"
         },
         "title": {
          "font": {
           "color": "#4D5663"
          },
          "text": ""
         },
         "zerolinecolor": "#E1E5ED"
        },
        "yaxis2": {
         "anchor": "x2",
         "domain": [
          0.8025,
          1
         ],
         "gridcolor": "#E1E5ED",
         "showgrid": false,
         "tickfont": {
          "color": "#4D5663"
         },
         "title": {
          "font": {
           "color": "#4D5663"
          },
          "text": ""
         },
         "zerolinecolor": "#E1E5ED"
        },
        "yaxis3": {
         "anchor": "x3",
         "domain": [
          0.8025,
          1
         ],
         "gridcolor": "#E1E5ED",
         "showgrid": false,
         "tickfont": {
          "color": "#4D5663"
         },
         "title": {
          "font": {
           "color": "#4D5663"
          },
          "text": ""
         },
         "zerolinecolor": "#E1E5ED"
        },
        "yaxis4": {
         "anchor": "x4",
         "domain": [
          0.8025,
          1
         ],
         "gridcolor": "#E1E5ED",
         "showgrid": false,
         "tickfont": {
          "color": "#4D5663"
         },
         "title": {
          "font": {
           "color": "#4D5663"
          },
          "text": ""
         },
         "zerolinecolor": "#E1E5ED"
        },
        "yaxis5": {
         "anchor": "x5",
         "domain": [
          0.535,
          0.7325
         ],
         "gridcolor": "#E1E5ED",
         "showgrid": false,
         "tickfont": {
          "color": "#4D5663"
         },
         "title": {
          "font": {
           "color": "#4D5663"
          },
          "text": ""
         },
         "zerolinecolor": "#E1E5ED"
        },
        "yaxis6": {
         "anchor": "x6",
         "domain": [
          0.535,
          0.7325
         ],
         "gridcolor": "#E1E5ED",
         "showgrid": false,
         "tickfont": {
          "color": "#4D5663"
         },
         "title": {
          "font": {
           "color": "#4D5663"
          },
          "text": ""
         },
         "zerolinecolor": "#E1E5ED"
        },
        "yaxis7": {
         "anchor": "x7",
         "domain": [
          0.535,
          0.7325
         ],
         "gridcolor": "#E1E5ED",
         "showgrid": false,
         "tickfont": {
          "color": "#4D5663"
         },
         "title": {
          "font": {
           "color": "#4D5663"
          },
          "text": ""
         },
         "zerolinecolor": "#E1E5ED"
        },
        "yaxis8": {
         "anchor": "x8",
         "domain": [
          0.535,
          0.7325
         ],
         "gridcolor": "#E1E5ED",
         "showgrid": false,
         "tickfont": {
          "color": "#4D5663"
         },
         "title": {
          "font": {
           "color": "#4D5663"
          },
          "text": ""
         },
         "zerolinecolor": "#E1E5ED"
        },
        "yaxis9": {
         "anchor": "x9",
         "domain": [
          0.2675,
          0.465
         ],
         "gridcolor": "#E1E5ED",
         "showgrid": false,
         "tickfont": {
          "color": "#4D5663"
         },
         "title": {
          "font": {
           "color": "#4D5663"
          },
          "text": ""
         },
         "zerolinecolor": "#E1E5ED"
        }
       }
      },
      "text/html": [
       "<div>                            <div id=\"3fe6c43d-e380-4fad-8aea-fcf35b28736f\" class=\"plotly-graph-div\" style=\"height:525px; width:100%;\"></div>            <script type=\"text/javascript\">                require([\"plotly\"], function(Plotly) {                    window.PLOTLYENV=window.PLOTLYENV || {};\n",
       "                    window.PLOTLYENV.BASE_URL='https://plot.ly';                                    if (document.getElementById(\"3fe6c43d-e380-4fad-8aea-fcf35b28736f\")) {                    Plotly.newPlot(                        \"3fe6c43d-e380-4fad-8aea-fcf35b28736f\",                        [{\"histfunc\": \"count\", \"histnorm\": \"\", \"marker\": {\"color\": \"rgba(255, 153, 51, 1.0)\", \"line\": {\"color\": \"#4D5663\", \"width\": 1.3}}, \"name\": \"A\", \"nbinsx\": 10, \"opacity\": 0.8, \"orientation\": \"v\", \"type\": \"histogram\", \"x\": [0.522347272199525, 0.36817438810491, 0.0010112605725656199, 0.9057807174375636, 0.7384316849079128, 0.1591551902131888, 0.183934903423408, 0.21028223913407484, 0.5425235102718765, 0.829885672257394, 0.7519738973190104, 0.44385066073449053, 0.019331177627519902, 0.5493141819077285, 0.43307252891392767, 0.9682569387990952, 0.11384486841087482, 0.1590031755729575, 0.2169754925882097, 0.5190633136071182, 0.6609987922208981, 0.7035280901951679, 0.3382248559583705, 0.21615833703988963, 0.3846361972132023, 0.055377027460866035, 0.5234708831540881, 0.684563444434096, 0.7089472904480765, 0.613459906336003, 0.024396710654762233, 0.863173763520489, 0.07096952088354769, 0.2847928024195078, 0.8333035039784051, 0.21383937024242794, 0.2758222933337888, 0.7831230087068312, 0.8516095108356362, 0.7137903428534593, 0.6330296758278816, 0.06523375411443222, 0.16252955476389142, 0.3412202916179925, 0.6962010444797161, 0.8409563865781624, 0.30669072720402835, 0.3725501743663695, 0.1946819498048723, 0.17228845089530231, 0.2568958156082274, 0.1534823782996152, 0.9486771411358706, 0.25786083917786273, 0.22917003023574523, 0.5037887336139055, 0.7901287685428313, 0.6573510576728744, 0.7684124144914483, 0.014870731222623168, 0.6715626271577866, 0.010697629160978939, 0.001866724770348549, 0.19855030665887508, 0.1746506780786472, 0.40914788030905846, 0.2777894983058271, 0.4084550388889513, 0.48623574463775054, 0.6979433401930659, 0.7989290510929793, 0.7582910228703558, 0.46838736729978614, 0.057922779673538094, 0.6559701305443183, 0.12023603801724625, 0.3382097627565869, 0.86046125257498, 0.5613916849013729, 0.42542919093183773, 0.3122730418753221, 0.014989821263473702, 0.4333077153710524, 0.5004352265082898, 0.05414301370623442, 0.5717783526285637, 0.8772586029905328, 0.22266512257475657, 0.5068896410400924, 0.06552324721531144, 0.5373357865127935, 0.7467424313884923, 0.9567202371927418, 0.3964129865509076, 0.31767853175412575, 0.14119743542373886, 0.6185496464600199, 0.40141784167385464, 0.2307858594556288, 0.13704215385049778], \"xaxis\": \"x\", \"yaxis\": \"y\"}, {\"line\": {\"color\": \"rgba(128, 128, 128, 1.0)\", \"dash\": \"solid\", \"shape\": \"linear\", \"width\": 1.3}, \"marker\": {\"size\": 2, \"symbol\": \"circle\"}, \"mode\": \"markers\", \"name\": \"A\", \"text\": \"\", \"type\": \"scatter\", \"x\": [0.6223770751356761, 0.3416445020886866, 0.9971754580323123, 0.9950524972421991, 0.139706690041413, 0.97337753397297, 0.17019811188026457, 0.13297246149589348, 0.5112700763585448, 0.5231345078299766, 0.6401770475525225, 0.8486728789085054, 0.32960172011473265, 0.5535922186753318, 0.5979005822666698, 0.9802069118862393, 0.6935871528877221, 0.6805848666048713, 0.24598940851936357, 0.4282626059838952, 0.19127605696467853, 0.6225268191350222, 0.23320264078302066, 0.48933844966190876, 0.21942404016854, 0.851209187484054, 0.8077751381648538, 0.4695841707826717, 0.5260616156288477, 0.6871504323636946, 0.22725204415995914, 0.7974082952586401, 0.8741857461914679, 0.3221236227529417, 0.685973331967647, 0.42063010160291725, 0.007343915548235769, 0.9092139571979199, 0.024532211610490018, 0.8274006503674203, 0.4320308212969496, 0.9480716795505977, 0.5557150798236625, 0.40842131707276563, 0.4639352220958872, 0.1449430807398373, 0.3374661160817264, 0.8766276775722553, 0.7714800171519953, 0.46581484015568697, 0.9612034584567597, 0.7520318786681476, 0.4571010307621315, 0.7886553394413793, 0.5670803172017644, 0.902855913290173, 0.1946403073620262, 0.9279093748297184, 0.6488904817389123, 0.78642792635236, 0.092469853089296, 0.14206876541118296, 0.35209955641330803, 0.3565475695518735, 0.6190868391571726, 0.9774504503283681, 0.7475599926339814, 0.812659821012732, 0.08391659033449617, 0.3594271806040815, 0.09314230103499987, 0.9929089666406649, 0.5102785105053524, 0.9325615962779351, 0.5279940897747859, 0.558417503387099, 0.8471234593254293, 0.8215181676643304, 0.4694068589509176, 0.07913988689432694, 0.3516123599742621, 0.8533595285215351, 0.008119480528145484, 0.646087726094201, 0.14199480209371362, 0.2699901803856761, 0.7143113007959809, 0.6206335350655173, 0.7141016055659357, 0.047068041441382436, 0.9223009538279476, 0.09446291161536402, 0.9489886100218277, 0.9750843802396616, 0.9277824174042508, 0.7605825286603557, 0.4538473633176765, 0.23516633808786724, 0.9069438664199233, 0.0635920025401463], \"xaxis\": \"x2\", \"y\": [0.522347272199525, 0.36817438810491, 0.0010112605725656199, 0.9057807174375636, 0.7384316849079128, 0.1591551902131888, 0.183934903423408, 0.21028223913407484, 0.5425235102718765, 0.829885672257394, 0.7519738973190104, 0.44385066073449053, 0.019331177627519902, 0.5493141819077285, 0.43307252891392767, 0.9682569387990952, 0.11384486841087482, 0.1590031755729575, 0.2169754925882097, 0.5190633136071182, 0.6609987922208981, 0.7035280901951679, 0.3382248559583705, 0.21615833703988963, 0.3846361972132023, 0.055377027460866035, 0.5234708831540881, 0.684563444434096, 0.7089472904480765, 0.613459906336003, 0.024396710654762233, 0.863173763520489, 0.07096952088354769, 0.2847928024195078, 0.8333035039784051, 0.21383937024242794, 0.2758222933337888, 0.7831230087068312, 0.8516095108356362, 0.7137903428534593, 0.6330296758278816, 0.06523375411443222, 0.16252955476389142, 0.3412202916179925, 0.6962010444797161, 0.8409563865781624, 0.30669072720402835, 0.3725501743663695, 0.1946819498048723, 0.17228845089530231, 0.2568958156082274, 0.1534823782996152, 0.9486771411358706, 0.25786083917786273, 0.22917003023574523, 0.5037887336139055, 0.7901287685428313, 0.6573510576728744, 0.7684124144914483, 0.014870731222623168, 0.6715626271577866, 0.010697629160978939, 0.001866724770348549, 0.19855030665887508, 0.1746506780786472, 0.40914788030905846, 0.2777894983058271, 0.4084550388889513, 0.48623574463775054, 0.6979433401930659, 0.7989290510929793, 0.7582910228703558, 0.46838736729978614, 0.057922779673538094, 0.6559701305443183, 0.12023603801724625, 0.3382097627565869, 0.86046125257498, 0.5613916849013729, 0.42542919093183773, 0.3122730418753221, 0.014989821263473702, 0.4333077153710524, 0.5004352265082898, 0.05414301370623442, 0.5717783526285637, 0.8772586029905328, 0.22266512257475657, 0.5068896410400924, 0.06552324721531144, 0.5373357865127935, 0.7467424313884923, 0.9567202371927418, 0.3964129865509076, 0.31767853175412575, 0.14119743542373886, 0.6185496464600199, 0.40141784167385464, 0.2307858594556288, 0.13704215385049778], \"yaxis\": \"y2\"}, {\"line\": {\"color\": \"rgba(128, 128, 128, 1.0)\", \"dash\": \"solid\", \"shape\": \"linear\", \"width\": 1.3}, \"marker\": {\"size\": 2, \"symbol\": \"circle\"}, \"mode\": \"markers\", \"name\": \"A\", \"text\": \"\", \"type\": \"scatter\", \"x\": [0.09380503798031237, 0.6526759758934895, 0.16152349840004232, 0.25885213526336925, 0.6038155075983096, 0.12444921150278254, 0.4081905383651053, 0.0856447682824103, 0.8698656837212047, 0.7864111638195007, 0.7825385253280719, 0.989285497141012, 0.8095830227158207, 0.7255092100202046, 0.5185601147475711, 0.7689513921723563, 0.5028279886669335, 0.7345196218534636, 0.9744608590874142, 0.4761370202173333, 0.008861147125629354, 0.5388443497493796, 0.6656293463403312, 0.008601059414690582, 0.5135512515383084, 0.9103780677202373, 0.4587111186339282, 0.8372043249635635, 0.03244716148845039, 0.7145399148286244, 0.7799655808965369, 0.9289674543083432, 0.7256487173206256, 0.9437703252058233, 0.3627547895564347, 0.8139754564874104, 0.5132015501603648, 0.8563123536504531, 0.6921533327565024, 0.7240783168468496, 0.5013029903827229, 0.1438874608714732, 0.2295898338029112, 0.800407192342202, 0.5996586667602364, 0.2958846247290571, 0.20650797226437112, 0.14061356476170384, 0.5573955166969558, 0.963371812387484, 0.7846642684329815, 0.3885837088073191, 0.3199160673306567, 0.6420635153603851, 0.35263369966648694, 0.40748220837865257, 0.0897624917034805, 0.5973844642681456, 0.2131835121306419, 0.2475350021599133, 0.9297310288514424, 0.946796227861677, 0.3770217985171824, 0.3783847547891783, 0.9927075369507348, 0.27891584456349794, 0.2880976244887994, 0.09065713586937318, 0.3931040655132225, 0.23669182347192008, 0.15586718917599607, 0.2279235750725791, 0.8796690357075487, 0.5187316084164268, 0.4513832322497191, 0.5540745783395014, 0.04156052807916366, 0.4443462601519005, 0.692901822787496, 0.2248325046412486, 0.9919435185541612, 0.4861547749772823, 0.7754332776359236, 0.6757577201573153, 0.06931940716226204, 0.28647258696927147, 0.4415532672592548, 0.7584892176037682, 0.16823235607768705, 0.6587938768913424, 0.10044053786219476, 0.08476376269583341, 0.543827301225614, 0.4154943916327881, 0.6345508079492399, 0.8164541159085817, 0.10192921003882327, 0.23598578798322323, 0.2715593802185342, 0.950036089672961], \"xaxis\": \"x3\", \"y\": [0.522347272199525, 0.36817438810491, 0.0010112605725656199, 0.9057807174375636, 0.7384316849079128, 0.1591551902131888, 0.183934903423408, 0.21028223913407484, 0.5425235102718765, 0.829885672257394, 0.7519738973190104, 0.44385066073449053, 0.019331177627519902, 0.5493141819077285, 0.43307252891392767, 0.9682569387990952, 0.11384486841087482, 0.1590031755729575, 0.2169754925882097, 0.5190633136071182, 0.6609987922208981, 0.7035280901951679, 0.3382248559583705, 0.21615833703988963, 0.3846361972132023, 0.055377027460866035, 0.5234708831540881, 0.684563444434096, 0.7089472904480765, 0.613459906336003, 0.024396710654762233, 0.863173763520489, 0.07096952088354769, 0.2847928024195078, 0.8333035039784051, 0.21383937024242794, 0.2758222933337888, 0.7831230087068312, 0.8516095108356362, 0.7137903428534593, 0.6330296758278816, 0.06523375411443222, 0.16252955476389142, 0.3412202916179925, 0.6962010444797161, 0.8409563865781624, 0.30669072720402835, 0.3725501743663695, 0.1946819498048723, 0.17228845089530231, 0.2568958156082274, 0.1534823782996152, 0.9486771411358706, 0.25786083917786273, 0.22917003023574523, 0.5037887336139055, 0.7901287685428313, 0.6573510576728744, 0.7684124144914483, 0.014870731222623168, 0.6715626271577866, 0.010697629160978939, 0.001866724770348549, 0.19855030665887508, 0.1746506780786472, 0.40914788030905846, 0.2777894983058271, 0.4084550388889513, 0.48623574463775054, 0.6979433401930659, 0.7989290510929793, 0.7582910228703558, 0.46838736729978614, 0.057922779673538094, 0.6559701305443183, 0.12023603801724625, 0.3382097627565869, 0.86046125257498, 0.5613916849013729, 0.42542919093183773, 0.3122730418753221, 0.014989821263473702, 0.4333077153710524, 0.5004352265082898, 0.05414301370623442, 0.5717783526285637, 0.8772586029905328, 0.22266512257475657, 0.5068896410400924, 0.06552324721531144, 0.5373357865127935, 0.7467424313884923, 0.9567202371927418, 0.3964129865509076, 0.31767853175412575, 0.14119743542373886, 0.6185496464600199, 0.40141784167385464, 0.2307858594556288, 0.13704215385049778], \"yaxis\": \"y3\"}, {\"line\": {\"color\": \"rgba(128, 128, 128, 1.0)\", \"dash\": \"solid\", \"shape\": \"linear\", \"width\": 1.3}, \"marker\": {\"size\": 2, \"symbol\": \"circle\"}, \"mode\": \"markers\", \"name\": \"A\", \"text\": \"\", \"type\": \"scatter\", \"x\": [0.9346393437613366, 0.252958136991432, 0.07003297375437512, 0.3582840478916085, 0.8840384570989815, 0.42538620416837003, 0.8422658213094364, 0.9138359962782545, 0.4911302729029282, 0.34945035754671705, 0.8812835967905034, 0.6333305016978108, 0.6347602581696066, 0.7197170468368065, 0.5788768069373421, 0.2408013204640741, 0.9879324626242971, 0.5164122289856797, 0.3818211226714455, 0.9517789224117948, 0.8835517907989451, 0.22924111559361737, 0.239131370914902, 0.09876930995477295, 0.9888995184554749, 0.747606118899924, 0.39286956582633614, 0.6048409469693944, 0.8620820320927773, 0.35360465402161023, 0.5602058479032207, 0.680728677321006, 0.02901077871292812, 0.9035486638560817, 0.14231539286055106, 0.15553137825302832, 0.793409548594289, 0.5398433929523276, 0.146464282195094, 0.5703799874715035, 0.8044355195012435, 0.7039588028633254, 0.17155165600787747, 0.04757395148304666, 0.4092880199511377, 0.015824593994852587, 0.6064288036517577, 0.6072249260796262, 0.03432881777771024, 0.5343625427188801, 0.851077082381364, 0.9570804516946935, 0.278266331225548, 0.04805602451244784, 0.5807689847525798, 0.30492695492450483, 0.7504567956856679, 0.15821063989633388, 0.44376728077255345, 0.5051110350596844, 0.6846816931403839, 0.5861006841761461, 0.10356669488190007, 0.9759077922327591, 0.11210276544417941, 0.6573715883495088, 0.6870133902678076, 0.4296343693443144, 0.5736519272716726, 0.07873911028793468, 0.08166145378763146, 0.8090912545179954, 0.8128174971281759, 0.11240827128296138, 0.6905433868515691, 0.23378205774432048, 0.005475311723259768, 0.18289043528022209, 0.9616911528717593, 0.7782271907089138, 0.5823571430675251, 0.8436650443121044, 0.24088043001728998, 0.6922955393397364, 0.44671676755200607, 0.20623161274390878, 0.7950234030767607, 0.09158151848464047, 0.7402150155337445, 0.9439766819186408, 0.27504913366297123, 0.22363598114010697, 0.9029881576715304, 0.13608853355236517, 0.8747424842048145, 0.11013924378586093, 0.19182948135356725, 0.7016629627171346, 0.24849790983975306, 0.7747748319967561], \"xaxis\": \"x4\", \"y\": [0.522347272199525, 0.36817438810491, 0.0010112605725656199, 0.9057807174375636, 0.7384316849079128, 0.1591551902131888, 0.183934903423408, 0.21028223913407484, 0.5425235102718765, 0.829885672257394, 0.7519738973190104, 0.44385066073449053, 0.019331177627519902, 0.5493141819077285, 0.43307252891392767, 0.9682569387990952, 0.11384486841087482, 0.1590031755729575, 0.2169754925882097, 0.5190633136071182, 0.6609987922208981, 0.7035280901951679, 0.3382248559583705, 0.21615833703988963, 0.3846361972132023, 0.055377027460866035, 0.5234708831540881, 0.684563444434096, 0.7089472904480765, 0.613459906336003, 0.024396710654762233, 0.863173763520489, 0.07096952088354769, 0.2847928024195078, 0.8333035039784051, 0.21383937024242794, 0.2758222933337888, 0.7831230087068312, 0.8516095108356362, 0.7137903428534593, 0.6330296758278816, 0.06523375411443222, 0.16252955476389142, 0.3412202916179925, 0.6962010444797161, 0.8409563865781624, 0.30669072720402835, 0.3725501743663695, 0.1946819498048723, 0.17228845089530231, 0.2568958156082274, 0.1534823782996152, 0.9486771411358706, 0.25786083917786273, 0.22917003023574523, 0.5037887336139055, 0.7901287685428313, 0.6573510576728744, 0.7684124144914483, 0.014870731222623168, 0.6715626271577866, 0.010697629160978939, 0.001866724770348549, 0.19855030665887508, 0.1746506780786472, 0.40914788030905846, 0.2777894983058271, 0.4084550388889513, 0.48623574463775054, 0.6979433401930659, 0.7989290510929793, 0.7582910228703558, 0.46838736729978614, 0.057922779673538094, 0.6559701305443183, 0.12023603801724625, 0.3382097627565869, 0.86046125257498, 0.5613916849013729, 0.42542919093183773, 0.3122730418753221, 0.014989821263473702, 0.4333077153710524, 0.5004352265082898, 0.05414301370623442, 0.5717783526285637, 0.8772586029905328, 0.22266512257475657, 0.5068896410400924, 0.06552324721531144, 0.5373357865127935, 0.7467424313884923, 0.9567202371927418, 0.3964129865509076, 0.31767853175412575, 0.14119743542373886, 0.6185496464600199, 0.40141784167385464, 0.2307858594556288, 0.13704215385049778], \"yaxis\": \"y4\"}, {\"line\": {\"color\": \"rgba(128, 128, 128, 1.0)\", \"dash\": \"solid\", \"shape\": \"linear\", \"width\": 1.3}, \"marker\": {\"size\": 2, \"symbol\": \"circle\"}, \"mode\": \"markers\", \"name\": \"B\", \"text\": \"\", \"type\": \"scatter\", \"x\": [0.522347272199525, 0.36817438810491, 0.0010112605725656199, 0.9057807174375636, 0.7384316849079128, 0.1591551902131888, 0.183934903423408, 0.21028223913407484, 0.5425235102718765, 0.829885672257394, 0.7519738973190104, 0.44385066073449053, 0.019331177627519902, 0.5493141819077285, 0.43307252891392767, 0.9682569387990952, 0.11384486841087482, 0.1590031755729575, 0.2169754925882097, 0.5190633136071182, 0.6609987922208981, 0.7035280901951679, 0.3382248559583705, 0.21615833703988963, 0.3846361972132023, 0.055377027460866035, 0.5234708831540881, 0.684563444434096, 0.7089472904480765, 0.613459906336003, 0.024396710654762233, 0.863173763520489, 0.07096952088354769, 0.2847928024195078, 0.8333035039784051, 0.21383937024242794, 0.2758222933337888, 0.7831230087068312, 0.8516095108356362, 0.7137903428534593, 0.6330296758278816, 0.06523375411443222, 0.16252955476389142, 0.3412202916179925, 0.6962010444797161, 0.8409563865781624, 0.30669072720402835, 0.3725501743663695, 0.1946819498048723, 0.17228845089530231, 0.2568958156082274, 0.1534823782996152, 0.9486771411358706, 0.25786083917786273, 0.22917003023574523, 0.5037887336139055, 0.7901287685428313, 0.6573510576728744, 0.7684124144914483, 0.014870731222623168, 0.6715626271577866, 0.010697629160978939, 0.001866724770348549, 0.19855030665887508, 0.1746506780786472, 0.40914788030905846, 0.2777894983058271, 0.4084550388889513, 0.48623574463775054, 0.6979433401930659, 0.7989290510929793, 0.7582910228703558, 0.46838736729978614, 0.057922779673538094, 0.6559701305443183, 0.12023603801724625, 0.3382097627565869, 0.86046125257498, 0.5613916849013729, 0.42542919093183773, 0.3122730418753221, 0.014989821263473702, 0.4333077153710524, 0.5004352265082898, 0.05414301370623442, 0.5717783526285637, 0.8772586029905328, 0.22266512257475657, 0.5068896410400924, 0.06552324721531144, 0.5373357865127935, 0.7467424313884923, 0.9567202371927418, 0.3964129865509076, 0.31767853175412575, 0.14119743542373886, 0.6185496464600199, 0.40141784167385464, 0.2307858594556288, 0.13704215385049778], \"xaxis\": \"x5\", \"y\": [0.6223770751356761, 0.3416445020886866, 0.9971754580323123, 0.9950524972421991, 0.139706690041413, 0.97337753397297, 0.17019811188026457, 0.13297246149589348, 0.5112700763585448, 0.5231345078299766, 0.6401770475525225, 0.8486728789085054, 0.32960172011473265, 0.5535922186753318, 0.5979005822666698, 0.9802069118862393, 0.6935871528877221, 0.6805848666048713, 0.24598940851936357, 0.4282626059838952, 0.19127605696467853, 0.6225268191350222, 0.23320264078302066, 0.48933844966190876, 0.21942404016854, 0.851209187484054, 0.8077751381648538, 0.4695841707826717, 0.5260616156288477, 0.6871504323636946, 0.22725204415995914, 0.7974082952586401, 0.8741857461914679, 0.3221236227529417, 0.685973331967647, 0.42063010160291725, 0.007343915548235769, 0.9092139571979199, 0.024532211610490018, 0.8274006503674203, 0.4320308212969496, 0.9480716795505977, 0.5557150798236625, 0.40842131707276563, 0.4639352220958872, 0.1449430807398373, 0.3374661160817264, 0.8766276775722553, 0.7714800171519953, 0.46581484015568697, 0.9612034584567597, 0.7520318786681476, 0.4571010307621315, 0.7886553394413793, 0.5670803172017644, 0.902855913290173, 0.1946403073620262, 0.9279093748297184, 0.6488904817389123, 0.78642792635236, 0.092469853089296, 0.14206876541118296, 0.35209955641330803, 0.3565475695518735, 0.6190868391571726, 0.9774504503283681, 0.7475599926339814, 0.812659821012732, 0.08391659033449617, 0.3594271806040815, 0.09314230103499987, 0.9929089666406649, 0.5102785105053524, 0.9325615962779351, 0.5279940897747859, 0.558417503387099, 0.8471234593254293, 0.8215181676643304, 0.4694068589509176, 0.07913988689432694, 0.3516123599742621, 0.8533595285215351, 0.008119480528145484, 0.646087726094201, 0.14199480209371362, 0.2699901803856761, 0.7143113007959809, 0.6206335350655173, 0.7141016055659357, 0.047068041441382436, 0.9223009538279476, 0.09446291161536402, 0.9489886100218277, 0.9750843802396616, 0.9277824174042508, 0.7605825286603557, 0.4538473633176765, 0.23516633808786724, 0.9069438664199233, 0.0635920025401463], \"yaxis\": \"y5\"}, {\"histfunc\": \"count\", \"histnorm\": \"\", \"marker\": {\"color\": \"rgba(55, 128, 191, 1.0)\", \"line\": {\"color\": \"#4D5663\", \"width\": 1.3}}, \"name\": \"B\", \"nbinsx\": 10, \"opacity\": 0.8, \"orientation\": \"v\", \"type\": \"histogram\", \"x\": [0.6223770751356761, 0.3416445020886866, 0.9971754580323123, 0.9950524972421991, 0.139706690041413, 0.97337753397297, 0.17019811188026457, 0.13297246149589348, 0.5112700763585448, 0.5231345078299766, 0.6401770475525225, 0.8486728789085054, 0.32960172011473265, 0.5535922186753318, 0.5979005822666698, 0.9802069118862393, 0.6935871528877221, 0.6805848666048713, 0.24598940851936357, 0.4282626059838952, 0.19127605696467853, 0.6225268191350222, 0.23320264078302066, 0.48933844966190876, 0.21942404016854, 0.851209187484054, 0.8077751381648538, 0.4695841707826717, 0.5260616156288477, 0.6871504323636946, 0.22725204415995914, 0.7974082952586401, 0.8741857461914679, 0.3221236227529417, 0.685973331967647, 0.42063010160291725, 0.007343915548235769, 0.9092139571979199, 0.024532211610490018, 0.8274006503674203, 0.4320308212969496, 0.9480716795505977, 0.5557150798236625, 0.40842131707276563, 0.4639352220958872, 0.1449430807398373, 0.3374661160817264, 0.8766276775722553, 0.7714800171519953, 0.46581484015568697, 0.9612034584567597, 0.7520318786681476, 0.4571010307621315, 0.7886553394413793, 0.5670803172017644, 0.902855913290173, 0.1946403073620262, 0.9279093748297184, 0.6488904817389123, 0.78642792635236, 0.092469853089296, 0.14206876541118296, 0.35209955641330803, 0.3565475695518735, 0.6190868391571726, 0.9774504503283681, 0.7475599926339814, 0.812659821012732, 0.08391659033449617, 0.3594271806040815, 0.09314230103499987, 0.9929089666406649, 0.5102785105053524, 0.9325615962779351, 0.5279940897747859, 0.558417503387099, 0.8471234593254293, 0.8215181676643304, 0.4694068589509176, 0.07913988689432694, 0.3516123599742621, 0.8533595285215351, 0.008119480528145484, 0.646087726094201, 0.14199480209371362, 0.2699901803856761, 0.7143113007959809, 0.6206335350655173, 0.7141016055659357, 0.047068041441382436, 0.9223009538279476, 0.09446291161536402, 0.9489886100218277, 0.9750843802396616, 0.9277824174042508, 0.7605825286603557, 0.4538473633176765, 0.23516633808786724, 0.9069438664199233, 0.0635920025401463], \"xaxis\": \"x6\", \"yaxis\": \"y6\"}, {\"line\": {\"color\": \"rgba(128, 128, 128, 1.0)\", \"dash\": \"solid\", \"shape\": \"linear\", \"width\": 1.3}, \"marker\": {\"size\": 2, \"symbol\": \"circle\"}, \"mode\": \"markers\", \"name\": \"B\", \"text\": \"\", \"type\": \"scatter\", \"x\": [0.09380503798031237, 0.6526759758934895, 0.16152349840004232, 0.25885213526336925, 0.6038155075983096, 0.12444921150278254, 0.4081905383651053, 0.0856447682824103, 0.8698656837212047, 0.7864111638195007, 0.7825385253280719, 0.989285497141012, 0.8095830227158207, 0.7255092100202046, 0.5185601147475711, 0.7689513921723563, 0.5028279886669335, 0.7345196218534636, 0.9744608590874142, 0.4761370202173333, 0.008861147125629354, 0.5388443497493796, 0.6656293463403312, 0.008601059414690582, 0.5135512515383084, 0.9103780677202373, 0.4587111186339282, 0.8372043249635635, 0.03244716148845039, 0.7145399148286244, 0.7799655808965369, 0.9289674543083432, 0.7256487173206256, 0.9437703252058233, 0.3627547895564347, 0.8139754564874104, 0.5132015501603648, 0.8563123536504531, 0.6921533327565024, 0.7240783168468496, 0.5013029903827229, 0.1438874608714732, 0.2295898338029112, 0.800407192342202, 0.5996586667602364, 0.2958846247290571, 0.20650797226437112, 0.14061356476170384, 0.5573955166969558, 0.963371812387484, 0.7846642684329815, 0.3885837088073191, 0.3199160673306567, 0.6420635153603851, 0.35263369966648694, 0.40748220837865257, 0.0897624917034805, 0.5973844642681456, 0.2131835121306419, 0.2475350021599133, 0.9297310288514424, 0.946796227861677, 0.3770217985171824, 0.3783847547891783, 0.9927075369507348, 0.27891584456349794, 0.2880976244887994, 0.09065713586937318, 0.3931040655132225, 0.23669182347192008, 0.15586718917599607, 0.2279235750725791, 0.8796690357075487, 0.5187316084164268, 0.4513832322497191, 0.5540745783395014, 0.04156052807916366, 0.4443462601519005, 0.692901822787496, 0.2248325046412486, 0.9919435185541612, 0.4861547749772823, 0.7754332776359236, 0.6757577201573153, 0.06931940716226204, 0.28647258696927147, 0.4415532672592548, 0.7584892176037682, 0.16823235607768705, 0.6587938768913424, 0.10044053786219476, 0.08476376269583341, 0.543827301225614, 0.4154943916327881, 0.6345508079492399, 0.8164541159085817, 0.10192921003882327, 0.23598578798322323, 0.2715593802185342, 0.950036089672961], \"xaxis\": \"x7\", \"y\": [0.6223770751356761, 0.3416445020886866, 0.9971754580323123, 0.9950524972421991, 0.139706690041413, 0.97337753397297, 0.17019811188026457, 0.13297246149589348, 0.5112700763585448, 0.5231345078299766, 0.6401770475525225, 0.8486728789085054, 0.32960172011473265, 0.5535922186753318, 0.5979005822666698, 0.9802069118862393, 0.6935871528877221, 0.6805848666048713, 0.24598940851936357, 0.4282626059838952, 0.19127605696467853, 0.6225268191350222, 0.23320264078302066, 0.48933844966190876, 0.21942404016854, 0.851209187484054, 0.8077751381648538, 0.4695841707826717, 0.5260616156288477, 0.6871504323636946, 0.22725204415995914, 0.7974082952586401, 0.8741857461914679, 0.3221236227529417, 0.685973331967647, 0.42063010160291725, 0.007343915548235769, 0.9092139571979199, 0.024532211610490018, 0.8274006503674203, 0.4320308212969496, 0.9480716795505977, 0.5557150798236625, 0.40842131707276563, 0.4639352220958872, 0.1449430807398373, 0.3374661160817264, 0.8766276775722553, 0.7714800171519953, 0.46581484015568697, 0.9612034584567597, 0.7520318786681476, 0.4571010307621315, 0.7886553394413793, 0.5670803172017644, 0.902855913290173, 0.1946403073620262, 0.9279093748297184, 0.6488904817389123, 0.78642792635236, 0.092469853089296, 0.14206876541118296, 0.35209955641330803, 0.3565475695518735, 0.6190868391571726, 0.9774504503283681, 0.7475599926339814, 0.812659821012732, 0.08391659033449617, 0.3594271806040815, 0.09314230103499987, 0.9929089666406649, 0.5102785105053524, 0.9325615962779351, 0.5279940897747859, 0.558417503387099, 0.8471234593254293, 0.8215181676643304, 0.4694068589509176, 0.07913988689432694, 0.3516123599742621, 0.8533595285215351, 0.008119480528145484, 0.646087726094201, 0.14199480209371362, 0.2699901803856761, 0.7143113007959809, 0.6206335350655173, 0.7141016055659357, 0.047068041441382436, 0.9223009538279476, 0.09446291161536402, 0.9489886100218277, 0.9750843802396616, 0.9277824174042508, 0.7605825286603557, 0.4538473633176765, 0.23516633808786724, 0.9069438664199233, 0.0635920025401463], \"yaxis\": \"y7\"}, {\"line\": {\"color\": \"rgba(128, 128, 128, 1.0)\", \"dash\": \"solid\", \"shape\": \"linear\", \"width\": 1.3}, \"marker\": {\"size\": 2, \"symbol\": \"circle\"}, \"mode\": \"markers\", \"name\": \"B\", \"text\": \"\", \"type\": \"scatter\", \"x\": [0.9346393437613366, 0.252958136991432, 0.07003297375437512, 0.3582840478916085, 0.8840384570989815, 0.42538620416837003, 0.8422658213094364, 0.9138359962782545, 0.4911302729029282, 0.34945035754671705, 0.8812835967905034, 0.6333305016978108, 0.6347602581696066, 0.7197170468368065, 0.5788768069373421, 0.2408013204640741, 0.9879324626242971, 0.5164122289856797, 0.3818211226714455, 0.9517789224117948, 0.8835517907989451, 0.22924111559361737, 0.239131370914902, 0.09876930995477295, 0.9888995184554749, 0.747606118899924, 0.39286956582633614, 0.6048409469693944, 0.8620820320927773, 0.35360465402161023, 0.5602058479032207, 0.680728677321006, 0.02901077871292812, 0.9035486638560817, 0.14231539286055106, 0.15553137825302832, 0.793409548594289, 0.5398433929523276, 0.146464282195094, 0.5703799874715035, 0.8044355195012435, 0.7039588028633254, 0.17155165600787747, 0.04757395148304666, 0.4092880199511377, 0.015824593994852587, 0.6064288036517577, 0.6072249260796262, 0.03432881777771024, 0.5343625427188801, 0.851077082381364, 0.9570804516946935, 0.278266331225548, 0.04805602451244784, 0.5807689847525798, 0.30492695492450483, 0.7504567956856679, 0.15821063989633388, 0.44376728077255345, 0.5051110350596844, 0.6846816931403839, 0.5861006841761461, 0.10356669488190007, 0.9759077922327591, 0.11210276544417941, 0.6573715883495088, 0.6870133902678076, 0.4296343693443144, 0.5736519272716726, 0.07873911028793468, 0.08166145378763146, 0.8090912545179954, 0.8128174971281759, 0.11240827128296138, 0.6905433868515691, 0.23378205774432048, 0.005475311723259768, 0.18289043528022209, 0.9616911528717593, 0.7782271907089138, 0.5823571430675251, 0.8436650443121044, 0.24088043001728998, 0.6922955393397364, 0.44671676755200607, 0.20623161274390878, 0.7950234030767607, 0.09158151848464047, 0.7402150155337445, 0.9439766819186408, 0.27504913366297123, 0.22363598114010697, 0.9029881576715304, 0.13608853355236517, 0.8747424842048145, 0.11013924378586093, 0.19182948135356725, 0.7016629627171346, 0.24849790983975306, 0.7747748319967561], \"xaxis\": \"x8\", \"y\": [0.6223770751356761, 0.3416445020886866, 0.9971754580323123, 0.9950524972421991, 0.139706690041413, 0.97337753397297, 0.17019811188026457, 0.13297246149589348, 0.5112700763585448, 0.5231345078299766, 0.6401770475525225, 0.8486728789085054, 0.32960172011473265, 0.5535922186753318, 0.5979005822666698, 0.9802069118862393, 0.6935871528877221, 0.6805848666048713, 0.24598940851936357, 0.4282626059838952, 0.19127605696467853, 0.6225268191350222, 0.23320264078302066, 0.48933844966190876, 0.21942404016854, 0.851209187484054, 0.8077751381648538, 0.4695841707826717, 0.5260616156288477, 0.6871504323636946, 0.22725204415995914, 0.7974082952586401, 0.8741857461914679, 0.3221236227529417, 0.685973331967647, 0.42063010160291725, 0.007343915548235769, 0.9092139571979199, 0.024532211610490018, 0.8274006503674203, 0.4320308212969496, 0.9480716795505977, 0.5557150798236625, 0.40842131707276563, 0.4639352220958872, 0.1449430807398373, 0.3374661160817264, 0.8766276775722553, 0.7714800171519953, 0.46581484015568697, 0.9612034584567597, 0.7520318786681476, 0.4571010307621315, 0.7886553394413793, 0.5670803172017644, 0.902855913290173, 0.1946403073620262, 0.9279093748297184, 0.6488904817389123, 0.78642792635236, 0.092469853089296, 0.14206876541118296, 0.35209955641330803, 0.3565475695518735, 0.6190868391571726, 0.9774504503283681, 0.7475599926339814, 0.812659821012732, 0.08391659033449617, 0.3594271806040815, 0.09314230103499987, 0.9929089666406649, 0.5102785105053524, 0.9325615962779351, 0.5279940897747859, 0.558417503387099, 0.8471234593254293, 0.8215181676643304, 0.4694068589509176, 0.07913988689432694, 0.3516123599742621, 0.8533595285215351, 0.008119480528145484, 0.646087726094201, 0.14199480209371362, 0.2699901803856761, 0.7143113007959809, 0.6206335350655173, 0.7141016055659357, 0.047068041441382436, 0.9223009538279476, 0.09446291161536402, 0.9489886100218277, 0.9750843802396616, 0.9277824174042508, 0.7605825286603557, 0.4538473633176765, 0.23516633808786724, 0.9069438664199233, 0.0635920025401463], \"yaxis\": \"y8\"}, {\"line\": {\"color\": \"rgba(128, 128, 128, 1.0)\", \"dash\": \"solid\", \"shape\": \"linear\", \"width\": 1.3}, \"marker\": {\"size\": 2, \"symbol\": \"circle\"}, \"mode\": \"markers\", \"name\": \"C\", \"text\": \"\", \"type\": \"scatter\", \"x\": [0.522347272199525, 0.36817438810491, 0.0010112605725656199, 0.9057807174375636, 0.7384316849079128, 0.1591551902131888, 0.183934903423408, 0.21028223913407484, 0.5425235102718765, 0.829885672257394, 0.7519738973190104, 0.44385066073449053, 0.019331177627519902, 0.5493141819077285, 0.43307252891392767, 0.9682569387990952, 0.11384486841087482, 0.1590031755729575, 0.2169754925882097, 0.5190633136071182, 0.6609987922208981, 0.7035280901951679, 0.3382248559583705, 0.21615833703988963, 0.3846361972132023, 0.055377027460866035, 0.5234708831540881, 0.684563444434096, 0.7089472904480765, 0.613459906336003, 0.024396710654762233, 0.863173763520489, 0.07096952088354769, 0.2847928024195078, 0.8333035039784051, 0.21383937024242794, 0.2758222933337888, 0.7831230087068312, 0.8516095108356362, 0.7137903428534593, 0.6330296758278816, 0.06523375411443222, 0.16252955476389142, 0.3412202916179925, 0.6962010444797161, 0.8409563865781624, 0.30669072720402835, 0.3725501743663695, 0.1946819498048723, 0.17228845089530231, 0.2568958156082274, 0.1534823782996152, 0.9486771411358706, 0.25786083917786273, 0.22917003023574523, 0.5037887336139055, 0.7901287685428313, 0.6573510576728744, 0.7684124144914483, 0.014870731222623168, 0.6715626271577866, 0.010697629160978939, 0.001866724770348549, 0.19855030665887508, 0.1746506780786472, 0.40914788030905846, 0.2777894983058271, 0.4084550388889513, 0.48623574463775054, 0.6979433401930659, 0.7989290510929793, 0.7582910228703558, 0.46838736729978614, 0.057922779673538094, 0.6559701305443183, 0.12023603801724625, 0.3382097627565869, 0.86046125257498, 0.5613916849013729, 0.42542919093183773, 0.3122730418753221, 0.014989821263473702, 0.4333077153710524, 0.5004352265082898, 0.05414301370623442, 0.5717783526285637, 0.8772586029905328, 0.22266512257475657, 0.5068896410400924, 0.06552324721531144, 0.5373357865127935, 0.7467424313884923, 0.9567202371927418, 0.3964129865509076, 0.31767853175412575, 0.14119743542373886, 0.6185496464600199, 0.40141784167385464, 0.2307858594556288, 0.13704215385049778], \"xaxis\": \"x9\", \"y\": [0.09380503798031237, 0.6526759758934895, 0.16152349840004232, 0.25885213526336925, 0.6038155075983096, 0.12444921150278254, 0.4081905383651053, 0.0856447682824103, 0.8698656837212047, 0.7864111638195007, 0.7825385253280719, 0.989285497141012, 0.8095830227158207, 0.7255092100202046, 0.5185601147475711, 0.7689513921723563, 0.5028279886669335, 0.7345196218534636, 0.9744608590874142, 0.4761370202173333, 0.008861147125629354, 0.5388443497493796, 0.6656293463403312, 0.008601059414690582, 0.5135512515383084, 0.9103780677202373, 0.4587111186339282, 0.8372043249635635, 0.03244716148845039, 0.7145399148286244, 0.7799655808965369, 0.9289674543083432, 0.7256487173206256, 0.9437703252058233, 0.3627547895564347, 0.8139754564874104, 0.5132015501603648, 0.8563123536504531, 0.6921533327565024, 0.7240783168468496, 0.5013029903827229, 0.1438874608714732, 0.2295898338029112, 0.800407192342202, 0.5996586667602364, 0.2958846247290571, 0.20650797226437112, 0.14061356476170384, 0.5573955166969558, 0.963371812387484, 0.7846642684329815, 0.3885837088073191, 0.3199160673306567, 0.6420635153603851, 0.35263369966648694, 0.40748220837865257, 0.0897624917034805, 0.5973844642681456, 0.2131835121306419, 0.2475350021599133, 0.9297310288514424, 0.946796227861677, 0.3770217985171824, 0.3783847547891783, 0.9927075369507348, 0.27891584456349794, 0.2880976244887994, 0.09065713586937318, 0.3931040655132225, 0.23669182347192008, 0.15586718917599607, 0.2279235750725791, 0.8796690357075487, 0.5187316084164268, 0.4513832322497191, 0.5540745783395014, 0.04156052807916366, 0.4443462601519005, 0.692901822787496, 0.2248325046412486, 0.9919435185541612, 0.4861547749772823, 0.7754332776359236, 0.6757577201573153, 0.06931940716226204, 0.28647258696927147, 0.4415532672592548, 0.7584892176037682, 0.16823235607768705, 0.6587938768913424, 0.10044053786219476, 0.08476376269583341, 0.543827301225614, 0.4154943916327881, 0.6345508079492399, 0.8164541159085817, 0.10192921003882327, 0.23598578798322323, 0.2715593802185342, 0.950036089672961], \"yaxis\": \"y9\"}, {\"line\": {\"color\": \"rgba(128, 128, 128, 1.0)\", \"dash\": \"solid\", \"shape\": \"linear\", \"width\": 1.3}, \"marker\": {\"size\": 2, \"symbol\": \"circle\"}, \"mode\": \"markers\", \"name\": \"C\", \"text\": \"\", \"type\": \"scatter\", \"x\": [0.6223770751356761, 0.3416445020886866, 0.9971754580323123, 0.9950524972421991, 0.139706690041413, 0.97337753397297, 0.17019811188026457, 0.13297246149589348, 0.5112700763585448, 0.5231345078299766, 0.6401770475525225, 0.8486728789085054, 0.32960172011473265, 0.5535922186753318, 0.5979005822666698, 0.9802069118862393, 0.6935871528877221, 0.6805848666048713, 0.24598940851936357, 0.4282626059838952, 0.19127605696467853, 0.6225268191350222, 0.23320264078302066, 0.48933844966190876, 0.21942404016854, 0.851209187484054, 0.8077751381648538, 0.4695841707826717, 0.5260616156288477, 0.6871504323636946, 0.22725204415995914, 0.7974082952586401, 0.8741857461914679, 0.3221236227529417, 0.685973331967647, 0.42063010160291725, 0.007343915548235769, 0.9092139571979199, 0.024532211610490018, 0.8274006503674203, 0.4320308212969496, 0.9480716795505977, 0.5557150798236625, 0.40842131707276563, 0.4639352220958872, 0.1449430807398373, 0.3374661160817264, 0.8766276775722553, 0.7714800171519953, 0.46581484015568697, 0.9612034584567597, 0.7520318786681476, 0.4571010307621315, 0.7886553394413793, 0.5670803172017644, 0.902855913290173, 0.1946403073620262, 0.9279093748297184, 0.6488904817389123, 0.78642792635236, 0.092469853089296, 0.14206876541118296, 0.35209955641330803, 0.3565475695518735, 0.6190868391571726, 0.9774504503283681, 0.7475599926339814, 0.812659821012732, 0.08391659033449617, 0.3594271806040815, 0.09314230103499987, 0.9929089666406649, 0.5102785105053524, 0.9325615962779351, 0.5279940897747859, 0.558417503387099, 0.8471234593254293, 0.8215181676643304, 0.4694068589509176, 0.07913988689432694, 0.3516123599742621, 0.8533595285215351, 0.008119480528145484, 0.646087726094201, 0.14199480209371362, 0.2699901803856761, 0.7143113007959809, 0.6206335350655173, 0.7141016055659357, 0.047068041441382436, 0.9223009538279476, 0.09446291161536402, 0.9489886100218277, 0.9750843802396616, 0.9277824174042508, 0.7605825286603557, 0.4538473633176765, 0.23516633808786724, 0.9069438664199233, 0.0635920025401463], \"xaxis\": \"x10\", \"y\": [0.09380503798031237, 0.6526759758934895, 0.16152349840004232, 0.25885213526336925, 0.6038155075983096, 0.12444921150278254, 0.4081905383651053, 0.0856447682824103, 0.8698656837212047, 0.7864111638195007, 0.7825385253280719, 0.989285497141012, 0.8095830227158207, 0.7255092100202046, 0.5185601147475711, 0.7689513921723563, 0.5028279886669335, 0.7345196218534636, 0.9744608590874142, 0.4761370202173333, 0.008861147125629354, 0.5388443497493796, 0.6656293463403312, 0.008601059414690582, 0.5135512515383084, 0.9103780677202373, 0.4587111186339282, 0.8372043249635635, 0.03244716148845039, 0.7145399148286244, 0.7799655808965369, 0.9289674543083432, 0.7256487173206256, 0.9437703252058233, 0.3627547895564347, 0.8139754564874104, 0.5132015501603648, 0.8563123536504531, 0.6921533327565024, 0.7240783168468496, 0.5013029903827229, 0.1438874608714732, 0.2295898338029112, 0.800407192342202, 0.5996586667602364, 0.2958846247290571, 0.20650797226437112, 0.14061356476170384, 0.5573955166969558, 0.963371812387484, 0.7846642684329815, 0.3885837088073191, 0.3199160673306567, 0.6420635153603851, 0.35263369966648694, 0.40748220837865257, 0.0897624917034805, 0.5973844642681456, 0.2131835121306419, 0.2475350021599133, 0.9297310288514424, 0.946796227861677, 0.3770217985171824, 0.3783847547891783, 0.9927075369507348, 0.27891584456349794, 0.2880976244887994, 0.09065713586937318, 0.3931040655132225, 0.23669182347192008, 0.15586718917599607, 0.2279235750725791, 0.8796690357075487, 0.5187316084164268, 0.4513832322497191, 0.5540745783395014, 0.04156052807916366, 0.4443462601519005, 0.692901822787496, 0.2248325046412486, 0.9919435185541612, 0.4861547749772823, 0.7754332776359236, 0.6757577201573153, 0.06931940716226204, 0.28647258696927147, 0.4415532672592548, 0.7584892176037682, 0.16823235607768705, 0.6587938768913424, 0.10044053786219476, 0.08476376269583341, 0.543827301225614, 0.4154943916327881, 0.6345508079492399, 0.8164541159085817, 0.10192921003882327, 0.23598578798322323, 0.2715593802185342, 0.950036089672961], \"yaxis\": \"y10\"}, {\"histfunc\": \"count\", \"histnorm\": \"\", \"marker\": {\"color\": \"rgba(50, 171, 96, 1.0)\", \"line\": {\"color\": \"#4D5663\", \"width\": 1.3}}, \"name\": \"C\", \"nbinsx\": 10, \"opacity\": 0.8, \"orientation\": \"v\", \"type\": \"histogram\", \"x\": [0.09380503798031237, 0.6526759758934895, 0.16152349840004232, 0.25885213526336925, 0.6038155075983096, 0.12444921150278254, 0.4081905383651053, 0.0856447682824103, 0.8698656837212047, 0.7864111638195007, 0.7825385253280719, 0.989285497141012, 0.8095830227158207, 0.7255092100202046, 0.5185601147475711, 0.7689513921723563, 0.5028279886669335, 0.7345196218534636, 0.9744608590874142, 0.4761370202173333, 0.008861147125629354, 0.5388443497493796, 0.6656293463403312, 0.008601059414690582, 0.5135512515383084, 0.9103780677202373, 0.4587111186339282, 0.8372043249635635, 0.03244716148845039, 0.7145399148286244, 0.7799655808965369, 0.9289674543083432, 0.7256487173206256, 0.9437703252058233, 0.3627547895564347, 0.8139754564874104, 0.5132015501603648, 0.8563123536504531, 0.6921533327565024, 0.7240783168468496, 0.5013029903827229, 0.1438874608714732, 0.2295898338029112, 0.800407192342202, 0.5996586667602364, 0.2958846247290571, 0.20650797226437112, 0.14061356476170384, 0.5573955166969558, 0.963371812387484, 0.7846642684329815, 0.3885837088073191, 0.3199160673306567, 0.6420635153603851, 0.35263369966648694, 0.40748220837865257, 0.0897624917034805, 0.5973844642681456, 0.2131835121306419, 0.2475350021599133, 0.9297310288514424, 0.946796227861677, 0.3770217985171824, 0.3783847547891783, 0.9927075369507348, 0.27891584456349794, 0.2880976244887994, 0.09065713586937318, 0.3931040655132225, 0.23669182347192008, 0.15586718917599607, 0.2279235750725791, 0.8796690357075487, 0.5187316084164268, 0.4513832322497191, 0.5540745783395014, 0.04156052807916366, 0.4443462601519005, 0.692901822787496, 0.2248325046412486, 0.9919435185541612, 0.4861547749772823, 0.7754332776359236, 0.6757577201573153, 0.06931940716226204, 0.28647258696927147, 0.4415532672592548, 0.7584892176037682, 0.16823235607768705, 0.6587938768913424, 0.10044053786219476, 0.08476376269583341, 0.543827301225614, 0.4154943916327881, 0.6345508079492399, 0.8164541159085817, 0.10192921003882327, 0.23598578798322323, 0.2715593802185342, 0.950036089672961], \"xaxis\": \"x11\", \"yaxis\": \"y11\"}, {\"line\": {\"color\": \"rgba(128, 128, 128, 1.0)\", \"dash\": \"solid\", \"shape\": \"linear\", \"width\": 1.3}, \"marker\": {\"size\": 2, \"symbol\": \"circle\"}, \"mode\": \"markers\", \"name\": \"C\", \"text\": \"\", \"type\": \"scatter\", \"x\": [0.9346393437613366, 0.252958136991432, 0.07003297375437512, 0.3582840478916085, 0.8840384570989815, 0.42538620416837003, 0.8422658213094364, 0.9138359962782545, 0.4911302729029282, 0.34945035754671705, 0.8812835967905034, 0.6333305016978108, 0.6347602581696066, 0.7197170468368065, 0.5788768069373421, 0.2408013204640741, 0.9879324626242971, 0.5164122289856797, 0.3818211226714455, 0.9517789224117948, 0.8835517907989451, 0.22924111559361737, 0.239131370914902, 0.09876930995477295, 0.9888995184554749, 0.747606118899924, 0.39286956582633614, 0.6048409469693944, 0.8620820320927773, 0.35360465402161023, 0.5602058479032207, 0.680728677321006, 0.02901077871292812, 0.9035486638560817, 0.14231539286055106, 0.15553137825302832, 0.793409548594289, 0.5398433929523276, 0.146464282195094, 0.5703799874715035, 0.8044355195012435, 0.7039588028633254, 0.17155165600787747, 0.04757395148304666, 0.4092880199511377, 0.015824593994852587, 0.6064288036517577, 0.6072249260796262, 0.03432881777771024, 0.5343625427188801, 0.851077082381364, 0.9570804516946935, 0.278266331225548, 0.04805602451244784, 0.5807689847525798, 0.30492695492450483, 0.7504567956856679, 0.15821063989633388, 0.44376728077255345, 0.5051110350596844, 0.6846816931403839, 0.5861006841761461, 0.10356669488190007, 0.9759077922327591, 0.11210276544417941, 0.6573715883495088, 0.6870133902678076, 0.4296343693443144, 0.5736519272716726, 0.07873911028793468, 0.08166145378763146, 0.8090912545179954, 0.8128174971281759, 0.11240827128296138, 0.6905433868515691, 0.23378205774432048, 0.005475311723259768, 0.18289043528022209, 0.9616911528717593, 0.7782271907089138, 0.5823571430675251, 0.8436650443121044, 0.24088043001728998, 0.6922955393397364, 0.44671676755200607, 0.20623161274390878, 0.7950234030767607, 0.09158151848464047, 0.7402150155337445, 0.9439766819186408, 0.27504913366297123, 0.22363598114010697, 0.9029881576715304, 0.13608853355236517, 0.8747424842048145, 0.11013924378586093, 0.19182948135356725, 0.7016629627171346, 0.24849790983975306, 0.7747748319967561], \"xaxis\": \"x12\", \"y\": [0.09380503798031237, 0.6526759758934895, 0.16152349840004232, 0.25885213526336925, 0.6038155075983096, 0.12444921150278254, 0.4081905383651053, 0.0856447682824103, 0.8698656837212047, 0.7864111638195007, 0.7825385253280719, 0.989285497141012, 0.8095830227158207, 0.7255092100202046, 0.5185601147475711, 0.7689513921723563, 0.5028279886669335, 0.7345196218534636, 0.9744608590874142, 0.4761370202173333, 0.008861147125629354, 0.5388443497493796, 0.6656293463403312, 0.008601059414690582, 0.5135512515383084, 0.9103780677202373, 0.4587111186339282, 0.8372043249635635, 0.03244716148845039, 0.7145399148286244, 0.7799655808965369, 0.9289674543083432, 0.7256487173206256, 0.9437703252058233, 0.3627547895564347, 0.8139754564874104, 0.5132015501603648, 0.8563123536504531, 0.6921533327565024, 0.7240783168468496, 0.5013029903827229, 0.1438874608714732, 0.2295898338029112, 0.800407192342202, 0.5996586667602364, 0.2958846247290571, 0.20650797226437112, 0.14061356476170384, 0.5573955166969558, 0.963371812387484, 0.7846642684329815, 0.3885837088073191, 0.3199160673306567, 0.6420635153603851, 0.35263369966648694, 0.40748220837865257, 0.0897624917034805, 0.5973844642681456, 0.2131835121306419, 0.2475350021599133, 0.9297310288514424, 0.946796227861677, 0.3770217985171824, 0.3783847547891783, 0.9927075369507348, 0.27891584456349794, 0.2880976244887994, 0.09065713586937318, 0.3931040655132225, 0.23669182347192008, 0.15586718917599607, 0.2279235750725791, 0.8796690357075487, 0.5187316084164268, 0.4513832322497191, 0.5540745783395014, 0.04156052807916366, 0.4443462601519005, 0.692901822787496, 0.2248325046412486, 0.9919435185541612, 0.4861547749772823, 0.7754332776359236, 0.6757577201573153, 0.06931940716226204, 0.28647258696927147, 0.4415532672592548, 0.7584892176037682, 0.16823235607768705, 0.6587938768913424, 0.10044053786219476, 0.08476376269583341, 0.543827301225614, 0.4154943916327881, 0.6345508079492399, 0.8164541159085817, 0.10192921003882327, 0.23598578798322323, 0.2715593802185342, 0.950036089672961], \"yaxis\": \"y12\"}, {\"line\": {\"color\": \"rgba(128, 128, 128, 1.0)\", \"dash\": \"solid\", \"shape\": \"linear\", \"width\": 1.3}, \"marker\": {\"size\": 2, \"symbol\": \"circle\"}, \"mode\": \"markers\", \"name\": \"D\", \"text\": \"\", \"type\": \"scatter\", \"x\": [0.522347272199525, 0.36817438810491, 0.0010112605725656199, 0.9057807174375636, 0.7384316849079128, 0.1591551902131888, 0.183934903423408, 0.21028223913407484, 0.5425235102718765, 0.829885672257394, 0.7519738973190104, 0.44385066073449053, 0.019331177627519902, 0.5493141819077285, 0.43307252891392767, 0.9682569387990952, 0.11384486841087482, 0.1590031755729575, 0.2169754925882097, 0.5190633136071182, 0.6609987922208981, 0.7035280901951679, 0.3382248559583705, 0.21615833703988963, 0.3846361972132023, 0.055377027460866035, 0.5234708831540881, 0.684563444434096, 0.7089472904480765, 0.613459906336003, 0.024396710654762233, 0.863173763520489, 0.07096952088354769, 0.2847928024195078, 0.8333035039784051, 0.21383937024242794, 0.2758222933337888, 0.7831230087068312, 0.8516095108356362, 0.7137903428534593, 0.6330296758278816, 0.06523375411443222, 0.16252955476389142, 0.3412202916179925, 0.6962010444797161, 0.8409563865781624, 0.30669072720402835, 0.3725501743663695, 0.1946819498048723, 0.17228845089530231, 0.2568958156082274, 0.1534823782996152, 0.9486771411358706, 0.25786083917786273, 0.22917003023574523, 0.5037887336139055, 0.7901287685428313, 0.6573510576728744, 0.7684124144914483, 0.014870731222623168, 0.6715626271577866, 0.010697629160978939, 0.001866724770348549, 0.19855030665887508, 0.1746506780786472, 0.40914788030905846, 0.2777894983058271, 0.4084550388889513, 0.48623574463775054, 0.6979433401930659, 0.7989290510929793, 0.7582910228703558, 0.46838736729978614, 0.057922779673538094, 0.6559701305443183, 0.12023603801724625, 0.3382097627565869, 0.86046125257498, 0.5613916849013729, 0.42542919093183773, 0.3122730418753221, 0.014989821263473702, 0.4333077153710524, 0.5004352265082898, 0.05414301370623442, 0.5717783526285637, 0.8772586029905328, 0.22266512257475657, 0.5068896410400924, 0.06552324721531144, 0.5373357865127935, 0.7467424313884923, 0.9567202371927418, 0.3964129865509076, 0.31767853175412575, 0.14119743542373886, 0.6185496464600199, 0.40141784167385464, 0.2307858594556288, 0.13704215385049778], \"xaxis\": \"x13\", \"y\": [0.9346393437613366, 0.252958136991432, 0.07003297375437512, 0.3582840478916085, 0.8840384570989815, 0.42538620416837003, 0.8422658213094364, 0.9138359962782545, 0.4911302729029282, 0.34945035754671705, 0.8812835967905034, 0.6333305016978108, 0.6347602581696066, 0.7197170468368065, 0.5788768069373421, 0.2408013204640741, 0.9879324626242971, 0.5164122289856797, 0.3818211226714455, 0.9517789224117948, 0.8835517907989451, 0.22924111559361737, 0.239131370914902, 0.09876930995477295, 0.9888995184554749, 0.747606118899924, 0.39286956582633614, 0.6048409469693944, 0.8620820320927773, 0.35360465402161023, 0.5602058479032207, 0.680728677321006, 0.02901077871292812, 0.9035486638560817, 0.14231539286055106, 0.15553137825302832, 0.793409548594289, 0.5398433929523276, 0.146464282195094, 0.5703799874715035, 0.8044355195012435, 0.7039588028633254, 0.17155165600787747, 0.04757395148304666, 0.4092880199511377, 0.015824593994852587, 0.6064288036517577, 0.6072249260796262, 0.03432881777771024, 0.5343625427188801, 0.851077082381364, 0.9570804516946935, 0.278266331225548, 0.04805602451244784, 0.5807689847525798, 0.30492695492450483, 0.7504567956856679, 0.15821063989633388, 0.44376728077255345, 0.5051110350596844, 0.6846816931403839, 0.5861006841761461, 0.10356669488190007, 0.9759077922327591, 0.11210276544417941, 0.6573715883495088, 0.6870133902678076, 0.4296343693443144, 0.5736519272716726, 0.07873911028793468, 0.08166145378763146, 0.8090912545179954, 0.8128174971281759, 0.11240827128296138, 0.6905433868515691, 0.23378205774432048, 0.005475311723259768, 0.18289043528022209, 0.9616911528717593, 0.7782271907089138, 0.5823571430675251, 0.8436650443121044, 0.24088043001728998, 0.6922955393397364, 0.44671676755200607, 0.20623161274390878, 0.7950234030767607, 0.09158151848464047, 0.7402150155337445, 0.9439766819186408, 0.27504913366297123, 0.22363598114010697, 0.9029881576715304, 0.13608853355236517, 0.8747424842048145, 0.11013924378586093, 0.19182948135356725, 0.7016629627171346, 0.24849790983975306, 0.7747748319967561], \"yaxis\": \"y13\"}, {\"line\": {\"color\": \"rgba(128, 128, 128, 1.0)\", \"dash\": \"solid\", \"shape\": \"linear\", \"width\": 1.3}, \"marker\": {\"size\": 2, \"symbol\": \"circle\"}, \"mode\": \"markers\", \"name\": \"D\", \"text\": \"\", \"type\": \"scatter\", \"x\": [0.6223770751356761, 0.3416445020886866, 0.9971754580323123, 0.9950524972421991, 0.139706690041413, 0.97337753397297, 0.17019811188026457, 0.13297246149589348, 0.5112700763585448, 0.5231345078299766, 0.6401770475525225, 0.8486728789085054, 0.32960172011473265, 0.5535922186753318, 0.5979005822666698, 0.9802069118862393, 0.6935871528877221, 0.6805848666048713, 0.24598940851936357, 0.4282626059838952, 0.19127605696467853, 0.6225268191350222, 0.23320264078302066, 0.48933844966190876, 0.21942404016854, 0.851209187484054, 0.8077751381648538, 0.4695841707826717, 0.5260616156288477, 0.6871504323636946, 0.22725204415995914, 0.7974082952586401, 0.8741857461914679, 0.3221236227529417, 0.685973331967647, 0.42063010160291725, 0.007343915548235769, 0.9092139571979199, 0.024532211610490018, 0.8274006503674203, 0.4320308212969496, 0.9480716795505977, 0.5557150798236625, 0.40842131707276563, 0.4639352220958872, 0.1449430807398373, 0.3374661160817264, 0.8766276775722553, 0.7714800171519953, 0.46581484015568697, 0.9612034584567597, 0.7520318786681476, 0.4571010307621315, 0.7886553394413793, 0.5670803172017644, 0.902855913290173, 0.1946403073620262, 0.9279093748297184, 0.6488904817389123, 0.78642792635236, 0.092469853089296, 0.14206876541118296, 0.35209955641330803, 0.3565475695518735, 0.6190868391571726, 0.9774504503283681, 0.7475599926339814, 0.812659821012732, 0.08391659033449617, 0.3594271806040815, 0.09314230103499987, 0.9929089666406649, 0.5102785105053524, 0.9325615962779351, 0.5279940897747859, 0.558417503387099, 0.8471234593254293, 0.8215181676643304, 0.4694068589509176, 0.07913988689432694, 0.3516123599742621, 0.8533595285215351, 0.008119480528145484, 0.646087726094201, 0.14199480209371362, 0.2699901803856761, 0.7143113007959809, 0.6206335350655173, 0.7141016055659357, 0.047068041441382436, 0.9223009538279476, 0.09446291161536402, 0.9489886100218277, 0.9750843802396616, 0.9277824174042508, 0.7605825286603557, 0.4538473633176765, 0.23516633808786724, 0.9069438664199233, 0.0635920025401463], \"xaxis\": \"x14\", \"y\": [0.9346393437613366, 0.252958136991432, 0.07003297375437512, 0.3582840478916085, 0.8840384570989815, 0.42538620416837003, 0.8422658213094364, 0.9138359962782545, 0.4911302729029282, 0.34945035754671705, 0.8812835967905034, 0.6333305016978108, 0.6347602581696066, 0.7197170468368065, 0.5788768069373421, 0.2408013204640741, 0.9879324626242971, 0.5164122289856797, 0.3818211226714455, 0.9517789224117948, 0.8835517907989451, 0.22924111559361737, 0.239131370914902, 0.09876930995477295, 0.9888995184554749, 0.747606118899924, 0.39286956582633614, 0.6048409469693944, 0.8620820320927773, 0.35360465402161023, 0.5602058479032207, 0.680728677321006, 0.02901077871292812, 0.9035486638560817, 0.14231539286055106, 0.15553137825302832, 0.793409548594289, 0.5398433929523276, 0.146464282195094, 0.5703799874715035, 0.8044355195012435, 0.7039588028633254, 0.17155165600787747, 0.04757395148304666, 0.4092880199511377, 0.015824593994852587, 0.6064288036517577, 0.6072249260796262, 0.03432881777771024, 0.5343625427188801, 0.851077082381364, 0.9570804516946935, 0.278266331225548, 0.04805602451244784, 0.5807689847525798, 0.30492695492450483, 0.7504567956856679, 0.15821063989633388, 0.44376728077255345, 0.5051110350596844, 0.6846816931403839, 0.5861006841761461, 0.10356669488190007, 0.9759077922327591, 0.11210276544417941, 0.6573715883495088, 0.6870133902678076, 0.4296343693443144, 0.5736519272716726, 0.07873911028793468, 0.08166145378763146, 0.8090912545179954, 0.8128174971281759, 0.11240827128296138, 0.6905433868515691, 0.23378205774432048, 0.005475311723259768, 0.18289043528022209, 0.9616911528717593, 0.7782271907089138, 0.5823571430675251, 0.8436650443121044, 0.24088043001728998, 0.6922955393397364, 0.44671676755200607, 0.20623161274390878, 0.7950234030767607, 0.09158151848464047, 0.7402150155337445, 0.9439766819186408, 0.27504913366297123, 0.22363598114010697, 0.9029881576715304, 0.13608853355236517, 0.8747424842048145, 0.11013924378586093, 0.19182948135356725, 0.7016629627171346, 0.24849790983975306, 0.7747748319967561], \"yaxis\": \"y14\"}, {\"line\": {\"color\": \"rgba(128, 128, 128, 1.0)\", \"dash\": \"solid\", \"shape\": \"linear\", \"width\": 1.3}, \"marker\": {\"size\": 2, \"symbol\": \"circle\"}, \"mode\": \"markers\", \"name\": \"D\", \"text\": \"\", \"type\": \"scatter\", \"x\": [0.09380503798031237, 0.6526759758934895, 0.16152349840004232, 0.25885213526336925, 0.6038155075983096, 0.12444921150278254, 0.4081905383651053, 0.0856447682824103, 0.8698656837212047, 0.7864111638195007, 0.7825385253280719, 0.989285497141012, 0.8095830227158207, 0.7255092100202046, 0.5185601147475711, 0.7689513921723563, 0.5028279886669335, 0.7345196218534636, 0.9744608590874142, 0.4761370202173333, 0.008861147125629354, 0.5388443497493796, 0.6656293463403312, 0.008601059414690582, 0.5135512515383084, 0.9103780677202373, 0.4587111186339282, 0.8372043249635635, 0.03244716148845039, 0.7145399148286244, 0.7799655808965369, 0.9289674543083432, 0.7256487173206256, 0.9437703252058233, 0.3627547895564347, 0.8139754564874104, 0.5132015501603648, 0.8563123536504531, 0.6921533327565024, 0.7240783168468496, 0.5013029903827229, 0.1438874608714732, 0.2295898338029112, 0.800407192342202, 0.5996586667602364, 0.2958846247290571, 0.20650797226437112, 0.14061356476170384, 0.5573955166969558, 0.963371812387484, 0.7846642684329815, 0.3885837088073191, 0.3199160673306567, 0.6420635153603851, 0.35263369966648694, 0.40748220837865257, 0.0897624917034805, 0.5973844642681456, 0.2131835121306419, 0.2475350021599133, 0.9297310288514424, 0.946796227861677, 0.3770217985171824, 0.3783847547891783, 0.9927075369507348, 0.27891584456349794, 0.2880976244887994, 0.09065713586937318, 0.3931040655132225, 0.23669182347192008, 0.15586718917599607, 0.2279235750725791, 0.8796690357075487, 0.5187316084164268, 0.4513832322497191, 0.5540745783395014, 0.04156052807916366, 0.4443462601519005, 0.692901822787496, 0.2248325046412486, 0.9919435185541612, 0.4861547749772823, 0.7754332776359236, 0.6757577201573153, 0.06931940716226204, 0.28647258696927147, 0.4415532672592548, 0.7584892176037682, 0.16823235607768705, 0.6587938768913424, 0.10044053786219476, 0.08476376269583341, 0.543827301225614, 0.4154943916327881, 0.6345508079492399, 0.8164541159085817, 0.10192921003882327, 0.23598578798322323, 0.2715593802185342, 0.950036089672961], \"xaxis\": \"x15\", \"y\": [0.9346393437613366, 0.252958136991432, 0.07003297375437512, 0.3582840478916085, 0.8840384570989815, 0.42538620416837003, 0.8422658213094364, 0.9138359962782545, 0.4911302729029282, 0.34945035754671705, 0.8812835967905034, 0.6333305016978108, 0.6347602581696066, 0.7197170468368065, 0.5788768069373421, 0.2408013204640741, 0.9879324626242971, 0.5164122289856797, 0.3818211226714455, 0.9517789224117948, 0.8835517907989451, 0.22924111559361737, 0.239131370914902, 0.09876930995477295, 0.9888995184554749, 0.747606118899924, 0.39286956582633614, 0.6048409469693944, 0.8620820320927773, 0.35360465402161023, 0.5602058479032207, 0.680728677321006, 0.02901077871292812, 0.9035486638560817, 0.14231539286055106, 0.15553137825302832, 0.793409548594289, 0.5398433929523276, 0.146464282195094, 0.5703799874715035, 0.8044355195012435, 0.7039588028633254, 0.17155165600787747, 0.04757395148304666, 0.4092880199511377, 0.015824593994852587, 0.6064288036517577, 0.6072249260796262, 0.03432881777771024, 0.5343625427188801, 0.851077082381364, 0.9570804516946935, 0.278266331225548, 0.04805602451244784, 0.5807689847525798, 0.30492695492450483, 0.7504567956856679, 0.15821063989633388, 0.44376728077255345, 0.5051110350596844, 0.6846816931403839, 0.5861006841761461, 0.10356669488190007, 0.9759077922327591, 0.11210276544417941, 0.6573715883495088, 0.6870133902678076, 0.4296343693443144, 0.5736519272716726, 0.07873911028793468, 0.08166145378763146, 0.8090912545179954, 0.8128174971281759, 0.11240827128296138, 0.6905433868515691, 0.23378205774432048, 0.005475311723259768, 0.18289043528022209, 0.9616911528717593, 0.7782271907089138, 0.5823571430675251, 0.8436650443121044, 0.24088043001728998, 0.6922955393397364, 0.44671676755200607, 0.20623161274390878, 0.7950234030767607, 0.09158151848464047, 0.7402150155337445, 0.9439766819186408, 0.27504913366297123, 0.22363598114010697, 0.9029881576715304, 0.13608853355236517, 0.8747424842048145, 0.11013924378586093, 0.19182948135356725, 0.7016629627171346, 0.24849790983975306, 0.7747748319967561], \"yaxis\": \"y15\"}, {\"histfunc\": \"count\", \"histnorm\": \"\", \"marker\": {\"color\": \"rgba(128, 0, 128, 1.0)\", \"line\": {\"color\": \"#4D5663\", \"width\": 1.3}}, \"name\": \"D\", \"nbinsx\": 10, \"opacity\": 0.8, \"orientation\": \"v\", \"type\": \"histogram\", \"x\": [0.9346393437613366, 0.252958136991432, 0.07003297375437512, 0.3582840478916085, 0.8840384570989815, 0.42538620416837003, 0.8422658213094364, 0.9138359962782545, 0.4911302729029282, 0.34945035754671705, 0.8812835967905034, 0.6333305016978108, 0.6347602581696066, 0.7197170468368065, 0.5788768069373421, 0.2408013204640741, 0.9879324626242971, 0.5164122289856797, 0.3818211226714455, 0.9517789224117948, 0.8835517907989451, 0.22924111559361737, 0.239131370914902, 0.09876930995477295, 0.9888995184554749, 0.747606118899924, 0.39286956582633614, 0.6048409469693944, 0.8620820320927773, 0.35360465402161023, 0.5602058479032207, 0.680728677321006, 0.02901077871292812, 0.9035486638560817, 0.14231539286055106, 0.15553137825302832, 0.793409548594289, 0.5398433929523276, 0.146464282195094, 0.5703799874715035, 0.8044355195012435, 0.7039588028633254, 0.17155165600787747, 0.04757395148304666, 0.4092880199511377, 0.015824593994852587, 0.6064288036517577, 0.6072249260796262, 0.03432881777771024, 0.5343625427188801, 0.851077082381364, 0.9570804516946935, 0.278266331225548, 0.04805602451244784, 0.5807689847525798, 0.30492695492450483, 0.7504567956856679, 0.15821063989633388, 0.44376728077255345, 0.5051110350596844, 0.6846816931403839, 0.5861006841761461, 0.10356669488190007, 0.9759077922327591, 0.11210276544417941, 0.6573715883495088, 0.6870133902678076, 0.4296343693443144, 0.5736519272716726, 0.07873911028793468, 0.08166145378763146, 0.8090912545179954, 0.8128174971281759, 0.11240827128296138, 0.6905433868515691, 0.23378205774432048, 0.005475311723259768, 0.18289043528022209, 0.9616911528717593, 0.7782271907089138, 0.5823571430675251, 0.8436650443121044, 0.24088043001728998, 0.6922955393397364, 0.44671676755200607, 0.20623161274390878, 0.7950234030767607, 0.09158151848464047, 0.7402150155337445, 0.9439766819186408, 0.27504913366297123, 0.22363598114010697, 0.9029881576715304, 0.13608853355236517, 0.8747424842048145, 0.11013924378586093, 0.19182948135356725, 0.7016629627171346, 0.24849790983975306, 0.7747748319967561], \"xaxis\": \"x16\", \"yaxis\": \"y16\"}],                        {\"bargap\": 0.02, \"legend\": {\"bgcolor\": \"#F5F6F9\", \"font\": {\"color\": \"#4D5663\"}}, \"paper_bgcolor\": \"#F5F6F9\", \"plot_bgcolor\": \"#F5F6F9\", \"showlegend\": false, \"template\": {\"data\": {\"bar\": [{\"error_x\": {\"color\": \"#2a3f5f\"}, \"error_y\": {\"color\": \"#2a3f5f\"}, \"marker\": {\"line\": {\"color\": \"#E5ECF6\", \"width\": 0.5}}, \"type\": \"bar\"}], \"barpolar\": [{\"marker\": {\"line\": {\"color\": \"#E5ECF6\", \"width\": 0.5}}, \"type\": \"barpolar\"}], \"carpet\": [{\"aaxis\": {\"endlinecolor\": \"#2a3f5f\", \"gridcolor\": \"white\", \"linecolor\": \"white\", \"minorgridcolor\": \"white\", \"startlinecolor\": \"#2a3f5f\"}, \"baxis\": {\"endlinecolor\": \"#2a3f5f\", \"gridcolor\": \"white\", \"linecolor\": \"white\", \"minorgridcolor\": \"white\", \"startlinecolor\": \"#2a3f5f\"}, \"type\": \"carpet\"}], \"choropleth\": [{\"colorbar\": {\"outlinewidth\": 0, \"ticks\": \"\"}, \"type\": \"choropleth\"}], \"contour\": [{\"colorbar\": {\"outlinewidth\": 0, \"ticks\": \"\"}, \"colorscale\": [[0.0, \"#0d0887\"], [0.1111111111111111, \"#46039f\"], [0.2222222222222222, \"#7201a8\"], [0.3333333333333333, \"#9c179e\"], [0.4444444444444444, \"#bd3786\"], [0.5555555555555556, \"#d8576b\"], [0.6666666666666666, \"#ed7953\"], [0.7777777777777778, \"#fb9f3a\"], [0.8888888888888888, \"#fdca26\"], [1.0, \"#f0f921\"]], \"type\": \"contour\"}], \"contourcarpet\": [{\"colorbar\": {\"outlinewidth\": 0, \"ticks\": \"\"}, \"type\": \"contourcarpet\"}], \"heatmap\": [{\"colorbar\": {\"outlinewidth\": 0, \"ticks\": \"\"}, \"colorscale\": [[0.0, \"#0d0887\"], [0.1111111111111111, \"#46039f\"], [0.2222222222222222, \"#7201a8\"], [0.3333333333333333, \"#9c179e\"], [0.4444444444444444, \"#bd3786\"], [0.5555555555555556, \"#d8576b\"], [0.6666666666666666, \"#ed7953\"], [0.7777777777777778, \"#fb9f3a\"], [0.8888888888888888, \"#fdca26\"], [1.0, \"#f0f921\"]], \"type\": \"heatmap\"}], \"heatmapgl\": [{\"colorbar\": {\"outlinewidth\": 0, \"ticks\": \"\"}, \"colorscale\": [[0.0, \"#0d0887\"], [0.1111111111111111, \"#46039f\"], [0.2222222222222222, \"#7201a8\"], [0.3333333333333333, \"#9c179e\"], [0.4444444444444444, \"#bd3786\"], [0.5555555555555556, \"#d8576b\"], [0.6666666666666666, \"#ed7953\"], [0.7777777777777778, \"#fb9f3a\"], [0.8888888888888888, \"#fdca26\"], [1.0, \"#f0f921\"]], \"type\": \"heatmapgl\"}], \"histogram\": [{\"marker\": {\"colorbar\": {\"outlinewidth\": 0, \"ticks\": \"\"}}, \"type\": \"histogram\"}], \"histogram2d\": [{\"colorbar\": {\"outlinewidth\": 0, \"ticks\": \"\"}, \"colorscale\": [[0.0, \"#0d0887\"], [0.1111111111111111, \"#46039f\"], [0.2222222222222222, \"#7201a8\"], [0.3333333333333333, \"#9c179e\"], [0.4444444444444444, \"#bd3786\"], [0.5555555555555556, \"#d8576b\"], [0.6666666666666666, \"#ed7953\"], [0.7777777777777778, \"#fb9f3a\"], [0.8888888888888888, \"#fdca26\"], [1.0, \"#f0f921\"]], \"type\": \"histogram2d\"}], \"histogram2dcontour\": [{\"colorbar\": {\"outlinewidth\": 0, \"ticks\": \"\"}, \"colorscale\": [[0.0, \"#0d0887\"], [0.1111111111111111, \"#46039f\"], [0.2222222222222222, \"#7201a8\"], [0.3333333333333333, \"#9c179e\"], [0.4444444444444444, \"#bd3786\"], [0.5555555555555556, \"#d8576b\"], [0.6666666666666666, \"#ed7953\"], [0.7777777777777778, \"#fb9f3a\"], [0.8888888888888888, \"#fdca26\"], [1.0, \"#f0f921\"]], \"type\": \"histogram2dcontour\"}], \"mesh3d\": [{\"colorbar\": {\"outlinewidth\": 0, \"ticks\": \"\"}, \"type\": \"mesh3d\"}], \"parcoords\": [{\"line\": {\"colorbar\": {\"outlinewidth\": 0, \"ticks\": \"\"}}, \"type\": \"parcoords\"}], \"pie\": [{\"automargin\": true, \"type\": \"pie\"}], \"scatter\": [{\"marker\": {\"colorbar\": {\"outlinewidth\": 0, \"ticks\": \"\"}}, \"type\": \"scatter\"}], \"scatter3d\": [{\"line\": {\"colorbar\": {\"outlinewidth\": 0, \"ticks\": \"\"}}, \"marker\": {\"colorbar\": {\"outlinewidth\": 0, \"ticks\": \"\"}}, \"type\": \"scatter3d\"}], \"scattercarpet\": [{\"marker\": {\"colorbar\": {\"outlinewidth\": 0, \"ticks\": \"\"}}, \"type\": \"scattercarpet\"}], \"scattergeo\": [{\"marker\": {\"colorbar\": {\"outlinewidth\": 0, \"ticks\": \"\"}}, \"type\": \"scattergeo\"}], \"scattergl\": [{\"marker\": {\"colorbar\": {\"outlinewidth\": 0, \"ticks\": \"\"}}, \"type\": \"scattergl\"}], \"scattermapbox\": [{\"marker\": {\"colorbar\": {\"outlinewidth\": 0, \"ticks\": \"\"}}, \"type\": \"scattermapbox\"}], \"scatterpolar\": [{\"marker\": {\"colorbar\": {\"outlinewidth\": 0, \"ticks\": \"\"}}, \"type\": \"scatterpolar\"}], \"scatterpolargl\": [{\"marker\": {\"colorbar\": {\"outlinewidth\": 0, \"ticks\": \"\"}}, \"type\": \"scatterpolargl\"}], \"scatterternary\": [{\"marker\": {\"colorbar\": {\"outlinewidth\": 0, \"ticks\": \"\"}}, \"type\": \"scatterternary\"}], \"surface\": [{\"colorbar\": {\"outlinewidth\": 0, \"ticks\": \"\"}, \"colorscale\": [[0.0, \"#0d0887\"], [0.1111111111111111, \"#46039f\"], [0.2222222222222222, \"#7201a8\"], [0.3333333333333333, \"#9c179e\"], [0.4444444444444444, \"#bd3786\"], [0.5555555555555556, \"#d8576b\"], [0.6666666666666666, \"#ed7953\"], [0.7777777777777778, \"#fb9f3a\"], [0.8888888888888888, \"#fdca26\"], [1.0, \"#f0f921\"]], \"type\": \"surface\"}], \"table\": [{\"cells\": {\"fill\": {\"color\": \"#EBF0F8\"}, \"line\": {\"color\": \"white\"}}, \"header\": {\"fill\": {\"color\": \"#C8D4E3\"}, \"line\": {\"color\": \"white\"}}, \"type\": \"table\"}]}, \"layout\": {\"annotationdefaults\": {\"arrowcolor\": \"#2a3f5f\", \"arrowhead\": 0, \"arrowwidth\": 1}, \"autotypenumbers\": \"strict\", \"coloraxis\": {\"colorbar\": {\"outlinewidth\": 0, \"ticks\": \"\"}}, \"colorscale\": {\"diverging\": [[0, \"#8e0152\"], [0.1, \"#c51b7d\"], [0.2, \"#de77ae\"], [0.3, \"#f1b6da\"], [0.4, \"#fde0ef\"], [0.5, \"#f7f7f7\"], [0.6, \"#e6f5d0\"], [0.7, \"#b8e186\"], [0.8, \"#7fbc41\"], [0.9, \"#4d9221\"], [1, \"#276419\"]], \"sequential\": [[0.0, \"#0d0887\"], [0.1111111111111111, \"#46039f\"], [0.2222222222222222, \"#7201a8\"], [0.3333333333333333, \"#9c179e\"], [0.4444444444444444, \"#bd3786\"], [0.5555555555555556, \"#d8576b\"], [0.6666666666666666, \"#ed7953\"], [0.7777777777777778, \"#fb9f3a\"], [0.8888888888888888, \"#fdca26\"], [1.0, \"#f0f921\"]], \"sequentialminus\": [[0.0, \"#0d0887\"], [0.1111111111111111, \"#46039f\"], [0.2222222222222222, \"#7201a8\"], [0.3333333333333333, \"#9c179e\"], [0.4444444444444444, \"#bd3786\"], [0.5555555555555556, \"#d8576b\"], [0.6666666666666666, \"#ed7953\"], [0.7777777777777778, \"#fb9f3a\"], [0.8888888888888888, \"#fdca26\"], [1.0, \"#f0f921\"]]}, \"colorway\": [\"#636efa\", \"#EF553B\", \"#00cc96\", \"#ab63fa\", \"#FFA15A\", \"#19d3f3\", \"#FF6692\", \"#B6E880\", \"#FF97FF\", \"#FECB52\"], \"font\": {\"color\": \"#2a3f5f\"}, \"geo\": {\"bgcolor\": \"white\", \"lakecolor\": \"white\", \"landcolor\": \"#E5ECF6\", \"showlakes\": true, \"showland\": true, \"subunitcolor\": \"white\"}, \"hoverlabel\": {\"align\": \"left\"}, \"hovermode\": \"closest\", \"mapbox\": {\"style\": \"light\"}, \"paper_bgcolor\": \"white\", \"plot_bgcolor\": \"#E5ECF6\", \"polar\": {\"angularaxis\": {\"gridcolor\": \"white\", \"linecolor\": \"white\", \"ticks\": \"\"}, \"bgcolor\": \"#E5ECF6\", \"radialaxis\": {\"gridcolor\": \"white\", \"linecolor\": \"white\", \"ticks\": \"\"}}, \"scene\": {\"xaxis\": {\"backgroundcolor\": \"#E5ECF6\", \"gridcolor\": \"white\", \"gridwidth\": 2, \"linecolor\": \"white\", \"showbackground\": true, \"ticks\": \"\", \"zerolinecolor\": \"white\"}, \"yaxis\": {\"backgroundcolor\": \"#E5ECF6\", \"gridcolor\": \"white\", \"gridwidth\": 2, \"linecolor\": \"white\", \"showbackground\": true, \"ticks\": \"\", \"zerolinecolor\": \"white\"}, \"zaxis\": {\"backgroundcolor\": \"#E5ECF6\", \"gridcolor\": \"white\", \"gridwidth\": 2, \"linecolor\": \"white\", \"showbackground\": true, \"ticks\": \"\", \"zerolinecolor\": \"white\"}}, \"shapedefaults\": {\"line\": {\"color\": \"#2a3f5f\"}}, \"ternary\": {\"aaxis\": {\"gridcolor\": \"white\", \"linecolor\": \"white\", \"ticks\": \"\"}, \"baxis\": {\"gridcolor\": \"white\", \"linecolor\": \"white\", \"ticks\": \"\"}, \"bgcolor\": \"#E5ECF6\", \"caxis\": {\"gridcolor\": \"white\", \"linecolor\": \"white\", \"ticks\": \"\"}}, \"title\": {\"x\": 0.05}, \"xaxis\": {\"automargin\": true, \"gridcolor\": \"white\", \"linecolor\": \"white\", \"ticks\": \"\", \"title\": {\"standoff\": 15}, \"zerolinecolor\": \"white\", \"zerolinewidth\": 2}, \"yaxis\": {\"automargin\": true, \"gridcolor\": \"white\", \"linecolor\": \"white\", \"ticks\": \"\", \"title\": {\"standoff\": 15}, \"zerolinecolor\": \"white\", \"zerolinewidth\": 2}}}, \"title\": {\"font\": {\"color\": \"#4D5663\"}}, \"xaxis\": {\"anchor\": \"y\", \"domain\": [0.0, 0.2125], \"gridcolor\": \"#E1E5ED\", \"showgrid\": false, \"tickfont\": {\"color\": \"#4D5663\"}, \"title\": {\"font\": {\"color\": \"#4D5663\"}, \"text\": \"\"}, \"zerolinecolor\": \"#E1E5ED\"}, \"xaxis10\": {\"anchor\": \"y10\", \"domain\": [0.2625, 0.475], \"gridcolor\": \"#E1E5ED\", \"showgrid\": false, \"tickfont\": {\"color\": \"#4D5663\"}, \"title\": {\"font\": {\"color\": \"#4D5663\"}, \"text\": \"\"}, \"zerolinecolor\": \"#E1E5ED\"}, \"xaxis11\": {\"anchor\": \"y11\", \"domain\": [0.525, 0.7375], \"gridcolor\": \"#E1E5ED\", \"showgrid\": false, \"tickfont\": {\"color\": \"#4D5663\"}, \"title\": {\"font\": {\"color\": \"#4D5663\"}, \"text\": \"\"}, \"zerolinecolor\": \"#E1E5ED\"}, \"xaxis12\": {\"anchor\": \"y12\", \"domain\": [0.7875, 1.0], \"gridcolor\": \"#E1E5ED\", \"showgrid\": false, \"tickfont\": {\"color\": \"#4D5663\"}, \"title\": {\"font\": {\"color\": \"#4D5663\"}, \"text\": \"\"}, \"zerolinecolor\": \"#E1E5ED\"}, \"xaxis13\": {\"anchor\": \"y13\", \"domain\": [0.0, 0.2125], \"gridcolor\": \"#E1E5ED\", \"showgrid\": false, \"tickfont\": {\"color\": \"#4D5663\"}, \"title\": {\"font\": {\"color\": \"#4D5663\"}, \"text\": \"\"}, \"zerolinecolor\": \"#E1E5ED\"}, \"xaxis14\": {\"anchor\": \"y14\", \"domain\": [0.2625, 0.475], \"gridcolor\": \"#E1E5ED\", \"showgrid\": false, \"tickfont\": {\"color\": \"#4D5663\"}, \"title\": {\"font\": {\"color\": \"#4D5663\"}, \"text\": \"\"}, \"zerolinecolor\": \"#E1E5ED\"}, \"xaxis15\": {\"anchor\": \"y15\", \"domain\": [0.525, 0.7375], \"gridcolor\": \"#E1E5ED\", \"showgrid\": false, \"tickfont\": {\"color\": \"#4D5663\"}, \"title\": {\"font\": {\"color\": \"#4D5663\"}, \"text\": \"\"}, \"zerolinecolor\": \"#E1E5ED\"}, \"xaxis16\": {\"anchor\": \"y16\", \"domain\": [0.7875, 1.0], \"gridcolor\": \"#E1E5ED\", \"showgrid\": false, \"tickfont\": {\"color\": \"#4D5663\"}, \"title\": {\"font\": {\"color\": \"#4D5663\"}, \"text\": \"\"}, \"zerolinecolor\": \"#E1E5ED\"}, \"xaxis2\": {\"anchor\": \"y2\", \"domain\": [0.2625, 0.475], \"gridcolor\": \"#E1E5ED\", \"showgrid\": false, \"tickfont\": {\"color\": \"#4D5663\"}, \"title\": {\"font\": {\"color\": \"#4D5663\"}, \"text\": \"\"}, \"zerolinecolor\": \"#E1E5ED\"}, \"xaxis3\": {\"anchor\": \"y3\", \"domain\": [0.525, 0.7375], \"gridcolor\": \"#E1E5ED\", \"showgrid\": false, \"tickfont\": {\"color\": \"#4D5663\"}, \"title\": {\"font\": {\"color\": \"#4D5663\"}, \"text\": \"\"}, \"zerolinecolor\": \"#E1E5ED\"}, \"xaxis4\": {\"anchor\": \"y4\", \"domain\": [0.7875, 1.0], \"gridcolor\": \"#E1E5ED\", \"showgrid\": false, \"tickfont\": {\"color\": \"#4D5663\"}, \"title\": {\"font\": {\"color\": \"#4D5663\"}, \"text\": \"\"}, \"zerolinecolor\": \"#E1E5ED\"}, \"xaxis5\": {\"anchor\": \"y5\", \"domain\": [0.0, 0.2125], \"gridcolor\": \"#E1E5ED\", \"showgrid\": false, \"tickfont\": {\"color\": \"#4D5663\"}, \"title\": {\"font\": {\"color\": \"#4D5663\"}, \"text\": \"\"}, \"zerolinecolor\": \"#E1E5ED\"}, \"xaxis6\": {\"anchor\": \"y6\", \"domain\": [0.2625, 0.475], \"gridcolor\": \"#E1E5ED\", \"showgrid\": false, \"tickfont\": {\"color\": \"#4D5663\"}, \"title\": {\"font\": {\"color\": \"#4D5663\"}, \"text\": \"\"}, \"zerolinecolor\": \"#E1E5ED\"}, \"xaxis7\": {\"anchor\": \"y7\", \"domain\": [0.525, 0.7375], \"gridcolor\": \"#E1E5ED\", \"showgrid\": false, \"tickfont\": {\"color\": \"#4D5663\"}, \"title\": {\"font\": {\"color\": \"#4D5663\"}, \"text\": \"\"}, \"zerolinecolor\": \"#E1E5ED\"}, \"xaxis8\": {\"anchor\": \"y8\", \"domain\": [0.7875, 1.0], \"gridcolor\": \"#E1E5ED\", \"showgrid\": false, \"tickfont\": {\"color\": \"#4D5663\"}, \"title\": {\"font\": {\"color\": \"#4D5663\"}, \"text\": \"\"}, \"zerolinecolor\": \"#E1E5ED\"}, \"xaxis9\": {\"anchor\": \"y9\", \"domain\": [0.0, 0.2125], \"gridcolor\": \"#E1E5ED\", \"showgrid\": false, \"tickfont\": {\"color\": \"#4D5663\"}, \"title\": {\"font\": {\"color\": \"#4D5663\"}, \"text\": \"\"}, \"zerolinecolor\": \"#E1E5ED\"}, \"yaxis\": {\"anchor\": \"x\", \"domain\": [0.8025, 1.0], \"gridcolor\": \"#E1E5ED\", \"showgrid\": false, \"tickfont\": {\"color\": \"#4D5663\"}, \"title\": {\"font\": {\"color\": \"#4D5663\"}, \"text\": \"\"}, \"zerolinecolor\": \"#E1E5ED\"}, \"yaxis10\": {\"anchor\": \"x10\", \"domain\": [0.2675, 0.465], \"gridcolor\": \"#E1E5ED\", \"showgrid\": false, \"tickfont\": {\"color\": \"#4D5663\"}, \"title\": {\"font\": {\"color\": \"#4D5663\"}, \"text\": \"\"}, \"zerolinecolor\": \"#E1E5ED\"}, \"yaxis11\": {\"anchor\": \"x11\", \"domain\": [0.2675, 0.465], \"gridcolor\": \"#E1E5ED\", \"showgrid\": false, \"tickfont\": {\"color\": \"#4D5663\"}, \"title\": {\"font\": {\"color\": \"#4D5663\"}, \"text\": \"\"}, \"zerolinecolor\": \"#E1E5ED\"}, \"yaxis12\": {\"anchor\": \"x12\", \"domain\": [0.2675, 0.465], \"gridcolor\": \"#E1E5ED\", \"showgrid\": false, \"tickfont\": {\"color\": \"#4D5663\"}, \"title\": {\"font\": {\"color\": \"#4D5663\"}, \"text\": \"\"}, \"zerolinecolor\": \"#E1E5ED\"}, \"yaxis13\": {\"anchor\": \"x13\", \"domain\": [0.0, 0.1975], \"gridcolor\": \"#E1E5ED\", \"showgrid\": false, \"tickfont\": {\"color\": \"#4D5663\"}, \"title\": {\"font\": {\"color\": \"#4D5663\"}, \"text\": \"\"}, \"zerolinecolor\": \"#E1E5ED\"}, \"yaxis14\": {\"anchor\": \"x14\", \"domain\": [0.0, 0.1975], \"gridcolor\": \"#E1E5ED\", \"showgrid\": false, \"tickfont\": {\"color\": \"#4D5663\"}, \"title\": {\"font\": {\"color\": \"#4D5663\"}, \"text\": \"\"}, \"zerolinecolor\": \"#E1E5ED\"}, \"yaxis15\": {\"anchor\": \"x15\", \"domain\": [0.0, 0.1975], \"gridcolor\": \"#E1E5ED\", \"showgrid\": false, \"tickfont\": {\"color\": \"#4D5663\"}, \"title\": {\"font\": {\"color\": \"#4D5663\"}, \"text\": \"\"}, \"zerolinecolor\": \"#E1E5ED\"}, \"yaxis16\": {\"anchor\": \"x16\", \"domain\": [0.0, 0.1975], \"gridcolor\": \"#E1E5ED\", \"showgrid\": false, \"tickfont\": {\"color\": \"#4D5663\"}, \"title\": {\"font\": {\"color\": \"#4D5663\"}, \"text\": \"\"}, \"zerolinecolor\": \"#E1E5ED\"}, \"yaxis2\": {\"anchor\": \"x2\", \"domain\": [0.8025, 1.0], \"gridcolor\": \"#E1E5ED\", \"showgrid\": false, \"tickfont\": {\"color\": \"#4D5663\"}, \"title\": {\"font\": {\"color\": \"#4D5663\"}, \"text\": \"\"}, \"zerolinecolor\": \"#E1E5ED\"}, \"yaxis3\": {\"anchor\": \"x3\", \"domain\": [0.8025, 1.0], \"gridcolor\": \"#E1E5ED\", \"showgrid\": false, \"tickfont\": {\"color\": \"#4D5663\"}, \"title\": {\"font\": {\"color\": \"#4D5663\"}, \"text\": \"\"}, \"zerolinecolor\": \"#E1E5ED\"}, \"yaxis4\": {\"anchor\": \"x4\", \"domain\": [0.8025, 1.0], \"gridcolor\": \"#E1E5ED\", \"showgrid\": false, \"tickfont\": {\"color\": \"#4D5663\"}, \"title\": {\"font\": {\"color\": \"#4D5663\"}, \"text\": \"\"}, \"zerolinecolor\": \"#E1E5ED\"}, \"yaxis5\": {\"anchor\": \"x5\", \"domain\": [0.535, 0.7325], \"gridcolor\": \"#E1E5ED\", \"showgrid\": false, \"tickfont\": {\"color\": \"#4D5663\"}, \"title\": {\"font\": {\"color\": \"#4D5663\"}, \"text\": \"\"}, \"zerolinecolor\": \"#E1E5ED\"}, \"yaxis6\": {\"anchor\": \"x6\", \"domain\": [0.535, 0.7325], \"gridcolor\": \"#E1E5ED\", \"showgrid\": false, \"tickfont\": {\"color\": \"#4D5663\"}, \"title\": {\"font\": {\"color\": \"#4D5663\"}, \"text\": \"\"}, \"zerolinecolor\": \"#E1E5ED\"}, \"yaxis7\": {\"anchor\": \"x7\", \"domain\": [0.535, 0.7325], \"gridcolor\": \"#E1E5ED\", \"showgrid\": false, \"tickfont\": {\"color\": \"#4D5663\"}, \"title\": {\"font\": {\"color\": \"#4D5663\"}, \"text\": \"\"}, \"zerolinecolor\": \"#E1E5ED\"}, \"yaxis8\": {\"anchor\": \"x8\", \"domain\": [0.535, 0.7325], \"gridcolor\": \"#E1E5ED\", \"showgrid\": false, \"tickfont\": {\"color\": \"#4D5663\"}, \"title\": {\"font\": {\"color\": \"#4D5663\"}, \"text\": \"\"}, \"zerolinecolor\": \"#E1E5ED\"}, \"yaxis9\": {\"anchor\": \"x9\", \"domain\": [0.2675, 0.465], \"gridcolor\": \"#E1E5ED\", \"showgrid\": false, \"tickfont\": {\"color\": \"#4D5663\"}, \"title\": {\"font\": {\"color\": \"#4D5663\"}, \"text\": \"\"}, \"zerolinecolor\": \"#E1E5ED\"}},                        {\"showLink\": true, \"linkText\": \"Export to plot.ly\", \"plotlyServerURL\": \"https://plot.ly\", \"responsive\": true}                    ).then(function(){\n",
       "                            \n",
       "var gd = document.getElementById('3fe6c43d-e380-4fad-8aea-fcf35b28736f');\n",
       "var x = new MutationObserver(function (mutations, observer) {{\n",
       "        var display = window.getComputedStyle(gd).display;\n",
       "        if (!display || display === 'none') {{\n",
       "            console.log([gd, 'removed!']);\n",
       "            Plotly.purge(gd);\n",
       "            observer.disconnect();\n",
       "        }}\n",
       "}});\n",
       "\n",
       "// Listen for the removal of the full notebook cells\n",
       "var notebookContainer = gd.closest('#notebook-container');\n",
       "if (notebookContainer) {{\n",
       "    x.observe(notebookContainer, {childList: true});\n",
       "}}\n",
       "\n",
       "// Listen for the clearing of the current output cell\n",
       "var outputEl = gd.closest('.output');\n",
       "if (outputEl) {{\n",
       "    x.observe(outputEl, {childList: true});\n",
       "}}\n",
       "\n",
       "                        })                };                });            </script>        </div>"
      ]
     },
     "metadata": {},
     "output_type": "display_data"
    }
   ],
   "source": [
    "df1.scatter_matrix()"
   ]
  }
 ],
 "metadata": {
  "kernelspec": {
   "display_name": "Python 3",
   "language": "python",
   "name": "python3"
  },
  "language_info": {
   "codemirror_mode": {
    "name": "ipython",
    "version": 3
   },
   "file_extension": ".py",
   "mimetype": "text/x-python",
   "name": "python",
   "nbconvert_exporter": "python",
   "pygments_lexer": "ipython3",
   "version": "3.8.1"
  }
 },
 "nbformat": 4,
 "nbformat_minor": 4
}
