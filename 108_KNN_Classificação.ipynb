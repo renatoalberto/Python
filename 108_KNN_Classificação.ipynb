{
 "cells": [
  {
   "cell_type": "markdown",
   "metadata": {},
   "source": [
    "### K-Nearest Neighbor(KNN) - Classificação\n",
    "\n",
    "Algorítimo de classificação baseado na quantidade majoritária de visinhos mais próximos."
   ]
  },
  {
   "cell_type": "markdown",
   "metadata": {},
   "source": [
    "### Conjunto de dados de sobrevivência de Haberman\n",
    "https://archive.ics.uci.edu/ml/datasets/Haberman%27s+Survival\n",
    "\n",
    "Conjunto de dados contendo casos de estudo realizado sobre a sobrevivência de pacientes que se submeteram a cirurgia para câncer de mama "
   ]
  },
  {
   "cell_type": "code",
   "execution_count": 1,
   "metadata": {},
   "outputs": [
    {
     "name": "stdout",
     "output_type": "stream",
     "text": [
      "Quantidade de amostras - 306\n",
      "Primeira amostra - [30, 64, 1, 1]\n"
     ]
    }
   ],
   "source": [
    "# leitura do arquivo haberman\n",
    "amostras = []\n",
    "\n",
    "with open('haberman.data', 'r') as f:\n",
    "    for linha in f.readlines():\n",
    "        atributos = linha.replace('\\n', '').split(',');\n",
    "\n",
    "        amostras.append([\n",
    "            int(atributos[0]),  # Idade do paciente no momento da operação\n",
    "            int(atributos[1]),  # Ano da operação\n",
    "            int(atributos[2]),  # Número de nódulos detectados\n",
    "            int(atributos[3])   # (1-Sobreviveu 5 anos ou mais; 2-Feleceu dentro de 5 anos)\n",
    "        ])\n",
    "\n",
    "print(f'Quantidade de amostras - {len(amostras)}')\n",
    "print(f'Primeira amostra - {amostras[0]}')"
   ]
  },
  {
   "cell_type": "code",
   "execution_count": 2,
   "metadata": {},
   "outputs": [
    {
     "name": "stdout",
     "output_type": "stream",
     "text": [
      "Quant que pacientes que sobreviveram 5 ou mais anos - 225\n",
      "Quant que pacientes que faleceram em até 5 anos     - 81\n"
     ]
    }
   ],
   "source": [
    "# Contando quantidade de amostras 1 ou 2\n",
    "from collections import Counter\n",
    "\n",
    "sobreviveu = Counter([registro[3] for registro in amostras])\n",
    "\n",
    "print(f'Quant que pacientes que sobreviveram 5 ou mais anos - {sobreviveu[1]}')\n",
    "print(f'Quant que pacientes que faleceram em até 5 anos     - {sobreviveu[2]}')"
   ]
  },
  {
   "cell_type": "code",
   "execution_count": 3,
   "metadata": {},
   "outputs": [],
   "source": [
    "# Separando amostras\n",
    "pacientes_sobrev = [registro for registro in amostras if registro[3] == 1]\n",
    "pacientes_falece = [registro for registro in amostras if registro[3] == 2]"
   ]
  },
  {
   "cell_type": "code",
   "execution_count": 4,
   "metadata": {},
   "outputs": [
    {
     "name": "stdout",
     "output_type": "stream",
     "text": [
      "183 para treino, 123 para teste\n"
     ]
    }
   ],
   "source": [
    "# Dividindo dados entre 60% para treino e 40% para teste\n",
    "treino, teste = [], []\n",
    "\n",
    "treino.extend(pacientes_sobrev[0 : int(len(pacientes_sobrev) * 0.6)])\n",
    "treino.extend(pacientes_falece[0 : int(len(pacientes_falece) * 0.6)])\n",
    "\n",
    "teste.extend(pacientes_sobrev[int(len(pacientes_sobrev) * 0.6) :])\n",
    "teste.extend(pacientes_falece[int(len(pacientes_falece) * 0.6) :])\n",
    "\n",
    "print(f'{len(treino)} para treino, {len(teste)} para teste')"
   ]
  },
  {
   "cell_type": "markdown",
   "metadata": {},
   "source": [
    "### Distância Euclidiana para determinar o vizinho mais próximo"
   ]
  },
  {
   "cell_type": "code",
   "execution_count": 22,
   "metadata": {},
   "outputs": [
    {
     "data": {
      "text/plain": [
       "1.4142135623730951"
      ]
     },
     "execution_count": 22,
     "metadata": {},
     "output_type": "execute_result"
    }
   ],
   "source": [
    "import math\n",
    "\n",
    "def dis_euclidiana(v1, v2):\n",
    "    dim, soma = len(v1), 0\n",
    "    \n",
    "    for i in range(dim - 1):\n",
    "        soma += math.pow(v1[i] - v2[i], 2)\n",
    "    \n",
    "    return math.sqrt(soma)\n",
    "\n",
    "# teste da função euclidiana\n",
    "v1 = [1, 2, 3]\n",
    "v2 = [2, 1, 5]\n",
    "dis_euclidiana(v1, v2) # 1.4142135623730951"
   ]
  },
  {
   "cell_type": "code",
   "execution_count": 6,
   "metadata": {},
   "outputs": [],
   "source": [
    "# Implementação da função KNN\n",
    "def knn(treinamento, nova_amostra, k):\n",
    "    dists = {}\n",
    "    \n",
    "    # Calcular a distância da nova amostra para todos\n",
    "    # as amostras de treinamento\n",
    "    for i in range(len(treinamento)):\n",
    "        d = dis_euclidiana(treinamento[i], nova_amostra)\n",
    "        dists[i] = d\n",
    "    \n",
    "    # Obtém indices dos k-vizinhos mais próximos\n",
    "    k_vizinhos = sorted(dists, key=dists.get)[:k]\n",
    "    \n",
    "    # Contágem de 'votos'\n",
    "    votacao = Counter([treinamento[indice][3] for indice in k_vizinhos])\n",
    "    \n",
    "    # Retorna o majoritário\n",
    "    return votacao.most_common(1)[0]"
   ]
  },
  {
   "cell_type": "code",
   "execution_count": 7,
   "metadata": {},
   "outputs": [
    {
     "name": "stdout",
     "output_type": "stream",
     "text": [
      "[55, 66, 0, 1]\n",
      "Vencedor 1 com 11 votos\n"
     ]
    }
   ],
   "source": [
    "# Avaliação com uma só amostra de teste\n",
    "print(teste[0])\n",
    "\n",
    "vencedor, quantidade_votos = knn(treino, teste[0], k=13)\n",
    "print(f'Vencedor {vencedor} com {quantidade_votos} votos')"
   ]
  },
  {
   "cell_type": "code",
   "execution_count": 8,
   "metadata": {},
   "outputs": [
    {
     "name": "stdout",
     "output_type": "stream",
     "text": [
      "Acurácia de 77.24%\n"
     ]
    }
   ],
   "source": [
    "# Avaliação com todos os testes e acurácia\n",
    "acertos = 0\n",
    "\n",
    "for i in range(len(teste)):\n",
    "    vencedor, quantidade_votos = knn(treino, teste[i], k=11)\n",
    "    acertos += 1 if teste[i][3] == vencedor else 0\n",
    "    # print(f'Correto {teste[i][3]} - Vencedor {vencedor} com {quantidade_votos} votos')\n",
    "    \n",
    "print('Acurácia de %.2f%%' % (acertos/len(teste)*100))"
   ]
  },
  {
   "cell_type": "markdown",
   "metadata": {},
   "source": [
    "## Implementação do KNN com Scikit-Learn\n",
    "https://scikit-learn.org/stable/modules/generated/sklearn.neighbors.KNeighborsClassifier.html#sklearn.neighbors.KNeighborsClassifier"
   ]
  },
  {
   "cell_type": "code",
   "execution_count": 9,
   "metadata": {},
   "outputs": [],
   "source": [
    "from sklearn.neighbors import KNeighborsClassifier\n",
    "\n",
    "# p=1 - Distância Manhatan\n",
    "# p=2 - Distância Euclidiana *default\n",
    "knn = KNeighborsClassifier(n_neighbors=11, p=2)"
   ]
  },
  {
   "cell_type": "code",
   "execution_count": 10,
   "metadata": {},
   "outputs": [],
   "source": [
    "# Separando dados de treino e teste\n",
    "# entradas- idade e número de nódulos\n",
    "# saidas  - 1-Sobreviveu 5 anos ou mais; 2-Feleceu dentro de 5 anos\n",
    "entradas_treino = [[registro[0], registro[2]] for registro in treino]\n",
    "saidas_treino   = [registro[3] for registro in treino]\n",
    "\n",
    "entradas_teste  = [[registro[0], registro[2]] for registro in teste]\n",
    "saidas_teste    = [registro[3] for registro in teste]"
   ]
  },
  {
   "cell_type": "code",
   "execution_count": 11,
   "metadata": {},
   "outputs": [
    {
     "data": {
      "text/plain": [
       "KNeighborsClassifier(algorithm='auto', leaf_size=30, metric='minkowski',\n",
       "                     metric_params=None, n_jobs=None, n_neighbors=11, p=2,\n",
       "                     weights='uniform')"
      ]
     },
     "execution_count": 11,
     "metadata": {},
     "output_type": "execute_result"
    }
   ],
   "source": [
    "# Treinando o knn\n",
    "knn.fit(entradas_treino, saidas_treino)"
   ]
  },
  {
   "cell_type": "code",
   "execution_count": 12,
   "metadata": {},
   "outputs": [],
   "source": [
    "# Testando o knn\n",
    "previsoes = knn.predict(entradas_teste)"
   ]
  },
  {
   "cell_type": "code",
   "execution_count": 13,
   "metadata": {},
   "outputs": [
    {
     "name": "stdout",
     "output_type": "stream",
     "text": [
      "Acurácia de 74.80%\n"
     ]
    }
   ],
   "source": [
    "# Avaliação com todos os testes e acurácia\n",
    "acertos = 0\n",
    "\n",
    "for i in range(len(entradas_teste)):\n",
    "    acertos += 1 if previsoes[i] == saidas_teste[i] else 0\n",
    "    \n",
    "print('Acurácia de %.2f%%' % (acertos/len(teste)*100))"
   ]
  },
  {
   "cell_type": "markdown",
   "metadata": {},
   "source": [
    "## Implementação do kNN com Numpy e sklearn"
   ]
  },
  {
   "cell_type": "markdown",
   "metadata": {},
   "source": [
    "### Utilizando o Balance Scale Data Set\n",
    "Este conjunto de dados foi gerado para modelar resultados experimentais psicológicos. Cada exemplo é classificado como tendo a escala de equilíbrio inclinada para a direita, ponta para a esquerda ou balanceada. Os atributos são o peso esquerdo, a distância esquerda, o peso certo e a distância certa. A maneira correta de encontrar a classe é a maior entre (distância à esquerda * peso à esquerda) e (distância à direita * peso à direita). Se eles forem iguais, está equilibrado. \n",
    "\n",
    "#### Attribute Information:\n",
    "\n",
    "1. Class Name: 3 (L, B, R)\n",
    "2. Left-Weight: 5 (1, 2, 3, 4, 5)\n",
    "3. Left-Distance: 5 (1, 2, 3, 4, 5)\n",
    "4. Right-Weight: 5 (1, 2, 3, 4, 5)\n",
    "5. Right-Distance: 5 (1, 2, 3, 4, 5)\n",
    "\n",
    "625 amostras"
   ]
  },
  {
   "cell_type": "code",
   "execution_count": 14,
   "metadata": {},
   "outputs": [
    {
     "name": "stdout",
     "output_type": "stream",
     "text": [
      "Quantidade de amostras - 625\n",
      "Primeira amostra - [1, 1, 1, 1] - 2\n"
     ]
    }
   ],
   "source": [
    "# leitura do arquivo Balance Scale Data Set\n",
    "entradas = []\n",
    "saidas   = []\n",
    "\n",
    "with open('balance-scale.data', 'r') as f:\n",
    "    for linha in f.readlines():\n",
    "        atributos = linha.replace('\\n', '').split(',');\n",
    "\n",
    "        entradas.append([\n",
    "            int(atributos[1]),  # peso esquerdo\n",
    "            int(atributos[2]),  # distância esquerda\n",
    "            int(atributos[3]),  # peso direto\n",
    "            int(atributos[4])   # distância direto\n",
    "        ])\n",
    "        \n",
    "        if   atributos[0] == 'L': # L-esquerda\n",
    "            saidas.append(1)\n",
    "        elif atributos[0] == 'B': # B-balanceado\n",
    "            saidas.append(2)\n",
    "        elif atributos[0] == 'R': # R-direita\n",
    "            saidas.append(3)\n",
    "\n",
    "print(f'Quantidade de amostras - {len(entradas)}')\n",
    "print(f'Primeira amostra - {entradas[0]} - {saidas[0]}')"
   ]
  },
  {
   "cell_type": "code",
   "execution_count": 15,
   "metadata": {},
   "outputs": [],
   "source": [
    "# Convertendo para array numpy\n",
    "import numpy as np\n",
    "\n",
    "X = np.array(entradas)\n",
    "y = np.array(saidas)"
   ]
  },
  {
   "cell_type": "code",
   "execution_count": 16,
   "metadata": {},
   "outputs": [
    {
     "name": "stdout",
     "output_type": "stream",
     "text": [
      "Quantidade de dados para treino - 437\n",
      "Quantidade de dados para teste  - 188\n"
     ]
    }
   ],
   "source": [
    "# Dividindo em dados de treino e teste com train_test_split\n",
    "# https://scikit-learn.org/stable/modules/generated/sklearn.model_selection.train_test_split.html?highlight=train_test_split#sklearn.model_selection.train_test_split\n",
    "from sklearn.model_selection import train_test_split\n",
    "\n",
    "X_train, X_test, y_train, y_test = train_test_split(X, y, test_size=0.3, random_state=42)\n",
    "\n",
    "print(f'Quantidade de dados para treino - {len(X_train)}')\n",
    "print(f'Quantidade de dados para teste  - {len(X_test)}')"
   ]
  },
  {
   "cell_type": "code",
   "execution_count": 17,
   "metadata": {},
   "outputs": [
    {
     "data": {
      "text/plain": [
       "KNeighborsClassifier(algorithm='auto', leaf_size=30, metric='minkowski',\n",
       "                     metric_params=None, n_jobs=None, n_neighbors=17, p=2,\n",
       "                     weights='uniform')"
      ]
     },
     "execution_count": 17,
     "metadata": {},
     "output_type": "execute_result"
    }
   ],
   "source": [
    "# Configurando e treinando o knn\n",
    "knn = KNeighborsClassifier(n_neighbors=17, p=2)\n",
    "knn.fit(X_train, y_train)"
   ]
  },
  {
   "cell_type": "code",
   "execution_count": 18,
   "metadata": {},
   "outputs": [],
   "source": [
    "# Executando o previsão\n",
    "previsao = knn.predict(X_test)"
   ]
  },
  {
   "cell_type": "markdown",
   "metadata": {},
   "source": [
    "#### Modos de Avaliação de Acurária"
   ]
  },
  {
   "cell_type": "code",
   "execution_count": 19,
   "metadata": {},
   "outputs": [
    {
     "name": "stdout",
     "output_type": "stream",
     "text": [
      "Acurácia de 86.70%\n"
     ]
    }
   ],
   "source": [
    "# Avaliando a acurácia com metrics\n",
    "from sklearn import metrics\n",
    "\n",
    "acertos_knn = metrics.accuracy_score(y_test, previsao)\n",
    "\n",
    "print('Acurácia de %.2f%%' % (acertos_knn*100))"
   ]
  },
  {
   "cell_type": "code",
   "execution_count": 28,
   "metadata": {},
   "outputs": [
    {
     "name": "stdout",
     "output_type": "stream",
     "text": [
      "Acurácia de 86.70%\n",
      "Acurácia de 86.70%\n"
     ]
    }
   ],
   "source": [
    "# Avaliando a acurácia com sum do numpy\n",
    "\n",
    "print('Acurácia de %.2f%%' % (np.sum(y_test == previsao) / len(y_test) *100))\n",
    "print('Acurácia de %.2f%%' % ((y_test == previsao).sum() / len(y_test) *100))"
   ]
  },
  {
   "cell_type": "code",
   "execution_count": 31,
   "metadata": {},
   "outputs": [
    {
     "name": "stdout",
     "output_type": "stream",
     "text": [
      "Acurácia de 86.70%\n"
     ]
    }
   ],
   "source": [
    "# Avaliando a acurácia com mean do numpy\n",
    "\n",
    "print('Acurácia de %.2f%%' % (np.mean(y_test == previsao)*100))"
   ]
  },
  {
   "cell_type": "code",
   "execution_count": 32,
   "metadata": {},
   "outputs": [
    {
     "name": "stdout",
     "output_type": "stream",
     "text": [
      "Acurácia de 86.70%\n"
     ]
    }
   ],
   "source": [
    "# Avaliação do score pelo próprio knn\n",
    "print('Acurácia de %.2f%%' % (knn.score(X_test, y_test)*100))"
   ]
  },
  {
   "cell_type": "markdown",
   "metadata": {},
   "source": [
    "### Arquivo Senior/Fourth\n",
    "Dado o tamanho do calsado e altura, decidir se é sênio ou fourth"
   ]
  },
  {
   "cell_type": "code",
   "execution_count": 34,
   "metadata": {},
   "outputs": [],
   "source": [
    "import pandas as pd \n",
    "\n",
    "train_senior_fourth = pd.read_csv('train_senior_fourth.csv')\n",
    "test_senior_fourth  = pd.read_csv('test_senior_fourth.csv')"
   ]
  },
  {
   "cell_type": "code",
   "execution_count": 48,
   "metadata": {},
   "outputs": [
    {
     "data": {
      "text/html": [
       "<div>\n",
       "<style scoped>\n",
       "    .dataframe tbody tr th:only-of-type {\n",
       "        vertical-align: middle;\n",
       "    }\n",
       "\n",
       "    .dataframe tbody tr th {\n",
       "        vertical-align: top;\n",
       "    }\n",
       "\n",
       "    .dataframe thead th {\n",
       "        text-align: right;\n",
       "    }\n",
       "</style>\n",
       "<table border=\"1\" class=\"dataframe\">\n",
       "  <thead>\n",
       "    <tr style=\"text-align: right;\">\n",
       "      <th></th>\n",
       "      <th>shoe size</th>\n",
       "      <th>height</th>\n",
       "      <th>class</th>\n",
       "    </tr>\n",
       "  </thead>\n",
       "  <tbody>\n",
       "    <tr>\n",
       "      <th>0</th>\n",
       "      <td>12.985509</td>\n",
       "      <td>66.632266</td>\n",
       "      <td>seniors</td>\n",
       "    </tr>\n",
       "    <tr>\n",
       "      <th>1</th>\n",
       "      <td>9.957683</td>\n",
       "      <td>70.057887</td>\n",
       "      <td>seniors</td>\n",
       "    </tr>\n",
       "    <tr>\n",
       "      <th>2</th>\n",
       "      <td>10.366656</td>\n",
       "      <td>67.945519</td>\n",
       "      <td>seniors</td>\n",
       "    </tr>\n",
       "    <tr>\n",
       "      <th>3</th>\n",
       "      <td>10.484072</td>\n",
       "      <td>74.846184</td>\n",
       "      <td>seniors</td>\n",
       "    </tr>\n",
       "    <tr>\n",
       "      <th>4</th>\n",
       "      <td>10.273374</td>\n",
       "      <td>66.690172</td>\n",
       "      <td>seniors</td>\n",
       "    </tr>\n",
       "  </tbody>\n",
       "</table>\n",
       "</div>"
      ],
      "text/plain": [
       "   shoe size     height    class\n",
       "0  12.985509  66.632266  seniors\n",
       "1   9.957683  70.057887  seniors\n",
       "2  10.366656  67.945519  seniors\n",
       "3  10.484072  74.846184  seniors\n",
       "4  10.273374  66.690172  seniors"
      ]
     },
     "execution_count": 48,
     "metadata": {},
     "output_type": "execute_result"
    }
   ],
   "source": [
    "test_senior_fourth.head()"
   ]
  },
  {
   "cell_type": "code",
   "execution_count": 85,
   "metadata": {},
   "outputs": [],
   "source": [
    "# Separando Entradas e Saidas, transformando pandas p/ numpy\n",
    "col_entradas = ['shoe size', 'height']\n",
    "col_saida    = ['class']\n",
    "\n",
    "x_train_senior_fourth  = train_senior_fourth[col_entradas].to_numpy()\n",
    "y_train_senior_fourth  = train_senior_fourth[col_saida].to_numpy()\n",
    "\n",
    "x_test_senior_fourth   = test_senior_fourth[col_entradas].to_numpy()\n",
    "y_test_senior_fourth   = test_senior_fourth[col_saida].to_numpy()"
   ]
  },
  {
   "cell_type": "code",
   "execution_count": 86,
   "metadata": {},
   "outputs": [
    {
     "data": {
      "text/plain": [
       "KNeighborsClassifier(algorithm='auto', leaf_size=30, metric='minkowski',\n",
       "                     metric_params=None, n_jobs=None, n_neighbors=3, p=2,\n",
       "                     weights='distance')"
      ]
     },
     "execution_count": 86,
     "metadata": {},
     "output_type": "execute_result"
    }
   ],
   "source": [
    "# Confirgurando o knn\n",
    "# Parâmetro weights, \n",
    "#    - uniforme, *padrão, todos os pontos são ponderados igualmente\n",
    "#    - distance, pontos mais próximos terão uma influencia mais que os mais distantes\n",
    "knn = KNeighborsClassifier(n_neighbors=3, weights='distance')\n",
    "\n",
    "knn.fit(x_train_senior_fourth, y_train_senior_fourth.ravel())"
   ]
  },
  {
   "cell_type": "code",
   "execution_count": 87,
   "metadata": {},
   "outputs": [
    {
     "name": "stdout",
     "output_type": "stream",
     "text": [
      "Acurácia de 99.33%\n"
     ]
    }
   ],
   "source": [
    "previsao = knn.predict(x_test_senior_fourth)\n",
    "\n",
    "acertos_knn = metrics.accuracy_score(y_test_senior_fourth, previsao)\n",
    "\n",
    "print('Acurácia de %.2f%%' % (acertos_knn*100))"
   ]
  },
  {
   "cell_type": "code",
   "execution_count": null,
   "metadata": {},
   "outputs": [],
   "source": []
  }
 ],
 "metadata": {
  "kernelspec": {
   "display_name": "Python 3",
   "language": "python",
   "name": "python3"
  },
  "language_info": {
   "codemirror_mode": {
    "name": "ipython",
    "version": 3
   },
   "file_extension": ".py",
   "mimetype": "text/x-python",
   "name": "python",
   "nbconvert_exporter": "python",
   "pygments_lexer": "ipython3",
   "version": "3.8.1"
  }
 },
 "nbformat": 4,
 "nbformat_minor": 4
}
